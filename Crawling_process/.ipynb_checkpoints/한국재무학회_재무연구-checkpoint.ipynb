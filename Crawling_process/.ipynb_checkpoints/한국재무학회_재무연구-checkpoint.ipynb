{
 "cells": [
  {
   "cell_type": "code",
   "execution_count": 4,
   "metadata": {
    "collapsed": true
   },
   "outputs": [],
   "source": [
    "from selenium import webdriver\n",
    "import time\n",
    "import re\n",
    "from IPython.display import display , Markdown"
   ]
  },
  {
   "cell_type": "code",
   "execution_count": 11,
   "metadata": {},
   "outputs": [],
   "source": [
    "driver = webdriver.Chrome()\n",
    "driver.get('http://www.korfin.org/sub04/sub0401.asp?journal=1')"
   ]
  },
  {
   "cell_type": "code",
   "execution_count": 31,
   "metadata": {},
   "outputs": [],
   "source": [
    "error_ls = []\n",
    "driver = webdriver.Chrome()\n",
    "for year in range(2,18+1):\n",
    "    driver.get('http://www.korfin.org/sub04/sub0401.asp?journal=1')\n",
    "    driver.find_element_by_css_selector('#sYear').click()\n",
    "    driver.find_element_by_css_selector('#sYear > option:nth-child({})'.format(year)).click()\n",
    "    driver.find_element_by_css_selector('#container > div.sub_contents > div > div.thesis > div.search > form > p.input > span.input > input.btnsearch').click()\n",
    "    for i in range(1,12+1):\n",
    "        driver.execute_script(\"window.scrollTo(200, {});\".format(i*100))\n",
    "        time.sleep(1)\n",
    "        try : driver.find_element_by_css_selector('#container > div.sub_contents > div > div.thesis > ul > li:nth-child({}) > p.download > button'.format(i)).click()\n",
    "        except : error_ls.append((2020-year,i))"
   ]
  },
  {
   "cell_type": "code",
   "execution_count": 32,
   "metadata": {},
   "outputs": [
    {
     "data": {
      "text/plain": [
       "[(2018, 6),\n",
       " (2018, 7),\n",
       " (2016, 6),\n",
       " (2016, 7),\n",
       " (2016, 8),\n",
       " (2015, 5),\n",
       " (2015, 6),\n",
       " (2014, 6),\n",
       " (2013, 6),\n",
       " (2012, 6),\n",
       " (2012, 7),\n",
       " (2011, 5),\n",
       " (2011, 6),\n",
       " (2011, 7),\n",
       " (2011, 8),\n",
       " (2010, 5),\n",
       " (2010, 6),\n",
       " (2009, 6),\n",
       " (2008, 6),\n",
       " (2008, 7),\n",
       " (2007, 6),\n",
       " (2007, 7),\n",
       " (2006, 6),\n",
       " (2005, 5),\n",
       " (2005, 6),\n",
       " (2004, 5),\n",
       " (2003, 6),\n",
       " (2002, 6)]"
      ]
     },
     "execution_count": 32,
     "metadata": {},
     "output_type": "execute_result"
    }
   ],
   "source": [
    "error_ls"
   ]
  },
  {
   "cell_type": "code",
   "execution_count": 37,
   "metadata": {
    "collapsed": true
   },
   "outputs": [],
   "source": [
    "import os"
   ]
  },
  {
   "cell_type": "code",
   "execution_count": 47,
   "metadata": {},
   "outputs": [
    {
     "data": {
      "text/plain": [
       "204"
      ]
     },
     "execution_count": 47,
     "metadata": {},
     "output_type": "execute_result"
    }
   ],
   "source": [
    "len([i for i in os.listdir('/home/hskimim/Downloads/') if 'pdf' in i])"
   ]
  },
  {
   "cell_type": "code",
   "execution_count": 48,
   "metadata": {},
   "outputs": [
    {
     "data": {
      "text/plain": [
       "12.0"
      ]
     },
     "execution_count": 48,
     "metadata": {},
     "output_type": "execute_result"
    }
   ],
   "source": [
    "204/17"
   ]
  }
 ],
 "metadata": {
  "kernelspec": {
   "display_name": "Python 3",
   "language": "python",
   "name": "python3"
  },
  "language_info": {
   "codemirror_mode": {
    "name": "ipython",
    "version": 3
   },
   "file_extension": ".py",
   "mimetype": "text/x-python",
   "name": "python",
   "nbconvert_exporter": "python",
   "pygments_lexer": "ipython3",
   "version": "3.6.3"
  }
 },
 "nbformat": 4,
 "nbformat_minor": 2
}
