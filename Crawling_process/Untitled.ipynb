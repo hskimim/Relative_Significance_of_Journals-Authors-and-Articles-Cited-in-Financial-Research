{
 "cells": [
  {
   "cell_type": "code",
   "execution_count": 152,
   "metadata": {
    "collapsed": true
   },
   "outputs": [],
   "source": [
    "from selenium import webdriver\n",
    "import time"
   ]
  },
  {
   "cell_type": "code",
   "execution_count": 2,
   "metadata": {
    "scrolled": true
   },
   "outputs": [],
   "source": [
    "driver = webdriver.Chrome()\n",
    "driver.get('https://www.kci.go.kr/kciportal/main.kci')"
   ]
  },
  {
   "cell_type": "code",
   "execution_count": 6,
   "metadata": {
    "collapsed": true
   },
   "outputs": [],
   "source": [
    "driver.close()"
   ]
  },
  {
   "cell_type": "code",
   "execution_count": 3,
   "metadata": {},
   "outputs": [],
   "source": [
    "driver.find_element_by_css_selector('#userID').send_keys('jmanchung')\n",
    "driver.find_element_by_css_selector('#userPW').send_keys('j24301840184')\n",
    "time.sleep(1)\n",
    "driver.find_element_by_css_selector('#loginArea01 > button').click()"
   ]
  },
  {
   "cell_type": "code",
   "execution_count": 6,
   "metadata": {
    "collapsed": true
   },
   "outputs": [],
   "source": [
    "driver.find_element_by_css_selector('#gnbs > ul > li:nth-child(2) > a').click()\n",
    "time.sleep(1)\n",
    "driver.find_element_by_css_selector('#tabMenu > li:nth-child(3) > a > img').click()"
   ]
  },
  {
   "cell_type": "markdown",
   "metadata": {},
   "source": [
    "발행기관명은 직접 쓰기"
   ]
  },
  {
   "cell_type": "code",
   "execution_count": 153,
   "metadata": {
    "collapsed": true
   },
   "outputs": [],
   "source": [
    "url_ls_2018 = []\n",
    "url_ls_2017 = []\n",
    "url_ls_2016 = []\n",
    "url_ls_2015 = []\n",
    "url_ls_2014 = []\n",
    "url_ls_2013 = []\n",
    "url_ls_2012 = []\n",
    "url_ls_2011 = []\n",
    "url_ls_2010 = []\n",
    "url_ls_2009 = []\n",
    "url_ls_2008 = []\n",
    "url_ls_2007 = []\n",
    "url_ls_2006 = []"
   ]
  },
  {
   "cell_type": "code",
   "execution_count": 122,
   "metadata": {},
   "outputs": [
    {
     "data": {
      "text/plain": [
       "31"
      ]
     },
     "execution_count": 122,
     "metadata": {},
     "output_type": "execute_result"
    }
   ],
   "source": [
    "for book in range(1,10):\n",
    "            try : \n",
    "                url_ls_2013.append(driver.find_element_by_css_selector\\\n",
    "('#sBody > div.table_wrap > table > tbody > tr:nth-child({}) > td.al_left > a'.format(book)).get_attribute('href'))\n",
    "            except : pass\n",
    "len(url_ls_2013)"
   ]
  },
  {
   "cell_type": "code",
   "execution_count": 125,
   "metadata": {
    "collapsed": true
   },
   "outputs": [],
   "source": [
    "driver.close()"
   ]
  },
  {
   "cell_type": "code",
   "execution_count": 126,
   "metadata": {
    "collapsed": true
   },
   "outputs": [],
   "source": [
    "url = url_ls_2013[0]\n",
    "driver = webdriver.Chrome()\n",
    "driver.get(url)"
   ]
  },
  {
   "cell_type": "code",
   "execution_count": 149,
   "metadata": {
    "collapsed": true
   },
   "outputs": [],
   "source": [
    "driver.close()"
   ]
  },
  {
   "cell_type": "code",
   "execution_count": 150,
   "metadata": {
    "collapsed": true
   },
   "outputs": [],
   "source": [
    "driver = webdriver.Chrome()\n",
    "error_ls = []\n",
    "\n",
    "for url in url_ls_2018 : \n",
    "    driver.get(url)\n",
    "    time.sleep(1)\n",
    "    if '다운로드' in driver.find_element_by_css_selector\\\n",
    "    ('#sBody > div > div.articleRight > div.tools > p:nth-child(2) > a ').text : \n",
    "        driver.find_element_by_css_selector\\\n",
    "        ('#sBody > div > div.articleRight > div.tools > p:nth-child(2) > a > img').click()\n",
    "    \n",
    "    else : error_ls.append(url)\n",
    "driver.close()"
   ]
  }
 ],
 "metadata": {
  "kernelspec": {
   "display_name": "Python 3",
   "language": "python",
   "name": "python3"
  },
  "language_info": {
   "codemirror_mode": {
    "name": "ipython",
    "version": 3
   },
   "file_extension": ".py",
   "mimetype": "text/x-python",
   "name": "python",
   "nbconvert_exporter": "python",
   "pygments_lexer": "ipython3",
   "version": "3.6.3"
  }
 },
 "nbformat": 4,
 "nbformat_minor": 2
}
