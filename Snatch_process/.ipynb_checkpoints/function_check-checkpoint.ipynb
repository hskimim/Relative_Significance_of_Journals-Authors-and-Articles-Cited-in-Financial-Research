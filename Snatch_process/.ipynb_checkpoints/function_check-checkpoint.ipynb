{
 "cells": [
  {
   "cell_type": "code",
   "execution_count": 5,
   "metadata": {
    "collapsed": true
   },
   "outputs": [],
   "source": [
    "import derrick_pkg as sik\n",
    "import numpy as np\n",
    "import pandas as pd\n",
    "import os\n",
    "import re"
   ]
  },
  {
   "cell_type": "code",
   "execution_count": 8,
   "metadata": {},
   "outputs": [
    {
     "data": {
      "text/plain": [
       "1110"
      ]
     },
     "execution_count": 8,
     "metadata": {},
     "output_type": "execute_result"
    }
   ],
   "source": [
    "df1 = list(pd.read_csv('fail_to_make_ref.csv')['fail_to_make_ref'].values)\n",
    "failure_list = list(pd.read_csv('failure_pdf_name.csv')['failure_pdf_name'].values)\n",
    "\n",
    "file_path1 = ['../paper_list/' +str(file) for file in os.listdir('../paper_list/') if '.pdf' in file ]\n",
    "file_path1 = [file for file in file_path1 if file not in failure_list] \n",
    "file_path1 = [file for file in file_path1 if file not in df1]\n",
    "\n",
    "file_path2 = ['../failure_paper_list/' +str(file) for file in os.listdir('../failure_paper_list/') if '.txt' in file ]\n",
    "file_path2 = [file for file in file_path2 if file not in failure_list] \n",
    "file_path2 = [file for file in file_path2 if file not in df1]\n",
    "\n",
    "file_path = file_path1 + file_path2\n",
    "len(file_path)"
   ]
  },
  {
   "cell_type": "code",
   "execution_count": 9,
   "metadata": {},
   "outputs": [
    {
     "data": {
      "text/plain": [
       "['../paper_list/aa55ff6f_2-3.Lame Duck Presidency and Stock Returns.pdf',\n",
       " '../paper_list/vol29_no4_495.pdf',\n",
       " '../paper_list/84910a66_9-1.Does Corporate Board Diversity Affect Corporate Payout Policy.pdf',\n",
       " '../paper_list/da532db8_20-3_파생계약부 소득연계대출의 역사.pdf',\n",
       " '../paper_list/189dece0_2012_FullPaper30_양철원.pdf']"
      ]
     },
     "execution_count": 9,
     "metadata": {},
     "output_type": "execute_result"
    }
   ],
   "source": [
    "file_path[:5]"
   ]
  },
  {
   "cell_type": "code",
   "execution_count": 11,
   "metadata": {},
   "outputs": [
    {
     "data": {
      "text/html": [
       "<div>\n",
       "<style>\n",
       "    .dataframe thead tr:only-child th {\n",
       "        text-align: right;\n",
       "    }\n",
       "\n",
       "    .dataframe thead th {\n",
       "        text-align: left;\n",
       "    }\n",
       "\n",
       "    .dataframe tbody tr th {\n",
       "        vertical-align: top;\n",
       "    }\n",
       "</style>\n",
       "<table border=\"1\" class=\"dataframe\">\n",
       "  <thead>\n",
       "    <tr style=\"text-align: right;\">\n",
       "      <th></th>\n",
       "      <th>paper_name_infor</th>\n",
       "      <th>institution_infor</th>\n",
       "      <th>author_infor</th>\n",
       "      <th>journal_infor</th>\n",
       "      <th>dont_know_infor</th>\n",
       "      <th>page_infor</th>\n",
       "      <th>year_infor</th>\n",
       "      <th>field_infor</th>\n",
       "      <th>cited_infor</th>\n",
       "      <th>char_refer</th>\n",
       "      <th>degree_refer</th>\n",
       "      <th>journal_refer</th>\n",
       "      <th>name_refer</th>\n",
       "      <th>paper_refer</th>\n",
       "      <th>school_refer</th>\n",
       "      <th>year_refer</th>\n",
       "    </tr>\n",
       "  </thead>\n",
       "  <tbody>\n",
       "    <tr>\n",
       "      <th>29246</th>\n",
       "      <td>Implied Cost of Equity Capital in Earnings-Bas...</td>\n",
       "      <td>한국증권학회</td>\n",
       "      <td>Sung Yoon Ahn , Seung Min Cha , Young Woo Ko 외...</td>\n",
       "      <td>Asia-Pacific Journal of Financial Studies</td>\n",
       "      <td>37(4)</td>\n",
       "      <td>pp.599~626</td>\n",
       "      <td>2008.08</td>\n",
       "      <td>경영학</td>\n",
       "      <td>피인용횟수 : 24</td>\n",
       "      <td>[기타자료]</td>\n",
       "      <td>NaN</td>\n",
       "      <td>Working paper,</td>\n",
       "      <td>Hwang, L</td>\n",
       "      <td>Korean evidence on the implied cost of equity,</td>\n",
       "      <td>NaN</td>\n",
       "      <td>2007.0</td>\n",
       "    </tr>\n",
       "    <tr>\n",
       "      <th>29247</th>\n",
       "      <td>Implied Cost of Equity Capital in Earnings-Bas...</td>\n",
       "      <td>한국증권학회</td>\n",
       "      <td>Sung Yoon Ahn , Seung Min Cha , Young Woo Ko 외...</td>\n",
       "      <td>Asia-Pacific Journal of Financial Studies</td>\n",
       "      <td>37(4)</td>\n",
       "      <td>pp.599~626</td>\n",
       "      <td>2008.08</td>\n",
       "      <td>경영학</td>\n",
       "      <td>피인용횟수 : 24</td>\n",
       "      <td>[기타자료]</td>\n",
       "      <td>NaN</td>\n",
       "      <td>Working paper,</td>\n",
       "      <td>Jorgensen, B</td>\n",
       "      <td>The valuation accuracy of equity value estimat...</td>\n",
       "      <td>NaN</td>\n",
       "      <td>2007.0</td>\n",
       "    </tr>\n",
       "    <tr>\n",
       "      <th>29248</th>\n",
       "      <td>Pricing Catastrophe Derivatives Using A Recurs...</td>\n",
       "      <td>한국증권학회</td>\n",
       "      <td>Yu-Hong Liu , Mao-Wei Hung , I-Ming Jiang 외 1명</td>\n",
       "      <td>Asia-Pacific Journal of Financial Studies</td>\n",
       "      <td>37(4)</td>\n",
       "      <td>pp.569~598</td>\n",
       "      <td>2008.08</td>\n",
       "      <td>경영학</td>\n",
       "      <td>피인용횟수 : 0</td>\n",
       "      <td>[기타자료]</td>\n",
       "      <td>NaN</td>\n",
       "      <td>Working Papers),</td>\n",
       "      <td>Cummins, J. D</td>\n",
       "      <td>An Asian option approach to the valuation of i...</td>\n",
       "      <td>NaN</td>\n",
       "      <td>1993.0</td>\n",
       "    </tr>\n",
       "    <tr>\n",
       "      <th>29249</th>\n",
       "      <td>Model Selection for Estimating Portfolio VaR i...</td>\n",
       "      <td>한국증권학회</td>\n",
       "      <td>이상진 , 빈기범</td>\n",
       "      <td>Asia-Pacific Journal of Financial Studies</td>\n",
       "      <td>37(5)</td>\n",
       "      <td>pp.877~912</td>\n",
       "      <td>2008.10</td>\n",
       "      <td>경영학</td>\n",
       "      <td>피인용횟수 : 10</td>\n",
       "      <td>[기타자료]</td>\n",
       "      <td>NaN</td>\n",
       "      <td>Board of Governors of the Federal Reserve System,</td>\n",
       "      <td>Campbell, Sean D</td>\n",
       "      <td>A Review of Backtesting and Backtesting Proced...</td>\n",
       "      <td>NaN</td>\n",
       "      <td>2005.0</td>\n",
       "    </tr>\n",
       "    <tr>\n",
       "      <th>29250</th>\n",
       "      <td>How Does Prior Information Affect Analyst Fore...</td>\n",
       "      <td>한국증권학회</td>\n",
       "      <td>송민섭</td>\n",
       "      <td>Asia-Pacific Journal of Financial Studies</td>\n",
       "      <td>37(6)</td>\n",
       "      <td>pp.1133~1160</td>\n",
       "      <td>2008.12</td>\n",
       "      <td>경영학</td>\n",
       "      <td>피인용횟수 : 3</td>\n",
       "      <td>[기타자료]</td>\n",
       "      <td>NaN</td>\n",
       "      <td>Working Paper,</td>\n",
       "      <td>Lee, Jung-Hee</td>\n",
       "      <td>Market Reactions to Business Group Analysts’ I...</td>\n",
       "      <td>NaN</td>\n",
       "      <td>2007.0</td>\n",
       "    </tr>\n",
       "  </tbody>\n",
       "</table>\n",
       "</div>"
      ],
      "text/plain": [
       "                                        paper_name_infor institution_infor  \\\n",
       "29246  Implied Cost of Equity Capital in Earnings-Bas...           한국증권학회    \n",
       "29247  Implied Cost of Equity Capital in Earnings-Bas...           한국증권학회    \n",
       "29248  Pricing Catastrophe Derivatives Using A Recurs...           한국증권학회    \n",
       "29249  Model Selection for Estimating Portfolio VaR i...           한국증권학회    \n",
       "29250  How Does Prior Information Affect Analyst Fore...           한국증권학회    \n",
       "\n",
       "                                            author_infor  \\\n",
       "29246  Sung Yoon Ahn , Seung Min Cha , Young Woo Ko 외...   \n",
       "29247  Sung Yoon Ahn , Seung Min Cha , Young Woo Ko 외...   \n",
       "29248    Yu-Hong Liu , Mao-Wei Hung , I-Ming Jiang 외 1명    \n",
       "29249                                         이상진 , 빈기범    \n",
       "29250                                               송민섭    \n",
       "\n",
       "                                     journal_infor dont_know_infor  \\\n",
       "29246   Asia-Pacific Journal of Financial Studies           37(4)    \n",
       "29247   Asia-Pacific Journal of Financial Studies           37(4)    \n",
       "29248   Asia-Pacific Journal of Financial Studies           37(4)    \n",
       "29249   Asia-Pacific Journal of Financial Studies           37(5)    \n",
       "29250   Asia-Pacific Journal of Financial Studies           37(6)    \n",
       "\n",
       "           page_infor  year_infor field_infor cited_infor char_refer  \\\n",
       "29246     pp.599~626      2008.08         경영학  피인용횟수 : 24     [기타자료]   \n",
       "29247     pp.599~626      2008.08         경영학  피인용횟수 : 24     [기타자료]   \n",
       "29248     pp.569~598      2008.08         경영학   피인용횟수 : 0     [기타자료]   \n",
       "29249     pp.877~912      2008.10         경영학  피인용횟수 : 10     [기타자료]   \n",
       "29250   pp.1133~1160      2008.12         경영학   피인용횟수 : 3     [기타자료]   \n",
       "\n",
       "      degree_refer                                      journal_refer  \\\n",
       "29246          NaN                                     Working paper,   \n",
       "29247          NaN                                     Working paper,   \n",
       "29248          NaN                                   Working Papers),   \n",
       "29249          NaN  Board of Governors of the Federal Reserve System,   \n",
       "29250          NaN                                     Working Paper,   \n",
       "\n",
       "              name_refer                                        paper_refer  \\\n",
       "29246           Hwang, L    Korean evidence on the implied cost of equity,    \n",
       "29247       Jorgensen, B  The valuation accuracy of equity value estimat...   \n",
       "29248      Cummins, J. D  An Asian option approach to the valuation of i...   \n",
       "29249   Campbell, Sean D  A Review of Backtesting and Backtesting Proced...   \n",
       "29250      Lee, Jung-Hee  Market Reactions to Business Group Analysts’ I...   \n",
       "\n",
       "      school_refer  year_refer  \n",
       "29246          NaN      2007.0  \n",
       "29247          NaN      2007.0  \n",
       "29248          NaN      1993.0  \n",
       "29249          NaN      2005.0  \n",
       "29250          NaN      2007.0  "
      ]
     },
     "execution_count": 11,
     "metadata": {},
     "output_type": "execute_result"
    }
   ],
   "source": [
    "df = pd.read_csv('../make_dictionary_process/stricted_filtered_final_df.csv')\n",
    "df.tail()"
   ]
  },
  {
   "cell_type": "code",
   "execution_count": 16,
   "metadata": {},
   "outputs": [
    {
     "name": "stdout",
     "output_type": "stream",
     "text": [
      "CPU times: user 43min 53s, sys: 1.91 s, total: 43min 55s\n",
      "Wall time: 43min 56s\n"
     ]
    }
   ],
   "source": [
    "%%time\n",
    "\n",
    "idx_ls , unicode_ls = [],[]\n",
    "\n",
    "for idx,file in enumerate(file_path[:]):\n",
    "    try : \n",
    "        file_ = sik.extract_file_content(file)\n",
    "        try : \n",
    "            sik.make_references(file_)\n",
    "        except : \n",
    "            idx_ls.append(idx)\n",
    "    except : unicode_ls.append(idx)"
   ]
  },
  {
   "cell_type": "code",
   "execution_count": 17,
   "metadata": {},
   "outputs": [
    {
     "data": {
      "text/plain": [
       "47"
      ]
     },
     "execution_count": 17,
     "metadata": {},
     "output_type": "execute_result"
    }
   ],
   "source": [
    "len(idx_ls)\n",
    "#idx_ls는 참고문헌이 시작되는 point 가 없는 논문을 의미"
   ]
  },
  {
   "cell_type": "code",
   "execution_count": 35,
   "metadata": {},
   "outputs": [
    {
     "data": {
      "text/plain": [
       "220"
      ]
     },
     "execution_count": 35,
     "metadata": {},
     "output_type": "execute_result"
    }
   ],
   "source": [
    "len(unicode_ls)\n",
    "# unicode_ls 는 파일 자체가 인코딩 문제로 인해 열리지 않는 논문을 의미"
   ]
  },
  {
   "cell_type": "code",
   "execution_count": 40,
   "metadata": {},
   "outputs": [],
   "source": [
    "unicode_extract_problem_df = pd.DataFrame()\n",
    "df1 = pd.DataFrame()\n",
    "df2 = pd.DataFrame()\n",
    "df1['no_refer'] = [file_path[i] for i in idx_ls]\n",
    "df2['no_encode']= [file_path[i] for i in unicode_ls]\n",
    "unicode_extract_problem_df = pd.concat([df1,df2],axis=1)"
   ]
  },
  {
   "cell_type": "code",
   "execution_count": 41,
   "metadata": {
    "collapsed": true
   },
   "outputs": [],
   "source": [
    "unicode_extract_problem_df.to_csv('problem_df.csv',index=False)"
   ]
  },
  {
   "cell_type": "code",
   "execution_count": 42,
   "metadata": {},
   "outputs": [
    {
     "data": {
      "text/html": [
       "<div>\n",
       "<style>\n",
       "    .dataframe thead tr:only-child th {\n",
       "        text-align: right;\n",
       "    }\n",
       "\n",
       "    .dataframe thead th {\n",
       "        text-align: left;\n",
       "    }\n",
       "\n",
       "    .dataframe tbody tr th {\n",
       "        vertical-align: top;\n",
       "    }\n",
       "</style>\n",
       "<table border=\"1\" class=\"dataframe\">\n",
       "  <thead>\n",
       "    <tr style=\"text-align: right;\">\n",
       "      <th></th>\n",
       "      <th>no_refer</th>\n",
       "      <th>no_encode</th>\n",
       "    </tr>\n",
       "  </thead>\n",
       "  <tbody>\n",
       "    <tr>\n",
       "      <th>215</th>\n",
       "      <td>NaN</td>\n",
       "      <td>../paper_list/vol28_no1_1.pdf</td>\n",
       "    </tr>\n",
       "    <tr>\n",
       "      <th>216</th>\n",
       "      <td>NaN</td>\n",
       "      <td>../paper_list/20180810120519_HL.pdf</td>\n",
       "    </tr>\n",
       "    <tr>\n",
       "      <th>217</th>\n",
       "      <td>NaN</td>\n",
       "      <td>../failure_paper_list/vol22_no3_1.txt</td>\n",
       "    </tr>\n",
       "    <tr>\n",
       "      <th>218</th>\n",
       "      <td>NaN</td>\n",
       "      <td>../failure_paper_list/Institutional_Ownership_...</td>\n",
       "    </tr>\n",
       "    <tr>\n",
       "      <th>219</th>\n",
       "      <td>NaN</td>\n",
       "      <td>../failure_paper_list/vol23_no3_249.txt</td>\n",
       "    </tr>\n",
       "  </tbody>\n",
       "</table>\n",
       "</div>"
      ],
      "text/plain": [
       "    no_refer                                          no_encode\n",
       "215      NaN                      ../paper_list/vol28_no1_1.pdf\n",
       "216      NaN                ../paper_list/20180810120519_HL.pdf\n",
       "217      NaN              ../failure_paper_list/vol22_no3_1.txt\n",
       "218      NaN  ../failure_paper_list/Institutional_Ownership_...\n",
       "219      NaN            ../failure_paper_list/vol23_no3_249.txt"
      ]
     },
     "execution_count": 42,
     "metadata": {},
     "output_type": "execute_result"
    }
   ],
   "source": [
    "unicode_extract_problem_df.tail()"
   ]
  }
 ],
 "metadata": {
  "kernelspec": {
   "display_name": "Python 3",
   "language": "python",
   "name": "python3"
  }
 },
 "nbformat": 4,
 "nbformat_minor": 2
}
