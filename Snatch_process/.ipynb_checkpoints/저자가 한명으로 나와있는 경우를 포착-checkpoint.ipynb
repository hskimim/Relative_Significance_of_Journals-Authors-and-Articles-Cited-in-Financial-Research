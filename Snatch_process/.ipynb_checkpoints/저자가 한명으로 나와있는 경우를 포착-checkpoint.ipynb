{
 "cells": [
  {
   "cell_type": "code",
   "execution_count": 1,
   "metadata": {
    "collapsed": true
   },
   "outputs": [],
   "source": [
    "import pandas as pd\n",
    "import os\n",
    "from collections import Counter\n",
    "import numpy as np"
   ]
  },
  {
   "cell_type": "code",
   "execution_count": 2,
   "metadata": {},
   "outputs": [
    {
     "data": {
      "text/plain": [
       "['new_tuned_references.csv',\n",
       " 'stricted_filtered_final_df.csv',\n",
       " 'Asia_pacific_journal_of_financial_studies.csv',\n",
       " 'journal_name_ls.csv',\n",
       " 'tuned_dataframe.csv',\n",
       " 'naived_filtered_final_df.csv',\n",
       " 'extended_references.csv',\n",
       " 'references.csv',\n",
       " '재무연구.csv',\n",
       " 'tuned_dataframe_infor.csv',\n",
       " 'deliver_paper_refer.csv',\n",
       " '한국증권학회지.csv',\n",
       " 'tuned_dataframe_refer.csv',\n",
       " '재무관리연구.csv',\n",
       " '선물연구.csv']"
      ]
     },
     "execution_count": 2,
     "metadata": {},
     "output_type": "execute_result"
    }
   ],
   "source": [
    "[i for i in os.listdir('../make_dictionary_process/') if 'csv' in i]"
   ]
  },
  {
   "cell_type": "code",
   "execution_count": 5,
   "metadata": {
    "collapsed": true
   },
   "outputs": [],
   "source": [
    "df = pd.read_csv('../make_dictionary_process/stricted_filtered_final_df.csv')"
   ]
  },
  {
   "cell_type": "code",
   "execution_count": 7,
   "metadata": {
    "collapsed": true
   },
   "outputs": [],
   "source": [
    "refer_col = [i for i in df.columns if 'refer' in i]"
   ]
  },
  {
   "cell_type": "code",
   "execution_count": 10,
   "metadata": {},
   "outputs": [
    {
     "data": {
      "text/html": [
       "<div>\n",
       "<style>\n",
       "    .dataframe thead tr:only-child th {\n",
       "        text-align: right;\n",
       "    }\n",
       "\n",
       "    .dataframe thead th {\n",
       "        text-align: left;\n",
       "    }\n",
       "\n",
       "    .dataframe tbody tr th {\n",
       "        vertical-align: top;\n",
       "    }\n",
       "</style>\n",
       "<table border=\"1\" class=\"dataframe\">\n",
       "  <thead>\n",
       "    <tr style=\"text-align: right;\">\n",
       "      <th></th>\n",
       "      <th>char_refer</th>\n",
       "      <th>degree_refer</th>\n",
       "      <th>journal_refer</th>\n",
       "      <th>name_refer</th>\n",
       "      <th>paper_refer</th>\n",
       "      <th>school_refer</th>\n",
       "      <th>year_refer</th>\n",
       "    </tr>\n",
       "  </thead>\n",
       "  <tbody>\n",
       "    <tr>\n",
       "      <th>29246</th>\n",
       "      <td>[기타자료]</td>\n",
       "      <td>NaN</td>\n",
       "      <td>Working paper,</td>\n",
       "      <td>Hwang, L</td>\n",
       "      <td>Korean evidence on the implied cost of equity,</td>\n",
       "      <td>NaN</td>\n",
       "      <td>2007.0</td>\n",
       "    </tr>\n",
       "    <tr>\n",
       "      <th>29247</th>\n",
       "      <td>[기타자료]</td>\n",
       "      <td>NaN</td>\n",
       "      <td>Working paper,</td>\n",
       "      <td>Jorgensen, B</td>\n",
       "      <td>The valuation accuracy of equity value estimat...</td>\n",
       "      <td>NaN</td>\n",
       "      <td>2007.0</td>\n",
       "    </tr>\n",
       "    <tr>\n",
       "      <th>29248</th>\n",
       "      <td>[기타자료]</td>\n",
       "      <td>NaN</td>\n",
       "      <td>Working Papers),</td>\n",
       "      <td>Cummins, J. D</td>\n",
       "      <td>An Asian option approach to the valuation of i...</td>\n",
       "      <td>NaN</td>\n",
       "      <td>1993.0</td>\n",
       "    </tr>\n",
       "    <tr>\n",
       "      <th>29249</th>\n",
       "      <td>[기타자료]</td>\n",
       "      <td>NaN</td>\n",
       "      <td>Board of Governors of the Federal Reserve System,</td>\n",
       "      <td>Campbell, Sean D</td>\n",
       "      <td>A Review of Backtesting and Backtesting Proced...</td>\n",
       "      <td>NaN</td>\n",
       "      <td>2005.0</td>\n",
       "    </tr>\n",
       "    <tr>\n",
       "      <th>29250</th>\n",
       "      <td>[기타자료]</td>\n",
       "      <td>NaN</td>\n",
       "      <td>Working Paper,</td>\n",
       "      <td>Lee, Jung-Hee</td>\n",
       "      <td>Market Reactions to Business Group Analysts’ I...</td>\n",
       "      <td>NaN</td>\n",
       "      <td>2007.0</td>\n",
       "    </tr>\n",
       "  </tbody>\n",
       "</table>\n",
       "</div>"
      ],
      "text/plain": [
       "      char_refer degree_refer  \\\n",
       "29246     [기타자료]          NaN   \n",
       "29247     [기타자료]          NaN   \n",
       "29248     [기타자료]          NaN   \n",
       "29249     [기타자료]          NaN   \n",
       "29250     [기타자료]          NaN   \n",
       "\n",
       "                                           journal_refer         name_refer  \\\n",
       "29246                                     Working paper,           Hwang, L   \n",
       "29247                                     Working paper,       Jorgensen, B   \n",
       "29248                                   Working Papers),      Cummins, J. D   \n",
       "29249  Board of Governors of the Federal Reserve System,   Campbell, Sean D   \n",
       "29250                                     Working Paper,      Lee, Jung-Hee   \n",
       "\n",
       "                                             paper_refer school_refer  \\\n",
       "29246    Korean evidence on the implied cost of equity,           NaN   \n",
       "29247  The valuation accuracy of equity value estimat...          NaN   \n",
       "29248  An Asian option approach to the valuation of i...          NaN   \n",
       "29249  A Review of Backtesting and Backtesting Proced...          NaN   \n",
       "29250  Market Reactions to Business Group Analysts’ I...          NaN   \n",
       "\n",
       "       year_refer  \n",
       "29246      2007.0  \n",
       "29247      2007.0  \n",
       "29248      1993.0  \n",
       "29249      2005.0  \n",
       "29250      2007.0  "
      ]
     },
     "execution_count": 10,
     "metadata": {},
     "output_type": "execute_result"
    }
   ],
   "source": [
    "df = df.loc[:,refer_col]\n",
    "df.tail()"
   ]
  },
  {
   "cell_type": "code",
   "execution_count": 28,
   "metadata": {
    "collapsed": true
   },
   "outputs": [],
   "source": [
    "dict_ = Counter(paper_name_ls)\n",
    "df = pd.DataFrame(index=range(len(dict_.keys())))\n",
    "df.index = dict_.keys()\n",
    "df['count'] = dict_.values()"
   ]
  },
  {
   "cell_type": "code",
   "execution_count": 31,
   "metadata": {
    "scrolled": false
   },
   "outputs": [
    {
     "data": {
      "text/html": [
       "<div>\n",
       "<style>\n",
       "    .dataframe thead tr:only-child th {\n",
       "        text-align: right;\n",
       "    }\n",
       "\n",
       "    .dataframe thead th {\n",
       "        text-align: left;\n",
       "    }\n",
       "\n",
       "    .dataframe tbody tr th {\n",
       "        vertical-align: top;\n",
       "    }\n",
       "</style>\n",
       "<table border=\"1\" class=\"dataframe\">\n",
       "  <thead>\n",
       "    <tr style=\"text-align: right;\">\n",
       "      <th></th>\n",
       "      <th>count</th>\n",
       "    </tr>\n",
       "  </thead>\n",
       "  <tbody>\n",
       "    <tr>\n",
       "      <th>Fama, E. F.</th>\n",
       "      <td>207</td>\n",
       "    </tr>\n",
       "    <tr>\n",
       "      <th>고봉찬</th>\n",
       "      <td>151</td>\n",
       "    </tr>\n",
       "    <tr>\n",
       "      <th>고광수</th>\n",
       "      <td>126</td>\n",
       "    </tr>\n",
       "    <tr>\n",
       "      <th>Fama, E. F</th>\n",
       "      <td>117</td>\n",
       "    </tr>\n",
       "    <tr>\n",
       "      <th>권택호</th>\n",
       "      <td>98</td>\n",
       "    </tr>\n",
       "    <tr>\n",
       "      <th>Black, F.</th>\n",
       "      <td>96</td>\n",
       "    </tr>\n",
       "    <tr>\n",
       "      <th>강장구</th>\n",
       "      <td>87</td>\n",
       "    </tr>\n",
       "    <tr>\n",
       "      <th>최혁</th>\n",
       "      <td>85</td>\n",
       "    </tr>\n",
       "    <tr>\n",
       "      <th>김석진</th>\n",
       "      <td>79</td>\n",
       "    </tr>\n",
       "    <tr>\n",
       "      <th>이원흠</th>\n",
       "      <td>79</td>\n",
       "    </tr>\n",
       "    <tr>\n",
       "      <th>Fama, E.</th>\n",
       "      <td>78</td>\n",
       "    </tr>\n",
       "    <tr>\n",
       "      <th>장국현</th>\n",
       "      <td>77</td>\n",
       "    </tr>\n",
       "    <tr>\n",
       "      <th>박경서</th>\n",
       "      <td>69</td>\n",
       "    </tr>\n",
       "    <tr>\n",
       "      <th>Jensen, M. C.</th>\n",
       "      <td>66</td>\n",
       "    </tr>\n",
       "    <tr>\n",
       "      <th>Fama, E</th>\n",
       "      <td>64</td>\n",
       "    </tr>\n",
       "    <tr>\n",
       "      <th>Grinblatt, M.</th>\n",
       "      <td>63</td>\n",
       "    </tr>\n",
       "    <tr>\n",
       "      <th>김태혁</th>\n",
       "      <td>63</td>\n",
       "    </tr>\n",
       "    <tr>\n",
       "      <th>김솔</th>\n",
       "      <td>63</td>\n",
       "    </tr>\n",
       "    <tr>\n",
       "      <th>Amihud, Y.</th>\n",
       "      <td>61</td>\n",
       "    </tr>\n",
       "    <tr>\n",
       "      <th>Ang, A.</th>\n",
       "      <td>61</td>\n",
       "    </tr>\n",
       "  </tbody>\n",
       "</table>\n",
       "</div>"
      ],
      "text/plain": [
       "                count\n",
       " Fama, E. F.      207\n",
       " 고봉찬              151\n",
       " 고광수              126\n",
       " Fama, E. F       117\n",
       " 권택호               98\n",
       " Black, F.         96\n",
       " 강장구               87\n",
       " 최혁                85\n",
       " 김석진               79\n",
       " 이원흠               79\n",
       " Fama, E.          78\n",
       " 장국현               77\n",
       " 박경서               69\n",
       " Jensen, M. C.     66\n",
       " Fama, E           64\n",
       " Grinblatt, M.     63\n",
       " 김태혁               63\n",
       " 김솔                63\n",
       " Amihud, Y.        61\n",
       " Ang, A.           61"
      ]
     },
     "execution_count": 31,
     "metadata": {},
     "output_type": "execute_result"
    }
   ],
   "source": [
    "freq_df=  df.sort_values('count',ascending=False)\n",
    "freq_df.head(20)"
   ]
  },
  {
   "cell_type": "code",
   "execution_count": 6,
   "metadata": {
    "collapsed": true
   },
   "outputs": [],
   "source": [
    "def get_jaccard_sim(str1, str2): \n",
    "    a = set(str1.split()) \n",
    "    b = set(str2.split())\n",
    "    c = a.intersection(b)\n",
    "    return float(len(c)) / (len(a) + len(b) - len(c))"
   ]
  },
  {
   "cell_type": "code",
   "execution_count": 7,
   "metadata": {},
   "outputs": [
    {
     "data": {
      "text/plain": [
       "0.2857142857142857"
      ]
     },
     "execution_count": 7,
     "metadata": {},
     "output_type": "execute_result"
    }
   ],
   "source": [
    "testing_str1 = 'hello world i am kim hyun sik'\n",
    "testing_str2 = 'hello world'\n",
    "\n",
    "get_jaccard_sim(testing_str1,testing_str2)"
   ]
  }
 ],
 "metadata": {
  "kernelspec": {
   "display_name": "Python 3",
   "language": "python",
   "name": "python3"
  },
  "language_info": {
   "codemirror_mode": {
    "name": "ipython",
    "version": 3
   },
   "file_extension": ".py",
   "mimetype": "text/x-python",
   "name": "python",
   "nbconvert_exporter": "python",
   "pygments_lexer": "ipython3",
   "version": "3.6.3"
  }
 },
 "nbformat": 4,
 "nbformat_minor": 2
}
