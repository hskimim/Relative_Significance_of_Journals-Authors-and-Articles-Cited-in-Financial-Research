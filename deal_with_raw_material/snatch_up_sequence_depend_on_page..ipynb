{
 "cells": [
  {
   "cell_type": "code",
   "execution_count": 1,
   "metadata": {
    "collapsed": true
   },
   "outputs": [],
   "source": [
    "import pandas as pd\n",
    "import sys\n",
    "# if there are no conflicting packages in the default Python Libs =>\n",
    "sys.path.append(\"/usr/home/hskimim/pdfminer\")\n",
    "import re\n",
    "import extract_reference_type1 as ref1\n",
    "import extract_reference_type2 as ref2\n",
    "import os"
   ]
  },
  {
   "cell_type": "code",
   "execution_count": 2,
   "metadata": {},
   "outputs": [
    {
     "data": {
      "text/html": [
       "<div>\n",
       "<style>\n",
       "    .dataframe thead tr:only-child th {\n",
       "        text-align: right;\n",
       "    }\n",
       "\n",
       "    .dataframe thead th {\n",
       "        text-align: left;\n",
       "    }\n",
       "\n",
       "    .dataframe tbody tr th {\n",
       "        vertical-align: top;\n",
       "    }\n",
       "</style>\n",
       "<table border=\"1\" class=\"dataframe\">\n",
       "  <thead>\n",
       "    <tr style=\"text-align: right;\">\n",
       "      <th></th>\n",
       "      <th>char</th>\n",
       "      <th>degree</th>\n",
       "      <th>journal</th>\n",
       "      <th>name</th>\n",
       "      <th>paper_name</th>\n",
       "      <th>school</th>\n",
       "      <th>year</th>\n",
       "    </tr>\n",
       "  </thead>\n",
       "  <tbody>\n",
       "    <tr>\n",
       "      <th>28910</th>\n",
       "      <td>[학위논문]</td>\n",
       "      <td>석사</td>\n",
       "      <td>NaN</td>\n",
       "      <td>김동현</td>\n",
       "      <td>국내 민간의료보험 시장의 역선택에 관한 실증연구</td>\n",
       "      <td>경희대학교 대학원,</td>\n",
       "      <td>2008</td>\n",
       "    </tr>\n",
       "    <tr>\n",
       "      <th>28911</th>\n",
       "      <td>[학위논문]</td>\n",
       "      <td>석사</td>\n",
       "      <td>NaN</td>\n",
       "      <td>이수진</td>\n",
       "      <td>민간의료보험이 의료수요에 미치는 영향 : 도덕적 해이와 역선택 효과의 실증적 구분</td>\n",
       "      <td>연세대학교 대학원,</td>\n",
       "      <td>2012</td>\n",
       "    </tr>\n",
       "    <tr>\n",
       "      <th>28912</th>\n",
       "      <td>[학위논문]</td>\n",
       "      <td>박사</td>\n",
       "      <td>NaN</td>\n",
       "      <td>한영하</td>\n",
       "      <td>한국주택금융공사 보금자리론 조기상환율 추정 및 가치산정 연구</td>\n",
       "      <td>연세대학교 대학원,</td>\n",
       "      <td>2014</td>\n",
       "    </tr>\n",
       "    <tr>\n",
       "      <th>28913</th>\n",
       "      <td>[학위논문]</td>\n",
       "      <td>박사</td>\n",
       "      <td>NaN</td>\n",
       "      <td>Low, A</td>\n",
       "      <td>Essays on asymmetric information in internatio...</td>\n",
       "      <td>University of California,</td>\n",
       "      <td>1992</td>\n",
       "    </tr>\n",
       "    <tr>\n",
       "      <th>28914</th>\n",
       "      <td>[학위논문]</td>\n",
       "      <td>박사</td>\n",
       "      <td>NaN</td>\n",
       "      <td>Averbukh, V</td>\n",
       "      <td>Pricing American options using Monte Carlo sim...</td>\n",
       "      <td>Cornell University,</td>\n",
       "      <td>1997</td>\n",
       "    </tr>\n",
       "  </tbody>\n",
       "</table>\n",
       "</div>"
      ],
      "text/plain": [
       "         char degree journal          name  \\\n",
       "28910  [학위논문]     석사     NaN           김동현   \n",
       "28911  [학위논문]     석사     NaN           이수진   \n",
       "28912  [학위논문]     박사     NaN           한영하   \n",
       "28913  [학위논문]     박사     NaN        Low, A   \n",
       "28914  [학위논문]     박사     NaN   Averbukh, V   \n",
       "\n",
       "                                              paper_name  \\\n",
       "28910                         국내 민간의료보험 시장의 역선택에 관한 실증연구   \n",
       "28911      민간의료보험이 의료수요에 미치는 영향 : 도덕적 해이와 역선택 효과의 실증적 구분   \n",
       "28912                  한국주택금융공사 보금자리론 조기상환율 추정 및 가치산정 연구   \n",
       "28913  Essays on asymmetric information in internatio...   \n",
       "28914  Pricing American options using Monte Carlo sim...   \n",
       "\n",
       "                          school  year  \n",
       "28910                 경희대학교 대학원,  2008  \n",
       "28911                 연세대학교 대학원,  2012  \n",
       "28912                 연세대학교 대학원,  2014  \n",
       "28913  University of California,  1992  \n",
       "28914        Cornell University,  1997  "
      ]
     },
     "execution_count": 2,
     "metadata": {},
     "output_type": "execute_result"
    }
   ],
   "source": [
    "dict_df = pd.read_csv('../make_dictionary_process/well_made_dictionary.csv')\n",
    "dict_df.tail()"
   ]
  },
  {
   "cell_type": "code",
   "execution_count": 3,
   "metadata": {},
   "outputs": [
    {
     "data": {
      "text/plain": [
       "458"
      ]
     },
     "execution_count": 3,
     "metadata": {},
     "output_type": "execute_result"
    }
   ],
   "source": [
    "file_path = os.listdir('../failure_paper_list/')\n",
    "file_path = ['../failure_paper_list/' + i for i in file_path]\n",
    "len(file_path)"
   ]
  },
  {
   "cell_type": "code",
   "execution_count": 4,
   "metadata": {
    "scrolled": false
   },
   "outputs": [
    {
     "name": "stdout",
     "output_type": "stream",
     "text": [
      "error!\n",
      "error!\n",
      "error!\n",
      "error!\n",
      "error!\n",
      "error!\n",
      "error!\n",
      "error!\n",
      "error!\n",
      "error!\n",
      "error!\n",
      "error!\n",
      "error!\n",
      "error!\n",
      "error!\n",
      "error!\n"
     ]
    }
   ],
   "source": [
    "refer_ls , error_ls = [],[]\n",
    "\n",
    "for path in file_path : \n",
    "    try : \n",
    "        file_ = ref1.extract_references_file(path)\n",
    "        refer_ls.append(ref1.total_parsing_sequence(file_))\n",
    "    except : error_ls.append(path);print('error!')"
   ]
  },
  {
   "cell_type": "markdown",
   "metadata": {},
   "source": [
    "#### error_ls에는 인코딩 문제와 Parsing 문제 둘 중 하나가 발생한 폴더들이 들어있다."
   ]
  },
  {
   "cell_type": "code",
   "execution_count": 5,
   "metadata": {
    "scrolled": true
   },
   "outputs": [
    {
     "data": {
      "text/plain": [
       "['../failure_paper_list/20180810121649_JF.txt',\n",
       " '../failure_paper_list/vol9_no1_1.txt',\n",
       " '../failure_paper_list/vol22_no3_1.txt',\n",
       " '../failure_paper_list/±¹¹Î¿¬±Ý_ÀÇ°á±Ç_Çà»ç_°³¼±_¹æ¾È.doc',\n",
       " '../failure_paper_list/c89ea226_문규현-홍정효-한덕희.txt',\n",
       " '../failure_paper_list/vol14_no2_49.txt',\n",
       " '../failure_paper_list/vol11_no1_1.txt',\n",
       " '../failure_paper_list/vol18_no2_289.txt',\n",
       " '../failure_paper_list/vol13_no2_245.txt',\n",
       " '../failure_paper_list/8eaf46b4_유시용.txt',\n",
       " '../failure_paper_list/20180725162834_RU.txt',\n",
       " '../failure_paper_list/Institutional_Ownership_and_Accounting¡¤¡¤.txt',\n",
       " '../failure_paper_list/vol23_no3_213.txt',\n",
       " '../failure_paper_list/vol23_no3_249.txt',\n",
       " '../failure_paper_list/20180810121649_DH.txt',\n",
       " '../failure_paper_list/vol10_no1_37.txt']"
      ]
     },
     "execution_count": 5,
     "metadata": {},
     "output_type": "execute_result"
    }
   ],
   "source": [
    "error_ls"
   ]
  },
  {
   "cell_type": "code",
   "execution_count": 6,
   "metadata": {
    "scrolled": true
   },
   "outputs": [
    {
     "data": {
      "text/plain": [
       "442"
      ]
     },
     "execution_count": 6,
     "metadata": {},
     "output_type": "execute_result"
    }
   ],
   "source": [
    "len(refer_ls)"
   ]
  },
  {
   "cell_type": "code",
   "execution_count": 7,
   "metadata": {
    "collapsed": true
   },
   "outputs": [],
   "source": [
    "import numpy as np"
   ]
  },
  {
   "cell_type": "markdown",
   "metadata": {},
   "source": [
    "### 실제 Raw 데이터를 Parsing 했으니, 딕셔너리에서 뽑기 용이하게 소문자로 변환시켜주고, 양 측의 공백을 제거해준다."
   ]
  },
  {
   "cell_type": "code",
   "execution_count": 9,
   "metadata": {},
   "outputs": [
    {
     "data": {
      "text/plain": [
       "14778"
      ]
     },
     "execution_count": 9,
     "metadata": {},
     "output_type": "execute_result"
    }
   ],
   "source": [
    "refer_parsing_ls = [j for i in refer_ls for j in i]\n",
    "len(refer_parsing_ls)"
   ]
  },
  {
   "cell_type": "code",
   "execution_count": 11,
   "metadata": {
    "collapsed": true
   },
   "outputs": [],
   "source": [
    "small_refer_ls = [i.strip().lower() for i in refer_parsing_ls]"
   ]
  },
  {
   "cell_type": "markdown",
   "metadata": {},
   "source": [
    "______________"
   ]
  },
  {
   "cell_type": "markdown",
   "metadata": {},
   "source": [
    "### 하나의 이름에 경우의 수가 산재한다."
   ]
  },
  {
   "cell_type": "code",
   "execution_count": 37,
   "metadata": {},
   "outputs": [
    {
     "data": {
      "text/plain": [
       "{' Fama',\n",
       " ' Fama E',\n",
       " ' Fama E. F.',\n",
       " ' Fama Eugene F',\n",
       " ' Fama, E',\n",
       " ' Fama, E, F.',\n",
       " ' Fama, E.',\n",
       " ' Fama, E. F',\n",
       " ' Fama, E. F.',\n",
       " ' Fama, Eugen F',\n",
       " ' Fama, Eugene',\n",
       " ' Fama, Eugene F',\n",
       " ' Fama, Eugene F.',\n",
       " ' Fama, F. Eugene',\n",
       " ' Fama,E.',\n",
       " ' Fama. E',\n",
       " ' Fama. E. F'}"
      ]
     },
     "execution_count": 37,
     "metadata": {},
     "output_type": "execute_result"
    }
   ],
   "source": [
    "set([i for i in dict_df['name'].tolist() if 'Fama' in i])"
   ]
  },
  {
   "cell_type": "markdown",
   "metadata": {},
   "source": [
    "#### 함수 tuning_name은 위와 같은 경우에 Fama 만 Extracting 하는 함수이다."
   ]
  },
  {
   "cell_type": "code",
   "execution_count": 102,
   "metadata": {},
   "outputs": [],
   "source": [
    "def tuning_name(name):\n",
    "    return [i for i in name.replace(',','.').replace(' ','.').split('.') if i][0]"
   ]
  },
  {
   "cell_type": "code",
   "execution_count": 109,
   "metadata": {},
   "outputs": [
    {
     "data": {
      "text/plain": [
       "('Fama', 'Fama')"
      ]
     },
     "execution_count": 109,
     "metadata": {},
     "output_type": "execute_result"
    }
   ],
   "source": [
    "tuning_name(' Fama. E. F') , tuning_name(' Fama. Eugine. F')"
   ]
  },
  {
   "cell_type": "code",
   "execution_count": 117,
   "metadata": {},
   "outputs": [
    {
     "data": {
      "text/plain": [
       "[' 고봉찬',\n",
       " ' 손병철',\n",
       " ' Amihud, Yakov',\n",
       " ' Ball, Ray, S',\n",
       " ' Basu, Sudipta',\n",
       " ' Bhardwaj, Ravinder K',\n",
       " ' Bhushan, Ravi',\n",
       " ' Collins, Daniel W',\n",
       " ' Daniel, Kent',\n",
       " ' DeBondt, Werner F. M']"
      ]
     },
     "execution_count": 117,
     "metadata": {},
     "output_type": "execute_result"
    }
   ],
   "source": [
    "dict_df['name'].tolist()[:10]"
   ]
  },
  {
   "cell_type": "code",
   "execution_count": 116,
   "metadata": {},
   "outputs": [
    {
     "data": {
      "text/plain": [
       "['고봉찬',\n",
       " '손병철',\n",
       " 'Amihud',\n",
       " 'Ball',\n",
       " 'Basu',\n",
       " 'Bhardwaj',\n",
       " 'Bhushan',\n",
       " 'Collins',\n",
       " 'Daniel',\n",
       " 'DeBondt']"
      ]
     },
     "execution_count": 116,
     "metadata": {},
     "output_type": "execute_result"
    }
   ],
   "source": [
    "[tuning_name(i).strip() if (',' in i) or ('.' in i) else i.strip() for i in dict_df['name'].tolist()][:10]"
   ]
  },
  {
   "cell_type": "code",
   "execution_count": 118,
   "metadata": {
    "collapsed": true
   },
   "outputs": [],
   "source": [
    "new_name_ls = [tuning_name(i).strip() if (',' in i) or ('.' in i) else i.strip() for i in dict_df['name'].tolist()]"
   ]
  },
  {
   "cell_type": "markdown",
   "metadata": {},
   "source": [
    "______________________"
   ]
  },
  {
   "cell_type": "markdown",
   "metadata": {},
   "source": [
    "### 딕셔너리에서 논문의 이름 , 튜닝된 논문의 저자 , 논문이 이슈된 년도를 묶어서 리스트로 만들어준다."
   ]
  },
  {
   "cell_type": "code",
   "execution_count": 120,
   "metadata": {},
   "outputs": [
    {
     "data": {
      "text/plain": [
       "[('발생액 이상현상에 대한 위험평가', '고봉찬', 2007),\n",
       " ('발생액의 효율적 평가에 영향을 미치는 요인', '손병철', 2005),\n",
       " ('Illiquidity and Stock Returns: Cross-Section and Time- Series Effects',\n",
       "  'Amihud',\n",
       "  2002),\n",
       " ('Problems in Measuring Portfolio Performance: An Application to Contrarian Investment Strategies',\n",
       "  'Ball',\n",
       "  1995),\n",
       " ('What Do We Learn from Two New Accounting-Based Stock Market Anomalies?',\n",
       "  'Basu',\n",
       "  2004)]"
      ]
     },
     "execution_count": 120,
     "metadata": {},
     "output_type": "execute_result"
    }
   ],
   "source": [
    "dict_ls = list(zip(dict_df['paper_name'].tolist(),new_name_ls,dict_df['year'].tolist()))\n",
    "dict_ls[:5]"
   ]
  },
  {
   "cell_type": "markdown",
   "metadata": {},
   "source": [
    "### Raw_data 를 소문자 변환시켜주었기 때문에, 딕셔너리 데이터도 모두 소문자 변환시켜준다."
   ]
  },
  {
   "cell_type": "code",
   "execution_count": 129,
   "metadata": {},
   "outputs": [
    {
     "data": {
      "text/plain": [
       "[('발생액 이상현상에 대한 위험평가', '고봉찬', '2007'),\n",
       " ('발생액의 효율적 평가에 영향을 미치는 요인', '손병철', '2005'),\n",
       " ('illiquidity and stock returns: cross-section and time- series effects',\n",
       "  'amihud',\n",
       "  '2002'),\n",
       " ('problems in measuring portfolio performance: an application to contrarian investment strategies',\n",
       "  'ball',\n",
       "  '1995'),\n",
       " ('what do we learn from two new accounting-based stock market anomalies?',\n",
       "  'basu',\n",
       "  '2004')]"
      ]
     },
     "execution_count": 129,
     "metadata": {},
     "output_type": "execute_result"
    }
   ],
   "source": [
    "tuned_dict_ls = [(i[0].strip().lower(),i[1].lower(),str(i[2])) for i in dict_ls]\n",
    "tuned_dict_ls[:5]"
   ]
  },
  {
   "cell_type": "markdown",
   "metadata": {},
   "source": [
    "### 실제 딕셔너리에는 Frequency 가 존재한다. 즉, Unique 만 있는 것이 아니다. 이에 따라서 Paper_name 을 기준으로 Unique 하게 만들어준다."
   ]
  },
  {
   "cell_type": "code",
   "execution_count": 134,
   "metadata": {},
   "outputs": [
    {
     "data": {
      "text/plain": [
       "['고봉찬 김진우 “발생액 이상현상에 대한 위험평가” 증권학회지 제36권 3호(2007) pp. 425-461',\n",
       " '고봉찬 김진우 “발생액 이상현상에 대한 위험평가” 증권학회지 제36권 제3호(2007)pp. 425-461',\n",
       " '고봉찬 김진우 “발생액 이상현상에 대한 위험평가” 증권학회지 제36권 3호(2007) pp. 425-461']"
      ]
     },
     "execution_count": 134,
     "metadata": {},
     "output_type": "execute_result"
    }
   ],
   "source": [
    "[refer for refer in refer_parsing_ls \\\n",
    "if (tuned_dict_ls[0][0] in refer) and (tuned_dict_ls[0][1] in refer) and (tuned_dict_ls[0][2] in refer)]"
   ]
  },
  {
   "cell_type": "code",
   "execution_count": 135,
   "metadata": {},
   "outputs": [
    {
     "data": {
      "text/plain": [
       "['고봉찬 김진우 “발생액 이상현상에 대한 위험평가” 증권학회지 제36권 3호(2007) pp. 425-461',\n",
       " '고봉찬 김진우 “발생액 이상현상에 대한 위험평가” 증권학회지 제36권 제3호(2007)pp. 425-461',\n",
       " '고봉찬 김진우 “발생액 이상현상에 대한 위험평가” 증권학회지 제36권 3호(2007) pp. 425-461']"
      ]
     },
     "execution_count": 135,
     "metadata": {},
     "output_type": "execute_result"
    }
   ],
   "source": [
    "[refer for refer in refer_parsing_ls \\\n",
    "if tuned_dict_ls[0][0] in refer]"
   ]
  }
 ],
 "metadata": {
  "kernelspec": {
   "display_name": "Python 3",
   "language": "python",
   "name": "python3"
  },
  "language_info": {
   "codemirror_mode": {
    "name": "ipython",
    "version": 3
   },
   "file_extension": ".py",
   "mimetype": "text/x-python",
   "name": "python",
   "nbconvert_exporter": "python",
   "pygments_lexer": "ipython3",
   "version": "3.6.3"
  }
 },
 "nbformat": 4,
 "nbformat_minor": 2
}
