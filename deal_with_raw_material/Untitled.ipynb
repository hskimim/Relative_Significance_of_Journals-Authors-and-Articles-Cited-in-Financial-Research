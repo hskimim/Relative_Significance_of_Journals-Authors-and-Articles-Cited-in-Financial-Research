{
 "cells": [
  {
   "cell_type": "code",
   "execution_count": 1,
   "metadata": {
    "collapsed": true
   },
   "outputs": [],
   "source": [
    "import pandas as pd\n",
    "import sys\n",
    "# if there are no conflicting packages in the default Python Libs =>\n",
    "sys.path.append(\"/usr/home/hskimim/pdfminer\")\n",
    "import re\n",
    "import extract_reference_type1 as ref1\n",
    "import extract_reference_type2 as ref2\n",
    "import os"
   ]
  },
  {
   "cell_type": "code",
   "execution_count": 2,
   "metadata": {},
   "outputs": [
    {
     "data": {
      "text/plain": [
       "458"
      ]
     },
     "execution_count": 2,
     "metadata": {},
     "output_type": "execute_result"
    }
   ],
   "source": [
    "file_path = os.listdir('../failure_paper_list/')\n",
    "file_path = ['../failure_paper_list/' + i for i in file_path]\n",
    "len(file_path)"
   ]
  },
  {
   "cell_type": "code",
   "execution_count": 3,
   "metadata": {
    "collapsed": true
   },
   "outputs": [],
   "source": [
    "file_ = ref1.extract_references_file(file_path[0])\n",
    "new_references = ref1.total_parsing_sequence(file_)"
   ]
  },
  {
   "cell_type": "code",
   "execution_count": 110,
   "metadata": {},
   "outputs": [
    {
     "data": {
      "text/plain": [
       "'../failure_paper_list/¼±¹°_½ÃÀå_Á¤º¸¿Í_ÅõÀÚÀÚ_ÇàÅÂ.txt'"
      ]
     },
     "execution_count": 110,
     "metadata": {},
     "output_type": "execute_result"
    }
   ],
   "source": [
    "file_path[0]"
   ]
  },
  {
   "cell_type": "markdown",
   "metadata": {},
   "source": [
    "# YEAR PARSING"
   ]
  },
  {
   "cell_type": "code",
   "execution_count": 4,
   "metadata": {
    "collapsed": true,
    "scrolled": true
   },
   "outputs": [],
   "source": [
    "tuning1 = [[i for i in re.findall('20[0-9]{2}|19[0-9]{2}',refer) if int(i) < 2019] for refer in new_references]\n",
    "tuning2 = [i[0] if i else i for i in tuning1]"
   ]
  },
  {
   "cell_type": "code",
   "execution_count": 5,
   "metadata": {
    "scrolled": false
   },
   "outputs": [
    {
     "data": {
      "text/plain": [
       "True"
      ]
     },
     "execution_count": 5,
     "metadata": {},
     "output_type": "execute_result"
    }
   ],
   "source": [
    "len(tuning2) == len(new_references)"
   ]
  },
  {
   "cell_type": "markdown",
   "metadata": {},
   "source": [
    "# PERSON PARSING"
   ]
  },
  {
   "cell_type": "code",
   "execution_count": 51,
   "metadata": {
    "collapsed": true
   },
   "outputs": [],
   "source": [
    "person_ls = []\n",
    "\n",
    "for idx in range(len(new_references)) :\n",
    "    if '“' in new_references[idx] :\n",
    "        person_ls.append(new_references[idx][:re.search('“',new_references[idx]).start()])\n",
    "    else : \n",
    "        person_ls.append(new_references[idx][:re.search(tuning2[idx],new_references[idx]).start()])"
   ]
  },
  {
   "cell_type": "code",
   "execution_count": 52,
   "metadata": {},
   "outputs": [
    {
     "data": {
      "text/plain": [
       "True"
      ]
     },
     "execution_count": 52,
     "metadata": {},
     "output_type": "execute_result"
    }
   ],
   "source": [
    "len(person_ls) == len(new_references)"
   ]
  },
  {
   "cell_type": "markdown",
   "metadata": {},
   "source": [
    "# PAPER NAME PARSING"
   ]
  },
  {
   "cell_type": "code",
   "execution_count": 56,
   "metadata": {},
   "outputs": [
    {
     "data": {
      "text/plain": [
       "'.김민호 James Nielsen 오현탁 “KOSPI 200 선물의 거래 활동과 현물주식시장의 변동성”재무관리연구 제20권 제2호(2003) pp. 235-261'"
      ]
     },
     "execution_count": 56,
     "metadata": {},
     "output_type": "execute_result"
    }
   ],
   "source": [
    "new_references[1]"
   ]
  },
  {
   "cell_type": "code",
   "execution_count": 61,
   "metadata": {},
   "outputs": [
    {
     "data": {
      "text/plain": [
       "'KOSPI 200 선물의 거래 활동과 현물주식시장의 변동성'"
      ]
     },
     "execution_count": 61,
     "metadata": {},
     "output_type": "execute_result"
    }
   ],
   "source": [
    "new_references[1][re.search('“',new_references[1]).end():re.search('”',new_references[1]).start()]"
   ]
  },
  {
   "cell_type": "code",
   "execution_count": 63,
   "metadata": {},
   "outputs": [
    {
     "data": {
      "text/plain": [
       "'”재무관리연구 제20권 제2호(2003) pp. 235-261'"
      ]
     },
     "execution_count": 63,
     "metadata": {},
     "output_type": "execute_result"
    }
   ],
   "source": [
    "new_references[1][re.search('”',new_references[1]).start():]"
   ]
  },
  {
   "cell_type": "code",
   "execution_count": 64,
   "metadata": {},
   "outputs": [
    {
     "data": {
      "text/plain": [
       "'.Andersen T. G. and T. Bollerslev 1998 Answering the Skeptics: Yes Standard VolatilityModels Do Provide Accurate Forecasts International Economic Review 39 pp.885-905'"
      ]
     },
     "execution_count": 64,
     "metadata": {},
     "output_type": "execute_result"
    }
   ],
   "source": [
    "new_references[7]"
   ]
  },
  {
   "cell_type": "code",
   "execution_count": 69,
   "metadata": {
    "scrolled": true
   },
   "outputs": [],
   "source": [
    "testing_ls = [i for i in new_references if '“' not in i]"
   ]
  },
  {
   "cell_type": "code",
   "execution_count": 90,
   "metadata": {},
   "outputs": [
    {
     "data": {
      "text/plain": [
       "'.Andersen T. G. and T. Bollerslev 1998 Answering the Skeptics: Yes Standard VolatilityModels Do Provide Accurate Forecasts International Economic Review 39 pp.885-905'"
      ]
     },
     "execution_count": 90,
     "metadata": {},
     "output_type": "execute_result"
    }
   ],
   "source": [
    "testing_ls[1]"
   ]
  },
  {
   "cell_type": "code",
   "execution_count": 95,
   "metadata": {
    "scrolled": true
   },
   "outputs": [
    {
     "data": {
      "text/plain": [
       "['.Adam-Müller A. and A. Panaretou 2009 Risk Management with Options and Futuresunder Liquidity Risk Journal of Futures Markets 29 pp. 297-318',\n",
       " '.Andersen T. G. and T. Bollerslev 1998 Answering the Skeptics: Yes Standard VolatilityModels Do Provide Accurate Forecasts International Economic Review 39 pp.885-905',\n",
       " '.Andersen T. T. Bollerslev F. X. Diebold and P. Labys 2003 Modeling and Forecasting Realized Volatility Econometrica 71 pp. 579-625',\n",
       " '.Admati A. and P. Pfleiderer 1988 A Theory of Intraday Patterns: Volume and PriceVariability Review of Financial Studies 1 (1) pp. 3-40',\n",
       " '.Adrangi B. and A. Chatrath 1998 Futures Commitments and Exchange Rate VolatilityJournal of Business Finance and Accounting 25 (3) 501-525',\n",
       " '.Bessembinder H. 1992 Systematic risk Hedging Pressure and Risk Premiums in FuturesMarkets Review of Financial Studies 5 (4) pp. 637-667',\n",
       " '.Bessembinder H. and P. J. Seguin 1993 Price Volatility Trading Volume and MarketDepth: Evidence from Futures Market Journal of Financial and Quantitative Analysis28 (1) pp. 21-39',\n",
       " '.Chang E. R. Y. Chou. and E. F. Nelling 2000 Market Volatility and the Demand forHedging in Stock Index Futures Journal of Futures Markets 20 (2) pp. 105-125',\n",
       " '.Chatrath A. S. Ramchander and F. Song 1996 The Role of Futures Trading Activityin Exchange Rate Volatility Journal of Futures Markets 16 (5) pp. 561-584',\n",
       " '.Chen N. F. C. J. Cuny and R. A. Haugen 1995 Stock Volatility and the Levels of theBasis and Open Interest in Futures Contracts Journal of Finance 50 (1) pp. 281300.411IP: 121.125.221.*** | Accessed 2018/10/24 09:18(KST)선물 시장 정보와 투자자 행태DeLong J. B. Shleifer A. Summers L. H. and R. J. Waldmann 1990 Positive Feedback Investment Strategies and Destabilizing Rational Speculation Journal ofFinance 45 pp. 379-395',\n",
       " '.De Roon F. A. Nijman T. E. and C. Veld 2000 Hedging Pressure Effects in FuturesMarkets Journal of Finance 55 pp. 1456-1473',\n",
       " '.French K. R. and R. Roll 1986 Stock Returns Variances: The Arrival of Informationand the Reaction of Trades Journal of Financial Economics 19 pp. 3-29',\n",
       " '.Gospodiniv N. A. Gavala and D. Jiang 2006 Forecasting Volatility Journal of Forecasting 26 pp. 381-400',\n",
       " '.Hirschleifer J. 1975 Speculation and Equilibrium: Information Risk and Markets Quarterly Journal of Economics 89 pp. 519-542',\n",
       " '.Hirschleifer J. 1988 Residual Risk Trading Costs and Commodity Futures Risk Premia Review of Financial Studies 1 pp. 173-193',\n",
       " '.Hirschleifer J. 1990 Hedging Pressure and Futures Price Movements in a GeneralEquilibrium Model Econometrica 58 pp. 411-428',\n",
       " '.Hong H. 2000 A Model of Returns and Trading in Futures Markets Journal of Finance55 (2) pp. 959-988',\n",
       " 'tomo N. 1992 Improving the Parkinson Method of Estimating Security Price Volatilities Journal of Business 65 (2) pp. 295-302',\n",
       " '.Leuthold R. M. Garcia P. and Lu R. 1994 The Returns and Forecasting Ability ofLarge Traders in the Frozen Pork Bellies Futures Markets Journal of Business67 pp. 459-473',\n",
       " '.Lien D. and K. P. Wong 2005 Multinationals and Futures Hedging under LiquidityConstraints Global Finance Journal 16 pp. 210-220',\n",
       " '.Lucia J. J. and A. Pardo 2010 On Measuring Speculative and Hedging Activities inFutures Markets from the Volume and Open Interest Data Applied Economics 42(12) pp. 1549-1557',\n",
       " '.Lütkepohl H. Teräsvirta T. and Wolters J. 1999 Investigating Stability and Linearityof a German M1 Money Demand Function Journal of Applied Econometrics 14pp. 511-525',\n",
       " '.McMillan D. G. and A. E. H. Speight 2002 Nonlinear Dynamics in High FrequencyIntraday Financial Data: Evidence for the UK Long Gilt Futures Market Journal412IP: 121.125.221.*** | Accessed 2018/10/24 09:18(KST)한국증권학회지 제43권 2호 (2014)of Futures Markets 22 pp. 1037-1057',\n",
       " '.McMillan D. G. and A. E. H. Speight 2006 Nonlinear Dynamics and CompetingBehavioral Interpretations: Evidence from Intra-day FTSE-100 Index and FuturesData Journal of Futures Markets 26 pp. 343-368',\n",
       " '.Nofsinger J. R. and R. W. Sias 1999 Herding and Feedback Trading by Institutionaland Individual Investors Journal of Finance 54 pp. 2263-2295',\n",
       " '.Ohk K. Y. 2011 Investor’s Trading Activity and Stock Market Volatility: InternationalEvidence Journal of the Korean Data Analysis Society 13 2253-2261',\n",
       " '.Parkinson M. 1980 The Extreme Value Method for Estimating the Variance of theRate of Return Journal of Business 53 (1) pp. 61-65',\n",
       " '.Shalen C. T. 1993 Volume Volatility and the Dispersion of Beliefs Review of Financial Studies 6 (2) pp. 405-434',\n",
       " '.Stein J. C. 1987 Information Externalities and Welfare-Reducing Speculation Journalof Political Economy 95 (6) pp. 1123-1145',\n",
       " '.Skalin J. and T. 1999 Teräsvirta Another Look at Swedish Business Cycles Journal ofApplied Econometrics 14 pp. 359-378',\n",
       " '.Teräsvirta T. 1994 Specification Estimation and Evaluation of Smooth TransitionAutoRegressive Models Journal of the American Statistical Association 89 pp.208-218',\n",
       " '.Teräsvirta T. 1997 Smooth Transition Models Systematic Dynamics in Economic andFinancial Models Chichester: Wiley pp. 109-136',\n",
       " '.Teräsvirta T. 1998 Modeling Economic Relationships with Smooth Transition Regression Handbook of Applied Economic Statistics pp. 502-552',\n",
       " '.Teräsvirta T. 2004 Smooth Transition Regression Modeling Applied Time Series Econometrics pp. 222-242',\n",
       " '.Tonell A. and C. Yuan 2012 Speculation and Hedging in the Currency Futures Markets: Are They Informative to the Spot Exchange Rates Journal of FuturesMarkets 32 pp. 122-151',\n",
       " '.Tse T. 2001 Index Arbitrage with Heterogeneous Investors: A Smooth TransitionError Correction Analysis Journal of Banking and Finance 25 pp. 1829-1855',\n",
       " '.Wang C. 2001 Investor Sentiment and Return Predictability in Agricultural FuturesMarkets Journal of Futures Markets 21 pp. 929-992',\n",
       " '.Wang C. 2003 The Effect of Net Positions by Trader Type on Volatility in ForeignCurrency Futures Markets Journal of Futures Markets 22 pp. 427-450',\n",
       " '.Wang C. 2003 The Behavior and Performance of Major Types of Futures TradersJournal of Futures Markets 23 pp. 1-31',\n",
       " '.413IP: 121.125.221.*** | Accessed 2018/10/24 09:18(KST)선물 시장 정보와 투자자 행태Futures Market Information and Trading BehaviorTaewoo Daniel KimPusan National UniversityKi Yool Ohk*Pusan National University']"
      ]
     },
     "execution_count": 95,
     "metadata": {},
     "output_type": "execute_result"
    }
   ],
   "source": [
    "testing_ls"
   ]
  },
  {
   "cell_type": "code",
   "execution_count": 106,
   "metadata": {
    "scrolled": true
   },
   "outputs": [
    {
     "data": {
      "text/plain": [
       "['AdamMller A and A Panaretou  Risk Management with Options and Futuresunder Liquidity Risk Journal of Futures Markets  pp ',\n",
       " 'Andersen T G and T Bollerslev  Answering the Skeptics Yes Standard VolatilityModels Do Provide Accurate Forecasts International Economic Review  pp',\n",
       " 'Andersen T T Bollerslev F X Diebold and P Labys  Modeling and Forecasting Realized Volatility Econometrica  pp ',\n",
       " 'Admati A and P Pfleiderer  A Theory of Intraday Patterns Volume and PriceVariability Review of Financial Studies   pp ',\n",
       " 'Adrangi B and A Chatrath  Futures Commitments and Exchange Rate VolatilityJournal of Business Finance and Accounting   ',\n",
       " 'Bessembinder H  Systematic risk Hedging Pressure and Risk Premiums in FuturesMarkets Review of Financial Studies   pp ',\n",
       " 'Bessembinder H and P J Seguin  Price Volatility Trading Volume and MarketDepth Evidence from Futures Market Journal of Financial and Quantitative Analysis  pp ',\n",
       " 'Chang E R Y Chou and E F Nelling  Market Volatility and the Demand forHedging in Stock Index Futures Journal of Futures Markets   pp ',\n",
       " 'Chatrath A S Ramchander and F Song  The Role of Futures Trading Activityin Exchange Rate Volatility Journal of Futures Markets   pp ',\n",
       " 'Chen N F C J Cuny and R A Haugen  Stock Volatility and the Levels of theBasis and Open Interest in Futures Contracts Journal of Finance   pp IP   Accessed  KST선물 시장 정보와 투자자 행태DeLong J B Shleifer A Summers L H and R J Waldmann  Positive Feedback Investment Strategies and Destabilizing Rational Speculation Journal ofFinance  pp ',\n",
       " 'De Roon F A Nijman T E and C Veld  Hedging Pressure Effects in FuturesMarkets Journal of Finance  pp ',\n",
       " 'French K R and R Roll  Stock Returns Variances The Arrival of Informationand the Reaction of Trades Journal of Financial Economics  pp ',\n",
       " 'Gospodiniv N A Gavala and D Jiang  Forecasting Volatility Journal of Forecasting  pp ',\n",
       " 'Hirschleifer J  Speculation and Equilibrium Information Risk and Markets Quarterly Journal of Economics  pp ',\n",
       " 'Hirschleifer J  Residual Risk Trading Costs and Commodity Futures Risk Premia Review of Financial Studies  pp ',\n",
       " 'Hirschleifer J  Hedging Pressure and Futures Price Movements in a GeneralEquilibrium Model Econometrica  pp ',\n",
       " 'Hong H  A Model of Returns and Trading in Futures Markets Journal of Finance  pp ',\n",
       " 'tomo N  Improving the Parkinson Method of Estimating Security Price Volatilities Journal of Business   pp ',\n",
       " 'Leuthold R M Garcia P and Lu R  The Returns and Forecasting Ability ofLarge Traders in the Frozen Pork Bellies Futures Markets Journal of Business pp ',\n",
       " 'Lien D and K P Wong  Multinationals and Futures Hedging under LiquidityConstraints Global Finance Journal  pp ',\n",
       " 'Lucia J J and A Pardo  On Measuring Speculative and Hedging Activities inFutures Markets from the Volume and Open Interest Data Applied Economics  pp ',\n",
       " 'Ltkepohl H Tersvirta T and Wolters J  Investigating Stability and Linearityof a German M Money Demand Function Journal of Applied Econometrics pp ',\n",
       " 'McMillan D G and A E H Speight  Nonlinear Dynamics in High FrequencyIntraday Financial Data Evidence for the UK Long Gilt Futures Market JournalIP   Accessed  KST한국증권학회지 제권 호 of Futures Markets  pp ',\n",
       " 'McMillan D G and A E H Speight  Nonlinear Dynamics and CompetingBehavioral Interpretations Evidence from Intraday FTSE Index and FuturesData Journal of Futures Markets  pp ',\n",
       " 'Nofsinger J R and R W Sias  Herding and Feedback Trading by Institutionaland Individual Investors Journal of Finance  pp ',\n",
       " 'Ohk K Y  Investors Trading Activity and Stock Market Volatility InternationalEvidence Journal of the Korean Data Analysis Society  ',\n",
       " 'Parkinson M  The Extreme Value Method for Estimating the Variance of theRate of Return Journal of Business   pp ',\n",
       " 'Shalen C T  Volume Volatility and the Dispersion of Beliefs Review of Financial Studies   pp ',\n",
       " 'Stein J C  Information Externalities and WelfareReducing Speculation Journalof Political Economy   pp ',\n",
       " 'Skalin J and T  Tersvirta Another Look at Swedish Business Cycles Journal ofApplied Econometrics  pp ',\n",
       " 'Tersvirta T  Specification Estimation and Evaluation of Smooth TransitionAutoRegressive Models Journal of the American Statistical Association  pp',\n",
       " 'Tersvirta T  Smooth Transition Models Systematic Dynamics in Economic andFinancial Models Chichester Wiley pp ',\n",
       " 'Tersvirta T  Modeling Economic Relationships with Smooth Transition Regression Handbook of Applied Economic Statistics pp ',\n",
       " 'Tersvirta T  Smooth Transition Regression Modeling Applied Time Series Econometrics pp ',\n",
       " 'Tonell A and C Yuan  Speculation and Hedging in the Currency Futures Markets Are They Informative to the Spot Exchange Rates Journal of FuturesMarkets  pp ',\n",
       " 'Tse T  Index Arbitrage with Heterogeneous Investors A Smooth TransitionError Correction Analysis Journal of Banking and Finance  pp ',\n",
       " 'Wang C  Investor Sentiment and Return Predictability in Agricultural FuturesMarkets Journal of Futures Markets  pp ',\n",
       " 'Wang C  The Effect of Net Positions by Trader Type on Volatility in ForeignCurrency Futures Markets Journal of Futures Markets  pp ',\n",
       " 'Wang C  The Behavior and Performance of Major Types of Futures TradersJournal of Futures Markets  pp ',\n",
       " 'IP   Accessed  KST선물 시장 정보와 투자자 행태Futures Market Information and Trading BehaviorTaewoo Daniel KimPusan National UniversityKi Yool OhkPusan National University']"
      ]
     },
     "execution_count": 106,
     "metadata": {},
     "output_type": "execute_result"
    }
   ],
   "source": [
    "t1 = [','.join(re.findall('[a-zA-Z가-힣\\s]',i)).replace(',','') for i in testing_ls]\n",
    "t1"
   ]
  },
  {
   "cell_type": "code",
   "execution_count": 104,
   "metadata": {
    "scrolled": true
   },
   "outputs": [
    {
     "data": {
      "text/plain": [
       "['AdamMller A and A PanaretouRisk Management with Options and Futuresunder Liquidity Risk Journal of Futures Markets ',\n",
       " 'Andersen T G and T BollerslevAnswering the Skeptics Yes Standard VolatilityModels Do Provide Accurate Forecasts International Economic Review',\n",
       " 'Andersen T T Bollerslev F X Diebold and P LabysModeling and Forecasting Realized Volatility Econometrica ',\n",
       " 'Admati A and P PfleidererA Theory of Intraday Patterns Volume and PriceVariability Review of Financial Studies',\n",
       " 'Adrangi B and A ChatrathFutures Commitments and Exchange Rate VolatilityJournal of Business Finance and Accounting ',\n",
       " 'Bessembinder HSystematic risk Hedging Pressure and Risk Premiums in FuturesMarkets Review of Financial Studies',\n",
       " 'Bessembinder H and P J SeguinPrice Volatility Trading Volume and MarketDepth Evidence from Futures Market Journal of Financial and Quantitative Analysis ',\n",
       " 'Chang E R Y Chou and E F NellingMarket Volatility and the Demand forHedging in Stock Index Futures Journal of Futures Markets',\n",
       " 'Chatrath A S Ramchander and F SongThe Role of Futures Trading Activityin Exchange Rate Volatility Journal of Futures Markets',\n",
       " 'Chen N F C J Cuny and R A HaugenStock Volatility and the Levels of theBasis and Open Interest in Futures Contracts Journal of FinanceIP AccessedKST선물 시장 정보와 투자자 행태DeLong J B Shleifer A Summers L H and R J WaldmannPositive Feedback Investment Strategies and Destabilizing Rational Speculation Journal ofFinance ',\n",
       " 'De Roon F A Nijman T E and C VeldHedging Pressure Effects in FuturesMarkets Journal of Finance ',\n",
       " 'French K R and R RollStock Returns Variances The Arrival of Informationand the Reaction of Trades Journal of Financial Economics ',\n",
       " 'Gospodiniv N A Gavala and D JiangForecasting Volatility Journal of Forecasting ',\n",
       " 'Hirschleifer JSpeculation and Equilibrium Information Risk and Markets Quarterly Journal of Economics ',\n",
       " 'Hirschleifer JResidual Risk Trading Costs and Commodity Futures Risk Premia Review of Financial Studies ',\n",
       " 'Hirschleifer JHedging Pressure and Futures Price Movements in a GeneralEquilibrium Model Econometrica ',\n",
       " 'Hong HA Model of Returns and Trading in Futures Markets Journal of Finance ',\n",
       " 'tomo NImproving the Parkinson Method of Estimating Security Price Volatilities Journal of Business',\n",
       " 'Leuthold R M Garcia P and Lu RThe Returns and Forecasting Ability ofLarge Traders in the Frozen Pork Bellies Futures Markets Journal of Business',\n",
       " 'Lien D and K P WongMultinationals and Futures Hedging under LiquidityConstraints Global Finance Journal ',\n",
       " 'Lucia J J and A PardoOn Measuring Speculative and Hedging Activities inFutures Markets from the Volume and Open Interest Data Alied Economics ',\n",
       " 'Ltkepohl H Tersvirta T and Wolters JInvestigating Stability and Linearityof a German M Money Demand Function Journal of Alied Econometrics',\n",
       " 'McMillan D G and A E H SpeightNonlinear Dynamics in High FrequencyIntraday Financial Data Evidence for the UK Long Gilt Futures Market JournalIP AccessedKST한국증권학회지 제권 호 of Futures Markets ',\n",
       " 'McMillan D G and A E H SpeightNonlinear Dynamics and CompetingBehavioral Interpretations Evidence from Intraday FTSE Index and FuturesData Journal of Futures Markets ',\n",
       " 'Nofsinger J R and R W SiasHerding and Feedback Trading by Institutionaland Individual Investors Journal of Finance ',\n",
       " 'Ohk K YInvestors Trading Activity and Stock Market Volatility InternationalEvidence Journal of the Korean Data Analysis Society',\n",
       " 'Parkinson MThe Extreme Value Method for Estimating the Variance of theRate of Return Journal of Business',\n",
       " 'Shalen C TVolume Volatility and the Dispersion of Beliefs Review of Financial Studies',\n",
       " 'Stein J CInformation Externalities and WelfareReducing Speculation Journalof Political Economy',\n",
       " 'Skalin J and TTersvirta Another Look at Swedish Business Cycles Journal ofAlied Econometrics ',\n",
       " 'Tersvirta TSpecification Estimation and Evaluation of Smooth TransitionAutoRegressive Models Journal of the American Statistical Association',\n",
       " 'Tersvirta TSmooth Transition Models Systematic Dynamics in Economic andFinancial Models Chichester Wiley',\n",
       " 'Tersvirta TModeling Economic Relationships with Smooth Transition Regression Handbook of Alied Economic Statistics',\n",
       " 'Tersvirta TSmooth Transition Regression Modeling Alied Time Series Econometrics',\n",
       " 'Tonell A and C YuanSpeculation and Hedging in the Currency Futures Markets Are They Informative to the Spot Exchange Rates Journal of FuturesMarkets ',\n",
       " 'Tse TIndex Arbitrage with Heterogeneous Investors A Smooth TransitionError Correction Analysis Journal of Banking and Finance ',\n",
       " 'Wang CInvestor Sentiment and Return Predictability in Agricultural FuturesMarkets Journal of Futures Markets ',\n",
       " 'Wang CThe Effect of Net Positions by Trader Type on Volatility in ForeignCurrency Futures Markets Journal of Futures Markets ',\n",
       " 'Wang CThe Behavior and Performance of Major Types of Futures TradersJournal of Futures Markets ',\n",
       " 'IP AccessedKST선물 시장 정보와 투자자 행태Futures Market Information and Trading BehaviorTaewoo Daniel KimPusan National UniversityKi Yool OhkPusan National University']"
      ]
     },
     "execution_count": 104,
     "metadata": {},
     "output_type": "execute_result"
    }
   ],
   "source": [
    "[i.replace('pp','').replace('  ','') for i in t1]"
   ]
  },
  {
   "cell_type": "code",
   "execution_count": 82,
   "metadata": {},
   "outputs": [],
   "source": [
    "append_ls = []\n",
    "\n",
    "for idx in range(len(testing_ls)):\n",
    "    append_ls.append(testing_ls[idx].split(\" \")[len(testing_ls[idx].split(\" \")) // 2:])"
   ]
  },
  {
   "cell_type": "code",
   "execution_count": 108,
   "metadata": {
    "scrolled": false
   },
   "outputs": [
    {
     "data": {
      "text/plain": [
       "['.Adam-Müller A. and A. Panaretou 2009 Risk Management with Options and Futuresunder Liquidity Risk Journal of Futures Markets 29 pp. 297-318',\n",
       " '.Andersen T. G. and T. Bollerslev 1998 Answering the Skeptics: Yes Standard VolatilityModels Do Provide Accurate Forecasts International Economic Review 39 pp.885-905',\n",
       " '.Andersen T. T. Bollerslev F. X. Diebold and P. Labys 2003 Modeling and Forecasting Realized Volatility Econometrica 71 pp. 579-625',\n",
       " '.Admati A. and P. Pfleiderer 1988 A Theory of Intraday Patterns: Volume and PriceVariability Review of Financial Studies 1 (1) pp. 3-40',\n",
       " '.Adrangi B. and A. Chatrath 1998 Futures Commitments and Exchange Rate VolatilityJournal of Business Finance and Accounting 25 (3) 501-525',\n",
       " '.Bessembinder H. 1992 Systematic risk Hedging Pressure and Risk Premiums in FuturesMarkets Review of Financial Studies 5 (4) pp. 637-667',\n",
       " '.Bessembinder H. and P. J. Seguin 1993 Price Volatility Trading Volume and MarketDepth: Evidence from Futures Market Journal of Financial and Quantitative Analysis28 (1) pp. 21-39',\n",
       " '.Chang E. R. Y. Chou. and E. F. Nelling 2000 Market Volatility and the Demand forHedging in Stock Index Futures Journal of Futures Markets 20 (2) pp. 105-125',\n",
       " '.Chatrath A. S. Ramchander and F. Song 1996 The Role of Futures Trading Activityin Exchange Rate Volatility Journal of Futures Markets 16 (5) pp. 561-584',\n",
       " '.Chen N. F. C. J. Cuny and R. A. Haugen 1995 Stock Volatility and the Levels of theBasis and Open Interest in Futures Contracts Journal of Finance 50 (1) pp. 281300.411IP: 121.125.221.*** | Accessed 2018/10/24 09:18(KST)선물 시장 정보와 투자자 행태DeLong J. B. Shleifer A. Summers L. H. and R. J. Waldmann 1990 Positive Feedback Investment Strategies and Destabilizing Rational Speculation Journal ofFinance 45 pp. 379-395',\n",
       " '.De Roon F. A. Nijman T. E. and C. Veld 2000 Hedging Pressure Effects in FuturesMarkets Journal of Finance 55 pp. 1456-1473',\n",
       " '.French K. R. and R. Roll 1986 Stock Returns Variances: The Arrival of Informationand the Reaction of Trades Journal of Financial Economics 19 pp. 3-29',\n",
       " '.Gospodiniv N. A. Gavala and D. Jiang 2006 Forecasting Volatility Journal of Forecasting 26 pp. 381-400',\n",
       " '.Hirschleifer J. 1975 Speculation and Equilibrium: Information Risk and Markets Quarterly Journal of Economics 89 pp. 519-542',\n",
       " '.Hirschleifer J. 1988 Residual Risk Trading Costs and Commodity Futures Risk Premia Review of Financial Studies 1 pp. 173-193',\n",
       " '.Hirschleifer J. 1990 Hedging Pressure and Futures Price Movements in a GeneralEquilibrium Model Econometrica 58 pp. 411-428',\n",
       " '.Hong H. 2000 A Model of Returns and Trading in Futures Markets Journal of Finance55 (2) pp. 959-988',\n",
       " 'tomo N. 1992 Improving the Parkinson Method of Estimating Security Price Volatilities Journal of Business 65 (2) pp. 295-302',\n",
       " '.Leuthold R. M. Garcia P. and Lu R. 1994 The Returns and Forecasting Ability ofLarge Traders in the Frozen Pork Bellies Futures Markets Journal of Business67 pp. 459-473',\n",
       " '.Lien D. and K. P. Wong 2005 Multinationals and Futures Hedging under LiquidityConstraints Global Finance Journal 16 pp. 210-220',\n",
       " '.Lucia J. J. and A. Pardo 2010 On Measuring Speculative and Hedging Activities inFutures Markets from the Volume and Open Interest Data Applied Economics 42(12) pp. 1549-1557',\n",
       " '.Lütkepohl H. Teräsvirta T. and Wolters J. 1999 Investigating Stability and Linearityof a German M1 Money Demand Function Journal of Applied Econometrics 14pp. 511-525',\n",
       " '.McMillan D. G. and A. E. H. Speight 2002 Nonlinear Dynamics in High FrequencyIntraday Financial Data: Evidence for the UK Long Gilt Futures Market Journal412IP: 121.125.221.*** | Accessed 2018/10/24 09:18(KST)한국증권학회지 제43권 2호 (2014)of Futures Markets 22 pp. 1037-1057',\n",
       " '.McMillan D. G. and A. E. H. Speight 2006 Nonlinear Dynamics and CompetingBehavioral Interpretations: Evidence from Intra-day FTSE-100 Index and FuturesData Journal of Futures Markets 26 pp. 343-368',\n",
       " '.Nofsinger J. R. and R. W. Sias 1999 Herding and Feedback Trading by Institutionaland Individual Investors Journal of Finance 54 pp. 2263-2295',\n",
       " '.Ohk K. Y. 2011 Investor’s Trading Activity and Stock Market Volatility: InternationalEvidence Journal of the Korean Data Analysis Society 13 2253-2261',\n",
       " '.Parkinson M. 1980 The Extreme Value Method for Estimating the Variance of theRate of Return Journal of Business 53 (1) pp. 61-65',\n",
       " '.Shalen C. T. 1993 Volume Volatility and the Dispersion of Beliefs Review of Financial Studies 6 (2) pp. 405-434',\n",
       " '.Stein J. C. 1987 Information Externalities and Welfare-Reducing Speculation Journalof Political Economy 95 (6) pp. 1123-1145',\n",
       " '.Skalin J. and T. 1999 Teräsvirta Another Look at Swedish Business Cycles Journal ofApplied Econometrics 14 pp. 359-378',\n",
       " '.Teräsvirta T. 1994 Specification Estimation and Evaluation of Smooth TransitionAutoRegressive Models Journal of the American Statistical Association 89 pp.208-218',\n",
       " '.Teräsvirta T. 1997 Smooth Transition Models Systematic Dynamics in Economic andFinancial Models Chichester: Wiley pp. 109-136',\n",
       " '.Teräsvirta T. 1998 Modeling Economic Relationships with Smooth Transition Regression Handbook of Applied Economic Statistics pp. 502-552',\n",
       " '.Teräsvirta T. 2004 Smooth Transition Regression Modeling Applied Time Series Econometrics pp. 222-242',\n",
       " '.Tonell A. and C. Yuan 2012 Speculation and Hedging in the Currency Futures Markets: Are They Informative to the Spot Exchange Rates Journal of FuturesMarkets 32 pp. 122-151',\n",
       " '.Tse T. 2001 Index Arbitrage with Heterogeneous Investors: A Smooth TransitionError Correction Analysis Journal of Banking and Finance 25 pp. 1829-1855',\n",
       " '.Wang C. 2001 Investor Sentiment and Return Predictability in Agricultural FuturesMarkets Journal of Futures Markets 21 pp. 929-992',\n",
       " '.Wang C. 2003 The Effect of Net Positions by Trader Type on Volatility in ForeignCurrency Futures Markets Journal of Futures Markets 22 pp. 427-450',\n",
       " '.Wang C. 2003 The Behavior and Performance of Major Types of Futures TradersJournal of Futures Markets 23 pp. 1-31',\n",
       " '.413IP: 121.125.221.*** | Accessed 2018/10/24 09:18(KST)선물 시장 정보와 투자자 행태Futures Market Information and Trading BehaviorTaewoo Daniel KimPusan National UniversityKi Yool Ohk*Pusan National University']"
      ]
     },
     "execution_count": 108,
     "metadata": {},
     "output_type": "execute_result"
    }
   ],
   "source": [
    "testing_ls"
   ]
  }
 ],
 "metadata": {
  "kernelspec": {
   "display_name": "Python 3",
   "language": "python",
   "name": "python3"
  },
  "language_info": {
   "codemirror_mode": {
    "name": "ipython",
    "version": 3
   },
   "file_extension": ".py",
   "mimetype": "text/x-python",
   "name": "python",
   "nbconvert_exporter": "python",
   "pygments_lexer": "ipython3",
   "version": "3.6.3"
  }
 },
 "nbformat": 4,
 "nbformat_minor": 2
}
