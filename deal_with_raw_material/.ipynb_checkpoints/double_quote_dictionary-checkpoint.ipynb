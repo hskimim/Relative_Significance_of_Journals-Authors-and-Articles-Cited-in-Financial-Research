{
 "cells": [
  {
   "cell_type": "code",
   "execution_count": 1,
   "metadata": {},
   "outputs": [],
   "source": [
    "import pandas as pd\n",
    "import oop_func as func\n",
    "import personal_pkg as ref\n",
    "import os\n",
    "import re\n",
    "from collections import Counter\n",
    "import warnings\n",
    "warnings.filterwarnings(\"ignore\")"
   ]
  },
  {
   "cell_type": "markdown",
   "metadata": {},
   "source": [
    "## Description_1\n",
    "- 한국재무관리학회 : fm_file\n",
    "- 한국재무학회 : f_file\n",
    "- 한국증권학회지 : sc_file\n",
    "- 한국파생상품학회 : dr_file"
   ]
  },
  {
   "cell_type": "markdown",
   "metadata": {},
   "source": [
    "## Description_2\n",
    "- 저널 별 텍스트 데이터\n",
    "- 연도 별 텍스트 데이터"
   ]
  },
  {
   "cell_type": "markdown",
   "metadata": {},
   "source": [
    "#### 저널 별 데이터를 모으자"
   ]
  },
  {
   "cell_type": "code",
   "execution_count": 2,
   "metadata": {},
   "outputs": [],
   "source": [
    "def journal_txt_ls(journal):\n",
    "    file_path = \\\n",
    "    sorted(['../paper_list/{}/'.format(journal) + i for i in [i for i in os.listdir('../paper_list/{}/'.format(journal)) if '20' in i]])\n",
    "\n",
    "    journal_txt_ls = []\n",
    "\n",
    "    for year,i in enumerate([os.listdir(i) for i in file_path]) : \n",
    "        txt_ls = []\n",
    "        for j in i : \n",
    "            if 'txt' in j :\n",
    "                txt_ls.append(file_path[year] +'/'+ j)\n",
    "        journal_txt_ls.append(txt_ls)\n",
    "\n",
    "    return journal_txt_ls"
   ]
  },
  {
   "cell_type": "code",
   "execution_count": 3,
   "metadata": {},
   "outputs": [],
   "source": [
    "fm_txt_ls = journal_txt_ls('한국재무관리학회')\n",
    "sc_txt_ls = journal_txt_ls('한국증권학회지')\n",
    "dr_txt_ls = journal_txt_ls('한국파생상품학회')\n",
    "f_txt_ls = journal_txt_ls('한국재무학회')"
   ]
  },
  {
   "cell_type": "code",
   "execution_count": 4,
   "metadata": {},
   "outputs": [
    {
     "data": {
      "text/plain": [
       "(15, 17, 17, 17)"
      ]
     },
     "execution_count": 4,
     "metadata": {},
     "output_type": "execute_result"
    }
   ],
   "source": [
    "len(fm_txt_ls) , len(dr_txt_ls) , len(sc_txt_ls) , len(f_txt_ls)"
   ]
  },
  {
   "cell_type": "markdown",
   "metadata": {},
   "source": [
    "## 저널별 citation_analysis"
   ]
  },
  {
   "cell_type": "code",
   "execution_count": 5,
   "metadata": {},
   "outputs": [],
   "source": [
    "fm_path = [refer for i in fm_txt_ls for refer in i]\n",
    "f_path = [refer for i in f_txt_ls for refer in i]\n",
    "sc_path = [refer for i in sc_txt_ls for refer in i]\n",
    "dr_path = [refer for i in dr_txt_ls for refer in i]"
   ]
  },
  {
   "cell_type": "code",
   "execution_count": 6,
   "metadata": {},
   "outputs": [],
   "source": [
    "def split_to_sent(file_path):\n",
    "    sent_refer_ls = []\n",
    "    error_ls = []\n",
    "\n",
    "    for path in file_path :\n",
    "        try : \n",
    "            ca = func.Slicing_paper(path)\n",
    "            sent_refer_ls.append(ca.split())\n",
    "        except Exception as e: error_ls.append((e,path))\n",
    "    \n",
    "    return [j for i in sent_refer_ls for j in i] , error_ls"
   ]
  },
  {
   "cell_type": "code",
   "execution_count": 7,
   "metadata": {},
   "outputs": [],
   "source": [
    "fm_sent_ls , fm_error_ls = split_to_sent(fm_path)\n",
    "f_sent_ls , f_error_ls = split_to_sent(f_path)\n",
    "sc_sent_ls , sc_error_ls = split_to_sent(sc_path)\n",
    "dr_sent_ls , dr_error_ls = split_to_sent(dr_path)"
   ]
  },
  {
   "cell_type": "code",
   "execution_count": 8,
   "metadata": {},
   "outputs": [
    {
     "data": {
      "text/plain": [
       "(11511, 9057, 13211, 8807)"
      ]
     },
     "execution_count": 8,
     "metadata": {},
     "output_type": "execute_result"
    }
   ],
   "source": [
    "len(fm_sent_ls),len(f_sent_ls),len(sc_sent_ls),len(dr_sent_ls)"
   ]
  },
  {
   "cell_type": "code",
   "execution_count": 9,
   "metadata": {},
   "outputs": [
    {
     "data": {
      "text/plain": [
       "(76, 15, 24, 55)"
      ]
     },
     "execution_count": 9,
     "metadata": {},
     "output_type": "execute_result"
    }
   ],
   "source": [
    "len(fm_error_ls),len(f_error_ls),len(sc_error_ls),len(dr_error_ls)"
   ]
  },
  {
   "cell_type": "markdown",
   "metadata": {},
   "source": [
    "# double_quote_ls 를 만든다."
   ]
  },
  {
   "cell_type": "code",
   "execution_count": 19,
   "metadata": {},
   "outputs": [
    {
     "data": {
      "text/plain": [
       "(11511, 9057, 13211, 8807)"
      ]
     },
     "execution_count": 19,
     "metadata": {},
     "output_type": "execute_result"
    }
   ],
   "source": [
    "len(fm_sent_ls),len(f_sent_ls),len(sc_sent_ls),len(dr_sent_ls)"
   ]
  },
  {
   "cell_type": "code",
   "execution_count": 20,
   "metadata": {},
   "outputs": [
    {
     "data": {
      "text/plain": [
       "0.883155242811224"
      ]
     },
     "execution_count": 20,
     "metadata": {},
     "output_type": "execute_result"
    }
   ],
   "source": [
    "fm_double_quote_line = [i for i in fm_sent_ls if re.search(\"“\",i) and re.search(\"”\",i)]\n",
    "len(fm_double_quote_line) / len([i for i in fm_sent_ls])"
   ]
  },
  {
   "cell_type": "code",
   "execution_count": 21,
   "metadata": {},
   "outputs": [
    {
     "data": {
      "text/plain": [
       "0.7302638842883957"
      ]
     },
     "execution_count": 21,
     "metadata": {},
     "output_type": "execute_result"
    }
   ],
   "source": [
    "f_double_quote_line = [i for i in f_sent_ls if re.search(\"“\",i) and re.search(\"”\",i)]\n",
    "len(f_double_quote_line) / len([i for i in f_sent_ls])"
   ]
  },
  {
   "cell_type": "code",
   "execution_count": 22,
   "metadata": {},
   "outputs": [
    {
     "data": {
      "text/plain": [
       "0.2276133525092726"
      ]
     },
     "execution_count": 22,
     "metadata": {},
     "output_type": "execute_result"
    }
   ],
   "source": [
    "sc_double_quote_line = [i for i in sc_sent_ls if re.search(\"“\",i) and re.search(\"”\",i)]\n",
    "len(sc_double_quote_line) / len([i for i in sc_sent_ls])"
   ]
  },
  {
   "cell_type": "code",
   "execution_count": 23,
   "metadata": {},
   "outputs": [
    {
     "data": {
      "text/plain": [
       "0.2505961167253321"
      ]
     },
     "execution_count": 23,
     "metadata": {},
     "output_type": "execute_result"
    }
   ],
   "source": [
    "dr_double_quote_line = [i for i in dr_sent_ls if re.search(\"“\",i) and re.search(\"”\",i)]\n",
    "len(dr_double_quote_line) / len([i for i in dr_sent_ls])"
   ]
  },
  {
   "cell_type": "markdown",
   "metadata": {},
   "source": [
    "_____"
   ]
  },
  {
   "cell_type": "markdown",
   "metadata": {},
   "source": [
    "# Dictionary 를 만든다."
   ]
  },
  {
   "cell_type": "code",
   "execution_count": 61,
   "metadata": {},
   "outputs": [],
   "source": [
    "fm_paper_name = [re.findall(\"“.+”\",i)[0].strip() if len(re.findall(\"“.+”\",i)) else '0' for i in fm_double_quote_line ]\n",
    "f_paper_name = [re.findall(\"“.+”\",i)[0].strip() if len(re.findall(\"“.+”\",i)) else '0' for i in f_double_quote_line ]\n",
    "sc_paper_name = [re.findall(\"“.+”\",i)[0].strip() if len(re.findall(\"“.+”\",i)) else '0' for i in sc_double_quote_line ]\n",
    "dr_paper_name = [re.findall(\"“.+”\",i)[0].strip() if len(re.findall(\"“.+”\",i)) else '0' for i in dr_double_quote_line ]"
   ]
  },
  {
   "cell_type": "code",
   "execution_count": 62,
   "metadata": {},
   "outputs": [],
   "source": [
    "fm_paper_name = [i.replace(\"“\",'').replace(\"”\",\"\") for i in fm_paper_name]\n",
    "f_paper_name = [i.replace(\"“\",'').replace(\"”\",\"\") for i in f_paper_name]\n",
    "sc_paper_name = [i.replace(\"“\",'').replace(\"”\",\"\") for i in sc_paper_name]\n",
    "dr_paper_name = [i.replace(\"“\",'').replace(\"”\",\"\") for i in dr_paper_name]"
   ]
  },
  {
   "cell_type": "code",
   "execution_count": 63,
   "metadata": {},
   "outputs": [],
   "source": [
    "fm_author_name = [i[:re.search(\"“\",i).start()].strip() for i in fm_double_quote_line]\n",
    "f_author_name = [i[:re.search(\"“\",i).start()].strip() for i in f_double_quote_line]\n",
    "sc_author_name = [i[:re.search(\"“\",i).start()].strip() for i in sc_double_quote_line]\n",
    "dr_author_name = [i[:re.search(\"“\",i).start()].strip() for i in dr_double_quote_line]"
   ]
  },
  {
   "cell_type": "code",
   "execution_count": 64,
   "metadata": {},
   "outputs": [],
   "source": [
    "fm_journal_name = [i[re.search(\"”\",i).end():].strip() for i in fm_double_quote_line]\n",
    "f_journal_name = [i[re.search(\"”\",i).end():].strip() for i in f_double_quote_line]\n",
    "sc_journal_name = [i[re.search(\"”\",i).end():].strip() for i in sc_double_quote_line]\n",
    "dr_journal_name = [i[re.search(\"”\",i).end():].strip() for i in dr_double_quote_line]"
   ]
  },
  {
   "cell_type": "code",
   "execution_count": 101,
   "metadata": {},
   "outputs": [],
   "source": [
    "fm_journal_name = [re.sub('[(].+[)]|\\d','',i) for i in fm_journal_name]\n",
    "fm_journal_name = [re.sub('제권 제호|제\\s*호|제\\s*권|제\\s*편|제\\s*집\\s*권\\s*호|[.]','',i).strip() for i in fm_journal_name]"
   ]
  },
  {
   "cell_type": "code",
   "execution_count": 102,
   "metadata": {},
   "outputs": [],
   "source": [
    "fm_year_name = [re.findall('20[0-9]{2}|19[0-9]{2}',i)[0] if re.findall('20[0-9]{2}|19[0-9]{2}',i) else 'None' for i in fm_double_quote_line]\n",
    "f_year_name = [re.findall('20[0-9]{2}|19[0-9]{2}',i)[0] if re.findall('20[0-9]{2}|19[0-9]{2}',i) else 'None' for i in f_double_quote_line]\n",
    "sc_year_name = [re.findall('20[0-9]{2}|19[0-9]{2}',i)[0] if re.findall('20[0-9]{2}|19[0-9]{2}',i) else 'None' for i in sc_double_quote_line]\n",
    "dr_year_name = [re.findall('20[0-9]{2}|19[0-9]{2}',i)[0] if re.findall('20[0-9]{2}|19[0-9]{2}',i) else 'None' for i in dr_double_quote_line]"
   ]
  },
  {
   "cell_type": "code",
   "execution_count": 103,
   "metadata": {},
   "outputs": [],
   "source": [
    "fm_dict = list(zip(fm_paper_name , fm_author_name , fm_journal_name,fm_year_name))\n",
    "f_dict = list(zip(f_paper_name , f_author_name , f_journal_name,f_year_name))\n",
    "sc_dict = list(zip(sc_paper_name , sc_author_name , sc_journal_name,sc_year_name))\n",
    "dr_dict = list(zip(dr_paper_name , dr_author_name , dr_journal_name,dr_year_name))"
   ]
  },
  {
   "cell_type": "code",
   "execution_count": 106,
   "metadata": {},
   "outputs": [
    {
     "data": {
      "text/plain": [
       "21994"
      ]
     },
     "execution_count": 106,
     "metadata": {},
     "output_type": "execute_result"
    }
   ],
   "source": [
    "total_dict = fm_dict + f_dict + sc_dict + dr_dict\n",
    "len(total_dict)"
   ]
  },
  {
   "cell_type": "code",
   "execution_count": 108,
   "metadata": {},
   "outputs": [],
   "source": [
    "dictionary_df = pd.DataFrame()\n",
    "dictionary_df['paper_name'] = [i[0] for i in total_dict]\n",
    "dictionary_df['author'] = [i[1] for i in total_dict]\n",
    "dictionary_df['journal'] = [i[2] for i in total_dict]\n",
    "dictionary_df['year'] = [i[3] for i in total_dict]"
   ]
  },
  {
   "cell_type": "code",
   "execution_count": 110,
   "metadata": {},
   "outputs": [],
   "source": [
    "dictionary_df.to_csv(\"dictionary_df.csv\",index=False)"
   ]
  }
 ],
 "metadata": {
  "kernelspec": {
   "display_name": "Python 3",
   "language": "python",
   "name": "python3"
  },
  "language_info": {
   "codemirror_mode": {
    "name": "ipython",
    "version": 3
   },
   "file_extension": ".py",
   "mimetype": "text/x-python",
   "name": "python",
   "nbconvert_exporter": "python",
   "pygments_lexer": "ipython3",
   "version": "3.6.6"
  }
 },
 "nbformat": 4,
 "nbformat_minor": 2
}
