{
 "cells": [
  {
   "cell_type": "code",
   "execution_count": 1,
   "metadata": {},
   "outputs": [],
   "source": [
    "import pandas as pd\n",
    "import oop_func as func\n",
    "import personal_pkg as ref\n",
    "import os\n",
    "import re\n",
    "from collections import Counter\n",
    "import warnings\n",
    "warnings.filterwarnings(\"ignore\")"
   ]
  },
  {
   "cell_type": "markdown",
   "metadata": {},
   "source": [
    "## Description_1\n",
    "- 한국재무관리학회 : fm_file\n",
    "- 한국재무학회 : f_file\n",
    "- 한국증권학회지 : sc_file\n",
    "- 한국파생상품학회 : dr_file"
   ]
  },
  {
   "cell_type": "markdown",
   "metadata": {},
   "source": [
    "## Description_2\n",
    "- 저널 별 텍스트 데이터\n",
    "- 연도 별 텍스트 데이터"
   ]
  },
  {
   "cell_type": "markdown",
   "metadata": {},
   "source": [
    "#### 저널 별 데이터를 모으자"
   ]
  },
  {
   "cell_type": "code",
   "execution_count": 2,
   "metadata": {},
   "outputs": [],
   "source": [
    "def journal_txt_ls(journal):\n",
    "    file_path = \\\n",
    "    sorted(['../paper_list/{}/'.format(journal) + i for i in [i for i in os.listdir('../paper_list/{}/'.format(journal)) if '20' in i]])\n",
    "\n",
    "    journal_txt_ls = []\n",
    "\n",
    "    for year,i in enumerate([os.listdir(i) for i in file_path]) : \n",
    "        txt_ls = []\n",
    "        for j in i : \n",
    "            if 'txt' in j :\n",
    "                txt_ls.append(file_path[year] +'/'+ j)\n",
    "        journal_txt_ls.append(txt_ls)\n",
    "\n",
    "    return journal_txt_ls"
   ]
  },
  {
   "cell_type": "code",
   "execution_count": 3,
   "metadata": {},
   "outputs": [],
   "source": [
    "fm_txt_ls = journal_txt_ls('한국재무관리학회')\n",
    "sc_txt_ls = journal_txt_ls('한국증권학회지')\n",
    "dr_txt_ls = journal_txt_ls('한국파생상품학회')\n",
    "f_txt_ls = journal_txt_ls('한국재무학회')"
   ]
  },
  {
   "cell_type": "code",
   "execution_count": 4,
   "metadata": {},
   "outputs": [
    {
     "data": {
      "text/plain": [
       "(15, 17, 17, 17)"
      ]
     },
     "execution_count": 4,
     "metadata": {},
     "output_type": "execute_result"
    }
   ],
   "source": [
    "len(fm_txt_ls) , len(dr_txt_ls) , len(sc_txt_ls) , len(f_txt_ls)"
   ]
  },
  {
   "cell_type": "markdown",
   "metadata": {},
   "source": [
    "## 저널별 citation_analysis"
   ]
  },
  {
   "cell_type": "code",
   "execution_count": 5,
   "metadata": {},
   "outputs": [],
   "source": [
    "fm_path = [refer for i in fm_txt_ls for refer in i]\n",
    "f_path = [refer for i in f_txt_ls for refer in i]\n",
    "sc_path = [refer for i in sc_txt_ls for refer in i]\n",
    "dr_path = [refer for i in dr_txt_ls for refer in i]"
   ]
  },
  {
   "cell_type": "code",
   "execution_count": 6,
   "metadata": {},
   "outputs": [],
   "source": [
    "def split_to_sent(file_path):\n",
    "    sent_refer_ls = []\n",
    "    error_ls = []\n",
    "\n",
    "    for path in file_path :\n",
    "        try : \n",
    "            ca = func.Slicing_paper(path)\n",
    "            sent_refer_ls.append(ca.split())\n",
    "        except Exception as e: error_ls.append((e,path))\n",
    "    \n",
    "    return [j for i in sent_refer_ls for j in i] , error_ls"
   ]
  },
  {
   "cell_type": "code",
   "execution_count": 7,
   "metadata": {},
   "outputs": [],
   "source": [
    "fm_sent_ls , fm_error_ls = split_to_sent(fm_path)\n",
    "f_sent_ls , f_error_ls = split_to_sent(f_path)\n",
    "sc_sent_ls , sc_error_ls = split_to_sent(sc_path)\n",
    "dr_sent_ls , dr_error_ls = split_to_sent(dr_path)"
   ]
  },
  {
   "cell_type": "code",
   "execution_count": 8,
   "metadata": {},
   "outputs": [
    {
     "data": {
      "text/plain": [
       "(11511, 9057, 13211, 8807)"
      ]
     },
     "execution_count": 8,
     "metadata": {},
     "output_type": "execute_result"
    }
   ],
   "source": [
    "len(fm_sent_ls),len(f_sent_ls),len(sc_sent_ls),len(dr_sent_ls)"
   ]
  },
  {
   "cell_type": "code",
   "execution_count": 9,
   "metadata": {},
   "outputs": [
    {
     "data": {
      "text/plain": [
       "(76, 15, 24, 55)"
      ]
     },
     "execution_count": 9,
     "metadata": {},
     "output_type": "execute_result"
    }
   ],
   "source": [
    "len(fm_error_ls),len(f_error_ls),len(sc_error_ls),len(dr_error_ls)"
   ]
  },
  {
   "cell_type": "markdown",
   "metadata": {},
   "source": [
    "double quote 가 열리도 닫히는 라인을 double quote line 으로 명명한다."
   ]
  },
  {
   "cell_type": "code",
   "execution_count": 10,
   "metadata": {},
   "outputs": [
    {
     "data": {
      "text/plain": [
       "(11511, 9057, 13211, 8807)"
      ]
     },
     "execution_count": 10,
     "metadata": {},
     "output_type": "execute_result"
    }
   ],
   "source": [
    "len(fm_sent_ls),len(f_sent_ls),len(sc_sent_ls),len(dr_sent_ls)"
   ]
  },
  {
   "cell_type": "code",
   "execution_count": 11,
   "metadata": {},
   "outputs": [
    {
     "data": {
      "text/plain": [
       "0.883155242811224"
      ]
     },
     "execution_count": 11,
     "metadata": {},
     "output_type": "execute_result"
    }
   ],
   "source": [
    "double_quote_line = [i for i in fm_sent_ls if re.search(\"“\",i) and re.search(\"”\",i)]\n",
    "len(double_quote_line) / len([i for i in fm_sent_ls])"
   ]
  },
  {
   "cell_type": "code",
   "execution_count": 12,
   "metadata": {},
   "outputs": [
    {
     "data": {
      "text/plain": [
       "0.7302638842883957"
      ]
     },
     "execution_count": 12,
     "metadata": {},
     "output_type": "execute_result"
    }
   ],
   "source": [
    "double_quote_line = [i for i in f_sent_ls if re.search(\"“\",i) and re.search(\"”\",i)]\n",
    "len(double_quote_line) / len([i for i in f_sent_ls])"
   ]
  },
  {
   "cell_type": "code",
   "execution_count": 13,
   "metadata": {},
   "outputs": [
    {
     "data": {
      "text/plain": [
       "0.2276133525092726"
      ]
     },
     "execution_count": 13,
     "metadata": {},
     "output_type": "execute_result"
    }
   ],
   "source": [
    "double_quote_line = [i for i in sc_sent_ls if re.search(\"“\",i) and re.search(\"”\",i)]\n",
    "len(double_quote_line) / len([i for i in sc_sent_ls])"
   ]
  },
  {
   "cell_type": "code",
   "execution_count": 14,
   "metadata": {},
   "outputs": [
    {
     "data": {
      "text/plain": [
       "0.2505961167253321"
      ]
     },
     "execution_count": 14,
     "metadata": {},
     "output_type": "execute_result"
    }
   ],
   "source": [
    "double_quote_line = [i for i in dr_sent_ls if re.search(\"“\",i) and re.search(\"”\",i)]\n",
    "len(double_quote_line) / len([i for i in dr_sent_ls])"
   ]
  },
  {
   "cell_type": "code",
   "execution_count": 15,
   "metadata": {},
   "outputs": [],
   "source": [
    "def catch_the_wrong_split_line(sent_ls):\n",
    "    double_quote_line = [i for i in sent_ls if re.search(\"“.+”\",i)]\n",
    "    catch_ls = []\n",
    "    double_catch_ls = []\n",
    "\n",
    "    for i in double_quote_line : \n",
    "        index = list(zip([m.end() for m in re.finditer('“',i)] , [m.start() for m in re.finditer('”',i)]))\n",
    "        if len(index) > 2 :\n",
    "            catch_ls.append(i)\n",
    "    return catch_ls"
   ]
  },
  {
   "cell_type": "code",
   "execution_count": 16,
   "metadata": {
    "scrolled": true
   },
   "outputs": [
    {
     "data": {
      "text/plain": [
       "(7, 2, 9, 7)"
      ]
     },
     "execution_count": 16,
     "metadata": {},
     "output_type": "execute_result"
    }
   ],
   "source": [
    "(len(catch_the_wrong_split_line(fm_sent_ls)),\n",
    "len(catch_the_wrong_split_line(f_sent_ls)),\n",
    "len(catch_the_wrong_split_line(dr_sent_ls)),\n",
    "len(catch_the_wrong_split_line(sc_sent_ls)))"
   ]
  },
  {
   "cell_type": "code",
   "execution_count": 17,
   "metadata": {
    "scrolled": true
   },
   "outputs": [],
   "source": [
    "def return_author_df(sent_ls):\n",
    "    double_quote_line = [i for i in sent_ls if re.search(\"“.+”\",i)]    \n",
    "    author_ls = []\n",
    "\n",
    "    for i in double_quote_line : \n",
    "        index = list(zip([m.end() for m in re.finditer('“',i)] , [m.start() for m in re.finditer('”',i)]))\n",
    "        if len(index) == 1 :\n",
    "            author_ls.append(i[:re.search(\"“.+\",i).start()])\n",
    "    author_ls = [i for i in author_ls if i]\n",
    "    count_df = pd.DataFrame.from_dict(Counter(author_ls),orient='index',columns=['count'])\n",
    "    count_df.sort_values('count',ascending=False,inplace=True)\n",
    "    count_df['ratio'] = (count_df['count'] / len(sent_ls)) * 100\n",
    "    return count_df"
   ]
  },
  {
   "cell_type": "code",
   "execution_count": 18,
   "metadata": {
    "scrolled": true
   },
   "outputs": [
    {
     "data": {
      "text/html": [
       "<div>\n",
       "<style scoped>\n",
       "    .dataframe tbody tr th:only-of-type {\n",
       "        vertical-align: middle;\n",
       "    }\n",
       "\n",
       "    .dataframe tbody tr th {\n",
       "        vertical-align: top;\n",
       "    }\n",
       "\n",
       "    .dataframe thead th {\n",
       "        text-align: right;\n",
       "    }\n",
       "</style>\n",
       "<table border=\"1\" class=\"dataframe\">\n",
       "  <thead>\n",
       "    <tr style=\"text-align: right;\">\n",
       "      <th></th>\n",
       "      <th>count</th>\n",
       "      <th>ratio</th>\n",
       "    </tr>\n",
       "  </thead>\n",
       "  <tbody>\n",
       "    <tr>\n",
       "      <th>Fama E. F. and K. R. French</th>\n",
       "      <td>59</td>\n",
       "      <td>0.512553</td>\n",
       "    </tr>\n",
       "    <tr>\n",
       "      <th>Fama E. and K. French</th>\n",
       "      <td>27</td>\n",
       "      <td>0.234558</td>\n",
       "    </tr>\n",
       "    <tr>\n",
       "      <th>Bollerslev T.</th>\n",
       "      <td>25</td>\n",
       "      <td>0.217184</td>\n",
       "    </tr>\n",
       "    <tr>\n",
       "      <th>Jensen M.</th>\n",
       "      <td>21</td>\n",
       "      <td>0.182434</td>\n",
       "    </tr>\n",
       "    <tr>\n",
       "      <th>Baker M. and J. Wurgler</th>\n",
       "      <td>20</td>\n",
       "      <td>0.173747</td>\n",
       "    </tr>\n",
       "    <tr>\n",
       "      <th>Jensen M. and W. Meckling</th>\n",
       "      <td>20</td>\n",
       "      <td>0.173747</td>\n",
       "    </tr>\n",
       "    <tr>\n",
       "      <th>Black F.</th>\n",
       "      <td>20</td>\n",
       "      <td>0.173747</td>\n",
       "    </tr>\n",
       "    <tr>\n",
       "      <th>Merton R. C.</th>\n",
       "      <td>18</td>\n",
       "      <td>0.156372</td>\n",
       "    </tr>\n",
       "    <tr>\n",
       "      <th>신동령</th>\n",
       "      <td>18</td>\n",
       "      <td>0.156372</td>\n",
       "    </tr>\n",
       "    <tr>\n",
       "      <th>김창수</th>\n",
       "      <td>17</td>\n",
       "      <td>0.147685</td>\n",
       "    </tr>\n",
       "  </tbody>\n",
       "</table>\n",
       "</div>"
      ],
      "text/plain": [
       "                              count     ratio\n",
       "Fama E. F. and K. R. French      59  0.512553\n",
       "Fama E. and K. French            27  0.234558\n",
       "Bollerslev T.                    25  0.217184\n",
       "Jensen M.                        21  0.182434\n",
       "Baker M. and J. Wurgler          20  0.173747\n",
       "Jensen M. and W. Meckling        20  0.173747\n",
       "Black F.                         20  0.173747\n",
       "Merton R. C.                     18  0.156372\n",
       "신동령                              18  0.156372\n",
       "김창수                              17  0.147685"
      ]
     },
     "metadata": {},
     "output_type": "display_data"
    },
    {
     "data": {
      "text/html": [
       "<div>\n",
       "<style scoped>\n",
       "    .dataframe tbody tr th:only-of-type {\n",
       "        vertical-align: middle;\n",
       "    }\n",
       "\n",
       "    .dataframe tbody tr th {\n",
       "        vertical-align: top;\n",
       "    }\n",
       "\n",
       "    .dataframe thead th {\n",
       "        text-align: right;\n",
       "    }\n",
       "</style>\n",
       "<table border=\"1\" class=\"dataframe\">\n",
       "  <thead>\n",
       "    <tr style=\"text-align: right;\">\n",
       "      <th></th>\n",
       "      <th>count</th>\n",
       "      <th>ratio</th>\n",
       "    </tr>\n",
       "  </thead>\n",
       "  <tbody>\n",
       "    <tr>\n",
       "      <th>Fama E. F. and K. R. French</th>\n",
       "      <td>47</td>\n",
       "      <td>0.518936</td>\n",
       "    </tr>\n",
       "    <tr>\n",
       "      <th>Jensen M. C.</th>\n",
       "      <td>19</td>\n",
       "      <td>0.209782</td>\n",
       "    </tr>\n",
       "    <tr>\n",
       "      <th>Amihud Y. and H. Mendelson</th>\n",
       "      <td>13</td>\n",
       "      <td>0.143535</td>\n",
       "    </tr>\n",
       "    <tr>\n",
       "      <th>고봉찬 김진우</th>\n",
       "      <td>13</td>\n",
       "      <td>0.143535</td>\n",
       "    </tr>\n",
       "    <tr>\n",
       "      <th>Jegadeesh N. and S. Titman</th>\n",
       "      <td>13</td>\n",
       "      <td>0.143535</td>\n",
       "    </tr>\n",
       "    <tr>\n",
       "      <th>고봉찬</th>\n",
       "      <td>12</td>\n",
       "      <td>0.132494</td>\n",
       "    </tr>\n",
       "    <tr>\n",
       "      <th>최문수</th>\n",
       "      <td>12</td>\n",
       "      <td>0.132494</td>\n",
       "    </tr>\n",
       "    <tr>\n",
       "      <th>김창수</th>\n",
       "      <td>12</td>\n",
       "      <td>0.132494</td>\n",
       "    </tr>\n",
       "    <tr>\n",
       "      <th>Baker M. and J. Wurgler</th>\n",
       "      <td>11</td>\n",
       "      <td>0.121453</td>\n",
       "    </tr>\n",
       "    <tr>\n",
       "      <th>Merton R. C.</th>\n",
       "      <td>11</td>\n",
       "      <td>0.121453</td>\n",
       "    </tr>\n",
       "  </tbody>\n",
       "</table>\n",
       "</div>"
      ],
      "text/plain": [
       "                              count     ratio\n",
       "Fama E. F. and K. R. French      47  0.518936\n",
       "Jensen M. C.                     19  0.209782\n",
       "Amihud Y. and H. Mendelson       13  0.143535\n",
       "고봉찬 김진우                          13  0.143535\n",
       "Jegadeesh N. and S. Titman       13  0.143535\n",
       "고봉찬                              12  0.132494\n",
       "최문수                              12  0.132494\n",
       "김창수                              12  0.132494\n",
       "Baker M. and J. Wurgler          11  0.121453\n",
       "Merton R. C.                     11  0.121453"
      ]
     },
     "metadata": {},
     "output_type": "display_data"
    },
    {
     "data": {
      "text/html": [
       "<div>\n",
       "<style scoped>\n",
       "    .dataframe tbody tr th:only-of-type {\n",
       "        vertical-align: middle;\n",
       "    }\n",
       "\n",
       "    .dataframe tbody tr th {\n",
       "        vertical-align: top;\n",
       "    }\n",
       "\n",
       "    .dataframe thead th {\n",
       "        text-align: right;\n",
       "    }\n",
       "</style>\n",
       "<table border=\"1\" class=\"dataframe\">\n",
       "  <thead>\n",
       "    <tr style=\"text-align: right;\">\n",
       "      <th></th>\n",
       "      <th>count</th>\n",
       "      <th>ratio</th>\n",
       "    </tr>\n",
       "  </thead>\n",
       "  <tbody>\n",
       "    <tr>\n",
       "      <th>Fama E. F. and K. R. French</th>\n",
       "      <td>20</td>\n",
       "      <td>0.227092</td>\n",
       "    </tr>\n",
       "    <tr>\n",
       "      <th>이우백</th>\n",
       "      <td>14</td>\n",
       "      <td>0.158964</td>\n",
       "    </tr>\n",
       "    <tr>\n",
       "      <th>Hasbrouck J.</th>\n",
       "      <td>11</td>\n",
       "      <td>0.124901</td>\n",
       "    </tr>\n",
       "    <tr>\n",
       "      <th>홍정효</th>\n",
       "      <td>11</td>\n",
       "      <td>0.124901</td>\n",
       "    </tr>\n",
       "    <tr>\n",
       "      <th>Black F. and M. Scholes</th>\n",
       "      <td>11</td>\n",
       "      <td>0.124901</td>\n",
       "    </tr>\n",
       "    <tr>\n",
       "      <th>고봉찬 김진우</th>\n",
       "      <td>10</td>\n",
       "      <td>0.113546</td>\n",
       "    </tr>\n",
       "    <tr>\n",
       "      <th>Merton R. C.</th>\n",
       "      <td>10</td>\n",
       "      <td>0.113546</td>\n",
       "    </tr>\n",
       "    <tr>\n",
       "      <th>윤선중</th>\n",
       "      <td>10</td>\n",
       "      <td>0.113546</td>\n",
       "    </tr>\n",
       "    <tr>\n",
       "      <th>염명훈 백재승 류두진</th>\n",
       "      <td>9</td>\n",
       "      <td>0.102191</td>\n",
       "    </tr>\n",
       "    <tr>\n",
       "      <th>한국거래소</th>\n",
       "      <td>9</td>\n",
       "      <td>0.102191</td>\n",
       "    </tr>\n",
       "  </tbody>\n",
       "</table>\n",
       "</div>"
      ],
      "text/plain": [
       "                              count     ratio\n",
       "Fama E. F. and K. R. French      20  0.227092\n",
       "이우백                              14  0.158964\n",
       "Hasbrouck J.                     11  0.124901\n",
       "홍정효                              11  0.124901\n",
       "Black F. and M. Scholes          11  0.124901\n",
       "고봉찬 김진우                          10  0.113546\n",
       "Merton R. C.                     10  0.113546\n",
       "윤선중                              10  0.113546\n",
       "염명훈 백재승 류두진                       9  0.102191\n",
       "한국거래소                             9  0.102191"
      ]
     },
     "metadata": {},
     "output_type": "display_data"
    },
    {
     "data": {
      "text/html": [
       "<div>\n",
       "<style scoped>\n",
       "    .dataframe tbody tr th:only-of-type {\n",
       "        vertical-align: middle;\n",
       "    }\n",
       "\n",
       "    .dataframe tbody tr th {\n",
       "        vertical-align: top;\n",
       "    }\n",
       "\n",
       "    .dataframe thead th {\n",
       "        text-align: right;\n",
       "    }\n",
       "</style>\n",
       "<table border=\"1\" class=\"dataframe\">\n",
       "  <thead>\n",
       "    <tr style=\"text-align: right;\">\n",
       "      <th></th>\n",
       "      <th>count</th>\n",
       "      <th>ratio</th>\n",
       "    </tr>\n",
       "  </thead>\n",
       "  <tbody>\n",
       "    <tr>\n",
       "      <th>고봉찬 김진우</th>\n",
       "      <td>32</td>\n",
       "      <td>0.242222</td>\n",
       "    </tr>\n",
       "    <tr>\n",
       "      <th>이원흠</th>\n",
       "      <td>18</td>\n",
       "      <td>0.136250</td>\n",
       "    </tr>\n",
       "    <tr>\n",
       "      <th>이원흠 최수미</th>\n",
       "      <td>16</td>\n",
       "      <td>0.121111</td>\n",
       "    </tr>\n",
       "    <tr>\n",
       "      <th>윤평식</th>\n",
       "      <td>15</td>\n",
       "      <td>0.113542</td>\n",
       "    </tr>\n",
       "    <tr>\n",
       "      <th>김창수</th>\n",
       "      <td>15</td>\n",
       "      <td>0.113542</td>\n",
       "    </tr>\n",
       "    <tr>\n",
       "      <th>김석진 김지영</th>\n",
       "      <td>14</td>\n",
       "      <td>0.105972</td>\n",
       "    </tr>\n",
       "    <tr>\n",
       "      <th>최문수</th>\n",
       "      <td>12</td>\n",
       "      <td>0.090833</td>\n",
       "    </tr>\n",
       "    <tr>\n",
       "      <th>정형찬</th>\n",
       "      <td>10</td>\n",
       "      <td>0.075694</td>\n",
       "    </tr>\n",
       "    <tr>\n",
       "      <th>고봉찬</th>\n",
       "      <td>10</td>\n",
       "      <td>0.075694</td>\n",
       "    </tr>\n",
       "    <tr>\n",
       "      <th>신민식 김수은</th>\n",
       "      <td>10</td>\n",
       "      <td>0.075694</td>\n",
       "    </tr>\n",
       "  </tbody>\n",
       "</table>\n",
       "</div>"
      ],
      "text/plain": [
       "          count     ratio\n",
       "고봉찬 김진우      32  0.242222\n",
       "이원흠          18  0.136250\n",
       "이원흠 최수미      16  0.121111\n",
       "윤평식          15  0.113542\n",
       "김창수          15  0.113542\n",
       "김석진 김지영      14  0.105972\n",
       "최문수          12  0.090833\n",
       "정형찬          10  0.075694\n",
       "고봉찬          10  0.075694\n",
       "신민식 김수은      10  0.075694"
      ]
     },
     "metadata": {},
     "output_type": "display_data"
    }
   ],
   "source": [
    "display(return_author_df(fm_sent_ls).head(10))\n",
    "display(return_author_df(f_sent_ls).head(10))\n",
    "display(return_author_df(dr_sent_ls).head(10))\n",
    "display(return_author_df(sc_sent_ls).head(10))"
   ]
  },
  {
   "cell_type": "markdown",
   "metadata": {},
   "source": [
    "잡긴 잡지만, double quote 기준으로 paper name 만을 추출한 것이기 때문에, count의 갯수가 만족스럽지 못하다. 이에 따라, 위의 dataframe 의 인덱스를 딕셔너리로 잡아서 전체 데이터에 대해 검색해준다."
   ]
  },
  {
   "cell_type": "code",
   "execution_count": 19,
   "metadata": {},
   "outputs": [],
   "source": [
    "fm_sent_ls_df = return_author_df(fm_sent_ls)\n",
    "f_sent_ls_df = return_author_df(f_sent_ls)\n",
    "sc_sent_ls_df = return_author_df(sc_sent_ls)\n",
    "dr_sent_ls_df = return_author_df(dr_sent_ls)"
   ]
  },
  {
   "cell_type": "code",
   "execution_count": 20,
   "metadata": {},
   "outputs": [],
   "source": [
    "fm_author_ls = fm_sent_ls_df[fm_sent_ls_df['count'] > 1].index.tolist()\n",
    "f_author_ls = f_sent_ls_df[f_sent_ls_df['count'] > 1].index.tolist()\n",
    "sc_author_ls = sc_sent_ls_df[sc_sent_ls_df['count'] > 1].index.tolist()\n",
    "dr_author_ls = dr_sent_ls_df[dr_sent_ls_df['count'] > 1].index.tolist()"
   ]
  },
  {
   "cell_type": "code",
   "execution_count": 21,
   "metadata": {},
   "outputs": [],
   "source": [
    "author_dict = fm_author_ls + f_author_ls + sc_author_ls + dr_author_ls\n",
    "author_dict = list(set(author_dict))\n",
    "author_dict = [i for i in author_dict if i]"
   ]
  },
  {
   "cell_type": "code",
   "execution_count": 22,
   "metadata": {},
   "outputs": [],
   "source": [
    "author_dict = list(set(author_dict))"
   ]
  },
  {
   "cell_type": "code",
   "execution_count": 23,
   "metadata": {},
   "outputs": [],
   "source": [
    "splited_author_dict = []\n",
    "for i in author_dict : \n",
    "    if re.findall('[a-zA-Z]',i) :\n",
    "        splited_author_dict.append(i.strip().split(\"and\"))\n",
    "    elif re.findall('[가-힣]',i) :\n",
    "        splited_author_dict.append(i.strip().split(\" \"))"
   ]
  },
  {
   "cell_type": "code",
   "execution_count": 24,
   "metadata": {},
   "outputs": [],
   "source": [
    "def apply_author_dict(sent_ls,author_dict = splited_author_dict,orgin_data = author_dict):\n",
    "    author_ls = []\n",
    "\n",
    "    for idx,catch in enumerate(author_dict) : \n",
    "        for sent in sent_ls : \n",
    "            if all([re.search(catch[idx],sent) for idx in range(len(catch))]) : \n",
    "                author_ls.append(orgin_data[idx])\n",
    "    return author_ls"
   ]
  },
  {
   "cell_type": "code",
   "execution_count": null,
   "metadata": {
    "scrolled": true
   },
   "outputs": [
    {
     "name": "stdout",
     "output_type": "stream",
     "text": [
      "1\r"
     ]
    }
   ],
   "source": [
    "%%time\n",
    "fm_author_dict = apply_author_dict(fm_sent_ls)\n",
    "print('1',end='\\r')\n",
    "f_author_dict = apply_author_dict(f_sent_ls)\n",
    "print('2',end='\\r')\n",
    "sc_author_dict = apply_author_dict(sc_sent_ls)\n",
    "print('3',end='\\r')\n",
    "dr_author_dict = apply_author_dict(dr_sent_ls)"
   ]
  },
  {
   "cell_type": "code",
   "execution_count": null,
   "metadata": {},
   "outputs": [],
   "source": [
    "fm_author_dict_df = pd.DataFrame.from_dict(Counter(fm_author_dict),orient='index',columns=['count'])\n",
    "f_author_dict_df = pd.DataFrame.from_dict(Counter(f_author_dict),orient='index',columns=['count'])\n",
    "sc_author_dict_df = pd.DataFrame.from_dict(Counter(sc_author_dict),orient='index',columns=['count'])\n",
    "dr_author_dict_df = pd.DataFrame.from_dict(Counter(dr_author_dict),orient='index',columns=['count'])"
   ]
  },
  {
   "cell_type": "code",
   "execution_count": null,
   "metadata": {},
   "outputs": [],
   "source": [
    "fm_author_dict_df.sort_values('count',ascending=False,inplace=True)\n",
    "f_author_dict_df.sort_values('count',ascending=False,inplace=True)\n",
    "sc_author_dict_df.sort_values('count',ascending=False,inplace=True)\n",
    "dr_author_dict_df.sort_values('count',ascending=False,inplace=True)"
   ]
  },
  {
   "cell_type": "code",
   "execution_count": null,
   "metadata": {
    "scrolled": true
   },
   "outputs": [],
   "source": [
    "display(fm_author_dict_df.head(10))\n",
    "display(f_author_dict_df.head(10))\n",
    "display(sc_author_dict_df.head(10))\n",
    "display(dr_author_dict_df.head(10))"
   ]
  },
  {
   "cell_type": "code",
   "execution_count": null,
   "metadata": {},
   "outputs": [],
   "source": [
    "fm_single_author_ls = fm_author_dict_df[fm_author_dict_df['count'] > 10].index.tolist()\n",
    "f_single_author_ls = f_author_dict_df[f_author_dict_df['count'] > 10].index.tolist()\n",
    "sc_single_author_ls = sc_author_dict_df[sc_author_dict_df['count'] > 10].index.tolist()\n",
    "dr_single_author_ls = dr_author_dict_df[dr_author_dict_df['count'] > 10].index.tolist()\n",
    "single_author_ls = fm_single_author_ls + f_single_author_ls + sc_single_author_ls + dr_single_author_ls\n",
    "single_author_ls =list(set(single_author_ls))"
   ]
  },
  {
   "cell_type": "code",
   "execution_count": null,
   "metadata": {},
   "outputs": [],
   "source": [
    "splited_single_author_dict = []\n",
    "for i in single_author_ls : \n",
    "    if re.findall('[a-zA-Z]',i) :\n",
    "        splited_single_author_dict.append(i.strip().split(\"and\"))\n",
    "    elif re.findall('[가-힣]',i) :\n",
    "        splited_single_author_dict.append(i.strip().split(\" \"))"
   ]
  },
  {
   "cell_type": "code",
   "execution_count": null,
   "metadata": {},
   "outputs": [],
   "source": [
    "single_author_dict = [j.strip() for i in splited_single_author_dict for j in i if len(j) >2]\n",
    "single_author_dict = list(set(single_author_dict))"
   ]
  },
  {
   "cell_type": "code",
   "execution_count": null,
   "metadata": {},
   "outputs": [],
   "source": [
    "def apply_single_author_dict(sent_ls,author_dict = single_author_dict):\n",
    "    \n",
    "    single_author_ls = []\n",
    "\n",
    "    for catch in author_dict :\n",
    "        for sent in sent_ls :\n",
    "            if catch in sent : \n",
    "                single_author_ls.append(catch)\n",
    "    return single_author_ls"
   ]
  },
  {
   "cell_type": "code",
   "execution_count": null,
   "metadata": {},
   "outputs": [],
   "source": [
    "%%time\n",
    "fm_single_author_dict = apply_single_author_dict(fm_sent_ls)\n",
    "print('1',end='\\r')\n",
    "f_single_author_dict = apply_single_author_dict(f_sent_ls)\n",
    "print('2',end='\\r')\n",
    "sc_single_author_dict = apply_single_author_dict(sc_sent_ls)\n",
    "print('3',end='\\r')\n",
    "dr_single_author_dict = apply_single_author_dict(dr_sent_ls)"
   ]
  },
  {
   "cell_type": "code",
   "execution_count": null,
   "metadata": {},
   "outputs": [],
   "source": [
    "fm_single_author_dict_df = pd.DataFrame.from_dict(Counter(fm_single_author_dict),orient='index',columns=['count'])\n",
    "f_single_author_dict_df = pd.DataFrame.from_dict(Counter(f_single_author_dict),orient='index',columns=['count'])\n",
    "sc_single_author_dict_df = pd.DataFrame.from_dict(Counter(sc_single_author_dict),orient='index',columns=['count'])\n",
    "dr_single_author_dict_df = pd.DataFrame.from_dict(Counter(dr_single_author_dict),orient='index',columns=['count'])"
   ]
  },
  {
   "cell_type": "code",
   "execution_count": null,
   "metadata": {},
   "outputs": [],
   "source": [
    "fm_single_author_dict_df.sort_values('count',ascending=False,inplace=True)\n",
    "f_single_author_dict_df.sort_values('count',ascending=False,inplace=True)\n",
    "sc_single_author_dict_df.sort_values('count',ascending=False,inplace=True)\n",
    "dr_single_author_dict_df.sort_values('count',ascending=False,inplace=True)"
   ]
  },
  {
   "cell_type": "code",
   "execution_count": null,
   "metadata": {
    "scrolled": true
   },
   "outputs": [],
   "source": [
    "display(fm_single_author_dict_df.head(10))\n",
    "display(f_single_author_dict_df.head(10))\n",
    "display(sc_single_author_dict_df.head(10))\n",
    "display(dr_single_author_dict_df.head(10))"
   ]
  }
 ],
 "metadata": {
  "kernelspec": {
   "display_name": "Python 3",
   "language": "python",
   "name": "python3"
  },
  "language_info": {
   "codemirror_mode": {
    "name": "ipython",
    "version": 3
   },
   "file_extension": ".py",
   "mimetype": "text/x-python",
   "name": "python",
   "nbconvert_exporter": "python",
   "pygments_lexer": "ipython3",
   "version": "3.6.6"
  }
 },
 "nbformat": 4,
 "nbformat_minor": 2
}
