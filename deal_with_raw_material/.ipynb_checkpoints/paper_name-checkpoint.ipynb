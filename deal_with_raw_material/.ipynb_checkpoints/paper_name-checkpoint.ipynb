{
 "cells": [
  {
   "cell_type": "code",
   "execution_count": 1,
   "metadata": {},
   "outputs": [],
   "source": [
    "import pandas as pd\n",
    "import oop_func as func\n",
    "import personal_pkg as ref\n",
    "import os\n",
    "import re\n",
    "from collections import Counter\n",
    "import warnings\n",
    "warnings.filterwarnings(\"ignore\")"
   ]
  },
  {
   "cell_type": "markdown",
   "metadata": {},
   "source": [
    "## Description_1\n",
    "- 한국재무관리학회 : fm_file\n",
    "- 한국재무학회 : f_file\n",
    "- 한국증권학회지 : sc_file\n",
    "- 한국파생상품학회 : dr_file"
   ]
  },
  {
   "cell_type": "markdown",
   "metadata": {},
   "source": [
    "## Description_2\n",
    "- 저널 별 텍스트 데이터\n",
    "- 연도 별 텍스트 데이터"
   ]
  },
  {
   "cell_type": "markdown",
   "metadata": {},
   "source": [
    "#### 저널 별 데이터를 모으자"
   ]
  },
  {
   "cell_type": "code",
   "execution_count": 2,
   "metadata": {},
   "outputs": [],
   "source": [
    "def journal_txt_ls(journal):\n",
    "    file_path = \\\n",
    "    sorted(['../paper_list/{}/'.format(journal) + i for i in [i for i in os.listdir('../paper_list/{}/'.format(journal)) if '20' in i]])\n",
    "\n",
    "    journal_txt_ls = []\n",
    "\n",
    "    for year,i in enumerate([os.listdir(i) for i in file_path]) : \n",
    "        txt_ls = []\n",
    "        for j in i : \n",
    "            if 'txt' in j :\n",
    "                txt_ls.append(file_path[year] +'/'+ j)\n",
    "        journal_txt_ls.append(txt_ls)\n",
    "\n",
    "    return journal_txt_ls"
   ]
  },
  {
   "cell_type": "code",
   "execution_count": 3,
   "metadata": {},
   "outputs": [],
   "source": [
    "fm_txt_ls = journal_txt_ls('한국재무관리학회')\n",
    "sc_txt_ls = journal_txt_ls('한국증권학회지')\n",
    "dr_txt_ls = journal_txt_ls('한국파생상품학회')\n",
    "f_txt_ls = journal_txt_ls('한국재무학회')"
   ]
  },
  {
   "cell_type": "code",
   "execution_count": 4,
   "metadata": {},
   "outputs": [
    {
     "data": {
      "text/plain": [
       "(15, 17, 17, 17)"
      ]
     },
     "execution_count": 4,
     "metadata": {},
     "output_type": "execute_result"
    }
   ],
   "source": [
    "len(fm_txt_ls) , len(dr_txt_ls) , len(sc_txt_ls) , len(f_txt_ls)"
   ]
  },
  {
   "cell_type": "markdown",
   "metadata": {},
   "source": [
    "## 저널별 citation_analysis"
   ]
  },
  {
   "cell_type": "code",
   "execution_count": 5,
   "metadata": {},
   "outputs": [],
   "source": [
    "fm_path = [refer for i in fm_txt_ls for refer in i]\n",
    "f_path = [refer for i in f_txt_ls for refer in i]\n",
    "sc_path = [refer for i in sc_txt_ls for refer in i]\n",
    "dr_path = [refer for i in dr_txt_ls for refer in i]"
   ]
  },
  {
   "cell_type": "code",
   "execution_count": 6,
   "metadata": {},
   "outputs": [],
   "source": [
    "def split_to_sent(file_path):\n",
    "    sent_refer_ls = []\n",
    "    error_ls = []\n",
    "\n",
    "    for path in file_path :\n",
    "        try : \n",
    "            ca = func.Slicing_paper(path)\n",
    "            sent_refer_ls.append(ca.split())\n",
    "        except Exception as e: error_ls.append((e,path))\n",
    "    \n",
    "    return [j for i in sent_refer_ls for j in i] , error_ls"
   ]
  },
  {
   "cell_type": "code",
   "execution_count": 7,
   "metadata": {},
   "outputs": [],
   "source": [
    "fm_sent_ls , fm_error_ls = split_to_sent(fm_path)\n",
    "f_sent_ls , f_error_ls = split_to_sent(f_path)\n",
    "sc_sent_ls , sc_error_ls = split_to_sent(sc_path)\n",
    "dr_sent_ls , dr_error_ls = split_to_sent(dr_path)"
   ]
  },
  {
   "cell_type": "code",
   "execution_count": 8,
   "metadata": {},
   "outputs": [
    {
     "data": {
      "text/plain": [
       "(11511, 9057, 13211, 8807)"
      ]
     },
     "execution_count": 8,
     "metadata": {},
     "output_type": "execute_result"
    }
   ],
   "source": [
    "len(fm_sent_ls),len(f_sent_ls),len(sc_sent_ls),len(dr_sent_ls)"
   ]
  },
  {
   "cell_type": "code",
   "execution_count": 9,
   "metadata": {},
   "outputs": [
    {
     "data": {
      "text/plain": [
       "(76, 15, 24, 55)"
      ]
     },
     "execution_count": 9,
     "metadata": {},
     "output_type": "execute_result"
    }
   ],
   "source": [
    "len(fm_error_ls),len(f_error_ls),len(sc_error_ls),len(dr_error_ls)"
   ]
  },
  {
   "cell_type": "markdown",
   "metadata": {},
   "source": [
    "## double quote 가 열리도 닫히는 라인을 double quote line 으로 명명한다."
   ]
  },
  {
   "cell_type": "code",
   "execution_count": 10,
   "metadata": {},
   "outputs": [
    {
     "data": {
      "text/plain": [
       "(11511, 9057, 13211, 8807)"
      ]
     },
     "execution_count": 10,
     "metadata": {},
     "output_type": "execute_result"
    }
   ],
   "source": [
    "len(fm_sent_ls),len(f_sent_ls),len(sc_sent_ls),len(dr_sent_ls)"
   ]
  },
  {
   "cell_type": "code",
   "execution_count": 11,
   "metadata": {},
   "outputs": [
    {
     "data": {
      "text/plain": [
       "0.883155242811224"
      ]
     },
     "execution_count": 11,
     "metadata": {},
     "output_type": "execute_result"
    }
   ],
   "source": [
    "double_quote_line = [i for i in fm_sent_ls if re.search(\"“\",i) and re.search(\"”\",i)]\n",
    "len(double_quote_line) / len([i for i in fm_sent_ls])"
   ]
  },
  {
   "cell_type": "code",
   "execution_count": 12,
   "metadata": {},
   "outputs": [
    {
     "data": {
      "text/plain": [
       "0.7302638842883957"
      ]
     },
     "execution_count": 12,
     "metadata": {},
     "output_type": "execute_result"
    }
   ],
   "source": [
    "double_quote_line = [i for i in f_sent_ls if re.search(\"“\",i) and re.search(\"”\",i)]\n",
    "len(double_quote_line) / len([i for i in f_sent_ls])"
   ]
  },
  {
   "cell_type": "code",
   "execution_count": 13,
   "metadata": {},
   "outputs": [
    {
     "data": {
      "text/plain": [
       "0.2276133525092726"
      ]
     },
     "execution_count": 13,
     "metadata": {},
     "output_type": "execute_result"
    }
   ],
   "source": [
    "double_quote_line = [i for i in sc_sent_ls if re.search(\"“\",i) and re.search(\"”\",i)]\n",
    "len(double_quote_line) / len([i for i in sc_sent_ls])"
   ]
  },
  {
   "cell_type": "code",
   "execution_count": 14,
   "metadata": {},
   "outputs": [
    {
     "data": {
      "text/plain": [
       "0.2505961167253321"
      ]
     },
     "execution_count": 14,
     "metadata": {},
     "output_type": "execute_result"
    }
   ],
   "source": [
    "double_quote_line = [i for i in dr_sent_ls if re.search(\"“\",i) and re.search(\"”\",i)]\n",
    "len(double_quote_line) / len([i for i in dr_sent_ls])"
   ]
  },
  {
   "cell_type": "code",
   "execution_count": 15,
   "metadata": {},
   "outputs": [],
   "source": [
    "def catch_the_wrong_split_line(sent_ls):\n",
    "    double_quote_line = [i for i in sent_ls if re.search(\"“.+”\",i)]\n",
    "    catch_ls = []\n",
    "    double_catch_ls = []\n",
    "\n",
    "    for i in double_quote_line : \n",
    "        index = list(zip([m.end() for m in re.finditer('“',i)] , [m.start() for m in re.finditer('”',i)]))\n",
    "        if len(index) > 2 :\n",
    "            catch_ls.append(i)\n",
    "    return catch_ls"
   ]
  },
  {
   "cell_type": "code",
   "execution_count": 16,
   "metadata": {
    "scrolled": true
   },
   "outputs": [
    {
     "data": {
      "text/plain": [
       "(7, 2, 9, 7)"
      ]
     },
     "execution_count": 16,
     "metadata": {},
     "output_type": "execute_result"
    }
   ],
   "source": [
    "(len(catch_the_wrong_split_line(fm_sent_ls)),\n",
    "len(catch_the_wrong_split_line(f_sent_ls)),\n",
    "len(catch_the_wrong_split_line(dr_sent_ls)),\n",
    "len(catch_the_wrong_split_line(sc_sent_ls)))"
   ]
  },
  {
   "cell_type": "code",
   "execution_count": 17,
   "metadata": {},
   "outputs": [],
   "source": [
    "def return_paper_df(sent_ls):\n",
    "    \n",
    "    double_quote_line = [i for i in sent_ls if re.search(\"“.+”\",i)]    \n",
    "    paper_ls = []\n",
    "\n",
    "    for i in double_quote_line : \n",
    "        process_ls = []\n",
    "        index = list(zip([m.end() for m in re.finditer('“',i)] , [m.start() for m in re.finditer('”',i)]))\n",
    "        for idx in range(len(index)):\n",
    "            process_ls.append(i[index[idx][0] : index[idx][1]])\n",
    "        paper_ls.append(process_ls)\n",
    "    paper_ls = [j.lower() for i in paper_ls for j in i]\n",
    "    paper_df = pd.DataFrame.from_dict(Counter(paper_ls),orient='index',columns=['count'])\n",
    "    paper_df.sort_values('count',ascending=False,inplace=True)\n",
    "    paper_df['ratio'] = (paper_df['count'] / len(sent_ls)) * 100\n",
    "    return paper_df"
   ]
  },
  {
   "cell_type": "code",
   "execution_count": 18,
   "metadata": {
    "scrolled": true
   },
   "outputs": [
    {
     "data": {
      "text/html": [
       "<div>\n",
       "<style scoped>\n",
       "    .dataframe tbody tr th:only-of-type {\n",
       "        vertical-align: middle;\n",
       "    }\n",
       "\n",
       "    .dataframe tbody tr th {\n",
       "        vertical-align: top;\n",
       "    }\n",
       "\n",
       "    .dataframe thead th {\n",
       "        text-align: right;\n",
       "    }\n",
       "</style>\n",
       "<table border=\"1\" class=\"dataframe\">\n",
       "  <thead>\n",
       "    <tr style=\"text-align: right;\">\n",
       "      <th></th>\n",
       "      <th>count</th>\n",
       "      <th>ratio</th>\n",
       "    </tr>\n",
       "  </thead>\n",
       "  <tbody>\n",
       "    <tr>\n",
       "      <th>common risk factors in the returns on stocks and bonds</th>\n",
       "      <td>27</td>\n",
       "      <td>0.234558</td>\n",
       "    </tr>\n",
       "    <tr>\n",
       "      <th>corporate financing and investment decisions when firms have information that investors do not have</th>\n",
       "      <td>22</td>\n",
       "      <td>0.191122</td>\n",
       "    </tr>\n",
       "    <tr>\n",
       "      <th>agency costs of free cash flow corporate finance and takeovers</th>\n",
       "      <td>18</td>\n",
       "      <td>0.156372</td>\n",
       "    </tr>\n",
       "    <tr>\n",
       "      <th>determinants of corporate borrowing</th>\n",
       "      <td>18</td>\n",
       "      <td>0.156372</td>\n",
       "    </tr>\n",
       "    <tr>\n",
       "      <th>the cross-section of expected stock returns</th>\n",
       "      <td>14</td>\n",
       "      <td>0.121623</td>\n",
       "    </tr>\n",
       "  </tbody>\n",
       "</table>\n",
       "</div>"
      ],
      "text/plain": [
       "                                                    count     ratio\n",
       "common risk factors in the returns on stocks an...     27  0.234558\n",
       "corporate financing and investment decisions wh...     22  0.191122\n",
       "agency costs of free cash flow corporate financ...     18  0.156372\n",
       "determinants of corporate borrowing                    18  0.156372\n",
       "the cross-section of expected stock returns            14  0.121623"
      ]
     },
     "metadata": {},
     "output_type": "display_data"
    },
    {
     "data": {
      "text/html": [
       "<div>\n",
       "<style scoped>\n",
       "    .dataframe tbody tr th:only-of-type {\n",
       "        vertical-align: middle;\n",
       "    }\n",
       "\n",
       "    .dataframe tbody tr th {\n",
       "        vertical-align: top;\n",
       "    }\n",
       "\n",
       "    .dataframe thead th {\n",
       "        text-align: right;\n",
       "    }\n",
       "</style>\n",
       "<table border=\"1\" class=\"dataframe\">\n",
       "  <thead>\n",
       "    <tr style=\"text-align: right;\">\n",
       "      <th></th>\n",
       "      <th>count</th>\n",
       "      <th>ratio</th>\n",
       "    </tr>\n",
       "  </thead>\n",
       "  <tbody>\n",
       "    <tr>\n",
       "      <th>common risk factors in the returns on stocks and bonds</th>\n",
       "      <td>12</td>\n",
       "      <td>0.132494</td>\n",
       "    </tr>\n",
       "    <tr>\n",
       "      <th>risk return and equilibrium: empirical tests</th>\n",
       "      <td>11</td>\n",
       "      <td>0.121453</td>\n",
       "    </tr>\n",
       "    <tr>\n",
       "      <th>common risk factors in the returns on stocks and bonds</th>\n",
       "      <td>11</td>\n",
       "      <td>0.121453</td>\n",
       "    </tr>\n",
       "    <tr>\n",
       "      <th>on persistence in mutual fund performance</th>\n",
       "      <td>10</td>\n",
       "      <td>0.110412</td>\n",
       "    </tr>\n",
       "    <tr>\n",
       "      <th>agency costs of free cash flow corporate finance and takeovers</th>\n",
       "      <td>9</td>\n",
       "      <td>0.099371</td>\n",
       "    </tr>\n",
       "  </tbody>\n",
       "</table>\n",
       "</div>"
      ],
      "text/plain": [
       "                                                    count     ratio\n",
       "common risk factors in the returns on stocks an...     12  0.132494\n",
       "risk return and equilibrium: empirical tests           11  0.121453\n",
       "common risk factors in the returns on stocks an...     11  0.121453\n",
       "on persistence in mutual fund performance              10  0.110412\n",
       "agency costs of free cash flow corporate financ...      9  0.099371"
      ]
     },
     "metadata": {},
     "output_type": "display_data"
    },
    {
     "data": {
      "text/html": [
       "<div>\n",
       "<style scoped>\n",
       "    .dataframe tbody tr th:only-of-type {\n",
       "        vertical-align: middle;\n",
       "    }\n",
       "\n",
       "    .dataframe tbody tr th {\n",
       "        vertical-align: top;\n",
       "    }\n",
       "\n",
       "    .dataframe thead th {\n",
       "        text-align: right;\n",
       "    }\n",
       "</style>\n",
       "<table border=\"1\" class=\"dataframe\">\n",
       "  <thead>\n",
       "    <tr style=\"text-align: right;\">\n",
       "      <th></th>\n",
       "      <th>count</th>\n",
       "      <th>ratio</th>\n",
       "    </tr>\n",
       "  </thead>\n",
       "  <tbody>\n",
       "    <tr>\n",
       "      <th></th>\n",
       "      <td>28</td>\n",
       "      <td>0.317929</td>\n",
       "    </tr>\n",
       "    <tr>\n",
       "      <th>the pricing of options and corporate liabilities</th>\n",
       "      <td>10</td>\n",
       "      <td>0.113546</td>\n",
       "    </tr>\n",
       "    <tr>\n",
       "      <th>common risk factors in the returns on stocks and bonds</th>\n",
       "      <td>8</td>\n",
       "      <td>0.090837</td>\n",
       "    </tr>\n",
       "    <tr>\n",
       "      <th>informed trading in stock and option markets</th>\n",
       "      <td>7</td>\n",
       "      <td>0.079482</td>\n",
       "    </tr>\n",
       "    <tr>\n",
       "      <th>risk return and equilibrium : empirical tests</th>\n",
       "      <td>7</td>\n",
       "      <td>0.079482</td>\n",
       "    </tr>\n",
       "  </tbody>\n",
       "</table>\n",
       "</div>"
      ],
      "text/plain": [
       "                                                    count     ratio\n",
       "                                                       28  0.317929\n",
       "the pricing of options and corporate liabilities       10  0.113546\n",
       "common risk factors in the returns on stocks an...      8  0.090837\n",
       "informed trading in stock and option markets            7  0.079482\n",
       "risk return and equilibrium : empirical tests           7  0.079482"
      ]
     },
     "metadata": {},
     "output_type": "display_data"
    },
    {
     "data": {
      "text/html": [
       "<div>\n",
       "<style scoped>\n",
       "    .dataframe tbody tr th:only-of-type {\n",
       "        vertical-align: middle;\n",
       "    }\n",
       "\n",
       "    .dataframe tbody tr th {\n",
       "        vertical-align: top;\n",
       "    }\n",
       "\n",
       "    .dataframe thead th {\n",
       "        text-align: right;\n",
       "    }\n",
       "</style>\n",
       "<table border=\"1\" class=\"dataframe\">\n",
       "  <thead>\n",
       "    <tr style=\"text-align: right;\">\n",
       "      <th></th>\n",
       "      <th>count</th>\n",
       "      <th>ratio</th>\n",
       "    </tr>\n",
       "  </thead>\n",
       "  <tbody>\n",
       "    <tr>\n",
       "      <th>기업규모와 장부가/시가 비율과 주식수익률의 관계</th>\n",
       "      <td>13</td>\n",
       "      <td>0.098403</td>\n",
       "    </tr>\n",
       "    <tr>\n",
       "      <th>한국 주식시장에서 유동성 요인을 포함한 3요인 모형의 설명력에 관한 연구</th>\n",
       "      <td>8</td>\n",
       "      <td>0.060556</td>\n",
       "    </tr>\n",
       "    <tr>\n",
       "      <th>sharpe의 방법론을 이용한 한국 주식형펀드의 운용스타일 및 성과분석</th>\n",
       "      <td>8</td>\n",
       "      <td>0.060556</td>\n",
       "    </tr>\n",
       "    <tr>\n",
       "      <th>ipo 락업 제도가 저가발행현상에 미치는 영향</th>\n",
       "      <td>7</td>\n",
       "      <td>0.052986</td>\n",
       "    </tr>\n",
       "    <tr>\n",
       "      <th>기업공개시 공모주 가격결정에 관한 연구</th>\n",
       "      <td>7</td>\n",
       "      <td>0.052986</td>\n",
       "    </tr>\n",
       "  </tbody>\n",
       "</table>\n",
       "</div>"
      ],
      "text/plain": [
       "                                          count     ratio\n",
       "기업규모와 장부가/시가 비율과 주식수익률의 관계                   13  0.098403\n",
       "한국 주식시장에서 유동성 요인을 포함한 3요인 모형의 설명력에 관한 연구      8  0.060556\n",
       "sharpe의 방법론을 이용한 한국 주식형펀드의 운용스타일 및 성과분석       8  0.060556\n",
       "ipo 락업 제도가 저가발행현상에 미치는 영향                     7  0.052986\n",
       "기업공개시 공모주 가격결정에 관한 연구                         7  0.052986"
      ]
     },
     "metadata": {},
     "output_type": "display_data"
    }
   ],
   "source": [
    "display(return_paper_df(fm_sent_ls).head())\n",
    "display(return_paper_df(f_sent_ls).head())\n",
    "display(return_paper_df(dr_sent_ls).head())\n",
    "display(return_paper_df(sc_sent_ls).head())"
   ]
  },
  {
   "cell_type": "markdown",
   "metadata": {},
   "source": [
    "잡긴 잡지만, double quote 기준으로 paper name 만을 추출한 것이기 때문에, count의 갯수가 만족스럽지 못하다. 이에 따라, 위의 dataframe 의 인덱스를 딕셔너리로 잡아서 전체 데이터에 대해 검색해준다."
   ]
  },
  {
   "cell_type": "code",
   "execution_count": 85,
   "metadata": {},
   "outputs": [],
   "source": [
    "fm_sent_ls_df = return_paper_df(fm_sent_ls)\n",
    "f_sent_ls_df = return_paper_df(f_sent_ls)\n",
    "sc_sent_ls_df = return_paper_df(sc_sent_ls)\n",
    "dr_sent_ls_df = return_paper_df(dr_sent_ls)\n",
    "\n",
    "fm_paper_ls = fm_sent_ls_df[fm_sent_ls_df['count'] > 1].index.tolist()\n",
    "f_paper_ls = f_sent_ls_df[f_sent_ls_df['count'] > 1].index.tolist()\n",
    "sc_paper_ls = sc_sent_ls_df[sc_sent_ls_df['count'] > 1].index.tolist()\n",
    "dr_paper_ls = dr_sent_ls_df[dr_sent_ls_df['count'] > 1].index.tolist()\n",
    "\n",
    "paper_dict = fm_paper_ls + f_paper_ls + sc_paper_ls + dr_paper_ls\n",
    "paper_dict = [i.strip() for i in paper_dict if len(i) > 3]\n",
    "paper_dict = list(set(paper_dict))"
   ]
  },
  {
   "cell_type": "code",
   "execution_count": 86,
   "metadata": {},
   "outputs": [],
   "source": [
    "def apply_paper_dict(sent_ls,paper_dict = paper_dict):\n",
    "    paper_ls = []\n",
    "\n",
    "    for catch in paper_dict : \n",
    "        for sent in sent_ls : \n",
    "            if catch in sent.lower() : \n",
    "                if catch.strip() == 'tunneling' : \n",
    "                    if '2000' in sent.lower() :\n",
    "                        paper_ls.append(catch.strip())\n",
    "                elif catch.strip() == 'noise' :\n",
    "                    if '1985' in sent.lower() :\n",
    "                        paper_ls.append(catch.strip())\n",
    "                else : paper_ls.append(catch.strip())\n",
    "    return paper_ls"
   ]
  },
  {
   "cell_type": "code",
   "execution_count": 87,
   "metadata": {},
   "outputs": [
    {
     "name": "stdout",
     "output_type": "stream",
     "text": [
      "CPU times: user 49.1 s, sys: 0 ns, total: 49.1 s\n",
      "Wall time: 49.1 s\n"
     ]
    }
   ],
   "source": [
    "%%time\n",
    "fm_paper_dict = apply_paper_dict(fm_sent_ls)\n",
    "f_paper_dict = apply_paper_dict(f_sent_ls)\n",
    "sc_paper_dict = apply_paper_dict(sc_sent_ls)\n",
    "dr_paper_dict = apply_paper_dict(dr_sent_ls)\n",
    "\n",
    "fm_paper_dict_df = pd.DataFrame.from_dict(Counter(fm_paper_dict),orient='index',columns=['count'])\n",
    "f_paper_dict_df = pd.DataFrame.from_dict(Counter(f_paper_dict),orient='index',columns=['count'])\n",
    "sc_paper_dict_df = pd.DataFrame.from_dict(Counter(sc_paper_dict),orient='index',columns=['count'])\n",
    "dr_paper_dict_df = pd.DataFrame.from_dict(Counter(dr_paper_dict),orient='index',columns=['count'])\n",
    "\n",
    "fm_paper_dict_df.sort_values('count',ascending=False,inplace=True)\n",
    "f_paper_dict_df.sort_values('count',ascending=False,inplace=True)\n",
    "sc_paper_dict_df.sort_values('count',ascending=False,inplace=True)\n",
    "dr_paper_dict_df.sort_values('count',ascending=False,inplace=True)"
   ]
  },
  {
   "cell_type": "code",
   "execution_count": 89,
   "metadata": {
    "scrolled": false
   },
   "outputs": [
    {
     "data": {
      "text/html": [
       "<div>\n",
       "<style scoped>\n",
       "    .dataframe tbody tr th:only-of-type {\n",
       "        vertical-align: middle;\n",
       "    }\n",
       "\n",
       "    .dataframe tbody tr th {\n",
       "        vertical-align: top;\n",
       "    }\n",
       "\n",
       "    .dataframe thead th {\n",
       "        text-align: right;\n",
       "    }\n",
       "</style>\n",
       "<table border=\"1\" class=\"dataframe\">\n",
       "  <thead>\n",
       "    <tr style=\"text-align: right;\">\n",
       "      <th></th>\n",
       "      <th>count</th>\n",
       "    </tr>\n",
       "  </thead>\n",
       "  <tbody>\n",
       "    <tr>\n",
       "      <th>mutual fund performance</th>\n",
       "      <td>55</td>\n",
       "    </tr>\n",
       "    <tr>\n",
       "      <th>common risk factors in the returns on stocks and bonds</th>\n",
       "      <td>28</td>\n",
       "    </tr>\n",
       "    <tr>\n",
       "      <th>corporate financing and investment decisions when firms have information that investors do not have</th>\n",
       "      <td>22</td>\n",
       "    </tr>\n",
       "    <tr>\n",
       "      <th>determinants of corporate borrowing</th>\n",
       "      <td>20</td>\n",
       "    </tr>\n",
       "    <tr>\n",
       "      <th>comovement</th>\n",
       "      <td>20</td>\n",
       "    </tr>\n",
       "  </tbody>\n",
       "</table>\n",
       "</div>"
      ],
      "text/plain": [
       "                                                    count\n",
       "mutual fund performance                                55\n",
       "common risk factors in the returns on stocks an...     28\n",
       "corporate financing and investment decisions wh...     22\n",
       "determinants of corporate borrowing                    20\n",
       "comovement                                             20"
      ]
     },
     "metadata": {},
     "output_type": "display_data"
    },
    {
     "data": {
      "text/html": [
       "<div>\n",
       "<style scoped>\n",
       "    .dataframe tbody tr th:only-of-type {\n",
       "        vertical-align: middle;\n",
       "    }\n",
       "\n",
       "    .dataframe tbody tr th {\n",
       "        vertical-align: top;\n",
       "    }\n",
       "\n",
       "    .dataframe thead th {\n",
       "        text-align: right;\n",
       "    }\n",
       "</style>\n",
       "<table border=\"1\" class=\"dataframe\">\n",
       "  <thead>\n",
       "    <tr style=\"text-align: right;\">\n",
       "      <th></th>\n",
       "      <th>count</th>\n",
       "    </tr>\n",
       "  </thead>\n",
       "  <tbody>\n",
       "    <tr>\n",
       "      <th>market microstructure</th>\n",
       "      <td>40</td>\n",
       "    </tr>\n",
       "    <tr>\n",
       "      <th>mutual fund performance</th>\n",
       "      <td>33</td>\n",
       "    </tr>\n",
       "    <tr>\n",
       "      <th>common risk factors in the returns on stocks and bonds</th>\n",
       "      <td>23</td>\n",
       "    </tr>\n",
       "    <tr>\n",
       "      <th>risk return and equilibrium: empirical tests</th>\n",
       "      <td>17</td>\n",
       "    </tr>\n",
       "    <tr>\n",
       "      <th>corporate financing and investment decisions when firms have information that investors do not have</th>\n",
       "      <td>15</td>\n",
       "    </tr>\n",
       "  </tbody>\n",
       "</table>\n",
       "</div>"
      ],
      "text/plain": [
       "                                                    count\n",
       "market microstructure                                  40\n",
       "mutual fund performance                                33\n",
       "common risk factors in the returns on stocks an...     23\n",
       "risk return and equilibrium: empirical tests           17\n",
       "corporate financing and investment decisions wh...     15"
      ]
     },
     "metadata": {},
     "output_type": "display_data"
    },
    {
     "data": {
      "text/html": [
       "<div>\n",
       "<style scoped>\n",
       "    .dataframe tbody tr th:only-of-type {\n",
       "        vertical-align: middle;\n",
       "    }\n",
       "\n",
       "    .dataframe tbody tr th {\n",
       "        vertical-align: top;\n",
       "    }\n",
       "\n",
       "    .dataframe thead th {\n",
       "        text-align: right;\n",
       "    }\n",
       "</style>\n",
       "<table border=\"1\" class=\"dataframe\">\n",
       "  <thead>\n",
       "    <tr style=\"text-align: right;\">\n",
       "      <th></th>\n",
       "      <th>count</th>\n",
       "    </tr>\n",
       "  </thead>\n",
       "  <tbody>\n",
       "    <tr>\n",
       "      <th>mutual fund performance</th>\n",
       "      <td>63</td>\n",
       "    </tr>\n",
       "    <tr>\n",
       "      <th>on persistence in mutual fund performance</th>\n",
       "      <td>25</td>\n",
       "    </tr>\n",
       "    <tr>\n",
       "      <th>common risk factors in the returns on stocks and bonds</th>\n",
       "      <td>22</td>\n",
       "    </tr>\n",
       "    <tr>\n",
       "      <th>market microstructure</th>\n",
       "      <td>21</td>\n",
       "    </tr>\n",
       "    <tr>\n",
       "      <th>the cross-section of expected stock returns</th>\n",
       "      <td>20</td>\n",
       "    </tr>\n",
       "  </tbody>\n",
       "</table>\n",
       "</div>"
      ],
      "text/plain": [
       "                                                    count\n",
       "mutual fund performance                                63\n",
       "on persistence in mutual fund performance              25\n",
       "common risk factors in the returns on stocks an...     22\n",
       "market microstructure                                  21\n",
       "the cross-section of expected stock returns            20"
      ]
     },
     "metadata": {},
     "output_type": "display_data"
    },
    {
     "data": {
      "text/html": [
       "<div>\n",
       "<style scoped>\n",
       "    .dataframe tbody tr th:only-of-type {\n",
       "        vertical-align: middle;\n",
       "    }\n",
       "\n",
       "    .dataframe tbody tr th {\n",
       "        vertical-align: top;\n",
       "    }\n",
       "\n",
       "    .dataframe thead th {\n",
       "        text-align: right;\n",
       "    }\n",
       "</style>\n",
       "<table border=\"1\" class=\"dataframe\">\n",
       "  <thead>\n",
       "    <tr style=\"text-align: right;\">\n",
       "      <th></th>\n",
       "      <th>count</th>\n",
       "    </tr>\n",
       "  </thead>\n",
       "  <tbody>\n",
       "    <tr>\n",
       "      <th>the pricing of options and corporate liabilities</th>\n",
       "      <td>16</td>\n",
       "    </tr>\n",
       "    <tr>\n",
       "      <th>vix futures</th>\n",
       "      <td>13</td>\n",
       "    </tr>\n",
       "    <tr>\n",
       "      <th>mutual fund performance</th>\n",
       "      <td>11</td>\n",
       "    </tr>\n",
       "    <tr>\n",
       "      <th>generalized autoregressive conditional heteroskedasticity</th>\n",
       "      <td>10</td>\n",
       "    </tr>\n",
       "    <tr>\n",
       "      <th>common risk factors in the returns on stocks and bonds</th>\n",
       "      <td>9</td>\n",
       "    </tr>\n",
       "  </tbody>\n",
       "</table>\n",
       "</div>"
      ],
      "text/plain": [
       "                                                    count\n",
       "the pricing of options and corporate liabilities       16\n",
       "vix futures                                            13\n",
       "mutual fund performance                                11\n",
       "generalized autoregressive conditional heterosk...     10\n",
       "common risk factors in the returns on stocks an...      9"
      ]
     },
     "metadata": {},
     "output_type": "display_data"
    }
   ],
   "source": [
    "display(fm_paper_dict_df.head())\n",
    "display(f_paper_dict_df.head())\n",
    "display(sc_paper_dict_df.head())\n",
    "display(dr_paper_dict_df.head())"
   ]
  }
 ],
 "metadata": {
  "kernelspec": {
   "display_name": "Python 3",
   "language": "python",
   "name": "python3"
  },
  "language_info": {
   "codemirror_mode": {
    "name": "ipython",
    "version": 3
   },
   "file_extension": ".py",
   "mimetype": "text/x-python",
   "name": "python",
   "nbconvert_exporter": "python",
   "pygments_lexer": "ipython3",
   "version": "3.6.6"
  }
 },
 "nbformat": 4,
 "nbformat_minor": 2
}
