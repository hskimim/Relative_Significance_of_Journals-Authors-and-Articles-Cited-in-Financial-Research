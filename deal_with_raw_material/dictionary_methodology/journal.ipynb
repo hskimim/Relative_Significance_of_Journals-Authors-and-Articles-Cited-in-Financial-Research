{
 "cells": [
  {
   "cell_type": "code",
   "execution_count": 1,
   "metadata": {},
   "outputs": [],
   "source": [
    "import sys\n",
    "sys.path.append('../personal_pkgs/')\n",
    "import pickle\n",
    "import pandas as pd\n",
    "import oop_func as func\n",
    "import personal_pkg as ref\n",
    "import parsing_func as pars\n",
    "import os\n",
    "import re\n",
    "from collections import Counter\n",
    "import warnings\n",
    "warnings.filterwarnings(\"ignore\")\n",
    "from IPython.display import Markdown"
   ]
  },
  {
   "cell_type": "code",
   "execution_count": 2,
   "metadata": {},
   "outputs": [],
   "source": [
    "fm_base_df = pd.read_csv('fm_base_df.csv')\n",
    "f_base_df = pd.read_csv('f_base_df.csv')\n",
    "sc_base_df = pd.read_csv('sc_base_df.csv')\n",
    "dr_base_df = pd.read_csv('dr_base_df.csv')\n",
    "base_df = pd.read_csv('base_df.csv')"
   ]
  },
  {
   "cell_type": "code",
   "execution_count": 3,
   "metadata": {},
   "outputs": [
    {
     "data": {
      "text/plain": [
       "author      50\n",
       "from         0\n",
       "index        0\n",
       "journal      0\n",
       "paper        0\n",
       "year       295\n",
       "dtype: int64"
      ]
     },
     "execution_count": 3,
     "metadata": {},
     "output_type": "execute_result"
    }
   ],
   "source": [
    "testing_df = base_df[base_df['journal'].notnull()]\n",
    "testing_df.isnull().sum()"
   ]
  },
  {
   "cell_type": "markdown",
   "metadata": {},
   "source": [
    "- 2002-2008 : AJFS , 증권학회지 , 한국증권학회지 -> 증권학회지\n",
    "- 2009 - : AJFS , 증권학회"
   ]
  },
  {
   "cell_type": "code",
   "execution_count": 4,
   "metadata": {},
   "outputs": [],
   "source": [
    "def tuning_the_journal(base_df) :\n",
    "    testing_df = base_df[base_df['journal'].notnull()]\n",
    "    journal_ls = [i for i in testing_df['journal'].tolist()]\n",
    "    journal_ls1 = [i.replace('”','') for i in journal_ls]\n",
    "    journal_ls2 = [re.sub('제\\s*[0-9]{,5}\\s*권|제\\s*[0-9]{,5}\\s*호|제\\s*[0-9]{,5}\\s*집','',i) for i in journal_ls1]\n",
    "    journal_ls3 = [','.join(re.findall('[a-zA-Z가-힣\\s]',i)).replace(\",\",'').strip().lower() for i in journal_ls2]\n",
    "    journal_ls4 = [re.sub('vol$|no$|vol no','',i).strip() for i in journal_ls3]\n",
    "    testing_df['journal'] = journal_ls4\n",
    "    testing_df['year'] = testing_df['year'].apply(lambda x : str(x).split('.')[0])\n",
    "    return testing_df.loc[:,['author','journal','year','paper','from']]"
   ]
  },
  {
   "cell_type": "code",
   "execution_count": 5,
   "metadata": {},
   "outputs": [],
   "source": [
    "fm_base_df = tuning_the_journal(fm_base_df)\n",
    "f_base_df = tuning_the_journal(f_base_df)\n",
    "sc_base_df = tuning_the_journal(sc_base_df)\n",
    "dr_base_df = tuning_the_journal(dr_base_df)\n",
    "base_df = tuning_the_journal(base_df)"
   ]
  },
  {
   "cell_type": "code",
   "execution_count": 6,
   "metadata": {},
   "outputs": [],
   "source": [
    "def adjust_the_journal_under_2009(base_df) : \n",
    "    base_df.reset_index(drop=True,inplace=True)\n",
    "    testing_df = base_df.copy()\n",
    "\n",
    "    for idx in range(len(testing_df)) :\n",
    "        if ('asiapacific journal of financial studies' in testing_df['journal'][idx]) or \\\n",
    "        ('한국증권학회지' in testing_df['journal'][idx]) or ('증권학회지' in testing_df['journal'][idx]) : \n",
    "            try : \n",
    "                if int(testing_df['year'][idx]) < 2009 : \n",
    "                    testing_df['journal'][idx] = '증권학회지'\n",
    "            except : testing_df['journal'][idx] = '증권학회지'\n",
    "\n",
    "\n",
    "    for idx in range(len(testing_df)) :\n",
    "        if ('한국증권학회지' in testing_df['journal'][idx]) or ('증권학회지' in testing_df['journal'][idx]) : \n",
    "            try : \n",
    "                if int(testing_df['year'][idx]) > 2009 : \n",
    "                    testing_df['journal'][idx] = '증권학회지'\n",
    "            except : pass # year 가 nan 인 데이터는 검색결과 2009년 이전의 논문이였다.\n",
    "    return testing_df"
   ]
  },
  {
   "cell_type": "code",
   "execution_count": 7,
   "metadata": {},
   "outputs": [],
   "source": [
    "new_base_df = adjust_the_journal_under_2009(base_df)\n",
    "new_fm_base_df = adjust_the_journal_under_2009(fm_base_df)\n",
    "new_f_base_df = adjust_the_journal_under_2009(f_base_df)\n",
    "new_sc_base_df = adjust_the_journal_under_2009(sc_base_df)\n",
    "new_dr_base_df = adjust_the_journal_under_2009(dr_base_df)"
   ]
  },
  {
   "cell_type": "code",
   "execution_count": 9,
   "metadata": {},
   "outputs": [],
   "source": [
    "def make_counter_df_under_journal(base_df) :\n",
    "    df1 = pd.DataFrame.from_dict(Counter(base_df['journal'].tolist()),orient='index',columns=['count'])\n",
    "    df2 = df1.sort_values('count',ascending=False)\n",
    "    return df2"
   ]
  },
  {
   "cell_type": "code",
   "execution_count": 13,
   "metadata": {},
   "outputs": [],
   "source": [
    "journal_counter_df = make_counter_df_under_journal(new_base_df)\n",
    "journal_counter_df.reset_index(inplace=True)\n",
    "journal_counter_df.to_csv('journal_counter_df.csv',index=False)"
   ]
  },
  {
   "cell_type": "code",
   "execution_count": 11,
   "metadata": {},
   "outputs": [
    {
     "data": {
      "text/markdown": [
       "### 한국재무관리학회"
      ],
      "text/plain": [
       "<IPython.core.display.Markdown object>"
      ]
     },
     "metadata": {},
     "output_type": "display_data"
    },
    {
     "data": {
      "text/html": [
       "<div>\n",
       "<style scoped>\n",
       "    .dataframe tbody tr th:only-of-type {\n",
       "        vertical-align: middle;\n",
       "    }\n",
       "\n",
       "    .dataframe tbody tr th {\n",
       "        vertical-align: top;\n",
       "    }\n",
       "\n",
       "    .dataframe thead th {\n",
       "        text-align: right;\n",
       "    }\n",
       "</style>\n",
       "<table border=\"1\" class=\"dataframe\">\n",
       "  <thead>\n",
       "    <tr style=\"text-align: right;\">\n",
       "      <th></th>\n",
       "      <th>count</th>\n",
       "    </tr>\n",
       "  </thead>\n",
       "  <tbody>\n",
       "    <tr>\n",
       "      <th>journal of finance</th>\n",
       "      <td>1151</td>\n",
       "    </tr>\n",
       "    <tr>\n",
       "      <th>journal of financial economics</th>\n",
       "      <td>958</td>\n",
       "    </tr>\n",
       "    <tr>\n",
       "      <th>증권학회지</th>\n",
       "      <td>404</td>\n",
       "    </tr>\n",
       "    <tr>\n",
       "      <th>재무관리연구</th>\n",
       "      <td>398</td>\n",
       "    </tr>\n",
       "    <tr>\n",
       "      <th>review of financial studies</th>\n",
       "      <td>318</td>\n",
       "    </tr>\n",
       "    <tr>\n",
       "      <th>재무연구</th>\n",
       "      <td>257</td>\n",
       "    </tr>\n",
       "    <tr>\n",
       "      <th>journal of financial and quantitative analysis</th>\n",
       "      <td>199</td>\n",
       "    </tr>\n",
       "    <tr>\n",
       "      <th>american economic review</th>\n",
       "      <td>155</td>\n",
       "    </tr>\n",
       "    <tr>\n",
       "      <th>econometrica</th>\n",
       "      <td>153</td>\n",
       "    </tr>\n",
       "    <tr>\n",
       "      <th>journal of banking and finance</th>\n",
       "      <td>148</td>\n",
       "    </tr>\n",
       "  </tbody>\n",
       "</table>\n",
       "</div>"
      ],
      "text/plain": [
       "                                                count\n",
       "journal of finance                               1151\n",
       "journal of financial economics                    958\n",
       "증권학회지                                             404\n",
       "재무관리연구                                            398\n",
       "review of financial studies                       318\n",
       "재무연구                                              257\n",
       "journal of financial and quantitative analysis    199\n",
       "american economic review                          155\n",
       "econometrica                                      153\n",
       "journal of banking and finance                    148"
      ]
     },
     "metadata": {},
     "output_type": "display_data"
    },
    {
     "data": {
      "text/markdown": [
       "### 한국재무학회"
      ],
      "text/plain": [
       "<IPython.core.display.Markdown object>"
      ]
     },
     "metadata": {},
     "output_type": "display_data"
    },
    {
     "data": {
      "text/html": [
       "<div>\n",
       "<style scoped>\n",
       "    .dataframe tbody tr th:only-of-type {\n",
       "        vertical-align: middle;\n",
       "    }\n",
       "\n",
       "    .dataframe tbody tr th {\n",
       "        vertical-align: top;\n",
       "    }\n",
       "\n",
       "    .dataframe thead th {\n",
       "        text-align: right;\n",
       "    }\n",
       "</style>\n",
       "<table border=\"1\" class=\"dataframe\">\n",
       "  <thead>\n",
       "    <tr style=\"text-align: right;\">\n",
       "      <th></th>\n",
       "      <th>count</th>\n",
       "    </tr>\n",
       "  </thead>\n",
       "  <tbody>\n",
       "    <tr>\n",
       "      <th>journal of finance</th>\n",
       "      <td>527</td>\n",
       "    </tr>\n",
       "    <tr>\n",
       "      <th>journal of financial economics</th>\n",
       "      <td>411</td>\n",
       "    </tr>\n",
       "    <tr>\n",
       "      <th>증권학회지</th>\n",
       "      <td>204</td>\n",
       "    </tr>\n",
       "    <tr>\n",
       "      <th>재무연구</th>\n",
       "      <td>179</td>\n",
       "    </tr>\n",
       "    <tr>\n",
       "      <th>journal of finance vol</th>\n",
       "      <td>144</td>\n",
       "    </tr>\n",
       "    <tr>\n",
       "      <th>재무관리연구</th>\n",
       "      <td>132</td>\n",
       "    </tr>\n",
       "    <tr>\n",
       "      <th>journal of financial economics vol</th>\n",
       "      <td>128</td>\n",
       "    </tr>\n",
       "    <tr>\n",
       "      <th>review of financial studies</th>\n",
       "      <td>113</td>\n",
       "    </tr>\n",
       "    <tr>\n",
       "      <th>econometrica</th>\n",
       "      <td>74</td>\n",
       "    </tr>\n",
       "    <tr>\n",
       "      <th>journal of political economy</th>\n",
       "      <td>61</td>\n",
       "    </tr>\n",
       "  </tbody>\n",
       "</table>\n",
       "</div>"
      ],
      "text/plain": [
       "                                    count\n",
       "journal of finance                    527\n",
       "journal of financial economics        411\n",
       "증권학회지                                 204\n",
       "재무연구                                  179\n",
       "journal of finance vol                144\n",
       "재무관리연구                                132\n",
       "journal of financial economics vol    128\n",
       "review of financial studies           113\n",
       "econometrica                           74\n",
       "journal of political economy           61"
      ]
     },
     "metadata": {},
     "output_type": "display_data"
    },
    {
     "data": {
      "text/markdown": [
       "### 한국증권학회지"
      ],
      "text/plain": [
       "<IPython.core.display.Markdown object>"
      ]
     },
     "metadata": {},
     "output_type": "display_data"
    },
    {
     "data": {
      "text/html": [
       "<div>\n",
       "<style scoped>\n",
       "    .dataframe tbody tr th:only-of-type {\n",
       "        vertical-align: middle;\n",
       "    }\n",
       "\n",
       "    .dataframe tbody tr th {\n",
       "        vertical-align: top;\n",
       "    }\n",
       "\n",
       "    .dataframe thead th {\n",
       "        text-align: right;\n",
       "    }\n",
       "</style>\n",
       "<table border=\"1\" class=\"dataframe\">\n",
       "  <thead>\n",
       "    <tr style=\"text-align: right;\">\n",
       "      <th></th>\n",
       "      <th>count</th>\n",
       "    </tr>\n",
       "  </thead>\n",
       "  <tbody>\n",
       "    <tr>\n",
       "      <th>증권학회지</th>\n",
       "      <td>701</td>\n",
       "    </tr>\n",
       "    <tr>\n",
       "      <th>journal of financial economics</th>\n",
       "      <td>700</td>\n",
       "    </tr>\n",
       "    <tr>\n",
       "      <th>journal of finance</th>\n",
       "      <td>686</td>\n",
       "    </tr>\n",
       "    <tr>\n",
       "      <th>재무연구</th>\n",
       "      <td>313</td>\n",
       "    </tr>\n",
       "    <tr>\n",
       "      <th>재무관리연구</th>\n",
       "      <td>239</td>\n",
       "    </tr>\n",
       "    <tr>\n",
       "      <th>review of financial studies</th>\n",
       "      <td>157</td>\n",
       "    </tr>\n",
       "    <tr>\n",
       "      <th>journal of political economy</th>\n",
       "      <td>129</td>\n",
       "    </tr>\n",
       "    <tr>\n",
       "      <th>회계학연구</th>\n",
       "      <td>87</td>\n",
       "    </tr>\n",
       "    <tr>\n",
       "      <th>american economic review</th>\n",
       "      <td>85</td>\n",
       "    </tr>\n",
       "    <tr>\n",
       "      <th>선물연구</th>\n",
       "      <td>85</td>\n",
       "    </tr>\n",
       "  </tbody>\n",
       "</table>\n",
       "</div>"
      ],
      "text/plain": [
       "                                count\n",
       "증권학회지                             701\n",
       "journal of financial economics    700\n",
       "journal of finance                686\n",
       "재무연구                              313\n",
       "재무관리연구                            239\n",
       "review of financial studies       157\n",
       "journal of political economy      129\n",
       "회계학연구                              87\n",
       "american economic review           85\n",
       "선물연구                               85"
      ]
     },
     "metadata": {},
     "output_type": "display_data"
    },
    {
     "data": {
      "text/markdown": [
       "### 한국파생상품학회"
      ],
      "text/plain": [
       "<IPython.core.display.Markdown object>"
      ]
     },
     "metadata": {},
     "output_type": "display_data"
    },
    {
     "data": {
      "text/html": [
       "<div>\n",
       "<style scoped>\n",
       "    .dataframe tbody tr th:only-of-type {\n",
       "        vertical-align: middle;\n",
       "    }\n",
       "\n",
       "    .dataframe tbody tr th {\n",
       "        vertical-align: top;\n",
       "    }\n",
       "\n",
       "    .dataframe thead th {\n",
       "        text-align: right;\n",
       "    }\n",
       "</style>\n",
       "<table border=\"1\" class=\"dataframe\">\n",
       "  <thead>\n",
       "    <tr style=\"text-align: right;\">\n",
       "      <th></th>\n",
       "      <th>count</th>\n",
       "    </tr>\n",
       "  </thead>\n",
       "  <tbody>\n",
       "    <tr>\n",
       "      <th>journal of finance</th>\n",
       "      <td>247</td>\n",
       "    </tr>\n",
       "    <tr>\n",
       "      <th>선물연구</th>\n",
       "      <td>164</td>\n",
       "    </tr>\n",
       "    <tr>\n",
       "      <th>journal of financial economics</th>\n",
       "      <td>133</td>\n",
       "    </tr>\n",
       "    <tr>\n",
       "      <th>review of financial studies</th>\n",
       "      <td>132</td>\n",
       "    </tr>\n",
       "    <tr>\n",
       "      <th>증권학회지</th>\n",
       "      <td>78</td>\n",
       "    </tr>\n",
       "    <tr>\n",
       "      <th>econometrica</th>\n",
       "      <td>63</td>\n",
       "    </tr>\n",
       "    <tr>\n",
       "      <th>journal of futures markets</th>\n",
       "      <td>53</td>\n",
       "    </tr>\n",
       "    <tr>\n",
       "      <th>journal of financial and quantitative analysis</th>\n",
       "      <td>52</td>\n",
       "    </tr>\n",
       "    <tr>\n",
       "      <th>재무관리연구</th>\n",
       "      <td>50</td>\n",
       "    </tr>\n",
       "    <tr>\n",
       "      <th>재무연구</th>\n",
       "      <td>47</td>\n",
       "    </tr>\n",
       "  </tbody>\n",
       "</table>\n",
       "</div>"
      ],
      "text/plain": [
       "                                                count\n",
       "journal of finance                                247\n",
       "선물연구                                              164\n",
       "journal of financial economics                    133\n",
       "review of financial studies                       132\n",
       "증권학회지                                              78\n",
       "econometrica                                       63\n",
       "journal of futures markets                         53\n",
       "journal of financial and quantitative analysis     52\n",
       "재무관리연구                                             50\n",
       "재무연구                                               47"
      ]
     },
     "metadata": {},
     "output_type": "display_data"
    }
   ],
   "source": [
    "display(Markdown('### 한국재무관리학회'))\n",
    "display(make_counter_df_under_journal(new_fm_base_df).head(10))\n",
    "display(Markdown('### 한국재무학회'))\n",
    "display(make_counter_df_under_journal(new_f_base_df).head(10))\n",
    "display(Markdown('### 한국증권학회지'))\n",
    "display(make_counter_df_under_journal(new_sc_base_df).head(10))\n",
    "display(Markdown('### 한국파생상품학회'))\n",
    "display(make_counter_df_under_journal(new_dr_base_df).head(10))"
   ]
  }
 ],
 "metadata": {
  "kernelspec": {
   "display_name": "Python 3",
   "language": "python",
   "name": "python3"
  },
  "language_info": {
   "codemirror_mode": {
    "name": "ipython",
    "version": 3
   },
   "file_extension": ".py",
   "mimetype": "text/x-python",
   "name": "python",
   "nbconvert_exporter": "python",
   "pygments_lexer": "ipython3",
   "version": "3.6.6"
  }
 },
 "nbformat": 4,
 "nbformat_minor": 2
}
