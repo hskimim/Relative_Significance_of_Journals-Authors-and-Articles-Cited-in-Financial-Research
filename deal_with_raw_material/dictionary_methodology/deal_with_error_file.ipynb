{
 "cells": [
  {
   "cell_type": "markdown",
   "metadata": {},
   "source": [
    "에러 파일이 총 263개가 발생하였고, 이에 대해 다시 파싱을 적용한다"
   ]
  },
  {
   "cell_type": "code",
   "execution_count": 11,
   "metadata": {},
   "outputs": [],
   "source": [
    "import os\n",
    "import subprocess\n",
    "import pandas as pd\n",
    "\n",
    "import sys\n",
    "sys.path.append('../personal_pkgs/')\n",
    "\n",
    "import parsing_func as pars\n",
    "import oop_func as func\n",
    "import oop_function as function\n",
    "\n",
    "import warnings\n",
    "warnings.simplefilter('ignore')\n",
    "\n",
    "import re"
   ]
  },
  {
   "cell_type": "code",
   "execution_count": 12,
   "metadata": {
    "scrolled": true
   },
   "outputs": [
    {
     "data": {
      "text/plain": [
       "['../../paper_list/한국재무관리학회/2004/KCI_FI001156255.txt',\n",
       " '../../paper_list/한국재무관리학회/2004/KCI_FI001156092.txt',\n",
       " '../../paper_list/한국재무관리학회/2005/KCI_FI001156473.txt',\n",
       " '../../paper_list/한국재무관리학회/2005/KCI_FI001156428.txt',\n",
       " '../../paper_list/한국재무관리학회/2005/KCI_FI001156429.txt']"
      ]
     },
     "execution_count": 12,
     "metadata": {},
     "output_type": "execute_result"
    }
   ],
   "source": [
    "error_path = pd.read_csv('error_path.csv').iloc[:,0].tolist()\n",
    "error_path[:5]"
   ]
  },
  {
   "cell_type": "code",
   "execution_count": 27,
   "metadata": {},
   "outputs": [],
   "source": [
    "valueerror_ls = []\n",
    "unicodeerror_ls = []\n",
    "success_ls = []\n",
    "sentences_ls = []\n",
    "\n",
    "for err in error_path :\n",
    "    try : \n",
    "        process1 = func.Slicing_paper(err,special_case=False)\n",
    "        sentences_ls.append(process1.split())\n",
    "        success_ls.append(err)\n",
    "    except UnicodeDecodeError :\n",
    "        unicodeerror_ls.append(err)\n",
    "    except ValueError :\n",
    "        valueerror_ls.append(err)"
   ]
  },
  {
   "cell_type": "code",
   "execution_count": 17,
   "metadata": {
    "scrolled": true
   },
   "outputs": [],
   "source": [
    "valueerror_ls = []\n",
    "unicodeerror_ls = []\n",
    "success_ls = []\n",
    "sentences_ls = []\n",
    "\n",
    "for file in os.listdir('error_solved_file/') : \n",
    "    file = 'error_solved_file/' + file\n",
    "    try : \n",
    "        process1 = func.Slicing_paper(file,special_case=False)\n",
    "        sentences_ls.append(process1.split())\n",
    "        success_ls.append(file)\n",
    "    except ValueError :\n",
    "        valueerror_ls.append(file)"
   ]
  },
  {
   "cell_type": "code",
   "execution_count": 9,
   "metadata": {
    "scrolled": true
   },
   "outputs": [
    {
     "name": "stdout",
     "output_type": "stream",
     "text": [
      "0\n",
      "5\n",
      "10\n",
      "15\n",
      "error_solved_file/vol18_no2_239.txt there is no notation about References\n",
      "20\n",
      "25\n",
      "30\n",
      "error_solved_file/vol18_no2_101.txt there is no notation about References\n",
      "35\n",
      "40\n",
      "45\n"
     ]
    }
   ],
   "source": [
    "unicodeerror_ls = []\n",
    "success_ls = []\n",
    "sentences_ls = []\n",
    "\n",
    "for idx,file in enumerate(valueerror_ls) : \n",
    "    if idx % 5 == 0 : print(idx)\n",
    "    try : \n",
    "        process1 = func.Slicing_paper(file,special_case=True)\n",
    "        sentences_ls.append(process1.split())\n",
    "        success_ls.append(file)\n",
    "    except Exception as e:\n",
    "        print(file,e)"
   ]
  }
 ],
 "metadata": {
  "kernelspec": {
   "display_name": "Python 3",
   "language": "python",
   "name": "python3"
  },
  "language_info": {
   "codemirror_mode": {
    "name": "ipython",
    "version": 3
   },
   "file_extension": ".py",
   "mimetype": "text/x-python",
   "name": "python",
   "nbconvert_exporter": "python",
   "pygments_lexer": "ipython3",
   "version": "3.6.6"
  }
 },
 "nbformat": 4,
 "nbformat_minor": 2
}
