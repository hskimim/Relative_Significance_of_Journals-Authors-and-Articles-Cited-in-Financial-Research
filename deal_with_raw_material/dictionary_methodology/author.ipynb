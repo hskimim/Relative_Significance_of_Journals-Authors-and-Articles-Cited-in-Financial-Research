{
 "cells": [
  {
   "cell_type": "code",
   "execution_count": 306,
   "metadata": {},
   "outputs": [],
   "source": [
    "import sys\n",
    "sys.path.append('../personal_pkgs/')\n",
    "import pickle\n",
    "import pandas as pd\n",
    "import oop_func as func\n",
    "import personal_pkg as ref\n",
    "import parsing_func as pars\n",
    "import os\n",
    "import re\n",
    "from collections import Counter\n",
    "import warnings\n",
    "warnings.filterwarnings(\"ignore\")\n",
    "from IPython.display import Markdown\n",
    "from ordered_set import OrderedSet"
   ]
  },
  {
   "cell_type": "code",
   "execution_count": 307,
   "metadata": {},
   "outputs": [],
   "source": [
    "base_df = pd.read_csv('base_df.csv')\n",
    "fm_base_df = pd.read_csv('fm_base_df.csv')\n",
    "f_base_df = pd.read_csv('f_base_df.csv')\n",
    "sc_base_df = pd.read_csv('sc_base_df.csv')\n",
    "dr_base_df = pd.read_csv('dr_base_df.csv')"
   ]
  },
  {
   "cell_type": "code",
   "execution_count": 308,
   "metadata": {},
   "outputs": [],
   "source": [
    "def return_multiple_author(base_df):\n",
    "    testing_df = base_df[base_df['author'].notnull()]\n",
    "    author = testing_df['author'].tolist()\n",
    "    author1 = [i.replace('[Provider:earticle]','').strip() for i in author]\n",
    "    testing_df['journal'] = author1\n",
    "    return testing_df.loc[:,['author','journal','paper','year','from']]"
   ]
  },
  {
   "cell_type": "code",
   "execution_count": 309,
   "metadata": {},
   "outputs": [],
   "source": [
    "fm_base_df = return_mutiple_author(fm_base_df)\n",
    "f_base_df = return_mutiple_author(f_base_df)\n",
    "sc_base_df = return_mutiple_author(sc_base_df)\n",
    "dr_base_df = return_mutiple_author(dr_base_df)"
   ]
  },
  {
   "cell_type": "code",
   "execution_count": 310,
   "metadata": {},
   "outputs": [],
   "source": [
    "fm_base_df['year'] = fm_base_df['year'].apply(lambda x : str(x).split('.')[0])\n",
    "f_base_df['year'] = f_base_df['year'].apply(lambda x : str(x).split('.')[0])\n",
    "sc_base_df['year'] = sc_base_df['year'].apply(lambda x : str(x).split('.')[0])\n",
    "dr_base_df['year'] = dr_base_df['year'].apply(lambda x : str(x).split('.')[0])"
   ]
  },
  {
   "cell_type": "code",
   "execution_count": 311,
   "metadata": {
    "scrolled": true
   },
   "outputs": [
    {
     "data": {
      "text/html": [
       "<div>\n",
       "<style scoped>\n",
       "    .dataframe tbody tr th:only-of-type {\n",
       "        vertical-align: middle;\n",
       "    }\n",
       "\n",
       "    .dataframe tbody tr th {\n",
       "        vertical-align: top;\n",
       "    }\n",
       "\n",
       "    .dataframe thead th {\n",
       "        text-align: right;\n",
       "    }\n",
       "</style>\n",
       "<table border=\"1\" class=\"dataframe\">\n",
       "  <thead>\n",
       "    <tr style=\"text-align: right;\">\n",
       "      <th></th>\n",
       "      <th>count</th>\n",
       "    </tr>\n",
       "  </thead>\n",
       "  <tbody>\n",
       "    <tr>\n",
       "      <th>Fama E. F. and K. R. French</th>\n",
       "      <td>192</td>\n",
       "    </tr>\n",
       "    <tr>\n",
       "      <th>Jensen M. and W. Meckling</th>\n",
       "      <td>75</td>\n",
       "    </tr>\n",
       "    <tr>\n",
       "      <th>Carhart Mark M.</th>\n",
       "      <td>74</td>\n",
       "    </tr>\n",
       "    <tr>\n",
       "      <th>Black F.</th>\n",
       "      <td>74</td>\n",
       "    </tr>\n",
       "    <tr>\n",
       "      <th>Fama E. F. and J. D. MacBeth</th>\n",
       "      <td>70</td>\n",
       "    </tr>\n",
       "    <tr>\n",
       "      <th>고봉찬 김진우</th>\n",
       "      <td>68</td>\n",
       "    </tr>\n",
       "    <tr>\n",
       "      <th>Fama E. and French K.</th>\n",
       "      <td>64</td>\n",
       "    </tr>\n",
       "    <tr>\n",
       "      <th>Fama Eugene F. Kenneth R. French</th>\n",
       "      <td>59</td>\n",
       "    </tr>\n",
       "    <tr>\n",
       "      <th>Jegadeesh N. and S. Titman</th>\n",
       "      <td>53</td>\n",
       "    </tr>\n",
       "    <tr>\n",
       "      <th>Ang A. R. J. Hodrick Y. Xing and X. Zhang</th>\n",
       "      <td>50</td>\n",
       "    </tr>\n",
       "  </tbody>\n",
       "</table>\n",
       "</div>"
      ],
      "text/plain": [
       "                                            count\n",
       "Fama E. F. and K. R. French                   192\n",
       "Jensen M. and W. Meckling                      75\n",
       "Carhart Mark M.                                74\n",
       "Black F.                                       74\n",
       "Fama E. F. and J. D. MacBeth                   70\n",
       "고봉찬 김진우                                        68\n",
       "Fama E. and French K.                          64\n",
       "Fama Eugene F. Kenneth R. French               59\n",
       "Jegadeesh N. and S. Titman                     53\n",
       "Ang A. R. J. Hodrick Y. Xing and X. Zhang      50"
      ]
     },
     "execution_count": 311,
     "metadata": {},
     "output_type": "execute_result"
    }
   ],
   "source": [
    "counter_df = pd.DataFrame.from_dict(Counter(fm_base_df['author'].tolist() + \\\n",
    "f_base_df['author'].tolist() + \\\n",
    "sc_base_df['author'].tolist() + \\\n",
    "dr_base_df['author'].tolist()),orient='index',columns=['count']).sort_values('count',ascending=False)\n",
    "\n",
    "counter_df.head(10)"
   ]
  },
  {
   "cell_type": "code",
   "execution_count": 312,
   "metadata": {
    "scrolled": true
   },
   "outputs": [
    {
     "name": "stdout",
     "output_type": "stream",
     "text": [
      "1237\n"
     ]
    },
    {
     "data": {
      "text/plain": [
       "['Fama E. F. and K. R. French ',\n",
       " 'Jensen M. and W. Meckling ',\n",
       " 'Carhart Mark M. ',\n",
       " 'Black F. ',\n",
       " 'Fama E. F. and J. D. MacBeth ']"
      ]
     },
     "execution_count": 312,
     "metadata": {},
     "output_type": "execute_result"
    }
   ],
   "source": [
    "catch_author_ls = counter_df[counter_df['count'] > 3].index.tolist()\n",
    "print(len(catch_author_ls))\n",
    "catch_author_ls[:5]"
   ]
  },
  {
   "cell_type": "code",
   "execution_count": 313,
   "metadata": {},
   "outputs": [
    {
     "name": "stdout",
     "output_type": "stream",
     "text": [
      "0\n",
      "1\n",
      "2\n",
      "3\n",
      "4\n"
     ]
    },
    {
     "data": {
      "text/plain": [
       "(1237, 1064, 173)"
      ]
     },
     "execution_count": 313,
     "metadata": {},
     "output_type": "execute_result"
    }
   ],
   "source": [
    "catch_author_ls_copy = catch_author_ls.copy()\n",
    "tuned_catch_author_ls = []\n",
    "excepted_ls = []\n",
    "similar_match_ls = []\n",
    "\n",
    "for i in range(5) : \n",
    "    print(i)\n",
    "    for idx1,val1 in enumerate(catch_author_ls_copy) : \n",
    "        for idx2,val2 in enumerate(catch_author_ls_copy) :\n",
    "            if idx1 != idx2 : \n",
    "                v1 = set(val1.split(' '))\n",
    "                v2 = set(val2.split(' '))\n",
    "                try : \n",
    "                    if len(set(v1).intersection(v2)) / ((len(v1) + len(v2))/2) > 0.85 : \n",
    "                        similar_match_ls.append((val1,val2))\n",
    "                        if len(v1) > len(v2) :\n",
    "                            catch_author_ls_copy.pop(catch_author_ls_copy.index(val2))\n",
    "                            excepted_ls.append((val2))\n",
    "                        else :\n",
    "                            catch_author_ls_copy.pop(catch_author_ls_copy.index(val1))\n",
    "                            excepted_ls.append(((val1)))                    \n",
    "                except : pass\n",
    "\n",
    "len(catch_author_ls) , len(catch_author_ls_copy) , len(excepted_ls)"
   ]
  },
  {
   "cell_type": "code",
   "execution_count": 314,
   "metadata": {},
   "outputs": [
    {
     "data": {
      "text/plain": [
       "['Fama E. F. and K. R. French ',\n",
       " '[Provider:earticle]  Fama E. F. and J. D. MacBeth ',\n",
       " 'Fama E. F. ',\n",
       " 'Fama Eugene F. and French Kenneth R. ',\n",
       " 'Fama E. F. and M. C. Jensen ']"
      ]
     },
     "execution_count": 314,
     "metadata": {},
     "output_type": "execute_result"
    }
   ],
   "source": [
    "[i for i in catch_author_ls_copy if 'fama' in i.lower()]"
   ]
  },
  {
   "cell_type": "code",
   "execution_count": 315,
   "metadata": {
    "scrolled": true
   },
   "outputs": [
    {
     "name": "stdout",
     "output_type": "stream",
     "text": [
      "16000\r"
     ]
    }
   ],
   "source": [
    "ready_to_target_dict = dict(zip(catch_author_ls_copy,[[] for i in range(len(catch_author_ls_copy))]))\n",
    "append = 0\n",
    "naive_append = 0\n",
    "\n",
    "for idx1,val1 in enumerate(base_df['author'].tolist()) : \n",
    "    if idx1 % 4000 == 0 : print(idx1,end='\\r')\n",
    "    for idx2,val2 in enumerate(ready_to_target_dict.keys()) :\n",
    "        \n",
    "        if type(val1) == str:\n",
    "            paper_name = val1.lower()\n",
    "            target_name = val2.lower()\n",
    "\n",
    "            paper_name_to_word = set(paper_name.split(' '))\n",
    "            target_name_to_word = set(target_name.split(' '))\n",
    "            if len(paper_name_to_word.intersection(target_name_to_word)) / \\\n",
    "            ((len(paper_name_to_word) + len(target_name_to_word))/2) > 0.85 : \n",
    "                ready_to_target_dict[val2].append(val1)\n",
    "                append += 1"
   ]
  },
  {
   "cell_type": "code",
   "execution_count": 316,
   "metadata": {},
   "outputs": [
    {
     "data": {
      "text/plain": [
       "True"
      ]
     },
     "execution_count": 316,
     "metadata": {},
     "output_type": "execute_result"
    }
   ],
   "source": [
    "final_ls = []\n",
    "process_ls = []\n",
    "error_ls = []\n",
    "\n",
    "for idx1 , val in enumerate(base_df['author']) : \n",
    "    process_ls = []\n",
    "    for idx2, key_ in enumerate(list(ready_to_target_dict.keys())) : \n",
    "        if val in ready_to_target_dict.get(key_) : \n",
    "            process_ls.append(key_)\n",
    "    if type(val) == str :\n",
    "        if len(process_ls) == 1 :\n",
    "            final_ls.append(process_ls[0])\n",
    "        elif len(process_ls) == 0 :\n",
    "            final_ls.append(val)\n",
    "        else : final_ls.append(val)\n",
    "    else : final_ls.append(None)\n",
    "        \n",
    "len(final_ls) == len(base_df)"
   ]
  },
  {
   "cell_type": "code",
   "execution_count": 317,
   "metadata": {},
   "outputs": [],
   "source": [
    "base_df['new_author'] = final_ls"
   ]
  },
  {
   "cell_type": "code",
   "execution_count": 318,
   "metadata": {},
   "outputs": [
    {
     "data": {
      "text/plain": [
       "(9983, 10536)"
      ]
     },
     "execution_count": 318,
     "metadata": {},
     "output_type": "execute_result"
    }
   ],
   "source": [
    "len(set(final_ls)) , len(set(base_df['author']))"
   ]
  },
  {
   "cell_type": "code",
   "execution_count": 319,
   "metadata": {},
   "outputs": [],
   "source": [
    "final_author_df = base_df.copy()\n",
    "final_author_df = final_author_df[final_author_df['new_author'].notnull()]"
   ]
  },
  {
   "cell_type": "code",
   "execution_count": 320,
   "metadata": {},
   "outputs": [
    {
     "data": {
      "text/markdown": [
       "### 기존의 방법론"
      ],
      "text/plain": [
       "<IPython.core.display.Markdown object>"
      ]
     },
     "metadata": {},
     "output_type": "display_data"
    },
    {
     "data": {
      "text/html": [
       "<div>\n",
       "<style scoped>\n",
       "    .dataframe tbody tr th:only-of-type {\n",
       "        vertical-align: middle;\n",
       "    }\n",
       "\n",
       "    .dataframe tbody tr th {\n",
       "        vertical-align: top;\n",
       "    }\n",
       "\n",
       "    .dataframe thead th {\n",
       "        text-align: right;\n",
       "    }\n",
       "</style>\n",
       "<table border=\"1\" class=\"dataframe\">\n",
       "  <thead>\n",
       "    <tr style=\"text-align: right;\">\n",
       "      <th></th>\n",
       "      <th>count</th>\n",
       "    </tr>\n",
       "  </thead>\n",
       "  <tbody>\n",
       "    <tr>\n",
       "      <th>Fama E. F. and K. R. French</th>\n",
       "      <td>169</td>\n",
       "    </tr>\n",
       "    <tr>\n",
       "      <th>Jensen M. and W. Meckling</th>\n",
       "      <td>63</td>\n",
       "    </tr>\n",
       "    <tr>\n",
       "      <th>Black F.</th>\n",
       "      <td>58</td>\n",
       "    </tr>\n",
       "    <tr>\n",
       "      <th>Carhart Mark M.</th>\n",
       "      <td>50</td>\n",
       "    </tr>\n",
       "    <tr>\n",
       "      <th>Fama E. F. and J. D. MacBeth</th>\n",
       "      <td>49</td>\n",
       "    </tr>\n",
       "    <tr>\n",
       "      <th>Ang A. R. J. Hodrick Y. Xing and X. Zhang</th>\n",
       "      <td>43</td>\n",
       "    </tr>\n",
       "    <tr>\n",
       "      <th>Black F. and M. Scholes</th>\n",
       "      <td>41</td>\n",
       "    </tr>\n",
       "    <tr>\n",
       "      <th>Fama E. and French K.</th>\n",
       "      <td>41</td>\n",
       "    </tr>\n",
       "    <tr>\n",
       "      <th>Bollerslev T.</th>\n",
       "      <td>38</td>\n",
       "    </tr>\n",
       "    <tr>\n",
       "      <th>Jegadeesh N. and S. Titman</th>\n",
       "      <td>38</td>\n",
       "    </tr>\n",
       "  </tbody>\n",
       "</table>\n",
       "</div>"
      ],
      "text/plain": [
       "                                            count\n",
       "Fama E. F. and K. R. French                   169\n",
       "Jensen M. and W. Meckling                      63\n",
       "Black F.                                       58\n",
       "Carhart Mark M.                                50\n",
       "Fama E. F. and J. D. MacBeth                   49\n",
       "Ang A. R. J. Hodrick Y. Xing and X. Zhang      43\n",
       "Black F. and M. Scholes                        41\n",
       "Fama E. and French K.                          41\n",
       "Bollerslev T.                                  38\n",
       "Jegadeesh N. and S. Titman                     38"
      ]
     },
     "metadata": {},
     "output_type": "display_data"
    },
    {
     "data": {
      "text/markdown": [
       "### 개선된 방법론"
      ],
      "text/plain": [
       "<IPython.core.display.Markdown object>"
      ]
     },
     "metadata": {},
     "output_type": "display_data"
    },
    {
     "data": {
      "text/html": [
       "<div>\n",
       "<style scoped>\n",
       "    .dataframe tbody tr th:only-of-type {\n",
       "        vertical-align: middle;\n",
       "    }\n",
       "\n",
       "    .dataframe tbody tr th {\n",
       "        vertical-align: top;\n",
       "    }\n",
       "\n",
       "    .dataframe thead th {\n",
       "        text-align: right;\n",
       "    }\n",
       "</style>\n",
       "<table border=\"1\" class=\"dataframe\">\n",
       "  <thead>\n",
       "    <tr style=\"text-align: right;\">\n",
       "      <th></th>\n",
       "      <th>count</th>\n",
       "    </tr>\n",
       "  </thead>\n",
       "  <tbody>\n",
       "    <tr>\n",
       "      <th>Fama E. F. and K. R. French</th>\n",
       "      <td>242</td>\n",
       "    </tr>\n",
       "    <tr>\n",
       "      <th>Jensen M. C. and W. J. Meckling</th>\n",
       "      <td>109</td>\n",
       "    </tr>\n",
       "    <tr>\n",
       "      <th>Carhart Mark M.</th>\n",
       "      <td>75</td>\n",
       "    </tr>\n",
       "    <tr>\n",
       "      <th>[Provider:earticle]  Fama E. F. and J. D. MacBeth</th>\n",
       "      <td>67</td>\n",
       "    </tr>\n",
       "    <tr>\n",
       "      <th>Jensen M. C.</th>\n",
       "      <td>60</td>\n",
       "    </tr>\n",
       "    <tr>\n",
       "      <th>Black F.</th>\n",
       "      <td>58</td>\n",
       "    </tr>\n",
       "    <tr>\n",
       "      <th>Black F. and Scholes M.</th>\n",
       "      <td>58</td>\n",
       "    </tr>\n",
       "    <tr>\n",
       "      <th>Bakshi G. N. Kapadia and D. Madan</th>\n",
       "      <td>54</td>\n",
       "    </tr>\n",
       "    <tr>\n",
       "      <th>Barber B. M. T. Odean and N. Zhu</th>\n",
       "      <td>52</td>\n",
       "    </tr>\n",
       "    <tr>\n",
       "      <th>Choe H. B. C. Kho and R. M. Stulz</th>\n",
       "      <td>47</td>\n",
       "    </tr>\n",
       "  </tbody>\n",
       "</table>\n",
       "</div>"
      ],
      "text/plain": [
       "                                                    count\n",
       "Fama E. F. and K. R. French                           242\n",
       "Jensen M. C. and W. J. Meckling                       109\n",
       "Carhart Mark M.                                        75\n",
       "[Provider:earticle]  Fama E. F. and J. D. MacBeth      67\n",
       "Jensen M. C.                                           60\n",
       "Black F.                                               58\n",
       "Black F. and Scholes M.                                58\n",
       "Bakshi G. N. Kapadia and D. Madan                      54\n",
       "Barber B. M. T. Odean and N. Zhu                       52\n",
       "Choe H. B. C. Kho and R. M. Stulz                      47"
      ]
     },
     "metadata": {},
     "output_type": "display_data"
    }
   ],
   "source": [
    "display(Markdown('### 기존의 방법론'))\n",
    "display(pd.DataFrame.from_dict(Counter(final_author_df['author']),orient='index',columns=['count']).sort_values('count',ascending=False).head(10))\n",
    "display(Markdown('### 개선된 방법론'))\n",
    "display(pd.DataFrame.from_dict(Counter(final_author_df['new_author']),orient='index',columns=['count']).sort_values('count',ascending=False).head(10))"
   ]
  },
  {
   "cell_type": "code",
   "execution_count": 321,
   "metadata": {},
   "outputs": [],
   "source": [
    "def return_df_author_frequency_table_under_journal(base_df):\n",
    "    final_ls = []\n",
    "    process_ls = []\n",
    "\n",
    "    for idx1 , val in enumerate(base_df['author']) : \n",
    "        process_ls = []\n",
    "        for idx2, key_ in enumerate(list(ready_to_target_dict.keys())) : \n",
    "            if val in ready_to_target_dict.get(key_) : \n",
    "                process_ls.append(key_)\n",
    "        if type(val) == str :\n",
    "            if len(process_ls) == 1 :\n",
    "                final_ls.append(process_ls[0])\n",
    "            elif len(process_ls) == 0 :\n",
    "                final_ls.append(val)\n",
    "            else : final_ls.append(val)\n",
    "        else : final_ls.append(None)\n",
    "\n",
    "    if len(final_ls) == len(base_df) : \n",
    "        base_df['new_author'] = final_ls\n",
    "    else : print('error')\n",
    "    \n",
    "    print(\"lower uniqueness means better performance, orgin uniqueness : {} , revised uniqueness : {}\"\\\n",
    "          .format(len(set(base_df['author'])),len(set(final_ls))))\n",
    "    return base_df"
   ]
  },
  {
   "cell_type": "code",
   "execution_count": 322,
   "metadata": {},
   "outputs": [
    {
     "name": "stdout",
     "output_type": "stream",
     "text": [
      "lower uniqueness means better performance, orgin uniqueness : 6313 , revised uniqueness : 5998\n",
      "lower uniqueness means better performance, orgin uniqueness : 3603 , revised uniqueness : 3393\n",
      "lower uniqueness means better performance, orgin uniqueness : 2615 , revised uniqueness : 2392\n",
      "lower uniqueness means better performance, orgin uniqueness : 1536 , revised uniqueness : 1467\n"
     ]
    }
   ],
   "source": [
    "fm_final_df = return_df_author_frequency_table_under_journal(fm_base_df)\n",
    "f_final_df = return_df_author_frequency_table_under_journal(f_base_df)\n",
    "sc_final_df = return_df_author_frequency_table_under_journal(sc_base_df)\n",
    "dr_final_df = return_df_author_frequency_table_under_journal(dr_base_df)"
   ]
  },
  {
   "cell_type": "code",
   "execution_count": 323,
   "metadata": {},
   "outputs": [],
   "source": [
    "def return_new_counter_df(base_df):\n",
    "    return pd.DataFrame.from_dict(Counter(base_df['new_author'].tolist()),orient='index',columns=['count']).sort_values('count',ascending=False)"
   ]
  },
  {
   "cell_type": "code",
   "execution_count": 324,
   "metadata": {
    "scrolled": true
   },
   "outputs": [
    {
     "data": {
      "text/html": [
       "<div>\n",
       "<style scoped>\n",
       "    .dataframe tbody tr th:only-of-type {\n",
       "        vertical-align: middle;\n",
       "    }\n",
       "\n",
       "    .dataframe tbody tr th {\n",
       "        vertical-align: top;\n",
       "    }\n",
       "\n",
       "    .dataframe thead th {\n",
       "        text-align: right;\n",
       "    }\n",
       "</style>\n",
       "<table border=\"1\" class=\"dataframe\">\n",
       "  <thead>\n",
       "    <tr style=\"text-align: right;\">\n",
       "      <th></th>\n",
       "      <th>count</th>\n",
       "    </tr>\n",
       "  </thead>\n",
       "  <tbody>\n",
       "    <tr>\n",
       "      <th>Fama E. F. and K. R. French</th>\n",
       "      <td>89</td>\n",
       "    </tr>\n",
       "    <tr>\n",
       "      <th>Jensen M. C.</th>\n",
       "      <td>41</td>\n",
       "    </tr>\n",
       "    <tr>\n",
       "      <th>Jensen M. C. and W. J. Meckling</th>\n",
       "      <td>36</td>\n",
       "    </tr>\n",
       "    <tr>\n",
       "      <th>Newey W. and West K. D.</th>\n",
       "      <td>27</td>\n",
       "    </tr>\n",
       "    <tr>\n",
       "      <th>Myers S. C. and N. S. Majluf</th>\n",
       "      <td>25</td>\n",
       "    </tr>\n",
       "    <tr>\n",
       "      <th>Myers S. C.</th>\n",
       "      <td>24</td>\n",
       "    </tr>\n",
       "    <tr>\n",
       "      <th>Fama E. F.</th>\n",
       "      <td>22</td>\n",
       "    </tr>\n",
       "    <tr>\n",
       "      <th>Opler T. Pinkowitz L. Stulz R. and Williamson R.</th>\n",
       "      <td>21</td>\n",
       "    </tr>\n",
       "    <tr>\n",
       "      <th>설원식 김수정</th>\n",
       "      <td>21</td>\n",
       "    </tr>\n",
       "    <tr>\n",
       "      <th>Black F.</th>\n",
       "      <td>20</td>\n",
       "    </tr>\n",
       "  </tbody>\n",
       "</table>\n",
       "</div>"
      ],
      "text/plain": [
       "                                                   count\n",
       "Fama E. F. and K. R. French                           89\n",
       "Jensen M. C.                                          41\n",
       "Jensen M. C. and W. J. Meckling                       36\n",
       "Newey W. and West K. D.                               27\n",
       "Myers S. C. and N. S. Majluf                          25\n",
       "Myers S. C.                                           24\n",
       "Fama E. F.                                            22\n",
       "Opler T. Pinkowitz L. Stulz R. and Williamson R.      21\n",
       "설원식 김수정                                               21\n",
       "Black F.                                              20"
      ]
     },
     "metadata": {},
     "output_type": "display_data"
    },
    {
     "data": {
      "text/html": [
       "<div>\n",
       "<style scoped>\n",
       "    .dataframe tbody tr th:only-of-type {\n",
       "        vertical-align: middle;\n",
       "    }\n",
       "\n",
       "    .dataframe tbody tr th {\n",
       "        vertical-align: top;\n",
       "    }\n",
       "\n",
       "    .dataframe thead th {\n",
       "        text-align: right;\n",
       "    }\n",
       "</style>\n",
       "<table border=\"1\" class=\"dataframe\">\n",
       "  <thead>\n",
       "    <tr style=\"text-align: right;\">\n",
       "      <th></th>\n",
       "      <th>count</th>\n",
       "    </tr>\n",
       "  </thead>\n",
       "  <tbody>\n",
       "    <tr>\n",
       "      <th>Fama E. F. and K. R. French</th>\n",
       "      <td>37</td>\n",
       "    </tr>\n",
       "    <tr>\n",
       "      <th>Fama Eugene F. and French Kenneth R.</th>\n",
       "      <td>22</td>\n",
       "    </tr>\n",
       "    <tr>\n",
       "      <th>Jensen M. C.</th>\n",
       "      <td>20</td>\n",
       "    </tr>\n",
       "    <tr>\n",
       "      <th>[Provider:earticle]  Fama E. F. and J. D. MacBeth</th>\n",
       "      <td>19</td>\n",
       "    </tr>\n",
       "    <tr>\n",
       "      <th>Merton R. C.</th>\n",
       "      <td>17</td>\n",
       "    </tr>\n",
       "    <tr>\n",
       "      <th>Keynes J. M.</th>\n",
       "      <td>17</td>\n",
       "    </tr>\n",
       "    <tr>\n",
       "      <th>Myers S. C. and N. S. Majluf</th>\n",
       "      <td>15</td>\n",
       "    </tr>\n",
       "    <tr>\n",
       "      <th>Jegadeesh N. and S. Titman</th>\n",
       "      <td>15</td>\n",
       "    </tr>\n",
       "    <tr>\n",
       "      <th>Kyle A. S.</th>\n",
       "      <td>14</td>\n",
       "    </tr>\n",
       "    <tr>\n",
       "      <th>Carhart Mark M.</th>\n",
       "      <td>13</td>\n",
       "    </tr>\n",
       "  </tbody>\n",
       "</table>\n",
       "</div>"
      ],
      "text/plain": [
       "                                                    count\n",
       "Fama E. F. and K. R. French                            37\n",
       "Fama Eugene F. and French Kenneth R.                   22\n",
       "Jensen M. C.                                           20\n",
       "[Provider:earticle]  Fama E. F. and J. D. MacBeth      19\n",
       "Merton R. C.                                           17\n",
       "Keynes J. M.                                           17\n",
       "Myers S. C. and N. S. Majluf                           15\n",
       "Jegadeesh N. and S. Titman                             15\n",
       "Kyle A. S.                                             14\n",
       "Carhart Mark M.                                        13"
      ]
     },
     "metadata": {},
     "output_type": "display_data"
    },
    {
     "data": {
      "text/html": [
       "<div>\n",
       "<style scoped>\n",
       "    .dataframe tbody tr th:only-of-type {\n",
       "        vertical-align: middle;\n",
       "    }\n",
       "\n",
       "    .dataframe tbody tr th {\n",
       "        vertical-align: top;\n",
       "    }\n",
       "\n",
       "    .dataframe thead th {\n",
       "        text-align: right;\n",
       "    }\n",
       "</style>\n",
       "<table border=\"1\" class=\"dataframe\">\n",
       "  <thead>\n",
       "    <tr style=\"text-align: right;\">\n",
       "      <th></th>\n",
       "      <th>count</th>\n",
       "    </tr>\n",
       "  </thead>\n",
       "  <tbody>\n",
       "    <tr>\n",
       "      <th>Fama E. F. and K. R. French</th>\n",
       "      <td>136</td>\n",
       "    </tr>\n",
       "    <tr>\n",
       "      <th>Jensen M. C. and W. J. Meckling</th>\n",
       "      <td>86</td>\n",
       "    </tr>\n",
       "    <tr>\n",
       "      <th>Carhart Mark M.</th>\n",
       "      <td>67</td>\n",
       "    </tr>\n",
       "    <tr>\n",
       "      <th>[Provider:earticle]  Fama E. F. and J. D. MacBeth</th>\n",
       "      <td>51</td>\n",
       "    </tr>\n",
       "    <tr>\n",
       "      <th>Black F. and Scholes M.</th>\n",
       "      <td>48</td>\n",
       "    </tr>\n",
       "    <tr>\n",
       "      <th>Barber B. M. T. Odean and N. Zhu</th>\n",
       "      <td>35</td>\n",
       "    </tr>\n",
       "    <tr>\n",
       "      <th>고봉찬 김진우</th>\n",
       "      <td>33</td>\n",
       "    </tr>\n",
       "    <tr>\n",
       "      <th>Choe H. B. C. Kho and R. M. Stulz</th>\n",
       "      <td>33</td>\n",
       "    </tr>\n",
       "    <tr>\n",
       "      <th>Barber B. M. and J. D. Lyon</th>\n",
       "      <td>32</td>\n",
       "    </tr>\n",
       "    <tr>\n",
       "      <th>Fama Eugene F. and French Kenneth R.</th>\n",
       "      <td>31</td>\n",
       "    </tr>\n",
       "  </tbody>\n",
       "</table>\n",
       "</div>"
      ],
      "text/plain": [
       "                                                    count\n",
       "Fama E. F. and K. R. French                           136\n",
       "Jensen M. C. and W. J. Meckling                        86\n",
       "Carhart Mark M.                                        67\n",
       "[Provider:earticle]  Fama E. F. and J. D. MacBeth      51\n",
       "Black F. and Scholes M.                                48\n",
       "Barber B. M. T. Odean and N. Zhu                       35\n",
       "고봉찬 김진우                                                33\n",
       "Choe H. B. C. Kho and R. M. Stulz                      33\n",
       "Barber B. M. and J. D. Lyon                            32\n",
       "Fama Eugene F. and French Kenneth R.                   31"
      ]
     },
     "metadata": {},
     "output_type": "display_data"
    },
    {
     "data": {
      "text/html": [
       "<div>\n",
       "<style scoped>\n",
       "    .dataframe tbody tr th:only-of-type {\n",
       "        vertical-align: middle;\n",
       "    }\n",
       "\n",
       "    .dataframe tbody tr th {\n",
       "        vertical-align: top;\n",
       "    }\n",
       "\n",
       "    .dataframe thead th {\n",
       "        text-align: right;\n",
       "    }\n",
       "</style>\n",
       "<table border=\"1\" class=\"dataframe\">\n",
       "  <thead>\n",
       "    <tr style=\"text-align: right;\">\n",
       "      <th></th>\n",
       "      <th>count</th>\n",
       "    </tr>\n",
       "  </thead>\n",
       "  <tbody>\n",
       "    <tr>\n",
       "      <th>Fama E. F. and K. R. French</th>\n",
       "      <td>41</td>\n",
       "    </tr>\n",
       "    <tr>\n",
       "      <th>Bakshi G. N. Kapadia and D. Madan</th>\n",
       "      <td>33</td>\n",
       "    </tr>\n",
       "    <tr>\n",
       "      <th>Sutcliffe C.</th>\n",
       "      <td>25</td>\n",
       "    </tr>\n",
       "    <tr>\n",
       "      <th>Black F.</th>\n",
       "      <td>24</td>\n",
       "    </tr>\n",
       "    <tr>\n",
       "      <th>Cifuentes A. and G. Katsaros 2007 The One-Factor Gaussian Copula Applied to CDOs: Just Say NO (or if you see a correlation smile she is laughing at your</th>\n",
       "      <td>16</td>\n",
       "    </tr>\n",
       "    <tr>\n",
       "      <th>Cochrane J. H.</th>\n",
       "      <td>16</td>\n",
       "    </tr>\n",
       "    <tr>\n",
       "      <th>이우백</th>\n",
       "      <td>14</td>\n",
       "    </tr>\n",
       "    <tr>\n",
       "      <th>이재하 한덕희</th>\n",
       "      <td>14</td>\n",
       "    </tr>\n",
       "    <tr>\n",
       "      <th>477  대기업집단 내부거래의 대리인가설 검정에 관한 연구 Agency Costs of Self-Dealings in Korean Business Groups* ** Won Heum Lee Hongik University Abstract25) I examine the agency problems of self-dealings in the Korean business groups (hereafter referred to as</th>\n",
       "      <td>13</td>\n",
       "    </tr>\n",
       "    <tr>\n",
       "      <th>Newey W. and West K. D.</th>\n",
       "      <td>13</td>\n",
       "    </tr>\n",
       "  </tbody>\n",
       "</table>\n",
       "</div>"
      ],
      "text/plain": [
       "                                                    count\n",
       "Fama E. F. and K. R. French                            41\n",
       "Bakshi G. N. Kapadia and D. Madan                      33\n",
       "Sutcliffe C.                                           25\n",
       "Black F.                                               24\n",
       "Cifuentes A. and G. Katsaros 2007 The One-Facto...     16\n",
       "Cochrane J. H.                                         16\n",
       "이우백                                                    14\n",
       "이재하 한덕희                                                14\n",
       "477  대기업집단 내부거래의 대리인가설 검정에 관한 연구 Agency Costs o...     13\n",
       "Newey W. and West K. D.                                13"
      ]
     },
     "metadata": {},
     "output_type": "display_data"
    }
   ],
   "source": [
    "display(return_new_counter_df(fm_final_df).head(10))\n",
    "display(return_new_counter_df(f_final_df).head(10))\n",
    "display(return_new_counter_df(sc_final_df).head(10))\n",
    "display(return_new_counter_df(dr_final_df).head(10))"
   ]
  }
 ],
 "metadata": {
  "kernelspec": {
   "display_name": "Python 3",
   "language": "python",
   "name": "python3"
  },
  "language_info": {
   "codemirror_mode": {
    "name": "ipython",
    "version": 3
   },
   "file_extension": ".py",
   "mimetype": "text/x-python",
   "name": "python",
   "nbconvert_exporter": "python",
   "pygments_lexer": "ipython3",
   "version": "3.6.6"
  }
 },
 "nbformat": 4,
 "nbformat_minor": 2
}
