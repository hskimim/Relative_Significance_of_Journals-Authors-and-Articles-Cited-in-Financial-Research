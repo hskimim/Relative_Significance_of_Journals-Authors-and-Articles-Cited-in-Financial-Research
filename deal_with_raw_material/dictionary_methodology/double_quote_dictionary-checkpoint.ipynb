{
 "cells": [
  {
   "cell_type": "code",
   "execution_count": 1,
   "metadata": {},
   "outputs": [],
   "source": [
    "import sys\n",
    "sys.path.append('../personal_pkgs/')\n",
    "\n",
    "import pandas as pd\n",
    "import oop_func as func\n",
    "import personal_pkg as ref\n",
    "import parsing_func as pars\n",
    "import os\n",
    "import re\n",
    "from collections import Counter\n",
    "import warnings\n",
    "warnings.filterwarnings(\"ignore\")"
   ]
  },
  {
   "cell_type": "markdown",
   "metadata": {},
   "source": [
    "#### 저널 별 데이터를 모으자"
   ]
  },
  {
   "cell_type": "code",
   "execution_count": 2,
   "metadata": {},
   "outputs": [],
   "source": [
    "fm_txt_ls = pars.journal_txt_ls('한국재무관리학회')\n",
    "sc_txt_ls = pars.journal_txt_ls('한국증권학회지')\n",
    "dr_txt_ls = pars.journal_txt_ls('한국파생상품학회')\n",
    "f_txt_ls = pars.journal_txt_ls('한국재무학회')"
   ]
  },
  {
   "cell_type": "code",
   "execution_count": 3,
   "metadata": {},
   "outputs": [
    {
     "ename": "KeyboardInterrupt",
     "evalue": "",
     "output_type": "error",
     "traceback": [
      "\u001b[0;31m---------------------------------------------------------------------------\u001b[0m",
      "\u001b[0;31mKeyboardInterrupt\u001b[0m                         Traceback (most recent call last)",
      "\u001b[0;32m<ipython-input-3-eb43d132f3e4>\u001b[0m in \u001b[0;36m<module>\u001b[0;34m()\u001b[0m\n\u001b[1;32m      6\u001b[0m \u001b[0mfm_sent_ls\u001b[0m \u001b[0;34m,\u001b[0m \u001b[0mfm_error_ls\u001b[0m \u001b[0;34m=\u001b[0m \u001b[0mpars\u001b[0m\u001b[0;34m.\u001b[0m\u001b[0msplit_to_sent\u001b[0m\u001b[0;34m(\u001b[0m\u001b[0mfm_path\u001b[0m\u001b[0;34m)\u001b[0m\u001b[0;34m\u001b[0m\u001b[0m\n\u001b[1;32m      7\u001b[0m \u001b[0mf_sent_ls\u001b[0m \u001b[0;34m,\u001b[0m \u001b[0mf_error_ls\u001b[0m \u001b[0;34m=\u001b[0m \u001b[0mpars\u001b[0m\u001b[0;34m.\u001b[0m\u001b[0msplit_to_sent\u001b[0m\u001b[0;34m(\u001b[0m\u001b[0mf_path\u001b[0m\u001b[0;34m)\u001b[0m\u001b[0;34m\u001b[0m\u001b[0m\n\u001b[0;32m----> 8\u001b[0;31m \u001b[0msc_sent_ls\u001b[0m \u001b[0;34m,\u001b[0m \u001b[0msc_error_ls\u001b[0m \u001b[0;34m=\u001b[0m \u001b[0mpars\u001b[0m\u001b[0;34m.\u001b[0m\u001b[0msplit_to_sent\u001b[0m\u001b[0;34m(\u001b[0m\u001b[0msc_path\u001b[0m\u001b[0;34m)\u001b[0m\u001b[0;34m\u001b[0m\u001b[0m\n\u001b[0m\u001b[1;32m      9\u001b[0m \u001b[0mdr_sent_ls\u001b[0m \u001b[0;34m,\u001b[0m \u001b[0mdr_error_ls\u001b[0m \u001b[0;34m=\u001b[0m \u001b[0mpars\u001b[0m\u001b[0;34m.\u001b[0m\u001b[0msplit_to_sent\u001b[0m\u001b[0;34m(\u001b[0m\u001b[0mdr_path\u001b[0m\u001b[0;34m)\u001b[0m\u001b[0;34m\u001b[0m\u001b[0m\n",
      "\u001b[0;32m~/Documents/git-project/Relative_Significance_of_Journals-Authors-and-Articles-Cited-in-Financial-Research/deal_with_raw_material/personal_pkgs/parsing_func.py\u001b[0m in \u001b[0;36msplit_to_sent\u001b[0;34m(file_path)\u001b[0m\n\u001b[1;32m     51\u001b[0m     \u001b[0;32mfor\u001b[0m \u001b[0mpath\u001b[0m \u001b[0;32min\u001b[0m \u001b[0mfile_path\u001b[0m \u001b[0;34m:\u001b[0m\u001b[0;34m\u001b[0m\u001b[0m\n\u001b[1;32m     52\u001b[0m         \u001b[0;32mtry\u001b[0m \u001b[0;34m:\u001b[0m\u001b[0;34m\u001b[0m\u001b[0m\n\u001b[0;32m---> 53\u001b[0;31m             \u001b[0mca\u001b[0m \u001b[0;34m=\u001b[0m \u001b[0mfunc\u001b[0m\u001b[0;34m.\u001b[0m\u001b[0mSlicing_paper\u001b[0m\u001b[0;34m(\u001b[0m\u001b[0mpath\u001b[0m\u001b[0;34m)\u001b[0m\u001b[0;34m\u001b[0m\u001b[0m\n\u001b[0m\u001b[1;32m     54\u001b[0m             \u001b[0msent_refer_ls\u001b[0m\u001b[0;34m.\u001b[0m\u001b[0mappend\u001b[0m\u001b[0;34m(\u001b[0m\u001b[0mca\u001b[0m\u001b[0;34m.\u001b[0m\u001b[0msplit\u001b[0m\u001b[0;34m(\u001b[0m\u001b[0;34m)\u001b[0m\u001b[0;34m)\u001b[0m\u001b[0;34m\u001b[0m\u001b[0m\n\u001b[1;32m     55\u001b[0m         \u001b[0;32mexcept\u001b[0m \u001b[0mException\u001b[0m \u001b[0;32mas\u001b[0m \u001b[0me\u001b[0m\u001b[0;34m:\u001b[0m \u001b[0merror_ls\u001b[0m\u001b[0;34m.\u001b[0m\u001b[0mappend\u001b[0m\u001b[0;34m(\u001b[0m\u001b[0;34m(\u001b[0m\u001b[0me\u001b[0m\u001b[0;34m,\u001b[0m\u001b[0mpath\u001b[0m\u001b[0;34m)\u001b[0m\u001b[0;34m)\u001b[0m\u001b[0;34m\u001b[0m\u001b[0m\n",
      "\u001b[0;32m~/Documents/git-project/Relative_Significance_of_Journals-Authors-and-Articles-Cited-in-Financial-Research/deal_with_raw_material/personal_pkgs/oop_func.py\u001b[0m in \u001b[0;36m__init__\u001b[0;34m(self, pdf_path)\u001b[0m\n\u001b[1;32m      8\u001b[0m         \u001b[0mself\u001b[0m\u001b[0;34m.\u001b[0m\u001b[0mclean_text\u001b[0m \u001b[0;34m=\u001b[0m \u001b[0mref\u001b[0m\u001b[0;34m.\u001b[0m\u001b[0mclean_text\u001b[0m\u001b[0;34m(\u001b[0m\u001b[0mself\u001b[0m\u001b[0;34m.\u001b[0m\u001b[0mfile_\u001b[0m\u001b[0;34m)\u001b[0m\u001b[0;34m\u001b[0m\u001b[0m\n\u001b[1;32m      9\u001b[0m         \u001b[0mself\u001b[0m\u001b[0;34m.\u001b[0m\u001b[0mstart_page\u001b[0m \u001b[0;34m=\u001b[0m \u001b[0mref\u001b[0m\u001b[0;34m.\u001b[0m\u001b[0mfind_start_page\u001b[0m\u001b[0;34m(\u001b[0m\u001b[0mself\u001b[0m\u001b[0;34m.\u001b[0m\u001b[0mclean_text\u001b[0m\u001b[0;34m)\u001b[0m\u001b[0;34m\u001b[0m\u001b[0m\n\u001b[0;32m---> 10\u001b[0;31m         \u001b[0mself\u001b[0m\u001b[0;34m.\u001b[0m\u001b[0mend_page\u001b[0m \u001b[0;34m=\u001b[0m \u001b[0mref\u001b[0m\u001b[0;34m.\u001b[0m\u001b[0mfind_end_page\u001b[0m\u001b[0;34m(\u001b[0m\u001b[0mself\u001b[0m\u001b[0;34m.\u001b[0m\u001b[0mstart_page\u001b[0m \u001b[0;34m,\u001b[0m \u001b[0mself\u001b[0m\u001b[0;34m.\u001b[0m\u001b[0mclean_text\u001b[0m\u001b[0;34m)\u001b[0m\u001b[0;34m\u001b[0m\u001b[0m\n\u001b[0m\u001b[1;32m     11\u001b[0m         \u001b[0mself\u001b[0m\u001b[0;34m.\u001b[0m\u001b[0mslice\u001b[0m \u001b[0;34m=\u001b[0m \u001b[0mref\u001b[0m\u001b[0;34m.\u001b[0m\u001b[0mslicing_the_references\u001b[0m\u001b[0;34m(\u001b[0m\u001b[0mself\u001b[0m\u001b[0;34m.\u001b[0m\u001b[0mstart_page\u001b[0m \u001b[0;34m,\u001b[0m \u001b[0mself\u001b[0m\u001b[0;34m.\u001b[0m\u001b[0mend_page\u001b[0m \u001b[0;34m,\u001b[0m \u001b[0mself\u001b[0m\u001b[0;34m.\u001b[0m\u001b[0mclean_text\u001b[0m\u001b[0;34m)\u001b[0m\u001b[0;34m\u001b[0m\u001b[0m\n\u001b[1;32m     12\u001b[0m         \u001b[0mself\u001b[0m\u001b[0;34m.\u001b[0m\u001b[0mfine_slice\u001b[0m \u001b[0;34m=\u001b[0m \u001b[0mref\u001b[0m\u001b[0;34m.\u001b[0m\u001b[0mtotal_process_to_slicing_the_references\u001b[0m\u001b[0;34m(\u001b[0m\u001b[0mself\u001b[0m\u001b[0;34m.\u001b[0m\u001b[0mslice\u001b[0m\u001b[0;34m)\u001b[0m\u001b[0;34m\u001b[0m\u001b[0m\n",
      "\u001b[0;32m~/Documents/git-project/Relative_Significance_of_Journals-Authors-and-Articles-Cited-in-Financial-Research/deal_with_raw_material/personal_pkgs/oop_function.py\u001b[0m in \u001b[0;36mfind_end_page\u001b[0;34m(start_page, file_)\u001b[0m\n\u001b[1;32m     88\u001b[0m     \u001b[0;32mfor\u001b[0m \u001b[0midx\u001b[0m\u001b[0;34m,\u001b[0m\u001b[0mpage\u001b[0m \u001b[0;32min\u001b[0m \u001b[0menumerate\u001b[0m\u001b[0;34m(\u001b[0m\u001b[0mpage_ls\u001b[0m\u001b[0;34m)\u001b[0m \u001b[0;34m:\u001b[0m\u001b[0;34m\u001b[0m\u001b[0m\n\u001b[1;32m     89\u001b[0m         \u001b[0;32mfor\u001b[0m \u001b[0mi\u001b[0m \u001b[0;32min\u001b[0m \u001b[0mls\u001b[0m \u001b[0;34m:\u001b[0m\u001b[0;34m\u001b[0m\u001b[0m\n\u001b[0;32m---> 90\u001b[0;31m             \u001b[0;32mif\u001b[0m \u001b[0mi\u001b[0m \u001b[0;32min\u001b[0m \u001b[0mpage\u001b[0m\u001b[0;34m.\u001b[0m\u001b[0mlower\u001b[0m\u001b[0;34m(\u001b[0m\u001b[0;34m)\u001b[0m \u001b[0;34m:\u001b[0m\u001b[0;34m\u001b[0m\u001b[0m\n\u001b[0m\u001b[1;32m     91\u001b[0m                 \u001b[0mexcept_page_ls\u001b[0m\u001b[0;34m.\u001b[0m\u001b[0mappend\u001b[0m\u001b[0;34m(\u001b[0m\u001b[0midx\u001b[0m\u001b[0;34m)\u001b[0m\u001b[0;34m\u001b[0m\u001b[0m\n\u001b[1;32m     92\u001b[0m \u001b[0;34m\u001b[0m\u001b[0m\n",
      "\u001b[0;31mKeyboardInterrupt\u001b[0m: "
     ]
    }
   ],
   "source": [
    "fm_path = [refer for i in fm_txt_ls for refer in i]\n",
    "f_path = [refer for i in f_txt_ls for refer in i]\n",
    "sc_path = [refer for i in sc_txt_ls for refer in i]\n",
    "dr_path = [refer for i in dr_txt_ls for refer in i]\n",
    "\n",
    "fm_sent_ls , fm_error_ls = pars.split_to_sent(fm_path)\n",
    "f_sent_ls , f_error_ls = pars.split_to_sent(f_path)\n",
    "sc_sent_ls , sc_error_ls = pars.split_to_sent(sc_path)\n",
    "dr_sent_ls , dr_error_ls = pars.split_to_sent(dr_path)"
   ]
  },
  {
   "cell_type": "markdown",
   "metadata": {},
   "source": [
    "- `*_q_ls` : double quotation 이 있는 sentence. 분석 가능한 문장이라고 간주해 dictionary 를 형성하는 데 사용된다.\n",
    "- `*_nq_ls` : quotation 이 없는 sentence. 불안정한 문장, 즉, 딕셔너리를 형성하는데에는 부적합하다고 간주한다."
   ]
  },
  {
   "cell_type": "code",
   "execution_count": null,
   "metadata": {
    "scrolled": true
   },
   "outputs": [],
   "source": [
    "fm_q_ls , fm_nq_ls = pars.show_quote_and_unquote(fm_sent_ls)\n",
    "f_q_ls , f_nq_ls = pars.show_quote_and_unquote(f_sent_ls)\n",
    "sc_q_ls , sc_nq_ls = pars.show_quote_and_unquote(sc_sent_ls)\n",
    "dr_q_ls , dr_nq_ls = pars.show_quote_and_unquote(dr_sent_ls)"
   ]
  },
  {
   "cell_type": "code",
   "execution_count": null,
   "metadata": {},
   "outputs": [],
   "source": [
    "fm_ip_ls = pars.make_imperfect_ls(fm_nq_ls)\n",
    "f_ip_ls = pars.make_imperfect_ls(f_nq_ls)\n",
    "sc_ip_ls = pars.make_imperfect_ls(sc_nq_ls)\n",
    "dr_ip_ls = pars.make_imperfect_ls(dr_nq_ls)"
   ]
  },
  {
   "cell_type": "markdown",
   "metadata": {},
   "source": [
    "#### 딕셔너리 만들기"
   ]
  },
  {
   "cell_type": "code",
   "execution_count": null,
   "metadata": {
    "scrolled": false
   },
   "outputs": [],
   "source": [
    "fm_df,unique_fm_df = pars.make_dictionary(fm_q_ls)\n",
    "f_df,unique_f_df = pars.make_dictionary(f_q_ls)\n",
    "sc_df,unique_sc_df = pars.make_dictionary(sc_q_ls)\n",
    "dr_df,unique_dr_df = pars.make_dictionary(dr_q_ls)"
   ]
  },
  {
   "cell_type": "code",
   "execution_count": null,
   "metadata": {},
   "outputs": [],
   "source": [
    "fm_df['from'] = ['한국재무관리학회' for _ in range(len(fm_df))]\n",
    "f_df['from'] = ['한국재무학회' for _ in range(len(f_df))]\n",
    "sc_df['from'] = ['한국증권학회' for _ in range(len(sc_df))]\n",
    "dr_df['from'] = ['한국파생상품학회' for _ in range(len(dr_df))]"
   ]
  },
  {
   "cell_type": "code",
   "execution_count": null,
   "metadata": {},
   "outputs": [],
   "source": [
    "dictionary_df = pd.concat([fm_df,f_df,sc_df,dr_df],ignore_index=True)\n",
    "dictionary_df.shape"
   ]
  },
  {
   "cell_type": "markdown",
   "metadata": {},
   "source": [
    "#### 점수 기반해서 quotation 이 없는 sentence 에 대해서 논문 이름을 추출한다"
   ]
  },
  {
   "cell_type": "code",
   "execution_count": null,
   "metadata": {},
   "outputs": [],
   "source": [
    "idx_ls = []\n",
    "print(dictionary_df.shape)\n",
    "\n",
    "for idx,val in enumerate(dictionary_df['paper'].tolist()) :\n",
    "    if val not in [i[1] for i in idx_ls] :\n",
    "        idx_ls.append((idx,val))\n",
    "\n",
    "quote_df = dictionary_df.iloc[[i[0] for i in idx_ls]]\n",
    "quote_df.reset_index(inplace=True)\n",
    "print(quote_df.shape )"
   ]
  },
  {
   "cell_type": "markdown",
   "metadata": {},
   "source": [
    "#### 0.9 라는 similarity score 를 기준으로 삼아서, double quoatation 이 없는 문장의 paper name 을 catch 해준다."
   ]
  },
  {
   "cell_type": "code",
   "execution_count": null,
   "metadata": {
    "scrolled": false
   },
   "outputs": [],
   "source": [
    "fm_catch_paper = pars.catch_the_paper_under_similarity_score(quote_df,fm_ip_ls,score=0.9)\n",
    "f_catch_paper = pars.catch_the_paper_under_similarity_score(quote_df,f_ip_ls,score=0.9)\n",
    "sc_catch_paper = pars.catch_the_paper_under_similarity_score(quote_df,sc_ip_ls,score=0.9)\n",
    "dr_catch_paper = pars.catch_the_paper_under_similarity_score(quote_df,dr_ip_ls,score=0.9)"
   ]
  },
  {
   "cell_type": "code",
   "execution_count": null,
   "metadata": {},
   "outputs": [],
   "source": [
    "print(len(fm_catch_paper),\n",
    "len(f_catch_paper),\n",
    "len(sc_catch_paper),\n",
    "len(dr_catch_paper))"
   ]
  },
  {
   "cell_type": "markdown",
   "metadata": {},
   "source": [
    "총합친 것도 필요하지만, 우리에게 필요한 것은 저널별 데이터이다."
   ]
  },
  {
   "cell_type": "code",
   "execution_count": null,
   "metadata": {},
   "outputs": [],
   "source": [
    "fm_detect_ls = [i[0] for i in fm_catch_paper]\n",
    "f_detect_ls = [i[0] for i in f_catch_paper]\n",
    "sc_detect_ls = [i[0] for i in sc_catch_paper]\n",
    "dr_detect_ls = [i[0] for i in dr_catch_paper]"
   ]
  },
  {
   "cell_type": "code",
   "execution_count": null,
   "metadata": {},
   "outputs": [],
   "source": [
    "fm_paper_name_ls = dictionary_df[dictionary_df['from'] == '한국재무관리학회']['paper'].tolist()\n",
    "fm_paper_name_ls = fm_paper_name_ls + fm_detect_ls\n",
    "len(fm_paper_name_ls)"
   ]
  },
  {
   "cell_type": "code",
   "execution_count": null,
   "metadata": {},
   "outputs": [],
   "source": [
    "f_paper_name_ls = dictionary_df[dictionary_df['from'] == '한국재무학회']['paper'].tolist()\n",
    "f_paper_name_ls = f_paper_name_ls + f_detect_ls\n",
    "len(f_paper_name_ls)"
   ]
  },
  {
   "cell_type": "code",
   "execution_count": null,
   "metadata": {},
   "outputs": [],
   "source": [
    "sc_paper_name_ls = dictionary_df[dictionary_df['from'] == '한국증권학회']['paper'].tolist()\n",
    "sc_paper_name_ls = sc_paper_name_ls + sc_detect_ls\n",
    "len(sc_paper_name_ls)"
   ]
  },
  {
   "cell_type": "code",
   "execution_count": null,
   "metadata": {},
   "outputs": [],
   "source": [
    "dr_paper_name_ls = dictionary_df[dictionary_df['from'] == '한국파생상품학회']['paper'].tolist()\n",
    "dr_paper_name_ls = dr_paper_name_ls + dr_detect_ls\n",
    "len(dr_paper_name_ls)"
   ]
  },
  {
   "cell_type": "code",
   "execution_count": null,
   "metadata": {},
   "outputs": [],
   "source": [
    "fm_final_df = pd.DataFrame(columns=['author','year','paper','journal'])\n",
    "\n",
    "for idx in range(len(fm_paper_name_ls)) : \n",
    "    if len(fm_final_df) % 4000 == 0 : print(len(fm_final_df))\n",
    "    append_df = quote_df[quote_df['paper'] == fm_paper_name_ls[idx]]\n",
    "    fm_final_df = pd.concat([fm_final_df,append_df])"
   ]
  },
  {
   "cell_type": "code",
   "execution_count": null,
   "metadata": {},
   "outputs": [],
   "source": [
    "fm_final_df.to_csv('fm_base_df.csv',index=False)"
   ]
  },
  {
   "cell_type": "code",
   "execution_count": null,
   "metadata": {},
   "outputs": [],
   "source": [
    "f_final_df = pd.DataFrame(columns=['author','year','paper','journal'])\n",
    "\n",
    "for idx in range(len(f_paper_name_ls)) : \n",
    "    if len(f_final_df) % 4000 == 0 : print(len(f_final_df))\n",
    "    append_df = quote_df[quote_df['paper'] == f_paper_name_ls[idx]]\n",
    "    f_final_df = pd.concat([f_final_df,append_df])"
   ]
  },
  {
   "cell_type": "code",
   "execution_count": null,
   "metadata": {},
   "outputs": [],
   "source": [
    "f_final_df.to_csv('f_base_df.csv',index=False)"
   ]
  },
  {
   "cell_type": "code",
   "execution_count": null,
   "metadata": {},
   "outputs": [],
   "source": [
    "sc_final_df = pd.DataFrame(columns=['author','year','paper','journal'])\n",
    "\n",
    "for idx in range(len(sc_paper_name_ls)) : \n",
    "    if len(sc_final_df) % 4000 == 0 : print(len(sc_final_df))\n",
    "    append_df = quote_df[quote_df['paper'] == sc_paper_name_ls[idx]]\n",
    "    sc_final_df = pd.concat([sc_final_df,append_df])"
   ]
  },
  {
   "cell_type": "code",
   "execution_count": null,
   "metadata": {},
   "outputs": [],
   "source": [
    "sc_final_df.to_csv('sc_base_df.csv',index=False)"
   ]
  },
  {
   "cell_type": "code",
   "execution_count": null,
   "metadata": {},
   "outputs": [],
   "source": [
    "dr_final_df = pd.DataFrame(columns=['author','year','paper','journal'])\n",
    "\n",
    "for idx in range(len(dr_paper_name_ls)) : \n",
    "    if len(dr_final_df) % 4000 == 0 : print(len(dr_final_df))\n",
    "    append_df = quote_df[quote_df['paper'] == dr_paper_name_ls[idx]]\n",
    "    dr_final_df = pd.concat([dr_final_df,append_df])"
   ]
  },
  {
   "cell_type": "code",
   "execution_count": null,
   "metadata": {},
   "outputs": [],
   "source": [
    "dr_final_df.to_csv('dr_base_df.csv',index=False)"
   ]
  },
  {
   "cell_type": "markdown",
   "metadata": {},
   "source": [
    "#### catch_paper_name_ls 은 저널에 관계없이 non-quoted sentence 에서 총 어떤 논문 이름을 잡았는지에 대한 데이터를 담은 리스트이다."
   ]
  },
  {
   "cell_type": "code",
   "execution_count": null,
   "metadata": {
    "scrolled": true
   },
   "outputs": [],
   "source": [
    "catch_paper_name_ls = [i[0] for i in fm_catch_paper]+\\\n",
    "[i[0] for i in f_catch_paper]+\\\n",
    "[i[0] for i in sc_catch_paper]+\\\n",
    "[i[0] for i in dr_catch_paper]\n",
    "len(catch_paper_name_ls)"
   ]
  },
  {
   "cell_type": "markdown",
   "metadata": {},
   "source": [
    "- final_paper_name_ls 는 paper name 으로 uniquely indexing 해주기 전의 double quotation sentence 를 담은 dataframe 이다.\n",
    "- non double quotation sentence 데이터에서 추출한 catch_paper_name_ls를 dictionary_df 의 인덱스와 합치면 총 논문 이름에 대한 리스트를 얻게 된다."
   ]
  },
  {
   "cell_type": "code",
   "execution_count": null,
   "metadata": {},
   "outputs": [],
   "source": [
    "base_paper_name_ls = dictionary_df['paper'].tolist()\n",
    "final_paper_name_ls = base_paper_name_ls + catch_paper_name_ls\n",
    "len(final_paper_name_ls)"
   ]
  },
  {
   "cell_type": "markdown",
   "metadata": {},
   "source": [
    "final_paper_name_ls 의 논문 이름 포맷은 전적으로 quote_df 를 따른다. 이에 따라서, Counting 을 할 때, quote_df 의 포맷을 유지하면서 `expanding` 시켜준다."
   ]
  },
  {
   "cell_type": "code",
   "execution_count": null,
   "metadata": {},
   "outputs": [],
   "source": [
    "base_df = pd.DataFrame(columns=['author','year','paper','journal'])\n",
    "\n",
    "for idx in range(len(final_paper_name_ls)) : \n",
    "    if len(base_df) % 4000 == 0 : print(len(base_df))\n",
    "    append_df = quote_df[quote_df['paper'] == final_paper_name_ls[idx]]\n",
    "    base_df = pd.concat([base_df,append_df])"
   ]
  },
  {
   "cell_type": "code",
   "execution_count": null,
   "metadata": {},
   "outputs": [],
   "source": [
    "base_df.to_csv('base_df.csv',index=False)"
   ]
  },
  {
   "cell_type": "markdown",
   "metadata": {},
   "source": [
    "- `base_df` 는 저널에 관계없이 전체 논문에 대해서 similarity score를 기반으로 최대한 merge 한 데이터들을 담은 dataframe 이다.\n",
    "- `{}_base_df` 는 {} 에 붙은 alias 에 따라 특정 논문에 대한 base_df 이다."
   ]
  }
 ],
 "metadata": {
  "kernelspec": {
   "display_name": "Python 3",
   "language": "python",
   "name": "python3"
  },
  "language_info": {
   "codemirror_mode": {
    "name": "ipython",
    "version": 3
   },
   "file_extension": ".py",
   "mimetype": "text/x-python",
   "name": "python",
   "nbconvert_exporter": "python",
   "pygments_lexer": "ipython3",
   "version": "3.6.6"
  }
 },
 "nbformat": 4,
 "nbformat_minor": 2
}
