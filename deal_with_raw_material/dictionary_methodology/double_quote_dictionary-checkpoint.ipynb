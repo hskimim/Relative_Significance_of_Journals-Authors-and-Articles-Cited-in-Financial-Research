{
 "cells": [
  {
   "cell_type": "code",
   "execution_count": 1,
   "metadata": {},
   "outputs": [],
   "source": [
    "import sys\n",
    "sys.path.append('../personal_pkgs/')\n",
    "\n",
    "import pandas as pd\n",
    "import oop_func as func\n",
    "import personal_pkg as ref\n",
    "import parsing_func as pars\n",
    "import os\n",
    "import re\n",
    "from collections import Counter\n",
    "import warnings\n",
    "warnings.filterwarnings(\"ignore\")"
   ]
  },
  {
   "cell_type": "markdown",
   "metadata": {},
   "source": [
    "#### 저널 별 데이터를 모으자"
   ]
  },
  {
   "cell_type": "code",
   "execution_count": 2,
   "metadata": {},
   "outputs": [],
   "source": [
    "fm_txt_ls = pars.journal_txt_ls('한국재무관리학회')\n",
    "sc_txt_ls = pars.journal_txt_ls('한국증권학회지')\n",
    "dr_txt_ls = pars.journal_txt_ls('한국파생상품학회')\n",
    "f_txt_ls = pars.journal_txt_ls('한국재무학회')"
   ]
  },
  {
   "cell_type": "code",
   "execution_count": 3,
   "metadata": {},
   "outputs": [
    {
     "ename": "KeyboardInterrupt",
     "evalue": "",
     "output_type": "error",
     "traceback": [
      "\u001b[0;31m---------------------------------------------------------------------------\u001b[0m",
      "\u001b[0;31mKeyboardInterrupt\u001b[0m                         Traceback (most recent call last)",
      "\u001b[0;32m<ipython-input-3-eb43d132f3e4>\u001b[0m in \u001b[0;36m<module>\u001b[0;34m()\u001b[0m\n\u001b[1;32m      6\u001b[0m \u001b[0mfm_sent_ls\u001b[0m \u001b[0;34m,\u001b[0m \u001b[0mfm_error_ls\u001b[0m \u001b[0;34m=\u001b[0m \u001b[0mpars\u001b[0m\u001b[0;34m.\u001b[0m\u001b[0msplit_to_sent\u001b[0m\u001b[0;34m(\u001b[0m\u001b[0mfm_path\u001b[0m\u001b[0;34m)\u001b[0m\u001b[0;34m\u001b[0m\u001b[0m\n\u001b[1;32m      7\u001b[0m \u001b[0mf_sent_ls\u001b[0m \u001b[0;34m,\u001b[0m \u001b[0mf_error_ls\u001b[0m \u001b[0;34m=\u001b[0m \u001b[0mpars\u001b[0m\u001b[0;34m.\u001b[0m\u001b[0msplit_to_sent\u001b[0m\u001b[0;34m(\u001b[0m\u001b[0mf_path\u001b[0m\u001b[0;34m)\u001b[0m\u001b[0;34m\u001b[0m\u001b[0m\n\u001b[0;32m----> 8\u001b[0;31m \u001b[0msc_sent_ls\u001b[0m \u001b[0;34m,\u001b[0m \u001b[0msc_error_ls\u001b[0m \u001b[0;34m=\u001b[0m \u001b[0mpars\u001b[0m\u001b[0;34m.\u001b[0m\u001b[0msplit_to_sent\u001b[0m\u001b[0;34m(\u001b[0m\u001b[0msc_path\u001b[0m\u001b[0;34m)\u001b[0m\u001b[0;34m\u001b[0m\u001b[0m\n\u001b[0m\u001b[1;32m      9\u001b[0m \u001b[0mdr_sent_ls\u001b[0m \u001b[0;34m,\u001b[0m \u001b[0mdr_error_ls\u001b[0m \u001b[0;34m=\u001b[0m \u001b[0mpars\u001b[0m\u001b[0;34m.\u001b[0m\u001b[0msplit_to_sent\u001b[0m\u001b[0;34m(\u001b[0m\u001b[0mdr_path\u001b[0m\u001b[0;34m)\u001b[0m\u001b[0;34m\u001b[0m\u001b[0m\n",
      "\u001b[0;32m~/Documents/git-project/Relative_Significance_of_Journals-Authors-and-Articles-Cited-in-Financial-Research/deal_with_raw_material/personal_pkgs/parsing_func.py\u001b[0m in \u001b[0;36msplit_to_sent\u001b[0;34m(file_path)\u001b[0m\n\u001b[1;32m     51\u001b[0m     \u001b[0;32mfor\u001b[0m \u001b[0mpath\u001b[0m \u001b[0;32min\u001b[0m \u001b[0mfile_path\u001b[0m \u001b[0;34m:\u001b[0m\u001b[0;34m\u001b[0m\u001b[0m\n\u001b[1;32m     52\u001b[0m         \u001b[0;32mtry\u001b[0m \u001b[0;34m:\u001b[0m\u001b[0;34m\u001b[0m\u001b[0m\n\u001b[0;32m---> 53\u001b[0;31m             \u001b[0mca\u001b[0m \u001b[0;34m=\u001b[0m \u001b[0mfunc\u001b[0m\u001b[0;34m.\u001b[0m\u001b[0mSlicing_paper\u001b[0m\u001b[0;34m(\u001b[0m\u001b[0mpath\u001b[0m\u001b[0;34m)\u001b[0m\u001b[0;34m\u001b[0m\u001b[0m\n\u001b[0m\u001b[1;32m     54\u001b[0m             \u001b[0msent_refer_ls\u001b[0m\u001b[0;34m.\u001b[0m\u001b[0mappend\u001b[0m\u001b[0;34m(\u001b[0m\u001b[0mca\u001b[0m\u001b[0;34m.\u001b[0m\u001b[0msplit\u001b[0m\u001b[0;34m(\u001b[0m\u001b[0;34m)\u001b[0m\u001b[0;34m)\u001b[0m\u001b[0;34m\u001b[0m\u001b[0m\n\u001b[1;32m     55\u001b[0m         \u001b[0;32mexcept\u001b[0m \u001b[0mException\u001b[0m \u001b[0;32mas\u001b[0m \u001b[0me\u001b[0m\u001b[0;34m:\u001b[0m \u001b[0merror_ls\u001b[0m\u001b[0;34m.\u001b[0m\u001b[0mappend\u001b[0m\u001b[0;34m(\u001b[0m\u001b[0;34m(\u001b[0m\u001b[0me\u001b[0m\u001b[0;34m,\u001b[0m\u001b[0mpath\u001b[0m\u001b[0;34m)\u001b[0m\u001b[0;34m)\u001b[0m\u001b[0;34m\u001b[0m\u001b[0m\n",
      "\u001b[0;32m~/Documents/git-project/Relative_Significance_of_Journals-Authors-and-Articles-Cited-in-Financial-Research/deal_with_raw_material/personal_pkgs/oop_func.py\u001b[0m in \u001b[0;36m__init__\u001b[0;34m(self, pdf_path)\u001b[0m\n\u001b[1;32m      8\u001b[0m         \u001b[0mself\u001b[0m\u001b[0;34m.\u001b[0m\u001b[0mclean_text\u001b[0m \u001b[0;34m=\u001b[0m \u001b[0mref\u001b[0m\u001b[0;34m.\u001b[0m\u001b[0mclean_text\u001b[0m\u001b[0;34m(\u001b[0m\u001b[0mself\u001b[0m\u001b[0;34m.\u001b[0m\u001b[0mfile_\u001b[0m\u001b[0;34m)\u001b[0m\u001b[0;34m\u001b[0m\u001b[0m\n\u001b[1;32m      9\u001b[0m         \u001b[0mself\u001b[0m\u001b[0;34m.\u001b[0m\u001b[0mstart_page\u001b[0m \u001b[0;34m=\u001b[0m \u001b[0mref\u001b[0m\u001b[0;34m.\u001b[0m\u001b[0mfind_start_page\u001b[0m\u001b[0;34m(\u001b[0m\u001b[0mself\u001b[0m\u001b[0;34m.\u001b[0m\u001b[0mclean_text\u001b[0m\u001b[0;34m)\u001b[0m\u001b[0;34m\u001b[0m\u001b[0m\n\u001b[0;32m---> 10\u001b[0;31m         \u001b[0mself\u001b[0m\u001b[0;34m.\u001b[0m\u001b[0mend_page\u001b[0m \u001b[0;34m=\u001b[0m \u001b[0mref\u001b[0m\u001b[0;34m.\u001b[0m\u001b[0mfind_end_page\u001b[0m\u001b[0;34m(\u001b[0m\u001b[0mself\u001b[0m\u001b[0;34m.\u001b[0m\u001b[0mstart_page\u001b[0m \u001b[0;34m,\u001b[0m \u001b[0mself\u001b[0m\u001b[0;34m.\u001b[0m\u001b[0mclean_text\u001b[0m\u001b[0;34m)\u001b[0m\u001b[0;34m\u001b[0m\u001b[0m\n\u001b[0m\u001b[1;32m     11\u001b[0m         \u001b[0mself\u001b[0m\u001b[0;34m.\u001b[0m\u001b[0mslice\u001b[0m \u001b[0;34m=\u001b[0m \u001b[0mref\u001b[0m\u001b[0;34m.\u001b[0m\u001b[0mslicing_the_references\u001b[0m\u001b[0;34m(\u001b[0m\u001b[0mself\u001b[0m\u001b[0;34m.\u001b[0m\u001b[0mstart_page\u001b[0m \u001b[0;34m,\u001b[0m \u001b[0mself\u001b[0m\u001b[0;34m.\u001b[0m\u001b[0mend_page\u001b[0m \u001b[0;34m,\u001b[0m \u001b[0mself\u001b[0m\u001b[0;34m.\u001b[0m\u001b[0mclean_text\u001b[0m\u001b[0;34m)\u001b[0m\u001b[0;34m\u001b[0m\u001b[0m\n\u001b[1;32m     12\u001b[0m         \u001b[0mself\u001b[0m\u001b[0;34m.\u001b[0m\u001b[0mfine_slice\u001b[0m \u001b[0;34m=\u001b[0m \u001b[0mref\u001b[0m\u001b[0;34m.\u001b[0m\u001b[0mtotal_process_to_slicing_the_references\u001b[0m\u001b[0;34m(\u001b[0m\u001b[0mself\u001b[0m\u001b[0;34m.\u001b[0m\u001b[0mslice\u001b[0m\u001b[0;34m)\u001b[0m\u001b[0;34m\u001b[0m\u001b[0m\n",
      "\u001b[0;32m~/Documents/git-project/Relative_Significance_of_Journals-Authors-and-Articles-Cited-in-Financial-Research/deal_with_raw_material/personal_pkgs/oop_function.py\u001b[0m in \u001b[0;36mfind_end_page\u001b[0;34m(start_page, file_)\u001b[0m\n\u001b[1;32m     88\u001b[0m     \u001b[0;32mfor\u001b[0m \u001b[0midx\u001b[0m\u001b[0;34m,\u001b[0m\u001b[0mpage\u001b[0m \u001b[0;32min\u001b[0m \u001b[0menumerate\u001b[0m\u001b[0;34m(\u001b[0m\u001b[0mpage_ls\u001b[0m\u001b[0;34m)\u001b[0m \u001b[0;34m:\u001b[0m\u001b[0;34m\u001b[0m\u001b[0m\n\u001b[1;32m     89\u001b[0m         \u001b[0;32mfor\u001b[0m \u001b[0mi\u001b[0m \u001b[0;32min\u001b[0m \u001b[0mls\u001b[0m \u001b[0;34m:\u001b[0m\u001b[0;34m\u001b[0m\u001b[0m\n\u001b[0;32m---> 90\u001b[0;31m             \u001b[0;32mif\u001b[0m \u001b[0mi\u001b[0m \u001b[0;32min\u001b[0m \u001b[0mpage\u001b[0m\u001b[0;34m.\u001b[0m\u001b[0mlower\u001b[0m\u001b[0;34m(\u001b[0m\u001b[0;34m)\u001b[0m \u001b[0;34m:\u001b[0m\u001b[0;34m\u001b[0m\u001b[0m\n\u001b[0m\u001b[1;32m     91\u001b[0m                 \u001b[0mexcept_page_ls\u001b[0m\u001b[0;34m.\u001b[0m\u001b[0mappend\u001b[0m\u001b[0;34m(\u001b[0m\u001b[0midx\u001b[0m\u001b[0;34m)\u001b[0m\u001b[0;34m\u001b[0m\u001b[0m\n\u001b[1;32m     92\u001b[0m \u001b[0;34m\u001b[0m\u001b[0m\n",
      "\u001b[0;31mKeyboardInterrupt\u001b[0m: "
     ]
    }
   ],
   "source": [
    "fm_path = [refer for i in fm_txt_ls for refer in i]\n",
    "f_path = [refer for i in f_txt_ls for refer in i]\n",
    "sc_path = [refer for i in sc_txt_ls for refer in i]\n",
    "dr_path = [refer for i in dr_txt_ls for refer in i]\n",
    "\n",
    "fm_sent_ls , fm_error_ls = pars.split_to_sent(fm_path)\n",
    "f_sent_ls , f_error_ls = pars.split_to_sent(f_path)\n",
    "sc_sent_ls , sc_error_ls = pars.split_to_sent(sc_path)\n",
    "dr_sent_ls , dr_error_ls = pars.split_to_sent(dr_path)"
   ]
  },
  {
   "cell_type": "markdown",
   "metadata": {},
   "source": [
    "- `*_q_ls` : double quotation 이 있는 sentence. 분석 가능한 문장이라고 간주해 dictionary 를 형성하는 데 사용된다.\n",
    "- `*_nq_ls` : quotation 이 없는 sentence. 불안정한 문장, 즉, 딕셔너리를 형성하는데에는 부적합하다고 간주한다."
   ]
  },
  {
   "cell_type": "code",
   "execution_count": null,
   "metadata": {
    "scrolled": true
   },
   "outputs": [],
   "source": [
    "fm_q_ls , fm_nq_ls = pars.show_quote_and_unquote(fm_sent_ls)\n",
    "f_q_ls , f_nq_ls = pars.show_quote_and_unquote(f_sent_ls)\n",
    "sc_q_ls , sc_nq_ls = pars.show_quote_and_unquote(sc_sent_ls)\n",
    "dr_q_ls , dr_nq_ls = pars.show_quote_and_unquote(dr_sent_ls)"
   ]
  },
  {
   "cell_type": "code",
   "execution_count": null,
   "metadata": {},
   "outputs": [],
   "source": [
    "fm_ip_ls = pars.make_imperfect_ls(fm_nq_ls)\n",
    "f_ip_ls = pars.make_imperfect_ls(f_nq_ls)\n",
    "sc_ip_ls = pars.make_imperfect_ls(sc_nq_ls)\n",
    "dr_ip_ls = pars.make_imperfect_ls(dr_nq_ls)"
   ]
  },
  {
   "cell_type": "markdown",
   "metadata": {},
   "source": [
    "#### 딕셔너리 만들기"
   ]
  },
  {
   "cell_type": "code",
   "execution_count": null,
   "metadata": {
    "scrolled": false
   },
   "outputs": [],
   "source": [
    "fm_df,unique_fm_df = pars.make_dictionary(fm_q_ls)\n",
    "f_df,unique_f_df = pars.make_dictionary(f_q_ls)\n",
    "sc_df,unique_sc_df = pars.make_dictionary(sc_q_ls)\n",
    "dr_df,unique_dr_df = pars.make_dictionary(dr_q_ls)"
   ]
  },
  {
   "cell_type": "code",
   "execution_count": null,
   "metadata": {},
   "outputs": [],
   "source": [
    "fm_df['from'] = ['한국재무관리학회' for _ in range(len(fm_df))]\n",
    "f_df['from'] = ['한국재무학회' for _ in range(len(f_df))]\n",
    "sc_df['from'] = ['한국증권학회' for _ in range(len(sc_df))]\n",
    "dr_df['from'] = ['한국파생상품학회' for _ in range(len(dr_df))]"
   ]
  },
  {
   "cell_type": "code",
   "execution_count": null,
   "metadata": {},
   "outputs": [],
   "source": [
    "dictionary_df = pd.concat([fm_df,f_df,sc_df,dr_df],ignore_index=True)\n",
    "dictionary_df.shape"
   ]
  },
  {
   "cell_type": "markdown",
   "metadata": {},
   "source": [
    "#### 점수 기반해서 quotation 이 없는 sentence 에 대해서 논문 이름을 추출한다"
   ]
  },
  {
   "cell_type": "code",
   "execution_count": null,
   "metadata": {},
   "outputs": [],
   "source": [
    "idx_ls = []\n",
    "print(dictionary_df.shape)\n",
    "\n",
    "for idx,val in enumerate(dictionary_df['paper'].tolist()) :\n",
    "    if val not in [i[1] for i in idx_ls] :\n",
    "        idx_ls.append((idx,val))\n",
    "\n",
    "quote_df = dictionary_df.iloc[[i[0] for i in idx_ls]]\n",
    "quote_df.reset_index(inplace=True)\n",
    "print(quote_df.shape )"
   ]
  },
  {
   "cell_type": "markdown",
   "metadata": {},
   "source": [
    "#### 0.9 라는 similarity score 를 기준으로 삼아서, double quoatation 이 없는 문장의 paper name 을 catch 해준다."
   ]
  },
  {
   "cell_type": "code",
   "execution_count": null,
   "metadata": {
    "scrolled": false
   },
   "outputs": [],
   "source": [
    "fm_catch_paper = pars.catch_the_paper_under_similarity_score(quote_df,fm_ip_ls,score=0.9)\n",
    "f_catch_paper = pars.catch_the_paper_under_similarity_score(quote_df,f_ip_ls,score=0.9)\n",
    "sc_catch_paper = pars.catch_the_paper_under_similarity_score(quote_df,sc_ip_ls,score=0.9)\n",
    "dr_catch_paper = pars.catch_the_paper_under_similarity_score(quote_df,dr_ip_ls,score=0.9)"
   ]
  },
  {
   "cell_type": "code",
   "execution_count": null,
   "metadata": {},
   "outputs": [],
   "source": [
    "print(len(fm_catch_paper),\n",
    "len(f_catch_paper),\n",
    "len(sc_catch_paper),\n",
    "len(dr_catch_paper))"
   ]
  },
  {
   "cell_type": "markdown",
   "metadata": {},
   "source": [
    "총합친 것도 필요하지만, 우리에게 필요한 것은 저널별 데이터이다."
   ]
  },
  {
   "cell_type": "code",
   "execution_count": null,
   "metadata": {},
   "outputs": [],
   "source": [
    "fm_detect_ls = [i[0] for i in fm_catch_paper]\n",
    "f_detect_ls = [i[0] for i in f_catch_paper]\n",
    "sc_detect_ls = [i[0] for i in sc_catch_paper]\n",
    "dr_detect_ls = [i[0] for i in dr_catch_paper]"
   ]
  },
  {
   "cell_type": "code",
   "execution_count": null,
   "metadata": {},
   "outputs": [],
   "source": [
    "fm_paper_name_ls = dictionary_df[dictionary_df['from'] == '한국재무관리학회']['paper'].tolist()\n",
    "fm_paper_name_ls = fm_paper_name_ls + fm_detect_ls\n",
    "len(fm_paper_name_ls)"
   ]
  },
  {
   "cell_type": "code",
   "execution_count": null,
   "metadata": {},
   "outputs": [],
   "source": [
    "f_paper_name_ls = dictionary_df[dictionary_df['from'] == '한국재무학회']['paper'].tolist()\n",
    "f_paper_name_ls = f_paper_name_ls + f_detect_ls\n",
    "len(f_paper_name_ls)"
   ]
  },
  {
   "cell_type": "code",
   "execution_count": null,
   "metadata": {},
   "outputs": [],
   "source": [
    "sc_paper_name_ls = dictionary_df[dictionary_df['from'] == '한국증권학회']['paper'].tolist()\n",
    "sc_paper_name_ls = sc_paper_name_ls + sc_detect_ls\n",
    "len(sc_paper_name_ls)"
   ]
  },
  {
   "cell_type": "code",
   "execution_count": null,
   "metadata": {},
   "outputs": [],
   "source": [
    "dr_paper_name_ls = dictionary_df[dictionary_df['from'] == '한국파생상품학회']['paper'].tolist()\n",
    "dr_paper_name_ls = dr_paper_name_ls + dr_detect_ls\n",
    "len(dr_paper_name_ls)"
   ]
  },
  {
   "cell_type": "code",
   "execution_count": null,
   "metadata": {},
   "outputs": [],
   "source": [
    "fm_final_df = pd.DataFrame(columns=['author','year','paper','journal'])\n",
    "\n",
    "for idx in range(len(fm_paper_name_ls)) : \n",
    "    if len(fm_final_df) % 4000 == 0 : print(len(fm_final_df))\n",
    "    append_df = quote_df[quote_df['paper'] == fm_paper_name_ls[idx]]\n",
    "    fm_final_df = pd.concat([fm_final_df,append_df])"
   ]
  },
  {
   "cell_type": "code",
   "execution_count": null,
   "metadata": {},
   "outputs": [],
   "source": [
    "fm_final_df.to_csv('fm_base_df.csv',index=False)"
   ]
  },
  {
   "cell_type": "code",
   "execution_count": null,
   "metadata": {},
   "outputs": [],
   "source": [
    "f_final_df = pd.DataFrame(columns=['author','year','paper','journal'])\n",
    "\n",
    "for idx in range(len(f_paper_name_ls)) : \n",
    "    if len(f_final_df) % 4000 == 0 : print(len(f_final_df))\n",
    "    append_df = quote_df[quote_df['paper'] == f_paper_name_ls[idx]]\n",
    "    f_final_df = pd.concat([f_final_df,append_df])"
   ]
  },
  {
   "cell_type": "code",
   "execution_count": null,
   "metadata": {},
   "outputs": [],
   "source": [
    "f_final_df.to_csv('f_base_df.csv',index=False)"
   ]
  },
  {
   "cell_type": "code",
   "execution_count": null,
   "metadata": {},
   "outputs": [],
   "source": [
    "sc_final_df = pd.DataFrame(columns=['author','year','paper','journal'])\n",
    "\n",
    "for idx in range(len(sc_paper_name_ls)) : \n",
    "    if len(sc_final_df) % 4000 == 0 : print(len(sc_final_df))\n",
    "    append_df = quote_df[quote_df['paper'] == sc_paper_name_ls[idx]]\n",
    "    sc_final_df = pd.concat([sc_final_df,append_df])"
   ]
  },
  {
   "cell_type": "code",
   "execution_count": null,
   "metadata": {},
   "outputs": [],
   "source": [
    "sc_final_df.to_csv('sc_base_df.csv',index=False)"
   ]
  },
  {
   "cell_type": "code",
   "execution_count": null,
   "metadata": {},
   "outputs": [],
   "source": [
    "dr_final_df = pd.DataFrame(columns=['author','year','paper','journal'])\n",
    "\n",
    "for idx in range(len(dr_paper_name_ls)) : \n",
    "    if len(dr_final_df) % 4000 == 0 : print(len(dr_final_df))\n",
    "    append_df = quote_df[quote_df['paper'] == dr_paper_name_ls[idx]]\n",
    "    dr_final_df = pd.concat([dr_final_df,append_df])"
   ]
  },
  {
   "cell_type": "code",
   "execution_count": null,
   "metadata": {},
   "outputs": [],
   "source": [
    "dr_final_df.to_csv('dr_base_df.csv',index=False)"
   ]
  },
  {
   "cell_type": "markdown",
   "metadata": {},
   "source": [
    "#### catch_paper_name_ls 은 저널에 관계없이 non-quoted sentence 에서 총 어떤 논문 이름을 잡았는지에 대한 데이터를 담은 리스트이다."
   ]
  },
  {
   "cell_type": "code",
   "execution_count": null,
   "metadata": {
    "scrolled": true
   },
   "outputs": [],
   "source": [
    "catch_paper_name_ls = [i[0] for i in fm_catch_paper]+\\\n",
    "[i[0] for i in f_catch_paper]+\\\n",
    "[i[0] for i in sc_catch_paper]+\\\n",
    "[i[0] for i in dr_catch_paper]\n",
    "len(catch_paper_name_ls)"
   ]
  },
  {
   "cell_type": "markdown",
   "metadata": {},
   "source": [
    "- final_paper_name_ls 는 paper name 으로 uniquely indexing 해주기 전의 double quotation sentence 를 담은 dataframe 이다.\n",
    "- non double quotation sentence 데이터에서 추출한 catch_paper_name_ls를 dictionary_df 의 인덱스와 합치면 총 논문 이름에 대한 리스트를 얻게 된다."
   ]
  },
  {
   "cell_type": "code",
   "execution_count": null,
   "metadata": {},
   "outputs": [],
   "source": [
    "base_paper_name_ls = dictionary_df['paper'].tolist()\n",
    "final_paper_name_ls = base_paper_name_ls + catch_paper_name_ls\n",
    "len(final_paper_name_ls)"
   ]
  },
  {
   "cell_type": "markdown",
   "metadata": {},
   "source": [
    "final_paper_name_ls 의 논문 이름 포맷은 전적으로 quote_df 를 따른다. 이에 따라서, Counting 을 할 때, quote_df 의 포맷을 유지하면서 `expanding` 시켜준다."
   ]
  },
  {
   "cell_type": "code",
   "execution_count": null,
   "metadata": {},
   "outputs": [],
   "source": [
    "base_df = pd.DataFrame(columns=['author','year','paper','journal'])\n",
    "\n",
    "for idx in range(len(final_paper_name_ls)) : \n",
    "    if len(base_df) % 4000 == 0 : print(len(base_df))\n",
    "    append_df = quote_df[quote_df['paper'] == final_paper_name_ls[idx]]\n",
    "    base_df = pd.concat([base_df,append_df])"
   ]
  },
  {
   "cell_type": "code",
   "execution_count": null,
   "metadata": {},
   "outputs": [],
   "source": [
    "base_df.to_csv('base_df.csv',index=False)"
   ]
  },
  {
   "cell_type": "markdown",
   "metadata": {},
   "source": [
    "기존의 quote_df 를 확장시킨 새로운 base_df 를 만들었다. 근데 paper_name 를 보게 되면, 딕셔너리 사이에서도 정확하게 같지 않다는 이유로 다르게 인식되는 참고 문헌들이 있다."
   ]
  },
  {
   "cell_type": "code",
   "execution_count": 4,
   "metadata": {},
   "outputs": [],
   "source": [
    "import sys\n",
    "sys.path.append('../personal_pkgs/')\n",
    "\n",
    "import pandas as pd\n",
    "import oop_func as func\n",
    "import personal_pkg as ref\n",
    "import parsing_func as pars\n",
    "import os\n",
    "import re\n",
    "from collections import Counter\n",
    "import warnings\n",
    "warnings.filterwarnings(\"ignore\")"
   ]
  },
  {
   "cell_type": "code",
   "execution_count": 5,
   "metadata": {
    "scrolled": false
   },
   "outputs": [
    {
     "data": {
      "text/html": [
       "<div>\n",
       "<style scoped>\n",
       "    .dataframe tbody tr th:only-of-type {\n",
       "        vertical-align: middle;\n",
       "    }\n",
       "\n",
       "    .dataframe tbody tr th {\n",
       "        vertical-align: top;\n",
       "    }\n",
       "\n",
       "    .dataframe thead th {\n",
       "        text-align: right;\n",
       "    }\n",
       "</style>\n",
       "<table border=\"1\" class=\"dataframe\">\n",
       "  <thead>\n",
       "    <tr style=\"text-align: right;\">\n",
       "      <th></th>\n",
       "      <th>author</th>\n",
       "      <th>from</th>\n",
       "      <th>index</th>\n",
       "      <th>journal</th>\n",
       "      <th>paper</th>\n",
       "      <th>year</th>\n",
       "    </tr>\n",
       "  </thead>\n",
       "  <tbody>\n",
       "    <tr>\n",
       "      <th>22672</th>\n",
       "      <td>Bakshi G. and D. Madan</td>\n",
       "      <td>한국파생상품학회</td>\n",
       "      <td>19259.0</td>\n",
       "      <td>” Management Science 52 12</td>\n",
       "      <td>A theory of volatility spreads</td>\n",
       "      <td>2006.0</td>\n",
       "    </tr>\n",
       "    <tr>\n",
       "      <th>22673</th>\n",
       "      <td>Bakshi G. and D. Madan</td>\n",
       "      <td>한국파생상품학회</td>\n",
       "      <td>19259.0</td>\n",
       "      <td>” Management Science 52 12</td>\n",
       "      <td>A theory of volatility spreads</td>\n",
       "      <td>2006.0</td>\n",
       "    </tr>\n",
       "    <tr>\n",
       "      <th>22674</th>\n",
       "      <td>Bakshi G. and D. Madan</td>\n",
       "      <td>한국파생상품학회</td>\n",
       "      <td>19259.0</td>\n",
       "      <td>” Management Science 52 12</td>\n",
       "      <td>A theory of volatility spreads</td>\n",
       "      <td>2006.0</td>\n",
       "    </tr>\n",
       "    <tr>\n",
       "      <th>22675</th>\n",
       "      <td>Bakshi G. and D. Madan</td>\n",
       "      <td>한국파생상품학회</td>\n",
       "      <td>19259.0</td>\n",
       "      <td>” Management Science 52 12</td>\n",
       "      <td>A theory of volatility spreads</td>\n",
       "      <td>2006.0</td>\n",
       "    </tr>\n",
       "    <tr>\n",
       "      <th>22676</th>\n",
       "      <td>Bakshi G. and D. Madan</td>\n",
       "      <td>한국파생상품학회</td>\n",
       "      <td>19259.0</td>\n",
       "      <td>” Management Science 52 12</td>\n",
       "      <td>A theory of volatility spreads</td>\n",
       "      <td>2006.0</td>\n",
       "    </tr>\n",
       "  </tbody>\n",
       "</table>\n",
       "</div>"
      ],
      "text/plain": [
       "                        author      from    index  \\\n",
       "22672  Bakshi G. and D. Madan   한국파생상품학회  19259.0   \n",
       "22673  Bakshi G. and D. Madan   한국파생상품학회  19259.0   \n",
       "22674  Bakshi G. and D. Madan   한국파생상품학회  19259.0   \n",
       "22675  Bakshi G. and D. Madan   한국파생상품학회  19259.0   \n",
       "22676  Bakshi G. and D. Madan   한국파생상품학회  19259.0   \n",
       "\n",
       "                           journal                           paper    year  \n",
       "22672  ” Management Science 52 12   A theory of volatility spreads  2006.0  \n",
       "22673  ” Management Science 52 12   A theory of volatility spreads  2006.0  \n",
       "22674  ” Management Science 52 12   A theory of volatility spreads  2006.0  \n",
       "22675  ” Management Science 52 12   A theory of volatility spreads  2006.0  \n",
       "22676  ” Management Science 52 12   A theory of volatility spreads  2006.0  "
      ]
     },
     "execution_count": 5,
     "metadata": {},
     "output_type": "execute_result"
    }
   ],
   "source": [
    "base_df = pd.read_csv('base_df.csv')\n",
    "base_df.tail()"
   ]
  },
  {
   "cell_type": "code",
   "execution_count": 6,
   "metadata": {},
   "outputs": [
    {
     "data": {
      "text/html": [
       "<div>\n",
       "<style scoped>\n",
       "    .dataframe tbody tr th:only-of-type {\n",
       "        vertical-align: middle;\n",
       "    }\n",
       "\n",
       "    .dataframe tbody tr th {\n",
       "        vertical-align: top;\n",
       "    }\n",
       "\n",
       "    .dataframe thead th {\n",
       "        text-align: right;\n",
       "    }\n",
       "</style>\n",
       "<table border=\"1\" class=\"dataframe\">\n",
       "  <thead>\n",
       "    <tr style=\"text-align: right;\">\n",
       "      <th></th>\n",
       "      <th>author</th>\n",
       "      <th>from</th>\n",
       "      <th>index</th>\n",
       "      <th>journal</th>\n",
       "      <th>paper</th>\n",
       "      <th>year</th>\n",
       "      <th>new_paper</th>\n",
       "    </tr>\n",
       "  </thead>\n",
       "  <tbody>\n",
       "    <tr>\n",
       "      <th>22672</th>\n",
       "      <td>Bakshi G. and D. Madan</td>\n",
       "      <td>한국파생상품학회</td>\n",
       "      <td>19259.0</td>\n",
       "      <td>” Management Science 52 12</td>\n",
       "      <td>A theory of volatility spreads</td>\n",
       "      <td>2006.0</td>\n",
       "      <td>a theory of volatility spreads////2006</td>\n",
       "    </tr>\n",
       "    <tr>\n",
       "      <th>22673</th>\n",
       "      <td>Bakshi G. and D. Madan</td>\n",
       "      <td>한국파생상품학회</td>\n",
       "      <td>19259.0</td>\n",
       "      <td>” Management Science 52 12</td>\n",
       "      <td>A theory of volatility spreads</td>\n",
       "      <td>2006.0</td>\n",
       "      <td>a theory of volatility spreads////2006</td>\n",
       "    </tr>\n",
       "    <tr>\n",
       "      <th>22674</th>\n",
       "      <td>Bakshi G. and D. Madan</td>\n",
       "      <td>한국파생상품학회</td>\n",
       "      <td>19259.0</td>\n",
       "      <td>” Management Science 52 12</td>\n",
       "      <td>A theory of volatility spreads</td>\n",
       "      <td>2006.0</td>\n",
       "      <td>a theory of volatility spreads////2006</td>\n",
       "    </tr>\n",
       "    <tr>\n",
       "      <th>22675</th>\n",
       "      <td>Bakshi G. and D. Madan</td>\n",
       "      <td>한국파생상품학회</td>\n",
       "      <td>19259.0</td>\n",
       "      <td>” Management Science 52 12</td>\n",
       "      <td>A theory of volatility spreads</td>\n",
       "      <td>2006.0</td>\n",
       "      <td>a theory of volatility spreads////2006</td>\n",
       "    </tr>\n",
       "    <tr>\n",
       "      <th>22676</th>\n",
       "      <td>Bakshi G. and D. Madan</td>\n",
       "      <td>한국파생상품학회</td>\n",
       "      <td>19259.0</td>\n",
       "      <td>” Management Science 52 12</td>\n",
       "      <td>A theory of volatility spreads</td>\n",
       "      <td>2006.0</td>\n",
       "      <td>a theory of volatility spreads////2006</td>\n",
       "    </tr>\n",
       "  </tbody>\n",
       "</table>\n",
       "</div>"
      ],
      "text/plain": [
       "                        author      from    index  \\\n",
       "22672  Bakshi G. and D. Madan   한국파생상품학회  19259.0   \n",
       "22673  Bakshi G. and D. Madan   한국파생상품학회  19259.0   \n",
       "22674  Bakshi G. and D. Madan   한국파생상품학회  19259.0   \n",
       "22675  Bakshi G. and D. Madan   한국파생상품학회  19259.0   \n",
       "22676  Bakshi G. and D. Madan   한국파생상품학회  19259.0   \n",
       "\n",
       "                           journal                           paper    year  \\\n",
       "22672  ” Management Science 52 12   A theory of volatility spreads  2006.0   \n",
       "22673  ” Management Science 52 12   A theory of volatility spreads  2006.0   \n",
       "22674  ” Management Science 52 12   A theory of volatility spreads  2006.0   \n",
       "22675  ” Management Science 52 12   A theory of volatility spreads  2006.0   \n",
       "22676  ” Management Science 52 12   A theory of volatility spreads  2006.0   \n",
       "\n",
       "                                    new_paper  \n",
       "22672  a theory of volatility spreads////2006  \n",
       "22673  a theory of volatility spreads////2006  \n",
       "22674  a theory of volatility spreads////2006  \n",
       "22675  a theory of volatility spreads////2006  \n",
       "22676  a theory of volatility spreads////2006  "
      ]
     },
     "execution_count": 6,
     "metadata": {},
     "output_type": "execute_result"
    }
   ],
   "source": [
    "base_df['new_paper'] = \\\n",
    "[base_df['paper'][idx] + '////' + str(base_df['year'][idx]).split(\".\")[0] for idx in range(len(base_df))]\n",
    "\n",
    "base_df['new_paper'] = base_df['new_paper'].apply(lambda x : x.lower())\n",
    "\n",
    "base_df.tail()"
   ]
  },
  {
   "cell_type": "code",
   "execution_count": 7,
   "metadata": {},
   "outputs": [
    {
     "data": {
      "text/html": [
       "<div>\n",
       "<style scoped>\n",
       "    .dataframe tbody tr th:only-of-type {\n",
       "        vertical-align: middle;\n",
       "    }\n",
       "\n",
       "    .dataframe tbody tr th {\n",
       "        vertical-align: top;\n",
       "    }\n",
       "\n",
       "    .dataframe thead th {\n",
       "        text-align: right;\n",
       "    }\n",
       "</style>\n",
       "<table border=\"1\" class=\"dataframe\">\n",
       "  <thead>\n",
       "    <tr style=\"text-align: right;\">\n",
       "      <th></th>\n",
       "      <th>count</th>\n",
       "    </tr>\n",
       "  </thead>\n",
       "  <tbody>\n",
       "    <tr>\n",
       "      <th>common risk factors in the returns on stocks and bonds////1993</th>\n",
       "      <td>152</td>\n",
       "    </tr>\n",
       "    <tr>\n",
       "      <th>on persistence in mutual fund performance////1997</th>\n",
       "      <td>97</td>\n",
       "    </tr>\n",
       "    <tr>\n",
       "      <th>theory of the firm: managerial behavior agency costs and ownership structure////1976</th>\n",
       "      <td>83</td>\n",
       "    </tr>\n",
       "    <tr>\n",
       "      <th>risk return and equilibrium: empirical tests////1973</th>\n",
       "      <td>75</td>\n",
       "    </tr>\n",
       "    <tr>\n",
       "      <th>the pricing of options and corporate liabilities////1973</th>\n",
       "      <td>72</td>\n",
       "    </tr>\n",
       "  </tbody>\n",
       "</table>\n",
       "</div>"
      ],
      "text/plain": [
       "                                                    count\n",
       "common risk factors in the returns on stocks an...    152\n",
       "on persistence in mutual fund performance////1997      97\n",
       "theory of the firm: managerial behavior agency ...     83\n",
       "risk return and equilibrium: empirical tests///...     75\n",
       "the pricing of options and corporate liabilitie...     72"
      ]
     },
     "metadata": {},
     "output_type": "display_data"
    },
    {
     "data": {
      "text/plain": [
       "939"
      ]
     },
     "execution_count": 7,
     "metadata": {},
     "output_type": "execute_result"
    }
   ],
   "source": [
    "paper_ls = [i.lower() for i in base_df['new_paper'].tolist()]\n",
    "counter_df = pd.DataFrame.from_dict(Counter(paper_ls),orient='index',columns=['count']).sort_values('count',ascending=False)\n",
    "catch_paper_ls = counter_df[counter_df['count'] > 3].index.tolist()\n",
    "display(counter_df.head())\n",
    "len(catch_paper_ls)"
   ]
  },
  {
   "cell_type": "code",
   "execution_count": 8,
   "metadata": {},
   "outputs": [
    {
     "data": {
      "text/plain": [
       "['common risk factors in the returns on stocks and bonds////1993',\n",
       " 'on persistence in mutual fund performance////1997',\n",
       " 'theory of the firm: managerial behavior agency costs and ownership structure////1976',\n",
       " 'risk return and equilibrium: empirical tests////1973',\n",
       " 'the pricing of options and corporate liabilities////1973',\n",
       " 'common risk factors in the returns on bonds and stocks////1993',\n",
       " 'tunneling////2000',\n",
       " 'corporate financing and investment decisions when firms have information that investors do not have////1984',\n",
       " 'the cross-section of expected stock returns////1992',\n",
       " 'a simple positive semi-definite heteroskedasticity and autocorrelation consistent covariance matrix////1987']"
      ]
     },
     "execution_count": 8,
     "metadata": {},
     "output_type": "execute_result"
    }
   ],
   "source": [
    "catch_paper_ls[:10]"
   ]
  },
  {
   "cell_type": "markdown",
   "metadata": {},
   "source": [
    "- 딕셔너리로 만들어놓은 base_df에서 데이터의 산발성이 보인다.\n",
    "- 따라서 catch_paper_ls 라는 딕셔너리의 딕셔너리를 구축한다. \n",
    "- 이는, base_df에서 논문의 이름과 년도를 기준으로 count를 sorting 했을 때, 3번 이상 나온 논문들만 따로 모든 것이다.\n",
    "- 하지만 위에서 보듯, \n",
    "    - `'common risk factors in the returns on stocks and bonds////1993'`\n",
    "    - `'common risk factors in the returns on bonds and stocks////1993'`\n",
    "    - 와 같은, uniqueness 가 보장되지 않는 것을 알 수 있다. \n",
    "    - 이에 따라서, dictionary of dictionary의 uniqueness 를 보장하기 위한 작업을 아래에서 시행한다."
   ]
  },
  {
   "cell_type": "code",
   "execution_count": 9,
   "metadata": {},
   "outputs": [
    {
     "name": "stdout",
     "output_type": "stream",
     "text": [
      "0\n",
      "1\n",
      "2\n",
      "3\n",
      "4\n"
     ]
    },
    {
     "data": {
      "text/plain": [
       "(939, 853, 86)"
      ]
     },
     "execution_count": 9,
     "metadata": {},
     "output_type": "execute_result"
    }
   ],
   "source": [
    "catch_paper_ls_copy = catch_paper_ls.copy()\n",
    "tuned_catch_paper_ls = []\n",
    "excepted_ls = []\n",
    "similar_match_ls = []\n",
    "\n",
    "for i in range(5) : \n",
    "    print(i)\n",
    "    for idx1,val1 in enumerate(catch_paper_ls_copy) : \n",
    "        for idx2,val2 in enumerate(catch_paper_ls_copy) :\n",
    "            if idx1 != idx2 : \n",
    "                v1 = set(val1.split(' '))\n",
    "                v2 = set(val2.split(' '))\n",
    "                try : \n",
    "                    if len(set(v1).intersection(v2)) / ((len(v1) + len(v2))/2) > 0.75 : \n",
    "                        similar_match_ls.append((val1,val2))\n",
    "                        if len(v1) > len(v2) :\n",
    "                            catch_paper_ls_copy.pop(catch_paper_ls_copy.index(val2))\n",
    "                            excepted_ls.append((val2))\n",
    "                        else :\n",
    "                            catch_paper_ls_copy.pop(catch_paper_ls_copy.index(val1))\n",
    "                            excepted_ls.append(((val1)))                    \n",
    "                except : pass\n",
    "\n",
    "len(catch_paper_ls) , len(catch_paper_ls_copy) , len(excepted_ls)"
   ]
  },
  {
   "cell_type": "markdown",
   "metadata": {},
   "source": [
    "- 61개가 줄었다. 이를 기반으로 딕셔너리를 생성한다.\n",
    "- ready_to_taget_dict라는 변수를 생성한다. 이는, 472개로 된 key를 가지고 있고, 이와 유사한 논문 이름들을 자기 자신을 포함해서 리스트 형태의 value를 가진다."
   ]
  },
  {
   "cell_type": "code",
   "execution_count": 10,
   "metadata": {},
   "outputs": [],
   "source": [
    "ready_to_target_dict = dict(zip(catch_paper_ls_copy,[[] for i in range(len(catch_paper_ls_copy))]))"
   ]
  },
  {
   "cell_type": "code",
   "execution_count": 11,
   "metadata": {
    "scrolled": true
   },
   "outputs": [
    {
     "name": "stdout",
     "output_type": "stream",
     "text": [
      "20000\r"
     ]
    }
   ],
   "source": [
    "append = 0\n",
    "naive_append = 0\n",
    "\n",
    "for idx1,val1 in enumerate(base_df['new_paper'].tolist()) : \n",
    "    if idx1 % 4000 == 0 : print(idx1,end='\\r')\n",
    "    for idx2,val2 in enumerate(ready_to_target_dict.keys()) :\n",
    "        \n",
    "        paper_name = val1.split('////')[0].lower()\n",
    "        paper_year = val1.split('////')[1].lower()\n",
    "        target_name = val2.split('////')[0].lower()\n",
    "        target_year = val2.split('////')[1].lower()\n",
    "        \n",
    "        if paper_year != 'nan' :\n",
    "            if paper_year == target_year :\n",
    "                paper_name_to_word = set(paper_name.split(' '))\n",
    "                target_name_to_word = set(target_name.split(' '))\n",
    "                if len(paper_name_to_word.intersection(target_name_to_word)) / len(paper_name_to_word) > 0.75 : \n",
    "                    ready_to_target_dict[val2].append(val1)\n",
    "                    append += 1\n",
    "        else : pass\n",
    "#             paper_name_to_word = set(paper_name.split(' '))\n",
    "#             target_name_to_word = set(target_name.split(' '))\n",
    "#             if len(paper_name_to_word.intersection(target_name_to_word)) / len(paper_name_to_word) > 0.9 : \n",
    "#                 ready_to_target_dict[val2].append(val1)\n",
    "#                 naive_append += 1"
   ]
  },
  {
   "cell_type": "code",
   "execution_count": 12,
   "metadata": {},
   "outputs": [
    {
     "data": {
      "text/plain": [
       "True"
      ]
     },
     "execution_count": 12,
     "metadata": {},
     "output_type": "execute_result"
    }
   ],
   "source": [
    "final_ls = []\n",
    "process_ls = []\n",
    "error_ls = []\n",
    "\n",
    "for idx1 , val in enumerate(base_df['new_paper']) : \n",
    "    process_ls = []\n",
    "    for idx2, key_ in enumerate(list(ready_to_target_dict.keys())) : \n",
    "        if val in ready_to_target_dict.get(key_) : \n",
    "            process_ls.append(key_)\n",
    "\n",
    "    if len(process_ls) == 1 :\n",
    "        final_ls.append(process_ls[0])\n",
    "    elif len(process_ls) == 0 :\n",
    "        final_ls.append(val)\n",
    "    else : final_ls.append(val)\n",
    "        \n",
    "len(final_ls) == len(base_df)"
   ]
  },
  {
   "cell_type": "code",
   "execution_count": 13,
   "metadata": {},
   "outputs": [
    {
     "data": {
      "text/plain": [
       "(12922, 13443)"
      ]
     },
     "execution_count": 13,
     "metadata": {},
     "output_type": "execute_result"
    }
   ],
   "source": [
    "len(set(final_ls)) , len(set(base_df['new_paper']))"
   ]
  },
  {
   "cell_type": "code",
   "execution_count": 14,
   "metadata": {},
   "outputs": [
    {
     "data": {
      "text/html": [
       "<div>\n",
       "<style scoped>\n",
       "    .dataframe tbody tr th:only-of-type {\n",
       "        vertical-align: middle;\n",
       "    }\n",
       "\n",
       "    .dataframe tbody tr th {\n",
       "        vertical-align: top;\n",
       "    }\n",
       "\n",
       "    .dataframe thead th {\n",
       "        text-align: right;\n",
       "    }\n",
       "</style>\n",
       "<table border=\"1\" class=\"dataframe\">\n",
       "  <thead>\n",
       "    <tr style=\"text-align: right;\">\n",
       "      <th></th>\n",
       "      <th>author</th>\n",
       "      <th>from</th>\n",
       "      <th>index</th>\n",
       "      <th>journal</th>\n",
       "      <th>paper</th>\n",
       "      <th>year</th>\n",
       "      <th>new_paper</th>\n",
       "      <th>tuned_new_paper</th>\n",
       "    </tr>\n",
       "  </thead>\n",
       "  <tbody>\n",
       "    <tr>\n",
       "      <th>22672</th>\n",
       "      <td>Bakshi G. and D. Madan</td>\n",
       "      <td>한국파생상품학회</td>\n",
       "      <td>19259.0</td>\n",
       "      <td>” Management Science 52 12</td>\n",
       "      <td>A theory of volatility spreads</td>\n",
       "      <td>2006.0</td>\n",
       "      <td>a theory of volatility spreads////2006</td>\n",
       "      <td>a theory of volatility spreads////2006</td>\n",
       "    </tr>\n",
       "    <tr>\n",
       "      <th>22673</th>\n",
       "      <td>Bakshi G. and D. Madan</td>\n",
       "      <td>한국파생상품학회</td>\n",
       "      <td>19259.0</td>\n",
       "      <td>” Management Science 52 12</td>\n",
       "      <td>A theory of volatility spreads</td>\n",
       "      <td>2006.0</td>\n",
       "      <td>a theory of volatility spreads////2006</td>\n",
       "      <td>a theory of volatility spreads////2006</td>\n",
       "    </tr>\n",
       "    <tr>\n",
       "      <th>22674</th>\n",
       "      <td>Bakshi G. and D. Madan</td>\n",
       "      <td>한국파생상품학회</td>\n",
       "      <td>19259.0</td>\n",
       "      <td>” Management Science 52 12</td>\n",
       "      <td>A theory of volatility spreads</td>\n",
       "      <td>2006.0</td>\n",
       "      <td>a theory of volatility spreads////2006</td>\n",
       "      <td>a theory of volatility spreads////2006</td>\n",
       "    </tr>\n",
       "    <tr>\n",
       "      <th>22675</th>\n",
       "      <td>Bakshi G. and D. Madan</td>\n",
       "      <td>한국파생상품학회</td>\n",
       "      <td>19259.0</td>\n",
       "      <td>” Management Science 52 12</td>\n",
       "      <td>A theory of volatility spreads</td>\n",
       "      <td>2006.0</td>\n",
       "      <td>a theory of volatility spreads////2006</td>\n",
       "      <td>a theory of volatility spreads////2006</td>\n",
       "    </tr>\n",
       "    <tr>\n",
       "      <th>22676</th>\n",
       "      <td>Bakshi G. and D. Madan</td>\n",
       "      <td>한국파생상품학회</td>\n",
       "      <td>19259.0</td>\n",
       "      <td>” Management Science 52 12</td>\n",
       "      <td>A theory of volatility spreads</td>\n",
       "      <td>2006.0</td>\n",
       "      <td>a theory of volatility spreads////2006</td>\n",
       "      <td>a theory of volatility spreads////2006</td>\n",
       "    </tr>\n",
       "  </tbody>\n",
       "</table>\n",
       "</div>"
      ],
      "text/plain": [
       "                        author      from    index  \\\n",
       "22672  Bakshi G. and D. Madan   한국파생상품학회  19259.0   \n",
       "22673  Bakshi G. and D. Madan   한국파생상품학회  19259.0   \n",
       "22674  Bakshi G. and D. Madan   한국파생상품학회  19259.0   \n",
       "22675  Bakshi G. and D. Madan   한국파생상품학회  19259.0   \n",
       "22676  Bakshi G. and D. Madan   한국파생상품학회  19259.0   \n",
       "\n",
       "                           journal                           paper    year  \\\n",
       "22672  ” Management Science 52 12   A theory of volatility spreads  2006.0   \n",
       "22673  ” Management Science 52 12   A theory of volatility spreads  2006.0   \n",
       "22674  ” Management Science 52 12   A theory of volatility spreads  2006.0   \n",
       "22675  ” Management Science 52 12   A theory of volatility spreads  2006.0   \n",
       "22676  ” Management Science 52 12   A theory of volatility spreads  2006.0   \n",
       "\n",
       "                                    new_paper  \\\n",
       "22672  a theory of volatility spreads////2006   \n",
       "22673  a theory of volatility spreads////2006   \n",
       "22674  a theory of volatility spreads////2006   \n",
       "22675  a theory of volatility spreads////2006   \n",
       "22676  a theory of volatility spreads////2006   \n",
       "\n",
       "                              tuned_new_paper  \n",
       "22672  a theory of volatility spreads////2006  \n",
       "22673  a theory of volatility spreads////2006  \n",
       "22674  a theory of volatility spreads////2006  \n",
       "22675  a theory of volatility spreads////2006  \n",
       "22676  a theory of volatility spreads////2006  "
      ]
     },
     "execution_count": 14,
     "metadata": {},
     "output_type": "execute_result"
    }
   ],
   "source": [
    "base_df['tuned_new_paper'] = final_ls\n",
    "base_df.tail()"
   ]
  },
  {
   "cell_type": "code",
   "execution_count": 15,
   "metadata": {},
   "outputs": [],
   "source": [
    "from IPython.display import Markdown"
   ]
  },
  {
   "cell_type": "code",
   "execution_count": 16,
   "metadata": {},
   "outputs": [
    {
     "data": {
      "text/markdown": [
       "### 이전의 방법론"
      ],
      "text/plain": [
       "<IPython.core.display.Markdown object>"
      ]
     },
     "metadata": {},
     "output_type": "display_data"
    },
    {
     "data": {
      "text/html": [
       "<div>\n",
       "<style scoped>\n",
       "    .dataframe tbody tr th:only-of-type {\n",
       "        vertical-align: middle;\n",
       "    }\n",
       "\n",
       "    .dataframe tbody tr th {\n",
       "        vertical-align: top;\n",
       "    }\n",
       "\n",
       "    .dataframe thead th {\n",
       "        text-align: right;\n",
       "    }\n",
       "</style>\n",
       "<table border=\"1\" class=\"dataframe\">\n",
       "  <thead>\n",
       "    <tr style=\"text-align: right;\">\n",
       "      <th></th>\n",
       "      <th>count</th>\n",
       "    </tr>\n",
       "  </thead>\n",
       "  <tbody>\n",
       "    <tr>\n",
       "      <th>common risk factors in the returns on stocks and bonds////1993</th>\n",
       "      <td>152</td>\n",
       "    </tr>\n",
       "    <tr>\n",
       "      <th>on persistence in mutual fund performance////1997</th>\n",
       "      <td>97</td>\n",
       "    </tr>\n",
       "    <tr>\n",
       "      <th>theory of the firm: managerial behavior agency costs and ownership structure////1976</th>\n",
       "      <td>83</td>\n",
       "    </tr>\n",
       "    <tr>\n",
       "      <th>risk return and equilibrium: empirical tests////1973</th>\n",
       "      <td>75</td>\n",
       "    </tr>\n",
       "    <tr>\n",
       "      <th>the pricing of options and corporate liabilities////1973</th>\n",
       "      <td>72</td>\n",
       "    </tr>\n",
       "    <tr>\n",
       "      <th>common risk factors in the returns on bonds and stocks////1993</th>\n",
       "      <td>51</td>\n",
       "    </tr>\n",
       "    <tr>\n",
       "      <th>tunneling////2000</th>\n",
       "      <td>51</td>\n",
       "    </tr>\n",
       "    <tr>\n",
       "      <th>corporate financing and investment decisions when firms have information that investors do not have////1984</th>\n",
       "      <td>49</td>\n",
       "    </tr>\n",
       "    <tr>\n",
       "      <th>the cross-section of expected stock returns////1992</th>\n",
       "      <td>45</td>\n",
       "    </tr>\n",
       "    <tr>\n",
       "      <th>a simple positive semi-definite heteroskedasticity and autocorrelation consistent covariance matrix////1987</th>\n",
       "      <td>39</td>\n",
       "    </tr>\n",
       "  </tbody>\n",
       "</table>\n",
       "</div>"
      ],
      "text/plain": [
       "                                                    count\n",
       "common risk factors in the returns on stocks an...    152\n",
       "on persistence in mutual fund performance////1997      97\n",
       "theory of the firm: managerial behavior agency ...     83\n",
       "risk return and equilibrium: empirical tests///...     75\n",
       "the pricing of options and corporate liabilitie...     72\n",
       "common risk factors in the returns on bonds and...     51\n",
       "tunneling////2000                                      51\n",
       "corporate financing and investment decisions wh...     49\n",
       "the cross-section of expected stock returns////...     45\n",
       "a simple positive semi-definite heteroskedastic...     39"
      ]
     },
     "metadata": {},
     "output_type": "display_data"
    },
    {
     "data": {
      "text/markdown": [
       "### 개선된 방법론"
      ],
      "text/plain": [
       "<IPython.core.display.Markdown object>"
      ]
     },
     "metadata": {},
     "output_type": "display_data"
    },
    {
     "data": {
      "text/html": [
       "<div>\n",
       "<style scoped>\n",
       "    .dataframe tbody tr th:only-of-type {\n",
       "        vertical-align: middle;\n",
       "    }\n",
       "\n",
       "    .dataframe tbody tr th {\n",
       "        vertical-align: top;\n",
       "    }\n",
       "\n",
       "    .dataframe thead th {\n",
       "        text-align: right;\n",
       "    }\n",
       "</style>\n",
       "<table border=\"1\" class=\"dataframe\">\n",
       "  <thead>\n",
       "    <tr style=\"text-align: right;\">\n",
       "      <th></th>\n",
       "      <th>count</th>\n",
       "    </tr>\n",
       "  </thead>\n",
       "  <tbody>\n",
       "    <tr>\n",
       "      <th>common risk factors in the returns on the stocks and bonds////1993</th>\n",
       "      <td>231</td>\n",
       "    </tr>\n",
       "    <tr>\n",
       "      <th>theory of the firm : managerial behavior agency costs and ownership structure////1976</th>\n",
       "      <td>153</td>\n",
       "    </tr>\n",
       "    <tr>\n",
       "      <th>on persistence in mutual fund performance////1997</th>\n",
       "      <td>124</td>\n",
       "    </tr>\n",
       "    <tr>\n",
       "      <th>the pricing of options and corporate liabilities////1973</th>\n",
       "      <td>76</td>\n",
       "    </tr>\n",
       "    <tr>\n",
       "      <th>risk return and equilibrium: empirical tests////1973</th>\n",
       "      <td>75</td>\n",
       "    </tr>\n",
       "    <tr>\n",
       "      <th>corporate financing and investment decisions when firms have information that investors do not have////1984</th>\n",
       "      <td>64</td>\n",
       "    </tr>\n",
       "    <tr>\n",
       "      <th>a simple positive semi-definite heteroscedasticity and autocorrelation consistent covariance matrix////1987</th>\n",
       "      <td>62</td>\n",
       "    </tr>\n",
       "    <tr>\n",
       "      <th>returns to buying winners and selling losers:  implications for stock market efficiency////1993</th>\n",
       "      <td>61</td>\n",
       "    </tr>\n",
       "    <tr>\n",
       "      <th>tunneling////2000</th>\n",
       "      <td>51</td>\n",
       "    </tr>\n",
       "    <tr>\n",
       "      <th>the cross section of expected stock returns////1992</th>\n",
       "      <td>51</td>\n",
       "    </tr>\n",
       "  </tbody>\n",
       "</table>\n",
       "</div>"
      ],
      "text/plain": [
       "                                                    count\n",
       "common risk factors in the returns on the stock...    231\n",
       "theory of the firm : managerial behavior agency...    153\n",
       "on persistence in mutual fund performance////1997     124\n",
       "the pricing of options and corporate liabilitie...     76\n",
       "risk return and equilibrium: empirical tests///...     75\n",
       "corporate financing and investment decisions wh...     64\n",
       "a simple positive semi-definite heteroscedastic...     62\n",
       "returns to buying winners and selling losers:  ...     61\n",
       "tunneling////2000                                      51\n",
       "the cross section of expected stock returns////...     51"
      ]
     },
     "metadata": {},
     "output_type": "display_data"
    }
   ],
   "source": [
    "display(Markdown('### 이전의 방법론'))\n",
    "display(pd.DataFrame.from_dict(Counter(base_df['new_paper']),orient='index',columns=['count']).sort_values('count',ascending=False).head(10))\n",
    "display(Markdown('### 개선된 방법론'))\n",
    "display(pd.DataFrame.from_dict(Counter(base_df['tuned_new_paper']),orient='index',columns=['count']).sort_values('count',ascending=False).head(10))"
   ]
  },
  {
   "cell_type": "code",
   "execution_count": 18,
   "metadata": {},
   "outputs": [],
   "source": [
    "paper_counter_df = pd.DataFrame.from_dict(Counter(base_df['tuned_new_paper']),orient='index',columns=['count']).sort_values('count',ascending=False)\n",
    "paper_counter_df.reset_index(inplace=True)"
   ]
  },
  {
   "cell_type": "code",
   "execution_count": 19,
   "metadata": {},
   "outputs": [],
   "source": [
    "paper_counter_df.to_csv('paper_counter_df.csv',index=False)"
   ]
  },
  {
   "cell_type": "code",
   "execution_count": 46,
   "metadata": {},
   "outputs": [],
   "source": [
    "import pickle"
   ]
  },
  {
   "cell_type": "code",
   "execution_count": 47,
   "metadata": {},
   "outputs": [],
   "source": [
    "pickle_out = open(\"ready_to_target_dict.pickle\",\"wb\")\n",
    "pickle.dump(ready_to_target_dict, pickle_out)\n",
    "pickle_out.close()"
   ]
  }
 ],
 "metadata": {
  "kernelspec": {
   "display_name": "Python 3",
   "language": "python",
   "name": "python3"
  },
  "language_info": {
   "codemirror_mode": {
    "name": "ipython",
    "version": 3
   },
   "file_extension": ".py",
   "mimetype": "text/x-python",
   "name": "python",
   "nbconvert_exporter": "python",
   "pygments_lexer": "ipython3",
   "version": "3.6.6"
  }
 },
 "nbformat": 4,
 "nbformat_minor": 2
}
