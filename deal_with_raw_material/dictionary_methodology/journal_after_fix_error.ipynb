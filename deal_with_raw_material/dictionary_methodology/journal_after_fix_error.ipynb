{
 "cells": [
  {
   "cell_type": "code",
   "execution_count": 1,
   "metadata": {},
   "outputs": [],
   "source": [
    "import sys\n",
    "sys.path.append('../personal_pkgs/')\n",
    "import pickle\n",
    "import pandas as pd\n",
    "import oop_func as func\n",
    "import personal_pkg as ref\n",
    "import parsing_func as pars\n",
    "import os\n",
    "import re\n",
    "from collections import Counter\n",
    "import warnings\n",
    "warnings.filterwarnings(\"ignore\")\n",
    "from IPython.display import Markdown"
   ]
  },
  {
   "cell_type": "code",
   "execution_count": 2,
   "metadata": {},
   "outputs": [],
   "source": [
    "fm_base_df = pd.read_csv('fm_base_df.csv')\n",
    "f_base_df = pd.read_csv('f_base_df.csv')\n",
    "sc_base_df = pd.read_csv('sc_base_df.csv')\n",
    "dr_base_df = pd.read_csv('dr_base_df.csv')\n",
    "base_df = pd.read_csv('base_df.csv')"
   ]
  },
  {
   "cell_type": "code",
   "execution_count": 3,
   "metadata": {},
   "outputs": [
    {
     "data": {
      "text/plain": [
       "author      61\n",
       "from         0\n",
       "index        0\n",
       "journal      0\n",
       "paper        0\n",
       "year       658\n",
       "dtype: int64"
      ]
     },
     "execution_count": 3,
     "metadata": {},
     "output_type": "execute_result"
    }
   ],
   "source": [
    "testing_df = base_df[base_df['journal'].notnull()]\n",
    "testing_df.isnull().sum()"
   ]
  },
  {
   "cell_type": "markdown",
   "metadata": {},
   "source": [
    "저널은 similarity score로 merging 하지 않는다.(어느정도 많은 frequency 를 확보하고 있기 때문이다.) 다만, journal 데이터 자체가 깔끔하지 않기 때문에, 정규식으로 preprocessing 을 해준다. 또한, 2009년을 기준으로 한국증권학회지가 AJFS 와 분리되었으므로, 이에 대한 처리를 해준다."
   ]
  },
  {
   "cell_type": "code",
   "execution_count": 4,
   "metadata": {},
   "outputs": [],
   "source": [
    "def tuning_the_journal(base_df) :\n",
    "    testing_df = base_df[base_df['journal'].notnull()]\n",
    "    journal_ls = [i for i in testing_df['journal'].tolist()]\n",
    "    journal_ls1 = [i.replace('”','') for i in journal_ls]\n",
    "    journal_ls2 = [re.sub('제\\s*[0-9]{,5}\\s*권|제\\s*[0-9]{,5}\\s*호|제\\s*[0-9]{,5}\\s*집','',i) for i in journal_ls1]\n",
    "    journal_ls3 = [','.join(re.findall('[a-zA-Z가-힣\\s]',i)).replace(\",\",'').strip().lower() for i in journal_ls2]\n",
    "    journal_ls4 = [re.sub('vol$|no$|vol no','',i).strip() for i in journal_ls3]\n",
    "    testing_df['journal'] = journal_ls4\n",
    "    testing_df['year'] = testing_df['year'].apply(lambda x : str(x).split('.')[0])\n",
    "    return testing_df.loc[:,['author','journal','year','paper','from']]"
   ]
  },
  {
   "cell_type": "code",
   "execution_count": 5,
   "metadata": {},
   "outputs": [],
   "source": [
    "fm_base_df = tuning_the_journal(fm_base_df)\n",
    "f_base_df = tuning_the_journal(f_base_df)\n",
    "sc_base_df = tuning_the_journal(sc_base_df)\n",
    "dr_base_df = tuning_the_journal(dr_base_df)\n",
    "base_df = tuning_the_journal(base_df)"
   ]
  },
  {
   "cell_type": "code",
   "execution_count": 6,
   "metadata": {},
   "outputs": [],
   "source": [
    "def adjust_the_journal_under_2009(base_df) : \n",
    "    base_df.reset_index(drop=True,inplace=True)\n",
    "    testing_df = base_df.copy()\n",
    "\n",
    "    for idx in range(len(testing_df)) :\n",
    "        if ('asiapacific journal of financial studies' in testing_df['journal'][idx]) or \\\n",
    "        ('한국증권학회지' in testing_df['journal'][idx]) or ('증권학회지' in testing_df['journal'][idx]) : \n",
    "            try : \n",
    "                if int(testing_df['year'][idx]) < 2009 : \n",
    "                    testing_df['journal'][idx] = '증권학회지'\n",
    "            except : testing_df['journal'][idx] = '증권학회지'\n",
    "\n",
    "\n",
    "    for idx in range(len(testing_df)) :\n",
    "        if ('한국증권학회지' in testing_df['journal'][idx]) or ('증권학회지' in testing_df['journal'][idx]) : \n",
    "            try : \n",
    "                if int(testing_df['year'][idx]) > 2009 : \n",
    "                    testing_df['journal'][idx] = '증권학회지'\n",
    "            except : pass # year 가 nan 인 데이터는 검색결과 2009년 이전의 논문이였다.\n",
    "    return testing_df"
   ]
  },
  {
   "cell_type": "code",
   "execution_count": 7,
   "metadata": {},
   "outputs": [],
   "source": [
    "new_base_df = adjust_the_journal_under_2009(base_df)\n",
    "new_fm_base_df = adjust_the_journal_under_2009(fm_base_df)\n",
    "new_f_base_df = adjust_the_journal_under_2009(f_base_df)\n",
    "new_sc_base_df = adjust_the_journal_under_2009(sc_base_df)\n",
    "new_dr_base_df = adjust_the_journal_under_2009(dr_base_df)"
   ]
  },
  {
   "cell_type": "code",
   "execution_count": 8,
   "metadata": {},
   "outputs": [],
   "source": [
    "def make_counter_df_under_journal(base_df) :\n",
    "    df1 = pd.DataFrame.from_dict(Counter(base_df['journal'].tolist()),orient='index',columns=['count'])\n",
    "    df2 = df1.sort_values('count',ascending=False)\n",
    "    return df2"
   ]
  },
  {
   "cell_type": "code",
   "execution_count": 9,
   "metadata": {},
   "outputs": [
    {
     "data": {
      "text/html": [
       "<div>\n",
       "<style scoped>\n",
       "    .dataframe tbody tr th:only-of-type {\n",
       "        vertical-align: middle;\n",
       "    }\n",
       "\n",
       "    .dataframe tbody tr th {\n",
       "        vertical-align: top;\n",
       "    }\n",
       "\n",
       "    .dataframe thead th {\n",
       "        text-align: right;\n",
       "    }\n",
       "</style>\n",
       "<table border=\"1\" class=\"dataframe\">\n",
       "  <thead>\n",
       "    <tr style=\"text-align: right;\">\n",
       "      <th></th>\n",
       "      <th>index</th>\n",
       "      <th>count</th>\n",
       "    </tr>\n",
       "  </thead>\n",
       "  <tbody>\n",
       "    <tr>\n",
       "      <th>0</th>\n",
       "      <td>journal of finance</td>\n",
       "      <td>3336</td>\n",
       "    </tr>\n",
       "    <tr>\n",
       "      <th>1</th>\n",
       "      <td>journal of financial economics</td>\n",
       "      <td>2805</td>\n",
       "    </tr>\n",
       "    <tr>\n",
       "      <th>2</th>\n",
       "      <td>증권학회지</td>\n",
       "      <td>1605</td>\n",
       "    </tr>\n",
       "    <tr>\n",
       "      <th>3</th>\n",
       "      <td>review of financial studies</td>\n",
       "      <td>925</td>\n",
       "    </tr>\n",
       "    <tr>\n",
       "      <th>4</th>\n",
       "      <td>재무관리연구</td>\n",
       "      <td>912</td>\n",
       "    </tr>\n",
       "    <tr>\n",
       "      <th>5</th>\n",
       "      <td>재무연구</td>\n",
       "      <td>871</td>\n",
       "    </tr>\n",
       "    <tr>\n",
       "      <th>6</th>\n",
       "      <td>journal of political economy</td>\n",
       "      <td>478</td>\n",
       "    </tr>\n",
       "    <tr>\n",
       "      <th>7</th>\n",
       "      <td>econometrica</td>\n",
       "      <td>469</td>\n",
       "    </tr>\n",
       "    <tr>\n",
       "      <th>8</th>\n",
       "      <td>선물연구</td>\n",
       "      <td>459</td>\n",
       "    </tr>\n",
       "    <tr>\n",
       "      <th>9</th>\n",
       "      <td>journal of financial and quantitative analysis</td>\n",
       "      <td>415</td>\n",
       "    </tr>\n",
       "  </tbody>\n",
       "</table>\n",
       "</div>"
      ],
      "text/plain": [
       "                                            index  count\n",
       "0                              journal of finance   3336\n",
       "1                  journal of financial economics   2805\n",
       "2                                           증권학회지   1605\n",
       "3                     review of financial studies    925\n",
       "4                                          재무관리연구    912\n",
       "5                                            재무연구    871\n",
       "6                    journal of political economy    478\n",
       "7                                    econometrica    469\n",
       "8                                            선물연구    459\n",
       "9  journal of financial and quantitative analysis    415"
      ]
     },
     "metadata": {},
     "output_type": "display_data"
    }
   ],
   "source": [
    "journal_counter_df = make_counter_df_under_journal(new_base_df)\n",
    "journal_counter_df.reset_index(inplace=True)\n",
    "display(journal_counter_df.head(10))\n",
    "journal_counter_df.to_csv('journal_counter_df.csv',index=False)"
   ]
  },
  {
   "cell_type": "code",
   "execution_count": 10,
   "metadata": {},
   "outputs": [
    {
     "data": {
      "text/markdown": [
       "### 한국재무관리학회"
      ],
      "text/plain": [
       "<IPython.core.display.Markdown object>"
      ]
     },
     "metadata": {},
     "output_type": "display_data"
    },
    {
     "data": {
      "text/html": [
       "<div>\n",
       "<style scoped>\n",
       "    .dataframe tbody tr th:only-of-type {\n",
       "        vertical-align: middle;\n",
       "    }\n",
       "\n",
       "    .dataframe tbody tr th {\n",
       "        vertical-align: top;\n",
       "    }\n",
       "\n",
       "    .dataframe thead th {\n",
       "        text-align: right;\n",
       "    }\n",
       "</style>\n",
       "<table border=\"1\" class=\"dataframe\">\n",
       "  <thead>\n",
       "    <tr style=\"text-align: right;\">\n",
       "      <th></th>\n",
       "      <th>count</th>\n",
       "    </tr>\n",
       "  </thead>\n",
       "  <tbody>\n",
       "    <tr>\n",
       "      <th>journal of finance</th>\n",
       "      <td>1317</td>\n",
       "    </tr>\n",
       "    <tr>\n",
       "      <th>journal of financial economics</th>\n",
       "      <td>1061</td>\n",
       "    </tr>\n",
       "    <tr>\n",
       "      <th>증권학회지</th>\n",
       "      <td>418</td>\n",
       "    </tr>\n",
       "    <tr>\n",
       "      <th>재무관리연구</th>\n",
       "      <td>403</td>\n",
       "    </tr>\n",
       "    <tr>\n",
       "      <th>review of financial studies</th>\n",
       "      <td>376</td>\n",
       "    </tr>\n",
       "    <tr>\n",
       "      <th>재무연구</th>\n",
       "      <td>260</td>\n",
       "    </tr>\n",
       "    <tr>\n",
       "      <th>journal of financial and quantitative analysis</th>\n",
       "      <td>218</td>\n",
       "    </tr>\n",
       "    <tr>\n",
       "      <th>econometrica</th>\n",
       "      <td>181</td>\n",
       "    </tr>\n",
       "    <tr>\n",
       "      <th>american economic review</th>\n",
       "      <td>172</td>\n",
       "    </tr>\n",
       "    <tr>\n",
       "      <th>journal of banking and finance</th>\n",
       "      <td>172</td>\n",
       "    </tr>\n",
       "  </tbody>\n",
       "</table>\n",
       "</div>"
      ],
      "text/plain": [
       "                                                count\n",
       "journal of finance                               1317\n",
       "journal of financial economics                   1061\n",
       "증권학회지                                             418\n",
       "재무관리연구                                            403\n",
       "review of financial studies                       376\n",
       "재무연구                                              260\n",
       "journal of financial and quantitative analysis    218\n",
       "econometrica                                      181\n",
       "american economic review                          172\n",
       "journal of banking and finance                    172"
      ]
     },
     "metadata": {},
     "output_type": "display_data"
    },
    {
     "data": {
      "text/markdown": [
       "### 한국재무학회"
      ],
      "text/plain": [
       "<IPython.core.display.Markdown object>"
      ]
     },
     "metadata": {},
     "output_type": "display_data"
    },
    {
     "data": {
      "text/html": [
       "<div>\n",
       "<style scoped>\n",
       "    .dataframe tbody tr th:only-of-type {\n",
       "        vertical-align: middle;\n",
       "    }\n",
       "\n",
       "    .dataframe tbody tr th {\n",
       "        vertical-align: top;\n",
       "    }\n",
       "\n",
       "    .dataframe thead th {\n",
       "        text-align: right;\n",
       "    }\n",
       "</style>\n",
       "<table border=\"1\" class=\"dataframe\">\n",
       "  <thead>\n",
       "    <tr style=\"text-align: right;\">\n",
       "      <th></th>\n",
       "      <th>count</th>\n",
       "    </tr>\n",
       "  </thead>\n",
       "  <tbody>\n",
       "    <tr>\n",
       "      <th>journal of finance</th>\n",
       "      <td>697</td>\n",
       "    </tr>\n",
       "    <tr>\n",
       "      <th>journal of financial economics</th>\n",
       "      <td>559</td>\n",
       "    </tr>\n",
       "    <tr>\n",
       "      <th>증권학회지</th>\n",
       "      <td>331</td>\n",
       "    </tr>\n",
       "    <tr>\n",
       "      <th>재무연구</th>\n",
       "      <td>256</td>\n",
       "    </tr>\n",
       "    <tr>\n",
       "      <th>재무관리연구</th>\n",
       "      <td>202</td>\n",
       "    </tr>\n",
       "    <tr>\n",
       "      <th>journal of finance vol</th>\n",
       "      <td>165</td>\n",
       "    </tr>\n",
       "    <tr>\n",
       "      <th>review of financial studies</th>\n",
       "      <td>160</td>\n",
       "    </tr>\n",
       "    <tr>\n",
       "      <th>journal of financial economics vol</th>\n",
       "      <td>145</td>\n",
       "    </tr>\n",
       "    <tr>\n",
       "      <th>econometrica</th>\n",
       "      <td>103</td>\n",
       "    </tr>\n",
       "    <tr>\n",
       "      <th>에     n o    s   a c siudy of rbo  띠r생</th>\n",
       "      <td>94</td>\n",
       "    </tr>\n",
       "  </tbody>\n",
       "</table>\n",
       "</div>"
      ],
      "text/plain": [
       "                                        count\n",
       "journal of finance                        697\n",
       "journal of financial economics            559\n",
       "증권학회지                                     331\n",
       "재무연구                                      256\n",
       "재무관리연구                                    202\n",
       "journal of finance vol                    165\n",
       "review of financial studies               160\n",
       "journal of financial economics vol        145\n",
       "econometrica                              103\n",
       "에     n o    s   a c siudy of rbo  띠r생     94"
      ]
     },
     "metadata": {},
     "output_type": "display_data"
    },
    {
     "data": {
      "text/markdown": [
       "### 한국증권학회지"
      ],
      "text/plain": [
       "<IPython.core.display.Markdown object>"
      ]
     },
     "metadata": {},
     "output_type": "display_data"
    },
    {
     "data": {
      "text/html": [
       "<div>\n",
       "<style scoped>\n",
       "    .dataframe tbody tr th:only-of-type {\n",
       "        vertical-align: middle;\n",
       "    }\n",
       "\n",
       "    .dataframe tbody tr th {\n",
       "        vertical-align: top;\n",
       "    }\n",
       "\n",
       "    .dataframe thead th {\n",
       "        text-align: right;\n",
       "    }\n",
       "</style>\n",
       "<table border=\"1\" class=\"dataframe\">\n",
       "  <thead>\n",
       "    <tr style=\"text-align: right;\">\n",
       "      <th></th>\n",
       "      <th>count</th>\n",
       "    </tr>\n",
       "  </thead>\n",
       "  <tbody>\n",
       "    <tr>\n",
       "      <th>journal of finance</th>\n",
       "      <td>1038</td>\n",
       "    </tr>\n",
       "    <tr>\n",
       "      <th>journal of financial economics</th>\n",
       "      <td>1026</td>\n",
       "    </tr>\n",
       "    <tr>\n",
       "      <th>증권학회지</th>\n",
       "      <td>750</td>\n",
       "    </tr>\n",
       "    <tr>\n",
       "      <th>재무연구</th>\n",
       "      <td>304</td>\n",
       "    </tr>\n",
       "    <tr>\n",
       "      <th>재무관리연구</th>\n",
       "      <td>236</td>\n",
       "    </tr>\n",
       "    <tr>\n",
       "      <th>review of financial studies</th>\n",
       "      <td>218</td>\n",
       "    </tr>\n",
       "    <tr>\n",
       "      <th>journal of political economy</th>\n",
       "      <td>202</td>\n",
       "    </tr>\n",
       "    <tr>\n",
       "      <th>american economic review</th>\n",
       "      <td>126</td>\n",
       "    </tr>\n",
       "    <tr>\n",
       "      <th>econometrica</th>\n",
       "      <td>112</td>\n",
       "    </tr>\n",
       "    <tr>\n",
       "      <th>journal of finance vol</th>\n",
       "      <td>106</td>\n",
       "    </tr>\n",
       "  </tbody>\n",
       "</table>\n",
       "</div>"
      ],
      "text/plain": [
       "                                count\n",
       "journal of finance               1038\n",
       "journal of financial economics   1026\n",
       "증권학회지                             750\n",
       "재무연구                              304\n",
       "재무관리연구                            236\n",
       "review of financial studies       218\n",
       "journal of political economy      202\n",
       "american economic review          126\n",
       "econometrica                      112\n",
       "journal of finance vol            106"
      ]
     },
     "metadata": {},
     "output_type": "display_data"
    },
    {
     "data": {
      "text/markdown": [
       "### 한국파생상품학회"
      ],
      "text/plain": [
       "<IPython.core.display.Markdown object>"
      ]
     },
     "metadata": {},
     "output_type": "display_data"
    },
    {
     "data": {
      "text/html": [
       "<div>\n",
       "<style scoped>\n",
       "    .dataframe tbody tr th:only-of-type {\n",
       "        vertical-align: middle;\n",
       "    }\n",
       "\n",
       "    .dataframe tbody tr th {\n",
       "        vertical-align: top;\n",
       "    }\n",
       "\n",
       "    .dataframe thead th {\n",
       "        text-align: right;\n",
       "    }\n",
       "</style>\n",
       "<table border=\"1\" class=\"dataframe\">\n",
       "  <thead>\n",
       "    <tr style=\"text-align: right;\">\n",
       "      <th></th>\n",
       "      <th>count</th>\n",
       "    </tr>\n",
       "  </thead>\n",
       "  <tbody>\n",
       "    <tr>\n",
       "      <th>journal of finance</th>\n",
       "      <td>284</td>\n",
       "    </tr>\n",
       "    <tr>\n",
       "      <th>선물연구</th>\n",
       "      <td>207</td>\n",
       "    </tr>\n",
       "    <tr>\n",
       "      <th>review of financial studies</th>\n",
       "      <td>171</td>\n",
       "    </tr>\n",
       "    <tr>\n",
       "      <th>journal of financial economics</th>\n",
       "      <td>159</td>\n",
       "    </tr>\n",
       "    <tr>\n",
       "      <th>에     n o    s   a c siudy of rbo  띠r생</th>\n",
       "      <td>139</td>\n",
       "    </tr>\n",
       "    <tr>\n",
       "      <th>증권학회지</th>\n",
       "      <td>106</td>\n",
       "    </tr>\n",
       "    <tr>\n",
       "      <th>econometrica</th>\n",
       "      <td>73</td>\n",
       "    </tr>\n",
       "    <tr>\n",
       "      <th>재무관리연구</th>\n",
       "      <td>71</td>\n",
       "    </tr>\n",
       "    <tr>\n",
       "      <th>journal of futures markets</th>\n",
       "      <td>64</td>\n",
       "    </tr>\n",
       "    <tr>\n",
       "      <th>journal of financial and quantitative analysis</th>\n",
       "      <td>58</td>\n",
       "    </tr>\n",
       "  </tbody>\n",
       "</table>\n",
       "</div>"
      ],
      "text/plain": [
       "                                                count\n",
       "journal of finance                                284\n",
       "선물연구                                              207\n",
       "review of financial studies                       171\n",
       "journal of financial economics                    159\n",
       "에     n o    s   a c siudy of rbo  띠r생            139\n",
       "증권학회지                                             106\n",
       "econometrica                                       73\n",
       "재무관리연구                                             71\n",
       "journal of futures markets                         64\n",
       "journal of financial and quantitative analysis     58"
      ]
     },
     "metadata": {},
     "output_type": "display_data"
    }
   ],
   "source": [
    "display(Markdown('### 한국재무관리학회'))\n",
    "display(make_counter_df_under_journal(new_fm_base_df).head(10))\n",
    "display(Markdown('### 한국재무학회'))\n",
    "display(make_counter_df_under_journal(new_f_base_df).head(10))\n",
    "display(Markdown('### 한국증권학회지'))\n",
    "display(make_counter_df_under_journal(new_sc_base_df).head(10))\n",
    "display(Markdown('### 한국파생상품학회'))\n",
    "display(make_counter_df_under_journal(new_dr_base_df).head(10))"
   ]
  }
 ],
 "metadata": {
  "kernelspec": {
   "display_name": "Python 3",
   "language": "python",
   "name": "python3"
  },
  "language_info": {
   "codemirror_mode": {
    "name": "ipython",
    "version": 3
   },
   "file_extension": ".py",
   "mimetype": "text/x-python",
   "name": "python",
   "nbconvert_exporter": "python",
   "pygments_lexer": "ipython3",
   "version": "3.6.6"
  }
 },
 "nbformat": 4,
 "nbformat_minor": 2
}
