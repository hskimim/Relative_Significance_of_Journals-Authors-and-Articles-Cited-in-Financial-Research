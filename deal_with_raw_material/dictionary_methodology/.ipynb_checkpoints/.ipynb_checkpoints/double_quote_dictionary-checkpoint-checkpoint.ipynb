{
 "cells": [
  {
   "cell_type": "code",
   "execution_count": 1,
   "metadata": {},
   "outputs": [],
   "source": [
    "import sys\n",
    "sys.path.append('../personal_pkgs/')\n",
    "\n",
    "import pandas as pd\n",
    "import oop_func as func\n",
    "import personal_pkg as ref\n",
    "import parsing_func as pars\n",
    "import os\n",
    "import re\n",
    "from collections import Counter\n",
    "import warnings\n",
    "warnings.filterwarnings(\"ignore\")"
   ]
  },
  {
   "cell_type": "markdown",
   "metadata": {},
   "source": [
    "#### 저널 별 데이터를 모으자"
   ]
  },
  {
   "cell_type": "code",
   "execution_count": 2,
   "metadata": {},
   "outputs": [],
   "source": [
    "fm_txt_ls = pars.journal_txt_ls('한국재무관리학회')\n",
    "sc_txt_ls = pars.journal_txt_ls('한국증권학회지')\n",
    "dr_txt_ls = pars.journal_txt_ls('한국파생상품학회')\n",
    "f_txt_ls = pars.journal_txt_ls('한국재무학회')"
   ]
  },
  {
   "cell_type": "code",
   "execution_count": 3,
   "metadata": {},
   "outputs": [],
   "source": [
    "fm_path = [refer for i in fm_txt_ls for refer in i]\n",
    "f_path = [refer for i in f_txt_ls for refer in i]\n",
    "sc_path = [refer for i in sc_txt_ls for refer in i]\n",
    "dr_path = [refer for i in dr_txt_ls for refer in i]\n",
    "\n",
    "fm_sent_ls , fm_error_ls = pars.split_to_sent(fm_path)\n",
    "f_sent_ls , f_error_ls = pars.split_to_sent(f_path)\n",
    "sc_sent_ls , sc_error_ls = pars.split_to_sent(sc_path)\n",
    "dr_sent_ls , dr_error_ls = pars.split_to_sent(dr_path)"
   ]
  },
  {
   "cell_type": "markdown",
   "metadata": {},
   "source": [
    "- `*_q_ls` : double quotation 이 있는 sentence. 분석 가능한 문장이라고 간주해 dictionary 를 형성하는 데 사용된다.\n",
    "- `*_nq_ls` : quotation 이 없는 sentence. 불안정한 문장, 즉, 딕셔너리를 형성하는데에는 부적합하다고 간주한다."
   ]
  },
  {
   "cell_type": "code",
   "execution_count": 5,
   "metadata": {
    "scrolled": true
   },
   "outputs": [
    {
     "name": "stdout",
     "output_type": "stream",
     "text": [
      "ratio of double quotation line : 0.9023556231003039\n",
      "total length of double quote lines: 9500\n",
      "total length of lines: 10528\n",
      "ratio of double quotation line : 0.735484843914945\n",
      "total length of double quote lines: 4877\n",
      "total length of lines: 6631\n",
      "ratio of double quotation line : 0.3106076425140948\n",
      "total length of double quote lines: 2975\n",
      "total length of lines: 9578\n",
      "ratio of double quotation line : 0.24222385500857213\n",
      "total length of double quote lines: 1978\n",
      "total length of lines: 8166\n"
     ]
    }
   ],
   "source": [
    "fm_q_ls , fm_nq_ls = pars.show_quote_and_unquote(fm_sent_ls)\n",
    "f_q_ls , f_nq_ls = pars.show_quote_and_unquote(f_sent_ls)\n",
    "sc_q_ls , sc_nq_ls = pars.show_quote_and_unquote(sc_sent_ls)\n",
    "dr_q_ls , dr_nq_ls = pars.show_quote_and_unquote(dr_sent_ls)"
   ]
  },
  {
   "cell_type": "code",
   "execution_count": 6,
   "metadata": {},
   "outputs": [],
   "source": [
    "fm_ip_ls = pars.make_imperfect_ls(fm_nq_ls)\n",
    "f_ip_ls = pars.make_imperfect_ls(f_nq_ls)\n",
    "sc_ip_ls = pars.make_imperfect_ls(sc_nq_ls)\n",
    "dr_ip_ls = pars.make_imperfect_ls(dr_nq_ls)"
   ]
  },
  {
   "cell_type": "markdown",
   "metadata": {},
   "source": [
    "#### 딕셔너리 만들기"
   ]
  },
  {
   "cell_type": "code",
   "execution_count": 7,
   "metadata": {
    "scrolled": false
   },
   "outputs": [
    {
     "name": "stdout",
     "output_type": "stream",
     "text": [
      "eliminate the duplicated paper name\n",
      "(9500, 4)\n",
      "(8014, 5)\n",
      "eliminate the duplicated paper name\n",
      "(4877, 4)\n",
      "(4195, 5)\n",
      "eliminate the duplicated paper name\n",
      "(2975, 4)\n",
      "(2338, 5)\n",
      "eliminate the duplicated paper name\n",
      "(1978, 4)\n",
      "(1735, 5)\n"
     ]
    }
   ],
   "source": [
    "fm_df = pars.make_dictionary(fm_q_ls)\n",
    "f_df = pars.make_dictionary(f_q_ls)\n",
    "sc_df = pars.make_dictionary(sc_q_ls)\n",
    "dr_df = pars.make_dictionary(dr_q_ls)"
   ]
  },
  {
   "cell_type": "code",
   "execution_count": 8,
   "metadata": {},
   "outputs": [
    {
     "data": {
      "text/plain": [
       "(16282, 5)"
      ]
     },
     "execution_count": 8,
     "metadata": {},
     "output_type": "execute_result"
    }
   ],
   "source": [
    "dictionary_df = pd.concat([fm_df,f_df,sc_df,dr_df],ignore_index=True)\n",
    "dictionary_df.shape"
   ]
  },
  {
   "cell_type": "markdown",
   "metadata": {},
   "source": [
    "#### 점수 기반해서 quotation 이 없는 sentence 에 대해서 논문 이름을 추출한다"
   ]
  },
  {
   "cell_type": "code",
   "execution_count": 240,
   "metadata": {},
   "outputs": [
    {
     "name": "stdout",
     "output_type": "stream",
     "text": [
      "(16282, 5)\n",
      "(14494, 6)\n"
     ]
    }
   ],
   "source": [
    "idx_ls = []\n",
    "print(dictionary_df.shape)\n",
    "\n",
    "for idx,val in enumerate(dictionary_df['paper'].tolist()) :\n",
    "    if val not in [i[1] for i in idx_ls] :\n",
    "        idx_ls.append((idx,val))\n",
    "\n",
    "quote_df = dictionary_df.iloc[[i[0] for i in idx_ls]]\n",
    "quote_df.reset_index(inplace=True)\n",
    "print(quote_df.shape )"
   ]
  },
  {
   "cell_type": "markdown",
   "metadata": {},
   "source": [
    "#### 0.9 라는 similarity score 를 기준으로 삼아서, double quoatation 이 없는 문장의 paper name 을 catch 해준다."
   ]
  },
  {
   "cell_type": "code",
   "execution_count": 242,
   "metadata": {
    "scrolled": false
   },
   "outputs": [
    {
     "name": "stdout",
     "output_type": "stream",
     "text": [
      "the length of dictionary is 14494.. the cost of function is proportional with it\n",
      "0\n",
      "4000\n",
      "8000\n",
      "12000\n",
      "the length of dictionary is 14494.. the cost of function is proportional with it\n",
      "0\n",
      "4000\n",
      "8000\n",
      "12000\n",
      "the length of dictionary is 14494.. the cost of function is proportional with it\n",
      "0\n",
      "4000\n",
      "8000\n",
      "12000\n",
      "the length of dictionary is 14494.. the cost of function is proportional with it\n",
      "0\n",
      "4000\n",
      "8000\n",
      "12000\n"
     ]
    }
   ],
   "source": [
    "fm_catch_paper = pars.catch_the_paper_under_similarity_score(quote_df,fm_ip_ls,score=0.9)\n",
    "f_catch_paper = pars.catch_the_paper_under_similarity_score(quote_df,f_ip_ls,score=0.9)\n",
    "sc_catch_paper = pars.catch_the_paper_under_similarity_score(quote_df,sc_ip_ls,score=0.9)\n",
    "dr_catch_paper = pars.catch_the_paper_under_similarity_score(quote_df,dr_ip_ls,score=0.9)"
   ]
  },
  {
   "cell_type": "code",
   "execution_count": 248,
   "metadata": {},
   "outputs": [
    {
     "name": "stdout",
     "output_type": "stream",
     "text": [
      "138 82 2710 417\n"
     ]
    }
   ],
   "source": [
    "print(len(fm_catch_paper),\n",
    "len(f_catch_paper),\n",
    "len(sc_catch_paper),\n",
    "len(dr_catch_paper))"
   ]
  },
  {
   "cell_type": "markdown",
   "metadata": {},
   "source": [
    "#### catch_paper_name_ls 은 저널에 관계없이 non-quoted sentence 에서 총 어떤 논문 이름을 잡았는지에 대한 데이터를 담은 리스트이다."
   ]
  },
  {
   "cell_type": "code",
   "execution_count": 249,
   "metadata": {
    "scrolled": true
   },
   "outputs": [
    {
     "data": {
      "text/plain": [
       "3347"
      ]
     },
     "execution_count": 249,
     "metadata": {},
     "output_type": "execute_result"
    }
   ],
   "source": [
    "catch_paper_name_ls = [i[0] for i in fm_catch_paper]+\\\n",
    "[i[0] for i in f_catch_paper]+\\\n",
    "[i[0] for i in sc_catch_paper]+\\\n",
    "[i[0] for i in dr_catch_paper]\n",
    "len(catch_paper_name_ls)"
   ]
  },
  {
   "cell_type": "markdown",
   "metadata": {},
   "source": [
    "- final_paper_name_ls 는 paper name 으로 uniquely indexing 해주기 전의 double quotation sentence 를 담은 dataframe 이다.\n",
    "- non double quotation sentence 데이터에서 추출한 catch_paper_name_ls를 dictionary_df 의 인덱스와 합치면 총 논문 이름에 대한 리스트를 얻게 된다."
   ]
  },
  {
   "cell_type": "code",
   "execution_count": 250,
   "metadata": {},
   "outputs": [
    {
     "data": {
      "text/plain": [
       "19629"
      ]
     },
     "execution_count": 250,
     "metadata": {},
     "output_type": "execute_result"
    }
   ],
   "source": [
    "base_paper_name_ls = dictionary_df['paper'].tolist()\n",
    "final_paper_name_ls = base_paper_name_ls + catch_paper_name_ls\n",
    "len(final_paper_name_ls)"
   ]
  },
  {
   "cell_type": "markdown",
   "metadata": {},
   "source": [
    "final_paper_name_ls 의 논문 이름 포맷은 전적으로 quote_df 를 따른다. 이에 따라서, Counting 을 할 때, quote_df 의 포맷을 유지하면서 `expanding` 시켜준다."
   ]
  },
  {
   "cell_type": "code",
   "execution_count": 252,
   "metadata": {},
   "outputs": [
    {
     "name": "stdout",
     "output_type": "stream",
     "text": [
      "0\n",
      "4000\n",
      "8000\n",
      "12000\n",
      "16000\n"
     ]
    }
   ],
   "source": [
    "base_df = pd.DataFrame(columns=['author','year','paper','journal'])\n",
    "\n",
    "for idx in range(len(final_paper_name_ls)) : \n",
    "    if len(base_df) % 4000 == 0 : print(len(base_df))\n",
    "    append_df = quote_df[quote_df['paper'] == final_paper_name_ls[idx]]\n",
    "    base_df = pd.concat([base_df,append_df])"
   ]
  },
  {
   "cell_type": "markdown",
   "metadata": {},
   "source": [
    "기존의 quote_df 를 확장시킨 새로운 base_df 를 만들었다. 근데 paper_name 를 보게 되면, 딕셔너리 사이에서도 정확하게 같지 않다는 이유로 다르게 인식되는 참고 문헌들이 있다."
   ]
  },
  {
   "cell_type": "code",
   "execution_count": 23,
   "metadata": {},
   "outputs": [],
   "source": [
    "import sys\n",
    "sys.path.append('../../personal_pkgs/')\n",
    "\n",
    "import pandas as pd\n",
    "import oop_func as func\n",
    "import personal_pkg as ref\n",
    "import parsing_func as pars\n",
    "import os\n",
    "import re\n",
    "from collections import Counter\n",
    "import warnings\n",
    "warnings.filterwarnings(\"ignore\")"
   ]
  },
  {
   "cell_type": "code",
   "execution_count": 24,
   "metadata": {
    "scrolled": false
   },
   "outputs": [
    {
     "data": {
      "text/html": [
       "<div>\n",
       "<style scoped>\n",
       "    .dataframe tbody tr th:only-of-type {\n",
       "        vertical-align: middle;\n",
       "    }\n",
       "\n",
       "    .dataframe tbody tr th {\n",
       "        vertical-align: top;\n",
       "    }\n",
       "\n",
       "    .dataframe thead th {\n",
       "        text-align: right;\n",
       "    }\n",
       "</style>\n",
       "<table border=\"1\" class=\"dataframe\">\n",
       "  <thead>\n",
       "    <tr style=\"text-align: right;\">\n",
       "      <th></th>\n",
       "      <th>index</th>\n",
       "      <th>author</th>\n",
       "      <th>year</th>\n",
       "      <th>paper</th>\n",
       "      <th>journal</th>\n",
       "    </tr>\n",
       "  </thead>\n",
       "  <tbody>\n",
       "    <tr>\n",
       "      <th>19624</th>\n",
       "      <td>14461</td>\n",
       "      <td>Bakshi G. and D. Madan</td>\n",
       "      <td>2006.0</td>\n",
       "      <td>A theory of volatility spreads</td>\n",
       "      <td>” Management Science 52 12</td>\n",
       "    </tr>\n",
       "    <tr>\n",
       "      <th>19625</th>\n",
       "      <td>14461</td>\n",
       "      <td>Bakshi G. and D. Madan</td>\n",
       "      <td>2006.0</td>\n",
       "      <td>A theory of volatility spreads</td>\n",
       "      <td>” Management Science 52 12</td>\n",
       "    </tr>\n",
       "    <tr>\n",
       "      <th>19626</th>\n",
       "      <td>14461</td>\n",
       "      <td>Bakshi G. and D. Madan</td>\n",
       "      <td>2006.0</td>\n",
       "      <td>A theory of volatility spreads</td>\n",
       "      <td>” Management Science 52 12</td>\n",
       "    </tr>\n",
       "    <tr>\n",
       "      <th>19627</th>\n",
       "      <td>14461</td>\n",
       "      <td>Bakshi G. and D. Madan</td>\n",
       "      <td>2006.0</td>\n",
       "      <td>A theory of volatility spreads</td>\n",
       "      <td>” Management Science 52 12</td>\n",
       "    </tr>\n",
       "    <tr>\n",
       "      <th>19628</th>\n",
       "      <td>14461</td>\n",
       "      <td>Bakshi G. and D. Madan</td>\n",
       "      <td>2006.0</td>\n",
       "      <td>A theory of volatility spreads</td>\n",
       "      <td>” Management Science 52 12</td>\n",
       "    </tr>\n",
       "  </tbody>\n",
       "</table>\n",
       "</div>"
      ],
      "text/plain": [
       "       index                   author    year                           paper  \\\n",
       "19624  14461  Bakshi G. and D. Madan   2006.0  A theory of volatility spreads   \n",
       "19625  14461  Bakshi G. and D. Madan   2006.0  A theory of volatility spreads   \n",
       "19626  14461  Bakshi G. and D. Madan   2006.0  A theory of volatility spreads   \n",
       "19627  14461  Bakshi G. and D. Madan   2006.0  A theory of volatility spreads   \n",
       "19628  14461  Bakshi G. and D. Madan   2006.0  A theory of volatility spreads   \n",
       "\n",
       "                           journal  \n",
       "19624  ” Management Science 52 12   \n",
       "19625  ” Management Science 52 12   \n",
       "19626  ” Management Science 52 12   \n",
       "19627  ” Management Science 52 12   \n",
       "19628  ” Management Science 52 12   "
      ]
     },
     "execution_count": 24,
     "metadata": {},
     "output_type": "execute_result"
    }
   ],
   "source": [
    "base_df = pd.read_csv('../base_df.csv')\n",
    "base_df.tail()"
   ]
  },
  {
   "cell_type": "code",
   "execution_count": 25,
   "metadata": {},
   "outputs": [],
   "source": [
    "base_df['new_paper'] = \\\n",
    "[base_df['paper'][idx] + '////' + str(base_df['year'][idx]).split(\".\")[0] if base_df['year'][idx] else base_df['paper'][idx] + '_' + 'None' for idx in range(len(base_df))]"
   ]
  },
  {
   "cell_type": "code",
   "execution_count": 26,
   "metadata": {},
   "outputs": [
    {
     "data": {
      "text/html": [
       "<div>\n",
       "<style scoped>\n",
       "    .dataframe tbody tr th:only-of-type {\n",
       "        vertical-align: middle;\n",
       "    }\n",
       "\n",
       "    .dataframe tbody tr th {\n",
       "        vertical-align: top;\n",
       "    }\n",
       "\n",
       "    .dataframe thead th {\n",
       "        text-align: right;\n",
       "    }\n",
       "</style>\n",
       "<table border=\"1\" class=\"dataframe\">\n",
       "  <thead>\n",
       "    <tr style=\"text-align: right;\">\n",
       "      <th></th>\n",
       "      <th>index</th>\n",
       "      <th>author</th>\n",
       "      <th>year</th>\n",
       "      <th>paper</th>\n",
       "      <th>journal</th>\n",
       "      <th>new_paper</th>\n",
       "    </tr>\n",
       "  </thead>\n",
       "  <tbody>\n",
       "    <tr>\n",
       "      <th>19624</th>\n",
       "      <td>14461</td>\n",
       "      <td>Bakshi G. and D. Madan</td>\n",
       "      <td>2006.0</td>\n",
       "      <td>A theory of volatility spreads</td>\n",
       "      <td>” Management Science 52 12</td>\n",
       "      <td>A theory of volatility spreads////2006</td>\n",
       "    </tr>\n",
       "    <tr>\n",
       "      <th>19625</th>\n",
       "      <td>14461</td>\n",
       "      <td>Bakshi G. and D. Madan</td>\n",
       "      <td>2006.0</td>\n",
       "      <td>A theory of volatility spreads</td>\n",
       "      <td>” Management Science 52 12</td>\n",
       "      <td>A theory of volatility spreads////2006</td>\n",
       "    </tr>\n",
       "    <tr>\n",
       "      <th>19626</th>\n",
       "      <td>14461</td>\n",
       "      <td>Bakshi G. and D. Madan</td>\n",
       "      <td>2006.0</td>\n",
       "      <td>A theory of volatility spreads</td>\n",
       "      <td>” Management Science 52 12</td>\n",
       "      <td>A theory of volatility spreads////2006</td>\n",
       "    </tr>\n",
       "    <tr>\n",
       "      <th>19627</th>\n",
       "      <td>14461</td>\n",
       "      <td>Bakshi G. and D. Madan</td>\n",
       "      <td>2006.0</td>\n",
       "      <td>A theory of volatility spreads</td>\n",
       "      <td>” Management Science 52 12</td>\n",
       "      <td>A theory of volatility spreads////2006</td>\n",
       "    </tr>\n",
       "    <tr>\n",
       "      <th>19628</th>\n",
       "      <td>14461</td>\n",
       "      <td>Bakshi G. and D. Madan</td>\n",
       "      <td>2006.0</td>\n",
       "      <td>A theory of volatility spreads</td>\n",
       "      <td>” Management Science 52 12</td>\n",
       "      <td>A theory of volatility spreads////2006</td>\n",
       "    </tr>\n",
       "  </tbody>\n",
       "</table>\n",
       "</div>"
      ],
      "text/plain": [
       "       index                   author    year                           paper  \\\n",
       "19624  14461  Bakshi G. and D. Madan   2006.0  A theory of volatility spreads   \n",
       "19625  14461  Bakshi G. and D. Madan   2006.0  A theory of volatility spreads   \n",
       "19626  14461  Bakshi G. and D. Madan   2006.0  A theory of volatility spreads   \n",
       "19627  14461  Bakshi G. and D. Madan   2006.0  A theory of volatility spreads   \n",
       "19628  14461  Bakshi G. and D. Madan   2006.0  A theory of volatility spreads   \n",
       "\n",
       "                           journal                               new_paper  \n",
       "19624  ” Management Science 52 12   A theory of volatility spreads////2006  \n",
       "19625  ” Management Science 52 12   A theory of volatility spreads////2006  \n",
       "19626  ” Management Science 52 12   A theory of volatility spreads////2006  \n",
       "19627  ” Management Science 52 12   A theory of volatility spreads////2006  \n",
       "19628  ” Management Science 52 12   A theory of volatility spreads////2006  "
      ]
     },
     "execution_count": 26,
     "metadata": {},
     "output_type": "execute_result"
    }
   ],
   "source": [
    "base_df.tail()"
   ]
  },
  {
   "cell_type": "code",
   "execution_count": 27,
   "metadata": {},
   "outputs": [],
   "source": [
    "paper_ls = [i.lower() for i in base_df['new_paper'].tolist()]"
   ]
  },
  {
   "cell_type": "code",
   "execution_count": 28,
   "metadata": {
    "scrolled": true
   },
   "outputs": [
    {
     "data": {
      "text/html": [
       "<div>\n",
       "<style scoped>\n",
       "    .dataframe tbody tr th:only-of-type {\n",
       "        vertical-align: middle;\n",
       "    }\n",
       "\n",
       "    .dataframe tbody tr th {\n",
       "        vertical-align: top;\n",
       "    }\n",
       "\n",
       "    .dataframe thead th {\n",
       "        text-align: right;\n",
       "    }\n",
       "</style>\n",
       "<table border=\"1\" class=\"dataframe\">\n",
       "  <thead>\n",
       "    <tr style=\"text-align: right;\">\n",
       "      <th></th>\n",
       "      <th>count</th>\n",
       "    </tr>\n",
       "  </thead>\n",
       "  <tbody>\n",
       "    <tr>\n",
       "      <th>common risk factors in the returns on stocks and bonds////1993</th>\n",
       "      <td>106</td>\n",
       "    </tr>\n",
       "    <tr>\n",
       "      <th>on persistence in mutual fund performance////1997</th>\n",
       "      <td>73</td>\n",
       "    </tr>\n",
       "    <tr>\n",
       "      <th>theory of the firm: managerial behavior agency costs and ownership structure////1976</th>\n",
       "      <td>72</td>\n",
       "    </tr>\n",
       "    <tr>\n",
       "      <th>risk return and equilibrium: empirical tests////1973</th>\n",
       "      <td>56</td>\n",
       "    </tr>\n",
       "    <tr>\n",
       "      <th>the pricing of options and corporate liabilities////1973</th>\n",
       "      <td>54</td>\n",
       "    </tr>\n",
       "    <tr>\n",
       "      <th>common risk factors in the returns on bonds and stocks////1993</th>\n",
       "      <td>50</td>\n",
       "    </tr>\n",
       "    <tr>\n",
       "      <th>tunneling////2000</th>\n",
       "      <td>41</td>\n",
       "    </tr>\n",
       "    <tr>\n",
       "      <th>asset pricing////2001</th>\n",
       "      <td>33</td>\n",
       "    </tr>\n",
       "    <tr>\n",
       "      <th>the relationship between return and market value of common stocks////1981</th>\n",
       "      <td>31</td>\n",
       "    </tr>\n",
       "    <tr>\n",
       "      <th>stock index futures////2006</th>\n",
       "      <td>31</td>\n",
       "    </tr>\n",
       "    <tr>\n",
       "      <th>results////2007</th>\n",
       "      <td>30</td>\n",
       "    </tr>\n",
       "    <tr>\n",
       "      <th>the cross-section of volatility and expected returns////2006</th>\n",
       "      <td>30</td>\n",
       "    </tr>\n",
       "    <tr>\n",
       "      <th>a simple positive semi-definite heteroskedasticity and autocorrelation consistent covariance matrix////1987</th>\n",
       "      <td>29</td>\n",
       "    </tr>\n",
       "    <tr>\n",
       "      <th>detecting long-run abnormal stock returns: the empirical power and specification of test statistics////1997</th>\n",
       "      <td>28</td>\n",
       "    </tr>\n",
       "    <tr>\n",
       "      <th>studies of stock price volatility changes////1976</th>\n",
       "      <td>28</td>\n",
       "    </tr>\n",
       "    <tr>\n",
       "      <th>the cross-section of expected stock returns////1992</th>\n",
       "      <td>27</td>\n",
       "    </tr>\n",
       "    <tr>\n",
       "      <th>corporate ownership around the world////1999</th>\n",
       "      <td>27</td>\n",
       "    </tr>\n",
       "    <tr>\n",
       "      <th>corporate financing and investment decisions when firms have information that investors do not have////1984</th>\n",
       "      <td>24</td>\n",
       "    </tr>\n",
       "    <tr>\n",
       "      <th>asset pricing and the bid-ask spread////1986</th>\n",
       "      <td>23</td>\n",
       "    </tr>\n",
       "    <tr>\n",
       "      <th>on persistence in mutual performance////1997</th>\n",
       "      <td>23</td>\n",
       "    </tr>\n",
       "    <tr>\n",
       "      <th>generalized autoregressive conditional heteroskedasticity////1986</th>\n",
       "      <td>22</td>\n",
       "    </tr>\n",
       "    <tr>\n",
       "      <th>financial ratios discriminant analysis and the prediction of corporate bankruptcy////1968</th>\n",
       "      <td>22</td>\n",
       "    </tr>\n",
       "    <tr>\n",
       "      <th>common risk factors in the returns on the stocks and bonds////1993</th>\n",
       "      <td>22</td>\n",
       "    </tr>\n",
       "    <tr>\n",
       "      <th>tunneling or value added? evidence from mergers by korean business groups////2002</th>\n",
       "      <td>21</td>\n",
       "    </tr>\n",
       "    <tr>\n",
       "      <th>just how much do individual investors lose by trading?////2009</th>\n",
       "      <td>21</td>\n",
       "    </tr>\n",
       "    <tr>\n",
       "      <th>risk taking by mutual funds as a response to incentives////1997</th>\n",
       "      <td>21</td>\n",
       "    </tr>\n",
       "    <tr>\n",
       "      <th>the separation of ownership and control in east asian corporations////2000</th>\n",
       "      <td>20</td>\n",
       "    </tr>\n",
       "    <tr>\n",
       "      <th>does the stock market overreact?////1985</th>\n",
       "      <td>20</td>\n",
       "    </tr>\n",
       "    <tr>\n",
       "      <th>returns to buying winners and selling losers: implications for stock market efficiency////1993</th>\n",
       "      <td>20</td>\n",
       "    </tr>\n",
       "    <tr>\n",
       "      <th>do domestic investors have an edge? the trading experience of foreign investors in korea////2005</th>\n",
       "      <td>20</td>\n",
       "    </tr>\n",
       "    <tr>\n",
       "      <th>...</th>\n",
       "      <td>...</td>\n",
       "    </tr>\n",
       "    <tr>\n",
       "      <th>the underpricing of brazilian ipos and the adjustment to public and private information////2013</th>\n",
       "      <td>1</td>\n",
       "    </tr>\n",
       "    <tr>\n",
       "      <th>partial adjustment to public information and ipo underpricing////2002</th>\n",
       "      <td>1</td>\n",
       "    </tr>\n",
       "    <tr>\n",
       "      <th>book-building : how informative is the order book?////2003</th>\n",
       "      <td>1</td>\n",
       "    </tr>\n",
       "    <tr>\n",
       "      <th>firm performance and focus: long-run stock market performance following spinoffs////1999</th>\n",
       "      <td>1</td>\n",
       "    </tr>\n",
       "    <tr>\n",
       "      <th>underpricing overhang and the cost of going public to preexisting shareholders////nan</th>\n",
       "      <td>1</td>\n",
       "    </tr>\n",
       "    <tr>\n",
       "      <th>information asymmetry and the cost of going public for equity carve-outs////2008</th>\n",
       "      <td>1</td>\n",
       "    </tr>\n",
       "    <tr>\n",
       "      <th>issuer surplus and the partial adjustment of ipo prices to public information////2005</th>\n",
       "      <td>1</td>\n",
       "    </tr>\n",
       "    <tr>\n",
       "      <th>최초 공모주식의 저평가 여부와 장기성과의 변화: 기업공개제도 개선효과에 주는 시사점////2012</th>\n",
       "      <td>1</td>\n",
       "    </tr>\n",
       "    <tr>\n",
       "      <th>does fund size affect performance////2003</th>\n",
       "      <td>1</td>\n",
       "    </tr>\n",
       "    <tr>\n",
       "      <th>기업 현금관리의 7가지 특징: 현금보유와의 관계분석////2005</th>\n",
       "      <td>1</td>\n",
       "    </tr>\n",
       "    <tr>\n",
       "      <th>the impact of macro economic uncertainty on non-financial firms////2005</th>\n",
       "      <td>1</td>\n",
       "    </tr>\n",
       "    <tr>\n",
       "      <th>한국 제조기업의 현금보유의 변화와 결정요인에 관한 연구////2008</th>\n",
       "      <td>1</td>\n",
       "    </tr>\n",
       "    <tr>\n",
       "      <th>기업의 현금보유 결정요인에 관한 실증적 연구////2010</th>\n",
       "      <td>1</td>\n",
       "    </tr>\n",
       "    <tr>\n",
       "      <th>기업현금보유 수준의 진단 및 시사점////2005</th>\n",
       "      <td>1</td>\n",
       "    </tr>\n",
       "    <tr>\n",
       "      <th>국내 기업 배당지급 여력 낮다////2012</th>\n",
       "      <td>1</td>\n",
       "    </tr>\n",
       "    <tr>\n",
       "      <th>국내 기업 수익성 부진에도 현금흐름은 개선////2014</th>\n",
       "      <td>1</td>\n",
       "    </tr>\n",
       "    <tr>\n",
       "      <th>현금보유의 변화가 기업가치에 미치는 영향////2011</th>\n",
       "      <td>1</td>\n",
       "    </tr>\n",
       "    <tr>\n",
       "      <th>the transaction demand for cash: an inventory theoretic approach////1952</th>\n",
       "      <td>1</td>\n",
       "    </tr>\n",
       "    <tr>\n",
       "      <th>sarbanes-oxley and corporate risk-taking////2007</th>\n",
       "      <td>1</td>\n",
       "    </tr>\n",
       "    <tr>\n",
       "      <th>why do firms hold cash?: evidence from emu countries////2004</th>\n",
       "      <td>1</td>\n",
       "    </tr>\n",
       "    <tr>\n",
       "      <th>unit root tests for panel data////2001</th>\n",
       "      <td>1</td>\n",
       "    </tr>\n",
       "    <tr>\n",
       "      <th>corporate governance and firm cash holdings in u.s.////2008</th>\n",
       "      <td>1</td>\n",
       "    </tr>\n",
       "    <tr>\n",
       "      <th>why do firms hold so much cash? international evidence on the determinants of cash holdings////2010</th>\n",
       "      <td>1</td>\n",
       "    </tr>\n",
       "    <tr>\n",
       "      <th>agency cost of free cash flow corporate finance and takeover////1986</th>\n",
       "      <td>1</td>\n",
       "    </tr>\n",
       "    <tr>\n",
       "      <th>scale economies the value of time and the demand for money: longitudinal evidence from firms////1997</th>\n",
       "      <td>1</td>\n",
       "    </tr>\n",
       "    <tr>\n",
       "      <th>bank power and cash holdings: evidence from japan////2001</th>\n",
       "      <td>1</td>\n",
       "    </tr>\n",
       "    <tr>\n",
       "      <th>연기금의 주식위탁운용 인덱스화 분석을 통한 위탁운용 확대정책의 타당성 연구////2014</th>\n",
       "      <td>1</td>\n",
       "    </tr>\n",
       "    <tr>\n",
       "      <th>연금사회와 자산운용산업의 미래: 2020 자산운용 산업 비전과 전망////2020</th>\n",
       "      <td>1</td>\n",
       "    </tr>\n",
       "    <tr>\n",
       "      <th>mutual fund performance: evidence from the uk////1998</th>\n",
       "      <td>1</td>\n",
       "    </tr>\n",
       "    <tr>\n",
       "      <th>performance of pairs trading strategy in the u.s. reit market////2011</th>\n",
       "      <td>1</td>\n",
       "    </tr>\n",
       "  </tbody>\n",
       "</table>\n",
       "<p>13443 rows × 1 columns</p>\n",
       "</div>"
      ],
      "text/plain": [
       "                                                    count\n",
       "common risk factors in the returns on stocks an...    106\n",
       "on persistence in mutual fund performance////1997      73\n",
       "theory of the firm: managerial behavior agency ...     72\n",
       "risk return and equilibrium: empirical tests///...     56\n",
       "the pricing of options and corporate liabilitie...     54\n",
       "common risk factors in the returns on bonds and...     50\n",
       "tunneling////2000                                      41\n",
       "asset pricing////2001                                  33\n",
       "the relationship between return and market valu...     31\n",
       "stock index futures////2006                            31\n",
       "results////2007                                        30\n",
       "the cross-section of volatility and expected re...     30\n",
       "a simple positive semi-definite heteroskedastic...     29\n",
       "detecting long-run abnormal stock returns: the ...     28\n",
       "studies of stock price volatility changes////1976      28\n",
       "the cross-section of expected stock returns////...     27\n",
       "corporate ownership around the world////1999           27\n",
       "corporate financing and investment decisions wh...     24\n",
       "asset pricing and the bid-ask spread////1986           23\n",
       "on persistence in mutual performance////1997           23\n",
       "generalized autoregressive conditional heterosk...     22\n",
       "financial ratios discriminant analysis and the ...     22\n",
       "common risk factors in the returns on the stock...     22\n",
       "tunneling or value added? evidence from mergers...     21\n",
       "just how much do individual investors lose by t...     21\n",
       "risk taking by mutual funds as a response to in...     21\n",
       "the separation of ownership and control in east...     20\n",
       "does the stock market overreact?////1985               20\n",
       "returns to buying winners and selling losers: i...     20\n",
       "do domestic investors have an edge? the trading...     20\n",
       "...                                                   ...\n",
       "the underpricing of brazilian ipos and the adju...      1\n",
       "partial adjustment to public information and ip...      1\n",
       "book-building : how informative is the order bo...      1\n",
       "firm performance and focus: long-run stock mark...      1\n",
       "underpricing overhang and the cost of going pub...      1\n",
       "information asymmetry and the cost of going pub...      1\n",
       "issuer surplus and the partial adjustment of ip...      1\n",
       "최초 공모주식의 저평가 여부와 장기성과의 변화: 기업공개제도 개선효과에 주는 시사점/...      1\n",
       "does fund size affect performance////2003               1\n",
       "기업 현금관리의 7가지 특징: 현금보유와의 관계분석////2005                    1\n",
       "the impact of macro economic uncertainty on non...      1\n",
       "한국 제조기업의 현금보유의 변화와 결정요인에 관한 연구////2008                  1\n",
       "기업의 현금보유 결정요인에 관한 실증적 연구////2010                        1\n",
       "기업현금보유 수준의 진단 및 시사점////2005                             1\n",
       "국내 기업 배당지급 여력 낮다////2012                                1\n",
       "국내 기업 수익성 부진에도 현금흐름은 개선////2014                         1\n",
       "현금보유의 변화가 기업가치에 미치는 영향////2011                          1\n",
       "the transaction demand for cash: an inventory t...      1\n",
       "sarbanes-oxley and corporate risk-taking////2007        1\n",
       "why do firms hold cash?: evidence from emu coun...      1\n",
       "unit root tests for panel data////2001                  1\n",
       "corporate governance and firm cash holdings in ...      1\n",
       "why do firms hold so much cash? international e...      1\n",
       "agency cost of free cash flow corporate finance...      1\n",
       "scale economies the value of time and the deman...      1\n",
       "bank power and cash holdings: evidence from jap...      1\n",
       "연기금의 주식위탁운용 인덱스화 분석을 통한 위탁운용 확대정책의 타당성 연구////2014       1\n",
       "연금사회와 자산운용산업의 미래: 2020 자산운용 산업 비전과 전망////2020           1\n",
       "mutual fund performance: evidence from the uk//...      1\n",
       "performance of pairs trading strategy in the u....      1\n",
       "\n",
       "[13443 rows x 1 columns]"
      ]
     },
     "execution_count": 28,
     "metadata": {},
     "output_type": "execute_result"
    }
   ],
   "source": [
    "counter_df = pd.DataFrame.from_dict(Counter(paper_ls),orient='index',columns=['count']).sort_values('count',ascending=False)\n",
    "counter_df"
   ]
  },
  {
   "cell_type": "code",
   "execution_count": 29,
   "metadata": {
    "scrolled": true
   },
   "outputs": [
    {
     "data": {
      "text/plain": [
       "533"
      ]
     },
     "execution_count": 29,
     "metadata": {},
     "output_type": "execute_result"
    }
   ],
   "source": [
    "catch_paper_ls = counter_df[counter_df['count'] > 3].index.tolist()\n",
    "len(catch_paper_ls)"
   ]
  },
  {
   "cell_type": "code",
   "execution_count": 30,
   "metadata": {},
   "outputs": [
    {
     "data": {
      "text/plain": [
       "533"
      ]
     },
     "execution_count": 30,
     "metadata": {},
     "output_type": "execute_result"
    }
   ],
   "source": [
    "ready_to_target_dict = dict(zip(catch_paper_ls,[[] for i in range(len(catch_paper_ls))]))\n",
    "len(ready_to_target_dict)"
   ]
  },
  {
   "cell_type": "code",
   "execution_count": null,
   "metadata": {},
   "outputs": [],
   "source": [
    "for idx1,val1 in enumerate(base_df['new_paper'].tolist()) : \n",
    "    for idx2,val2 in enumerate(ready_to_target_dict.keys()) :\n",
    "        \n",
    "        paper_name = val1.split('////')[0]\n",
    "        paper_year = val1.split('////')[1]\n",
    "        target_name = val2.split('////')[0]\n",
    "        target_year = val2.split('////')[1]\n",
    "        \n",
    "        if re.search('[0-9]{4}',paper_year) :\n",
    "            if paper_year == target_year :\n",
    "                "
   ]
  }
 ],
 "metadata": {
  "kernelspec": {
   "display_name": "Python 3",
   "language": "python",
   "name": "python3"
  },
  "language_info": {
   "codemirror_mode": {
    "name": "ipython",
    "version": 3
   },
   "file_extension": ".py",
   "mimetype": "text/x-python",
   "name": "python",
   "nbconvert_exporter": "python",
   "pygments_lexer": "ipython3",
   "version": "3.6.6"
  }
 },
 "nbformat": 4,
 "nbformat_minor": 2
}
