{
 "cells": [
  {
   "cell_type": "code",
   "execution_count": 1,
   "metadata": {},
   "outputs": [],
   "source": [
    "import sys\n",
    "sys.path.append('../personal_pkgs/')\n",
    "import pickle\n",
    "import pandas as pd\n",
    "import oop_func as func\n",
    "import personal_pkg as ref\n",
    "import parsing_func as pars\n",
    "import os\n",
    "import re\n",
    "from collections import Counter\n",
    "import warnings\n",
    "warnings.filterwarnings(\"ignore\")\n",
    "from IPython.display import Markdown"
   ]
  },
  {
   "cell_type": "code",
   "execution_count": 2,
   "metadata": {
    "scrolled": false
   },
   "outputs": [
    {
     "data": {
      "text/html": [
       "<div>\n",
       "<style scoped>\n",
       "    .dataframe tbody tr th:only-of-type {\n",
       "        vertical-align: middle;\n",
       "    }\n",
       "\n",
       "    .dataframe tbody tr th {\n",
       "        vertical-align: top;\n",
       "    }\n",
       "\n",
       "    .dataframe thead th {\n",
       "        text-align: right;\n",
       "    }\n",
       "</style>\n",
       "<table border=\"1\" class=\"dataframe\">\n",
       "  <thead>\n",
       "    <tr style=\"text-align: right;\">\n",
       "      <th></th>\n",
       "      <th>index</th>\n",
       "      <th>author</th>\n",
       "      <th>year</th>\n",
       "      <th>paper</th>\n",
       "      <th>journal</th>\n",
       "      <th>refer_raw</th>\n",
       "      <th>citing_year</th>\n",
       "      <th>path</th>\n",
       "      <th>from</th>\n",
       "      <th>citing_paper_name</th>\n",
       "      <th>citing_paper_author</th>\n",
       "    </tr>\n",
       "  </thead>\n",
       "  <tbody>\n",
       "    <tr>\n",
       "      <th>28043</th>\n",
       "      <td>22330</td>\n",
       "      <td>태석준</td>\n",
       "      <td>1997.0</td>\n",
       "      <td>한국 주가지수선물시장에서의 차익거래에 관한 연구</td>\n",
       "      <td>” ｢한국재무관리학회｣ 14  3</td>\n",
       "      <td>태석준 “한국 주가지수선물시장에서의 차익거래에 관한 연구 ” ｢한국재무관리학회｣ 1...</td>\n",
       "      <td>2018</td>\n",
       "      <td>../../paper_list/한국파생상품학회/2018/09800613.txt</td>\n",
       "      <td>한국파생상품학회</td>\n",
       "      <td>KOSPI200 옵션과 미니옵션 페어트레이딩(Pairs Trading)전략의 수익성 분석</td>\n",
       "      <td>이우백</td>\n",
       "    </tr>\n",
       "    <tr>\n",
       "      <th>28044</th>\n",
       "      <td>22400</td>\n",
       "      <td>Duffee D. and Kan R.</td>\n",
       "      <td>1996.0</td>\n",
       "      <td>A Yield Factor Model of Interest Rates</td>\n",
       "      <td>” Mathematical of Finance  | 6</td>\n",
       "      <td>Duffee D. and Kan R. “A Yield Factor Model of ...</td>\n",
       "      <td>2004</td>\n",
       "      <td>error_solved_file/09800222.txt</td>\n",
       "      <td>한국파생상품학회</td>\n",
       "      <td>Nelson-Siegel모형을 이용한 이자율기간구조의 추정 및 예측</td>\n",
       "      <td>이준행</td>\n",
       "    </tr>\n",
       "    <tr>\n",
       "      <th>28045</th>\n",
       "      <td>22400</td>\n",
       "      <td>Duffee D. and Kan R.</td>\n",
       "      <td>1996.0</td>\n",
       "      <td>A Yield Factor Model of Interest Rates</td>\n",
       "      <td>” Mathematical of Finance  | 6</td>\n",
       "      <td>Duffee D. and Kan R. “A Yield Factor Model of ...</td>\n",
       "      <td>2004</td>\n",
       "      <td>error_solved_file/09800222.txt</td>\n",
       "      <td>한국파생상품학회</td>\n",
       "      <td>Nelson-Siegel모형을 이용한 이자율기간구조의 추정 및 예측</td>\n",
       "      <td>이준행</td>\n",
       "    </tr>\n",
       "    <tr>\n",
       "      <th>28046</th>\n",
       "      <td>22400</td>\n",
       "      <td>Duffee D. and Kan R.</td>\n",
       "      <td>1996.0</td>\n",
       "      <td>A Yield Factor Model of Interest Rates</td>\n",
       "      <td>” Mathematical of Finance  | 6</td>\n",
       "      <td>Duffee D. and Kan R. “A Yield Factor Model of ...</td>\n",
       "      <td>2004</td>\n",
       "      <td>error_solved_file/09800222.txt</td>\n",
       "      <td>한국파생상품학회</td>\n",
       "      <td>Nelson-Siegel모형을 이용한 이자율기간구조의 추정 및 예측</td>\n",
       "      <td>이준행</td>\n",
       "    </tr>\n",
       "    <tr>\n",
       "      <th>28047</th>\n",
       "      <td>22510</td>\n",
       "      <td>이승환</td>\n",
       "      <td>2009.0</td>\n",
       "      <td>통화옵션을 이용한 미래 원/달러 환율의 위험중립 확률분포 추정</td>\n",
       "      <td>” 「국제경제연구」  | 15 1</td>\n",
       "      <td>이승환 “통화옵션을 이용한 미래 원/달러 환율의 위험중립 확률분포 추정 ” 「국제경...</td>\n",
       "      <td>2011</td>\n",
       "      <td>error_solved_file/09800355.txt</td>\n",
       "      <td>한국파생상품학회</td>\n",
       "      <td>None</td>\n",
       "      <td>None</td>\n",
       "    </tr>\n",
       "  </tbody>\n",
       "</table>\n",
       "</div>"
      ],
      "text/plain": [
       "       index                 author    year  \\\n",
       "28043  22330                   태석준   1997.0   \n",
       "28044  22400  Duffee D. and Kan R.   1996.0   \n",
       "28045  22400  Duffee D. and Kan R.   1996.0   \n",
       "28046  22400  Duffee D. and Kan R.   1996.0   \n",
       "28047  22510                   이승환   2009.0   \n",
       "\n",
       "                                        paper  \\\n",
       "28043              한국 주가지수선물시장에서의 차익거래에 관한 연구   \n",
       "28044  A Yield Factor Model of Interest Rates   \n",
       "28045  A Yield Factor Model of Interest Rates   \n",
       "28046  A Yield Factor Model of Interest Rates   \n",
       "28047      통화옵션을 이용한 미래 원/달러 환율의 위험중립 확률분포 추정   \n",
       "\n",
       "                               journal  \\\n",
       "28043              ” ｢한국재무관리학회｣ 14  3    \n",
       "28044  ” Mathematical of Finance  | 6    \n",
       "28045  ” Mathematical of Finance  | 6    \n",
       "28046  ” Mathematical of Finance  | 6    \n",
       "28047              ” 「국제경제연구」  | 15 1    \n",
       "\n",
       "                                               refer_raw  citing_year  \\\n",
       "28043  태석준 “한국 주가지수선물시장에서의 차익거래에 관한 연구 ” ｢한국재무관리학회｣ 1...         2018   \n",
       "28044  Duffee D. and Kan R. “A Yield Factor Model of ...         2004   \n",
       "28045  Duffee D. and Kan R. “A Yield Factor Model of ...         2004   \n",
       "28046  Duffee D. and Kan R. “A Yield Factor Model of ...         2004   \n",
       "28047  이승환 “통화옵션을 이용한 미래 원/달러 환율의 위험중립 확률분포 추정 ” 「국제경...         2011   \n",
       "\n",
       "                                              path      from  \\\n",
       "28043  ../../paper_list/한국파생상품학회/2018/09800613.txt  한국파생상품학회   \n",
       "28044               error_solved_file/09800222.txt  한국파생상품학회   \n",
       "28045               error_solved_file/09800222.txt  한국파생상품학회   \n",
       "28046               error_solved_file/09800222.txt  한국파생상품학회   \n",
       "28047               error_solved_file/09800355.txt  한국파생상품학회   \n",
       "\n",
       "                                       citing_paper_name citing_paper_author  \n",
       "28043  KOSPI200 옵션과 미니옵션 페어트레이딩(Pairs Trading)전략의 수익성 분석                 이우백  \n",
       "28044              Nelson-Siegel모형을 이용한 이자율기간구조의 추정 및 예측                 이준행  \n",
       "28045              Nelson-Siegel모형을 이용한 이자율기간구조의 추정 및 예측                 이준행  \n",
       "28046              Nelson-Siegel모형을 이용한 이자율기간구조의 추정 및 예측                 이준행  \n",
       "28047                                               None                None  "
      ]
     },
     "execution_count": 2,
     "metadata": {},
     "output_type": "execute_result"
    }
   ],
   "source": [
    "base_df = pd.read_csv('file/base_df1.csv')\n",
    "base_df.tail()"
   ]
  },
  {
   "cell_type": "code",
   "execution_count": 3,
   "metadata": {},
   "outputs": [
    {
     "data": {
      "text/html": [
       "<div>\n",
       "<style scoped>\n",
       "    .dataframe tbody tr th:only-of-type {\n",
       "        vertical-align: middle;\n",
       "    }\n",
       "\n",
       "    .dataframe tbody tr th {\n",
       "        vertical-align: top;\n",
       "    }\n",
       "\n",
       "    .dataframe thead th {\n",
       "        text-align: right;\n",
       "    }\n",
       "</style>\n",
       "<table border=\"1\" class=\"dataframe\">\n",
       "  <thead>\n",
       "    <tr style=\"text-align: right;\">\n",
       "      <th></th>\n",
       "      <th>index</th>\n",
       "      <th>author</th>\n",
       "      <th>year</th>\n",
       "      <th>paper</th>\n",
       "      <th>journal</th>\n",
       "      <th>refer_raw</th>\n",
       "      <th>citing_year</th>\n",
       "      <th>path</th>\n",
       "      <th>from</th>\n",
       "      <th>citing_paper_name</th>\n",
       "      <th>citing_paper_author</th>\n",
       "      <th>new_paper</th>\n",
       "    </tr>\n",
       "  </thead>\n",
       "  <tbody>\n",
       "    <tr>\n",
       "      <th>28043</th>\n",
       "      <td>22330</td>\n",
       "      <td>태석준</td>\n",
       "      <td>1997.0</td>\n",
       "      <td>한국 주가지수선물시장에서의 차익거래에 관한 연구</td>\n",
       "      <td>” ｢한국재무관리학회｣ 14  3</td>\n",
       "      <td>태석준 “한국 주가지수선물시장에서의 차익거래에 관한 연구 ” ｢한국재무관리학회｣ 1...</td>\n",
       "      <td>2018</td>\n",
       "      <td>../../paper_list/한국파생상품학회/2018/09800613.txt</td>\n",
       "      <td>한국파생상품학회</td>\n",
       "      <td>KOSPI200 옵션과 미니옵션 페어트레이딩(Pairs Trading)전략의 수익성 분석</td>\n",
       "      <td>이우백</td>\n",
       "      <td>한국 주가지수선물시장에서의 차익거래에 관한 연구////1997</td>\n",
       "    </tr>\n",
       "    <tr>\n",
       "      <th>28044</th>\n",
       "      <td>22400</td>\n",
       "      <td>Duffee D. and Kan R.</td>\n",
       "      <td>1996.0</td>\n",
       "      <td>A Yield Factor Model of Interest Rates</td>\n",
       "      <td>” Mathematical of Finance  | 6</td>\n",
       "      <td>Duffee D. and Kan R. “A Yield Factor Model of ...</td>\n",
       "      <td>2004</td>\n",
       "      <td>error_solved_file/09800222.txt</td>\n",
       "      <td>한국파생상품학회</td>\n",
       "      <td>Nelson-Siegel모형을 이용한 이자율기간구조의 추정 및 예측</td>\n",
       "      <td>이준행</td>\n",
       "      <td>a yield factor model of interest rates////1996</td>\n",
       "    </tr>\n",
       "    <tr>\n",
       "      <th>28045</th>\n",
       "      <td>22400</td>\n",
       "      <td>Duffee D. and Kan R.</td>\n",
       "      <td>1996.0</td>\n",
       "      <td>A Yield Factor Model of Interest Rates</td>\n",
       "      <td>” Mathematical of Finance  | 6</td>\n",
       "      <td>Duffee D. and Kan R. “A Yield Factor Model of ...</td>\n",
       "      <td>2004</td>\n",
       "      <td>error_solved_file/09800222.txt</td>\n",
       "      <td>한국파생상품학회</td>\n",
       "      <td>Nelson-Siegel모형을 이용한 이자율기간구조의 추정 및 예측</td>\n",
       "      <td>이준행</td>\n",
       "      <td>a yield factor model of interest rates////1996</td>\n",
       "    </tr>\n",
       "    <tr>\n",
       "      <th>28046</th>\n",
       "      <td>22400</td>\n",
       "      <td>Duffee D. and Kan R.</td>\n",
       "      <td>1996.0</td>\n",
       "      <td>A Yield Factor Model of Interest Rates</td>\n",
       "      <td>” Mathematical of Finance  | 6</td>\n",
       "      <td>Duffee D. and Kan R. “A Yield Factor Model of ...</td>\n",
       "      <td>2004</td>\n",
       "      <td>error_solved_file/09800222.txt</td>\n",
       "      <td>한국파생상품학회</td>\n",
       "      <td>Nelson-Siegel모형을 이용한 이자율기간구조의 추정 및 예측</td>\n",
       "      <td>이준행</td>\n",
       "      <td>a yield factor model of interest rates////1996</td>\n",
       "    </tr>\n",
       "    <tr>\n",
       "      <th>28047</th>\n",
       "      <td>22510</td>\n",
       "      <td>이승환</td>\n",
       "      <td>2009.0</td>\n",
       "      <td>통화옵션을 이용한 미래 원/달러 환율의 위험중립 확률분포 추정</td>\n",
       "      <td>” 「국제경제연구」  | 15 1</td>\n",
       "      <td>이승환 “통화옵션을 이용한 미래 원/달러 환율의 위험중립 확률분포 추정 ” 「국제경...</td>\n",
       "      <td>2011</td>\n",
       "      <td>error_solved_file/09800355.txt</td>\n",
       "      <td>한국파생상품학회</td>\n",
       "      <td>None</td>\n",
       "      <td>None</td>\n",
       "      <td>통화옵션을 이용한 미래 원/달러 환율의 위험중립 확률분포 추정////2009</td>\n",
       "    </tr>\n",
       "  </tbody>\n",
       "</table>\n",
       "</div>"
      ],
      "text/plain": [
       "       index                 author    year  \\\n",
       "28043  22330                   태석준   1997.0   \n",
       "28044  22400  Duffee D. and Kan R.   1996.0   \n",
       "28045  22400  Duffee D. and Kan R.   1996.0   \n",
       "28046  22400  Duffee D. and Kan R.   1996.0   \n",
       "28047  22510                   이승환   2009.0   \n",
       "\n",
       "                                        paper  \\\n",
       "28043              한국 주가지수선물시장에서의 차익거래에 관한 연구   \n",
       "28044  A Yield Factor Model of Interest Rates   \n",
       "28045  A Yield Factor Model of Interest Rates   \n",
       "28046  A Yield Factor Model of Interest Rates   \n",
       "28047      통화옵션을 이용한 미래 원/달러 환율의 위험중립 확률분포 추정   \n",
       "\n",
       "                               journal  \\\n",
       "28043              ” ｢한국재무관리학회｣ 14  3    \n",
       "28044  ” Mathematical of Finance  | 6    \n",
       "28045  ” Mathematical of Finance  | 6    \n",
       "28046  ” Mathematical of Finance  | 6    \n",
       "28047              ” 「국제경제연구」  | 15 1    \n",
       "\n",
       "                                               refer_raw  citing_year  \\\n",
       "28043  태석준 “한국 주가지수선물시장에서의 차익거래에 관한 연구 ” ｢한국재무관리학회｣ 1...         2018   \n",
       "28044  Duffee D. and Kan R. “A Yield Factor Model of ...         2004   \n",
       "28045  Duffee D. and Kan R. “A Yield Factor Model of ...         2004   \n",
       "28046  Duffee D. and Kan R. “A Yield Factor Model of ...         2004   \n",
       "28047  이승환 “통화옵션을 이용한 미래 원/달러 환율의 위험중립 확률분포 추정 ” 「국제경...         2011   \n",
       "\n",
       "                                              path      from  \\\n",
       "28043  ../../paper_list/한국파생상품학회/2018/09800613.txt  한국파생상품학회   \n",
       "28044               error_solved_file/09800222.txt  한국파생상품학회   \n",
       "28045               error_solved_file/09800222.txt  한국파생상품학회   \n",
       "28046               error_solved_file/09800222.txt  한국파생상품학회   \n",
       "28047               error_solved_file/09800355.txt  한국파생상품학회   \n",
       "\n",
       "                                       citing_paper_name citing_paper_author  \\\n",
       "28043  KOSPI200 옵션과 미니옵션 페어트레이딩(Pairs Trading)전략의 수익성 분석                 이우백   \n",
       "28044              Nelson-Siegel모형을 이용한 이자율기간구조의 추정 및 예측                 이준행   \n",
       "28045              Nelson-Siegel모형을 이용한 이자율기간구조의 추정 및 예측                 이준행   \n",
       "28046              Nelson-Siegel모형을 이용한 이자율기간구조의 추정 및 예측                 이준행   \n",
       "28047                                               None                None   \n",
       "\n",
       "                                            new_paper  \n",
       "28043              한국 주가지수선물시장에서의 차익거래에 관한 연구////1997  \n",
       "28044  a yield factor model of interest rates////1996  \n",
       "28045  a yield factor model of interest rates////1996  \n",
       "28046  a yield factor model of interest rates////1996  \n",
       "28047      통화옵션을 이용한 미래 원/달러 환율의 위험중립 확률분포 추정////2009  "
      ]
     },
     "execution_count": 3,
     "metadata": {},
     "output_type": "execute_result"
    }
   ],
   "source": [
    "base_df['paper'] = [i.replace('[Provider:earticle]','') for i in base_df['paper'].tolist()]\n",
    "base_df['new_paper'] = \\\n",
    "[base_df['paper'][idx] + '////' + str(base_df['year'][idx]).split(\".\")[0] for idx in range(len(base_df))]\n",
    "\n",
    "base_df['new_paper'] = base_df['new_paper'].apply(lambda x : x.lower())\n",
    "\n",
    "base_df.tail()"
   ]
  },
  {
   "cell_type": "code",
   "execution_count": 4,
   "metadata": {},
   "outputs": [
    {
     "data": {
      "text/html": [
       "<div>\n",
       "<style scoped>\n",
       "    .dataframe tbody tr th:only-of-type {\n",
       "        vertical-align: middle;\n",
       "    }\n",
       "\n",
       "    .dataframe tbody tr th {\n",
       "        vertical-align: top;\n",
       "    }\n",
       "\n",
       "    .dataframe thead th {\n",
       "        text-align: right;\n",
       "    }\n",
       "</style>\n",
       "<table border=\"1\" class=\"dataframe\">\n",
       "  <thead>\n",
       "    <tr style=\"text-align: right;\">\n",
       "      <th></th>\n",
       "      <th>count</th>\n",
       "    </tr>\n",
       "  </thead>\n",
       "  <tbody>\n",
       "    <tr>\n",
       "      <th>common risk factors in the returns on stocks and bonds////1993</th>\n",
       "      <td>180</td>\n",
       "    </tr>\n",
       "    <tr>\n",
       "      <th>on persistence in mutual fund performance////1997</th>\n",
       "      <td>108</td>\n",
       "    </tr>\n",
       "    <tr>\n",
       "      <th>the pricing of options and corporate liabilities////1973</th>\n",
       "      <td>101</td>\n",
       "    </tr>\n",
       "    <tr>\n",
       "      <th>risk return and equilibrium: empirical tests////1973</th>\n",
       "      <td>95</td>\n",
       "    </tr>\n",
       "    <tr>\n",
       "      <th>theory of the firm: managerial behavior agency costs and ownership structure////1976</th>\n",
       "      <td>88</td>\n",
       "    </tr>\n",
       "  </tbody>\n",
       "</table>\n",
       "</div>"
      ],
      "text/plain": [
       "                                                    count\n",
       "common risk factors in the returns on stocks an...    180\n",
       "on persistence in mutual fund performance////1997     108\n",
       "the pricing of options and corporate liabilitie...    101\n",
       "risk return and equilibrium: empirical tests///...     95\n",
       "theory of the firm: managerial behavior agency ...     88"
      ]
     },
     "metadata": {},
     "output_type": "display_data"
    },
    {
     "data": {
      "text/plain": [
       "1185"
      ]
     },
     "execution_count": 4,
     "metadata": {},
     "output_type": "execute_result"
    }
   ],
   "source": [
    "paper_ls = [i.lower() for i in base_df['new_paper'].tolist()]\n",
    "counter_df = pd.DataFrame.from_dict(Counter(paper_ls),orient='index',columns=['count']).sort_values('count',ascending=False)\n",
    "catch_paper_ls = counter_df[counter_df['count'] > 3].index.tolist()\n",
    "display(counter_df.head())\n",
    "len(catch_paper_ls)"
   ]
  },
  {
   "cell_type": "code",
   "execution_count": 5,
   "metadata": {},
   "outputs": [
    {
     "data": {
      "text/plain": [
       "['common risk factors in the returns on stocks and bonds////1993',\n",
       " 'on persistence in mutual fund performance////1997',\n",
       " 'the pricing of options and corporate liabilities////1973',\n",
       " 'risk return and equilibrium: empirical tests////1973',\n",
       " 'theory of the firm: managerial behavior agency costs and ownership structure////1976',\n",
       " 'the cross-section of expected stock returns////1992',\n",
       " 'corporate financing and investment decisions when firms have information that investors do not have////1984',\n",
       " 'tunneling////2000',\n",
       " 'common risk factors in the returns on bonds and stocks////1993',\n",
       " 'stock index futures////2006']"
      ]
     },
     "execution_count": 5,
     "metadata": {},
     "output_type": "execute_result"
    }
   ],
   "source": [
    "catch_paper_ls[:10]"
   ]
  },
  {
   "cell_type": "markdown",
   "metadata": {},
   "source": [
    "- 딕셔너리로 만들어놓은 base_df에서 데이터의 산발성이 보인다.\n",
    "- 따라서 catch_paper_ls 라는 딕셔너리의 딕셔너리를 구축한다. \n",
    "- 이는, base_df에서 논문의 이름과 년도를 기준으로 count를 sorting 했을 때, 3번 이상 나온 논문들만 따로 모든 것이다.\n",
    "- 하지만 위에서 보듯, \n",
    "    - `'common risk factors in the returns on stocks and bonds////1993'`\n",
    "    - `'common risk factors in the returns on bonds and stocks////1993'`\n",
    "    - 와 같은, uniqueness 가 보장되지 않는 것을 알 수 있다. \n",
    "    - 이에 따라서, dictionary of dictionary의 uniqueness 를 보장하기 위한 작업을 아래에서 시행한다."
   ]
  },
  {
   "cell_type": "code",
   "execution_count": 6,
   "metadata": {},
   "outputs": [
    {
     "name": "stdout",
     "output_type": "stream",
     "text": [
      "0\n",
      "1\n",
      "2\n",
      "3\n",
      "4\n"
     ]
    },
    {
     "data": {
      "text/plain": [
       "(1185, 1064, 121)"
      ]
     },
     "execution_count": 6,
     "metadata": {},
     "output_type": "execute_result"
    }
   ],
   "source": [
    "catch_paper_ls_copy = catch_paper_ls.copy()\n",
    "tuned_catch_paper_ls = []\n",
    "excepted_ls = []\n",
    "similar_match_ls = []\n",
    "\n",
    "for i in range(5) : \n",
    "    print(i)\n",
    "    for idx1,val1 in enumerate(catch_paper_ls_copy) : \n",
    "        for idx2,val2 in enumerate(catch_paper_ls_copy) :\n",
    "            if idx1 != idx2 : \n",
    "                v1 = set(val1.split(' '))\n",
    "                v2 = set(val2.split(' '))\n",
    "                try : \n",
    "                    if len(set(v1).intersection(v2)) / ((len(v1) + len(v2))/2) > 0.75 : \n",
    "                        similar_match_ls.append((val1,val2))\n",
    "                        if len(v1) > len(v2) :\n",
    "                            catch_paper_ls_copy.pop(catch_paper_ls_copy.index(val2))\n",
    "                            excepted_ls.append((val2))\n",
    "                        else :\n",
    "                            catch_paper_ls_copy.pop(catch_paper_ls_copy.index(val1))\n",
    "                            excepted_ls.append(((val1)))                    \n",
    "                except : pass\n",
    "\n",
    "len(catch_paper_ls) , len(catch_paper_ls_copy) , len(excepted_ls)"
   ]
  },
  {
   "cell_type": "markdown",
   "metadata": {},
   "source": [
    "- 61개가 줄었다. 이를 기반으로 딕셔너리를 생성한다.\n",
    "- ready_to_taget_dict라는 변수를 생성한다. 이는, 472개로 된 key를 가지고 있고, 이와 유사한 논문 이름들을 자기 자신을 포함해서 리스트 형태의 value를 가진다."
   ]
  },
  {
   "cell_type": "code",
   "execution_count": 7,
   "metadata": {},
   "outputs": [],
   "source": [
    "ready_to_target_dict = dict(zip(catch_paper_ls_copy,[[] for i in range(len(catch_paper_ls_copy))]))"
   ]
  },
  {
   "cell_type": "code",
   "execution_count": 8,
   "metadata": {
    "scrolled": true
   },
   "outputs": [
    {
     "name": "stdout",
     "output_type": "stream",
     "text": [
      "28000\r"
     ]
    }
   ],
   "source": [
    "append = 0\n",
    "naive_append = 0\n",
    "\n",
    "for idx1,val1 in enumerate(base_df['new_paper'].tolist()) : \n",
    "    if idx1 % 4000 == 0 : print(idx1,end='\\r')\n",
    "    for idx2,val2 in enumerate(ready_to_target_dict.keys()) :\n",
    "        \n",
    "        paper_name = val1.split('////')[0].lower()\n",
    "        paper_year = val1.split('////')[1].lower()\n",
    "        target_name = val2.split('////')[0].lower()\n",
    "        target_year = val2.split('////')[1].lower()\n",
    "        \n",
    "        if paper_year != 'nan' :\n",
    "            if paper_year == target_year :\n",
    "                paper_name_to_word = set(paper_name.split(' '))\n",
    "                target_name_to_word = set(target_name.split(' '))\n",
    "                if len(paper_name_to_word.intersection(target_name_to_word)) / len(paper_name_to_word) > 0.75 : \n",
    "                    ready_to_target_dict[val2].append(val1)\n",
    "                    append += 1\n",
    "        else : pass"
   ]
  },
  {
   "cell_type": "code",
   "execution_count": 9,
   "metadata": {},
   "outputs": [
    {
     "data": {
      "text/plain": [
       "True"
      ]
     },
     "execution_count": 9,
     "metadata": {},
     "output_type": "execute_result"
    }
   ],
   "source": [
    "final_ls = []\n",
    "process_ls = []\n",
    "error_ls = []\n",
    "\n",
    "for idx1 , val in enumerate(base_df['new_paper']) : \n",
    "    process_ls = []\n",
    "    for idx2, key_ in enumerate(list(ready_to_target_dict.keys())) : \n",
    "        if val in ready_to_target_dict.get(key_) : \n",
    "            process_ls.append(key_)\n",
    "\n",
    "    if len(process_ls) == 1 :\n",
    "        final_ls.append(process_ls[0])\n",
    "    elif len(process_ls) == 0 :\n",
    "        final_ls.append(val)\n",
    "    else : final_ls.append(val)\n",
    "        \n",
    "len(final_ls) == len(base_df)"
   ]
  },
  {
   "cell_type": "code",
   "execution_count": 10,
   "metadata": {},
   "outputs": [
    {
     "data": {
      "text/plain": [
       "(15028, 15736)"
      ]
     },
     "execution_count": 10,
     "metadata": {},
     "output_type": "execute_result"
    }
   ],
   "source": [
    "len(set(final_ls)) , len(set(base_df['new_paper']))"
   ]
  },
  {
   "cell_type": "code",
   "execution_count": 11,
   "metadata": {},
   "outputs": [
    {
     "data": {
      "text/html": [
       "<div>\n",
       "<style scoped>\n",
       "    .dataframe tbody tr th:only-of-type {\n",
       "        vertical-align: middle;\n",
       "    }\n",
       "\n",
       "    .dataframe tbody tr th {\n",
       "        vertical-align: top;\n",
       "    }\n",
       "\n",
       "    .dataframe thead th {\n",
       "        text-align: right;\n",
       "    }\n",
       "</style>\n",
       "<table border=\"1\" class=\"dataframe\">\n",
       "  <thead>\n",
       "    <tr style=\"text-align: right;\">\n",
       "      <th></th>\n",
       "      <th>index</th>\n",
       "      <th>author</th>\n",
       "      <th>year</th>\n",
       "      <th>paper</th>\n",
       "      <th>journal</th>\n",
       "      <th>refer_raw</th>\n",
       "      <th>citing_year</th>\n",
       "      <th>path</th>\n",
       "      <th>from</th>\n",
       "      <th>citing_paper_name</th>\n",
       "      <th>citing_paper_author</th>\n",
       "      <th>new_paper</th>\n",
       "      <th>tuned_new_paper</th>\n",
       "    </tr>\n",
       "  </thead>\n",
       "  <tbody>\n",
       "    <tr>\n",
       "      <th>28043</th>\n",
       "      <td>22330</td>\n",
       "      <td>태석준</td>\n",
       "      <td>1997.0</td>\n",
       "      <td>한국 주가지수선물시장에서의 차익거래에 관한 연구</td>\n",
       "      <td>” ｢한국재무관리학회｣ 14  3</td>\n",
       "      <td>태석준 “한국 주가지수선물시장에서의 차익거래에 관한 연구 ” ｢한국재무관리학회｣ 1...</td>\n",
       "      <td>2018</td>\n",
       "      <td>../../paper_list/한국파생상품학회/2018/09800613.txt</td>\n",
       "      <td>한국파생상품학회</td>\n",
       "      <td>KOSPI200 옵션과 미니옵션 페어트레이딩(Pairs Trading)전략의 수익성 분석</td>\n",
       "      <td>이우백</td>\n",
       "      <td>한국 주가지수선물시장에서의 차익거래에 관한 연구////1997</td>\n",
       "      <td>한국 주가지수선물시장에서의 차익거래에 관한 연구////1997</td>\n",
       "    </tr>\n",
       "    <tr>\n",
       "      <th>28044</th>\n",
       "      <td>22400</td>\n",
       "      <td>Duffee D. and Kan R.</td>\n",
       "      <td>1996.0</td>\n",
       "      <td>A Yield Factor Model of Interest Rates</td>\n",
       "      <td>” Mathematical of Finance  | 6</td>\n",
       "      <td>Duffee D. and Kan R. “A Yield Factor Model of ...</td>\n",
       "      <td>2004</td>\n",
       "      <td>error_solved_file/09800222.txt</td>\n",
       "      <td>한국파생상품학회</td>\n",
       "      <td>Nelson-Siegel모형을 이용한 이자율기간구조의 추정 및 예측</td>\n",
       "      <td>이준행</td>\n",
       "      <td>a yield factor model of interest rates////1996</td>\n",
       "      <td>a yield factor model of interest rates////1996</td>\n",
       "    </tr>\n",
       "    <tr>\n",
       "      <th>28045</th>\n",
       "      <td>22400</td>\n",
       "      <td>Duffee D. and Kan R.</td>\n",
       "      <td>1996.0</td>\n",
       "      <td>A Yield Factor Model of Interest Rates</td>\n",
       "      <td>” Mathematical of Finance  | 6</td>\n",
       "      <td>Duffee D. and Kan R. “A Yield Factor Model of ...</td>\n",
       "      <td>2004</td>\n",
       "      <td>error_solved_file/09800222.txt</td>\n",
       "      <td>한국파생상품학회</td>\n",
       "      <td>Nelson-Siegel모형을 이용한 이자율기간구조의 추정 및 예측</td>\n",
       "      <td>이준행</td>\n",
       "      <td>a yield factor model of interest rates////1996</td>\n",
       "      <td>a yield factor model of interest rates////1996</td>\n",
       "    </tr>\n",
       "    <tr>\n",
       "      <th>28046</th>\n",
       "      <td>22400</td>\n",
       "      <td>Duffee D. and Kan R.</td>\n",
       "      <td>1996.0</td>\n",
       "      <td>A Yield Factor Model of Interest Rates</td>\n",
       "      <td>” Mathematical of Finance  | 6</td>\n",
       "      <td>Duffee D. and Kan R. “A Yield Factor Model of ...</td>\n",
       "      <td>2004</td>\n",
       "      <td>error_solved_file/09800222.txt</td>\n",
       "      <td>한국파생상품학회</td>\n",
       "      <td>Nelson-Siegel모형을 이용한 이자율기간구조의 추정 및 예측</td>\n",
       "      <td>이준행</td>\n",
       "      <td>a yield factor model of interest rates////1996</td>\n",
       "      <td>a yield factor model of interest rates////1996</td>\n",
       "    </tr>\n",
       "    <tr>\n",
       "      <th>28047</th>\n",
       "      <td>22510</td>\n",
       "      <td>이승환</td>\n",
       "      <td>2009.0</td>\n",
       "      <td>통화옵션을 이용한 미래 원/달러 환율의 위험중립 확률분포 추정</td>\n",
       "      <td>” 「국제경제연구」  | 15 1</td>\n",
       "      <td>이승환 “통화옵션을 이용한 미래 원/달러 환율의 위험중립 확률분포 추정 ” 「국제경...</td>\n",
       "      <td>2011</td>\n",
       "      <td>error_solved_file/09800355.txt</td>\n",
       "      <td>한국파생상품학회</td>\n",
       "      <td>None</td>\n",
       "      <td>None</td>\n",
       "      <td>통화옵션을 이용한 미래 원/달러 환율의 위험중립 확률분포 추정////2009</td>\n",
       "      <td>통화옵션을 이용한 미래 원/달러 환율의 위험중립 확률분포 추정////2009</td>\n",
       "    </tr>\n",
       "  </tbody>\n",
       "</table>\n",
       "</div>"
      ],
      "text/plain": [
       "       index                 author    year  \\\n",
       "28043  22330                   태석준   1997.0   \n",
       "28044  22400  Duffee D. and Kan R.   1996.0   \n",
       "28045  22400  Duffee D. and Kan R.   1996.0   \n",
       "28046  22400  Duffee D. and Kan R.   1996.0   \n",
       "28047  22510                   이승환   2009.0   \n",
       "\n",
       "                                        paper  \\\n",
       "28043              한국 주가지수선물시장에서의 차익거래에 관한 연구   \n",
       "28044  A Yield Factor Model of Interest Rates   \n",
       "28045  A Yield Factor Model of Interest Rates   \n",
       "28046  A Yield Factor Model of Interest Rates   \n",
       "28047      통화옵션을 이용한 미래 원/달러 환율의 위험중립 확률분포 추정   \n",
       "\n",
       "                               journal  \\\n",
       "28043              ” ｢한국재무관리학회｣ 14  3    \n",
       "28044  ” Mathematical of Finance  | 6    \n",
       "28045  ” Mathematical of Finance  | 6    \n",
       "28046  ” Mathematical of Finance  | 6    \n",
       "28047              ” 「국제경제연구」  | 15 1    \n",
       "\n",
       "                                               refer_raw  citing_year  \\\n",
       "28043  태석준 “한국 주가지수선물시장에서의 차익거래에 관한 연구 ” ｢한국재무관리학회｣ 1...         2018   \n",
       "28044  Duffee D. and Kan R. “A Yield Factor Model of ...         2004   \n",
       "28045  Duffee D. and Kan R. “A Yield Factor Model of ...         2004   \n",
       "28046  Duffee D. and Kan R. “A Yield Factor Model of ...         2004   \n",
       "28047  이승환 “통화옵션을 이용한 미래 원/달러 환율의 위험중립 확률분포 추정 ” 「국제경...         2011   \n",
       "\n",
       "                                              path      from  \\\n",
       "28043  ../../paper_list/한국파생상품학회/2018/09800613.txt  한국파생상품학회   \n",
       "28044               error_solved_file/09800222.txt  한국파생상품학회   \n",
       "28045               error_solved_file/09800222.txt  한국파생상품학회   \n",
       "28046               error_solved_file/09800222.txt  한국파생상품학회   \n",
       "28047               error_solved_file/09800355.txt  한국파생상품학회   \n",
       "\n",
       "                                       citing_paper_name citing_paper_author  \\\n",
       "28043  KOSPI200 옵션과 미니옵션 페어트레이딩(Pairs Trading)전략의 수익성 분석                 이우백   \n",
       "28044              Nelson-Siegel모형을 이용한 이자율기간구조의 추정 및 예측                 이준행   \n",
       "28045              Nelson-Siegel모형을 이용한 이자율기간구조의 추정 및 예측                 이준행   \n",
       "28046              Nelson-Siegel모형을 이용한 이자율기간구조의 추정 및 예측                 이준행   \n",
       "28047                                               None                None   \n",
       "\n",
       "                                            new_paper  \\\n",
       "28043              한국 주가지수선물시장에서의 차익거래에 관한 연구////1997   \n",
       "28044  a yield factor model of interest rates////1996   \n",
       "28045  a yield factor model of interest rates////1996   \n",
       "28046  a yield factor model of interest rates////1996   \n",
       "28047      통화옵션을 이용한 미래 원/달러 환율의 위험중립 확률분포 추정////2009   \n",
       "\n",
       "                                      tuned_new_paper  \n",
       "28043              한국 주가지수선물시장에서의 차익거래에 관한 연구////1997  \n",
       "28044  a yield factor model of interest rates////1996  \n",
       "28045  a yield factor model of interest rates////1996  \n",
       "28046  a yield factor model of interest rates////1996  \n",
       "28047      통화옵션을 이용한 미래 원/달러 환율의 위험중립 확률분포 추정////2009  "
      ]
     },
     "execution_count": 11,
     "metadata": {},
     "output_type": "execute_result"
    }
   ],
   "source": [
    "base_df['tuned_new_paper'] = final_ls\n",
    "base_df.tail()"
   ]
  },
  {
   "cell_type": "code",
   "execution_count": 12,
   "metadata": {},
   "outputs": [],
   "source": [
    "base_df.to_csv(\"file/base_df2.csv\",index=False)"
   ]
  },
  {
   "cell_type": "code",
   "execution_count": 13,
   "metadata": {},
   "outputs": [],
   "source": [
    "from IPython.display import Markdown"
   ]
  },
  {
   "cell_type": "code",
   "execution_count": 14,
   "metadata": {},
   "outputs": [
    {
     "data": {
      "text/markdown": [
       "### 이전의 방법론"
      ],
      "text/plain": [
       "<IPython.core.display.Markdown object>"
      ]
     },
     "metadata": {},
     "output_type": "display_data"
    },
    {
     "data": {
      "text/html": [
       "<div>\n",
       "<style scoped>\n",
       "    .dataframe tbody tr th:only-of-type {\n",
       "        vertical-align: middle;\n",
       "    }\n",
       "\n",
       "    .dataframe tbody tr th {\n",
       "        vertical-align: top;\n",
       "    }\n",
       "\n",
       "    .dataframe thead th {\n",
       "        text-align: right;\n",
       "    }\n",
       "</style>\n",
       "<table border=\"1\" class=\"dataframe\">\n",
       "  <thead>\n",
       "    <tr style=\"text-align: right;\">\n",
       "      <th></th>\n",
       "      <th>count</th>\n",
       "    </tr>\n",
       "  </thead>\n",
       "  <tbody>\n",
       "    <tr>\n",
       "      <th>common risk factors in the returns on stocks and bonds////1993</th>\n",
       "      <td>180</td>\n",
       "    </tr>\n",
       "    <tr>\n",
       "      <th>on persistence in mutual fund performance////1997</th>\n",
       "      <td>108</td>\n",
       "    </tr>\n",
       "    <tr>\n",
       "      <th>the pricing of options and corporate liabilities////1973</th>\n",
       "      <td>101</td>\n",
       "    </tr>\n",
       "    <tr>\n",
       "      <th>risk return and equilibrium: empirical tests////1973</th>\n",
       "      <td>95</td>\n",
       "    </tr>\n",
       "    <tr>\n",
       "      <th>theory of the firm: managerial behavior agency costs and ownership structure////1976</th>\n",
       "      <td>88</td>\n",
       "    </tr>\n",
       "    <tr>\n",
       "      <th>the cross-section of expected stock returns////1992</th>\n",
       "      <td>67</td>\n",
       "    </tr>\n",
       "    <tr>\n",
       "      <th>corporate financing and investment decisions when firms have information that investors do not have////1984</th>\n",
       "      <td>65</td>\n",
       "    </tr>\n",
       "    <tr>\n",
       "      <th>tunneling////2000</th>\n",
       "      <td>65</td>\n",
       "    </tr>\n",
       "    <tr>\n",
       "      <th>common risk factors in the returns on bonds and stocks////1993</th>\n",
       "      <td>64</td>\n",
       "    </tr>\n",
       "    <tr>\n",
       "      <th>stock index futures////2006</th>\n",
       "      <td>55</td>\n",
       "    </tr>\n",
       "  </tbody>\n",
       "</table>\n",
       "</div>"
      ],
      "text/plain": [
       "                                                    count\n",
       "common risk factors in the returns on stocks an...    180\n",
       "on persistence in mutual fund performance////1997     108\n",
       "the pricing of options and corporate liabilitie...    101\n",
       "risk return and equilibrium: empirical tests///...     95\n",
       "theory of the firm: managerial behavior agency ...     88\n",
       "the cross-section of expected stock returns////...     67\n",
       "corporate financing and investment decisions wh...     65\n",
       "tunneling////2000                                      65\n",
       "common risk factors in the returns on bonds and...     64\n",
       "stock index futures////2006                            55"
      ]
     },
     "metadata": {},
     "output_type": "display_data"
    },
    {
     "data": {
      "text/markdown": [
       "### 개선된 방법론"
      ],
      "text/plain": [
       "<IPython.core.display.Markdown object>"
      ]
     },
     "metadata": {},
     "output_type": "display_data"
    },
    {
     "data": {
      "text/html": [
       "<div>\n",
       "<style scoped>\n",
       "    .dataframe tbody tr th:only-of-type {\n",
       "        vertical-align: middle;\n",
       "    }\n",
       "\n",
       "    .dataframe tbody tr th {\n",
       "        vertical-align: top;\n",
       "    }\n",
       "\n",
       "    .dataframe thead th {\n",
       "        text-align: right;\n",
       "    }\n",
       "</style>\n",
       "<table border=\"1\" class=\"dataframe\">\n",
       "  <thead>\n",
       "    <tr style=\"text-align: right;\">\n",
       "      <th></th>\n",
       "      <th>count</th>\n",
       "    </tr>\n",
       "  </thead>\n",
       "  <tbody>\n",
       "    <tr>\n",
       "      <th>common risk factors in the returns   on stocks and bonds////1993</th>\n",
       "      <td>306</td>\n",
       "    </tr>\n",
       "    <tr>\n",
       "      <th>theory of the firm: managerial behavior agency  costs and ownership structure////1976</th>\n",
       "      <td>185</td>\n",
       "    </tr>\n",
       "    <tr>\n",
       "      <th>on persistence in mutual fund performance////1997</th>\n",
       "      <td>138</td>\n",
       "    </tr>\n",
       "    <tr>\n",
       "      <th>risk return and equilibrium : empirical tests////1973</th>\n",
       "      <td>118</td>\n",
       "    </tr>\n",
       "    <tr>\n",
       "      <th>returns to buying winners and selling losers:  implications for stock market efficiency////1993</th>\n",
       "      <td>108</td>\n",
       "    </tr>\n",
       "    <tr>\n",
       "      <th>the pricing of options and corporate liabilities////1973</th>\n",
       "      <td>106</td>\n",
       "    </tr>\n",
       "    <tr>\n",
       "      <th>agency costs of free cash flow : corporate finance and takeovers////1986</th>\n",
       "      <td>100</td>\n",
       "    </tr>\n",
       "    <tr>\n",
       "      <th>corporate financing and investment decisions when firms have information that investors do not have////1984</th>\n",
       "      <td>94</td>\n",
       "    </tr>\n",
       "    <tr>\n",
       "      <th>studies of stock price volatility changes////1976</th>\n",
       "      <td>82</td>\n",
       "    </tr>\n",
       "    <tr>\n",
       "      <th>a simple positive semi-definite heteroskedasticity and autocorrelation consistent covariance matrix////1987</th>\n",
       "      <td>70</td>\n",
       "    </tr>\n",
       "  </tbody>\n",
       "</table>\n",
       "</div>"
      ],
      "text/plain": [
       "                                                    count\n",
       "common risk factors in the returns   on stocks ...    306\n",
       "theory of the firm: managerial behavior agency ...    185\n",
       "on persistence in mutual fund performance////1997     138\n",
       "risk return and equilibrium : empirical tests//...    118\n",
       "returns to buying winners and selling losers:  ...    108\n",
       "the pricing of options and corporate liabilitie...    106\n",
       "agency costs of free cash flow : corporate fina...    100\n",
       "corporate financing and investment decisions wh...     94\n",
       "studies of stock price volatility changes////1976      82\n",
       "a simple positive semi-definite heteroskedastic...     70"
      ]
     },
     "metadata": {},
     "output_type": "display_data"
    }
   ],
   "source": [
    "display(Markdown('### 이전의 방법론'))\n",
    "display(pd.DataFrame.from_dict(Counter(base_df['new_paper']),orient='index',columns=['count']).sort_values('count',ascending=False).head(10))\n",
    "display(Markdown('### 개선된 방법론'))\n",
    "display(pd.DataFrame.from_dict(Counter(base_df['tuned_new_paper']),orient='index',columns=['count']).sort_values('count',ascending=False).head(10))"
   ]
  },
  {
   "cell_type": "code",
   "execution_count": 15,
   "metadata": {},
   "outputs": [],
   "source": [
    "paper_counter_df = pd.DataFrame.from_dict(Counter(base_df['tuned_new_paper']),orient='index',columns=['count']).sort_values('count',ascending=False)\n",
    "paper_counter_df.reset_index(inplace=True)"
   ]
  },
  {
   "cell_type": "code",
   "execution_count": 16,
   "metadata": {},
   "outputs": [],
   "source": [
    "paper_counter_df.to_csv('file/paper_counter_df.csv',index=False)"
   ]
  },
  {
   "cell_type": "code",
   "execution_count": 17,
   "metadata": {},
   "outputs": [],
   "source": [
    "import pickle"
   ]
  },
  {
   "cell_type": "code",
   "execution_count": 18,
   "metadata": {},
   "outputs": [],
   "source": [
    "pickle_out = open(\"file/paper_ready_to_target_dict.pickle\",\"wb\")\n",
    "pickle.dump(ready_to_target_dict, pickle_out)\n",
    "pickle_out.close()"
   ]
  },
  {
   "cell_type": "markdown",
   "metadata": {},
   "source": [
    "___________________________"
   ]
  },
  {
   "cell_type": "markdown",
   "metadata": {},
   "source": [
    "#### 여태까지 저널에 관계없이 전체 논문에 대한 dictionary 와 paper_frequency_table 을 형성하였다. \n",
    "#### 아래에서부터는 각 저널별로 paper_frequency_table 을 생성한다. dictionary는 변하지 않는다."
   ]
  },
  {
   "cell_type": "code",
   "execution_count": 19,
   "metadata": {},
   "outputs": [],
   "source": [
    "fm_base_df = pd.read_csv('file/fm_base_df1.csv')\n",
    "f_base_df = pd.read_csv('file/f_base_df1.csv')\n",
    "sc_base_df = pd.read_csv('file/sc_base_df1.csv')\n",
    "dr_base_df = pd.read_csv('file/dr_base_df1.csv')"
   ]
  },
  {
   "cell_type": "code",
   "execution_count": 24,
   "metadata": {},
   "outputs": [],
   "source": [
    "def make_new_paper(base_df) :\n",
    "    base_df['new_paper'] = \\\n",
    "    [base_df['paper'][idx] + '////' + str(base_df['year'][idx]).split(\".\")[0] for idx in range(len(base_df))]\n",
    "\n",
    "    base_df['new_paper'] = base_df['new_paper'].apply(lambda x : x.lower())\n",
    "\n",
    "    return base_df.loc\\\n",
    "[:,['author','year','paper','journal','refer_raw','new_paper','citing_year','path','from','citing_paper_name','citing_paper_author']]"
   ]
  },
  {
   "cell_type": "code",
   "execution_count": 25,
   "metadata": {},
   "outputs": [],
   "source": [
    "fm_base_df = make_new_paper(fm_base_df)\n",
    "f_base_df = make_new_paper(f_base_df)\n",
    "sc_base_df = make_new_paper(sc_base_df)\n",
    "dr_base_df = make_new_paper(dr_base_df)"
   ]
  },
  {
   "cell_type": "code",
   "execution_count": 27,
   "metadata": {},
   "outputs": [],
   "source": [
    "ready_to_target_dict = []\n",
    "with (open(\"paper_ready_to_target_dict.pickle\", \"rb\")) as openfile:\n",
    "    while True:\n",
    "        try:\n",
    "            ready_to_target_dict.append(pickle.load(openfile))\n",
    "        except EOFError:\n",
    "            break"
   ]
  },
  {
   "cell_type": "code",
   "execution_count": 28,
   "metadata": {},
   "outputs": [
    {
     "data": {
      "text/plain": [
       "1064"
      ]
     },
     "execution_count": 28,
     "metadata": {},
     "output_type": "execute_result"
    }
   ],
   "source": [
    "ready_to_target_dict = ready_to_target_dict[0]\n",
    "len(ready_to_target_dict.keys())"
   ]
  },
  {
   "cell_type": "code",
   "execution_count": 30,
   "metadata": {},
   "outputs": [],
   "source": [
    "def final_process(base_df,ready_to_target_dict):\n",
    "    final_ls = []\n",
    "    process_ls = []\n",
    "    error_ls = []\n",
    "\n",
    "    for idx1 , val in enumerate(base_df['new_paper']) : \n",
    "        process_ls = []\n",
    "        for idx2, key_ in enumerate(list(ready_to_target_dict.keys())) : \n",
    "            if val in ready_to_target_dict.get(key_) : \n",
    "                process_ls.append(key_)\n",
    "\n",
    "        if len(process_ls) == 1 :\n",
    "            final_ls.append(process_ls[0])\n",
    "        elif len(process_ls) == 0 :\n",
    "            final_ls.append(val)\n",
    "        else : final_ls.append(val)\n",
    "\n",
    "    if len(final_ls) == len(base_df) :\n",
    "        print('Lower uniqueness Better Performance, orgin uniqueness: {} , revised uniqueness : {}'.format(len(set(base_df['new_paper'])),len(set(final_ls))))\n",
    "        base_df['tuned_new_paper'] = final_ls\n",
    "        del base_df['new_paper']\n",
    "        return base_df\n",
    "    else : raise TypeError('error')"
   ]
  },
  {
   "cell_type": "code",
   "execution_count": 31,
   "metadata": {},
   "outputs": [
    {
     "name": "stdout",
     "output_type": "stream",
     "text": [
      "Lower uniqueness Better Performance, orgin uniqueness: 8156 , revised uniqueness : 7791\n",
      "Lower uniqueness Better Performance, orgin uniqueness: 5583 , revised uniqueness : 5374\n",
      "Lower uniqueness Better Performance, orgin uniqueness: 3560 , revised uniqueness : 3374\n",
      "Lower uniqueness Better Performance, orgin uniqueness: 2208 , revised uniqueness : 2149\n"
     ]
    }
   ],
   "source": [
    "fm_final_df = final_process(fm_base_df,ready_to_target_dict)\n",
    "f_final_df = final_process(f_base_df,ready_to_target_dict)\n",
    "sc_final_df = final_process(sc_base_df,ready_to_target_dict)\n",
    "dr_final_df = final_process(dr_base_df,ready_to_target_dict)"
   ]
  },
  {
   "cell_type": "code",
   "execution_count": 33,
   "metadata": {},
   "outputs": [],
   "source": [
    "fm_final_df.to_csv('file/fm_base_df2.csv',index=False)\n",
    "f_final_df.to_csv('file/f_base_df2.csv',index=False)\n",
    "sc_final_df.to_csv('file/sc_base_df2.csv',index=False)\n",
    "dr_final_df.to_csv('file/dr_base_df2.csv',index=False)"
   ]
  },
  {
   "cell_type": "code",
   "execution_count": 34,
   "metadata": {},
   "outputs": [],
   "source": [
    "def make_counter_df_under_journal(base_df) :\n",
    "    print('total length of this dataframe is {}'.format(len(base_df)))\n",
    "    df1 = pd.DataFrame.from_dict(Counter(base_df['tuned_new_paper'].tolist()),orient='index',columns=['count'])\n",
    "    df2 = df1.sort_values('count',ascending=False)\n",
    "    return df2"
   ]
  },
  {
   "cell_type": "code",
   "execution_count": 35,
   "metadata": {},
   "outputs": [
    {
     "data": {
      "text/markdown": [
       "### 한국재무관리학회"
      ],
      "text/plain": [
       "<IPython.core.display.Markdown object>"
      ]
     },
     "metadata": {},
     "output_type": "display_data"
    },
    {
     "name": "stdout",
     "output_type": "stream",
     "text": [
      "total length of this dataframe is 10844\n"
     ]
    },
    {
     "data": {
      "text/html": [
       "<div>\n",
       "<style scoped>\n",
       "    .dataframe tbody tr th:only-of-type {\n",
       "        vertical-align: middle;\n",
       "    }\n",
       "\n",
       "    .dataframe tbody tr th {\n",
       "        vertical-align: top;\n",
       "    }\n",
       "\n",
       "    .dataframe thead th {\n",
       "        text-align: right;\n",
       "    }\n",
       "</style>\n",
       "<table border=\"1\" class=\"dataframe\">\n",
       "  <thead>\n",
       "    <tr style=\"text-align: right;\">\n",
       "      <th></th>\n",
       "      <th>count</th>\n",
       "    </tr>\n",
       "  </thead>\n",
       "  <tbody>\n",
       "    <tr>\n",
       "      <th>theory of the firm: managerial behavior agency  costs and ownership structure////1976</th>\n",
       "      <td>51</td>\n",
       "    </tr>\n",
       "    <tr>\n",
       "      <th>limit order trading////1996</th>\n",
       "      <td>44</td>\n",
       "    </tr>\n",
       "    <tr>\n",
       "      <th>agency costs of free cash flow : corporate finance and takeovers////1986</th>\n",
       "      <td>38</td>\n",
       "    </tr>\n",
       "    <tr>\n",
       "      <th>studies of stock price volatility changes////1976</th>\n",
       "      <td>36</td>\n",
       "    </tr>\n",
       "    <tr>\n",
       "      <th>a simple positive semi-definite heteroskedasticity and autocorrelation consistent covariance matrix////1987</th>\n",
       "      <td>31</td>\n",
       "    </tr>\n",
       "    <tr>\n",
       "      <th>common risk factors in the returns   on stocks and bonds////1993</th>\n",
       "      <td>31</td>\n",
       "    </tr>\n",
       "    <tr>\n",
       "      <th>corporate financing and investment decisions when firms have information that investors do not have////1984</th>\n",
       "      <td>31</td>\n",
       "    </tr>\n",
       "    <tr>\n",
       "      <th>tunneling////2000</th>\n",
       "      <td>28</td>\n",
       "    </tr>\n",
       "    <tr>\n",
       "      <th>heteroscedasticity in stock returns////1990</th>\n",
       "      <td>25</td>\n",
       "    </tr>\n",
       "    <tr>\n",
       "      <th>the cross-section of expected stock returns////1992</th>\n",
       "      <td>23</td>\n",
       "    </tr>\n",
       "  </tbody>\n",
       "</table>\n",
       "</div>"
      ],
      "text/plain": [
       "                                                    count\n",
       "theory of the firm: managerial behavior agency ...     51\n",
       "limit order trading////1996                            44\n",
       "agency costs of free cash flow : corporate fina...     38\n",
       "studies of stock price volatility changes////1976      36\n",
       "a simple positive semi-definite heteroskedastic...     31\n",
       "common risk factors in the returns   on stocks ...     31\n",
       "corporate financing and investment decisions wh...     31\n",
       "tunneling////2000                                      28\n",
       "heteroscedasticity in stock returns////1990            25\n",
       "the cross-section of expected stock returns////...     23"
      ]
     },
     "metadata": {},
     "output_type": "display_data"
    },
    {
     "data": {
      "text/markdown": [
       "### 한국재무학회"
      ],
      "text/plain": [
       "<IPython.core.display.Markdown object>"
      ]
     },
     "metadata": {},
     "output_type": "display_data"
    },
    {
     "name": "stdout",
     "output_type": "stream",
     "text": [
      "total length of this dataframe is 6913\n"
     ]
    },
    {
     "data": {
      "text/html": [
       "<div>\n",
       "<style scoped>\n",
       "    .dataframe tbody tr th:only-of-type {\n",
       "        vertical-align: middle;\n",
       "    }\n",
       "\n",
       "    .dataframe tbody tr th {\n",
       "        vertical-align: top;\n",
       "    }\n",
       "\n",
       "    .dataframe thead th {\n",
       "        text-align: right;\n",
       "    }\n",
       "</style>\n",
       "<table border=\"1\" class=\"dataframe\">\n",
       "  <thead>\n",
       "    <tr style=\"text-align: right;\">\n",
       "      <th></th>\n",
       "      <th>count</th>\n",
       "    </tr>\n",
       "  </thead>\n",
       "  <tbody>\n",
       "    <tr>\n",
       "      <th>common risk factors in the returns   on stocks and bonds////1993</th>\n",
       "      <td>30</td>\n",
       "    </tr>\n",
       "    <tr>\n",
       "      <th>risk return and equilibrium : empirical tests////1973</th>\n",
       "      <td>20</td>\n",
       "    </tr>\n",
       "    <tr>\n",
       "      <th>tunneling////2000</th>\n",
       "      <td>20</td>\n",
       "    </tr>\n",
       "    <tr>\n",
       "      <th>agency costs of free cash flow : corporate finance and takeovers////1986</th>\n",
       "      <td>19</td>\n",
       "    </tr>\n",
       "    <tr>\n",
       "      <th>continuous auction and insider trading////1985</th>\n",
       "      <td>17</td>\n",
       "    </tr>\n",
       "    <tr>\n",
       "      <th>corporate financing and investment decisions when firms have information that investors do not have////1984</th>\n",
       "      <td>17</td>\n",
       "    </tr>\n",
       "    <tr>\n",
       "      <th>executive compensation////1999</th>\n",
       "      <td>15</td>\n",
       "    </tr>\n",
       "    <tr>\n",
       "      <th>on persistence in mutual fund performance////1997</th>\n",
       "      <td>14</td>\n",
       "    </tr>\n",
       "    <tr>\n",
       "      <th>returns to buying winners and selling losers:  implications for stock market efficiency////1993</th>\n",
       "      <td>13</td>\n",
       "    </tr>\n",
       "    <tr>\n",
       "      <th>a simple positive semi-definite heteroskedasticity and autocorrelation consistent covariance matrix////1987</th>\n",
       "      <td>12</td>\n",
       "    </tr>\n",
       "  </tbody>\n",
       "</table>\n",
       "</div>"
      ],
      "text/plain": [
       "                                                    count\n",
       "common risk factors in the returns   on stocks ...     30\n",
       "risk return and equilibrium : empirical tests//...     20\n",
       "tunneling////2000                                      20\n",
       "agency costs of free cash flow : corporate fina...     19\n",
       "continuous auction and insider trading////1985         17\n",
       "corporate financing and investment decisions wh...     17\n",
       "executive compensation////1999                         15\n",
       "on persistence in mutual fund performance////1997      14\n",
       "returns to buying winners and selling losers:  ...     13\n",
       "a simple positive semi-definite heteroskedastic...     12"
      ]
     },
     "metadata": {},
     "output_type": "display_data"
    },
    {
     "data": {
      "text/markdown": [
       "### 한국증권학회"
      ],
      "text/plain": [
       "<IPython.core.display.Markdown object>"
      ]
     },
     "metadata": {},
     "output_type": "display_data"
    },
    {
     "name": "stdout",
     "output_type": "stream",
     "text": [
      "total length of this dataframe is 7271\n"
     ]
    },
    {
     "data": {
      "text/html": [
       "<div>\n",
       "<style scoped>\n",
       "    .dataframe tbody tr th:only-of-type {\n",
       "        vertical-align: middle;\n",
       "    }\n",
       "\n",
       "    .dataframe tbody tr th {\n",
       "        vertical-align: top;\n",
       "    }\n",
       "\n",
       "    .dataframe thead th {\n",
       "        text-align: right;\n",
       "    }\n",
       "</style>\n",
       "<table border=\"1\" class=\"dataframe\">\n",
       "  <thead>\n",
       "    <tr style=\"text-align: right;\">\n",
       "      <th></th>\n",
       "      <th>count</th>\n",
       "    </tr>\n",
       "  </thead>\n",
       "  <tbody>\n",
       "    <tr>\n",
       "      <th>common risk factors in the returns   on stocks and bonds////1993</th>\n",
       "      <td>178</td>\n",
       "    </tr>\n",
       "    <tr>\n",
       "      <th>theory of the firm: managerial behavior agency  costs and ownership structure////1976</th>\n",
       "      <td>123</td>\n",
       "    </tr>\n",
       "    <tr>\n",
       "      <th>on persistence in mutual fund performance////1997</th>\n",
       "      <td>102</td>\n",
       "    </tr>\n",
       "    <tr>\n",
       "      <th>the pricing of options and corporate liabilities////1973</th>\n",
       "      <td>73</td>\n",
       "    </tr>\n",
       "    <tr>\n",
       "      <th>risk return and equilibrium : empirical tests////1973</th>\n",
       "      <td>73</td>\n",
       "    </tr>\n",
       "    <tr>\n",
       "      <th>returns to buying winners and selling losers:  implications for stock market efficiency////1993</th>\n",
       "      <td>67</td>\n",
       "    </tr>\n",
       "    <tr>\n",
       "      <th>tunneling or value added? evidence from mergers by korean business grups////2002</th>\n",
       "      <td>58</td>\n",
       "    </tr>\n",
       "    <tr>\n",
       "      <th>corporate financing and investment decisions when firms have information that investors do not have////1984</th>\n",
       "      <td>45</td>\n",
       "    </tr>\n",
       "    <tr>\n",
       "      <th>agency costs of free cash flow : corporate finance and takeovers////1986</th>\n",
       "      <td>43</td>\n",
       "    </tr>\n",
       "    <tr>\n",
       "      <th>corporate governance and firm value： evidence from the korean financial crisis////2004</th>\n",
       "      <td>41</td>\n",
       "    </tr>\n",
       "  </tbody>\n",
       "</table>\n",
       "</div>"
      ],
      "text/plain": [
       "                                                    count\n",
       "common risk factors in the returns   on stocks ...    178\n",
       "theory of the firm: managerial behavior agency ...    123\n",
       "on persistence in mutual fund performance////1997     102\n",
       "the pricing of options and corporate liabilitie...     73\n",
       "risk return and equilibrium : empirical tests//...     73\n",
       "returns to buying winners and selling losers:  ...     67\n",
       "tunneling or value added? evidence from mergers...     58\n",
       "corporate financing and investment decisions wh...     45\n",
       "agency costs of free cash flow : corporate fina...     43\n",
       "corporate governance and firm value： evidence f...     41"
      ]
     },
     "metadata": {},
     "output_type": "display_data"
    },
    {
     "data": {
      "text/markdown": [
       "### 한국파생상품학회"
      ],
      "text/plain": [
       "<IPython.core.display.Markdown object>"
      ]
     },
     "metadata": {},
     "output_type": "display_data"
    },
    {
     "name": "stdout",
     "output_type": "stream",
     "text": [
      "total length of this dataframe is 3020\n"
     ]
    },
    {
     "data": {
      "text/html": [
       "<div>\n",
       "<style scoped>\n",
       "    .dataframe tbody tr th:only-of-type {\n",
       "        vertical-align: middle;\n",
       "    }\n",
       "\n",
       "    .dataframe tbody tr th {\n",
       "        vertical-align: top;\n",
       "    }\n",
       "\n",
       "    .dataframe thead th {\n",
       "        text-align: right;\n",
       "    }\n",
       "</style>\n",
       "<table border=\"1\" class=\"dataframe\">\n",
       "  <thead>\n",
       "    <tr style=\"text-align: right;\">\n",
       "      <th></th>\n",
       "      <th>count</th>\n",
       "    </tr>\n",
       "  </thead>\n",
       "  <tbody>\n",
       "    <tr>\n",
       "      <th>common risk factors in the returns   on stocks and bonds////1993</th>\n",
       "      <td>40</td>\n",
       "    </tr>\n",
       "    <tr>\n",
       "      <th>stock index futures////2006</th>\n",
       "      <td>33</td>\n",
       "    </tr>\n",
       "    <tr>\n",
       "      <th>studies of stock price volatility changes////1976</th>\n",
       "      <td>24</td>\n",
       "    </tr>\n",
       "    <tr>\n",
       "      <th>ratio////2007</th>\n",
       "      <td>22</td>\n",
       "    </tr>\n",
       "    <tr>\n",
       "      <th>asset pricing////2001</th>\n",
       "      <td>17</td>\n",
       "    </tr>\n",
       "    <tr>\n",
       "      <th>a theory of volatility spreads////2006</th>\n",
       "      <td>16</td>\n",
       "    </tr>\n",
       "    <tr>\n",
       "      <th>stock return characteristics skew laws and the differential pricing of individual equity options////2003</th>\n",
       "      <td>15</td>\n",
       "    </tr>\n",
       "    <tr>\n",
       "      <th>explaining credit default swap spreads with the equity volatility and jump risks of individual firms////2009</th>\n",
       "      <td>15</td>\n",
       "    </tr>\n",
       "    <tr>\n",
       "      <th>option market activity////2007</th>\n",
       "      <td>14</td>\n",
       "    </tr>\n",
       "    <tr>\n",
       "      <th>a simple positive semi-definite heteroskedasticity and autocorrelation consistent covariance matrix////1987</th>\n",
       "      <td>14</td>\n",
       "    </tr>\n",
       "  </tbody>\n",
       "</table>\n",
       "</div>"
      ],
      "text/plain": [
       "                                                    count\n",
       "common risk factors in the returns   on stocks ...     40\n",
       "stock index futures////2006                            33\n",
       "studies of stock price volatility changes////1976      24\n",
       "ratio////2007                                          22\n",
       "asset pricing////2001                                  17\n",
       "a theory of volatility spreads////2006                 16\n",
       "stock return characteristics skew laws and the ...     15\n",
       "explaining credit default swap spreads with the...     15\n",
       "option market activity////2007                         14\n",
       "a simple positive semi-definite heteroskedastic...     14"
      ]
     },
     "metadata": {},
     "output_type": "display_data"
    }
   ],
   "source": [
    "display(Markdown('### 한국재무관리학회'))\n",
    "display(make_counter_df_under_journal(fm_final_df).head(10))\n",
    "display(Markdown('### 한국재무학회'))\n",
    "display(make_counter_df_under_journal(f_final_df).head(10))\n",
    "display(Markdown('### 한국증권학회'))\n",
    "display(make_counter_df_under_journal(sc_final_df).head(10))\n",
    "display(Markdown('### 한국파생상품학회'))\n",
    "display(make_counter_df_under_journal(dr_final_df).head(10))"
   ]
  }
 ],
 "metadata": {
  "kernelspec": {
   "display_name": "Python 3",
   "language": "python",
   "name": "python3"
  },
  "language_info": {
   "codemirror_mode": {
    "name": "ipython",
    "version": 3
   },
   "file_extension": ".py",
   "mimetype": "text/x-python",
   "name": "python",
   "nbconvert_exporter": "python",
   "pygments_lexer": "ipython3",
   "version": "3.6.6"
  }
 },
 "nbformat": 4,
 "nbformat_minor": 2
}
