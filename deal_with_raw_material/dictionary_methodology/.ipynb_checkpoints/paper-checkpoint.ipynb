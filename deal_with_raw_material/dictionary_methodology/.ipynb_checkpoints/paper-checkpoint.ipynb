{
 "cells": [
  {
   "cell_type": "code",
   "execution_count": 1,
   "metadata": {},
   "outputs": [],
   "source": [
    "import sys\n",
    "sys.path.append('../personal_pkgs/')\n",
    "import pickle\n",
    "import pandas as pd\n",
    "import oop_func as func\n",
    "import personal_pkg as ref\n",
    "import parsing_func as pars\n",
    "import os\n",
    "import re\n",
    "from collections import Counter\n",
    "import warnings\n",
    "warnings.filterwarnings(\"ignore\")\n",
    "from IPython.display import Markdown"
   ]
  },
  {
   "cell_type": "code",
   "execution_count": 5,
   "metadata": {
    "scrolled": false
   },
   "outputs": [
    {
     "data": {
      "text/html": [
       "<div>\n",
       "<style scoped>\n",
       "    .dataframe tbody tr th:only-of-type {\n",
       "        vertical-align: middle;\n",
       "    }\n",
       "\n",
       "    .dataframe tbody tr th {\n",
       "        vertical-align: top;\n",
       "    }\n",
       "\n",
       "    .dataframe thead th {\n",
       "        text-align: right;\n",
       "    }\n",
       "</style>\n",
       "<table border=\"1\" class=\"dataframe\">\n",
       "  <thead>\n",
       "    <tr style=\"text-align: right;\">\n",
       "      <th></th>\n",
       "      <th>author</th>\n",
       "      <th>from</th>\n",
       "      <th>index</th>\n",
       "      <th>journal</th>\n",
       "      <th>paper</th>\n",
       "      <th>year</th>\n",
       "    </tr>\n",
       "  </thead>\n",
       "  <tbody>\n",
       "    <tr>\n",
       "      <th>22672</th>\n",
       "      <td>Bakshi G. and D. Madan</td>\n",
       "      <td>한국파생상품학회</td>\n",
       "      <td>19259.0</td>\n",
       "      <td>” Management Science 52 12</td>\n",
       "      <td>A theory of volatility spreads</td>\n",
       "      <td>2006.0</td>\n",
       "    </tr>\n",
       "    <tr>\n",
       "      <th>22673</th>\n",
       "      <td>Bakshi G. and D. Madan</td>\n",
       "      <td>한국파생상품학회</td>\n",
       "      <td>19259.0</td>\n",
       "      <td>” Management Science 52 12</td>\n",
       "      <td>A theory of volatility spreads</td>\n",
       "      <td>2006.0</td>\n",
       "    </tr>\n",
       "    <tr>\n",
       "      <th>22674</th>\n",
       "      <td>Bakshi G. and D. Madan</td>\n",
       "      <td>한국파생상품학회</td>\n",
       "      <td>19259.0</td>\n",
       "      <td>” Management Science 52 12</td>\n",
       "      <td>A theory of volatility spreads</td>\n",
       "      <td>2006.0</td>\n",
       "    </tr>\n",
       "    <tr>\n",
       "      <th>22675</th>\n",
       "      <td>Bakshi G. and D. Madan</td>\n",
       "      <td>한국파생상품학회</td>\n",
       "      <td>19259.0</td>\n",
       "      <td>” Management Science 52 12</td>\n",
       "      <td>A theory of volatility spreads</td>\n",
       "      <td>2006.0</td>\n",
       "    </tr>\n",
       "    <tr>\n",
       "      <th>22676</th>\n",
       "      <td>Bakshi G. and D. Madan</td>\n",
       "      <td>한국파생상품학회</td>\n",
       "      <td>19259.0</td>\n",
       "      <td>” Management Science 52 12</td>\n",
       "      <td>A theory of volatility spreads</td>\n",
       "      <td>2006.0</td>\n",
       "    </tr>\n",
       "  </tbody>\n",
       "</table>\n",
       "</div>"
      ],
      "text/plain": [
       "                        author      from    index  \\\n",
       "22672  Bakshi G. and D. Madan   한국파생상품학회  19259.0   \n",
       "22673  Bakshi G. and D. Madan   한국파생상품학회  19259.0   \n",
       "22674  Bakshi G. and D. Madan   한국파생상품학회  19259.0   \n",
       "22675  Bakshi G. and D. Madan   한국파생상품학회  19259.0   \n",
       "22676  Bakshi G. and D. Madan   한국파생상품학회  19259.0   \n",
       "\n",
       "                           journal                           paper    year  \n",
       "22672  ” Management Science 52 12   A theory of volatility spreads  2006.0  \n",
       "22673  ” Management Science 52 12   A theory of volatility spreads  2006.0  \n",
       "22674  ” Management Science 52 12   A theory of volatility spreads  2006.0  \n",
       "22675  ” Management Science 52 12   A theory of volatility spreads  2006.0  \n",
       "22676  ” Management Science 52 12   A theory of volatility spreads  2006.0  "
      ]
     },
     "execution_count": 5,
     "metadata": {},
     "output_type": "execute_result"
    }
   ],
   "source": [
    "base_df = pd.read_csv('base_df.csv')\n",
    "base_df.tail()"
   ]
  },
  {
   "cell_type": "code",
   "execution_count": 6,
   "metadata": {},
   "outputs": [
    {
     "data": {
      "text/html": [
       "<div>\n",
       "<style scoped>\n",
       "    .dataframe tbody tr th:only-of-type {\n",
       "        vertical-align: middle;\n",
       "    }\n",
       "\n",
       "    .dataframe tbody tr th {\n",
       "        vertical-align: top;\n",
       "    }\n",
       "\n",
       "    .dataframe thead th {\n",
       "        text-align: right;\n",
       "    }\n",
       "</style>\n",
       "<table border=\"1\" class=\"dataframe\">\n",
       "  <thead>\n",
       "    <tr style=\"text-align: right;\">\n",
       "      <th></th>\n",
       "      <th>author</th>\n",
       "      <th>from</th>\n",
       "      <th>index</th>\n",
       "      <th>journal</th>\n",
       "      <th>paper</th>\n",
       "      <th>year</th>\n",
       "      <th>new_paper</th>\n",
       "    </tr>\n",
       "  </thead>\n",
       "  <tbody>\n",
       "    <tr>\n",
       "      <th>22672</th>\n",
       "      <td>Bakshi G. and D. Madan</td>\n",
       "      <td>한국파생상품학회</td>\n",
       "      <td>19259.0</td>\n",
       "      <td>” Management Science 52 12</td>\n",
       "      <td>A theory of volatility spreads</td>\n",
       "      <td>2006.0</td>\n",
       "      <td>a theory of volatility spreads////2006</td>\n",
       "    </tr>\n",
       "    <tr>\n",
       "      <th>22673</th>\n",
       "      <td>Bakshi G. and D. Madan</td>\n",
       "      <td>한국파생상품학회</td>\n",
       "      <td>19259.0</td>\n",
       "      <td>” Management Science 52 12</td>\n",
       "      <td>A theory of volatility spreads</td>\n",
       "      <td>2006.0</td>\n",
       "      <td>a theory of volatility spreads////2006</td>\n",
       "    </tr>\n",
       "    <tr>\n",
       "      <th>22674</th>\n",
       "      <td>Bakshi G. and D. Madan</td>\n",
       "      <td>한국파생상품학회</td>\n",
       "      <td>19259.0</td>\n",
       "      <td>” Management Science 52 12</td>\n",
       "      <td>A theory of volatility spreads</td>\n",
       "      <td>2006.0</td>\n",
       "      <td>a theory of volatility spreads////2006</td>\n",
       "    </tr>\n",
       "    <tr>\n",
       "      <th>22675</th>\n",
       "      <td>Bakshi G. and D. Madan</td>\n",
       "      <td>한국파생상품학회</td>\n",
       "      <td>19259.0</td>\n",
       "      <td>” Management Science 52 12</td>\n",
       "      <td>A theory of volatility spreads</td>\n",
       "      <td>2006.0</td>\n",
       "      <td>a theory of volatility spreads////2006</td>\n",
       "    </tr>\n",
       "    <tr>\n",
       "      <th>22676</th>\n",
       "      <td>Bakshi G. and D. Madan</td>\n",
       "      <td>한국파생상품학회</td>\n",
       "      <td>19259.0</td>\n",
       "      <td>” Management Science 52 12</td>\n",
       "      <td>A theory of volatility spreads</td>\n",
       "      <td>2006.0</td>\n",
       "      <td>a theory of volatility spreads////2006</td>\n",
       "    </tr>\n",
       "  </tbody>\n",
       "</table>\n",
       "</div>"
      ],
      "text/plain": [
       "                        author      from    index  \\\n",
       "22672  Bakshi G. and D. Madan   한국파생상품학회  19259.0   \n",
       "22673  Bakshi G. and D. Madan   한국파생상품학회  19259.0   \n",
       "22674  Bakshi G. and D. Madan   한국파생상품학회  19259.0   \n",
       "22675  Bakshi G. and D. Madan   한국파생상품학회  19259.0   \n",
       "22676  Bakshi G. and D. Madan   한국파생상품학회  19259.0   \n",
       "\n",
       "                           journal                           paper    year  \\\n",
       "22672  ” Management Science 52 12   A theory of volatility spreads  2006.0   \n",
       "22673  ” Management Science 52 12   A theory of volatility spreads  2006.0   \n",
       "22674  ” Management Science 52 12   A theory of volatility spreads  2006.0   \n",
       "22675  ” Management Science 52 12   A theory of volatility spreads  2006.0   \n",
       "22676  ” Management Science 52 12   A theory of volatility spreads  2006.0   \n",
       "\n",
       "                                    new_paper  \n",
       "22672  a theory of volatility spreads////2006  \n",
       "22673  a theory of volatility spreads////2006  \n",
       "22674  a theory of volatility spreads////2006  \n",
       "22675  a theory of volatility spreads////2006  \n",
       "22676  a theory of volatility spreads////2006  "
      ]
     },
     "execution_count": 6,
     "metadata": {},
     "output_type": "execute_result"
    }
   ],
   "source": [
    "base_df['new_paper'] = \\\n",
    "[base_df['paper'][idx] + '////' + str(base_df['year'][idx]).split(\".\")[0] for idx in range(len(base_df))]\n",
    "\n",
    "base_df['new_paper'] = base_df['new_paper'].apply(lambda x : x.lower())\n",
    "\n",
    "base_df.tail()"
   ]
  },
  {
   "cell_type": "code",
   "execution_count": 7,
   "metadata": {},
   "outputs": [
    {
     "data": {
      "text/html": [
       "<div>\n",
       "<style scoped>\n",
       "    .dataframe tbody tr th:only-of-type {\n",
       "        vertical-align: middle;\n",
       "    }\n",
       "\n",
       "    .dataframe tbody tr th {\n",
       "        vertical-align: top;\n",
       "    }\n",
       "\n",
       "    .dataframe thead th {\n",
       "        text-align: right;\n",
       "    }\n",
       "</style>\n",
       "<table border=\"1\" class=\"dataframe\">\n",
       "  <thead>\n",
       "    <tr style=\"text-align: right;\">\n",
       "      <th></th>\n",
       "      <th>count</th>\n",
       "    </tr>\n",
       "  </thead>\n",
       "  <tbody>\n",
       "    <tr>\n",
       "      <th>common risk factors in the returns on stocks and bonds////1993</th>\n",
       "      <td>152</td>\n",
       "    </tr>\n",
       "    <tr>\n",
       "      <th>on persistence in mutual fund performance////1997</th>\n",
       "      <td>97</td>\n",
       "    </tr>\n",
       "    <tr>\n",
       "      <th>theory of the firm: managerial behavior agency costs and ownership structure////1976</th>\n",
       "      <td>83</td>\n",
       "    </tr>\n",
       "    <tr>\n",
       "      <th>risk return and equilibrium: empirical tests////1973</th>\n",
       "      <td>75</td>\n",
       "    </tr>\n",
       "    <tr>\n",
       "      <th>the pricing of options and corporate liabilities////1973</th>\n",
       "      <td>72</td>\n",
       "    </tr>\n",
       "  </tbody>\n",
       "</table>\n",
       "</div>"
      ],
      "text/plain": [
       "                                                    count\n",
       "common risk factors in the returns on stocks an...    152\n",
       "on persistence in mutual fund performance////1997      97\n",
       "theory of the firm: managerial behavior agency ...     83\n",
       "risk return and equilibrium: empirical tests///...     75\n",
       "the pricing of options and corporate liabilitie...     72"
      ]
     },
     "metadata": {},
     "output_type": "display_data"
    },
    {
     "data": {
      "text/plain": [
       "939"
      ]
     },
     "execution_count": 7,
     "metadata": {},
     "output_type": "execute_result"
    }
   ],
   "source": [
    "paper_ls = [i.lower() for i in base_df['new_paper'].tolist()]\n",
    "counter_df = pd.DataFrame.from_dict(Counter(paper_ls),orient='index',columns=['count']).sort_values('count',ascending=False)\n",
    "catch_paper_ls = counter_df[counter_df['count'] > 3].index.tolist()\n",
    "display(counter_df.head())\n",
    "len(catch_paper_ls)"
   ]
  },
  {
   "cell_type": "code",
   "execution_count": 8,
   "metadata": {},
   "outputs": [
    {
     "data": {
      "text/plain": [
       "['common risk factors in the returns on stocks and bonds////1993',\n",
       " 'on persistence in mutual fund performance////1997',\n",
       " 'theory of the firm: managerial behavior agency costs and ownership structure////1976',\n",
       " 'risk return and equilibrium: empirical tests////1973',\n",
       " 'the pricing of options and corporate liabilities////1973',\n",
       " 'common risk factors in the returns on bonds and stocks////1993',\n",
       " 'tunneling////2000',\n",
       " 'corporate financing and investment decisions when firms have information that investors do not have////1984',\n",
       " 'the cross-section of expected stock returns////1992',\n",
       " 'a simple positive semi-definite heteroskedasticity and autocorrelation consistent covariance matrix////1987']"
      ]
     },
     "execution_count": 8,
     "metadata": {},
     "output_type": "execute_result"
    }
   ],
   "source": [
    "catch_paper_ls[:10]"
   ]
  },
  {
   "cell_type": "markdown",
   "metadata": {},
   "source": [
    "- 딕셔너리로 만들어놓은 base_df에서 데이터의 산발성이 보인다.\n",
    "- 따라서 catch_paper_ls 라는 딕셔너리의 딕셔너리를 구축한다. \n",
    "- 이는, base_df에서 논문의 이름과 년도를 기준으로 count를 sorting 했을 때, 3번 이상 나온 논문들만 따로 모든 것이다.\n",
    "- 하지만 위에서 보듯, \n",
    "    - `'common risk factors in the returns on stocks and bonds////1993'`\n",
    "    - `'common risk factors in the returns on bonds and stocks////1993'`\n",
    "    - 와 같은, uniqueness 가 보장되지 않는 것을 알 수 있다. \n",
    "    - 이에 따라서, dictionary of dictionary의 uniqueness 를 보장하기 위한 작업을 아래에서 시행한다."
   ]
  },
  {
   "cell_type": "code",
   "execution_count": 9,
   "metadata": {},
   "outputs": [
    {
     "name": "stdout",
     "output_type": "stream",
     "text": [
      "0\n",
      "1\n",
      "2\n",
      "3\n",
      "4\n"
     ]
    },
    {
     "data": {
      "text/plain": [
       "(939, 853, 86)"
      ]
     },
     "execution_count": 9,
     "metadata": {},
     "output_type": "execute_result"
    }
   ],
   "source": [
    "catch_paper_ls_copy = catch_paper_ls.copy()\n",
    "tuned_catch_paper_ls = []\n",
    "excepted_ls = []\n",
    "similar_match_ls = []\n",
    "\n",
    "for i in range(5) : \n",
    "    print(i)\n",
    "    for idx1,val1 in enumerate(catch_paper_ls_copy) : \n",
    "        for idx2,val2 in enumerate(catch_paper_ls_copy) :\n",
    "            if idx1 != idx2 : \n",
    "                v1 = set(val1.split(' '))\n",
    "                v2 = set(val2.split(' '))\n",
    "                try : \n",
    "                    if len(set(v1).intersection(v2)) / ((len(v1) + len(v2))/2) > 0.75 : \n",
    "                        similar_match_ls.append((val1,val2))\n",
    "                        if len(v1) > len(v2) :\n",
    "                            catch_paper_ls_copy.pop(catch_paper_ls_copy.index(val2))\n",
    "                            excepted_ls.append((val2))\n",
    "                        else :\n",
    "                            catch_paper_ls_copy.pop(catch_paper_ls_copy.index(val1))\n",
    "                            excepted_ls.append(((val1)))                    \n",
    "                except : pass\n",
    "\n",
    "len(catch_paper_ls) , len(catch_paper_ls_copy) , len(excepted_ls)"
   ]
  },
  {
   "cell_type": "markdown",
   "metadata": {},
   "source": [
    "- 61개가 줄었다. 이를 기반으로 딕셔너리를 생성한다.\n",
    "- ready_to_taget_dict라는 변수를 생성한다. 이는, 472개로 된 key를 가지고 있고, 이와 유사한 논문 이름들을 자기 자신을 포함해서 리스트 형태의 value를 가진다."
   ]
  },
  {
   "cell_type": "code",
   "execution_count": 10,
   "metadata": {},
   "outputs": [],
   "source": [
    "ready_to_target_dict = dict(zip(catch_paper_ls_copy,[[] for i in range(len(catch_paper_ls_copy))]))"
   ]
  },
  {
   "cell_type": "code",
   "execution_count": 11,
   "metadata": {
    "scrolled": true
   },
   "outputs": [
    {
     "name": "stdout",
     "output_type": "stream",
     "text": [
      "20000\r"
     ]
    }
   ],
   "source": [
    "append = 0\n",
    "naive_append = 0\n",
    "\n",
    "for idx1,val1 in enumerate(base_df['new_paper'].tolist()) : \n",
    "    if idx1 % 4000 == 0 : print(idx1,end='\\r')\n",
    "    for idx2,val2 in enumerate(ready_to_target_dict.keys()) :\n",
    "        \n",
    "        paper_name = val1.split('////')[0].lower()\n",
    "        paper_year = val1.split('////')[1].lower()\n",
    "        target_name = val2.split('////')[0].lower()\n",
    "        target_year = val2.split('////')[1].lower()\n",
    "        \n",
    "        if paper_year != 'nan' :\n",
    "            if paper_year == target_year :\n",
    "                paper_name_to_word = set(paper_name.split(' '))\n",
    "                target_name_to_word = set(target_name.split(' '))\n",
    "                if len(paper_name_to_word.intersection(target_name_to_word)) / len(paper_name_to_word) > 0.75 : \n",
    "                    ready_to_target_dict[val2].append(val1)\n",
    "                    append += 1\n",
    "        else : pass\n",
    "#             paper_name_to_word = set(paper_name.split(' '))\n",
    "#             target_name_to_word = set(target_name.split(' '))\n",
    "#             if len(paper_name_to_word.intersection(target_name_to_word)) / len(paper_name_to_word) > 0.9 : \n",
    "#                 ready_to_target_dict[val2].append(val1)\n",
    "#                 naive_append += 1"
   ]
  },
  {
   "cell_type": "code",
   "execution_count": 12,
   "metadata": {},
   "outputs": [
    {
     "data": {
      "text/plain": [
       "True"
      ]
     },
     "execution_count": 12,
     "metadata": {},
     "output_type": "execute_result"
    }
   ],
   "source": [
    "final_ls = []\n",
    "process_ls = []\n",
    "error_ls = []\n",
    "\n",
    "for idx1 , val in enumerate(base_df['new_paper']) : \n",
    "    process_ls = []\n",
    "    for idx2, key_ in enumerate(list(ready_to_target_dict.keys())) : \n",
    "        if val in ready_to_target_dict.get(key_) : \n",
    "            process_ls.append(key_)\n",
    "\n",
    "    if len(process_ls) == 1 :\n",
    "        final_ls.append(process_ls[0])\n",
    "    elif len(process_ls) == 0 :\n",
    "        final_ls.append(val)\n",
    "    else : final_ls.append(val)\n",
    "        \n",
    "len(final_ls) == len(base_df)"
   ]
  },
  {
   "cell_type": "code",
   "execution_count": 13,
   "metadata": {},
   "outputs": [
    {
     "data": {
      "text/plain": [
       "(12922, 13443)"
      ]
     },
     "execution_count": 13,
     "metadata": {},
     "output_type": "execute_result"
    }
   ],
   "source": [
    "len(set(final_ls)) , len(set(base_df['new_paper']))"
   ]
  },
  {
   "cell_type": "code",
   "execution_count": 14,
   "metadata": {},
   "outputs": [
    {
     "data": {
      "text/html": [
       "<div>\n",
       "<style scoped>\n",
       "    .dataframe tbody tr th:only-of-type {\n",
       "        vertical-align: middle;\n",
       "    }\n",
       "\n",
       "    .dataframe tbody tr th {\n",
       "        vertical-align: top;\n",
       "    }\n",
       "\n",
       "    .dataframe thead th {\n",
       "        text-align: right;\n",
       "    }\n",
       "</style>\n",
       "<table border=\"1\" class=\"dataframe\">\n",
       "  <thead>\n",
       "    <tr style=\"text-align: right;\">\n",
       "      <th></th>\n",
       "      <th>author</th>\n",
       "      <th>from</th>\n",
       "      <th>index</th>\n",
       "      <th>journal</th>\n",
       "      <th>paper</th>\n",
       "      <th>year</th>\n",
       "      <th>new_paper</th>\n",
       "      <th>tuned_new_paper</th>\n",
       "    </tr>\n",
       "  </thead>\n",
       "  <tbody>\n",
       "    <tr>\n",
       "      <th>22672</th>\n",
       "      <td>Bakshi G. and D. Madan</td>\n",
       "      <td>한국파생상품학회</td>\n",
       "      <td>19259.0</td>\n",
       "      <td>” Management Science 52 12</td>\n",
       "      <td>A theory of volatility spreads</td>\n",
       "      <td>2006.0</td>\n",
       "      <td>a theory of volatility spreads////2006</td>\n",
       "      <td>a theory of volatility spreads////2006</td>\n",
       "    </tr>\n",
       "    <tr>\n",
       "      <th>22673</th>\n",
       "      <td>Bakshi G. and D. Madan</td>\n",
       "      <td>한국파생상품학회</td>\n",
       "      <td>19259.0</td>\n",
       "      <td>” Management Science 52 12</td>\n",
       "      <td>A theory of volatility spreads</td>\n",
       "      <td>2006.0</td>\n",
       "      <td>a theory of volatility spreads////2006</td>\n",
       "      <td>a theory of volatility spreads////2006</td>\n",
       "    </tr>\n",
       "    <tr>\n",
       "      <th>22674</th>\n",
       "      <td>Bakshi G. and D. Madan</td>\n",
       "      <td>한국파생상품학회</td>\n",
       "      <td>19259.0</td>\n",
       "      <td>” Management Science 52 12</td>\n",
       "      <td>A theory of volatility spreads</td>\n",
       "      <td>2006.0</td>\n",
       "      <td>a theory of volatility spreads////2006</td>\n",
       "      <td>a theory of volatility spreads////2006</td>\n",
       "    </tr>\n",
       "    <tr>\n",
       "      <th>22675</th>\n",
       "      <td>Bakshi G. and D. Madan</td>\n",
       "      <td>한국파생상품학회</td>\n",
       "      <td>19259.0</td>\n",
       "      <td>” Management Science 52 12</td>\n",
       "      <td>A theory of volatility spreads</td>\n",
       "      <td>2006.0</td>\n",
       "      <td>a theory of volatility spreads////2006</td>\n",
       "      <td>a theory of volatility spreads////2006</td>\n",
       "    </tr>\n",
       "    <tr>\n",
       "      <th>22676</th>\n",
       "      <td>Bakshi G. and D. Madan</td>\n",
       "      <td>한국파생상품학회</td>\n",
       "      <td>19259.0</td>\n",
       "      <td>” Management Science 52 12</td>\n",
       "      <td>A theory of volatility spreads</td>\n",
       "      <td>2006.0</td>\n",
       "      <td>a theory of volatility spreads////2006</td>\n",
       "      <td>a theory of volatility spreads////2006</td>\n",
       "    </tr>\n",
       "  </tbody>\n",
       "</table>\n",
       "</div>"
      ],
      "text/plain": [
       "                        author      from    index  \\\n",
       "22672  Bakshi G. and D. Madan   한국파생상품학회  19259.0   \n",
       "22673  Bakshi G. and D. Madan   한국파생상품학회  19259.0   \n",
       "22674  Bakshi G. and D. Madan   한국파생상품학회  19259.0   \n",
       "22675  Bakshi G. and D. Madan   한국파생상품학회  19259.0   \n",
       "22676  Bakshi G. and D. Madan   한국파생상품학회  19259.0   \n",
       "\n",
       "                           journal                           paper    year  \\\n",
       "22672  ” Management Science 52 12   A theory of volatility spreads  2006.0   \n",
       "22673  ” Management Science 52 12   A theory of volatility spreads  2006.0   \n",
       "22674  ” Management Science 52 12   A theory of volatility spreads  2006.0   \n",
       "22675  ” Management Science 52 12   A theory of volatility spreads  2006.0   \n",
       "22676  ” Management Science 52 12   A theory of volatility spreads  2006.0   \n",
       "\n",
       "                                    new_paper  \\\n",
       "22672  a theory of volatility spreads////2006   \n",
       "22673  a theory of volatility spreads////2006   \n",
       "22674  a theory of volatility spreads////2006   \n",
       "22675  a theory of volatility spreads////2006   \n",
       "22676  a theory of volatility spreads////2006   \n",
       "\n",
       "                              tuned_new_paper  \n",
       "22672  a theory of volatility spreads////2006  \n",
       "22673  a theory of volatility spreads////2006  \n",
       "22674  a theory of volatility spreads////2006  \n",
       "22675  a theory of volatility spreads////2006  \n",
       "22676  a theory of volatility spreads////2006  "
      ]
     },
     "execution_count": 14,
     "metadata": {},
     "output_type": "execute_result"
    }
   ],
   "source": [
    "base_df['tuned_new_paper'] = final_ls\n",
    "base_df.tail()"
   ]
  },
  {
   "cell_type": "code",
   "execution_count": 15,
   "metadata": {},
   "outputs": [],
   "source": [
    "from IPython.display import Markdown"
   ]
  },
  {
   "cell_type": "code",
   "execution_count": 16,
   "metadata": {},
   "outputs": [
    {
     "data": {
      "text/markdown": [
       "### 이전의 방법론"
      ],
      "text/plain": [
       "<IPython.core.display.Markdown object>"
      ]
     },
     "metadata": {},
     "output_type": "display_data"
    },
    {
     "data": {
      "text/html": [
       "<div>\n",
       "<style scoped>\n",
       "    .dataframe tbody tr th:only-of-type {\n",
       "        vertical-align: middle;\n",
       "    }\n",
       "\n",
       "    .dataframe tbody tr th {\n",
       "        vertical-align: top;\n",
       "    }\n",
       "\n",
       "    .dataframe thead th {\n",
       "        text-align: right;\n",
       "    }\n",
       "</style>\n",
       "<table border=\"1\" class=\"dataframe\">\n",
       "  <thead>\n",
       "    <tr style=\"text-align: right;\">\n",
       "      <th></th>\n",
       "      <th>count</th>\n",
       "    </tr>\n",
       "  </thead>\n",
       "  <tbody>\n",
       "    <tr>\n",
       "      <th>common risk factors in the returns on stocks and bonds////1993</th>\n",
       "      <td>152</td>\n",
       "    </tr>\n",
       "    <tr>\n",
       "      <th>on persistence in mutual fund performance////1997</th>\n",
       "      <td>97</td>\n",
       "    </tr>\n",
       "    <tr>\n",
       "      <th>theory of the firm: managerial behavior agency costs and ownership structure////1976</th>\n",
       "      <td>83</td>\n",
       "    </tr>\n",
       "    <tr>\n",
       "      <th>risk return and equilibrium: empirical tests////1973</th>\n",
       "      <td>75</td>\n",
       "    </tr>\n",
       "    <tr>\n",
       "      <th>the pricing of options and corporate liabilities////1973</th>\n",
       "      <td>72</td>\n",
       "    </tr>\n",
       "    <tr>\n",
       "      <th>common risk factors in the returns on bonds and stocks////1993</th>\n",
       "      <td>51</td>\n",
       "    </tr>\n",
       "    <tr>\n",
       "      <th>tunneling////2000</th>\n",
       "      <td>51</td>\n",
       "    </tr>\n",
       "    <tr>\n",
       "      <th>corporate financing and investment decisions when firms have information that investors do not have////1984</th>\n",
       "      <td>49</td>\n",
       "    </tr>\n",
       "    <tr>\n",
       "      <th>the cross-section of expected stock returns////1992</th>\n",
       "      <td>45</td>\n",
       "    </tr>\n",
       "    <tr>\n",
       "      <th>a simple positive semi-definite heteroskedasticity and autocorrelation consistent covariance matrix////1987</th>\n",
       "      <td>39</td>\n",
       "    </tr>\n",
       "  </tbody>\n",
       "</table>\n",
       "</div>"
      ],
      "text/plain": [
       "                                                    count\n",
       "common risk factors in the returns on stocks an...    152\n",
       "on persistence in mutual fund performance////1997      97\n",
       "theory of the firm: managerial behavior agency ...     83\n",
       "risk return and equilibrium: empirical tests///...     75\n",
       "the pricing of options and corporate liabilitie...     72\n",
       "common risk factors in the returns on bonds and...     51\n",
       "tunneling////2000                                      51\n",
       "corporate financing and investment decisions wh...     49\n",
       "the cross-section of expected stock returns////...     45\n",
       "a simple positive semi-definite heteroskedastic...     39"
      ]
     },
     "metadata": {},
     "output_type": "display_data"
    },
    {
     "data": {
      "text/markdown": [
       "### 개선된 방법론"
      ],
      "text/plain": [
       "<IPython.core.display.Markdown object>"
      ]
     },
     "metadata": {},
     "output_type": "display_data"
    },
    {
     "data": {
      "text/html": [
       "<div>\n",
       "<style scoped>\n",
       "    .dataframe tbody tr th:only-of-type {\n",
       "        vertical-align: middle;\n",
       "    }\n",
       "\n",
       "    .dataframe tbody tr th {\n",
       "        vertical-align: top;\n",
       "    }\n",
       "\n",
       "    .dataframe thead th {\n",
       "        text-align: right;\n",
       "    }\n",
       "</style>\n",
       "<table border=\"1\" class=\"dataframe\">\n",
       "  <thead>\n",
       "    <tr style=\"text-align: right;\">\n",
       "      <th></th>\n",
       "      <th>count</th>\n",
       "    </tr>\n",
       "  </thead>\n",
       "  <tbody>\n",
       "    <tr>\n",
       "      <th>common risk factors in the returns on the stocks and bonds////1993</th>\n",
       "      <td>231</td>\n",
       "    </tr>\n",
       "    <tr>\n",
       "      <th>theory of the firm : managerial behavior agency costs and ownership structure////1976</th>\n",
       "      <td>153</td>\n",
       "    </tr>\n",
       "    <tr>\n",
       "      <th>on persistence in mutual fund performance////1997</th>\n",
       "      <td>124</td>\n",
       "    </tr>\n",
       "    <tr>\n",
       "      <th>the pricing of options and corporate liabilities////1973</th>\n",
       "      <td>76</td>\n",
       "    </tr>\n",
       "    <tr>\n",
       "      <th>risk return and equilibrium: empirical tests////1973</th>\n",
       "      <td>75</td>\n",
       "    </tr>\n",
       "    <tr>\n",
       "      <th>corporate financing and investment decisions when firms have information that investors do not have////1984</th>\n",
       "      <td>64</td>\n",
       "    </tr>\n",
       "    <tr>\n",
       "      <th>a simple positive semi-definite heteroscedasticity and autocorrelation consistent covariance matrix////1987</th>\n",
       "      <td>62</td>\n",
       "    </tr>\n",
       "    <tr>\n",
       "      <th>returns to buying winners and selling losers:  implications for stock market efficiency////1993</th>\n",
       "      <td>61</td>\n",
       "    </tr>\n",
       "    <tr>\n",
       "      <th>tunneling////2000</th>\n",
       "      <td>51</td>\n",
       "    </tr>\n",
       "    <tr>\n",
       "      <th>the cross section of expected stock returns////1992</th>\n",
       "      <td>51</td>\n",
       "    </tr>\n",
       "  </tbody>\n",
       "</table>\n",
       "</div>"
      ],
      "text/plain": [
       "                                                    count\n",
       "common risk factors in the returns on the stock...    231\n",
       "theory of the firm : managerial behavior agency...    153\n",
       "on persistence in mutual fund performance////1997     124\n",
       "the pricing of options and corporate liabilitie...     76\n",
       "risk return and equilibrium: empirical tests///...     75\n",
       "corporate financing and investment decisions wh...     64\n",
       "a simple positive semi-definite heteroscedastic...     62\n",
       "returns to buying winners and selling losers:  ...     61\n",
       "tunneling////2000                                      51\n",
       "the cross section of expected stock returns////...     51"
      ]
     },
     "metadata": {},
     "output_type": "display_data"
    }
   ],
   "source": [
    "display(Markdown('### 이전의 방법론'))\n",
    "display(pd.DataFrame.from_dict(Counter(base_df['new_paper']),orient='index',columns=['count']).sort_values('count',ascending=False).head(10))\n",
    "display(Markdown('### 개선된 방법론'))\n",
    "display(pd.DataFrame.from_dict(Counter(base_df['tuned_new_paper']),orient='index',columns=['count']).sort_values('count',ascending=False).head(10))"
   ]
  },
  {
   "cell_type": "code",
   "execution_count": 18,
   "metadata": {},
   "outputs": [],
   "source": [
    "paper_counter_df = pd.DataFrame.from_dict(Counter(base_df['tuned_new_paper']),orient='index',columns=['count']).sort_values('count',ascending=False)\n",
    "paper_counter_df.reset_index(inplace=True)"
   ]
  },
  {
   "cell_type": "code",
   "execution_count": 19,
   "metadata": {},
   "outputs": [],
   "source": [
    "paper_counter_df.to_csv('paper_counter_df.csv',index=False)"
   ]
  },
  {
   "cell_type": "code",
   "execution_count": 46,
   "metadata": {},
   "outputs": [],
   "source": [
    "import pickle"
   ]
  },
  {
   "cell_type": "code",
   "execution_count": 47,
   "metadata": {},
   "outputs": [],
   "source": [
    "pickle_out = open(\"ready_to_target_dict.pickle\",\"wb\")\n",
    "pickle.dump(ready_to_target_dict, pickle_out)\n",
    "pickle_out.close()"
   ]
  },
  {
   "cell_type": "markdown",
   "metadata": {},
   "source": [
    "___________________________"
   ]
  },
  {
   "cell_type": "markdown",
   "metadata": {},
   "source": [
    "#### 여태까지 저널에 관계없이 전체 논문에 대한 dictionary 와 paper_frequency_table 을 형성하였다. \n",
    "#### 아래에서부터는 각 저널별로 paper_frequency_table 을 생성한다. dictionary는 변하지 않는다."
   ]
  },
  {
   "cell_type": "code",
   "execution_count": 2,
   "metadata": {},
   "outputs": [],
   "source": [
    "fm_base_df = pd.read_csv('fm_base_df.csv')\n",
    "f_base_df = pd.read_csv('f_base_df.csv')\n",
    "sc_base_df = pd.read_csv('sc_base_df.csv')\n",
    "dr_base_df = pd.read_csv('dr_base_df.csv')"
   ]
  },
  {
   "cell_type": "code",
   "execution_count": 3,
   "metadata": {},
   "outputs": [],
   "source": [
    "def make_new_paper(base_df) :\n",
    "    base_df['new_paper'] = \\\n",
    "    [base_df['paper'][idx] + '////' + str(base_df['year'][idx]).split(\".\")[0] for idx in range(len(base_df))]\n",
    "\n",
    "    base_df['new_paper'] = base_df['new_paper'].apply(lambda x : x.lower())\n",
    "\n",
    "    return base_df.loc[:,['author','journal','paper','year','from','new_paper']]"
   ]
  },
  {
   "cell_type": "code",
   "execution_count": 4,
   "metadata": {},
   "outputs": [],
   "source": [
    "fm_base_df = make_new_paper(fm_base_df)\n",
    "f_base_df = make_new_paper(f_base_df)\n",
    "sc_base_df = make_new_paper(sc_base_df)\n",
    "dr_base_df = make_new_paper(dr_base_df)"
   ]
  },
  {
   "cell_type": "code",
   "execution_count": 5,
   "metadata": {},
   "outputs": [],
   "source": [
    "ready_to_target_dict = []\n",
    "with (open(\"ready_to_target_dict.pickle\", \"rb\")) as openfile:\n",
    "    while True:\n",
    "        try:\n",
    "            ready_to_target_dict.append(pickle.load(openfile))\n",
    "        except EOFError:\n",
    "            break"
   ]
  },
  {
   "cell_type": "code",
   "execution_count": 7,
   "metadata": {},
   "outputs": [
    {
     "data": {
      "text/plain": [
       "853"
      ]
     },
     "execution_count": 7,
     "metadata": {},
     "output_type": "execute_result"
    }
   ],
   "source": [
    "ready_to_target_dict = ready_to_target_dict[0]\n",
    "len(ready_to_target_dict.keys())"
   ]
  },
  {
   "cell_type": "code",
   "execution_count": 8,
   "metadata": {},
   "outputs": [],
   "source": [
    "def final_process(base_df,ready_to_target_dict):\n",
    "    final_ls = []\n",
    "    process_ls = []\n",
    "    error_ls = []\n",
    "\n",
    "    for idx1 , val in enumerate(base_df['new_paper']) : \n",
    "        process_ls = []\n",
    "        for idx2, key_ in enumerate(list(ready_to_target_dict.keys())) : \n",
    "            if val in ready_to_target_dict.get(key_) : \n",
    "                process_ls.append(key_)\n",
    "\n",
    "        if len(process_ls) == 1 :\n",
    "            final_ls.append(process_ls[0])\n",
    "        elif len(process_ls) == 0 :\n",
    "            final_ls.append(val)\n",
    "        else : final_ls.append(val)\n",
    "\n",
    "    if len(final_ls) == len(base_df) :\n",
    "        print('Lower uniqueness Better Performance, orgin uniqueness: {} , revised uniqueness : {}'.format(len(set(base_df['new_paper'])),len(set(final_ls))))\n",
    "        base_df['tuned_new_paper'] = final_ls\n",
    "        return base_df\n",
    "    else : raise TypeError('error')"
   ]
  },
  {
   "cell_type": "code",
   "execution_count": 9,
   "metadata": {},
   "outputs": [
    {
     "name": "stdout",
     "output_type": "stream",
     "text": [
      "Lower uniqueness Better Performance, orgin uniqueness: 7528 , revised uniqueness : 7228\n",
      "Lower uniqueness Better Performance, orgin uniqueness: 4042 , revised uniqueness : 3897\n",
      "Lower uniqueness Better Performance, orgin uniqueness: 3139 , revised uniqueness : 3010\n",
      "Lower uniqueness Better Performance, orgin uniqueness: 1739 , revised uniqueness : 1709\n"
     ]
    }
   ],
   "source": [
    "fm_final_df = final_process(fm_base_df,ready_to_target_dict)\n",
    "fm_final_df = final_process(fm_base_df,ready_to_target_dict)\n",
    "f_final_df = final_process(f_base_df,ready_to_target_dict)\n",
    "sc_final_df = final_process(sc_base_df,ready_to_target_dict)\n",
    "dr_final_df = final_process(dr_base_df,ready_to_target_dict)"
   ]
  },
  {
   "cell_type": "code",
   "execution_count": 10,
   "metadata": {},
   "outputs": [],
   "source": [
    "def make_counter_df_under_journal(base_df) :\n",
    "    print('total length of this dataframe is {}'.format(len(base_df)))\n",
    "    df1 = pd.DataFrame.from_dict(Counter(base_df['tuned_new_paper'].tolist()),orient='index',columns=['count'])\n",
    "    df2 = df1.sort_values('count',ascending=False)\n",
    "    return df2"
   ]
  },
  {
   "cell_type": "code",
   "execution_count": 11,
   "metadata": {},
   "outputs": [
    {
     "data": {
      "text/markdown": [
       "### 한국재무관리학회"
      ],
      "text/plain": [
       "<IPython.core.display.Markdown object>"
      ]
     },
     "metadata": {},
     "output_type": "display_data"
    },
    {
     "name": "stdout",
     "output_type": "stream",
     "text": [
      "total length of this dataframe is 9638\n"
     ]
    },
    {
     "data": {
      "text/html": [
       "<div>\n",
       "<style scoped>\n",
       "    .dataframe tbody tr th:only-of-type {\n",
       "        vertical-align: middle;\n",
       "    }\n",
       "\n",
       "    .dataframe tbody tr th {\n",
       "        vertical-align: top;\n",
       "    }\n",
       "\n",
       "    .dataframe thead th {\n",
       "        text-align: right;\n",
       "    }\n",
       "</style>\n",
       "<table border=\"1\" class=\"dataframe\">\n",
       "  <thead>\n",
       "    <tr style=\"text-align: right;\">\n",
       "      <th></th>\n",
       "      <th>count</th>\n",
       "    </tr>\n",
       "  </thead>\n",
       "  <tbody>\n",
       "    <tr>\n",
       "      <th>theory of the firm : managerial behavior agency costs and ownership structure////1976</th>\n",
       "      <td>42</td>\n",
       "    </tr>\n",
       "    <tr>\n",
       "      <th>a simple positive semi-definite heteroscedasticity and autocorrelation consistent covariance matrix////1987</th>\n",
       "      <td>31</td>\n",
       "    </tr>\n",
       "    <tr>\n",
       "      <th>common risk factors in the returns on the stocks and bonds////1993</th>\n",
       "      <td>29</td>\n",
       "    </tr>\n",
       "    <tr>\n",
       "      <th>corporate financing and investment decisions when firms have information that investors do not have////1984</th>\n",
       "      <td>27</td>\n",
       "    </tr>\n",
       "    <tr>\n",
       "      <th>tunneling////2000</th>\n",
       "      <td>19</td>\n",
       "    </tr>\n",
       "    <tr>\n",
       "      <th>the cross section of expected stock returns////1992</th>\n",
       "      <td>17</td>\n",
       "    </tr>\n",
       "    <tr>\n",
       "      <th>determinants of corporate borrowing////1977</th>\n",
       "      <td>16</td>\n",
       "    </tr>\n",
       "    <tr>\n",
       "      <th>on persistence in mutual fund performance////1997</th>\n",
       "      <td>16</td>\n",
       "    </tr>\n",
       "    <tr>\n",
       "      <th>agency costs of free cash flow corporate finance and takeovers////1986</th>\n",
       "      <td>16</td>\n",
       "    </tr>\n",
       "    <tr>\n",
       "      <th>management ownership and market valuation : an empirical analysis////1988</th>\n",
       "      <td>15</td>\n",
       "    </tr>\n",
       "  </tbody>\n",
       "</table>\n",
       "</div>"
      ],
      "text/plain": [
       "                                                    count\n",
       "theory of the firm : managerial behavior agency...     42\n",
       "a simple positive semi-definite heteroscedastic...     31\n",
       "common risk factors in the returns on the stock...     29\n",
       "corporate financing and investment decisions wh...     27\n",
       "tunneling////2000                                      19\n",
       "the cross section of expected stock returns////...     17\n",
       "determinants of corporate borrowing////1977            16\n",
       "on persistence in mutual fund performance////1997      16\n",
       "agency costs of free cash flow corporate financ...     16\n",
       "management ownership and market valuation : an ...     15"
      ]
     },
     "metadata": {},
     "output_type": "display_data"
    },
    {
     "data": {
      "text/markdown": [
       "### 한국재무학회"
      ],
      "text/plain": [
       "<IPython.core.display.Markdown object>"
      ]
     },
     "metadata": {},
     "output_type": "display_data"
    },
    {
     "name": "stdout",
     "output_type": "stream",
     "text": [
      "total length of this dataframe is 4959\n"
     ]
    },
    {
     "data": {
      "text/html": [
       "<div>\n",
       "<style scoped>\n",
       "    .dataframe tbody tr th:only-of-type {\n",
       "        vertical-align: middle;\n",
       "    }\n",
       "\n",
       "    .dataframe tbody tr th {\n",
       "        vertical-align: top;\n",
       "    }\n",
       "\n",
       "    .dataframe thead th {\n",
       "        text-align: right;\n",
       "    }\n",
       "</style>\n",
       "<table border=\"1\" class=\"dataframe\">\n",
       "  <thead>\n",
       "    <tr style=\"text-align: right;\">\n",
       "      <th></th>\n",
       "      <th>count</th>\n",
       "    </tr>\n",
       "  </thead>\n",
       "  <tbody>\n",
       "    <tr>\n",
       "      <th>common risk factors in the returns on the stocks and bonds////1993</th>\n",
       "      <td>26</td>\n",
       "    </tr>\n",
       "    <tr>\n",
       "      <th>tunneling////2000</th>\n",
       "      <td>16</td>\n",
       "    </tr>\n",
       "    <tr>\n",
       "      <th>corporate financing and investment decisions when firms have information that investors do not have////1984</th>\n",
       "      <td>15</td>\n",
       "    </tr>\n",
       "    <tr>\n",
       "      <th>risk return and equilibrium: empirical tests////1973</th>\n",
       "      <td>15</td>\n",
       "    </tr>\n",
       "    <tr>\n",
       "      <th>continuous auction and insider trading////1985</th>\n",
       "      <td>14</td>\n",
       "    </tr>\n",
       "    <tr>\n",
       "      <th>on persistence in mutual fund performance////1997</th>\n",
       "      <td>13</td>\n",
       "    </tr>\n",
       "    <tr>\n",
       "      <th>returns to buying winners and selling losers:  implications for stock market efficiency////1993</th>\n",
       "      <td>12</td>\n",
       "    </tr>\n",
       "    <tr>\n",
       "      <th>management ownership and market valuation : an empirical analysis////1988</th>\n",
       "      <td>10</td>\n",
       "    </tr>\n",
       "    <tr>\n",
       "      <th>theory of the firm : managerial behavior agency costs and ownership structure////1976</th>\n",
       "      <td>10</td>\n",
       "    </tr>\n",
       "    <tr>\n",
       "      <th>a simple positive semi-definite heteroscedasticity and autocorrelation consistent covariance matrix////1987</th>\n",
       "      <td>10</td>\n",
       "    </tr>\n",
       "  </tbody>\n",
       "</table>\n",
       "</div>"
      ],
      "text/plain": [
       "                                                    count\n",
       "common risk factors in the returns on the stock...     26\n",
       "tunneling////2000                                      16\n",
       "corporate financing and investment decisions wh...     15\n",
       "risk return and equilibrium: empirical tests///...     15\n",
       "continuous auction and insider trading////1985         14\n",
       "on persistence in mutual fund performance////1997      13\n",
       "returns to buying winners and selling losers:  ...     12\n",
       "management ownership and market valuation : an ...     10\n",
       "theory of the firm : managerial behavior agency...     10\n",
       "a simple positive semi-definite heteroscedastic...     10"
      ]
     },
     "metadata": {},
     "output_type": "display_data"
    },
    {
     "data": {
      "text/markdown": [
       "### 한국증권학회"
      ],
      "text/plain": [
       "<IPython.core.display.Markdown object>"
      ]
     },
     "metadata": {},
     "output_type": "display_data"
    },
    {
     "name": "stdout",
     "output_type": "stream",
     "text": [
      "total length of this dataframe is 5685\n"
     ]
    },
    {
     "data": {
      "text/html": [
       "<div>\n",
       "<style scoped>\n",
       "    .dataframe tbody tr th:only-of-type {\n",
       "        vertical-align: middle;\n",
       "    }\n",
       "\n",
       "    .dataframe tbody tr th {\n",
       "        vertical-align: top;\n",
       "    }\n",
       "\n",
       "    .dataframe thead th {\n",
       "        text-align: right;\n",
       "    }\n",
       "</style>\n",
       "<table border=\"1\" class=\"dataframe\">\n",
       "  <thead>\n",
       "    <tr style=\"text-align: right;\">\n",
       "      <th></th>\n",
       "      <th>count</th>\n",
       "    </tr>\n",
       "  </thead>\n",
       "  <tbody>\n",
       "    <tr>\n",
       "      <th>common risk factors in the returns on the stocks and bonds////1993</th>\n",
       "      <td>136</td>\n",
       "    </tr>\n",
       "    <tr>\n",
       "      <th>theory of the firm : managerial behavior agency costs and ownership structure////1976</th>\n",
       "      <td>101</td>\n",
       "    </tr>\n",
       "    <tr>\n",
       "      <th>on persistence in mutual fund performance////1997</th>\n",
       "      <td>90</td>\n",
       "    </tr>\n",
       "    <tr>\n",
       "      <th>risk return and equilibrium: empirical tests////1973</th>\n",
       "      <td>50</td>\n",
       "    </tr>\n",
       "    <tr>\n",
       "      <th>the pricing of options and corporate liabilities////1973</th>\n",
       "      <td>48</td>\n",
       "    </tr>\n",
       "    <tr>\n",
       "      <th>detecting long-run abnormal stock returns: the empirical power and specification of test statistics////1997</th>\n",
       "      <td>37</td>\n",
       "    </tr>\n",
       "    <tr>\n",
       "      <th>tunneling or value added? evidence from mergers by korean business grups////2002</th>\n",
       "      <td>37</td>\n",
       "    </tr>\n",
       "    <tr>\n",
       "      <th>returns to buying winners and selling losers:  implications for stock market efficiency////1993</th>\n",
       "      <td>27</td>\n",
       "    </tr>\n",
       "    <tr>\n",
       "      <th>trading is hazardous to your wealth: the common stock investment performance of individual investors////2000</th>\n",
       "      <td>27</td>\n",
       "    </tr>\n",
       "    <tr>\n",
       "      <th>the cross-section of volatility and expected returns////2006</th>\n",
       "      <td>26</td>\n",
       "    </tr>\n",
       "  </tbody>\n",
       "</table>\n",
       "</div>"
      ],
      "text/plain": [
       "                                                    count\n",
       "common risk factors in the returns on the stock...    136\n",
       "theory of the firm : managerial behavior agency...    101\n",
       "on persistence in mutual fund performance////1997      90\n",
       "risk return and equilibrium: empirical tests///...     50\n",
       "the pricing of options and corporate liabilitie...     48\n",
       "detecting long-run abnormal stock returns: the ...     37\n",
       "tunneling or value added? evidence from mergers...     37\n",
       "returns to buying winners and selling losers:  ...     27\n",
       "trading is hazardous to your wealth: the common...     27\n",
       "the cross-section of volatility and expected re...     26"
      ]
     },
     "metadata": {},
     "output_type": "display_data"
    },
    {
     "data": {
      "text/markdown": [
       "### 한국파생상품학회"
      ],
      "text/plain": [
       "<IPython.core.display.Markdown object>"
      ]
     },
     "metadata": {},
     "output_type": "display_data"
    },
    {
     "name": "stdout",
     "output_type": "stream",
     "text": [
      "total length of this dataframe is 2395\n"
     ]
    },
    {
     "data": {
      "text/html": [
       "<div>\n",
       "<style scoped>\n",
       "    .dataframe tbody tr th:only-of-type {\n",
       "        vertical-align: middle;\n",
       "    }\n",
       "\n",
       "    .dataframe tbody tr th {\n",
       "        vertical-align: top;\n",
       "    }\n",
       "\n",
       "    .dataframe thead th {\n",
       "        text-align: right;\n",
       "    }\n",
       "</style>\n",
       "<table border=\"1\" class=\"dataframe\">\n",
       "  <thead>\n",
       "    <tr style=\"text-align: right;\">\n",
       "      <th></th>\n",
       "      <th>count</th>\n",
       "    </tr>\n",
       "  </thead>\n",
       "  <tbody>\n",
       "    <tr>\n",
       "      <th>common risk factors in the returns on the stocks and bonds////1993</th>\n",
       "      <td>40</td>\n",
       "    </tr>\n",
       "    <tr>\n",
       "      <th>stock index futures////2006</th>\n",
       "      <td>25</td>\n",
       "    </tr>\n",
       "    <tr>\n",
       "      <th>studies of stock market volatility changes////1976</th>\n",
       "      <td>21</td>\n",
       "    </tr>\n",
       "    <tr>\n",
       "      <th>results////2007</th>\n",
       "      <td>16</td>\n",
       "    </tr>\n",
       "    <tr>\n",
       "      <th>a theory of volatility spreads////2006</th>\n",
       "      <td>16</td>\n",
       "    </tr>\n",
       "    <tr>\n",
       "      <th>asset pricing////2001</th>\n",
       "      <td>16</td>\n",
       "    </tr>\n",
       "    <tr>\n",
       "      <th>stock return characteristics skew laws and the differential pricing of individual equity options////2003</th>\n",
       "      <td>13</td>\n",
       "    </tr>\n",
       "    <tr>\n",
       "      <th>sd////2000</th>\n",
       "      <td>13</td>\n",
       "    </tr>\n",
       "    <tr>\n",
       "      <th>kospi200 옵션시장에서의 박스스프레드 차익거래 수익성////2006</th>\n",
       "      <td>13</td>\n",
       "    </tr>\n",
       "    <tr>\n",
       "      <th>a simple positive semi-definite heteroscedasticity and autocorrelation consistent covariance matrix////1987</th>\n",
       "      <td>13</td>\n",
       "    </tr>\n",
       "  </tbody>\n",
       "</table>\n",
       "</div>"
      ],
      "text/plain": [
       "                                                    count\n",
       "common risk factors in the returns on the stock...     40\n",
       "stock index futures////2006                            25\n",
       "studies of stock market volatility changes////1976     21\n",
       "results////2007                                        16\n",
       "a theory of volatility spreads////2006                 16\n",
       "asset pricing////2001                                  16\n",
       "stock return characteristics skew laws and the ...     13\n",
       "sd////2000                                             13\n",
       "kospi200 옵션시장에서의 박스스프레드 차익거래 수익성////2006               13\n",
       "a simple positive semi-definite heteroscedastic...     13"
      ]
     },
     "metadata": {},
     "output_type": "display_data"
    }
   ],
   "source": [
    "display(Markdown('### 한국재무관리학회'))\n",
    "display(make_counter_df_under_journal(fm_final_df).head(10))\n",
    "display(Markdown('### 한국재무학회'))\n",
    "display(make_counter_df_under_journal(f_final_df).head(10))\n",
    "display(Markdown('### 한국증권학회'))\n",
    "display(make_counter_df_under_journal(sc_final_df).head(10))\n",
    "display(Markdown('### 한국파생상품학회'))\n",
    "display(make_counter_df_under_journal(dr_final_df).head(10))"
   ]
  }
 ],
 "metadata": {
  "kernelspec": {
   "display_name": "Python 3",
   "language": "python",
   "name": "python3"
  },
  "language_info": {
   "codemirror_mode": {
    "name": "ipython",
    "version": 3
   },
   "file_extension": ".py",
   "mimetype": "text/x-python",
   "name": "python",
   "nbconvert_exporter": "python",
   "pygments_lexer": "ipython3",
   "version": "3.6.6"
  }
 },
 "nbformat": 4,
 "nbformat_minor": 2
}
