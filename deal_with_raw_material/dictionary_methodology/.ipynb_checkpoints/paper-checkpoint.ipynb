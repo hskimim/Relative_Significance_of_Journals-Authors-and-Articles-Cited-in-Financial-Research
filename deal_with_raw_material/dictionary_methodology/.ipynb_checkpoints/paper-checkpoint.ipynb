{
 "cells": [
  {
   "cell_type": "code",
   "execution_count": 1,
   "metadata": {},
   "outputs": [],
   "source": [
    "import sys\n",
    "sys.path.append('../personal_pkgs/')\n",
    "import pickle\n",
    "import pandas as pd\n",
    "import oop_func as func\n",
    "import personal_pkg as ref\n",
    "import parsing_func as pars\n",
    "import os\n",
    "import re\n",
    "from collections import Counter\n",
    "import warnings\n",
    "warnings.filterwarnings(\"ignore\")\n",
    "from IPython.display import Markdown"
   ]
  },
  {
   "cell_type": "code",
   "execution_count": 2,
   "metadata": {},
   "outputs": [],
   "source": [
    "fm_base_df = pd.read_csv('fm_base_df.csv')\n",
    "f_base_df = pd.read_csv('f_base_df.csv')\n",
    "sc_base_df = pd.read_csv('sc_base_df.csv')\n",
    "dr_base_df = pd.read_csv('dr_base_df.csv')"
   ]
  },
  {
   "cell_type": "code",
   "execution_count": 3,
   "metadata": {},
   "outputs": [],
   "source": [
    "def make_new_paper(base_df) :\n",
    "    base_df['new_paper'] = \\\n",
    "    [base_df['paper'][idx] + '////' + str(base_df['year'][idx]).split(\".\")[0] for idx in range(len(base_df))]\n",
    "\n",
    "    base_df['new_paper'] = base_df['new_paper'].apply(lambda x : x.lower())\n",
    "\n",
    "    return base_df.loc[:,['author','journal','paper','year','from','new_paper']]"
   ]
  },
  {
   "cell_type": "code",
   "execution_count": 4,
   "metadata": {},
   "outputs": [],
   "source": [
    "fm_base_df = make_new_paper(fm_base_df)\n",
    "f_base_df = make_new_paper(f_base_df)\n",
    "sc_base_df = make_new_paper(sc_base_df)\n",
    "dr_base_df = make_new_paper(dr_base_df)"
   ]
  },
  {
   "cell_type": "code",
   "execution_count": 5,
   "metadata": {},
   "outputs": [],
   "source": [
    "ready_to_target_dict = []\n",
    "with (open(\"ready_to_target_dict.pickle\", \"rb\")) as openfile:\n",
    "    while True:\n",
    "        try:\n",
    "            ready_to_target_dict.append(pickle.load(openfile))\n",
    "        except EOFError:\n",
    "            break"
   ]
  },
  {
   "cell_type": "code",
   "execution_count": 7,
   "metadata": {},
   "outputs": [
    {
     "data": {
      "text/plain": [
       "853"
      ]
     },
     "execution_count": 7,
     "metadata": {},
     "output_type": "execute_result"
    }
   ],
   "source": [
    "ready_to_target_dict = ready_to_target_dict[0]\n",
    "len(ready_to_target_dict.keys())"
   ]
  },
  {
   "cell_type": "code",
   "execution_count": 8,
   "metadata": {},
   "outputs": [],
   "source": [
    "def final_process(base_df,ready_to_target_dict):\n",
    "    final_ls = []\n",
    "    process_ls = []\n",
    "    error_ls = []\n",
    "\n",
    "    for idx1 , val in enumerate(base_df['new_paper']) : \n",
    "        process_ls = []\n",
    "        for idx2, key_ in enumerate(list(ready_to_target_dict.keys())) : \n",
    "            if val in ready_to_target_dict.get(key_) : \n",
    "                process_ls.append(key_)\n",
    "\n",
    "        if len(process_ls) == 1 :\n",
    "            final_ls.append(process_ls[0])\n",
    "        elif len(process_ls) == 0 :\n",
    "            final_ls.append(val)\n",
    "        else : final_ls.append(val)\n",
    "\n",
    "    if len(final_ls) == len(base_df) :\n",
    "        print('Lower uniqueness Better Performance, orgin uniqueness: {} , revised uniqueness : {}'.format(len(set(base_df['new_paper'])),len(set(final_ls))))\n",
    "        base_df['tuned_new_paper'] = final_ls\n",
    "        return base_df\n",
    "    else : raise TypeError('error')"
   ]
  },
  {
   "cell_type": "code",
   "execution_count": 9,
   "metadata": {},
   "outputs": [
    {
     "name": "stdout",
     "output_type": "stream",
     "text": [
      "Lower uniqueness Better Performance, orgin uniqueness: 7528 , revised uniqueness : 7228\n",
      "Lower uniqueness Better Performance, orgin uniqueness: 4042 , revised uniqueness : 3897\n",
      "Lower uniqueness Better Performance, orgin uniqueness: 3139 , revised uniqueness : 3010\n",
      "Lower uniqueness Better Performance, orgin uniqueness: 1739 , revised uniqueness : 1709\n"
     ]
    }
   ],
   "source": [
    "fm_final_df = final_process(fm_base_df,ready_to_target_dict)\n",
    "f_final_df = final_process(f_base_df,ready_to_target_dict)\n",
    "sc_final_df = final_process(sc_base_df,ready_to_target_dict)\n",
    "dr_final_df = final_process(dr_base_df,ready_to_target_dict)"
   ]
  },
  {
   "cell_type": "code",
   "execution_count": 10,
   "metadata": {},
   "outputs": [],
   "source": [
    "def make_counter_df_under_journal(base_df) :\n",
    "    print('total length of this dataframe is {}'.format(len(base_df)))\n",
    "    df1 = pd.DataFrame.from_dict(Counter(base_df['tuned_new_paper'].tolist()),orient='index',columns=['count'])\n",
    "    df2 = df1.sort_values('count',ascending=False)\n",
    "    return df2"
   ]
  },
  {
   "cell_type": "code",
   "execution_count": 11,
   "metadata": {},
   "outputs": [
    {
     "data": {
      "text/markdown": [
       "### 한국재무관리학회"
      ],
      "text/plain": [
       "<IPython.core.display.Markdown object>"
      ]
     },
     "metadata": {},
     "output_type": "display_data"
    },
    {
     "name": "stdout",
     "output_type": "stream",
     "text": [
      "total length of this dataframe is 9638\n"
     ]
    },
    {
     "data": {
      "text/html": [
       "<div>\n",
       "<style scoped>\n",
       "    .dataframe tbody tr th:only-of-type {\n",
       "        vertical-align: middle;\n",
       "    }\n",
       "\n",
       "    .dataframe tbody tr th {\n",
       "        vertical-align: top;\n",
       "    }\n",
       "\n",
       "    .dataframe thead th {\n",
       "        text-align: right;\n",
       "    }\n",
       "</style>\n",
       "<table border=\"1\" class=\"dataframe\">\n",
       "  <thead>\n",
       "    <tr style=\"text-align: right;\">\n",
       "      <th></th>\n",
       "      <th>count</th>\n",
       "    </tr>\n",
       "  </thead>\n",
       "  <tbody>\n",
       "    <tr>\n",
       "      <th>theory of the firm : managerial behavior agency costs and ownership structure////1976</th>\n",
       "      <td>42</td>\n",
       "    </tr>\n",
       "    <tr>\n",
       "      <th>a simple positive semi-definite heteroscedasticity and autocorrelation consistent covariance matrix////1987</th>\n",
       "      <td>31</td>\n",
       "    </tr>\n",
       "    <tr>\n",
       "      <th>common risk factors in the returns on the stocks and bonds////1993</th>\n",
       "      <td>29</td>\n",
       "    </tr>\n",
       "    <tr>\n",
       "      <th>corporate financing and investment decisions when firms have information that investors do not have////1984</th>\n",
       "      <td>27</td>\n",
       "    </tr>\n",
       "    <tr>\n",
       "      <th>tunneling////2000</th>\n",
       "      <td>19</td>\n",
       "    </tr>\n",
       "    <tr>\n",
       "      <th>the cross section of expected stock returns////1992</th>\n",
       "      <td>17</td>\n",
       "    </tr>\n",
       "    <tr>\n",
       "      <th>determinants of corporate borrowing////1977</th>\n",
       "      <td>16</td>\n",
       "    </tr>\n",
       "    <tr>\n",
       "      <th>on persistence in mutual fund performance////1997</th>\n",
       "      <td>16</td>\n",
       "    </tr>\n",
       "    <tr>\n",
       "      <th>agency costs of free cash flow corporate finance and takeovers////1986</th>\n",
       "      <td>16</td>\n",
       "    </tr>\n",
       "    <tr>\n",
       "      <th>management ownership and market valuation : an empirical analysis////1988</th>\n",
       "      <td>15</td>\n",
       "    </tr>\n",
       "  </tbody>\n",
       "</table>\n",
       "</div>"
      ],
      "text/plain": [
       "                                                    count\n",
       "theory of the firm : managerial behavior agency...     42\n",
       "a simple positive semi-definite heteroscedastic...     31\n",
       "common risk factors in the returns on the stock...     29\n",
       "corporate financing and investment decisions wh...     27\n",
       "tunneling////2000                                      19\n",
       "the cross section of expected stock returns////...     17\n",
       "determinants of corporate borrowing////1977            16\n",
       "on persistence in mutual fund performance////1997      16\n",
       "agency costs of free cash flow corporate financ...     16\n",
       "management ownership and market valuation : an ...     15"
      ]
     },
     "metadata": {},
     "output_type": "display_data"
    },
    {
     "data": {
      "text/markdown": [
       "### 한국재무학회"
      ],
      "text/plain": [
       "<IPython.core.display.Markdown object>"
      ]
     },
     "metadata": {},
     "output_type": "display_data"
    },
    {
     "name": "stdout",
     "output_type": "stream",
     "text": [
      "total length of this dataframe is 4959\n"
     ]
    },
    {
     "data": {
      "text/html": [
       "<div>\n",
       "<style scoped>\n",
       "    .dataframe tbody tr th:only-of-type {\n",
       "        vertical-align: middle;\n",
       "    }\n",
       "\n",
       "    .dataframe tbody tr th {\n",
       "        vertical-align: top;\n",
       "    }\n",
       "\n",
       "    .dataframe thead th {\n",
       "        text-align: right;\n",
       "    }\n",
       "</style>\n",
       "<table border=\"1\" class=\"dataframe\">\n",
       "  <thead>\n",
       "    <tr style=\"text-align: right;\">\n",
       "      <th></th>\n",
       "      <th>count</th>\n",
       "    </tr>\n",
       "  </thead>\n",
       "  <tbody>\n",
       "    <tr>\n",
       "      <th>common risk factors in the returns on the stocks and bonds////1993</th>\n",
       "      <td>26</td>\n",
       "    </tr>\n",
       "    <tr>\n",
       "      <th>tunneling////2000</th>\n",
       "      <td>16</td>\n",
       "    </tr>\n",
       "    <tr>\n",
       "      <th>corporate financing and investment decisions when firms have information that investors do not have////1984</th>\n",
       "      <td>15</td>\n",
       "    </tr>\n",
       "    <tr>\n",
       "      <th>risk return and equilibrium: empirical tests////1973</th>\n",
       "      <td>15</td>\n",
       "    </tr>\n",
       "    <tr>\n",
       "      <th>continuous auction and insider trading////1985</th>\n",
       "      <td>14</td>\n",
       "    </tr>\n",
       "    <tr>\n",
       "      <th>on persistence in mutual fund performance////1997</th>\n",
       "      <td>13</td>\n",
       "    </tr>\n",
       "    <tr>\n",
       "      <th>returns to buying winners and selling losers:  implications for stock market efficiency////1993</th>\n",
       "      <td>12</td>\n",
       "    </tr>\n",
       "    <tr>\n",
       "      <th>management ownership and market valuation : an empirical analysis////1988</th>\n",
       "      <td>10</td>\n",
       "    </tr>\n",
       "    <tr>\n",
       "      <th>theory of the firm : managerial behavior agency costs and ownership structure////1976</th>\n",
       "      <td>10</td>\n",
       "    </tr>\n",
       "    <tr>\n",
       "      <th>a simple positive semi-definite heteroscedasticity and autocorrelation consistent covariance matrix////1987</th>\n",
       "      <td>10</td>\n",
       "    </tr>\n",
       "  </tbody>\n",
       "</table>\n",
       "</div>"
      ],
      "text/plain": [
       "                                                    count\n",
       "common risk factors in the returns on the stock...     26\n",
       "tunneling////2000                                      16\n",
       "corporate financing and investment decisions wh...     15\n",
       "risk return and equilibrium: empirical tests///...     15\n",
       "continuous auction and insider trading////1985         14\n",
       "on persistence in mutual fund performance////1997      13\n",
       "returns to buying winners and selling losers:  ...     12\n",
       "management ownership and market valuation : an ...     10\n",
       "theory of the firm : managerial behavior agency...     10\n",
       "a simple positive semi-definite heteroscedastic...     10"
      ]
     },
     "metadata": {},
     "output_type": "display_data"
    },
    {
     "data": {
      "text/markdown": [
       "### 한국증권학회"
      ],
      "text/plain": [
       "<IPython.core.display.Markdown object>"
      ]
     },
     "metadata": {},
     "output_type": "display_data"
    },
    {
     "name": "stdout",
     "output_type": "stream",
     "text": [
      "total length of this dataframe is 5685\n"
     ]
    },
    {
     "data": {
      "text/html": [
       "<div>\n",
       "<style scoped>\n",
       "    .dataframe tbody tr th:only-of-type {\n",
       "        vertical-align: middle;\n",
       "    }\n",
       "\n",
       "    .dataframe tbody tr th {\n",
       "        vertical-align: top;\n",
       "    }\n",
       "\n",
       "    .dataframe thead th {\n",
       "        text-align: right;\n",
       "    }\n",
       "</style>\n",
       "<table border=\"1\" class=\"dataframe\">\n",
       "  <thead>\n",
       "    <tr style=\"text-align: right;\">\n",
       "      <th></th>\n",
       "      <th>count</th>\n",
       "    </tr>\n",
       "  </thead>\n",
       "  <tbody>\n",
       "    <tr>\n",
       "      <th>common risk factors in the returns on the stocks and bonds////1993</th>\n",
       "      <td>136</td>\n",
       "    </tr>\n",
       "    <tr>\n",
       "      <th>theory of the firm : managerial behavior agency costs and ownership structure////1976</th>\n",
       "      <td>101</td>\n",
       "    </tr>\n",
       "    <tr>\n",
       "      <th>on persistence in mutual fund performance////1997</th>\n",
       "      <td>90</td>\n",
       "    </tr>\n",
       "    <tr>\n",
       "      <th>risk return and equilibrium: empirical tests////1973</th>\n",
       "      <td>50</td>\n",
       "    </tr>\n",
       "    <tr>\n",
       "      <th>the pricing of options and corporate liabilities////1973</th>\n",
       "      <td>48</td>\n",
       "    </tr>\n",
       "    <tr>\n",
       "      <th>detecting long-run abnormal stock returns: the empirical power and specification of test statistics////1997</th>\n",
       "      <td>37</td>\n",
       "    </tr>\n",
       "    <tr>\n",
       "      <th>tunneling or value added? evidence from mergers by korean business grups////2002</th>\n",
       "      <td>37</td>\n",
       "    </tr>\n",
       "    <tr>\n",
       "      <th>returns to buying winners and selling losers:  implications for stock market efficiency////1993</th>\n",
       "      <td>27</td>\n",
       "    </tr>\n",
       "    <tr>\n",
       "      <th>trading is hazardous to your wealth: the common stock investment performance of individual investors////2000</th>\n",
       "      <td>27</td>\n",
       "    </tr>\n",
       "    <tr>\n",
       "      <th>the cross-section of volatility and expected returns////2006</th>\n",
       "      <td>26</td>\n",
       "    </tr>\n",
       "  </tbody>\n",
       "</table>\n",
       "</div>"
      ],
      "text/plain": [
       "                                                    count\n",
       "common risk factors in the returns on the stock...    136\n",
       "theory of the firm : managerial behavior agency...    101\n",
       "on persistence in mutual fund performance////1997      90\n",
       "risk return and equilibrium: empirical tests///...     50\n",
       "the pricing of options and corporate liabilitie...     48\n",
       "detecting long-run abnormal stock returns: the ...     37\n",
       "tunneling or value added? evidence from mergers...     37\n",
       "returns to buying winners and selling losers:  ...     27\n",
       "trading is hazardous to your wealth: the common...     27\n",
       "the cross-section of volatility and expected re...     26"
      ]
     },
     "metadata": {},
     "output_type": "display_data"
    },
    {
     "data": {
      "text/markdown": [
       "### 한국파생상품학회"
      ],
      "text/plain": [
       "<IPython.core.display.Markdown object>"
      ]
     },
     "metadata": {},
     "output_type": "display_data"
    },
    {
     "name": "stdout",
     "output_type": "stream",
     "text": [
      "total length of this dataframe is 2395\n"
     ]
    },
    {
     "data": {
      "text/html": [
       "<div>\n",
       "<style scoped>\n",
       "    .dataframe tbody tr th:only-of-type {\n",
       "        vertical-align: middle;\n",
       "    }\n",
       "\n",
       "    .dataframe tbody tr th {\n",
       "        vertical-align: top;\n",
       "    }\n",
       "\n",
       "    .dataframe thead th {\n",
       "        text-align: right;\n",
       "    }\n",
       "</style>\n",
       "<table border=\"1\" class=\"dataframe\">\n",
       "  <thead>\n",
       "    <tr style=\"text-align: right;\">\n",
       "      <th></th>\n",
       "      <th>count</th>\n",
       "    </tr>\n",
       "  </thead>\n",
       "  <tbody>\n",
       "    <tr>\n",
       "      <th>common risk factors in the returns on the stocks and bonds////1993</th>\n",
       "      <td>40</td>\n",
       "    </tr>\n",
       "    <tr>\n",
       "      <th>stock index futures////2006</th>\n",
       "      <td>25</td>\n",
       "    </tr>\n",
       "    <tr>\n",
       "      <th>studies of stock market volatility changes////1976</th>\n",
       "      <td>21</td>\n",
       "    </tr>\n",
       "    <tr>\n",
       "      <th>results////2007</th>\n",
       "      <td>16</td>\n",
       "    </tr>\n",
       "    <tr>\n",
       "      <th>a theory of volatility spreads////2006</th>\n",
       "      <td>16</td>\n",
       "    </tr>\n",
       "    <tr>\n",
       "      <th>asset pricing////2001</th>\n",
       "      <td>16</td>\n",
       "    </tr>\n",
       "    <tr>\n",
       "      <th>stock return characteristics skew laws and the differential pricing of individual equity options////2003</th>\n",
       "      <td>13</td>\n",
       "    </tr>\n",
       "    <tr>\n",
       "      <th>sd////2000</th>\n",
       "      <td>13</td>\n",
       "    </tr>\n",
       "    <tr>\n",
       "      <th>kospi200 옵션시장에서의 박스스프레드 차익거래 수익성////2006</th>\n",
       "      <td>13</td>\n",
       "    </tr>\n",
       "    <tr>\n",
       "      <th>a simple positive semi-definite heteroscedasticity and autocorrelation consistent covariance matrix////1987</th>\n",
       "      <td>13</td>\n",
       "    </tr>\n",
       "  </tbody>\n",
       "</table>\n",
       "</div>"
      ],
      "text/plain": [
       "                                                    count\n",
       "common risk factors in the returns on the stock...     40\n",
       "stock index futures////2006                            25\n",
       "studies of stock market volatility changes////1976     21\n",
       "results////2007                                        16\n",
       "a theory of volatility spreads////2006                 16\n",
       "asset pricing////2001                                  16\n",
       "stock return characteristics skew laws and the ...     13\n",
       "sd////2000                                             13\n",
       "kospi200 옵션시장에서의 박스스프레드 차익거래 수익성////2006               13\n",
       "a simple positive semi-definite heteroscedastic...     13"
      ]
     },
     "metadata": {},
     "output_type": "display_data"
    }
   ],
   "source": [
    "display(Markdown('### 한국재무관리학회'))\n",
    "display(make_counter_df_under_journal(fm_final_df).head(10))\n",
    "display(Markdown('### 한국재무학회'))\n",
    "display(make_counter_df_under_journal(f_final_df).head(10))\n",
    "display(Markdown('### 한국증권학회'))\n",
    "display(make_counter_df_under_journal(sc_final_df).head(10))\n",
    "display(Markdown('### 한국파생상품학회'))\n",
    "display(make_counter_df_under_journal(dr_final_df).head(10))"
   ]
  }
 ],
 "metadata": {
  "kernelspec": {
   "display_name": "Python 3",
   "language": "python",
   "name": "python3"
  },
  "language_info": {
   "codemirror_mode": {
    "name": "ipython",
    "version": 3
   },
   "file_extension": ".py",
   "mimetype": "text/x-python",
   "name": "python",
   "nbconvert_exporter": "python",
   "pygments_lexer": "ipython3",
   "version": "3.6.6"
  }
 },
 "nbformat": 4,
 "nbformat_minor": 2
}
