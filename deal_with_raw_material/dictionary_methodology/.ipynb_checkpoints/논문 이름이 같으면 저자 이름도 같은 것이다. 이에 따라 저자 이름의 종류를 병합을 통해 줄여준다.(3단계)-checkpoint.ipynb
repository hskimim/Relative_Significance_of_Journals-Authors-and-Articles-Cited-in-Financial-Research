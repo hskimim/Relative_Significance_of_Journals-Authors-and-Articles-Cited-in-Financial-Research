{
 "cells": [
  {
   "cell_type": "markdown",
   "metadata": {},
   "source": [
    "해당 페이지에서 시도하려고 하는 것은 저자의 이름과 논문의 년도 , 저널에 대한 통일성을 강화해주기 위해, 같은 논문이름에 대해 가장 빈도 수가 높은 것으로 병합함으로써, 결측치를 보완하고, `Fama.E.F` `Fama.Eugine.F`와 같이 동일인이지만, 다르게 표기되는 것에 대한 산발성을 줄여주는 것이다."
   ]
  },
  {
   "cell_type": "code",
   "execution_count": 1,
   "metadata": {},
   "outputs": [],
   "source": [
    "import pandas as pd\n",
    "from collections import Counter"
   ]
  },
  {
   "cell_type": "code",
   "execution_count": 2,
   "metadata": {},
   "outputs": [],
   "source": [
    "base_df = pd.read_csv('base_df_with_new_paper.csv')\n",
    "fm_base_df = pd.read_csv('fm_base_df.csv')\n",
    "f_base_df = pd.read_csv('f_base_df.csv')\n",
    "sc_base_df = pd.read_csv('sc_base_df.csv')\n",
    "dr_base_df = pd.read_csv('dr_base_df.csv')"
   ]
  },
  {
   "cell_type": "code",
   "execution_count": 13,
   "metadata": {},
   "outputs": [],
   "source": [
    "def make_counter_df(df_columns) :\n",
    "    df1 = pd.DataFrame.from_dict(Counter(df_columns),orient='index',columns=['count'])\n",
    "    df2 = df1.sort_values('count',ascending=False)\n",
    "    return df2"
   ]
  },
  {
   "cell_type": "code",
   "execution_count": 15,
   "metadata": {},
   "outputs": [],
   "source": [
    "def adjusting_the_column(col,df):\n",
    "    testing_df = df.copy()\n",
    "    count_df = make_counter_df(df['tuned_new_paper'])\n",
    "    count_df.reset_index(inplace=True)\n",
    "    count_ls = count_df['index'].tolist()\n",
    "        \n",
    "    for idx in range(len(count_ls)) : \n",
    "        if idx % 4000 == 0 : print(idx)\n",
    "        count_dict = Counter(testing_df[testing_df['tuned_new_paper'] == count_ls[idx]]['{}'.format(col)])\n",
    "        max_ls = max(count_dict, key=count_dict.get)\n",
    "        mask = testing_df['tuned_new_paper'] == count_ls[idx]\n",
    "        testing_df.loc[mask, col] = max_ls\n",
    "    return testing_df"
   ]
  },
  {
   "cell_type": "code",
   "execution_count": 16,
   "metadata": {},
   "outputs": [],
   "source": [
    "def new_merging_methodology(df):\n",
    "    df = adjusting_the_column('author',df)\n",
    "    df = adjusting_the_column('journal',df)\n",
    "    df = adjusting_the_column('year',df)\n",
    "    return df"
   ]
  },
  {
   "cell_type": "code",
   "execution_count": 17,
   "metadata": {},
   "outputs": [
    {
     "name": "stdout",
     "output_type": "stream",
     "text": [
      "0\n",
      "4000\n",
      "8000\n",
      "12000\n",
      "0\n",
      "4000\n",
      "8000\n",
      "12000\n",
      "0\n",
      "4000\n",
      "8000\n",
      "12000\n",
      "0\n",
      "4000\n",
      "0\n",
      "4000\n",
      "0\n",
      "4000\n",
      "0\n",
      "4000\n",
      "0\n",
      "4000\n",
      "0\n",
      "4000\n",
      "0\n",
      "0\n",
      "0\n",
      "0\n",
      "0\n",
      "0\n"
     ]
    }
   ],
   "source": [
    "base_df  = new_merging_methodology(base_df)\n",
    "fm_base_df = new_merging_methodology(fm_base_df)\n",
    "f_base_df = new_merging_methodology(f_base_df)\n",
    "sc_base_df = new_merging_methodology(sc_base_df)\n",
    "dr_base_df = new_merging_methodology(dr_base_df)"
   ]
  },
  {
   "cell_type": "code",
   "execution_count": 18,
   "metadata": {},
   "outputs": [],
   "source": [
    "base_df.to_csv('base_df_with_new_paper.csv',index=False)\n",
    "fm_base_df.to_csv('fm_base_df.csv',index=False)\n",
    "f_base_df.to_csv('f_base_df.csv',index=False)\n",
    "sc_base_df.to_csv('sc_base_df.csv',index=False)\n",
    "dr_base_df.to_csv('dr_base_df.csv',index=False)"
   ]
  }
 ],
 "metadata": {
  "kernelspec": {
   "display_name": "Python 3",
   "language": "python",
   "name": "python3"
  },
  "language_info": {
   "codemirror_mode": {
    "name": "ipython",
    "version": 3
   },
   "file_extension": ".py",
   "mimetype": "text/x-python",
   "name": "python",
   "nbconvert_exporter": "python",
   "pygments_lexer": "ipython3",
   "version": "3.6.6"
  }
 },
 "nbformat": 4,
 "nbformat_minor": 2
}
