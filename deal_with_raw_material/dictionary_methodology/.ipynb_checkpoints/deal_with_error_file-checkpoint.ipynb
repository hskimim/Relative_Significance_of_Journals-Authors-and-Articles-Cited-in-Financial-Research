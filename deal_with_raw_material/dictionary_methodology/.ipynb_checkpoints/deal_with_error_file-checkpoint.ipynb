{
 "cells": [
  {
   "cell_type": "markdown",
   "metadata": {},
   "source": [
    "에러 파일이 총 263개가 발생하였고, 이에 대해 다시 파싱을 적용한다"
   ]
  },
  {
   "cell_type": "code",
   "execution_count": 11,
   "metadata": {},
   "outputs": [],
   "source": [
    "import os\n",
    "import subprocess\n",
    "import pandas as pd\n",
    "\n",
    "import sys\n",
    "sys.path.append('../personal_pkgs/')\n",
    "\n",
    "import parsing_func as pars\n",
    "import oop_func as func\n",
    "import oop_function as function\n",
    "\n",
    "import warnings\n",
    "warnings.simplefilter('ignore')\n",
    "\n",
    "import re"
   ]
  },
  {
   "cell_type": "code",
   "execution_count": 12,
   "metadata": {
    "scrolled": true
   },
   "outputs": [
    {
     "data": {
      "text/plain": [
       "['../../paper_list/한국재무관리학회/2004/KCI_FI001156255.txt',\n",
       " '../../paper_list/한국재무관리학회/2004/KCI_FI001156092.txt',\n",
       " '../../paper_list/한국재무관리학회/2005/KCI_FI001156473.txt',\n",
       " '../../paper_list/한국재무관리학회/2005/KCI_FI001156428.txt',\n",
       " '../../paper_list/한국재무관리학회/2005/KCI_FI001156429.txt']"
      ]
     },
     "execution_count": 12,
     "metadata": {},
     "output_type": "execute_result"
    }
   ],
   "source": [
    "error_path = pd.read_csv('error_path.csv').iloc[:,0].tolist()\n",
    "error_path[:5]"
   ]
  },
  {
   "cell_type": "code",
   "execution_count": 14,
   "metadata": {},
   "outputs": [],
   "source": [
    "valueerror_ls = []\n",
    "unicodeerror_ls = []\n",
    "success_ls = []\n",
    "sentences_ls = []\n",
    "\n",
    "for err in error_path :\n",
    "    try : \n",
    "        process1 = func.Slicing_paper(err,special_case=False)\n",
    "        sentences_ls.append(process1.split())\n",
    "        success_ls.append(err)\n",
    "    except UnicodeDecodeError :\n",
    "        unicodeerror_ls.append(err)\n",
    "    except ValueError :\n",
    "        valueerror_ls.append(err)"
   ]
  },
  {
   "cell_type": "code",
   "execution_count": 23,
   "metadata": {},
   "outputs": [
    {
     "data": {
      "text/plain": [
       "[('09800180.txt', '09800180.txt'),\n",
       " ('09800182 (1).txt', '09800182 (1).txt'),\n",
       " ('09800183.txt', '09800183.txt'),\n",
       " ('09800184.txt', '09800184.txt'),\n",
       " ('09800191.txt', '09800191.txt'),\n",
       " ('09800193.txt', '09800193.txt'),\n",
       " ('09800200 (1).txt', '09800200 (1).txt'),\n",
       " ('09800201.txt', '09800201.txt'),\n",
       " ('09800202.txt', '09800202.txt'),\n",
       " ('09800203.txt', '09800203.txt'),\n",
       " ('09800204.txt', '09800204.txt'),\n",
       " ('09800213.txt', '09800213.txt'),\n",
       " ('09800222.txt', '09800222.txt'),\n",
       " ('09800266.txt', '09800266.txt'),\n",
       " ('09800274.txt', '09800274.txt'),\n",
       " ('09800280.txt', '09800280.txt'),\n",
       " ('09800288.txt', '09800288.txt'),\n",
       " ('09800289.txt', '09800289.txt'),\n",
       " ('09800290.txt', '09800290.txt'),\n",
       " ('09800291.txt', '09800291.txt'),\n",
       " ('09800292.txt', '09800292.txt'),\n",
       " ('09800299.txt', '09800299.txt'),\n",
       " ('09800305.txt', '09800305.txt'),\n",
       " ('09800322.txt', '09800322.txt'),\n",
       " ('09800327.txt', '09800327.txt'),\n",
       " ('09800329.txt', '09800329.txt'),\n",
       " ('09800335.txt', '09800335.txt'),\n",
       " ('09800336.txt', '09800336.txt'),\n",
       " ('09800341.txt', '09800341.txt'),\n",
       " ('09800342.txt', '09800342.txt'),\n",
       " ('09800348.txt', '09800348.txt'),\n",
       " ('09800350.txt', '09800350.txt'),\n",
       " ('09800355.txt', '09800355.txt'),\n",
       " ('09800356.txt', '09800356.txt'),\n",
       " ('09800366.txt', '09800366.txt'),\n",
       " ('09800379.txt', '09800379.txt'),\n",
       " ('09800380 (1).txt', '09800380 (1).txt'),\n",
       " ('09800381.txt', '09800381.txt'),\n",
       " ('09800389.txt', '09800389.txt'),\n",
       " ('09800404.txt', '09800404.txt'),\n",
       " ('09800411.txt', '09800411.txt'),\n",
       " ('09800414.txt', '09800414.txt'),\n",
       " ('09800419.txt', '09800419.txt'),\n",
       " ('09800427 (1).txt', '09800427 (1).txt'),\n",
       " ('09800435.txt', '09800435.txt'),\n",
       " ('09800436 (1).txt', '09800436 (1).txt'),\n",
       " ('09800438.txt', '09800438.txt'),\n",
       " ('09800444.txt', '09800444.txt'),\n",
       " ('09800445.txt', '09800445.txt'),\n",
       " ('09800446.txt', '09800446.txt'),\n",
       " ('09800453.txt', '09800453.txt'),\n",
       " ('09800473.txt', '09800473.txt'),\n",
       " ('09800474.txt', '09800474.txt'),\n",
       " ('09800476.txt', '09800476.txt'),\n",
       " ('09800494.txt', '09800494.txt'),\n",
       " ('09800496.txt', '09800496.txt'),\n",
       " ('09800505.txt', '09800505.txt'),\n",
       " ('09800514.txt', '09800514.txt'),\n",
       " ('Can_Behavioral_Models_Explain_the_Beha··.txt',\n",
       "  'Can_Behavioral_Models_Explain_the_Beha··.txt'),\n",
       " ('Institutional_Ownership_and_Accounting··.txt',\n",
       "  'Institutional_Ownership_and_Accounting··.txt'),\n",
       " ('Investor_Base_and_Risk.txt', 'Investor_Base_and_Risk.txt'),\n",
       " ('Investor_Sophistication_and_Patterns_i··.txt',\n",
       "  'Investor_Sophistication_and_Patterns_i··.txt'),\n",
       " ('KCI_FI001011432.txt', 'KCI_FI001011432.txt'),\n",
       " ('KCI_FI001011433.txt', 'KCI_FI001011433.txt'),\n",
       " ('KCI_FI001013783.txt', 'KCI_FI001013783.txt'),\n",
       " ('KCI_FI001014091.txt', 'KCI_FI001014091.txt'),\n",
       " ('KCI_FI001014092.txt', 'KCI_FI001014092.txt'),\n",
       " ('KCI_FI001014204.txt', 'KCI_FI001014204.txt'),\n",
       " ('KCI_FI001036347.txt', 'KCI_FI001036347.txt'),\n",
       " ('KCI_FI001036348.txt', 'KCI_FI001036348.txt'),\n",
       " ('KCI_FI001050618.txt', 'KCI_FI001050618.txt'),\n",
       " ('KCI_FI001050619.txt', 'KCI_FI001050619.txt'),\n",
       " ('KCI_FI001050620.txt', 'KCI_FI001050620.txt'),\n",
       " ('KCI_FI001050812.txt', 'KCI_FI001050812.txt'),\n",
       " ('KCI_FI001050813.txt', 'KCI_FI001050813.txt'),\n",
       " ('KCI_FI001061339.txt', 'KCI_FI001061339.txt'),\n",
       " ('KCI_FI001061344.txt', 'KCI_FI001061344.txt'),\n",
       " ('KCI_FI001061345.txt', 'KCI_FI001061345.txt'),\n",
       " ('KCI_FI001061346.txt', 'KCI_FI001061346.txt'),\n",
       " ('KCI_FI001155842.txt', 'KCI_FI001155842.txt'),\n",
       " ('KCI_FI001155843.txt', 'KCI_FI001155843.txt'),\n",
       " ('KCI_FI001155881.txt', 'KCI_FI001155881.txt'),\n",
       " ('KCI_FI001155882.txt', 'KCI_FI001155882.txt'),\n",
       " ('KCI_FI001155883.txt', 'KCI_FI001155883.txt'),\n",
       " ('KCI_FI001155927.txt', 'KCI_FI001155927.txt'),\n",
       " ('KCI_FI001155928.txt', 'KCI_FI001155928.txt'),\n",
       " ('KCI_FI001155929.txt', 'KCI_FI001155929.txt'),\n",
       " ('KCI_FI001155971.txt', 'KCI_FI001155971.txt'),\n",
       " ('KCI_FI001156092.txt', 'KCI_FI001156092.txt'),\n",
       " ('KCI_FI001156255.txt', 'KCI_FI001156255.txt'),\n",
       " ('KCI_FI001156384.txt', 'KCI_FI001156384.txt'),\n",
       " ('KCI_FI001156428.txt', 'KCI_FI001156428.txt'),\n",
       " ('KCI_FI001156429.txt', 'KCI_FI001156429.txt'),\n",
       " ('KCI_FI001156430.txt', 'KCI_FI001156430.txt'),\n",
       " ('KCI_FI001156431.txt', 'KCI_FI001156431.txt'),\n",
       " ('KCI_FI001156473.txt', 'KCI_FI001156473.txt'),\n",
       " ('KCI_FI001156474.txt', 'KCI_FI001156474.txt'),\n",
       " ('KCI_FI001191189.txt', 'KCI_FI001191189.txt'),\n",
       " ('KCI_FI001191190.txt', 'KCI_FI001191190.txt'),\n",
       " ('KCI_FI001191191.txt', 'KCI_FI001191191.txt'),\n",
       " ('KCI_FI001233279.txt', 'KCI_FI001233279.txt'),\n",
       " ('KCI_FI001233280.txt', 'KCI_FI001233280.txt'),\n",
       " ('KCI_FI001233283.txt', 'KCI_FI001233283.txt'),\n",
       " ('KCI_FI001233284.txt', 'KCI_FI001233284.txt'),\n",
       " ('KCI_FI001233285.txt', 'KCI_FI001233285.txt'),\n",
       " ('KCI_FI001233286.txt', 'KCI_FI001233286.txt'),\n",
       " ('KCI_FI001233287.txt', 'KCI_FI001233287.txt'),\n",
       " ('KCI_FI001256924.txt', 'KCI_FI001256924.txt'),\n",
       " ('KCI_FI001261263.txt', 'KCI_FI001261263.txt'),\n",
       " ('KCI_FI001261265.txt', 'KCI_FI001261265.txt'),\n",
       " ('KCI_FI001261271.txt', 'KCI_FI001261271.txt'),\n",
       " ('KCI_FI001261272.txt', 'KCI_FI001261272.txt'),\n",
       " ('KCI_FI001311944.txt', 'KCI_FI001311944.txt'),\n",
       " ('KCI_FI001311945.txt', 'KCI_FI001311945.txt'),\n",
       " ('KCI_FI001311946.txt', 'KCI_FI001311946.txt'),\n",
       " ('KCI_FI001311947.txt', 'KCI_FI001311947.txt'),\n",
       " ('KCI_FI001311948.txt', 'KCI_FI001311948.txt'),\n",
       " ('KCI_FI001311949.txt', 'KCI_FI001311949.txt'),\n",
       " ('KCI_FI001311950.txt', 'KCI_FI001311950.txt'),\n",
       " ('KCI_FI001334980.txt', 'KCI_FI001334980.txt'),\n",
       " ('KCI_FI001334987.txt', 'KCI_FI001334987.txt'),\n",
       " ('KCI_FI001363057.txt', 'KCI_FI001363057.txt'),\n",
       " ('KCI_FI001363058.txt', 'KCI_FI001363058.txt'),\n",
       " ('KCI_FI001363059.txt', 'KCI_FI001363059.txt'),\n",
       " ('KCI_FI001363060.txt', 'KCI_FI001363060.txt'),\n",
       " ('KCI_FI001363062.txt', 'KCI_FI001363062.txt'),\n",
       " ('KCI_FI001363063.txt', 'KCI_FI001363063.txt'),\n",
       " ('KCI_FI001363064.txt', 'KCI_FI001363064.txt'),\n",
       " ('KCI_FI001462823.txt', 'KCI_FI001462823.txt'),\n",
       " ('KCI_FI001462827.txt', 'KCI_FI001462827.txt'),\n",
       " ('KCI_FI001462829.txt', 'KCI_FI001462829.txt'),\n",
       " ('KCI_FI001462830.txt', 'KCI_FI001462830.txt'),\n",
       " ('KCI_FI001462832.txt', 'KCI_FI001462832.txt'),\n",
       " ('KCI_FI001462833.txt', 'KCI_FI001462833.txt'),\n",
       " ('KCI_FI001462835.txt', 'KCI_FI001462835.txt'),\n",
       " ('KCI_FI001563489.txt', 'KCI_FI001563489.txt'),\n",
       " ('KCI_FI001590084.txt', 'KCI_FI001590084.txt'),\n",
       " ('KCI_FI001781722.txt', 'KCI_FI001781722.txt'),\n",
       " ('KOSPI200_옵션시장에서의_변동성지수_산출_및_분석.txt', 'KOSPI200_옵션시장에서의_변동성지수_산출_및_분석.txt'),\n",
       " ('KOSPI_200_선물_및_옵션의_만기일_효과.txt', 'KOSPI_200_선물_및_옵션의_만기일_효과.txt'),\n",
       " ('KOSPI_200_지수의_상태_가격_밀도_비교_분석.txt', 'KOSPI_200_지수의_상태_가격_밀도_비교_분석.txt'),\n",
       " ('Linear_Asset_Pricing_under_Portfolio_C··.txt',\n",
       "  'Linear_Asset_Pricing_under_Portfolio_C··.txt'),\n",
       " ('Response_Asymmetries_in_Return_and_Vol··.txt',\n",
       "  'Response_Asymmetries_in_Return_and_Vol··.txt'),\n",
       " ('Tax-Motivated_Trading_Strategies_of_Mu··.txt',\n",
       "  'Tax-Motivated_Trading_Strategies_of_Mu··.txt'),\n",
       " ('The_Conditional_Relationship_between_R··.txt',\n",
       "  'The_Conditional_Relationship_between_R··.txt'),\n",
       " ('Tick_Size_and_Trading_Costs_on_the_Kor··.txt',\n",
       "  'Tick_Size_and_Trading_Costs_on_the_Kor··.txt'),\n",
       " ('Weather_Derivatives_and_Seasonal_Forec··.txt',\n",
       "  'Weather_Derivatives_and_Seasonal_Forec··.txt'),\n",
       " ('vol18_no2_101.txt', 'vol18_no2_101.txt'),\n",
       " ('vol18_no2_239.txt', 'vol18_no2_239.txt'),\n",
       " ('vol23_no3_213.txt', '국내_주식_및_채권_펀드를_통한_위탁투자에_관한_연구.txt'),\n",
       " ('국내_주식_및_채권_펀드를_통한_위탁투자에_관한_연구.txt', '국채선물을_이용한_차익거래전략.txt'),\n",
       " ('국채선물을_이용한_차익거래전략.txt', '극단치이론을_이용한_VaR의_추정_및_성과.txt'),\n",
       " ('극단치이론을_이용한_VaR의_추정_및_성과.txt', '기술적_분석의_성과측정에_대한_시뮬레이션_연구.txt'),\n",
       " ('기술적_분석의_성과측정에_대한_시뮬레이션_연구.txt', '부실기업에_대한_금융기관의_대출_결정_요인.txt'),\n",
       " ('부실기업에_대한_금융기관의_대출_결정_요인.txt', '상장기업_대주주의_무상증여와_대리인문제.txt'),\n",
       " ('상장기업_대주주의_무상증여와_대리인문제.txt', '상장지수펀드(ETF)_차익거래전략.txt'),\n",
       " ('상장지수펀드(ETF)_차익거래전략.txt', '소유_구조와_기업의_회계적_성과_및_Tobin_-_Q_의_관계에_관한··.txt'),\n",
       " ('소유_구조와_기업의_회계적_성과_및_Tobin_-_Q_의_관계에_관한··.txt',\n",
       "  '한국주식시장에서_가치투자전략의_투자성과와_그_원천.txt'),\n",
       " ('한국주식시장에서_가치투자전략의_투자성과와_그_원천.txt',\n",
       "  '한국주식시장에서_동시호가기간중_주문행태와_가격발견기능에_관한_연구.txt'),\n",
       " ('한국주식시장에서_동시호가기간중_주문행태와_가격발견기능에_관한_연구.txt', '한국주식시장의_유동성_동행화.txt')]"
      ]
     },
     "execution_count": 23,
     "metadata": {},
     "output_type": "execute_result"
    }
   ],
   "source": [
    "list(zip(sorted([i.split('/')[-1] for i in error_path]) , sorted(os.listdir('error_solved_file/'))))"
   ]
  },
  {
   "cell_type": "code",
   "execution_count": 17,
   "metadata": {
    "scrolled": true
   },
   "outputs": [],
   "source": [
    "valueerror_ls = []\n",
    "unicodeerror_ls = []\n",
    "success_ls = []\n",
    "sentences_ls = []\n",
    "\n",
    "for file in os.listdir('error_solved_file/') : \n",
    "    file = 'error_solved_file/' + file\n",
    "    try : \n",
    "        process1 = func.Slicing_paper(file,special_case=False)\n",
    "        sentences_ls.append(process1.split())\n",
    "        success_ls.append(file)\n",
    "    except ValueError :\n",
    "        valueerror_ls.append(file)"
   ]
  },
  {
   "cell_type": "code",
   "execution_count": 18,
   "metadata": {},
   "outputs": [
    {
     "data": {
      "text/plain": [
       "47"
      ]
     },
     "execution_count": 18,
     "metadata": {},
     "output_type": "execute_result"
    }
   ],
   "source": [
    "len(valueerror_ls)"
   ]
  },
  {
   "cell_type": "code",
   "execution_count": 9,
   "metadata": {
    "scrolled": true
   },
   "outputs": [
    {
     "name": "stdout",
     "output_type": "stream",
     "text": [
      "0\n",
      "5\n",
      "10\n",
      "15\n",
      "error_solved_file/vol18_no2_239.txt there is no notation about References\n",
      "20\n",
      "25\n",
      "30\n",
      "error_solved_file/vol18_no2_101.txt there is no notation about References\n",
      "35\n",
      "40\n",
      "45\n"
     ]
    }
   ],
   "source": [
    "unicodeerror_ls = []\n",
    "success_ls = []\n",
    "sentences_ls = []\n",
    "\n",
    "for idx,file in enumerate(valueerror_ls) : \n",
    "    if idx % 5 == 0 : print(idx)\n",
    "    try : \n",
    "        process1 = func.Slicing_paper(file,special_case=True)\n",
    "        sentences_ls.append(process1.split())\n",
    "        success_ls.append(file)\n",
    "    except Exception as e:\n",
    "        print(file,e)"
   ]
  }
 ],
 "metadata": {
  "kernelspec": {
   "display_name": "Python 3",
   "language": "python",
   "name": "python3"
  },
  "language_info": {
   "codemirror_mode": {
    "name": "ipython",
    "version": 3
   },
   "file_extension": ".py",
   "mimetype": "text/x-python",
   "name": "python",
   "nbconvert_exporter": "python",
   "pygments_lexer": "ipython3",
   "version": "3.6.6"
  }
 },
 "nbformat": 4,
 "nbformat_minor": 2
}
