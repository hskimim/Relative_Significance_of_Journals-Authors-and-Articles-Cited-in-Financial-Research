{
 "cells": [
  {
   "cell_type": "code",
   "execution_count": 222,
   "metadata": {},
   "outputs": [],
   "source": [
    "import pickle\n",
    "import pandas as pd\n",
    "import numpy as np\n",
    "from ordered_set import OrderedSet"
   ]
  },
  {
   "cell_type": "markdown",
   "metadata": {},
   "source": [
    "#### 우선, author dictionary 는 해당 페이지에서 작업하지 않는다. \n",
    "#### 해당 파일에서 하려는 것은 딕셔너리의 성능 향샹을 위해서, 데이터프레임으로 딕셔너리를 효과적으로 시각화(visualize), \n",
    "#### 자의적으로 두 개 이상(N) 으로 나뉘어진 딕셔러니의 key들을 N-1 이하 개의 key 로 줄여주기 위함이다."
   ]
  },
  {
   "cell_type": "code",
   "execution_count": 223,
   "metadata": {},
   "outputs": [],
   "source": [
    "pickle_in = open(\"dictionary/paper_ready_to_target_dict.pickle\",\"rb\")\n",
    "paper_ready_to_target_dict = pickle.load(pickle_in)"
   ]
  },
  {
   "cell_type": "code",
   "execution_count": 224,
   "metadata": {},
   "outputs": [
    {
     "data": {
      "text/plain": [
       "(dict, dict)"
      ]
     },
     "execution_count": 224,
     "metadata": {},
     "output_type": "execute_result"
    }
   ],
   "source": [
    "type(paper_ready_to_target_dict)"
   ]
  },
  {
   "cell_type": "code",
   "execution_count": 225,
   "metadata": {},
   "outputs": [],
   "source": [
    "paper_dict = paper_ready_to_target_dict.copy()\n",
    "\n",
    "for key in paper_dict.keys() : \n",
    "    paper_dict[key] = set(paper_dict.get(key))"
   ]
  },
  {
   "cell_type": "code",
   "execution_count": 226,
   "metadata": {},
   "outputs": [],
   "source": [
    "paper_dict_df = pd.DataFrame.from_dict(paper_dict,orient='index')"
   ]
  },
  {
   "cell_type": "code",
   "execution_count": 227,
   "metadata": {},
   "outputs": [],
   "source": [
    "paper_dict_df['year'] = [i.split(\"////\")[1] for i in paper_dict.keys()]"
   ]
  },
  {
   "cell_type": "code",
   "execution_count": 228,
   "metadata": {},
   "outputs": [
    {
     "data": {
      "text/plain": [
       "((853, 14), (1061, 10))"
      ]
     },
     "execution_count": 228,
     "metadata": {},
     "output_type": "execute_result"
    }
   ],
   "source": [
    "paper_dict_df.shape , author_dict_df.shape"
   ]
  },
  {
   "cell_type": "code",
   "execution_count": 229,
   "metadata": {
    "scrolled": false
   },
   "outputs": [
    {
     "data": {
      "text/plain": [
       "[['on persistence in mutual fund performance', '1997'],\n",
       " ['the pricing of options and corporate liabilities', '1973'],\n",
       " ['tunneling', '2000'],\n",
       " ['corporate financing and investment decisions when firms have information that investors do not have',\n",
       "  '1984'],\n",
       " ['the cross-section of volatility and expected returns', '2006']]"
      ]
     },
     "execution_count": 229,
     "metadata": {},
     "output_type": "execute_result"
    }
   ],
   "source": [
    "paper_split_ls = [i.split('////') for i in paper_dict_df.index.tolist()]\n",
    "paper_split_ls[:5]"
   ]
  },
  {
   "cell_type": "markdown",
   "metadata": {},
   "source": [
    "딕셔너리의 key들끼리 similarity를 계산한다. 눈으로 보고 병합할 것을 판단한다."
   ]
  },
  {
   "cell_type": "code",
   "execution_count": 230,
   "metadata": {},
   "outputs": [],
   "source": [
    "def calc_similarity_score(t1,t2) : \n",
    "    t1 = OrderedSet(t1[0].split(\" \"))\n",
    "    t2 = OrderedSet(t2[0].split(\" \"))\n",
    "    score = np.average([len(t1.intersection(t2)) / len(t1),len(t1.intersection(t2)) / len(t2)])\n",
    "    return score"
   ]
  },
  {
   "cell_type": "code",
   "execution_count": 231,
   "metadata": {
    "scrolled": true
   },
   "outputs": [
    {
     "name": "stdout",
     "output_type": "stream",
     "text": [
      "(['the general theory of employment interest and money', '1936'], ['the general theory of employment', '1937'])\n",
      "(['the maturity structure of corporate debt', '1995'], ['the determinants of corporate debt maturity structure', '1996'])\n"
     ]
    }
   ],
   "source": [
    "testing_ls = paper_split_ls.copy()\n",
    "\n",
    "for idx1 in range(len(testing_ls)) : \n",
    "    for idx2 in range(len(testing_ls)) : \n",
    "        if idx1 >= idx2 : continue\n",
    "        try : \n",
    "            if np.abs(int([i[1] for i in testing_ls][idx1]) - int([i[1] for i in testing_ls][idx2])) < 2 : \n",
    "                if calc_similarity_score(testing_ls[idx1],testing_ls[idx2]) > 0.75 : \n",
    "                    print((testing_ls[idx1],testing_ls[idx2]))\n",
    "        except : \n",
    "            if calc_similarity_score(testing_ls[idx1],testing_ls[idx2]) > 0.75 : \n",
    "                print((testing_ls[idx1],testing_ls[idx2]))\n"
   ]
  },
  {
   "cell_type": "markdown",
   "metadata": {},
   "source": [
    "`['the general theory of employment interest and money', '1936'], ['the general theory of employment', '1937']` 이거 두 개는 병합해야 한다."
   ]
  },
  {
   "cell_type": "code",
   "execution_count": 232,
   "metadata": {},
   "outputs": [
    {
     "data": {
      "text/html": [
       "<div>\n",
       "<style scoped>\n",
       "    .dataframe tbody tr th:only-of-type {\n",
       "        vertical-align: middle;\n",
       "    }\n",
       "\n",
       "    .dataframe tbody tr th {\n",
       "        vertical-align: top;\n",
       "    }\n",
       "\n",
       "    .dataframe thead th {\n",
       "        text-align: right;\n",
       "    }\n",
       "</style>\n",
       "<table border=\"1\" class=\"dataframe\">\n",
       "  <thead>\n",
       "    <tr style=\"text-align: right;\">\n",
       "      <th></th>\n",
       "      <th>0</th>\n",
       "      <th>1</th>\n",
       "      <th>2</th>\n",
       "      <th>3</th>\n",
       "      <th>4</th>\n",
       "      <th>5</th>\n",
       "      <th>6</th>\n",
       "      <th>7</th>\n",
       "      <th>8</th>\n",
       "      <th>9</th>\n",
       "      <th>10</th>\n",
       "      <th>11</th>\n",
       "      <th>12</th>\n",
       "      <th>year</th>\n",
       "    </tr>\n",
       "  </thead>\n",
       "  <tbody>\n",
       "    <tr>\n",
       "      <th>the modern corporation and private property////1932</th>\n",
       "      <td>the modern corporation and private property///...</td>\n",
       "      <td>None</td>\n",
       "      <td>None</td>\n",
       "      <td>None</td>\n",
       "      <td>None</td>\n",
       "      <td>None</td>\n",
       "      <td>None</td>\n",
       "      <td>None</td>\n",
       "      <td>None</td>\n",
       "      <td>None</td>\n",
       "      <td>None</td>\n",
       "      <td>None</td>\n",
       "      <td>None</td>\n",
       "      <td>1932</td>\n",
       "    </tr>\n",
       "    <tr>\n",
       "      <th>interest and money////1936</th>\n",
       "      <td>interest and money////1936</td>\n",
       "      <td>None</td>\n",
       "      <td>None</td>\n",
       "      <td>None</td>\n",
       "      <td>None</td>\n",
       "      <td>None</td>\n",
       "      <td>None</td>\n",
       "      <td>None</td>\n",
       "      <td>None</td>\n",
       "      <td>None</td>\n",
       "      <td>None</td>\n",
       "      <td>None</td>\n",
       "      <td>None</td>\n",
       "      <td>1936</td>\n",
       "    </tr>\n",
       "    <tr>\n",
       "      <th>the general theory of employment interest and money////1936</th>\n",
       "      <td>the general theory of employment. in: interest...</td>\n",
       "      <td>the general theory of employment interest and ...</td>\n",
       "      <td>interest and money////1936</td>\n",
       "      <td>None</td>\n",
       "      <td>None</td>\n",
       "      <td>None</td>\n",
       "      <td>None</td>\n",
       "      <td>None</td>\n",
       "      <td>None</td>\n",
       "      <td>None</td>\n",
       "      <td>None</td>\n",
       "      <td>None</td>\n",
       "      <td>None</td>\n",
       "      <td>1936</td>\n",
       "    </tr>\n",
       "    <tr>\n",
       "      <th>the general theory of employment////1937</th>\n",
       "      <td>the general theory of employment////1937</td>\n",
       "      <td>None</td>\n",
       "      <td>None</td>\n",
       "      <td>None</td>\n",
       "      <td>None</td>\n",
       "      <td>None</td>\n",
       "      <td>None</td>\n",
       "      <td>None</td>\n",
       "      <td>None</td>\n",
       "      <td>None</td>\n",
       "      <td>None</td>\n",
       "      <td>None</td>\n",
       "      <td>None</td>\n",
       "      <td>1937</td>\n",
       "    </tr>\n",
       "    <tr>\n",
       "      <th>individual comparisons by ranking methods////1945</th>\n",
       "      <td>individual comparisons by ranking methods////1945</td>\n",
       "      <td>None</td>\n",
       "      <td>None</td>\n",
       "      <td>None</td>\n",
       "      <td>None</td>\n",
       "      <td>None</td>\n",
       "      <td>None</td>\n",
       "      <td>None</td>\n",
       "      <td>None</td>\n",
       "      <td>None</td>\n",
       "      <td>None</td>\n",
       "      <td>None</td>\n",
       "      <td>None</td>\n",
       "      <td>1945</td>\n",
       "    </tr>\n",
       "  </tbody>\n",
       "</table>\n",
       "</div>"
      ],
      "text/plain": [
       "                                                                                                    0  \\\n",
       "the modern corporation and private property////...  the modern corporation and private property///...   \n",
       "interest and money////1936                                                 interest and money////1936   \n",
       "the general theory of employment interest and m...  the general theory of employment. in: interest...   \n",
       "the general theory of employment////1937                     the general theory of employment////1937   \n",
       "individual comparisons by ranking methods////1945   individual comparisons by ranking methods////1945   \n",
       "\n",
       "                                                                                                    1  \\\n",
       "the modern corporation and private property////...                                               None   \n",
       "interest and money////1936                                                                       None   \n",
       "the general theory of employment interest and m...  the general theory of employment interest and ...   \n",
       "the general theory of employment////1937                                                         None   \n",
       "individual comparisons by ranking methods////1945                                                None   \n",
       "\n",
       "                                                                             2  \\\n",
       "the modern corporation and private property////...                        None   \n",
       "interest and money////1936                                                None   \n",
       "the general theory of employment interest and m...  interest and money////1936   \n",
       "the general theory of employment////1937                                  None   \n",
       "individual comparisons by ranking methods////1945                         None   \n",
       "\n",
       "                                                       3     4     5     6  \\\n",
       "the modern corporation and private property////...  None  None  None  None   \n",
       "interest and money////1936                          None  None  None  None   \n",
       "the general theory of employment interest and m...  None  None  None  None   \n",
       "the general theory of employment////1937            None  None  None  None   \n",
       "individual comparisons by ranking methods////1945   None  None  None  None   \n",
       "\n",
       "                                                       7     8     9    10  \\\n",
       "the modern corporation and private property////...  None  None  None  None   \n",
       "interest and money////1936                          None  None  None  None   \n",
       "the general theory of employment interest and m...  None  None  None  None   \n",
       "the general theory of employment////1937            None  None  None  None   \n",
       "individual comparisons by ranking methods////1945   None  None  None  None   \n",
       "\n",
       "                                                      11    12  year  \n",
       "the modern corporation and private property////...  None  None  1932  \n",
       "interest and money////1936                          None  None  1936  \n",
       "the general theory of employment interest and m...  None  None  1936  \n",
       "the general theory of employment////1937            None  None  1937  \n",
       "individual comparisons by ranking methods////1945   None  None  1945  "
      ]
     },
     "execution_count": 232,
     "metadata": {},
     "output_type": "execute_result"
    }
   ],
   "source": [
    "paper_dict_df.sort_values('year',inplace=True)\n",
    "paper_dict_df.head()"
   ]
  },
  {
   "cell_type": "code",
   "execution_count": 233,
   "metadata": {},
   "outputs": [],
   "source": [
    "paper_dict_df.iat[2,3] = paper_dict_df.iat[3,0]"
   ]
  },
  {
   "cell_type": "code",
   "execution_count": 235,
   "metadata": {},
   "outputs": [],
   "source": [
    "paper_dict_df.drop([\"the general theory of employment////1937\"],inplace=True)"
   ]
  },
  {
   "cell_type": "code",
   "execution_count": 236,
   "metadata": {},
   "outputs": [],
   "source": [
    "paper_dict_df.drop(['year'],axis=1,inplace=True)"
   ]
  },
  {
   "cell_type": "code",
   "execution_count": 238,
   "metadata": {
    "scrolled": false
   },
   "outputs": [],
   "source": [
    "key_list = paper_dict_df.index.tolist()"
   ]
  },
  {
   "cell_type": "code",
   "execution_count": 242,
   "metadata": {},
   "outputs": [
    {
     "data": {
      "text/plain": [
       "852"
      ]
     },
     "execution_count": 242,
     "metadata": {},
     "output_type": "execute_result"
    }
   ],
   "source": [
    "paper_dict_df.shape[0]"
   ]
  },
  {
   "cell_type": "code",
   "execution_count": 243,
   "metadata": {},
   "outputs": [],
   "source": [
    "value_list = []\n",
    "\n",
    "for idx in range(paper_dict_df.shape[0]) : \n",
    "    value_list.append([i for i in paper_dict_df.iloc[idx,:].tolist() if i])"
   ]
  },
  {
   "cell_type": "code",
   "execution_count": 247,
   "metadata": {},
   "outputs": [],
   "source": [
    "new_paper_dict = dict(zip(key_list,value_list))"
   ]
  },
  {
   "cell_type": "code",
   "execution_count": 255,
   "metadata": {},
   "outputs": [
    {
     "name": "stdout",
     "output_type": "stream",
     "text": [
      "delete!\n",
      "delete!\n",
      "delete!\n",
      "delete!\n",
      "delete!\n"
     ]
    }
   ],
   "source": [
    "for key in list(new_paper_dict.keys()) : \n",
    "    if len(new_paper_dict.get(key)) < 1: \n",
    "        del new_paper_dict[key]\n",
    "        print('delete!')"
   ]
  },
  {
   "cell_type": "code",
   "execution_count": 257,
   "metadata": {},
   "outputs": [],
   "source": [
    "pickle_out = open(\"new_paper_ready_to_target_dict.pickle\",\"wb\")\n",
    "pickle.dump(new_paper_dict, pickle_out)\n",
    "pickle_out.close()"
   ]
  }
 ],
 "metadata": {
  "kernelspec": {
   "display_name": "Python 3",
   "language": "python",
   "name": "python3"
  },
  "language_info": {
   "codemirror_mode": {
    "name": "ipython",
    "version": 3
   },
   "file_extension": ".py",
   "mimetype": "text/x-python",
   "name": "python",
   "nbconvert_exporter": "python",
   "pygments_lexer": "ipython3",
   "version": "3.6.6"
  }
 },
 "nbformat": 4,
 "nbformat_minor": 2
}
