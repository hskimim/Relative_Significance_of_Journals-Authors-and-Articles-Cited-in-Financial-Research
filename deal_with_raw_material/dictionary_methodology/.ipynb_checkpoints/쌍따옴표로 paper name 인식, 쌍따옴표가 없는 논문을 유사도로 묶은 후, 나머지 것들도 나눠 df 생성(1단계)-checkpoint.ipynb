{
 "cells": [
  {
   "cell_type": "code",
   "execution_count": 1,
   "metadata": {},
   "outputs": [],
   "source": [
    "import sys\n",
    "sys.path.append('../personal_pkgs/')\n",
    "\n",
    "import pandas as pd\n",
    "import oop_func as func\n",
    "import personal_pkg as ref\n",
    "import parsing_func as pars\n",
    "import os\n",
    "import re\n",
    "from collections import Counter\n",
    "import warnings\n",
    "warnings.filterwarnings(\"ignore\")"
   ]
  },
  {
   "cell_type": "markdown",
   "metadata": {},
   "source": [
    "#### 저널 별 데이터를 모으자"
   ]
  },
  {
   "cell_type": "code",
   "execution_count": 2,
   "metadata": {},
   "outputs": [],
   "source": [
    "fm_path = pars.journal_txt_ls('한국재무관리학회')\n",
    "sc_path = pars.journal_txt_ls('한국증권학회지')\n",
    "dr_path = pars.journal_txt_ls('한국파생상품학회')\n",
    "f_path = pars.journal_txt_ls('한국재무학회')"
   ]
  },
  {
   "cell_type": "code",
   "execution_count": 4,
   "metadata": {
    "scrolled": true
   },
   "outputs": [
    {
     "name": "stdout",
     "output_type": "stream",
     "text": [
      "0\n",
      "100\n",
      "200\n",
      "300\n",
      "400\n",
      "0\n",
      "100\n",
      "200\n",
      "0\n",
      "100\n",
      "200\n",
      "300\n",
      "400\n",
      "500\n",
      "0\n",
      "100\n",
      "200\n"
     ]
    }
   ],
   "source": [
    "fm_sent_ls , fm_error_ls = pars.split_to_sent(fm_path)\n",
    "f_sent_ls , f_error_ls = pars.split_to_sent(f_path)\n",
    "sc_sent_ls , sc_error_ls = pars.split_to_sent(sc_path)\n",
    "dr_sent_ls , dr_error_ls = pars.split_to_sent(dr_path)"
   ]
  },
  {
   "cell_type": "code",
   "execution_count": 14,
   "metadata": {
    "scrolled": true
   },
   "outputs": [
    {
     "data": {
      "text/plain": [
       "(12562, 9174, 12307, 8661)"
      ]
     },
     "execution_count": 14,
     "metadata": {},
     "output_type": "execute_result"
    }
   ],
   "source": [
    "len(fm_sent_ls) , len(f_sent_ls) , len(sc_sent_ls) , len(dr_sent_ls)"
   ]
  },
  {
   "cell_type": "code",
   "execution_count": 15,
   "metadata": {},
   "outputs": [
    {
     "data": {
      "text/plain": [
       "(76, 3, 24, 58)"
      ]
     },
     "execution_count": 15,
     "metadata": {},
     "output_type": "execute_result"
    }
   ],
   "source": [
    "len(fm_error_ls) , len(f_error_ls) , len(sc_error_ls) , len(dr_error_ls)"
   ]
  },
  {
   "cell_type": "markdown",
   "metadata": {},
   "source": [
    "위의 Error term 을 Fix 하는 코드를 추가 삽입한다."
   ]
  },
  {
   "cell_type": "code",
   "execution_count": null,
   "metadata": {},
   "outputs": [],
   "source": [
    "fm_error_path_ls = [fm_error_ls[idx][1] for idx in range(len(fm_error_ls))]\n",
    "f_error_path_ls = [f_error_ls[idx][1] for idx in range(len(f_error_ls))]\n",
    "sc_error_path_ls = [sc_error_ls[idx][1] for idx in range(len(sc_error_ls))]\n",
    "dr_error_path_ls = [dr_error_ls[idx][1] for idx in range(len(dr_error_ls))]"
   ]
  },
  {
   "cell_type": "markdown",
   "metadata": {},
   "source": [
    "vol23_no3_213.txt 는 무슨 방법을 써도 안되더라.."
   ]
  },
  {
   "cell_type": "code",
   "execution_count": null,
   "metadata": {},
   "outputs": [],
   "source": [
    "set([i[1].split(\"/\")[-1] for i in fm_error_ls + f_error_ls + sc_error_ls + dr_error_ls]).difference(os.listdir('error_solved_file/'))"
   ]
  },
  {
   "cell_type": "code",
   "execution_count": null,
   "metadata": {},
   "outputs": [],
   "source": [
    "print('한국재무관리연구')\n",
    "fm_fix_error_ls = pars.fix_the_error_file(fm_error_path_ls)\n",
    "print('한국재무학회')\n",
    "f_fix_error_ls = pars.fix_the_error_file(f_error_path_ls)\n",
    "print('한국증권학회지')\n",
    "sc_fix_error_ls = pars.fix_the_error_file(sc_error_path_ls)\n",
    "print('한국파생상품학회')\n",
    "dr_fix_error_ls = pars.fix_the_error_file(dr_error_path_ls)"
   ]
  },
  {
   "cell_type": "markdown",
   "metadata": {},
   "source": [
    "잘 나와있는 것도 있지만, 대부분 이미지 파일이기 때문에 깨져 있는 경우가 많다. 아래는 재무관리연구학회에서 에러가 났던 파일을 소생시켜 파싱한 리스트이다."
   ]
  },
  {
   "cell_type": "code",
   "execution_count": null,
   "metadata": {},
   "outputs": [],
   "source": [
    "fm_sent_ls += fm_fix_error_ls\n",
    "f_sent_ls += f_fix_error_ls\n",
    "sc_sent_ls += sc_fix_error_ls\n",
    "dr_sent_ls += dr_fix_error_ls"
   ]
  },
  {
   "cell_type": "code",
   "execution_count": null,
   "metadata": {},
   "outputs": [],
   "source": [
    "len(fm_sent_ls) , len(f_sent_ls) , len(sc_sent_ls) , len(dr_sent_ls)"
   ]
  },
  {
   "cell_type": "markdown",
   "metadata": {},
   "source": [
    "- `*_q_ls` : double quotation 이 있는 sentence. 분석 가능한 문장이라고 간주해 dictionary 를 형성하는 데 사용된다.\n",
    "- `*_nq_ls` : quotation 이 없는 sentence. 불안정한 문장, 즉, 딕셔너리를 형성하는데에는 부적합하다고 간주한다."
   ]
  },
  {
   "cell_type": "code",
   "execution_count": null,
   "metadata": {
    "scrolled": true
   },
   "outputs": [],
   "source": [
    "fm_q_ls , fm_nq_ls = pars.show_quote_and_unquote(fm_sent_ls)\n",
    "f_q_ls , f_nq_ls = pars.show_quote_and_unquote(f_sent_ls)\n",
    "sc_q_ls , sc_nq_ls = pars.show_quote_and_unquote(sc_sent_ls)\n",
    "dr_q_ls , dr_nq_ls = pars.show_quote_and_unquote(dr_sent_ls)"
   ]
  },
  {
   "cell_type": "code",
   "execution_count": null,
   "metadata": {},
   "outputs": [],
   "source": [
    "fm_ip_ls = pars.make_imperfect_ls(fm_nq_ls)\n",
    "f_ip_ls = pars.make_imperfect_ls(f_nq_ls)\n",
    "sc_ip_ls = pars.make_imperfect_ls(sc_nq_ls)\n",
    "dr_ip_ls = pars.make_imperfect_ls(dr_nq_ls)"
   ]
  },
  {
   "cell_type": "markdown",
   "metadata": {},
   "source": [
    "#### 딕셔너리 만들기"
   ]
  },
  {
   "cell_type": "code",
   "execution_count": null,
   "metadata": {
    "scrolled": true
   },
   "outputs": [],
   "source": [
    "fm_df,unique_fm_df = pars.make_dictionary(fm_q_ls)\n",
    "f_df,unique_f_df = pars.make_dictionary(f_q_ls)\n",
    "sc_df,unique_sc_df = pars.make_dictionary(sc_q_ls)\n",
    "dr_df,unique_dr_df = pars.make_dictionary(dr_q_ls)"
   ]
  },
  {
   "cell_type": "code",
   "execution_count": 14,
   "metadata": {},
   "outputs": [],
   "source": [
    "fm_df['from'] = ['한국재무관리학회' for _ in range(len(fm_df))]\n",
    "f_df['from'] = ['한국재무학회' for _ in range(len(f_df))]\n",
    "sc_df['from'] = ['한국증권학회' for _ in range(len(sc_df))]\n",
    "dr_df['from'] = ['한국파생상품학회' for _ in range(len(dr_df))]"
   ]
  },
  {
   "cell_type": "code",
   "execution_count": 15,
   "metadata": {
    "scrolled": true
   },
   "outputs": [
    {
     "data": {
      "text/plain": [
       "(22701, 6)"
      ]
     },
     "execution_count": 15,
     "metadata": {},
     "output_type": "execute_result"
    }
   ],
   "source": [
    "dictionary_df = pd.concat([fm_df,f_df,sc_df,dr_df],ignore_index=True)\n",
    "dictionary_df.shape"
   ]
  },
  {
   "cell_type": "markdown",
   "metadata": {},
   "source": [
    "#### 점수 기반해서 quotation 이 없는 sentence 에 대해서 논문 이름을 추출한다"
   ]
  },
  {
   "cell_type": "code",
   "execution_count": 16,
   "metadata": {},
   "outputs": [
    {
     "name": "stdout",
     "output_type": "stream",
     "text": [
      "(22701, 6)\n",
      "(16995, 7)\n"
     ]
    }
   ],
   "source": [
    "idx_ls = []\n",
    "print(dictionary_df.shape)\n",
    "\n",
    "for idx,val in enumerate(dictionary_df['paper'].tolist()) :\n",
    "    if val not in [i[1] for i in idx_ls] :\n",
    "        idx_ls.append((idx,val))\n",
    "\n",
    "quote_df = dictionary_df.iloc[[i[0] for i in idx_ls]]\n",
    "quote_df.reset_index(inplace=True)\n",
    "print(quote_df.shape )"
   ]
  },
  {
   "cell_type": "markdown",
   "metadata": {},
   "source": [
    "아래의 데이터프레임을 보면, `‘` 하나만 있는 reference 가 있다. 분석 결과, similarity score기반에서 너무 많이 catch up 하는 현상이 발생하였다. 이를 의도적으로 제거해준다."
   ]
  },
  {
   "cell_type": "code",
   "execution_count": 17,
   "metadata": {
    "scrolled": true
   },
   "outputs": [
    {
     "data": {
      "text/html": [
       "<div>\n",
       "<style scoped>\n",
       "    .dataframe tbody tr th:only-of-type {\n",
       "        vertical-align: middle;\n",
       "    }\n",
       "\n",
       "    .dataframe tbody tr th {\n",
       "        vertical-align: top;\n",
       "    }\n",
       "\n",
       "    .dataframe thead th {\n",
       "        text-align: right;\n",
       "    }\n",
       "</style>\n",
       "<table border=\"1\" class=\"dataframe\">\n",
       "  <thead>\n",
       "    <tr style=\"text-align: right;\">\n",
       "      <th></th>\n",
       "      <th>index</th>\n",
       "      <th>author</th>\n",
       "      <th>year</th>\n",
       "      <th>paper</th>\n",
       "      <th>journal</th>\n",
       "      <th>raw</th>\n",
       "      <th>from</th>\n",
       "    </tr>\n",
       "  </thead>\n",
       "  <tbody>\n",
       "    <tr>\n",
       "      <th>15428</th>\n",
       "      <td>20311</td>\n",
       "      <td>19’‘”에 '\"…   ‘ N. o. ’ . '\" s‘· ’……… _\"_ .A Cι...</td>\n",
       "      <td>None</td>\n",
       "      <td>‘</td>\n",
       "      <td>”에 '\"“…   “‘ N. o. ’ .“ '\" “s‘·“ ’……… _\"_ .A C...</td>\n",
       "      <td>19’“‘”에 '\"“…   “‘ N. o. ’ .“ '\" “s‘·“ ’……… _\"_...</td>\n",
       "      <td>한국파생상품학회</td>\n",
       "    </tr>\n",
       "  </tbody>\n",
       "</table>\n",
       "</div>"
      ],
      "text/plain": [
       "       index                                             author  year paper  \\\n",
       "15428  20311  19’‘”에 '\"…   ‘ N. o. ’ . '\" s‘· ’……… _\"_ .A Cι...  None     ‘   \n",
       "\n",
       "                                                 journal  \\\n",
       "15428  ”에 '\"“…   “‘ N. o. ’ .“ '\" “s‘·“ ’……… _\"_ .A C...   \n",
       "\n",
       "                                                     raw      from  \n",
       "15428  19’“‘”에 '\"“…   “‘ N. o. ’ .“ '\" “s‘·“ ’……… _\"_...  한국파생상품학회  "
      ]
     },
     "execution_count": 17,
     "metadata": {},
     "output_type": "execute_result"
    }
   ],
   "source": [
    "quote_df[quote_df['paper'] == '‘']"
   ]
  },
  {
   "cell_type": "code",
   "execution_count": 18,
   "metadata": {},
   "outputs": [],
   "source": [
    "quote_df = quote_df[quote_df['paper'] != '‘']"
   ]
  },
  {
   "cell_type": "code",
   "execution_count": 19,
   "metadata": {},
   "outputs": [
    {
     "data": {
      "text/html": [
       "<div>\n",
       "<style scoped>\n",
       "    .dataframe tbody tr th:only-of-type {\n",
       "        vertical-align: middle;\n",
       "    }\n",
       "\n",
       "    .dataframe tbody tr th {\n",
       "        vertical-align: top;\n",
       "    }\n",
       "\n",
       "    .dataframe thead th {\n",
       "        text-align: right;\n",
       "    }\n",
       "</style>\n",
       "<table border=\"1\" class=\"dataframe\">\n",
       "  <thead>\n",
       "    <tr style=\"text-align: right;\">\n",
       "      <th></th>\n",
       "      <th>index</th>\n",
       "      <th>author</th>\n",
       "      <th>year</th>\n",
       "      <th>paper</th>\n",
       "      <th>journal</th>\n",
       "      <th>raw</th>\n",
       "      <th>from</th>\n",
       "    </tr>\n",
       "  </thead>\n",
       "  <tbody>\n",
       "    <tr>\n",
       "      <th>16989</th>\n",
       "      <td>22695</td>\n",
       "      <td>정진호, 임병진, 원종현,</td>\n",
       "      <td>2002</td>\n",
       "      <td>국채선물을 이용한 적정 헤지비율 추정에 관한 연구,</td>\n",
       "      <td>” 「증권학회지, | 30, ,</td>\n",
       "      <td>정진호, 임병진, 원종현, “국채선물을 이용한 적정 헤지비율 추정에 관한 연구,” ...</td>\n",
       "      <td>한국파생상품학회</td>\n",
       "    </tr>\n",
       "    <tr>\n",
       "      <th>16990</th>\n",
       "      <td>22696</td>\n",
       "      <td>홍정효, 문규현,</td>\n",
       "      <td>2004</td>\n",
       "      <td>원·달러 선물시장을 이용한 헤지효과성,</td>\n",
       "      <td>” 「재무관리연구」, 21, 1, , ,</td>\n",
       "      <td>홍정효, 문규현, “원·달러 선물시장을 이용한 헤지효과성,” 「재무관리연구」, 21...</td>\n",
       "      <td>한국파생상품학회</td>\n",
       "    </tr>\n",
       "    <tr>\n",
       "      <th>16991</th>\n",
       "      <td>22698</td>\n",
       "      <td>홍정효,</td>\n",
       "      <td>2009</td>\n",
       "      <td>동태적 헤지모형을 이용한 유로화 선물시장의 헤지성과 분석,</td>\n",
       "      <td>” 「금융공학연구」, | 8, 1, ,</td>\n",
       "      <td>홍정효, “동태적 헤지모형을 이용한 유로화 선물시장의 헤지성과 분석,” 「금융공학연...</td>\n",
       "      <td>한국파생상품학회</td>\n",
       "    </tr>\n",
       "    <tr>\n",
       "      <th>16992</th>\n",
       "      <td>22699</td>\n",
       "      <td>홍정효, 문규현,</td>\n",
       "      <td>2010</td>\n",
       "      <td>개별주식선물시장의 헤지성과에 관한 실증적 연구 : 정태적헤지모형 vs ,| 동태적헤...</td>\n",
       "      <td>” 「재무관리연구」, 27, 3, ,</td>\n",
       "      <td>홍정효, 문규현, “개별주식선물시장의 헤지성과에 관한 실증적 연구 : 정태적헤지모형...</td>\n",
       "      <td>한국파생상품학회</td>\n",
       "    </tr>\n",
       "    <tr>\n",
       "      <th>16993</th>\n",
       "      <td>22700</td>\n",
       "      <td>,23 ,김인준이 동행 ,&lt;부록 1&gt; 헤지전략을 고려하지 않은 투자 전략에 대한 ,...</td>\n",
       "      <td>2011</td>\n",
       "      <td>환율과 주가 간 상간관계는..... -0.50 이상의 강한 음(-)의 상관관계를 보...</td>\n",
       "      <td>” 보건복지부 년 11월 24일 보도자료, p.2. ,25 ,김인준. 이 동행 ,&lt;...</td>\n",
       "      <td>,23 ,김인준이 동행 ,&lt;부록 1&gt; 헤지전략을 고려하지 않은 투자 전략에 대한 ,...</td>\n",
       "      <td>한국파생상품학회</td>\n",
       "    </tr>\n",
       "  </tbody>\n",
       "</table>\n",
       "</div>"
      ],
      "text/plain": [
       "       index                                             author  year  \\\n",
       "16989  22695                                    정진호, 임병진, 원종현,   2002   \n",
       "16990  22696                                         홍정효, 문규현,   2004   \n",
       "16991  22698                                              홍정효,   2009   \n",
       "16992  22699                                         홍정효, 문규현,   2010   \n",
       "16993  22700  ,23 ,김인준이 동행 ,<부록 1> 헤지전략을 고려하지 않은 투자 전략에 대한 ,...  2011   \n",
       "\n",
       "                                                   paper  \\\n",
       "16989                       국채선물을 이용한 적정 헤지비율 추정에 관한 연구,   \n",
       "16990                              원·달러 선물시장을 이용한 헤지효과성,   \n",
       "16991                   동태적 헤지모형을 이용한 유로화 선물시장의 헤지성과 분석,   \n",
       "16992  개별주식선물시장의 헤지성과에 관한 실증적 연구 : 정태적헤지모형 vs ,| 동태적헤...   \n",
       "16993  환율과 주가 간 상간관계는..... -0.50 이상의 강한 음(-)의 상관관계를 보...   \n",
       "\n",
       "                                                 journal  \\\n",
       "16989                                  ” 「증권학회지, | 30, ,   \n",
       "16990                             ” 「재무관리연구」, 21, 1, , ,   \n",
       "16991                              ” 「금융공학연구」, | 8, 1, ,   \n",
       "16992                               ” 「재무관리연구」, 27, 3, ,   \n",
       "16993  ” 보건복지부 년 11월 24일 보도자료, p.2. ,25 ,김인준. 이 동행 ,<...   \n",
       "\n",
       "                                                     raw      from  \n",
       "16989  정진호, 임병진, 원종현, “국채선물을 이용한 적정 헤지비율 추정에 관한 연구,” ...  한국파생상품학회  \n",
       "16990  홍정효, 문규현, “원·달러 선물시장을 이용한 헤지효과성,” 「재무관리연구」, 21...  한국파생상품학회  \n",
       "16991  홍정효, “동태적 헤지모형을 이용한 유로화 선물시장의 헤지성과 분석,” 「금융공학연...  한국파생상품학회  \n",
       "16992  홍정효, 문규현, “개별주식선물시장의 헤지성과에 관한 실증적 연구 : 정태적헤지모형...  한국파생상품학회  \n",
       "16993  ,23 ,김인준이 동행 ,<부록 1> 헤지전략을 고려하지 않은 투자 전략에 대한 ,...  한국파생상품학회  "
      ]
     },
     "execution_count": 19,
     "metadata": {},
     "output_type": "execute_result"
    }
   ],
   "source": [
    "quote_df.reset_index(drop=True,inplace=True)\n",
    "quote_df.tail()"
   ]
  },
  {
   "cell_type": "markdown",
   "metadata": {},
   "source": [
    "아래의 데이터프레임을 보면, author 와 journal이 missclassificate되었지만, paper의 이름이 `results` 라는 이유로, similarity score에서 너무 많이 catch up 된다. 이에 따라, 의도적으로 제거해준다."
   ]
  },
  {
   "cell_type": "code",
   "execution_count": 20,
   "metadata": {},
   "outputs": [
    {
     "data": {
      "text/html": [
       "<div>\n",
       "<style scoped>\n",
       "    .dataframe tbody tr th:only-of-type {\n",
       "        vertical-align: middle;\n",
       "    }\n",
       "\n",
       "    .dataframe tbody tr th {\n",
       "        vertical-align: top;\n",
       "    }\n",
       "\n",
       "    .dataframe thead th {\n",
       "        text-align: right;\n",
       "    }\n",
       "</style>\n",
       "<table border=\"1\" class=\"dataframe\">\n",
       "  <thead>\n",
       "    <tr style=\"text-align: right;\">\n",
       "      <th></th>\n",
       "      <th>index</th>\n",
       "      <th>author</th>\n",
       "      <th>year</th>\n",
       "      <th>paper</th>\n",
       "      <th>journal</th>\n",
       "      <th>raw</th>\n",
       "      <th>from</th>\n",
       "    </tr>\n",
       "  </thead>\n",
       "  <tbody>\n",
       "    <tr>\n",
       "      <th>13951</th>\n",
       "      <td>17906</td>\n",
       "      <td>Cifuentes A. and G. Katsaros 2007 The One-Fact...</td>\n",
       "      <td>2007</td>\n",
       "      <td>results</td>\n",
       "      <td>” Journal of Structured Finance 9 Fall. Cox D....</td>\n",
       "      <td>Cifuentes A. and G. Katsaros 2007 The One-Fact...</td>\n",
       "      <td>한국증권학회</td>\n",
       "    </tr>\n",
       "  </tbody>\n",
       "</table>\n",
       "</div>"
      ],
      "text/plain": [
       "       index                                             author  year  \\\n",
       "13951  17906  Cifuentes A. and G. Katsaros 2007 The One-Fact...  2007   \n",
       "\n",
       "         paper                                            journal  \\\n",
       "13951  results  ” Journal of Structured Finance 9 Fall. Cox D....   \n",
       "\n",
       "                                                     raw    from  \n",
       "13951  Cifuentes A. and G. Katsaros 2007 The One-Fact...  한국증권학회  "
      ]
     },
     "execution_count": 20,
     "metadata": {},
     "output_type": "execute_result"
    }
   ],
   "source": [
    "quote_df[quote_df['paper'] == 'results']"
   ]
  },
  {
   "cell_type": "code",
   "execution_count": 21,
   "metadata": {},
   "outputs": [],
   "source": [
    "quote_df = quote_df[quote_df['paper'] != 'results']"
   ]
  },
  {
   "cell_type": "code",
   "execution_count": 22,
   "metadata": {},
   "outputs": [
    {
     "data": {
      "text/html": [
       "<div>\n",
       "<style scoped>\n",
       "    .dataframe tbody tr th:only-of-type {\n",
       "        vertical-align: middle;\n",
       "    }\n",
       "\n",
       "    .dataframe tbody tr th {\n",
       "        vertical-align: top;\n",
       "    }\n",
       "\n",
       "    .dataframe thead th {\n",
       "        text-align: right;\n",
       "    }\n",
       "</style>\n",
       "<table border=\"1\" class=\"dataframe\">\n",
       "  <thead>\n",
       "    <tr style=\"text-align: right;\">\n",
       "      <th></th>\n",
       "      <th>index</th>\n",
       "      <th>author</th>\n",
       "      <th>year</th>\n",
       "      <th>paper</th>\n",
       "      <th>journal</th>\n",
       "      <th>raw</th>\n",
       "      <th>from</th>\n",
       "    </tr>\n",
       "  </thead>\n",
       "  <tbody>\n",
       "    <tr>\n",
       "      <th>16988</th>\n",
       "      <td>22695</td>\n",
       "      <td>정진호, 임병진, 원종현,</td>\n",
       "      <td>2002</td>\n",
       "      <td>국채선물을 이용한 적정 헤지비율 추정에 관한 연구,</td>\n",
       "      <td>” 「증권학회지, | 30, ,</td>\n",
       "      <td>정진호, 임병진, 원종현, “국채선물을 이용한 적정 헤지비율 추정에 관한 연구,” ...</td>\n",
       "      <td>한국파생상품학회</td>\n",
       "    </tr>\n",
       "    <tr>\n",
       "      <th>16989</th>\n",
       "      <td>22696</td>\n",
       "      <td>홍정효, 문규현,</td>\n",
       "      <td>2004</td>\n",
       "      <td>원·달러 선물시장을 이용한 헤지효과성,</td>\n",
       "      <td>” 「재무관리연구」, 21, 1, , ,</td>\n",
       "      <td>홍정효, 문규현, “원·달러 선물시장을 이용한 헤지효과성,” 「재무관리연구」, 21...</td>\n",
       "      <td>한국파생상품학회</td>\n",
       "    </tr>\n",
       "    <tr>\n",
       "      <th>16990</th>\n",
       "      <td>22698</td>\n",
       "      <td>홍정효,</td>\n",
       "      <td>2009</td>\n",
       "      <td>동태적 헤지모형을 이용한 유로화 선물시장의 헤지성과 분석,</td>\n",
       "      <td>” 「금융공학연구」, | 8, 1, ,</td>\n",
       "      <td>홍정효, “동태적 헤지모형을 이용한 유로화 선물시장의 헤지성과 분석,” 「금융공학연...</td>\n",
       "      <td>한국파생상품학회</td>\n",
       "    </tr>\n",
       "    <tr>\n",
       "      <th>16991</th>\n",
       "      <td>22699</td>\n",
       "      <td>홍정효, 문규현,</td>\n",
       "      <td>2010</td>\n",
       "      <td>개별주식선물시장의 헤지성과에 관한 실증적 연구 : 정태적헤지모형 vs ,| 동태적헤...</td>\n",
       "      <td>” 「재무관리연구」, 27, 3, ,</td>\n",
       "      <td>홍정효, 문규현, “개별주식선물시장의 헤지성과에 관한 실증적 연구 : 정태적헤지모형...</td>\n",
       "      <td>한국파생상품학회</td>\n",
       "    </tr>\n",
       "    <tr>\n",
       "      <th>16992</th>\n",
       "      <td>22700</td>\n",
       "      <td>,23 ,김인준이 동행 ,&lt;부록 1&gt; 헤지전략을 고려하지 않은 투자 전략에 대한 ,...</td>\n",
       "      <td>2011</td>\n",
       "      <td>환율과 주가 간 상간관계는..... -0.50 이상의 강한 음(-)의 상관관계를 보...</td>\n",
       "      <td>” 보건복지부 년 11월 24일 보도자료, p.2. ,25 ,김인준. 이 동행 ,&lt;...</td>\n",
       "      <td>,23 ,김인준이 동행 ,&lt;부록 1&gt; 헤지전략을 고려하지 않은 투자 전략에 대한 ,...</td>\n",
       "      <td>한국파생상품학회</td>\n",
       "    </tr>\n",
       "  </tbody>\n",
       "</table>\n",
       "</div>"
      ],
      "text/plain": [
       "       index                                             author  year  \\\n",
       "16988  22695                                    정진호, 임병진, 원종현,   2002   \n",
       "16989  22696                                         홍정효, 문규현,   2004   \n",
       "16990  22698                                              홍정효,   2009   \n",
       "16991  22699                                         홍정효, 문규현,   2010   \n",
       "16992  22700  ,23 ,김인준이 동행 ,<부록 1> 헤지전략을 고려하지 않은 투자 전략에 대한 ,...  2011   \n",
       "\n",
       "                                                   paper  \\\n",
       "16988                       국채선물을 이용한 적정 헤지비율 추정에 관한 연구,   \n",
       "16989                              원·달러 선물시장을 이용한 헤지효과성,   \n",
       "16990                   동태적 헤지모형을 이용한 유로화 선물시장의 헤지성과 분석,   \n",
       "16991  개별주식선물시장의 헤지성과에 관한 실증적 연구 : 정태적헤지모형 vs ,| 동태적헤...   \n",
       "16992  환율과 주가 간 상간관계는..... -0.50 이상의 강한 음(-)의 상관관계를 보...   \n",
       "\n",
       "                                                 journal  \\\n",
       "16988                                  ” 「증권학회지, | 30, ,   \n",
       "16989                             ” 「재무관리연구」, 21, 1, , ,   \n",
       "16990                              ” 「금융공학연구」, | 8, 1, ,   \n",
       "16991                               ” 「재무관리연구」, 27, 3, ,   \n",
       "16992  ” 보건복지부 년 11월 24일 보도자료, p.2. ,25 ,김인준. 이 동행 ,<...   \n",
       "\n",
       "                                                     raw      from  \n",
       "16988  정진호, 임병진, 원종현, “국채선물을 이용한 적정 헤지비율 추정에 관한 연구,” ...  한국파생상품학회  \n",
       "16989  홍정효, 문규현, “원·달러 선물시장을 이용한 헤지효과성,” 「재무관리연구」, 21...  한국파생상품학회  \n",
       "16990  홍정효, “동태적 헤지모형을 이용한 유로화 선물시장의 헤지성과 분석,” 「금융공학연...  한국파생상품학회  \n",
       "16991  홍정효, 문규현, “개별주식선물시장의 헤지성과에 관한 실증적 연구 : 정태적헤지모형...  한국파생상품학회  \n",
       "16992  ,23 ,김인준이 동행 ,<부록 1> 헤지전략을 고려하지 않은 투자 전략에 대한 ,...  한국파생상품학회  "
      ]
     },
     "execution_count": 22,
     "metadata": {},
     "output_type": "execute_result"
    }
   ],
   "source": [
    "quote_df.reset_index(drop=True,inplace=True)\n",
    "quote_df.tail()"
   ]
  },
  {
   "cell_type": "markdown",
   "metadata": {},
   "source": [
    "#### 0.9 라는 similarity score 를 기준으로 삼아서, double quoatation 이 없는 문장의 paper name 을 catch 해준다."
   ]
  },
  {
   "cell_type": "code",
   "execution_count": 23,
   "metadata": {},
   "outputs": [
    {
     "data": {
      "text/plain": [
       "4"
      ]
     },
     "execution_count": 23,
     "metadata": {},
     "output_type": "execute_result"
    }
   ],
   "source": [
    "import concurrent.futures\n",
    "\n",
    "ip_ls = [fm_ip_ls,\n",
    "          f_ip_ls ,\n",
    "          sc_ip_ls ,\n",
    "          dr_ip_ls]\n",
    "cat_ls = list(zip([quote_df for i in range(len(ip_ls))],ip_ls))\n",
    "len(cat_ls)"
   ]
  },
  {
   "cell_type": "code",
   "execution_count": 24,
   "metadata": {
    "scrolled": true
   },
   "outputs": [
    {
     "name": "stdout",
     "output_type": "stream",
     "text": [
      "the length of dictionary is 16993.. the cost of function is proportional with it\n",
      "0\n",
      "the length of dictionary is 16993.. the cost of function is proportional with it\n",
      "0\n",
      "0\n",
      "the length of dictionary is 16993.. the cost of function is proportional with it\n",
      "the length of dictionary is 16993.. the cost of function is proportional with it\n",
      "0\n",
      "4000\n",
      "8000\n",
      "4000\n",
      "4000\n",
      "12000\n",
      "16000\n",
      "8000\n",
      "8000\n",
      "4000\n",
      "12000\n",
      "12000\n",
      "16000\n",
      "8000\n",
      "16000\n",
      "12000\n",
      "16000\n",
      "CPU times: user 195 ms, sys: 92.9 ms, total: 288 ms\n",
      "Wall time: 41min 34s\n"
     ]
    }
   ],
   "source": [
    "def main() : \n",
    "    final_df = []\n",
    "    with concurrent.futures.ProcessPoolExecutor(max_workers = 8) as executor:\n",
    "        for _,df_ in zip(cat_ls,executor.map(pars.catch_the_paper_under_similarity_score_for_concurrent, cat_ls)):\n",
    "            final_df.append(df_)\n",
    "    return final_df\n",
    "\n",
    "if __name__ == '__main__':\n",
    "    %time final_df = main()"
   ]
  },
  {
   "cell_type": "code",
   "execution_count": 25,
   "metadata": {},
   "outputs": [
    {
     "data": {
      "text/plain": [
       "4"
      ]
     },
     "execution_count": 25,
     "metadata": {},
     "output_type": "execute_result"
    }
   ],
   "source": [
    "len(final_df)"
   ]
  },
  {
   "cell_type": "code",
   "execution_count": 26,
   "metadata": {},
   "outputs": [],
   "source": [
    "fm_catch_paper = final_df[0]\n",
    "f_catch_paper = final_df[1]\n",
    "sc_catch_paper = final_df[2]\n",
    "dr_catch_paper =final_df[3]"
   ]
  },
  {
   "cell_type": "code",
   "execution_count": 27,
   "metadata": {},
   "outputs": [
    {
     "name": "stdout",
     "output_type": "stream",
     "text": [
      "457 122 4189 550\n"
     ]
    }
   ],
   "source": [
    "print(len(fm_catch_paper),\n",
    "len(f_catch_paper),\n",
    "len(sc_catch_paper),\n",
    "len(dr_catch_paper))"
   ]
  },
  {
   "cell_type": "markdown",
   "metadata": {},
   "source": [
    "총합친 것도 필요하지만, 우리에게 필요한 것은 저널별 데이터이다."
   ]
  },
  {
   "cell_type": "code",
   "execution_count": 28,
   "metadata": {},
   "outputs": [],
   "source": [
    "fm_detect_ls = [i[0] for i in fm_catch_paper]\n",
    "f_detect_ls = [i[0] for i in f_catch_paper]\n",
    "sc_detect_ls = [i[0] for i in sc_catch_paper]\n",
    "dr_detect_ls = [i[0] for i in dr_catch_paper]"
   ]
  },
  {
   "cell_type": "code",
   "execution_count": 29,
   "metadata": {},
   "outputs": [
    {
     "data": {
      "text/plain": [
       "10813"
      ]
     },
     "execution_count": 29,
     "metadata": {},
     "output_type": "execute_result"
    }
   ],
   "source": [
    "fm_paper_name_ls = dictionary_df[dictionary_df['from'] == '한국재무관리학회']['paper'].tolist()\n",
    "fm_paper_name_ls = fm_paper_name_ls + fm_detect_ls\n",
    "len(fm_paper_name_ls)"
   ]
  },
  {
   "cell_type": "code",
   "execution_count": 30,
   "metadata": {},
   "outputs": [
    {
     "data": {
      "text/plain": [
       "6913"
      ]
     },
     "execution_count": 30,
     "metadata": {},
     "output_type": "execute_result"
    }
   ],
   "source": [
    "f_paper_name_ls = dictionary_df[dictionary_df['from'] == '한국재무학회']['paper'].tolist()\n",
    "f_paper_name_ls = f_paper_name_ls + f_detect_ls\n",
    "len(f_paper_name_ls)"
   ]
  },
  {
   "cell_type": "code",
   "execution_count": 31,
   "metadata": {},
   "outputs": [
    {
     "data": {
      "text/plain": [
       "7272"
      ]
     },
     "execution_count": 31,
     "metadata": {},
     "output_type": "execute_result"
    }
   ],
   "source": [
    "sc_paper_name_ls = dictionary_df[dictionary_df['from'] == '한국증권학회']['paper'].tolist()\n",
    "sc_paper_name_ls = sc_paper_name_ls + sc_detect_ls\n",
    "len(sc_paper_name_ls)"
   ]
  },
  {
   "cell_type": "code",
   "execution_count": 32,
   "metadata": {},
   "outputs": [
    {
     "data": {
      "text/plain": [
       "3021"
      ]
     },
     "execution_count": 32,
     "metadata": {},
     "output_type": "execute_result"
    }
   ],
   "source": [
    "dr_paper_name_ls = dictionary_df[dictionary_df['from'] == '한국파생상품학회']['paper'].tolist()\n",
    "dr_paper_name_ls = dr_paper_name_ls + dr_detect_ls\n",
    "len(dr_paper_name_ls)"
   ]
  },
  {
   "cell_type": "code",
   "execution_count": 33,
   "metadata": {},
   "outputs": [
    {
     "name": "stdout",
     "output_type": "stream",
     "text": [
      "0\n",
      "4000\n",
      "8000\n"
     ]
    }
   ],
   "source": [
    "fm_final_df = pd.DataFrame(columns=['author','year','paper','journal'])\n",
    "\n",
    "for idx in range(len(fm_paper_name_ls)) : \n",
    "    if len(fm_final_df) % 4000 == 0 : print(len(fm_final_df))\n",
    "    append_df = quote_df[quote_df['paper'] == fm_paper_name_ls[idx]]\n",
    "    fm_final_df = pd.concat([fm_final_df,append_df])"
   ]
  },
  {
   "cell_type": "code",
   "execution_count": 34,
   "metadata": {},
   "outputs": [],
   "source": [
    "fm_final_df.to_csv('fm_base_df.csv',index=False)"
   ]
  },
  {
   "cell_type": "code",
   "execution_count": 35,
   "metadata": {},
   "outputs": [
    {
     "name": "stdout",
     "output_type": "stream",
     "text": [
      "0\n",
      "4000\n"
     ]
    }
   ],
   "source": [
    "f_final_df = pd.DataFrame(columns=['author','year','paper','journal'])\n",
    "\n",
    "for idx in range(len(f_paper_name_ls)) : \n",
    "    if len(f_final_df) % 4000 == 0 : print(len(f_final_df))\n",
    "    append_df = quote_df[quote_df['paper'] == f_paper_name_ls[idx]]\n",
    "    f_final_df = pd.concat([f_final_df,append_df])"
   ]
  },
  {
   "cell_type": "code",
   "execution_count": 36,
   "metadata": {},
   "outputs": [],
   "source": [
    "f_final_df.to_csv('f_base_df.csv',index=False)"
   ]
  },
  {
   "cell_type": "code",
   "execution_count": 37,
   "metadata": {},
   "outputs": [
    {
     "name": "stdout",
     "output_type": "stream",
     "text": [
      "0\n",
      "4000\n"
     ]
    }
   ],
   "source": [
    "sc_final_df = pd.DataFrame(columns=['author','year','paper','journal'])\n",
    "\n",
    "for idx in range(len(sc_paper_name_ls)) : \n",
    "    if len(sc_final_df) % 4000 == 0 : print(len(sc_final_df))\n",
    "    append_df = quote_df[quote_df['paper'] == sc_paper_name_ls[idx]]\n",
    "    sc_final_df = pd.concat([sc_final_df,append_df])"
   ]
  },
  {
   "cell_type": "code",
   "execution_count": 38,
   "metadata": {},
   "outputs": [],
   "source": [
    "sc_final_df.to_csv('sc_base_df.csv',index=False)"
   ]
  },
  {
   "cell_type": "code",
   "execution_count": 39,
   "metadata": {},
   "outputs": [
    {
     "name": "stdout",
     "output_type": "stream",
     "text": [
      "0\n"
     ]
    }
   ],
   "source": [
    "dr_final_df = pd.DataFrame(columns=['author','year','paper','journal'])\n",
    "\n",
    "for idx in range(len(dr_paper_name_ls)) : \n",
    "    if len(dr_final_df) % 4000 == 0 : print(len(dr_final_df))\n",
    "    append_df = quote_df[quote_df['paper'] == dr_paper_name_ls[idx]]\n",
    "    dr_final_df = pd.concat([dr_final_df,append_df])"
   ]
  },
  {
   "cell_type": "code",
   "execution_count": 40,
   "metadata": {},
   "outputs": [],
   "source": [
    "dr_final_df.to_csv('dr_base_df.csv',index=False)"
   ]
  },
  {
   "cell_type": "markdown",
   "metadata": {},
   "source": [
    "#### catch_paper_name_ls 은 저널에 관계없이 non-quoted sentence 에서 총 어떤 논문 이름을 잡았는지에 대한 데이터를 담은 리스트이다."
   ]
  },
  {
   "cell_type": "code",
   "execution_count": 41,
   "metadata": {
    "scrolled": true
   },
   "outputs": [
    {
     "data": {
      "text/plain": [
       "5318"
      ]
     },
     "execution_count": 41,
     "metadata": {},
     "output_type": "execute_result"
    }
   ],
   "source": [
    "catch_paper_name_ls = [i[0] for i in fm_catch_paper]+\\\n",
    "[i[0] for i in f_catch_paper]+\\\n",
    "[i[0] for i in sc_catch_paper]+\\\n",
    "[i[0] for i in dr_catch_paper]\n",
    "len(catch_paper_name_ls)"
   ]
  },
  {
   "cell_type": "markdown",
   "metadata": {},
   "source": [
    "- final_paper_name_ls 는 paper name 으로 uniquely indexing 해주기 전의 double quotation sentence 를 담은 dataframe 이다.\n",
    "- non double quotation sentence 데이터에서 추출한 catch_paper_name_ls를 dictionary_df 의 인덱스와 합치면 총 논문 이름에 대한 리스트를 얻게 된다."
   ]
  },
  {
   "cell_type": "code",
   "execution_count": 42,
   "metadata": {},
   "outputs": [
    {
     "data": {
      "text/plain": [
       "28019"
      ]
     },
     "execution_count": 42,
     "metadata": {},
     "output_type": "execute_result"
    }
   ],
   "source": [
    "base_paper_name_ls = dictionary_df['paper'].tolist()\n",
    "final_paper_name_ls = base_paper_name_ls + catch_paper_name_ls\n",
    "len(final_paper_name_ls)"
   ]
  },
  {
   "cell_type": "markdown",
   "metadata": {},
   "source": [
    "final_paper_name_ls 의 논문 이름 포맷은 전적으로 quote_df 를 따른다. 이에 따라서, Counting 을 할 때, quote_df 의 포맷을 유지하면서 `expanding` 시켜준다."
   ]
  },
  {
   "cell_type": "code",
   "execution_count": 43,
   "metadata": {},
   "outputs": [
    {
     "name": "stdout",
     "output_type": "stream",
     "text": [
      "0\n",
      "4000\n",
      "8000\n",
      "12000\n",
      "16000\n",
      "20000\n",
      "24000\n",
      "28000\n"
     ]
    }
   ],
   "source": [
    "base_df = pd.DataFrame(columns=['author','year','paper','journal'])\n",
    "\n",
    "for idx in range(len(final_paper_name_ls)) : \n",
    "    if len(base_df) % 4000 == 0 : print(len(base_df))\n",
    "    append_df = quote_df[quote_df['paper'] == final_paper_name_ls[idx]]\n",
    "    base_df = pd.concat([base_df,append_df])"
   ]
  },
  {
   "cell_type": "code",
   "execution_count": 44,
   "metadata": {},
   "outputs": [],
   "source": [
    "base_df.to_csv('base_df.csv',index=False)"
   ]
  },
  {
   "cell_type": "markdown",
   "metadata": {},
   "source": [
    "- `base_df` 는 저널에 관계없이 전체 논문에 대해서 similarity score를 기반으로 최대한 merge 한 데이터들을 담은 dataframe 이다.\n",
    "- `{}_base_df` 는 {} 에 붙은 alias 에 따라 특정 논문에 대한 base_df 이다."
   ]
  }
 ],
 "metadata": {
  "kernelspec": {
   "display_name": "Python 3",
   "language": "python",
   "name": "python3"
  },
  "language_info": {
   "codemirror_mode": {
    "name": "ipython",
    "version": 3
   },
   "file_extension": ".py",
   "mimetype": "text/x-python",
   "name": "python",
   "nbconvert_exporter": "python",
   "pygments_lexer": "ipython3",
   "version": "3.6.6"
  }
 },
 "nbformat": 4,
 "nbformat_minor": 2
}
