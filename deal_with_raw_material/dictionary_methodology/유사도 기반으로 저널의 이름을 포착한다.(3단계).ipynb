{
 "cells": [
  {
   "cell_type": "code",
   "execution_count": 1,
   "metadata": {},
   "outputs": [],
   "source": [
    "import sys\n",
    "sys.path.append('../personal_pkgs/')\n",
    "import pickle\n",
    "import pandas as pd\n",
    "import oop_func as func\n",
    "import personal_pkg as ref\n",
    "import parsing_func as pars\n",
    "import os\n",
    "import re\n",
    "from collections import Counter\n",
    "import warnings\n",
    "warnings.filterwarnings(\"ignore\")\n",
    "from IPython.display import Markdown"
   ]
  },
  {
   "cell_type": "code",
   "execution_count": 2,
   "metadata": {},
   "outputs": [],
   "source": [
    "fm_base_df = pd.read_csv('file/fm_base_df3.csv')\n",
    "f_base_df = pd.read_csv('file/f_base_df3.csv')\n",
    "sc_base_df = pd.read_csv('file/sc_base_df3.csv')\n",
    "dr_base_df = pd.read_csv('file/dr_base_df3.csv')\n",
    "base_df = pd.read_csv('file/base_df3.csv')"
   ]
  },
  {
   "cell_type": "markdown",
   "metadata": {},
   "source": [
    "저널은 similarity score로 merging 하지 않는다.(어느정도 많은 frequency 를 확보하고 있기 때문이다.) 다만, journal 데이터 자체가 깔끔하지 않기 때문에, 정규식으로 preprocessing 을 해준다. 또한, 2009년을 기준으로 한국증권학회지가 AJFS 와 분리되었으므로, 이에 대한 처리를 해준다."
   ]
  },
  {
   "cell_type": "code",
   "execution_count": 3,
   "metadata": {},
   "outputs": [],
   "source": [
    "def tuning_the_journal(df) :\n",
    "#     testing_df = df[df['journal'].notnull()]\n",
    "    journal_ls = [i for i in df['journal'].tolist()]\n",
    "    journal_ls1 = [i.replace('”','') if type(i) != float else i for i in journal_ls]\n",
    "    journal_ls2 = [re.sub('제\\s*[0-9]{,5}\\s*권|제\\s*[0-9]{,5}\\s*호|제\\s*[0-9]{,5}\\s*집','',i) \\\n",
    "                   if type(i) == str else i for i in journal_ls1]\n",
    "    journal_ls3 = [','.join(re.findall('[a-zA-Z가-힣\\s]',i)).replace(\",\",'').strip().lower() \\\n",
    "                   if type(i) == str else i for i in journal_ls2]\n",
    "    journal_ls4 = [re.sub('vol$|no$|vol no','',i).strip() \\\n",
    "                   if type(i) == str else i for i in journal_ls3]\n",
    "    journal_ls5 = [i[:-2].strip() if type(i) != float and re.search('\\s[a-z]{1}',i[-2:]) else i for i in journal_ls4]\n",
    "    df['journal'] = journal_ls5\n",
    "    df['year'] = df['year'].apply(lambda x : str(x).split('.')[0])\n",
    "    return df"
   ]
  },
  {
   "cell_type": "code",
   "execution_count": 4,
   "metadata": {},
   "outputs": [],
   "source": [
    "fm_base_df = tuning_the_journal(fm_base_df)\n",
    "f_base_df = tuning_the_journal(f_base_df)\n",
    "sc_base_df = tuning_the_journal(sc_base_df)\n",
    "dr_base_df = tuning_the_journal(dr_base_df)\n",
    "base_df = tuning_the_journal(base_df)"
   ]
  },
  {
   "cell_type": "code",
   "execution_count": 5,
   "metadata": {},
   "outputs": [],
   "source": [
    "def adjust_the_journal_under_2009(base_df) : \n",
    "    base_df.reset_index(drop=True,inplace=True)\n",
    "    testing_df = base_df.copy()\n",
    "\n",
    "    for idx in range(len(testing_df)) :\n",
    "        if type(testing_df['journal'][idx]) != float :  \n",
    "            if ('asiapacific journal of financial studies' in testing_df['journal'][idx]) or \\\n",
    "            ('한국증권학회지' in testing_df['journal'][idx]) or ('증권학회지' in testing_df['journal'][idx]) : \n",
    "                try : \n",
    "                    if int(testing_df['year'][idx]) < 2009 : \n",
    "                        testing_df['journal'][idx] = '한국증권학회지'\n",
    "                except : testing_df['journal'][idx] = '한국증권학회지'\n",
    "\n",
    "\n",
    "    for idx in range(len(testing_df)) :\n",
    "        if type(testing_df['journal'][idx]) != float : \n",
    "            if ('한국증권학회지' in testing_df['journal'][idx]) or ('증권학회지' in testing_df['journal'][idx]) : \n",
    "                try : \n",
    "                    if int(testing_df['year'][idx]) > 2009 : \n",
    "                        testing_df['journal'][idx] = '한국증권학회지'\n",
    "                except : pass # year 가 nan 인 데이터는 검색결과 2009년 이전의 논문이였다.\n",
    "    return testing_df"
   ]
  },
  {
   "cell_type": "code",
   "execution_count": 6,
   "metadata": {
    "scrolled": true
   },
   "outputs": [],
   "source": [
    "base_df = adjust_the_journal_under_2009(base_df)\n",
    "fm_base_df = adjust_the_journal_under_2009(fm_base_df)\n",
    "f_base_df = adjust_the_journal_under_2009(f_base_df)\n",
    "sc_base_df = adjust_the_journal_under_2009(sc_base_df)\n",
    "dr_base_df = adjust_the_journal_under_2009(dr_base_df)"
   ]
  },
  {
   "cell_type": "code",
   "execution_count": 7,
   "metadata": {
    "scrolled": true
   },
   "outputs": [],
   "source": [
    "def fine_revising_the_journal(df):\n",
    "    a_idx_ls = \\\n",
    "    [idx for idx,i in enumerate(df['journal']) if type(i) != float and ' a' in i[-3:]]\n",
    "    b_idx_ls = \\\n",
    "    [idx for idx,i in enumerate(df['journal']) if type(i) != float and ' b' in i[-3:]]\n",
    "    a_or_b_idx_ls = a_idx_ls + b_idx_ls\n",
    "    \n",
    "    df.loc[a_or_b_idx_ls,'journal'] = df.loc[a_or_b_idx_ls,'journal'].apply(lambda x : x[:-1].strip())\n",
    "\n",
    "    slicing_vol_idx_ls = [idx for idx,i in enumerate(df['journal']) if type(i) != float and ' vol' in i]\n",
    "    df.loc[slicing_vol_idx_ls,'journal'] = df.loc[slicing_vol_idx_ls,'journal'].apply(lambda x : x[:x.find('vol')].strip())\n",
    "    \n",
    "    return df"
   ]
  },
  {
   "cell_type": "code",
   "execution_count": 8,
   "metadata": {},
   "outputs": [],
   "source": [
    "base_df = fine_revising_the_journal(base_df)\n",
    "fm_base_df = fine_revising_the_journal(fm_base_df)\n",
    "f_base_df = fine_revising_the_journal(f_base_df)\n",
    "sc_base_df = fine_revising_the_journal(sc_base_df)\n",
    "dr_base_df = fine_revising_the_journal(dr_base_df)"
   ]
  },
  {
   "cell_type": "markdown",
   "metadata": {},
   "source": [
    "한국 학회인데, 영어로 기제된 경우, 이를 한글로 모두 통일시켜 준다."
   ]
  },
  {
   "cell_type": "code",
   "execution_count": 9,
   "metadata": {
    "scrolled": false
   },
   "outputs": [],
   "source": [
    "revise_dict = {'Korean Journal of Financial Stuides' : '한국증권학회지',\n",
    "'Korean Journal of Financial Engineering':'금융공학연구',\n",
    "'Korean Journal of Futures and Options':'선물연구',\n",
    "'Asian Review of Financial Research':'재무연구',\n",
    "'KOREAN JOURNAL OF FINANCIAL MANAGEMENT':'재무관리연구',\n",
    "'Korean Management Review':'경영학연구',\n",
    "'Journal of Money & Finance':'금융연구',\n",
    "'Korean Journal of Money & Finance':'금융학회지',\n",
    "'Korean Accounting Review':'회계학연구',\n",
    "'Korean Journal of Business Administration':'대한경영학회지',\n",
    "'Journal of Industrial Economics and Business':'산업경제연구',\n",
    "'International Business Journal':'국제경영연구',\n",
    "'ACCOUNTING INFORMATION REVIEW':'회계정보연구',\n",
    "'Korean Accounting Journal':'회계저널',\n",
    "}"
   ]
  },
  {
   "cell_type": "code",
   "execution_count": 10,
   "metadata": {},
   "outputs": [],
   "source": [
    "def convert_eng_journal_name_to_kor_journal_name(df,revise_dict):\n",
    "    for index in range(len(revise_dict)) : \n",
    "        revise_ls = \\\n",
    "        [idx for idx,i in enumerate(df['journal']) \\\n",
    "         if type(i) != float and list(revise_dict.keys())[index].lower() in i]\n",
    "\n",
    "        df.loc[revise_ls,'journal'] = list(revise_dict.values())[index]\n",
    "    \n",
    "    return df"
   ]
  },
  {
   "cell_type": "code",
   "execution_count": 11,
   "metadata": {},
   "outputs": [],
   "source": [
    "base_df = convert_eng_journal_name_to_kor_journal_name(base_df,revise_dict)\n",
    "fm_base_df = convert_eng_journal_name_to_kor_journal_name(fm_base_df,revise_dict)\n",
    "f_base_df = convert_eng_journal_name_to_kor_journal_name(f_base_df,revise_dict)\n",
    "sc_base_df = convert_eng_journal_name_to_kor_journal_name(sc_base_df,revise_dict)\n",
    "dr_base_df = convert_eng_journal_name_to_kor_journal_name(dr_base_df,revise_dict)"
   ]
  },
  {
   "cell_type": "code",
   "execution_count": 12,
   "metadata": {},
   "outputs": [],
   "source": [
    "def make_counter_df_under_journal(base_df) :\n",
    "    df1 = pd.DataFrame.from_dict(Counter(base_df['journal'].tolist()),orient='index',columns=['count'])\n",
    "    df2 = df1.sort_values('count',ascending=False)\n",
    "    return df2"
   ]
  },
  {
   "cell_type": "code",
   "execution_count": 13,
   "metadata": {},
   "outputs": [
    {
     "data": {
      "text/html": [
       "<div>\n",
       "<style scoped>\n",
       "    .dataframe tbody tr th:only-of-type {\n",
       "        vertical-align: middle;\n",
       "    }\n",
       "\n",
       "    .dataframe tbody tr th {\n",
       "        vertical-align: top;\n",
       "    }\n",
       "\n",
       "    .dataframe thead th {\n",
       "        text-align: right;\n",
       "    }\n",
       "</style>\n",
       "<table border=\"1\" class=\"dataframe\">\n",
       "  <thead>\n",
       "    <tr style=\"text-align: right;\">\n",
       "      <th></th>\n",
       "      <th>index</th>\n",
       "      <th>count</th>\n",
       "    </tr>\n",
       "  </thead>\n",
       "  <tbody>\n",
       "    <tr>\n",
       "      <th>0</th>\n",
       "      <td>journal of finance</td>\n",
       "      <td>3782</td>\n",
       "    </tr>\n",
       "    <tr>\n",
       "      <th>1</th>\n",
       "      <td>journal of financial economics</td>\n",
       "      <td>3130</td>\n",
       "    </tr>\n",
       "    <tr>\n",
       "      <th>2</th>\n",
       "      <td>한국증권학회지</td>\n",
       "      <td>1612</td>\n",
       "    </tr>\n",
       "    <tr>\n",
       "      <th>3</th>\n",
       "      <td>review of financial studies</td>\n",
       "      <td>1029</td>\n",
       "    </tr>\n",
       "    <tr>\n",
       "      <th>4</th>\n",
       "      <td>재무관리연구</td>\n",
       "      <td>951</td>\n",
       "    </tr>\n",
       "    <tr>\n",
       "      <th>5</th>\n",
       "      <td>재무연구</td>\n",
       "      <td>931</td>\n",
       "    </tr>\n",
       "    <tr>\n",
       "      <th>6</th>\n",
       "      <td>econometrica</td>\n",
       "      <td>555</td>\n",
       "    </tr>\n",
       "    <tr>\n",
       "      <th>7</th>\n",
       "      <td>journal of political economy</td>\n",
       "      <td>546</td>\n",
       "    </tr>\n",
       "    <tr>\n",
       "      <th>8</th>\n",
       "      <td>american economic review</td>\n",
       "      <td>517</td>\n",
       "    </tr>\n",
       "    <tr>\n",
       "      <th>9</th>\n",
       "      <td>선물연구</td>\n",
       "      <td>501</td>\n",
       "    </tr>\n",
       "  </tbody>\n",
       "</table>\n",
       "</div>"
      ],
      "text/plain": [
       "                            index  count\n",
       "0              journal of finance   3782\n",
       "1  journal of financial economics   3130\n",
       "2                         한국증권학회지   1612\n",
       "3     review of financial studies   1029\n",
       "4                          재무관리연구    951\n",
       "5                            재무연구    931\n",
       "6                    econometrica    555\n",
       "7    journal of political economy    546\n",
       "8        american economic review    517\n",
       "9                            선물연구    501"
      ]
     },
     "metadata": {},
     "output_type": "display_data"
    }
   ],
   "source": [
    "journal_counter_df = make_counter_df_under_journal(base_df)\n",
    "journal_counter_df.reset_index(inplace=True)\n",
    "display(journal_counter_df.head(10))\n",
    "journal_counter_df.to_csv('journal_counter_df.csv',index=False)"
   ]
  },
  {
   "cell_type": "code",
   "execution_count": 14,
   "metadata": {
    "scrolled": true
   },
   "outputs": [
    {
     "data": {
      "text/markdown": [
       "### 한국재무관리학회"
      ],
      "text/plain": [
       "<IPython.core.display.Markdown object>"
      ]
     },
     "metadata": {},
     "output_type": "display_data"
    },
    {
     "data": {
      "text/html": [
       "<div>\n",
       "<style scoped>\n",
       "    .dataframe tbody tr th:only-of-type {\n",
       "        vertical-align: middle;\n",
       "    }\n",
       "\n",
       "    .dataframe tbody tr th {\n",
       "        vertical-align: top;\n",
       "    }\n",
       "\n",
       "    .dataframe thead th {\n",
       "        text-align: right;\n",
       "    }\n",
       "</style>\n",
       "<table border=\"1\" class=\"dataframe\">\n",
       "  <thead>\n",
       "    <tr style=\"text-align: right;\">\n",
       "      <th></th>\n",
       "      <th>count</th>\n",
       "    </tr>\n",
       "  </thead>\n",
       "  <tbody>\n",
       "    <tr>\n",
       "      <th>journal of finance</th>\n",
       "      <td>1390</td>\n",
       "    </tr>\n",
       "    <tr>\n",
       "      <th>journal of financial economics</th>\n",
       "      <td>1084</td>\n",
       "    </tr>\n",
       "    <tr>\n",
       "      <th>재무관리연구</th>\n",
       "      <td>429</td>\n",
       "    </tr>\n",
       "    <tr>\n",
       "      <th>한국증권학회지</th>\n",
       "      <td>410</td>\n",
       "    </tr>\n",
       "    <tr>\n",
       "      <th>review of financial studies</th>\n",
       "      <td>390</td>\n",
       "    </tr>\n",
       "    <tr>\n",
       "      <th>재무연구</th>\n",
       "      <td>274</td>\n",
       "    </tr>\n",
       "    <tr>\n",
       "      <th>journal of financial and quantitative analysis</th>\n",
       "      <td>230</td>\n",
       "    </tr>\n",
       "    <tr>\n",
       "      <th>econometrica</th>\n",
       "      <td>206</td>\n",
       "    </tr>\n",
       "    <tr>\n",
       "      <th>american economic review</th>\n",
       "      <td>199</td>\n",
       "    </tr>\n",
       "    <tr>\n",
       "      <th>journal of banking and finance</th>\n",
       "      <td>169</td>\n",
       "    </tr>\n",
       "  </tbody>\n",
       "</table>\n",
       "</div>"
      ],
      "text/plain": [
       "                                                count\n",
       "journal of finance                               1390\n",
       "journal of financial economics                   1084\n",
       "재무관리연구                                            429\n",
       "한국증권학회지                                           410\n",
       "review of financial studies                       390\n",
       "재무연구                                              274\n",
       "journal of financial and quantitative analysis    230\n",
       "econometrica                                      206\n",
       "american economic review                          199\n",
       "journal of banking and finance                    169"
      ]
     },
     "metadata": {},
     "output_type": "display_data"
    },
    {
     "data": {
      "text/markdown": [
       "### 한국재무학회"
      ],
      "text/plain": [
       "<IPython.core.display.Markdown object>"
      ]
     },
     "metadata": {},
     "output_type": "display_data"
    },
    {
     "data": {
      "text/html": [
       "<div>\n",
       "<style scoped>\n",
       "    .dataframe tbody tr th:only-of-type {\n",
       "        vertical-align: middle;\n",
       "    }\n",
       "\n",
       "    .dataframe tbody tr th {\n",
       "        vertical-align: top;\n",
       "    }\n",
       "\n",
       "    .dataframe thead th {\n",
       "        text-align: right;\n",
       "    }\n",
       "</style>\n",
       "<table border=\"1\" class=\"dataframe\">\n",
       "  <thead>\n",
       "    <tr style=\"text-align: right;\">\n",
       "      <th></th>\n",
       "      <th>count</th>\n",
       "    </tr>\n",
       "  </thead>\n",
       "  <tbody>\n",
       "    <tr>\n",
       "      <th>journal of finance</th>\n",
       "      <td>895</td>\n",
       "    </tr>\n",
       "    <tr>\n",
       "      <th>journal of financial economics</th>\n",
       "      <td>704</td>\n",
       "    </tr>\n",
       "    <tr>\n",
       "      <th>한국증권학회지</th>\n",
       "      <td>330</td>\n",
       "    </tr>\n",
       "    <tr>\n",
       "      <th>재무연구</th>\n",
       "      <td>278</td>\n",
       "    </tr>\n",
       "    <tr>\n",
       "      <th>review of financial studies</th>\n",
       "      <td>238</td>\n",
       "    </tr>\n",
       "    <tr>\n",
       "      <th>재무관리연구</th>\n",
       "      <td>210</td>\n",
       "    </tr>\n",
       "    <tr>\n",
       "      <th>econometrica</th>\n",
       "      <td>136</td>\n",
       "    </tr>\n",
       "    <tr>\n",
       "      <th>american economic review</th>\n",
       "      <td>129</td>\n",
       "    </tr>\n",
       "    <tr>\n",
       "      <th>journal of political economy</th>\n",
       "      <td>109</td>\n",
       "    </tr>\n",
       "    <tr>\n",
       "      <th>journal of financial and quantitative analysis</th>\n",
       "      <td>108</td>\n",
       "    </tr>\n",
       "  </tbody>\n",
       "</table>\n",
       "</div>"
      ],
      "text/plain": [
       "                                                count\n",
       "journal of finance                                895\n",
       "journal of financial economics                    704\n",
       "한국증권학회지                                           330\n",
       "재무연구                                              278\n",
       "review of financial studies                       238\n",
       "재무관리연구                                            210\n",
       "econometrica                                      136\n",
       "american economic review                          129\n",
       "journal of political economy                      109\n",
       "journal of financial and quantitative analysis    108"
      ]
     },
     "metadata": {},
     "output_type": "display_data"
    },
    {
     "data": {
      "text/markdown": [
       "### 한국증권학회지"
      ],
      "text/plain": [
       "<IPython.core.display.Markdown object>"
      ]
     },
     "metadata": {},
     "output_type": "display_data"
    },
    {
     "data": {
      "text/html": [
       "<div>\n",
       "<style scoped>\n",
       "    .dataframe tbody tr th:only-of-type {\n",
       "        vertical-align: middle;\n",
       "    }\n",
       "\n",
       "    .dataframe tbody tr th {\n",
       "        vertical-align: top;\n",
       "    }\n",
       "\n",
       "    .dataframe thead th {\n",
       "        text-align: right;\n",
       "    }\n",
       "</style>\n",
       "<table border=\"1\" class=\"dataframe\">\n",
       "  <thead>\n",
       "    <tr style=\"text-align: right;\">\n",
       "      <th></th>\n",
       "      <th>count</th>\n",
       "    </tr>\n",
       "  </thead>\n",
       "  <tbody>\n",
       "    <tr>\n",
       "      <th>journal of finance</th>\n",
       "      <td>1205</td>\n",
       "    </tr>\n",
       "    <tr>\n",
       "      <th>journal of financial economics</th>\n",
       "      <td>1147</td>\n",
       "    </tr>\n",
       "    <tr>\n",
       "      <th>한국증권학회지</th>\n",
       "      <td>760</td>\n",
       "    </tr>\n",
       "    <tr>\n",
       "      <th>재무연구</th>\n",
       "      <td>320</td>\n",
       "    </tr>\n",
       "    <tr>\n",
       "      <th>review of financial studies</th>\n",
       "      <td>259</td>\n",
       "    </tr>\n",
       "    <tr>\n",
       "      <th>재무관리연구</th>\n",
       "      <td>238</td>\n",
       "    </tr>\n",
       "    <tr>\n",
       "      <th>journal of political economy</th>\n",
       "      <td>229</td>\n",
       "    </tr>\n",
       "    <tr>\n",
       "      <th>american economic review</th>\n",
       "      <td>154</td>\n",
       "    </tr>\n",
       "    <tr>\n",
       "      <th>econometrica</th>\n",
       "      <td>129</td>\n",
       "    </tr>\n",
       "    <tr>\n",
       "      <th>회계학연구</th>\n",
       "      <td>91</td>\n",
       "    </tr>\n",
       "  </tbody>\n",
       "</table>\n",
       "</div>"
      ],
      "text/plain": [
       "                                count\n",
       "journal of finance               1205\n",
       "journal of financial economics   1147\n",
       "한국증권학회지                           760\n",
       "재무연구                              320\n",
       "review of financial studies       259\n",
       "재무관리연구                            238\n",
       "journal of political economy      229\n",
       "american economic review          154\n",
       "econometrica                      129\n",
       "회계학연구                              91"
      ]
     },
     "metadata": {},
     "output_type": "display_data"
    },
    {
     "data": {
      "text/markdown": [
       "### 한국파생상품학회"
      ],
      "text/plain": [
       "<IPython.core.display.Markdown object>"
      ]
     },
     "metadata": {},
     "output_type": "display_data"
    },
    {
     "data": {
      "text/html": [
       "<div>\n",
       "<style scoped>\n",
       "    .dataframe tbody tr th:only-of-type {\n",
       "        vertical-align: middle;\n",
       "    }\n",
       "\n",
       "    .dataframe tbody tr th {\n",
       "        vertical-align: top;\n",
       "    }\n",
       "\n",
       "    .dataframe thead th {\n",
       "        text-align: right;\n",
       "    }\n",
       "</style>\n",
       "<table border=\"1\" class=\"dataframe\">\n",
       "  <thead>\n",
       "    <tr style=\"text-align: right;\">\n",
       "      <th></th>\n",
       "      <th>count</th>\n",
       "    </tr>\n",
       "  </thead>\n",
       "  <tbody>\n",
       "    <tr>\n",
       "      <th>journal of finance</th>\n",
       "      <td>301</td>\n",
       "    </tr>\n",
       "    <tr>\n",
       "      <th>선물연구</th>\n",
       "      <td>236</td>\n",
       "    </tr>\n",
       "    <tr>\n",
       "      <th>review of financial studies</th>\n",
       "      <td>182</td>\n",
       "    </tr>\n",
       "    <tr>\n",
       "      <th>journal of financial economics</th>\n",
       "      <td>175</td>\n",
       "    </tr>\n",
       "    <tr>\n",
       "      <th>한국증권학회지</th>\n",
       "      <td>103</td>\n",
       "    </tr>\n",
       "    <tr>\n",
       "      <th>econometrica</th>\n",
       "      <td>81</td>\n",
       "    </tr>\n",
       "    <tr>\n",
       "      <th>재무관리연구</th>\n",
       "      <td>74</td>\n",
       "    </tr>\n",
       "    <tr>\n",
       "      <th>journal of futures markets</th>\n",
       "      <td>65</td>\n",
       "    </tr>\n",
       "    <tr>\n",
       "      <th>journal of financial and quantitative analysis</th>\n",
       "      <td>61</td>\n",
       "    </tr>\n",
       "    <tr>\n",
       "      <th>재무연구</th>\n",
       "      <td>58</td>\n",
       "    </tr>\n",
       "  </tbody>\n",
       "</table>\n",
       "</div>"
      ],
      "text/plain": [
       "                                                count\n",
       "journal of finance                                301\n",
       "선물연구                                              236\n",
       "review of financial studies                       182\n",
       "journal of financial economics                    175\n",
       "한국증권학회지                                           103\n",
       "econometrica                                       81\n",
       "재무관리연구                                             74\n",
       "journal of futures markets                         65\n",
       "journal of financial and quantitative analysis     61\n",
       "재무연구                                               58"
      ]
     },
     "metadata": {},
     "output_type": "display_data"
    }
   ],
   "source": [
    "display(Markdown('### 한국재무관리학회'))\n",
    "display(make_counter_df_under_journal(fm_base_df).head(10))\n",
    "display(Markdown('### 한국재무학회'))\n",
    "display(make_counter_df_under_journal(f_base_df).head(10))\n",
    "display(Markdown('### 한국증권학회지'))\n",
    "display(make_counter_df_under_journal(sc_base_df).head(10))\n",
    "display(Markdown('### 한국파생상품학회'))\n",
    "display(make_counter_df_under_journal(dr_base_df).head(10))"
   ]
  },
  {
   "cell_type": "code",
   "execution_count": 15,
   "metadata": {},
   "outputs": [],
   "source": [
    "fm_base_df.to_csv('file/fm_base_df3.csv')\n",
    "f_base_df.to_csv('file/f_base_df3.csv')\n",
    "sc_base_df.to_csv('file/sc_base_df3.csv')\n",
    "dr_base_df.to_csv('file/dr_base_df3.csv')\n",
    "base_df.to_csv('file/base_df3.csv')"
   ]
  }
 ],
 "metadata": {
  "kernelspec": {
   "display_name": "Python 3",
   "language": "python",
   "name": "python3"
  },
  "language_info": {
   "codemirror_mode": {
    "name": "ipython",
    "version": 3
   },
   "file_extension": ".py",
   "mimetype": "text/x-python",
   "name": "python",
   "nbconvert_exporter": "python",
   "pygments_lexer": "ipython3",
   "version": "3.6.6"
  }
 },
 "nbformat": 4,
 "nbformat_minor": 2
}
