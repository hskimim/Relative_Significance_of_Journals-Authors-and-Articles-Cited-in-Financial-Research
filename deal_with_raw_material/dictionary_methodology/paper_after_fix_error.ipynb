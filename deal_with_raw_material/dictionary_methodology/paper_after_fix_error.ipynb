{
 "cells": [
  {
   "cell_type": "code",
   "execution_count": 12,
   "metadata": {},
   "outputs": [],
   "source": [
    "import sys\n",
    "sys.path.append('../personal_pkgs/')\n",
    "import pickle\n",
    "import pandas as pd\n",
    "import oop_func as func\n",
    "import personal_pkg as ref\n",
    "import parsing_func as pars\n",
    "import os\n",
    "import re\n",
    "from collections import Counter\n",
    "import warnings\n",
    "warnings.filterwarnings(\"ignore\")\n",
    "from IPython.display import Markdown"
   ]
  },
  {
   "cell_type": "code",
   "execution_count": 13,
   "metadata": {
    "scrolled": false
   },
   "outputs": [
    {
     "data": {
      "text/html": [
       "<div>\n",
       "<style scoped>\n",
       "    .dataframe tbody tr th:only-of-type {\n",
       "        vertical-align: middle;\n",
       "    }\n",
       "\n",
       "    .dataframe tbody tr th {\n",
       "        vertical-align: top;\n",
       "    }\n",
       "\n",
       "    .dataframe thead th {\n",
       "        text-align: right;\n",
       "    }\n",
       "</style>\n",
       "<table border=\"1\" class=\"dataframe\">\n",
       "  <thead>\n",
       "    <tr style=\"text-align: right;\">\n",
       "      <th></th>\n",
       "      <th>author</th>\n",
       "      <th>from</th>\n",
       "      <th>index</th>\n",
       "      <th>journal</th>\n",
       "      <th>paper</th>\n",
       "      <th>year</th>\n",
       "    </tr>\n",
       "  </thead>\n",
       "  <tbody>\n",
       "    <tr>\n",
       "      <th>28445</th>\n",
       "      <td>태석준</td>\n",
       "      <td>한국파생상품학회</td>\n",
       "      <td>22432.0</td>\n",
       "      <td>” ｢한국재무관리학회｣ 14  3</td>\n",
       "      <td>한국 주가지수선물시장에서의 차익거래에 관한 연구</td>\n",
       "      <td>1997.0</td>\n",
       "    </tr>\n",
       "    <tr>\n",
       "      <th>28446</th>\n",
       "      <td>Duffee D. and Kan R.</td>\n",
       "      <td>한국파생상품학회</td>\n",
       "      <td>22502.0</td>\n",
       "      <td>” Mathematical of Finance  | 6</td>\n",
       "      <td>A Yield Factor Model of Interest Rates</td>\n",
       "      <td>1996.0</td>\n",
       "    </tr>\n",
       "    <tr>\n",
       "      <th>28447</th>\n",
       "      <td>Duffee D. and Kan R.</td>\n",
       "      <td>한국파생상품학회</td>\n",
       "      <td>22502.0</td>\n",
       "      <td>” Mathematical of Finance  | 6</td>\n",
       "      <td>A Yield Factor Model of Interest Rates</td>\n",
       "      <td>1996.0</td>\n",
       "    </tr>\n",
       "    <tr>\n",
       "      <th>28448</th>\n",
       "      <td>Duffee D. and Kan R.</td>\n",
       "      <td>한국파생상품학회</td>\n",
       "      <td>22502.0</td>\n",
       "      <td>” Mathematical of Finance  | 6</td>\n",
       "      <td>A Yield Factor Model of Interest Rates</td>\n",
       "      <td>1996.0</td>\n",
       "    </tr>\n",
       "    <tr>\n",
       "      <th>28449</th>\n",
       "      <td>이승환</td>\n",
       "      <td>한국파생상품학회</td>\n",
       "      <td>22612.0</td>\n",
       "      <td>” 「국제경제연구」  | 15 1</td>\n",
       "      <td>통화옵션을 이용한 미래 원/달러 환율의 위험중립 확률분포 추정</td>\n",
       "      <td>2009.0</td>\n",
       "    </tr>\n",
       "  </tbody>\n",
       "</table>\n",
       "</div>"
      ],
      "text/plain": [
       "                      author      from    index  \\\n",
       "28445                   태석준   한국파생상품학회  22432.0   \n",
       "28446  Duffee D. and Kan R.   한국파생상품학회  22502.0   \n",
       "28447  Duffee D. and Kan R.   한국파생상품학회  22502.0   \n",
       "28448  Duffee D. and Kan R.   한국파생상품학회  22502.0   \n",
       "28449                   이승환   한국파생상품학회  22612.0   \n",
       "\n",
       "                               journal  \\\n",
       "28445              ” ｢한국재무관리학회｣ 14  3    \n",
       "28446  ” Mathematical of Finance  | 6    \n",
       "28447  ” Mathematical of Finance  | 6    \n",
       "28448  ” Mathematical of Finance  | 6    \n",
       "28449              ” 「국제경제연구」  | 15 1    \n",
       "\n",
       "                                        paper    year  \n",
       "28445              한국 주가지수선물시장에서의 차익거래에 관한 연구  1997.0  \n",
       "28446  A Yield Factor Model of Interest Rates  1996.0  \n",
       "28447  A Yield Factor Model of Interest Rates  1996.0  \n",
       "28448  A Yield Factor Model of Interest Rates  1996.0  \n",
       "28449      통화옵션을 이용한 미래 원/달러 환율의 위험중립 확률분포 추정  2009.0  "
      ]
     },
     "execution_count": 13,
     "metadata": {},
     "output_type": "execute_result"
    }
   ],
   "source": [
    "base_df = pd.read_csv('base_df.csv')\n",
    "base_df.tail()"
   ]
  },
  {
   "cell_type": "code",
   "execution_count": 14,
   "metadata": {},
   "outputs": [
    {
     "data": {
      "text/html": [
       "<div>\n",
       "<style scoped>\n",
       "    .dataframe tbody tr th:only-of-type {\n",
       "        vertical-align: middle;\n",
       "    }\n",
       "\n",
       "    .dataframe tbody tr th {\n",
       "        vertical-align: top;\n",
       "    }\n",
       "\n",
       "    .dataframe thead th {\n",
       "        text-align: right;\n",
       "    }\n",
       "</style>\n",
       "<table border=\"1\" class=\"dataframe\">\n",
       "  <thead>\n",
       "    <tr style=\"text-align: right;\">\n",
       "      <th></th>\n",
       "      <th>author</th>\n",
       "      <th>from</th>\n",
       "      <th>index</th>\n",
       "      <th>journal</th>\n",
       "      <th>paper</th>\n",
       "      <th>year</th>\n",
       "      <th>new_paper</th>\n",
       "    </tr>\n",
       "  </thead>\n",
       "  <tbody>\n",
       "    <tr>\n",
       "      <th>28445</th>\n",
       "      <td>태석준</td>\n",
       "      <td>한국파생상품학회</td>\n",
       "      <td>22432.0</td>\n",
       "      <td>” ｢한국재무관리학회｣ 14  3</td>\n",
       "      <td>한국 주가지수선물시장에서의 차익거래에 관한 연구</td>\n",
       "      <td>1997.0</td>\n",
       "      <td>한국 주가지수선물시장에서의 차익거래에 관한 연구////1997</td>\n",
       "    </tr>\n",
       "    <tr>\n",
       "      <th>28446</th>\n",
       "      <td>Duffee D. and Kan R.</td>\n",
       "      <td>한국파생상품학회</td>\n",
       "      <td>22502.0</td>\n",
       "      <td>” Mathematical of Finance  | 6</td>\n",
       "      <td>A Yield Factor Model of Interest Rates</td>\n",
       "      <td>1996.0</td>\n",
       "      <td>a yield factor model of interest rates////1996</td>\n",
       "    </tr>\n",
       "    <tr>\n",
       "      <th>28447</th>\n",
       "      <td>Duffee D. and Kan R.</td>\n",
       "      <td>한국파생상품학회</td>\n",
       "      <td>22502.0</td>\n",
       "      <td>” Mathematical of Finance  | 6</td>\n",
       "      <td>A Yield Factor Model of Interest Rates</td>\n",
       "      <td>1996.0</td>\n",
       "      <td>a yield factor model of interest rates////1996</td>\n",
       "    </tr>\n",
       "    <tr>\n",
       "      <th>28448</th>\n",
       "      <td>Duffee D. and Kan R.</td>\n",
       "      <td>한국파생상품학회</td>\n",
       "      <td>22502.0</td>\n",
       "      <td>” Mathematical of Finance  | 6</td>\n",
       "      <td>A Yield Factor Model of Interest Rates</td>\n",
       "      <td>1996.0</td>\n",
       "      <td>a yield factor model of interest rates////1996</td>\n",
       "    </tr>\n",
       "    <tr>\n",
       "      <th>28449</th>\n",
       "      <td>이승환</td>\n",
       "      <td>한국파생상품학회</td>\n",
       "      <td>22612.0</td>\n",
       "      <td>” 「국제경제연구」  | 15 1</td>\n",
       "      <td>통화옵션을 이용한 미래 원/달러 환율의 위험중립 확률분포 추정</td>\n",
       "      <td>2009.0</td>\n",
       "      <td>통화옵션을 이용한 미래 원/달러 환율의 위험중립 확률분포 추정////2009</td>\n",
       "    </tr>\n",
       "  </tbody>\n",
       "</table>\n",
       "</div>"
      ],
      "text/plain": [
       "                      author      from    index  \\\n",
       "28445                   태석준   한국파생상품학회  22432.0   \n",
       "28446  Duffee D. and Kan R.   한국파생상품학회  22502.0   \n",
       "28447  Duffee D. and Kan R.   한국파생상품학회  22502.0   \n",
       "28448  Duffee D. and Kan R.   한국파생상품학회  22502.0   \n",
       "28449                   이승환   한국파생상품학회  22612.0   \n",
       "\n",
       "                               journal  \\\n",
       "28445              ” ｢한국재무관리학회｣ 14  3    \n",
       "28446  ” Mathematical of Finance  | 6    \n",
       "28447  ” Mathematical of Finance  | 6    \n",
       "28448  ” Mathematical of Finance  | 6    \n",
       "28449              ” 「국제경제연구」  | 15 1    \n",
       "\n",
       "                                        paper    year  \\\n",
       "28445              한국 주가지수선물시장에서의 차익거래에 관한 연구  1997.0   \n",
       "28446  A Yield Factor Model of Interest Rates  1996.0   \n",
       "28447  A Yield Factor Model of Interest Rates  1996.0   \n",
       "28448  A Yield Factor Model of Interest Rates  1996.0   \n",
       "28449      통화옵션을 이용한 미래 원/달러 환율의 위험중립 확률분포 추정  2009.0   \n",
       "\n",
       "                                            new_paper  \n",
       "28445              한국 주가지수선물시장에서의 차익거래에 관한 연구////1997  \n",
       "28446  a yield factor model of interest rates////1996  \n",
       "28447  a yield factor model of interest rates////1996  \n",
       "28448  a yield factor model of interest rates////1996  \n",
       "28449      통화옵션을 이용한 미래 원/달러 환율의 위험중립 확률분포 추정////2009  "
      ]
     },
     "execution_count": 14,
     "metadata": {},
     "output_type": "execute_result"
    }
   ],
   "source": [
    "base_df['new_paper'] = \\\n",
    "[base_df['paper'][idx] + '////' + str(base_df['year'][idx]).split(\".\")[0] for idx in range(len(base_df))]\n",
    "\n",
    "base_df['new_paper'] = base_df['new_paper'].apply(lambda x : x.lower())\n",
    "\n",
    "base_df.tail()"
   ]
  },
  {
   "cell_type": "code",
   "execution_count": 21,
   "metadata": {},
   "outputs": [
    {
     "data": {
      "text/html": [
       "<div>\n",
       "<style scoped>\n",
       "    .dataframe tbody tr th:only-of-type {\n",
       "        vertical-align: middle;\n",
       "    }\n",
       "\n",
       "    .dataframe tbody tr th {\n",
       "        vertical-align: top;\n",
       "    }\n",
       "\n",
       "    .dataframe thead th {\n",
       "        text-align: right;\n",
       "    }\n",
       "</style>\n",
       "<table border=\"1\" class=\"dataframe\">\n",
       "  <thead>\n",
       "    <tr style=\"text-align: right;\">\n",
       "      <th></th>\n",
       "      <th>count</th>\n",
       "    </tr>\n",
       "  </thead>\n",
       "  <tbody>\n",
       "    <tr>\n",
       "      <th>‘////nan</th>\n",
       "      <td>280</td>\n",
       "    </tr>\n",
       "    <tr>\n",
       "      <th>common risk factors in the returns on stocks and bonds////1993</th>\n",
       "      <td>180</td>\n",
       "    </tr>\n",
       "    <tr>\n",
       "      <th>results////2007</th>\n",
       "      <td>114</td>\n",
       "    </tr>\n",
       "    <tr>\n",
       "      <th>on persistence in mutual fund performance////1997</th>\n",
       "      <td>108</td>\n",
       "    </tr>\n",
       "    <tr>\n",
       "      <th>the pricing of options and corporate liabilities////1973</th>\n",
       "      <td>101</td>\n",
       "    </tr>\n",
       "  </tbody>\n",
       "</table>\n",
       "</div>"
      ],
      "text/plain": [
       "                                                    count\n",
       "‘////nan                                              280\n",
       "common risk factors in the returns on stocks an...    180\n",
       "results////2007                                       114\n",
       "on persistence in mutual fund performance////1997     108\n",
       "the pricing of options and corporate liabilitie...    101"
      ]
     },
     "metadata": {},
     "output_type": "display_data"
    },
    {
     "data": {
      "text/plain": [
       "1187"
      ]
     },
     "execution_count": 21,
     "metadata": {},
     "output_type": "execute_result"
    }
   ],
   "source": [
    "paper_ls = [i.lower() for i in base_df['new_paper'].tolist()]\n",
    "counter_df = pd.DataFrame.from_dict(Counter(paper_ls),orient='index',columns=['count']).sort_values('count',ascending=False)\n",
    "catch_paper_ls = counter_df[counter_df['count'] > 3].index.tolist()\n",
    "display(counter_df.head())\n",
    "len(catch_paper_ls)"
   ]
  },
  {
   "cell_type": "code",
   "execution_count": 47,
   "metadata": {},
   "outputs": [],
   "source": [
    "catch_paper_ls = catch_paper_ls[1:] # nan 값은 제외한다."
   ]
  },
  {
   "cell_type": "code",
   "execution_count": 48,
   "metadata": {},
   "outputs": [
    {
     "data": {
      "text/plain": [
       "['results////2007',\n",
       " 'on persistence in mutual fund performance////1997',\n",
       " 'the pricing of options and corporate liabilities////1973',\n",
       " 'risk return and equilibrium: empirical tests////1973',\n",
       " 'theory of the firm: managerial behavior agency costs and ownership structure////1976',\n",
       " 'the cross-section of expected stock returns////1992',\n",
       " 'corporate financing and investment decisions when firms have information that investors do not have////1984',\n",
       " 'common risk factors in the returns on bonds and stocks////1993',\n",
       " 'stock index futures////2006',\n",
       " 'tunneling////2000']"
      ]
     },
     "execution_count": 48,
     "metadata": {},
     "output_type": "execute_result"
    }
   ],
   "source": [
    "catch_paper_ls[:10]"
   ]
  },
  {
   "cell_type": "markdown",
   "metadata": {},
   "source": [
    "- 딕셔너리로 만들어놓은 base_df에서 데이터의 산발성이 보인다.\n",
    "- 따라서 catch_paper_ls 라는 딕셔너리의 딕셔너리를 구축한다. \n",
    "- 이는, base_df에서 논문의 이름과 년도를 기준으로 count를 sorting 했을 때, 3번 이상 나온 논문들만 따로 모든 것이다.\n",
    "- 하지만 위에서 보듯, \n",
    "    - `'common risk factors in the returns on stocks and bonds////1993'`\n",
    "    - `'common risk factors in the returns on bonds and stocks////1993'`\n",
    "    - 와 같은, uniqueness 가 보장되지 않는 것을 알 수 있다. \n",
    "    - 이에 따라서, dictionary of dictionary의 uniqueness 를 보장하기 위한 작업을 아래에서 시행한다."
   ]
  },
  {
   "cell_type": "code",
   "execution_count": 49,
   "metadata": {},
   "outputs": [
    {
     "name": "stdout",
     "output_type": "stream",
     "text": [
      "0\n",
      "1\n",
      "2\n",
      "3\n",
      "4\n"
     ]
    },
    {
     "data": {
      "text/plain": [
       "(1185, 1065, 120)"
      ]
     },
     "execution_count": 49,
     "metadata": {},
     "output_type": "execute_result"
    }
   ],
   "source": [
    "catch_paper_ls_copy = catch_paper_ls.copy()\n",
    "tuned_catch_paper_ls = []\n",
    "excepted_ls = []\n",
    "similar_match_ls = []\n",
    "\n",
    "for i in range(5) : \n",
    "    print(i)\n",
    "    for idx1,val1 in enumerate(catch_paper_ls_copy) : \n",
    "        for idx2,val2 in enumerate(catch_paper_ls_copy) :\n",
    "            if idx1 != idx2 : \n",
    "                v1 = set(val1.split(' '))\n",
    "                v2 = set(val2.split(' '))\n",
    "                try : \n",
    "                    if len(set(v1).intersection(v2)) / ((len(v1) + len(v2))/2) > 0.75 : \n",
    "                        similar_match_ls.append((val1,val2))\n",
    "                        if len(v1) > len(v2) :\n",
    "                            catch_paper_ls_copy.pop(catch_paper_ls_copy.index(val2))\n",
    "                            excepted_ls.append((val2))\n",
    "                        else :\n",
    "                            catch_paper_ls_copy.pop(catch_paper_ls_copy.index(val1))\n",
    "                            excepted_ls.append(((val1)))                    \n",
    "                except : pass\n",
    "\n",
    "len(catch_paper_ls) , len(catch_paper_ls_copy) , len(excepted_ls)"
   ]
  },
  {
   "cell_type": "markdown",
   "metadata": {},
   "source": [
    "- 61개가 줄었다. 이를 기반으로 딕셔너리를 생성한다.\n",
    "- ready_to_taget_dict라는 변수를 생성한다. 이는, 472개로 된 key를 가지고 있고, 이와 유사한 논문 이름들을 자기 자신을 포함해서 리스트 형태의 value를 가진다."
   ]
  },
  {
   "cell_type": "code",
   "execution_count": 50,
   "metadata": {},
   "outputs": [],
   "source": [
    "ready_to_target_dict = dict(zip(catch_paper_ls_copy,[[] for i in range(len(catch_paper_ls_copy))]))"
   ]
  },
  {
   "cell_type": "code",
   "execution_count": 51,
   "metadata": {
    "scrolled": true
   },
   "outputs": [
    {
     "name": "stdout",
     "output_type": "stream",
     "text": [
      "28000\r"
     ]
    }
   ],
   "source": [
    "append = 0\n",
    "naive_append = 0\n",
    "\n",
    "for idx1,val1 in enumerate(base_df['new_paper'].tolist()) : \n",
    "    if idx1 % 4000 == 0 : print(idx1,end='\\r')\n",
    "    for idx2,val2 in enumerate(ready_to_target_dict.keys()) :\n",
    "        \n",
    "        paper_name = val1.split('////')[0].lower()\n",
    "        paper_year = val1.split('////')[1].lower()\n",
    "        target_name = val2.split('////')[0].lower()\n",
    "        target_year = val2.split('////')[1].lower()\n",
    "        \n",
    "        if paper_year != 'nan' :\n",
    "            if paper_year == target_year :\n",
    "                paper_name_to_word = set(paper_name.split(' '))\n",
    "                target_name_to_word = set(target_name.split(' '))\n",
    "                if len(paper_name_to_word.intersection(target_name_to_word)) / len(paper_name_to_word) > 0.75 : \n",
    "                    ready_to_target_dict[val2].append(val1)\n",
    "                    append += 1\n",
    "        else : pass\n",
    "#             paper_name_to_word = set(paper_name.split(' '))\n",
    "#             target_name_to_word = set(target_name.split(' '))\n",
    "#             if len(paper_name_to_word.intersection(target_name_to_word)) / len(paper_name_to_word) > 0.9 : \n",
    "#                 ready_to_target_dict[val2].append(val1)\n",
    "#                 naive_append += 1"
   ]
  },
  {
   "cell_type": "code",
   "execution_count": 52,
   "metadata": {},
   "outputs": [
    {
     "data": {
      "text/plain": [
       "True"
      ]
     },
     "execution_count": 52,
     "metadata": {},
     "output_type": "execute_result"
    }
   ],
   "source": [
    "final_ls = []\n",
    "process_ls = []\n",
    "error_ls = []\n",
    "\n",
    "for idx1 , val in enumerate(base_df['new_paper']) : \n",
    "    process_ls = []\n",
    "    for idx2, key_ in enumerate(list(ready_to_target_dict.keys())) : \n",
    "        if val in ready_to_target_dict.get(key_) : \n",
    "            process_ls.append(key_)\n",
    "\n",
    "    if len(process_ls) == 1 :\n",
    "        final_ls.append(process_ls[0])\n",
    "    elif len(process_ls) == 0 :\n",
    "        final_ls.append(val)\n",
    "    else : final_ls.append(val)\n",
    "        \n",
    "len(final_ls) == len(base_df)"
   ]
  },
  {
   "cell_type": "code",
   "execution_count": 53,
   "metadata": {},
   "outputs": [
    {
     "data": {
      "text/plain": [
       "(15086, 15786)"
      ]
     },
     "execution_count": 53,
     "metadata": {},
     "output_type": "execute_result"
    }
   ],
   "source": [
    "len(set(final_ls)) , len(set(base_df['new_paper']))"
   ]
  },
  {
   "cell_type": "code",
   "execution_count": 54,
   "metadata": {},
   "outputs": [
    {
     "data": {
      "text/html": [
       "<div>\n",
       "<style scoped>\n",
       "    .dataframe tbody tr th:only-of-type {\n",
       "        vertical-align: middle;\n",
       "    }\n",
       "\n",
       "    .dataframe tbody tr th {\n",
       "        vertical-align: top;\n",
       "    }\n",
       "\n",
       "    .dataframe thead th {\n",
       "        text-align: right;\n",
       "    }\n",
       "</style>\n",
       "<table border=\"1\" class=\"dataframe\">\n",
       "  <thead>\n",
       "    <tr style=\"text-align: right;\">\n",
       "      <th></th>\n",
       "      <th>author</th>\n",
       "      <th>from</th>\n",
       "      <th>index</th>\n",
       "      <th>journal</th>\n",
       "      <th>paper</th>\n",
       "      <th>year</th>\n",
       "      <th>new_paper</th>\n",
       "      <th>tuned_new_paper</th>\n",
       "    </tr>\n",
       "  </thead>\n",
       "  <tbody>\n",
       "    <tr>\n",
       "      <th>28445</th>\n",
       "      <td>태석준</td>\n",
       "      <td>한국파생상품학회</td>\n",
       "      <td>22432.0</td>\n",
       "      <td>” ｢한국재무관리학회｣ 14  3</td>\n",
       "      <td>한국 주가지수선물시장에서의 차익거래에 관한 연구</td>\n",
       "      <td>1997.0</td>\n",
       "      <td>한국 주가지수선물시장에서의 차익거래에 관한 연구////1997</td>\n",
       "      <td>한국 주가지수선물시장에서의 차익거래에 관한 연구////1997</td>\n",
       "    </tr>\n",
       "    <tr>\n",
       "      <th>28446</th>\n",
       "      <td>Duffee D. and Kan R.</td>\n",
       "      <td>한국파생상품학회</td>\n",
       "      <td>22502.0</td>\n",
       "      <td>” Mathematical of Finance  | 6</td>\n",
       "      <td>A Yield Factor Model of Interest Rates</td>\n",
       "      <td>1996.0</td>\n",
       "      <td>a yield factor model of interest rates////1996</td>\n",
       "      <td>a yield factor model of interest rates////1996</td>\n",
       "    </tr>\n",
       "    <tr>\n",
       "      <th>28447</th>\n",
       "      <td>Duffee D. and Kan R.</td>\n",
       "      <td>한국파생상품학회</td>\n",
       "      <td>22502.0</td>\n",
       "      <td>” Mathematical of Finance  | 6</td>\n",
       "      <td>A Yield Factor Model of Interest Rates</td>\n",
       "      <td>1996.0</td>\n",
       "      <td>a yield factor model of interest rates////1996</td>\n",
       "      <td>a yield factor model of interest rates////1996</td>\n",
       "    </tr>\n",
       "    <tr>\n",
       "      <th>28448</th>\n",
       "      <td>Duffee D. and Kan R.</td>\n",
       "      <td>한국파생상품학회</td>\n",
       "      <td>22502.0</td>\n",
       "      <td>” Mathematical of Finance  | 6</td>\n",
       "      <td>A Yield Factor Model of Interest Rates</td>\n",
       "      <td>1996.0</td>\n",
       "      <td>a yield factor model of interest rates////1996</td>\n",
       "      <td>a yield factor model of interest rates////1996</td>\n",
       "    </tr>\n",
       "    <tr>\n",
       "      <th>28449</th>\n",
       "      <td>이승환</td>\n",
       "      <td>한국파생상품학회</td>\n",
       "      <td>22612.0</td>\n",
       "      <td>” 「국제경제연구」  | 15 1</td>\n",
       "      <td>통화옵션을 이용한 미래 원/달러 환율의 위험중립 확률분포 추정</td>\n",
       "      <td>2009.0</td>\n",
       "      <td>통화옵션을 이용한 미래 원/달러 환율의 위험중립 확률분포 추정////2009</td>\n",
       "      <td>통화옵션을 이용한 미래 원/달러 환율의 위험중립 확률분포 추정////2009</td>\n",
       "    </tr>\n",
       "  </tbody>\n",
       "</table>\n",
       "</div>"
      ],
      "text/plain": [
       "                      author      from    index  \\\n",
       "28445                   태석준   한국파생상품학회  22432.0   \n",
       "28446  Duffee D. and Kan R.   한국파생상품학회  22502.0   \n",
       "28447  Duffee D. and Kan R.   한국파생상품학회  22502.0   \n",
       "28448  Duffee D. and Kan R.   한국파생상품학회  22502.0   \n",
       "28449                   이승환   한국파생상품학회  22612.0   \n",
       "\n",
       "                               journal  \\\n",
       "28445              ” ｢한국재무관리학회｣ 14  3    \n",
       "28446  ” Mathematical of Finance  | 6    \n",
       "28447  ” Mathematical of Finance  | 6    \n",
       "28448  ” Mathematical of Finance  | 6    \n",
       "28449              ” 「국제경제연구」  | 15 1    \n",
       "\n",
       "                                        paper    year  \\\n",
       "28445              한국 주가지수선물시장에서의 차익거래에 관한 연구  1997.0   \n",
       "28446  A Yield Factor Model of Interest Rates  1996.0   \n",
       "28447  A Yield Factor Model of Interest Rates  1996.0   \n",
       "28448  A Yield Factor Model of Interest Rates  1996.0   \n",
       "28449      통화옵션을 이용한 미래 원/달러 환율의 위험중립 확률분포 추정  2009.0   \n",
       "\n",
       "                                            new_paper  \\\n",
       "28445              한국 주가지수선물시장에서의 차익거래에 관한 연구////1997   \n",
       "28446  a yield factor model of interest rates////1996   \n",
       "28447  a yield factor model of interest rates////1996   \n",
       "28448  a yield factor model of interest rates////1996   \n",
       "28449      통화옵션을 이용한 미래 원/달러 환율의 위험중립 확률분포 추정////2009   \n",
       "\n",
       "                                      tuned_new_paper  \n",
       "28445              한국 주가지수선물시장에서의 차익거래에 관한 연구////1997  \n",
       "28446  a yield factor model of interest rates////1996  \n",
       "28447  a yield factor model of interest rates////1996  \n",
       "28448  a yield factor model of interest rates////1996  \n",
       "28449      통화옵션을 이용한 미래 원/달러 환율의 위험중립 확률분포 추정////2009  "
      ]
     },
     "execution_count": 54,
     "metadata": {},
     "output_type": "execute_result"
    }
   ],
   "source": [
    "base_df['tuned_new_paper'] = final_ls\n",
    "base_df.tail()"
   ]
  },
  {
   "cell_type": "code",
   "execution_count": 55,
   "metadata": {},
   "outputs": [],
   "source": [
    "from IPython.display import Markdown"
   ]
  },
  {
   "cell_type": "code",
   "execution_count": 56,
   "metadata": {},
   "outputs": [
    {
     "data": {
      "text/markdown": [
       "### 이전의 방법론"
      ],
      "text/plain": [
       "<IPython.core.display.Markdown object>"
      ]
     },
     "metadata": {},
     "output_type": "display_data"
    },
    {
     "data": {
      "text/html": [
       "<div>\n",
       "<style scoped>\n",
       "    .dataframe tbody tr th:only-of-type {\n",
       "        vertical-align: middle;\n",
       "    }\n",
       "\n",
       "    .dataframe tbody tr th {\n",
       "        vertical-align: top;\n",
       "    }\n",
       "\n",
       "    .dataframe thead th {\n",
       "        text-align: right;\n",
       "    }\n",
       "</style>\n",
       "<table border=\"1\" class=\"dataframe\">\n",
       "  <thead>\n",
       "    <tr style=\"text-align: right;\">\n",
       "      <th></th>\n",
       "      <th>count</th>\n",
       "    </tr>\n",
       "  </thead>\n",
       "  <tbody>\n",
       "    <tr>\n",
       "      <th>‘////nan</th>\n",
       "      <td>280</td>\n",
       "    </tr>\n",
       "    <tr>\n",
       "      <th>common risk factors in the returns on stocks and bonds////1993</th>\n",
       "      <td>180</td>\n",
       "    </tr>\n",
       "    <tr>\n",
       "      <th>results////2007</th>\n",
       "      <td>114</td>\n",
       "    </tr>\n",
       "    <tr>\n",
       "      <th>on persistence in mutual fund performance////1997</th>\n",
       "      <td>108</td>\n",
       "    </tr>\n",
       "    <tr>\n",
       "      <th>the pricing of options and corporate liabilities////1973</th>\n",
       "      <td>101</td>\n",
       "    </tr>\n",
       "    <tr>\n",
       "      <th>risk return and equilibrium: empirical tests////1973</th>\n",
       "      <td>95</td>\n",
       "    </tr>\n",
       "    <tr>\n",
       "      <th>theory of the firm: managerial behavior agency costs and ownership structure////1976</th>\n",
       "      <td>88</td>\n",
       "    </tr>\n",
       "    <tr>\n",
       "      <th>the cross-section of expected stock returns////1992</th>\n",
       "      <td>67</td>\n",
       "    </tr>\n",
       "    <tr>\n",
       "      <th>corporate financing and investment decisions when firms have information that investors do not have////1984</th>\n",
       "      <td>65</td>\n",
       "    </tr>\n",
       "    <tr>\n",
       "      <th>common risk factors in the returns on bonds and stocks////1993</th>\n",
       "      <td>64</td>\n",
       "    </tr>\n",
       "  </tbody>\n",
       "</table>\n",
       "</div>"
      ],
      "text/plain": [
       "                                                    count\n",
       "‘////nan                                              280\n",
       "common risk factors in the returns on stocks an...    180\n",
       "results////2007                                       114\n",
       "on persistence in mutual fund performance////1997     108\n",
       "the pricing of options and corporate liabilitie...    101\n",
       "risk return and equilibrium: empirical tests///...     95\n",
       "theory of the firm: managerial behavior agency ...     88\n",
       "the cross-section of expected stock returns////...     67\n",
       "corporate financing and investment decisions wh...     65\n",
       "common risk factors in the returns on bonds and...     64"
      ]
     },
     "metadata": {},
     "output_type": "display_data"
    },
    {
     "data": {
      "text/markdown": [
       "### 개선된 방법론"
      ],
      "text/plain": [
       "<IPython.core.display.Markdown object>"
      ]
     },
     "metadata": {},
     "output_type": "display_data"
    },
    {
     "data": {
      "text/html": [
       "<div>\n",
       "<style scoped>\n",
       "    .dataframe tbody tr th:only-of-type {\n",
       "        vertical-align: middle;\n",
       "    }\n",
       "\n",
       "    .dataframe tbody tr th {\n",
       "        vertical-align: top;\n",
       "    }\n",
       "\n",
       "    .dataframe thead th {\n",
       "        text-align: right;\n",
       "    }\n",
       "</style>\n",
       "<table border=\"1\" class=\"dataframe\">\n",
       "  <thead>\n",
       "    <tr style=\"text-align: right;\">\n",
       "      <th></th>\n",
       "      <th>count</th>\n",
       "    </tr>\n",
       "  </thead>\n",
       "  <tbody>\n",
       "    <tr>\n",
       "      <th>common risk factors in the returns [provider:earticle]  on stocks and bonds////1993</th>\n",
       "      <td>306</td>\n",
       "    </tr>\n",
       "    <tr>\n",
       "      <th>‘////nan</th>\n",
       "      <td>280</td>\n",
       "    </tr>\n",
       "    <tr>\n",
       "      <th>theory of the firm: managerial behavior agency  costs and ownership structure////1976</th>\n",
       "      <td>185</td>\n",
       "    </tr>\n",
       "    <tr>\n",
       "      <th>on persistence in mutual fund performance////1997</th>\n",
       "      <td>138</td>\n",
       "    </tr>\n",
       "    <tr>\n",
       "      <th>risk return and equilibrium : empirical tests////1973</th>\n",
       "      <td>118</td>\n",
       "    </tr>\n",
       "    <tr>\n",
       "      <th>results////2007</th>\n",
       "      <td>114</td>\n",
       "    </tr>\n",
       "    <tr>\n",
       "      <th>returns to buying winners and selling losers:  implications for stock market efficiency////1993</th>\n",
       "      <td>108</td>\n",
       "    </tr>\n",
       "    <tr>\n",
       "      <th>the pricing of options and corporate liabilities////1973</th>\n",
       "      <td>106</td>\n",
       "    </tr>\n",
       "    <tr>\n",
       "      <th>agency costs of free cash flow : corporate finance and takeovers////1986</th>\n",
       "      <td>100</td>\n",
       "    </tr>\n",
       "    <tr>\n",
       "      <th>corporate financing and investment decisions when firms have information that investors do not have////1984</th>\n",
       "      <td>94</td>\n",
       "    </tr>\n",
       "  </tbody>\n",
       "</table>\n",
       "</div>"
      ],
      "text/plain": [
       "                                                    count\n",
       "common risk factors in the returns [provider:ea...    306\n",
       "‘////nan                                              280\n",
       "theory of the firm: managerial behavior agency ...    185\n",
       "on persistence in mutual fund performance////1997     138\n",
       "risk return and equilibrium : empirical tests//...    118\n",
       "results////2007                                       114\n",
       "returns to buying winners and selling losers:  ...    108\n",
       "the pricing of options and corporate liabilitie...    106\n",
       "agency costs of free cash flow : corporate fina...    100\n",
       "corporate financing and investment decisions wh...     94"
      ]
     },
     "metadata": {},
     "output_type": "display_data"
    }
   ],
   "source": [
    "display(Markdown('### 이전의 방법론'))\n",
    "display(pd.DataFrame.from_dict(Counter(base_df['new_paper']),orient='index',columns=['count']).sort_values('count',ascending=False).head(10))\n",
    "display(Markdown('### 개선된 방법론'))\n",
    "display(pd.DataFrame.from_dict(Counter(base_df['tuned_new_paper']),orient='index',columns=['count']).sort_values('count',ascending=False).head(10))"
   ]
  },
  {
   "cell_type": "code",
   "execution_count": 57,
   "metadata": {},
   "outputs": [],
   "source": [
    "paper_counter_df = pd.DataFrame.from_dict(Counter(base_df['tuned_new_paper']),orient='index',columns=['count']).sort_values('count',ascending=False)\n",
    "paper_counter_df.reset_index(inplace=True)"
   ]
  },
  {
   "cell_type": "code",
   "execution_count": 58,
   "metadata": {},
   "outputs": [],
   "source": [
    "paper_counter_df.to_csv('paper_counter_df.csv',index=False)"
   ]
  },
  {
   "cell_type": "code",
   "execution_count": 59,
   "metadata": {},
   "outputs": [],
   "source": [
    "import pickle"
   ]
  },
  {
   "cell_type": "code",
   "execution_count": 60,
   "metadata": {},
   "outputs": [],
   "source": [
    "pickle_out = open(\"paper_ready_to_target_dict.pickle\",\"wb\")\n",
    "pickle.dump(ready_to_target_dict, pickle_out)\n",
    "pickle_out.close()"
   ]
  },
  {
   "cell_type": "markdown",
   "metadata": {},
   "source": [
    "___________________________"
   ]
  },
  {
   "cell_type": "markdown",
   "metadata": {},
   "source": [
    "#### 여태까지 저널에 관계없이 전체 논문에 대한 dictionary 와 paper_frequency_table 을 형성하였다. \n",
    "#### 아래에서부터는 각 저널별로 paper_frequency_table 을 생성한다. dictionary는 변하지 않는다."
   ]
  },
  {
   "cell_type": "code",
   "execution_count": 61,
   "metadata": {},
   "outputs": [],
   "source": [
    "fm_base_df = pd.read_csv('fm_base_df.csv')\n",
    "f_base_df = pd.read_csv('f_base_df.csv')\n",
    "sc_base_df = pd.read_csv('sc_base_df.csv')\n",
    "dr_base_df = pd.read_csv('dr_base_df.csv')"
   ]
  },
  {
   "cell_type": "code",
   "execution_count": 62,
   "metadata": {},
   "outputs": [],
   "source": [
    "def make_new_paper(base_df) :\n",
    "    base_df['new_paper'] = \\\n",
    "    [base_df['paper'][idx] + '////' + str(base_df['year'][idx]).split(\".\")[0] for idx in range(len(base_df))]\n",
    "\n",
    "    base_df['new_paper'] = base_df['new_paper'].apply(lambda x : x.lower())\n",
    "\n",
    "    return base_df.loc[:,['author','journal','paper','year','from','new_paper']]"
   ]
  },
  {
   "cell_type": "code",
   "execution_count": 63,
   "metadata": {},
   "outputs": [],
   "source": [
    "fm_base_df = make_new_paper(fm_base_df)\n",
    "f_base_df = make_new_paper(f_base_df)\n",
    "sc_base_df = make_new_paper(sc_base_df)\n",
    "dr_base_df = make_new_paper(dr_base_df)"
   ]
  },
  {
   "cell_type": "code",
   "execution_count": 64,
   "metadata": {},
   "outputs": [],
   "source": [
    "ready_to_target_dict = []\n",
    "with (open(\"paper_ready_to_target_dict.pickle\", \"rb\")) as openfile:\n",
    "    while True:\n",
    "        try:\n",
    "            ready_to_target_dict.append(pickle.load(openfile))\n",
    "        except EOFError:\n",
    "            break"
   ]
  },
  {
   "cell_type": "code",
   "execution_count": 65,
   "metadata": {},
   "outputs": [
    {
     "data": {
      "text/plain": [
       "1065"
      ]
     },
     "execution_count": 65,
     "metadata": {},
     "output_type": "execute_result"
    }
   ],
   "source": [
    "ready_to_target_dict = ready_to_target_dict[0]\n",
    "len(ready_to_target_dict.keys())"
   ]
  },
  {
   "cell_type": "code",
   "execution_count": 66,
   "metadata": {},
   "outputs": [],
   "source": [
    "def final_process(base_df,ready_to_target_dict):\n",
    "    final_ls = []\n",
    "    process_ls = []\n",
    "    error_ls = []\n",
    "\n",
    "    for idx1 , val in enumerate(base_df['new_paper']) : \n",
    "        process_ls = []\n",
    "        for idx2, key_ in enumerate(list(ready_to_target_dict.keys())) : \n",
    "            if val in ready_to_target_dict.get(key_) : \n",
    "                process_ls.append(key_)\n",
    "\n",
    "        if len(process_ls) == 1 :\n",
    "            final_ls.append(process_ls[0])\n",
    "        elif len(process_ls) == 0 :\n",
    "            final_ls.append(val)\n",
    "        else : final_ls.append(val)\n",
    "\n",
    "    if len(final_ls) == len(base_df) :\n",
    "        print('Lower uniqueness Better Performance, orgin uniqueness: {} , revised uniqueness : {}'.format(len(set(base_df['new_paper'])),len(set(final_ls))))\n",
    "        base_df['tuned_new_paper'] = final_ls\n",
    "        return base_df\n",
    "    else : raise TypeError('error')"
   ]
  },
  {
   "cell_type": "code",
   "execution_count": 67,
   "metadata": {},
   "outputs": [
    {
     "name": "stdout",
     "output_type": "stream",
     "text": [
      "Lower uniqueness Better Performance, orgin uniqueness: 8206 , revised uniqueness : 7843\n",
      "Lower uniqueness Better Performance, orgin uniqueness: 8206 , revised uniqueness : 7843\n",
      "Lower uniqueness Better Performance, orgin uniqueness: 5630 , revised uniqueness : 5408\n",
      "Lower uniqueness Better Performance, orgin uniqueness: 3564 , revised uniqueness : 3374\n",
      "Lower uniqueness Better Performance, orgin uniqueness: 2210 , revised uniqueness : 2150\n"
     ]
    }
   ],
   "source": [
    "fm_final_df = final_process(fm_base_df,ready_to_target_dict)\n",
    "fm_final_df = final_process(fm_base_df,ready_to_target_dict)\n",
    "f_final_df = final_process(f_base_df,ready_to_target_dict)\n",
    "sc_final_df = final_process(sc_base_df,ready_to_target_dict)\n",
    "dr_final_df = final_process(dr_base_df,ready_to_target_dict)"
   ]
  },
  {
   "cell_type": "code",
   "execution_count": 68,
   "metadata": {},
   "outputs": [],
   "source": [
    "def make_counter_df_under_journal(base_df) :\n",
    "    print('total length of this dataframe is {}'.format(len(base_df)))\n",
    "    df1 = pd.DataFrame.from_dict(Counter(base_df['tuned_new_paper'].tolist()),orient='index',columns=['count'])\n",
    "    df2 = df1.sort_values('count',ascending=False)\n",
    "    return df2"
   ]
  },
  {
   "cell_type": "code",
   "execution_count": 69,
   "metadata": {},
   "outputs": [
    {
     "data": {
      "text/markdown": [
       "### 한국재무관리학회"
      ],
      "text/plain": [
       "<IPython.core.display.Markdown object>"
      ]
     },
     "metadata": {},
     "output_type": "display_data"
    },
    {
     "name": "stdout",
     "output_type": "stream",
     "text": [
      "total length of this dataframe is 10896\n"
     ]
    },
    {
     "data": {
      "text/html": [
       "<div>\n",
       "<style scoped>\n",
       "    .dataframe tbody tr th:only-of-type {\n",
       "        vertical-align: middle;\n",
       "    }\n",
       "\n",
       "    .dataframe tbody tr th {\n",
       "        vertical-align: top;\n",
       "    }\n",
       "\n",
       "    .dataframe thead th {\n",
       "        text-align: right;\n",
       "    }\n",
       "</style>\n",
       "<table border=\"1\" class=\"dataframe\">\n",
       "  <thead>\n",
       "    <tr style=\"text-align: right;\">\n",
       "      <th></th>\n",
       "      <th>count</th>\n",
       "    </tr>\n",
       "  </thead>\n",
       "  <tbody>\n",
       "    <tr>\n",
       "      <th>theory of the firm: managerial behavior agency  costs and ownership structure////1976</th>\n",
       "      <td>51</td>\n",
       "    </tr>\n",
       "    <tr>\n",
       "      <th>limit order trading////1996</th>\n",
       "      <td>44</td>\n",
       "    </tr>\n",
       "    <tr>\n",
       "      <th>‘////nan</th>\n",
       "      <td>44</td>\n",
       "    </tr>\n",
       "    <tr>\n",
       "      <th>results////2007</th>\n",
       "      <td>43</td>\n",
       "    </tr>\n",
       "    <tr>\n",
       "      <th>agency costs of free cash flow : corporate finance and takeovers////1986</th>\n",
       "      <td>38</td>\n",
       "    </tr>\n",
       "    <tr>\n",
       "      <th>a simple positive semi-definite heteroscedasticity and autocorrelation consistent covariance matrix////1987</th>\n",
       "      <td>31</td>\n",
       "    </tr>\n",
       "    <tr>\n",
       "      <th>common risk factors in the returns [provider:earticle]  on stocks and bonds////1993</th>\n",
       "      <td>31</td>\n",
       "    </tr>\n",
       "    <tr>\n",
       "      <th>corporate financing and investment decisions when firms have information that investors do not have////1984</th>\n",
       "      <td>31</td>\n",
       "    </tr>\n",
       "    <tr>\n",
       "      <th>heteroscedasticity in stock returns////1990</th>\n",
       "      <td>25</td>\n",
       "    </tr>\n",
       "    <tr>\n",
       "      <th>the cross-section of expected stock returns////1992</th>\n",
       "      <td>23</td>\n",
       "    </tr>\n",
       "  </tbody>\n",
       "</table>\n",
       "</div>"
      ],
      "text/plain": [
       "                                                    count\n",
       "theory of the firm: managerial behavior agency ...     51\n",
       "limit order trading////1996                            44\n",
       "‘////nan                                               44\n",
       "results////2007                                        43\n",
       "agency costs of free cash flow : corporate fina...     38\n",
       "a simple positive semi-definite heteroscedastic...     31\n",
       "common risk factors in the returns [provider:ea...     31\n",
       "corporate financing and investment decisions wh...     31\n",
       "heteroscedasticity in stock returns////1990            25\n",
       "the cross-section of expected stock returns////...     23"
      ]
     },
     "metadata": {},
     "output_type": "display_data"
    },
    {
     "data": {
      "text/markdown": [
       "### 한국재무학회"
      ],
      "text/plain": [
       "<IPython.core.display.Markdown object>"
      ]
     },
     "metadata": {},
     "output_type": "display_data"
    },
    {
     "name": "stdout",
     "output_type": "stream",
     "text": [
      "total length of this dataframe is 7045\n"
     ]
    },
    {
     "data": {
      "text/html": [
       "<div>\n",
       "<style scoped>\n",
       "    .dataframe tbody tr th:only-of-type {\n",
       "        vertical-align: middle;\n",
       "    }\n",
       "\n",
       "    .dataframe tbody tr th {\n",
       "        vertical-align: top;\n",
       "    }\n",
       "\n",
       "    .dataframe thead th {\n",
       "        text-align: right;\n",
       "    }\n",
       "</style>\n",
       "<table border=\"1\" class=\"dataframe\">\n",
       "  <thead>\n",
       "    <tr style=\"text-align: right;\">\n",
       "      <th></th>\n",
       "      <th>count</th>\n",
       "    </tr>\n",
       "  </thead>\n",
       "  <tbody>\n",
       "    <tr>\n",
       "      <th>‘////nan</th>\n",
       "      <td>94</td>\n",
       "    </tr>\n",
       "    <tr>\n",
       "      <th>common risk factors in the returns [provider:earticle]  on stocks and bonds////1993</th>\n",
       "      <td>31</td>\n",
       "    </tr>\n",
       "    <tr>\n",
       "      <th>risk return and equilibrium : empirical tests////1973</th>\n",
       "      <td>20</td>\n",
       "    </tr>\n",
       "    <tr>\n",
       "      <th>agency costs of free cash flow : corporate finance and takeovers////1986</th>\n",
       "      <td>19</td>\n",
       "    </tr>\n",
       "    <tr>\n",
       "      <th>corporate financing and investment decisions when firms have information that investors do not have////1984</th>\n",
       "      <td>18</td>\n",
       "    </tr>\n",
       "    <tr>\n",
       "      <th>continuous auctions and insider trading////1985</th>\n",
       "      <td>17</td>\n",
       "    </tr>\n",
       "    <tr>\n",
       "      <th>tunneling////2000</th>\n",
       "      <td>16</td>\n",
       "    </tr>\n",
       "    <tr>\n",
       "      <th>executive compensation////1999</th>\n",
       "      <td>14</td>\n",
       "    </tr>\n",
       "    <tr>\n",
       "      <th>on persistence in mutual fund performance////1997</th>\n",
       "      <td>14</td>\n",
       "    </tr>\n",
       "    <tr>\n",
       "      <th>returns to buying winners and selling losers:  implications for stock market efficiency////1993</th>\n",
       "      <td>13</td>\n",
       "    </tr>\n",
       "  </tbody>\n",
       "</table>\n",
       "</div>"
      ],
      "text/plain": [
       "                                                    count\n",
       "‘////nan                                               94\n",
       "common risk factors in the returns [provider:ea...     31\n",
       "risk return and equilibrium : empirical tests//...     20\n",
       "agency costs of free cash flow : corporate fina...     19\n",
       "corporate financing and investment decisions wh...     18\n",
       "continuous auctions and insider trading////1985        17\n",
       "tunneling////2000                                      16\n",
       "executive compensation////1999                         14\n",
       "on persistence in mutual fund performance////1997      14\n",
       "returns to buying winners and selling losers:  ...     13"
      ]
     },
     "metadata": {},
     "output_type": "display_data"
    },
    {
     "data": {
      "text/markdown": [
       "### 한국증권학회"
      ],
      "text/plain": [
       "<IPython.core.display.Markdown object>"
      ]
     },
     "metadata": {},
     "output_type": "display_data"
    },
    {
     "name": "stdout",
     "output_type": "stream",
     "text": [
      "total length of this dataframe is 7331\n"
     ]
    },
    {
     "data": {
      "text/html": [
       "<div>\n",
       "<style scoped>\n",
       "    .dataframe tbody tr th:only-of-type {\n",
       "        vertical-align: middle;\n",
       "    }\n",
       "\n",
       "    .dataframe tbody tr th {\n",
       "        vertical-align: top;\n",
       "    }\n",
       "\n",
       "    .dataframe thead th {\n",
       "        text-align: right;\n",
       "    }\n",
       "</style>\n",
       "<table border=\"1\" class=\"dataframe\">\n",
       "  <thead>\n",
       "    <tr style=\"text-align: right;\">\n",
       "      <th></th>\n",
       "      <th>count</th>\n",
       "    </tr>\n",
       "  </thead>\n",
       "  <tbody>\n",
       "    <tr>\n",
       "      <th>common risk factors in the returns [provider:earticle]  on stocks and bonds////1993</th>\n",
       "      <td>203</td>\n",
       "    </tr>\n",
       "    <tr>\n",
       "      <th>theory of the firm: managerial behavior agency  costs and ownership structure////1976</th>\n",
       "      <td>123</td>\n",
       "    </tr>\n",
       "    <tr>\n",
       "      <th>on persistence in mutual fund performance////1997</th>\n",
       "      <td>102</td>\n",
       "    </tr>\n",
       "    <tr>\n",
       "      <th>risk return and equilibrium : empirical tests////1973</th>\n",
       "      <td>73</td>\n",
       "    </tr>\n",
       "    <tr>\n",
       "      <th>the pricing of options and corporate liabilities////1973</th>\n",
       "      <td>73</td>\n",
       "    </tr>\n",
       "    <tr>\n",
       "      <th>returns to buying winners and selling losers:  implications for stock market efficiency////1993</th>\n",
       "      <td>67</td>\n",
       "    </tr>\n",
       "    <tr>\n",
       "      <th>tunneling or value added? evidence from mergers by korean business grups////2002</th>\n",
       "      <td>58</td>\n",
       "    </tr>\n",
       "    <tr>\n",
       "      <th>results////2007</th>\n",
       "      <td>52</td>\n",
       "    </tr>\n",
       "    <tr>\n",
       "      <th>corporate financing and investment decisions when firms have information that investors do not have////1984</th>\n",
       "      <td>45</td>\n",
       "    </tr>\n",
       "    <tr>\n",
       "      <th>agency costs of free cash flow : corporate finance and takeovers////1986</th>\n",
       "      <td>43</td>\n",
       "    </tr>\n",
       "  </tbody>\n",
       "</table>\n",
       "</div>"
      ],
      "text/plain": [
       "                                                    count\n",
       "common risk factors in the returns [provider:ea...    203\n",
       "theory of the firm: managerial behavior agency ...    123\n",
       "on persistence in mutual fund performance////1997     102\n",
       "risk return and equilibrium : empirical tests//...     73\n",
       "the pricing of options and corporate liabilitie...     73\n",
       "returns to buying winners and selling losers:  ...     67\n",
       "tunneling or value added? evidence from mergers...     58\n",
       "results////2007                                        52\n",
       "corporate financing and investment decisions wh...     45\n",
       "agency costs of free cash flow : corporate fina...     43"
      ]
     },
     "metadata": {},
     "output_type": "display_data"
    },
    {
     "data": {
      "text/markdown": [
       "### 한국파생상품학회"
      ],
      "text/plain": [
       "<IPython.core.display.Markdown object>"
      ]
     },
     "metadata": {},
     "output_type": "display_data"
    },
    {
     "name": "stdout",
     "output_type": "stream",
     "text": [
      "total length of this dataframe is 3178\n"
     ]
    },
    {
     "data": {
      "text/html": [
       "<div>\n",
       "<style scoped>\n",
       "    .dataframe tbody tr th:only-of-type {\n",
       "        vertical-align: middle;\n",
       "    }\n",
       "\n",
       "    .dataframe tbody tr th {\n",
       "        vertical-align: top;\n",
       "    }\n",
       "\n",
       "    .dataframe thead th {\n",
       "        text-align: right;\n",
       "    }\n",
       "</style>\n",
       "<table border=\"1\" class=\"dataframe\">\n",
       "  <thead>\n",
       "    <tr style=\"text-align: right;\">\n",
       "      <th></th>\n",
       "      <th>count</th>\n",
       "    </tr>\n",
       "  </thead>\n",
       "  <tbody>\n",
       "    <tr>\n",
       "      <th>‘////nan</th>\n",
       "      <td>139</td>\n",
       "    </tr>\n",
       "    <tr>\n",
       "      <th>common risk factors in the returns [provider:earticle]  on stocks and bonds////1993</th>\n",
       "      <td>41</td>\n",
       "    </tr>\n",
       "    <tr>\n",
       "      <th>stock index futures////2006</th>\n",
       "      <td>33</td>\n",
       "    </tr>\n",
       "    <tr>\n",
       "      <th>ratio////2007</th>\n",
       "      <td>22</td>\n",
       "    </tr>\n",
       "    <tr>\n",
       "      <th>studies of stock price volatility changes////1976</th>\n",
       "      <td>21</td>\n",
       "    </tr>\n",
       "    <tr>\n",
       "      <th>results////2007</th>\n",
       "      <td>19</td>\n",
       "    </tr>\n",
       "    <tr>\n",
       "      <th>asset pricing////2001</th>\n",
       "      <td>17</td>\n",
       "    </tr>\n",
       "    <tr>\n",
       "      <th>a theory of volatility spreads////2006</th>\n",
       "      <td>16</td>\n",
       "    </tr>\n",
       "    <tr>\n",
       "      <th>explaining credit default swap spreads with the equity volatility and jump risks of individual firms////2009</th>\n",
       "      <td>15</td>\n",
       "    </tr>\n",
       "    <tr>\n",
       "      <th>stock return characteristics skew laws and the differential pricing of individual equity options////2003</th>\n",
       "      <td>15</td>\n",
       "    </tr>\n",
       "  </tbody>\n",
       "</table>\n",
       "</div>"
      ],
      "text/plain": [
       "                                                    count\n",
       "‘////nan                                              139\n",
       "common risk factors in the returns [provider:ea...     41\n",
       "stock index futures////2006                            33\n",
       "ratio////2007                                          22\n",
       "studies of stock price volatility changes////1976      21\n",
       "results////2007                                        19\n",
       "asset pricing////2001                                  17\n",
       "a theory of volatility spreads////2006                 16\n",
       "explaining credit default swap spreads with the...     15\n",
       "stock return characteristics skew laws and the ...     15"
      ]
     },
     "metadata": {},
     "output_type": "display_data"
    }
   ],
   "source": [
    "display(Markdown('### 한국재무관리학회'))\n",
    "display(make_counter_df_under_journal(fm_final_df).head(10))\n",
    "display(Markdown('### 한국재무학회'))\n",
    "display(make_counter_df_under_journal(f_final_df).head(10))\n",
    "display(Markdown('### 한국증권학회'))\n",
    "display(make_counter_df_under_journal(sc_final_df).head(10))\n",
    "display(Markdown('### 한국파생상품학회'))\n",
    "display(make_counter_df_under_journal(dr_final_df).head(10))"
   ]
  }
 ],
 "metadata": {
  "kernelspec": {
   "display_name": "Python 3",
   "language": "python",
   "name": "python3"
  },
  "language_info": {
   "codemirror_mode": {
    "name": "ipython",
    "version": 3
   },
   "file_extension": ".py",
   "mimetype": "text/x-python",
   "name": "python",
   "nbconvert_exporter": "python",
   "pygments_lexer": "ipython3",
   "version": "3.6.6"
  }
 },
 "nbformat": 4,
 "nbformat_minor": 2
}
