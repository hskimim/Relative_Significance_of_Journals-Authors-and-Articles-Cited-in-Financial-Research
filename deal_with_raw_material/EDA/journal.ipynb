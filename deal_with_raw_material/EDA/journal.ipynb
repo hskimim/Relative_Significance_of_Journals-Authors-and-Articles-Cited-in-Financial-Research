{
 "cells": [
  {
   "cell_type": "code",
   "execution_count": 1,
   "metadata": {},
   "outputs": [],
   "source": [
    "import pandas as pd\n",
    "import oop_func as func\n",
    "import personal_pkg as ref\n",
    "import os\n",
    "import re\n",
    "from collections import Counter\n",
    "import warnings\n",
    "warnings.filterwarnings(\"ignore\")"
   ]
  },
  {
   "cell_type": "markdown",
   "metadata": {},
   "source": [
    "## Description_1\n",
    "- 한국재무관리학회 : fm_file\n",
    "- 한국재무학회 : f_file\n",
    "- 한국증권학회지 : sc_file\n",
    "- 한국파생상품학회 : dr_file"
   ]
  },
  {
   "cell_type": "markdown",
   "metadata": {},
   "source": [
    "## Description_2\n",
    "- 저널 별 텍스트 데이터\n",
    "- 연도 별 텍스트 데이터"
   ]
  },
  {
   "cell_type": "markdown",
   "metadata": {},
   "source": [
    "#### 저널 별 데이터를 모으자"
   ]
  },
  {
   "cell_type": "code",
   "execution_count": 2,
   "metadata": {},
   "outputs": [],
   "source": [
    "def journal_txt_ls(journal):\n",
    "    file_path = \\\n",
    "    sorted(['../paper_list/{}/'.format(journal) + i for i in [i for i in os.listdir('../paper_list/{}/'.format(journal)) if '20' in i]])\n",
    "\n",
    "    journal_txt_ls = []\n",
    "\n",
    "    for year,i in enumerate([os.listdir(i) for i in file_path]) : \n",
    "        txt_ls = []\n",
    "        for j in i : \n",
    "            if 'txt' in j :\n",
    "                txt_ls.append(file_path[year] +'/'+ j)\n",
    "        journal_txt_ls.append(txt_ls)\n",
    "\n",
    "    return journal_txt_ls"
   ]
  },
  {
   "cell_type": "code",
   "execution_count": 3,
   "metadata": {},
   "outputs": [],
   "source": [
    "fm_txt_ls = journal_txt_ls('한국재무관리학회')\n",
    "sc_txt_ls = journal_txt_ls('한국증권학회지')\n",
    "dr_txt_ls = journal_txt_ls('한국파생상품학회')\n",
    "f_txt_ls = journal_txt_ls('한국재무학회')"
   ]
  },
  {
   "cell_type": "code",
   "execution_count": 4,
   "metadata": {},
   "outputs": [
    {
     "data": {
      "text/plain": [
       "(15, 17, 17, 17)"
      ]
     },
     "execution_count": 4,
     "metadata": {},
     "output_type": "execute_result"
    }
   ],
   "source": [
    "len(fm_txt_ls) , len(dr_txt_ls) , len(sc_txt_ls) , len(f_txt_ls)"
   ]
  },
  {
   "cell_type": "markdown",
   "metadata": {},
   "source": [
    "## 저널별 citation_analysis"
   ]
  },
  {
   "cell_type": "code",
   "execution_count": 5,
   "metadata": {},
   "outputs": [],
   "source": [
    "fm_path = [refer for i in fm_txt_ls for refer in i]\n",
    "f_path = [refer for i in f_txt_ls for refer in i]\n",
    "sc_path = [refer for i in sc_txt_ls for refer in i]\n",
    "dr_path = [refer for i in dr_txt_ls for refer in i]"
   ]
  },
  {
   "cell_type": "code",
   "execution_count": 6,
   "metadata": {},
   "outputs": [],
   "source": [
    "def split_to_sent(file_path):\n",
    "    sent_refer_ls = []\n",
    "    error_ls = []\n",
    "\n",
    "    for path in file_path :\n",
    "        try : \n",
    "            ca = func.Slicing_paper(path)\n",
    "            sent_refer_ls.append(ca.split())\n",
    "        except Exception as e: error_ls.append((e,path))\n",
    "    \n",
    "    return [j for i in sent_refer_ls for j in i] , error_ls"
   ]
  },
  {
   "cell_type": "code",
   "execution_count": 7,
   "metadata": {},
   "outputs": [],
   "source": [
    "fm_sent_ls , fm_error_ls = split_to_sent(fm_path)\n",
    "f_sent_ls , f_error_ls = split_to_sent(f_path)\n",
    "sc_sent_ls , sc_error_ls = split_to_sent(sc_path)\n",
    "dr_sent_ls , dr_error_ls = split_to_sent(dr_path)"
   ]
  },
  {
   "cell_type": "code",
   "execution_count": 8,
   "metadata": {},
   "outputs": [
    {
     "data": {
      "text/plain": [
       "(11511, 9057, 13211, 8807)"
      ]
     },
     "execution_count": 8,
     "metadata": {},
     "output_type": "execute_result"
    }
   ],
   "source": [
    "len(fm_sent_ls),len(f_sent_ls),len(sc_sent_ls),len(dr_sent_ls)"
   ]
  },
  {
   "cell_type": "code",
   "execution_count": 9,
   "metadata": {},
   "outputs": [
    {
     "data": {
      "text/plain": [
       "(76, 15, 24, 55)"
      ]
     },
     "execution_count": 9,
     "metadata": {},
     "output_type": "execute_result"
    }
   ],
   "source": [
    "len(fm_error_ls),len(f_error_ls),len(sc_error_ls),len(dr_error_ls)"
   ]
  },
  {
   "cell_type": "markdown",
   "metadata": {},
   "source": [
    "double quote 가 열리도 닫히는 라인을 double quote line 으로 명명한다."
   ]
  },
  {
   "cell_type": "code",
   "execution_count": 10,
   "metadata": {},
   "outputs": [
    {
     "data": {
      "text/plain": [
       "(11511, 9057, 13211, 8807)"
      ]
     },
     "execution_count": 10,
     "metadata": {},
     "output_type": "execute_result"
    }
   ],
   "source": [
    "len(fm_sent_ls),len(f_sent_ls),len(sc_sent_ls),len(dr_sent_ls)"
   ]
  },
  {
   "cell_type": "code",
   "execution_count": 11,
   "metadata": {},
   "outputs": [
    {
     "data": {
      "text/plain": [
       "0.883155242811224"
      ]
     },
     "execution_count": 11,
     "metadata": {},
     "output_type": "execute_result"
    }
   ],
   "source": [
    "double_quote_line = [i for i in fm_sent_ls if re.search(\"“\",i) and re.search(\"”\",i)]\n",
    "len(double_quote_line) / len([i for i in fm_sent_ls])"
   ]
  },
  {
   "cell_type": "code",
   "execution_count": 12,
   "metadata": {},
   "outputs": [
    {
     "data": {
      "text/plain": [
       "0.7302638842883957"
      ]
     },
     "execution_count": 12,
     "metadata": {},
     "output_type": "execute_result"
    }
   ],
   "source": [
    "double_quote_line = [i for i in f_sent_ls if re.search(\"“\",i) and re.search(\"”\",i)]\n",
    "len(double_quote_line) / len([i for i in f_sent_ls])"
   ]
  },
  {
   "cell_type": "code",
   "execution_count": 13,
   "metadata": {},
   "outputs": [
    {
     "data": {
      "text/plain": [
       "0.2276133525092726"
      ]
     },
     "execution_count": 13,
     "metadata": {},
     "output_type": "execute_result"
    }
   ],
   "source": [
    "double_quote_line = [i for i in sc_sent_ls if re.search(\"“\",i) and re.search(\"”\",i)]\n",
    "len(double_quote_line) / len([i for i in sc_sent_ls])"
   ]
  },
  {
   "cell_type": "code",
   "execution_count": 14,
   "metadata": {},
   "outputs": [
    {
     "data": {
      "text/plain": [
       "0.2505961167253321"
      ]
     },
     "execution_count": 14,
     "metadata": {},
     "output_type": "execute_result"
    }
   ],
   "source": [
    "double_quote_line = [i for i in dr_sent_ls if re.search(\"“\",i) and re.search(\"”\",i)]\n",
    "len(double_quote_line) / len([i for i in dr_sent_ls])"
   ]
  },
  {
   "cell_type": "code",
   "execution_count": 15,
   "metadata": {},
   "outputs": [],
   "source": [
    "def catch_the_wrong_split_line(sent_ls):\n",
    "    double_quote_line = [i for i in sent_ls if re.search(\"“.+”\",i)]\n",
    "    catch_ls = []\n",
    "    double_catch_ls = []\n",
    "\n",
    "    for i in double_quote_line : \n",
    "        index = list(zip([m.end() for m in re.finditer('“',i)] , [m.start() for m in re.finditer('”',i)]))\n",
    "        if len(index) > 2 :\n",
    "            catch_ls.append(i)\n",
    "    return catch_ls"
   ]
  },
  {
   "cell_type": "code",
   "execution_count": 16,
   "metadata": {
    "scrolled": true
   },
   "outputs": [
    {
     "data": {
      "text/plain": [
       "(7, 2, 9, 7)"
      ]
     },
     "execution_count": 16,
     "metadata": {},
     "output_type": "execute_result"
    }
   ],
   "source": [
    "(len(catch_the_wrong_split_line(fm_sent_ls)),\n",
    "len(catch_the_wrong_split_line(f_sent_ls)),\n",
    "len(catch_the_wrong_split_line(dr_sent_ls)),\n",
    "len(catch_the_wrong_split_line(sc_sent_ls)))"
   ]
  },
  {
   "cell_type": "code",
   "execution_count": 17,
   "metadata": {},
   "outputs": [],
   "source": [
    "def return_journal_df(sent_ls):\n",
    "    double_quote_line = [i for i in sent_ls if re.search(\"“.+”\",i)]    \n",
    "    journal_ls = []\n",
    "\n",
    "    for i in double_quote_line : \n",
    "        index = list(zip([m.end() for m in re.finditer('“',i)] , [m.start() for m in re.finditer('”',i)]))\n",
    "        if len(index) == 1 :\n",
    "            journal_ls.append(i[re.search(\".+”\",i).end():])\n",
    "\n",
    "    journal_ls = \\\n",
    "    [re.sub('[(].+[)]|[0-9]{,4}','',i) for i in journal_ls]\n",
    "    journal_ls = \\\n",
    "    [re.sub('Vol.|No.|｢|｣','',i) for i in journal_ls]\n",
    "    journal_ls = \\\n",
    "    [i[:re.search('제권|제집',i).start()] if re.search('제권|제집',i) else i for i in journal_ls]\n",
    "    journal_ls = [i.lower().strip() for i in journal_ls]\n",
    "    \n",
    "    count_df = pd.DataFrame.from_dict(Counter(journal_ls),orient='index',columns=['count'])\n",
    "    count_df.sort_values('count',ascending=False,inplace=True)\n",
    "    count_df['ratio'] = (count_df['count'] / len(sent_ls)) * 100\n",
    "    \n",
    "    return count_df"
   ]
  },
  {
   "cell_type": "code",
   "execution_count": 18,
   "metadata": {
    "scrolled": true
   },
   "outputs": [
    {
     "data": {
      "text/html": [
       "<div>\n",
       "<style scoped>\n",
       "    .dataframe tbody tr th:only-of-type {\n",
       "        vertical-align: middle;\n",
       "    }\n",
       "\n",
       "    .dataframe tbody tr th {\n",
       "        vertical-align: top;\n",
       "    }\n",
       "\n",
       "    .dataframe thead th {\n",
       "        text-align: right;\n",
       "    }\n",
       "</style>\n",
       "<table border=\"1\" class=\"dataframe\">\n",
       "  <thead>\n",
       "    <tr style=\"text-align: right;\">\n",
       "      <th></th>\n",
       "      <th>count</th>\n",
       "      <th>ratio</th>\n",
       "    </tr>\n",
       "  </thead>\n",
       "  <tbody>\n",
       "    <tr>\n",
       "      <th>journal of finance</th>\n",
       "      <td>1231</td>\n",
       "      <td>10.694119</td>\n",
       "    </tr>\n",
       "    <tr>\n",
       "      <th>journal of financial economics</th>\n",
       "      <td>1054</td>\n",
       "      <td>9.156459</td>\n",
       "    </tr>\n",
       "    <tr>\n",
       "      <th>재무관리연구</th>\n",
       "      <td>387</td>\n",
       "      <td>3.362002</td>\n",
       "    </tr>\n",
       "    <tr>\n",
       "      <th>review of financial studies</th>\n",
       "      <td>340</td>\n",
       "      <td>2.953696</td>\n",
       "    </tr>\n",
       "    <tr>\n",
       "      <th>증권학회지</th>\n",
       "      <td>268</td>\n",
       "      <td>2.328208</td>\n",
       "    </tr>\n",
       "    <tr>\n",
       "      <th>재무연구</th>\n",
       "      <td>227</td>\n",
       "      <td>1.972027</td>\n",
       "    </tr>\n",
       "    <tr>\n",
       "      <th>journal of financial and quantitative analysis</th>\n",
       "      <td>216</td>\n",
       "      <td>1.876466</td>\n",
       "    </tr>\n",
       "    <tr>\n",
       "      <th>journal of banking and finance</th>\n",
       "      <td>152</td>\n",
       "      <td>1.320476</td>\n",
       "    </tr>\n",
       "    <tr>\n",
       "      <th>american economic review</th>\n",
       "      <td>149</td>\n",
       "      <td>1.294414</td>\n",
       "    </tr>\n",
       "    <tr>\n",
       "      <th>econometrica</th>\n",
       "      <td>145</td>\n",
       "      <td>1.259665</td>\n",
       "    </tr>\n",
       "  </tbody>\n",
       "</table>\n",
       "</div>"
      ],
      "text/plain": [
       "                                                count      ratio\n",
       "journal of finance                               1231  10.694119\n",
       "journal of financial economics                   1054   9.156459\n",
       "재무관리연구                                            387   3.362002\n",
       "review of financial studies                       340   2.953696\n",
       "증권학회지                                             268   2.328208\n",
       "재무연구                                              227   1.972027\n",
       "journal of financial and quantitative analysis    216   1.876466\n",
       "journal of banking and finance                    152   1.320476\n",
       "american economic review                          149   1.294414\n",
       "econometrica                                      145   1.259665"
      ]
     },
     "metadata": {},
     "output_type": "display_data"
    },
    {
     "data": {
      "text/html": [
       "<div>\n",
       "<style scoped>\n",
       "    .dataframe tbody tr th:only-of-type {\n",
       "        vertical-align: middle;\n",
       "    }\n",
       "\n",
       "    .dataframe tbody tr th {\n",
       "        vertical-align: top;\n",
       "    }\n",
       "\n",
       "    .dataframe thead th {\n",
       "        text-align: right;\n",
       "    }\n",
       "</style>\n",
       "<table border=\"1\" class=\"dataframe\">\n",
       "  <thead>\n",
       "    <tr style=\"text-align: right;\">\n",
       "      <th></th>\n",
       "      <th>count</th>\n",
       "      <th>ratio</th>\n",
       "    </tr>\n",
       "  </thead>\n",
       "  <tbody>\n",
       "    <tr>\n",
       "      <th>journal of finance</th>\n",
       "      <td>851</td>\n",
       "      <td>9.396047</td>\n",
       "    </tr>\n",
       "    <tr>\n",
       "      <th>journal of financial economics</th>\n",
       "      <td>705</td>\n",
       "      <td>7.784034</td>\n",
       "    </tr>\n",
       "    <tr>\n",
       "      <th>재무연구</th>\n",
       "      <td>230</td>\n",
       "      <td>2.539472</td>\n",
       "    </tr>\n",
       "    <tr>\n",
       "      <th>review of financial studies</th>\n",
       "      <td>227</td>\n",
       "      <td>2.506349</td>\n",
       "    </tr>\n",
       "    <tr>\n",
       "      <th>증권학회지</th>\n",
       "      <td>214</td>\n",
       "      <td>2.362813</td>\n",
       "    </tr>\n",
       "    <tr>\n",
       "      <th>재무관리연구</th>\n",
       "      <td>172</td>\n",
       "      <td>1.899084</td>\n",
       "    </tr>\n",
       "    <tr>\n",
       "      <th>econometrica</th>\n",
       "      <td>120</td>\n",
       "      <td>1.324942</td>\n",
       "    </tr>\n",
       "    <tr>\n",
       "      <th>journal of financial and quantitative analysis</th>\n",
       "      <td>107</td>\n",
       "      <td>1.181407</td>\n",
       "    </tr>\n",
       "    <tr>\n",
       "      <th>journal of political economy</th>\n",
       "      <td>99</td>\n",
       "      <td>1.093077</td>\n",
       "    </tr>\n",
       "    <tr>\n",
       "      <th>american economic review</th>\n",
       "      <td>92</td>\n",
       "      <td>1.015789</td>\n",
       "    </tr>\n",
       "  </tbody>\n",
       "</table>\n",
       "</div>"
      ],
      "text/plain": [
       "                                                count     ratio\n",
       "journal of finance                                851  9.396047\n",
       "journal of financial economics                    705  7.784034\n",
       "재무연구                                              230  2.539472\n",
       "review of financial studies                       227  2.506349\n",
       "증권학회지                                             214  2.362813\n",
       "재무관리연구                                            172  1.899084\n",
       "econometrica                                      120  1.324942\n",
       "journal of financial and quantitative analysis    107  1.181407\n",
       "journal of political economy                       99  1.093077\n",
       "american economic review                           92  1.015789"
      ]
     },
     "metadata": {},
     "output_type": "display_data"
    },
    {
     "data": {
      "text/html": [
       "<div>\n",
       "<style scoped>\n",
       "    .dataframe tbody tr th:only-of-type {\n",
       "        vertical-align: middle;\n",
       "    }\n",
       "\n",
       "    .dataframe tbody tr th {\n",
       "        vertical-align: top;\n",
       "    }\n",
       "\n",
       "    .dataframe thead th {\n",
       "        text-align: right;\n",
       "    }\n",
       "</style>\n",
       "<table border=\"1\" class=\"dataframe\">\n",
       "  <thead>\n",
       "    <tr style=\"text-align: right;\">\n",
       "      <th></th>\n",
       "      <th>count</th>\n",
       "      <th>ratio</th>\n",
       "    </tr>\n",
       "  </thead>\n",
       "  <tbody>\n",
       "    <tr>\n",
       "      <th>증권학회지</th>\n",
       "      <td>343</td>\n",
       "      <td>2.596321</td>\n",
       "    </tr>\n",
       "    <tr>\n",
       "      <th>한국증권학회지</th>\n",
       "      <td>313</td>\n",
       "      <td>2.369238</td>\n",
       "    </tr>\n",
       "    <tr>\n",
       "      <th>재무연구</th>\n",
       "      <td>295</td>\n",
       "      <td>2.232988</td>\n",
       "    </tr>\n",
       "    <tr>\n",
       "      <th>재무관리연구</th>\n",
       "      <td>238</td>\n",
       "      <td>1.801529</td>\n",
       "    </tr>\n",
       "    <tr>\n",
       "      <th>회계학연구</th>\n",
       "      <td>97</td>\n",
       "      <td>0.734237</td>\n",
       "    </tr>\n",
       "    <tr>\n",
       "      <th>선물연구</th>\n",
       "      <td>80</td>\n",
       "      <td>0.605556</td>\n",
       "    </tr>\n",
       "    <tr>\n",
       "      <th>경영학연구</th>\n",
       "      <td>54</td>\n",
       "      <td>0.408750</td>\n",
       "    </tr>\n",
       "    <tr>\n",
       "      <th>journal of finance</th>\n",
       "      <td>51</td>\n",
       "      <td>0.386042</td>\n",
       "    </tr>\n",
       "    <tr>\n",
       "      <th>금융연구</th>\n",
       "      <td>47</td>\n",
       "      <td>0.355764</td>\n",
       "    </tr>\n",
       "    <tr>\n",
       "      <th>대한경영학회지</th>\n",
       "      <td>40</td>\n",
       "      <td>0.302778</td>\n",
       "    </tr>\n",
       "  </tbody>\n",
       "</table>\n",
       "</div>"
      ],
      "text/plain": [
       "                    count     ratio\n",
       "증권학회지                 343  2.596321\n",
       "한국증권학회지               313  2.369238\n",
       "재무연구                  295  2.232988\n",
       "재무관리연구                238  1.801529\n",
       "회계학연구                  97  0.734237\n",
       "선물연구                   80  0.605556\n",
       "경영학연구                  54  0.408750\n",
       "journal of finance     51  0.386042\n",
       "금융연구                   47  0.355764\n",
       "대한경영학회지                40  0.302778"
      ]
     },
     "metadata": {},
     "output_type": "display_data"
    },
    {
     "data": {
      "text/html": [
       "<div>\n",
       "<style scoped>\n",
       "    .dataframe tbody tr th:only-of-type {\n",
       "        vertical-align: middle;\n",
       "    }\n",
       "\n",
       "    .dataframe tbody tr th {\n",
       "        vertical-align: top;\n",
       "    }\n",
       "\n",
       "    .dataframe thead th {\n",
       "        text-align: right;\n",
       "    }\n",
       "</style>\n",
       "<table border=\"1\" class=\"dataframe\">\n",
       "  <thead>\n",
       "    <tr style=\"text-align: right;\">\n",
       "      <th></th>\n",
       "      <th>count</th>\n",
       "      <th>ratio</th>\n",
       "    </tr>\n",
       "  </thead>\n",
       "  <tbody>\n",
       "    <tr>\n",
       "      <th>journal of finance</th>\n",
       "      <td>242</td>\n",
       "      <td>2.747814</td>\n",
       "    </tr>\n",
       "    <tr>\n",
       "      <th>선물연구</th>\n",
       "      <td>155</td>\n",
       "      <td>1.759964</td>\n",
       "    </tr>\n",
       "    <tr>\n",
       "      <th>journal of financial economics</th>\n",
       "      <td>119</td>\n",
       "      <td>1.351198</td>\n",
       "    </tr>\n",
       "    <tr>\n",
       "      <th>review of financial studies</th>\n",
       "      <td>106</td>\n",
       "      <td>1.203588</td>\n",
       "    </tr>\n",
       "    <tr>\n",
       "      <th>journal of futures markets</th>\n",
       "      <td>56</td>\n",
       "      <td>0.635858</td>\n",
       "    </tr>\n",
       "    <tr>\n",
       "      <th>journal of financial and quantitative analysis</th>\n",
       "      <td>55</td>\n",
       "      <td>0.624503</td>\n",
       "    </tr>\n",
       "    <tr>\n",
       "      <th>재무관리연구</th>\n",
       "      <td>50</td>\n",
       "      <td>0.567730</td>\n",
       "    </tr>\n",
       "    <tr>\n",
       "      <th>재무연구</th>\n",
       "      <td>45</td>\n",
       "      <td>0.510957</td>\n",
       "    </tr>\n",
       "    <tr>\n",
       "      <th>한국증권학회지</th>\n",
       "      <td>41</td>\n",
       "      <td>0.465539</td>\n",
       "    </tr>\n",
       "    <tr>\n",
       "      <th>journal of political economy</th>\n",
       "      <td>40</td>\n",
       "      <td>0.454184</td>\n",
       "    </tr>\n",
       "  </tbody>\n",
       "</table>\n",
       "</div>"
      ],
      "text/plain": [
       "                                                count     ratio\n",
       "journal of finance                                242  2.747814\n",
       "선물연구                                              155  1.759964\n",
       "journal of financial economics                    119  1.351198\n",
       "review of financial studies                       106  1.203588\n",
       "journal of futures markets                         56  0.635858\n",
       "journal of financial and quantitative analysis     55  0.624503\n",
       "재무관리연구                                             50  0.567730\n",
       "재무연구                                               45  0.510957\n",
       "한국증권학회지                                            41  0.465539\n",
       "journal of political economy                       40  0.454184"
      ]
     },
     "metadata": {},
     "output_type": "display_data"
    }
   ],
   "source": [
    "display(return_journal_df(fm_sent_ls).head(10))\n",
    "display(return_journal_df(f_sent_ls).head(10))\n",
    "display(return_journal_df(sc_sent_ls).head(10))\n",
    "display(return_journal_df(dr_sent_ls).head(10))"
   ]
  },
  {
   "cell_type": "code",
   "execution_count": 19,
   "metadata": {},
   "outputs": [],
   "source": [
    "fm_journal_df = return_journal_df(fm_sent_ls)\n",
    "f_journal_df = return_journal_df(f_sent_ls)\n",
    "sc_journal_df = return_journal_df(sc_sent_ls)\n",
    "dr_journal_df = return_journal_df(dr_sent_ls)"
   ]
  },
  {
   "cell_type": "code",
   "execution_count": 23,
   "metadata": {},
   "outputs": [],
   "source": [
    "fm_journal_ls = fm_journal_df[fm_journal_df['count'] > 10].index.tolist()\n",
    "f_journal_ls = f_journal_df[f_journal_df['count'] > 10].index.tolist()\n",
    "sc_journal_ls = sc_journal_df[sc_journal_df['count'] > 10].index.tolist()\n",
    "dr_journal_ls = dr_journal_df[dr_journal_df['count'] > 10].index.tolist()\n",
    "journal_ls = fm_journal_ls + f_journal_ls + sc_journal_ls + dr_journal_ls\n",
    "journal_ls = [i for i in journal_ls if i and '.' not in i]\n",
    "journal_dict =list(set(journal_ls))"
   ]
  },
  {
   "cell_type": "code",
   "execution_count": 25,
   "metadata": {},
   "outputs": [],
   "source": [
    "def apply_journal(sent_ls,journal_dict=journal_dict):\n",
    "    journal_ls = []\n",
    "\n",
    "    for catch in journal_dict : \n",
    "        for sent in sent_ls :\n",
    "            if catch in sent.lower() : \n",
    "                journal_ls.append(catch)\n",
    "    return journal_ls"
   ]
  },
  {
   "cell_type": "code",
   "execution_count": 26,
   "metadata": {},
   "outputs": [],
   "source": [
    "fm_journal_dict = apply_journal(fm_sent_ls)\n",
    "f_journal_dict = apply_journal(f_sent_ls)\n",
    "sc_journal_dict = apply_journal(sc_sent_ls)\n",
    "dr_journal_dict = apply_journal(dr_sent_ls)"
   ]
  },
  {
   "cell_type": "code",
   "execution_count": 27,
   "metadata": {},
   "outputs": [],
   "source": [
    "fm_journal_dict_df = pd.DataFrame.from_dict(Counter(fm_journal_dict),orient='index',columns=['count'])\n",
    "f_journal_dict_df = pd.DataFrame.from_dict(Counter(f_journal_dict),orient='index',columns=['count'])\n",
    "sc_journal_dict_df = pd.DataFrame.from_dict(Counter(sc_journal_dict),orient='index',columns=['count'])\n",
    "dr_journal_dict_df = pd.DataFrame.from_dict(Counter(dr_journal_dict),orient='index',columns=['count'])"
   ]
  },
  {
   "cell_type": "code",
   "execution_count": 28,
   "metadata": {},
   "outputs": [],
   "source": [
    "fm_journal_dict_df.sort_values('count',ascending=False,inplace=True)\n",
    "f_journal_dict_df.sort_values('count',ascending=False,inplace=True)\n",
    "sc_journal_dict_df.sort_values('count',ascending=False,inplace=True)\n",
    "dr_journal_dict_df.sort_values('count',ascending=False,inplace=True)"
   ]
  },
  {
   "cell_type": "code",
   "execution_count": 29,
   "metadata": {
    "scrolled": true
   },
   "outputs": [
    {
     "data": {
      "text/html": [
       "<div>\n",
       "<style scoped>\n",
       "    .dataframe tbody tr th:only-of-type {\n",
       "        vertical-align: middle;\n",
       "    }\n",
       "\n",
       "    .dataframe tbody tr th {\n",
       "        vertical-align: top;\n",
       "    }\n",
       "\n",
       "    .dataframe thead th {\n",
       "        text-align: right;\n",
       "    }\n",
       "</style>\n",
       "<table border=\"1\" class=\"dataframe\">\n",
       "  <thead>\n",
       "    <tr style=\"text-align: right;\">\n",
       "      <th></th>\n",
       "      <th>count</th>\n",
       "    </tr>\n",
       "  </thead>\n",
       "  <tbody>\n",
       "    <tr>\n",
       "      <th>journal of finance</th>\n",
       "      <td>1449</td>\n",
       "    </tr>\n",
       "    <tr>\n",
       "      <th>journal of financial economics</th>\n",
       "      <td>1104</td>\n",
       "    </tr>\n",
       "    <tr>\n",
       "      <th>재무관리연구</th>\n",
       "      <td>416</td>\n",
       "    </tr>\n",
       "    <tr>\n",
       "      <th>증권학회지</th>\n",
       "      <td>413</td>\n",
       "    </tr>\n",
       "    <tr>\n",
       "      <th>working paper</th>\n",
       "      <td>402</td>\n",
       "    </tr>\n",
       "    <tr>\n",
       "      <th>review of financial studies</th>\n",
       "      <td>402</td>\n",
       "    </tr>\n",
       "    <tr>\n",
       "      <th>재무연구</th>\n",
       "      <td>273</td>\n",
       "    </tr>\n",
       "    <tr>\n",
       "      <th>journal of business</th>\n",
       "      <td>255</td>\n",
       "    </tr>\n",
       "    <tr>\n",
       "      <th>journal of financial and quantitative analysis</th>\n",
       "      <td>228</td>\n",
       "    </tr>\n",
       "    <tr>\n",
       "      <th>financial management</th>\n",
       "      <td>198</td>\n",
       "    </tr>\n",
       "  </tbody>\n",
       "</table>\n",
       "</div>"
      ],
      "text/plain": [
       "                                                count\n",
       "journal of finance                               1449\n",
       "journal of financial economics                   1104\n",
       "재무관리연구                                            416\n",
       "증권학회지                                             413\n",
       "working paper                                     402\n",
       "review of financial studies                       402\n",
       "재무연구                                              273\n",
       "journal of business                               255\n",
       "journal of financial and quantitative analysis    228\n",
       "financial management                              198"
      ]
     },
     "metadata": {},
     "output_type": "display_data"
    },
    {
     "data": {
      "text/html": [
       "<div>\n",
       "<style scoped>\n",
       "    .dataframe tbody tr th:only-of-type {\n",
       "        vertical-align: middle;\n",
       "    }\n",
       "\n",
       "    .dataframe tbody tr th {\n",
       "        vertical-align: top;\n",
       "    }\n",
       "\n",
       "    .dataframe thead th {\n",
       "        text-align: right;\n",
       "    }\n",
       "</style>\n",
       "<table border=\"1\" class=\"dataframe\">\n",
       "  <thead>\n",
       "    <tr style=\"text-align: right;\">\n",
       "      <th></th>\n",
       "      <th>count</th>\n",
       "    </tr>\n",
       "  </thead>\n",
       "  <tbody>\n",
       "    <tr>\n",
       "      <th>journal of finance</th>\n",
       "      <td>1060</td>\n",
       "    </tr>\n",
       "    <tr>\n",
       "      <th>journal of financial economics</th>\n",
       "      <td>777</td>\n",
       "    </tr>\n",
       "    <tr>\n",
       "      <th>재무연구</th>\n",
       "      <td>661</td>\n",
       "    </tr>\n",
       "    <tr>\n",
       "      <th>증권학회지</th>\n",
       "      <td>353</td>\n",
       "    </tr>\n",
       "    <tr>\n",
       "      <th>working paper</th>\n",
       "      <td>347</td>\n",
       "    </tr>\n",
       "    <tr>\n",
       "      <th>review of financial studies</th>\n",
       "      <td>261</td>\n",
       "    </tr>\n",
       "    <tr>\n",
       "      <th>재무관리연구</th>\n",
       "      <td>208</td>\n",
       "    </tr>\n",
       "    <tr>\n",
       "      <th>econometrica</th>\n",
       "      <td>139</td>\n",
       "    </tr>\n",
       "    <tr>\n",
       "      <th>journal of business</th>\n",
       "      <td>133</td>\n",
       "    </tr>\n",
       "    <tr>\n",
       "      <th>american economic review</th>\n",
       "      <td>116</td>\n",
       "    </tr>\n",
       "  </tbody>\n",
       "</table>\n",
       "</div>"
      ],
      "text/plain": [
       "                                count\n",
       "journal of finance               1060\n",
       "journal of financial economics    777\n",
       "재무연구                              661\n",
       "증권학회지                             353\n",
       "working paper                     347\n",
       "review of financial studies       261\n",
       "재무관리연구                            208\n",
       "econometrica                      139\n",
       "journal of business               133\n",
       "american economic review          116"
      ]
     },
     "metadata": {},
     "output_type": "display_data"
    },
    {
     "data": {
      "text/html": [
       "<div>\n",
       "<style scoped>\n",
       "    .dataframe tbody tr th:only-of-type {\n",
       "        vertical-align: middle;\n",
       "    }\n",
       "\n",
       "    .dataframe tbody tr th {\n",
       "        vertical-align: top;\n",
       "    }\n",
       "\n",
       "    .dataframe thead th {\n",
       "        text-align: right;\n",
       "    }\n",
       "</style>\n",
       "<table border=\"1\" class=\"dataframe\">\n",
       "  <thead>\n",
       "    <tr style=\"text-align: right;\">\n",
       "      <th></th>\n",
       "      <th>count</th>\n",
       "    </tr>\n",
       "  </thead>\n",
       "  <tbody>\n",
       "    <tr>\n",
       "      <th>journal of finance</th>\n",
       "      <td>988</td>\n",
       "    </tr>\n",
       "    <tr>\n",
       "      <th>증권학회지</th>\n",
       "      <td>876</td>\n",
       "    </tr>\n",
       "    <tr>\n",
       "      <th>journal of financial economics</th>\n",
       "      <td>670</td>\n",
       "    </tr>\n",
       "    <tr>\n",
       "      <th>working paper</th>\n",
       "      <td>442</td>\n",
       "    </tr>\n",
       "    <tr>\n",
       "      <th>재무연구</th>\n",
       "      <td>402</td>\n",
       "    </tr>\n",
       "    <tr>\n",
       "      <th>한국증권학회지</th>\n",
       "      <td>390</td>\n",
       "    </tr>\n",
       "    <tr>\n",
       "      <th>review of financial studies</th>\n",
       "      <td>349</td>\n",
       "    </tr>\n",
       "    <tr>\n",
       "      <th>재무관리연구</th>\n",
       "      <td>268</td>\n",
       "    </tr>\n",
       "    <tr>\n",
       "      <th>journal of business</th>\n",
       "      <td>146</td>\n",
       "    </tr>\n",
       "    <tr>\n",
       "      <th>accounting review</th>\n",
       "      <td>137</td>\n",
       "    </tr>\n",
       "  </tbody>\n",
       "</table>\n",
       "</div>"
      ],
      "text/plain": [
       "                                count\n",
       "journal of finance                988\n",
       "증권학회지                             876\n",
       "journal of financial economics    670\n",
       "working paper                     442\n",
       "재무연구                              402\n",
       "한국증권학회지                           390\n",
       "review of financial studies       349\n",
       "재무관리연구                            268\n",
       "journal of business               146\n",
       "accounting review                 137"
      ]
     },
     "metadata": {},
     "output_type": "display_data"
    },
    {
     "data": {
      "text/html": [
       "<div>\n",
       "<style scoped>\n",
       "    .dataframe tbody tr th:only-of-type {\n",
       "        vertical-align: middle;\n",
       "    }\n",
       "\n",
       "    .dataframe tbody tr th {\n",
       "        vertical-align: top;\n",
       "    }\n",
       "\n",
       "    .dataframe thead th {\n",
       "        text-align: right;\n",
       "    }\n",
       "</style>\n",
       "<table border=\"1\" class=\"dataframe\">\n",
       "  <thead>\n",
       "    <tr style=\"text-align: right;\">\n",
       "      <th></th>\n",
       "      <th>count</th>\n",
       "    </tr>\n",
       "  </thead>\n",
       "  <tbody>\n",
       "    <tr>\n",
       "      <th>journal of finance</th>\n",
       "      <td>349</td>\n",
       "    </tr>\n",
       "    <tr>\n",
       "      <th>선물연구</th>\n",
       "      <td>215</td>\n",
       "    </tr>\n",
       "    <tr>\n",
       "      <th>working paper</th>\n",
       "      <td>189</td>\n",
       "    </tr>\n",
       "    <tr>\n",
       "      <th>journal of financial economics</th>\n",
       "      <td>146</td>\n",
       "    </tr>\n",
       "    <tr>\n",
       "      <th>review of financial studies</th>\n",
       "      <td>140</td>\n",
       "    </tr>\n",
       "    <tr>\n",
       "      <th>증권학회지</th>\n",
       "      <td>117</td>\n",
       "    </tr>\n",
       "    <tr>\n",
       "      <th>econometrica</th>\n",
       "      <td>113</td>\n",
       "    </tr>\n",
       "    <tr>\n",
       "      <th>journal of futures markets</th>\n",
       "      <td>98</td>\n",
       "    </tr>\n",
       "    <tr>\n",
       "      <th>재무연구</th>\n",
       "      <td>81</td>\n",
       "    </tr>\n",
       "    <tr>\n",
       "      <th>재무관리연구</th>\n",
       "      <td>75</td>\n",
       "    </tr>\n",
       "  </tbody>\n",
       "</table>\n",
       "</div>"
      ],
      "text/plain": [
       "                                count\n",
       "journal of finance                349\n",
       "선물연구                              215\n",
       "working paper                     189\n",
       "journal of financial economics    146\n",
       "review of financial studies       140\n",
       "증권학회지                             117\n",
       "econometrica                      113\n",
       "journal of futures markets         98\n",
       "재무연구                               81\n",
       "재무관리연구                             75"
      ]
     },
     "metadata": {},
     "output_type": "display_data"
    }
   ],
   "source": [
    "display(fm_journal_dict_df.head(10))\n",
    "display(f_journal_dict_df.head(10))\n",
    "display(sc_journal_dict_df.head(10))\n",
    "display(dr_journal_dict_df.head(10))"
   ]
  }
 ],
 "metadata": {
  "kernelspec": {
   "display_name": "Python 3",
   "language": "python",
   "name": "python3"
  },
  "language_info": {
   "codemirror_mode": {
    "name": "ipython",
    "version": 3
   },
   "file_extension": ".py",
   "mimetype": "text/x-python",
   "name": "python",
   "nbconvert_exporter": "python",
   "pygments_lexer": "ipython3",
   "version": "3.6.6"
  }
 },
 "nbformat": 4,
 "nbformat_minor": 2
}
