{
 "cells": [
  {
   "cell_type": "markdown",
   "metadata": {},
   "source": [
    "# 크롤링을 통해 받아온 데이터를 1차적으로 튜닝한 프로세스"
   ]
  },
  {
   "cell_type": "code",
   "execution_count": 2,
   "metadata": {},
   "outputs": [],
   "source": [
    "import numpy as np\n",
    "import pandas as pd\n",
    "from IPython.display import display\n",
    "import re"
   ]
  },
  {
   "cell_type": "code",
   "execution_count": 3,
   "metadata": {
    "scrolled": true
   },
   "outputs": [],
   "source": [
    "df = pd.read_csv('../New_Methodology/references.csv')"
   ]
  },
  {
   "cell_type": "code",
   "execution_count": 4,
   "metadata": {},
   "outputs": [
    {
     "data": {
      "text/html": [
       "<div>\n",
       "<style scoped>\n",
       "    .dataframe tbody tr th:only-of-type {\n",
       "        vertical-align: middle;\n",
       "    }\n",
       "\n",
       "    .dataframe tbody tr th {\n",
       "        vertical-align: top;\n",
       "    }\n",
       "\n",
       "    .dataframe thead th {\n",
       "        text-align: right;\n",
       "    }\n",
       "</style>\n",
       "<table border=\"1\" class=\"dataframe\">\n",
       "  <thead>\n",
       "    <tr style=\"text-align: right;\">\n",
       "      <th></th>\n",
       "      <th>citing_paper_name</th>\n",
       "      <th>citing_paper_journal</th>\n",
       "      <th>citing_paper_year</th>\n",
       "      <th>count</th>\n",
       "      <th>cited_list</th>\n",
       "      <th>boolean</th>\n",
       "    </tr>\n",
       "  </thead>\n",
       "  <tbody>\n",
       "    <tr>\n",
       "      <th>1212</th>\n",
       "      <td>국가별 특성과 공적연기금 자산배분 : 거시자료로부터의 함의</td>\n",
       "      <td>재무관리연구</td>\n",
       "      <td>2011.0</td>\n",
       "      <td>17</td>\n",
       "      <td>[\"[학술지(정기간행물)] - 설원식 / 2006 / 외국인투자자가 기업의 배당에 ...</td>\n",
       "      <td>True</td>\n",
       "    </tr>\n",
       "    <tr>\n",
       "      <th>1213</th>\n",
       "      <td>멀티클래스 펀드의 자금흐름 특성에 관한 연구</td>\n",
       "      <td>재무관리연구</td>\n",
       "      <td>2015.0</td>\n",
       "      <td>30</td>\n",
       "      <td>[\"[학술지(정기간행물)] - 고광수 / 2011 / 주식 시장과 주식형 펀드 수익...</td>\n",
       "      <td>True</td>\n",
       "    </tr>\n",
       "    <tr>\n",
       "      <th>1214</th>\n",
       "      <td>KOSPI 200 파생상품 거래와 주식수익률 변동성의 비대칭성</td>\n",
       "      <td>재무관리연구</td>\n",
       "      <td>2006.0</td>\n",
       "      <td>37</td>\n",
       "      <td>[\"[학술지(정기간행물)] - / 1998 / 변동성과 레버리지 그리고 기업규모에 ...</td>\n",
       "      <td>True</td>\n",
       "    </tr>\n",
       "    <tr>\n",
       "      <th>1215</th>\n",
       "      <td>글로벌 분산투자와 통화헤지에 관한 실증연구</td>\n",
       "      <td>재무관리연구</td>\n",
       "      <td>2013.0</td>\n",
       "      <td>24</td>\n",
       "      <td>[\"[학술지(정기간행물)] - 김석진 / 2011 / 한국, 중국 및 미국 주식시장...</td>\n",
       "      <td>True</td>\n",
       "    </tr>\n",
       "    <tr>\n",
       "      <th>1216</th>\n",
       "      <td>합병기업의 주식매수청구권 행사결정요인과 장기성과</td>\n",
       "      <td>재무관리연구</td>\n",
       "      <td>2013.0</td>\n",
       "      <td>23</td>\n",
       "      <td>[\"[학술지(정기간행물)] - 류해필 / 2013 / 역인수합병시 합병가치 및 대주...</td>\n",
       "      <td>True</td>\n",
       "    </tr>\n",
       "  </tbody>\n",
       "</table>\n",
       "</div>"
      ],
      "text/plain": [
       "                       citing_paper_name citing_paper_journal  \\\n",
       "1212    국가별 특성과 공적연기금 자산배분 : 거시자료로부터의 함의               재무관리연구   \n",
       "1213            멀티클래스 펀드의 자금흐름 특성에 관한 연구               재무관리연구   \n",
       "1214  KOSPI 200 파생상품 거래와 주식수익률 변동성의 비대칭성               재무관리연구   \n",
       "1215             글로벌 분산투자와 통화헤지에 관한 실증연구               재무관리연구   \n",
       "1216          합병기업의 주식매수청구권 행사결정요인과 장기성과               재무관리연구   \n",
       "\n",
       "      citing_paper_year  count  \\\n",
       "1212             2011.0     17   \n",
       "1213             2015.0     30   \n",
       "1214             2006.0     37   \n",
       "1215             2013.0     24   \n",
       "1216             2013.0     23   \n",
       "\n",
       "                                             cited_list  boolean  \n",
       "1212  [\"[학술지(정기간행물)] - 설원식 / 2006 / 외국인투자자가 기업의 배당에 ...     True  \n",
       "1213  [\"[학술지(정기간행물)] - 고광수 / 2011 / 주식 시장과 주식형 펀드 수익...     True  \n",
       "1214  [\"[학술지(정기간행물)] - / 1998 / 변동성과 레버리지 그리고 기업규모에 ...     True  \n",
       "1215  [\"[학술지(정기간행물)] - 김석진 / 2011 / 한국, 중국 및 미국 주식시장...     True  \n",
       "1216  [\"[학술지(정기간행물)] - 류해필 / 2013 / 역인수합병시 합병가치 및 대주...     True  "
      ]
     },
     "execution_count": 4,
     "metadata": {},
     "output_type": "execute_result"
    }
   ],
   "source": [
    "df.tail()"
   ]
  },
  {
   "cell_type": "code",
   "execution_count": 7,
   "metadata": {
    "scrolled": false
   },
   "outputs": [
    {
     "data": {
      "text/plain": [
       "'제품시장경쟁이 주식수익률에 미치는 영향: 한-미 FTA를 통한 증거\\n류두진 | 류두원 | 황준호 | 한국재무학회 | 재무연구 | 28(3) | pp.487~512 | 2015.08 | 경영학\\n피인용횟수 : 5'"
      ]
     },
     "execution_count": 7,
     "metadata": {},
     "output_type": "execute_result"
    }
   ],
   "source": [
    "df['infor'].values[500]"
   ]
  },
  {
   "cell_type": "code",
   "execution_count": 8,
   "metadata": {
    "scrolled": false
   },
   "outputs": [
    {
     "data": {
      "text/plain": [
       "'1. [학술지(정기간행물)] - 박경서 / 2011 / 상품시장에서의 경쟁과 기업지배구조의 상호작용이 투자와 배당에 미치는 영향 / 재무연구 24 (2) : 483 ~ 522,2. [학술지(정기간행물)] - 류두원 / 2013 / 시장경쟁은 기업에 어떠한 영향을 미치는가?: 산업집중도와 기업가치 및 부채비율의 관계에 관한 실증연구 / 경영학연구 42 (2) : 435 ~ 456,3. [학술지(정기간행물)] - 류두원 / 2014 / 산업집중도에 따른 주식수익률 차이는 존재하는가? / 한국증권학회지 43 (4) : 657 ~ 678,4. [학술지(정기간행물)] - 류두원 / 2013 / 시장경쟁은 회사채 신용등급 변경공시에 따른 주식가격반응에 어떠한 영향을 주는가? / 경영학연구 42 (4) : 929 ~ 957,5. [학술지(정기간행물)] - 류두원 / 2014 / 정부기관의 중소기업 포상이 나아가야할 방향: 기업 가치에 미치는 영향을 중심으로 / 한국증권학회지 43 (1) : 47 ~ 69,6. [학술지(정기간행물)] - Ali, A. / 2009 / The Limitations of Industry Concentration Measure Constructed with Compustat Data: Implications for Finance Research / Review of Financial Studies 22 (10) : 3839 ~ 3871,7. [학술지(정기간행물)] - Alimov, A. / 2014 / Product Market Competition and the Value of Corporate Cash: Evidence from trade liberalization / Journal of Corporate Finance 25 : 122 ~ 139,8. [보고서] - Bustamante, M. C. / 2014 / Product Market Competition and Industry Returns,9. [학술지(정기간행물)] - Card, D. / 1994 / Minimum Wages and Employment: A Case Study of the Fast-Food Industry in New Jersey and Pennsylvania / American Economic Review 84 (4) : 772 ~ 793,10. [학술지(정기간행물)] - Fama, E. F. / 1993 / Common Risk Factors in the Returns on Stocks and Bonds / Journal of Financial Economics 33 (1) : 3 ~ 56,11. [학술지(정기간행물)] - Flammer, C. / 2015 / Does Product Market Competition Foster Corporate Social Responsibility? Evidence from Trade Liberalization / Strategic Management Journal,12. [학술지(정기간행물)] - Gallagher, D. R. / 2014 / Industry Concentration, Excess Returns and Innovation in Australia / Accounting and Finance 55 (2) : 443 ~ 466,13. [학술지(정기간행물)] - Giroud, X. / 2010 / Does Corporate Governance Matter in Competitive Industries? / Journal of Financial Economics 95 (3) : 312 ~ 331,14. [학술지(정기간행물)] - Hou, K. / 2006 / Industry Concentration and Average Stock Returns / Journal of Finance 61 (4) : 1927 ~ 1956'"
      ]
     },
     "execution_count": 8,
     "metadata": {},
     "output_type": "execute_result"
    }
   ],
   "source": [
    "df['refer'].values[500]"
   ]
  },
  {
   "cell_type": "markdown",
   "metadata": {},
   "source": [
    "### 참고문헌이 나와있지 않은 논문의 수"
   ]
  },
  {
   "cell_type": "code",
   "execution_count": 9,
   "metadata": {},
   "outputs": [
    {
     "data": {
      "text/plain": [
       "242"
      ]
     },
     "execution_count": 9,
     "metadata": {},
     "output_type": "execute_result"
    }
   ],
   "source": [
    "len([i for i in df['refer'].values if i == '0'])"
   ]
  },
  {
   "cell_type": "code",
   "execution_count": 10,
   "metadata": {},
   "outputs": [
    {
     "data": {
      "text/plain": [
       "'16.55266757865937%'"
      ]
     },
     "execution_count": 10,
     "metadata": {},
     "output_type": "execute_result"
    }
   ],
   "source": [
    "str(((len([i for i in df['refer'].values if i == '0']) / len(df)) * 100)) + '%'"
   ]
  },
  {
   "cell_type": "markdown",
   "metadata": {},
   "source": [
    "# Tuning_process"
   ]
  },
  {
   "cell_type": "markdown",
   "metadata": {},
   "source": [
    "#### 우선 information 컬럼을 늘려준다.\n",
    "- refer 컬럼을 split 하는 과정을 시행한다."
   ]
  },
  {
   "cell_type": "code",
   "execution_count": 11,
   "metadata": {},
   "outputs": [
    {
     "name": "stdout",
     "output_type": "stream",
     "text": [
      "40\n",
      "41\n"
     ]
    }
   ],
   "source": [
    "print(len(re.findall('[0-9]{1,}. \\[',df['refer'].values[100])))\n",
    "print(len(re.split('[0-9]{1,}. \\[',df['refer'].values[100])))"
   ]
  },
  {
   "cell_type": "code",
   "execution_count": 12,
   "metadata": {
    "collapsed": true
   },
   "outputs": [],
   "source": [
    "head_ls = re.findall('[0-9]{1,}. \\[',df['refer'].values[100])"
   ]
  },
  {
   "cell_type": "code",
   "execution_count": 13,
   "metadata": {
    "scrolled": false
   },
   "outputs": [
    {
     "data": {
      "text/plain": [
       "['학술지(정기간행물)] - Wermers, R / 1999 / Mutual fund herding and the impact on stock prices / Journal of Finance 54 : 581 ~ 622,',\n",
       " '학술지(정기간행물)] - Yeh, Y. / 2000 / The Interaction and volatility asymmetry of unexpected returns in the greater China stock markets / Global Finance Journal 11 : 129 ~ 149']"
      ]
     },
     "execution_count": 13,
     "metadata": {},
     "output_type": "execute_result"
    }
   ],
   "source": [
    "testing_ls = re.split('[0-9]{1,}. \\[',df['refer'].values[100])\n",
    "process_ls = []\n",
    "for i in range(len(testing_ls)):\n",
    "    if re.search('\\/ [0-9]{,4} \\/',testing_ls[i]) : \n",
    "        process_ls.append(testing_ls[i])\n",
    "process_ls[-2:]"
   ]
  },
  {
   "cell_type": "code",
   "execution_count": 14,
   "metadata": {
    "scrolled": true
   },
   "outputs": [
    {
     "data": {
      "text/plain": [
       "['39. [학술지(정기간행물)] - Wermers, R / 1999 / Mutual fund herding and the impact on stock prices / Journal of Finance 54 : 581 ~ 622,',\n",
       " '40. [학술지(정기간행물)] - Yeh, Y. / 2000 / The Interaction and volatility asymmetry of unexpected returns in the greater China stock markets / Global Finance Journal 11 : 129 ~ 149']"
      ]
     },
     "execution_count": 14,
     "metadata": {},
     "output_type": "execute_result"
    }
   ],
   "source": [
    "title_ls = []\n",
    "for i in range(len(process_ls)):\n",
    "    title_ls.append(head_ls[i] + process_ls[i])\n",
    "title_ls[-2:]"
   ]
  },
  {
   "cell_type": "markdown",
   "metadata": {},
   "source": [
    "### information 컬럼을 늘려주는 function(generalization) 프로세스"
   ]
  },
  {
   "cell_type": "code",
   "execution_count": 15,
   "metadata": {
    "collapsed": true
   },
   "outputs": [],
   "source": [
    "#length column 을 만들어주기 위한 프로세스\n",
    "final_process_ls = []\n",
    "\n",
    "for i in range(len(df['refer'])):\n",
    "    try :\n",
    "        title_ls = []\n",
    "        if df['refer'].values[i] != '0' : \n",
    "            head_ls = re.findall('[0-9]{1,}. \\[',df['refer'].values[i])\n",
    "            testing_ls = re.split('[0-9]{1,}. \\[',df['refer'].values[i])\n",
    "            process_ls = []\n",
    "            for j in range(len(testing_ls)):\n",
    "                if re.search('\\/ [0-9]{,4} \\/',testing_ls[j]) : \n",
    "                    process_ls.append(testing_ls[j])\n",
    "            for k in range(len(process_ls)):\n",
    "                title_ls.append(head_ls[k] + process_ls[k])\n",
    "        else : title_ls.append('0')\n",
    "        final_process_ls.append(title_ls)\n",
    "    except Exception as e:\n",
    "        print(i)\n",
    "        print(len(process_ls),len(head_ls))\n",
    "        print(e)\n",
    "        break"
   ]
  },
  {
   "cell_type": "code",
   "execution_count": 16,
   "metadata": {
    "collapsed": true
   },
   "outputs": [],
   "source": [
    "df['length'] = [len(i) for i in final_process_ls]"
   ]
  },
  {
   "cell_type": "code",
   "execution_count": 17,
   "metadata": {
    "collapsed": true
   },
   "outputs": [],
   "source": [
    "new_df = pd.DataFrame()\n",
    "new_df['refer'] = [j for i in final_process_ls for j in i]"
   ]
  },
  {
   "cell_type": "code",
   "execution_count": 18,
   "metadata": {},
   "outputs": [
    {
     "name": "stdout",
     "output_type": "stream",
     "text": [
      "37247\n"
     ]
    }
   ],
   "source": [
    "extending_title_ls = []\n",
    "for i in range(len(df)):\n",
    "    for _ in range(df['length'].values[i]):\n",
    "        extending_title_ls.append(df['infor'].values[i])\n",
    "print(len(extending_title_ls))\n",
    "new_df['infor'] = extending_title_ls"
   ]
  },
  {
   "cell_type": "code",
   "execution_count": 19,
   "metadata": {
    "collapsed": true
   },
   "outputs": [],
   "source": [
    "new_df = pd.DataFrame()\n",
    "new_df['infor'] = extending_title_ls\n",
    "new_df['refer'] = [j for i in final_process_ls for j in i]"
   ]
  },
  {
   "cell_type": "code",
   "execution_count": 20,
   "metadata": {
    "scrolled": true
   },
   "outputs": [
    {
     "data": {
      "text/html": [
       "<div>\n",
       "<style>\n",
       "    .dataframe thead tr:only-child th {\n",
       "        text-align: right;\n",
       "    }\n",
       "\n",
       "    .dataframe thead th {\n",
       "        text-align: left;\n",
       "    }\n",
       "\n",
       "    .dataframe tbody tr th {\n",
       "        vertical-align: top;\n",
       "    }\n",
       "</style>\n",
       "<table border=\"1\" class=\"dataframe\">\n",
       "  <thead>\n",
       "    <tr style=\"text-align: right;\">\n",
       "      <th></th>\n",
       "      <th>infor</th>\n",
       "      <th>refer</th>\n",
       "    </tr>\n",
       "  </thead>\n",
       "  <tbody>\n",
       "    <tr>\n",
       "      <th>37242</th>\n",
       "      <td>Corporate Diversification, Relatedness, and Fi...</td>\n",
       "      <td>40. [기타자료] - Villalonga, Belen / 1999 / Does D...</td>\n",
       "    </tr>\n",
       "    <tr>\n",
       "      <th>37243</th>\n",
       "      <td>Corporate Diversification, Relatedness, and Fi...</td>\n",
       "      <td>41. [학술지(정기간행물)] - Villalonga, Belen / 2004 / ...</td>\n",
       "    </tr>\n",
       "    <tr>\n",
       "      <th>37244</th>\n",
       "      <td>Corporate Diversification, Relatedness, and Fi...</td>\n",
       "      <td>42. [학술지(정기간행물)] - Villalonga, Belen / 2004 / ...</td>\n",
       "    </tr>\n",
       "    <tr>\n",
       "      <th>37245</th>\n",
       "      <td>Corporate Diversification, Relatedness, and Fi...</td>\n",
       "      <td>43. [학술지(정기간행물)] - Weston, J. F / 1970 / The N...</td>\n",
       "    </tr>\n",
       "    <tr>\n",
       "      <th>37246</th>\n",
       "      <td>Corporate Diversification, Relatedness, and Fi...</td>\n",
       "      <td>44. [학술지(정기간행물)] - Whited, Toni M / 2001 / Is ...</td>\n",
       "    </tr>\n",
       "  </tbody>\n",
       "</table>\n",
       "</div>"
      ],
      "text/plain": [
       "                                                   infor  \\\n",
       "37242  Corporate Diversification, Relatedness, and Fi...   \n",
       "37243  Corporate Diversification, Relatedness, and Fi...   \n",
       "37244  Corporate Diversification, Relatedness, and Fi...   \n",
       "37245  Corporate Diversification, Relatedness, and Fi...   \n",
       "37246  Corporate Diversification, Relatedness, and Fi...   \n",
       "\n",
       "                                                   refer  \n",
       "37242  40. [기타자료] - Villalonga, Belen / 1999 / Does D...  \n",
       "37243  41. [학술지(정기간행물)] - Villalonga, Belen / 2004 / ...  \n",
       "37244  42. [학술지(정기간행물)] - Villalonga, Belen / 2004 / ...  \n",
       "37245  43. [학술지(정기간행물)] - Weston, J. F / 1970 / The N...  \n",
       "37246  44. [학술지(정기간행물)] - Whited, Toni M / 2001 / Is ...  "
      ]
     },
     "execution_count": 20,
     "metadata": {},
     "output_type": "execute_result"
    }
   ],
   "source": [
    "set(new_df['infor'].values) == set(df['infor'].values)\n",
    "#OK\n",
    "new_df.tail()"
   ]
  },
  {
   "cell_type": "code",
   "execution_count": 21,
   "metadata": {
    "collapsed": true
   },
   "outputs": [],
   "source": [
    "new_df.to_csv('extended_references.csv',index=False)"
   ]
  },
  {
   "cell_type": "code",
   "execution_count": 6,
   "metadata": {},
   "outputs": [
    {
     "data": {
      "text/html": [
       "<div>\n",
       "<style scoped>\n",
       "    .dataframe tbody tr th:only-of-type {\n",
       "        vertical-align: middle;\n",
       "    }\n",
       "\n",
       "    .dataframe tbody tr th {\n",
       "        vertical-align: top;\n",
       "    }\n",
       "\n",
       "    .dataframe thead th {\n",
       "        text-align: right;\n",
       "    }\n",
       "</style>\n",
       "<table border=\"1\" class=\"dataframe\">\n",
       "  <thead>\n",
       "    <tr style=\"text-align: right;\">\n",
       "      <th></th>\n",
       "      <th>citing_paper_name</th>\n",
       "      <th>citing_paper_journal</th>\n",
       "      <th>citing_paper_year</th>\n",
       "      <th>cited_list</th>\n",
       "      <th>boolean</th>\n",
       "    </tr>\n",
       "  </thead>\n",
       "  <tbody>\n",
       "    <tr>\n",
       "      <th>37156</th>\n",
       "      <td>합병기업의 주식매수청구권 행사결정요인과 장기성과</td>\n",
       "      <td>재무관리연구</td>\n",
       "      <td>2013.0</td>\n",
       "      <td>[학술지(정기간행물)] - Ma, Q. / 2011 / Value, Valuatio...</td>\n",
       "      <td>True</td>\n",
       "    </tr>\n",
       "    <tr>\n",
       "      <th>37157</th>\n",
       "      <td>합병기업의 주식매수청구권 행사결정요인과 장기성과</td>\n",
       "      <td>재무관리연구</td>\n",
       "      <td>2013.0</td>\n",
       "      <td>[학술지(정기간행물)] - Rhodes-Kropf, M. / 2004 / Marke...</td>\n",
       "      <td>True</td>\n",
       "    </tr>\n",
       "    <tr>\n",
       "      <th>37158</th>\n",
       "      <td>합병기업의 주식매수청구권 행사결정요인과 장기성과</td>\n",
       "      <td>재무관리연구</td>\n",
       "      <td>2013.0</td>\n",
       "      <td>[학술지(정기간행물)] - Shleifer, A. / 2003 / Stock Mar...</td>\n",
       "      <td>True</td>\n",
       "    </tr>\n",
       "    <tr>\n",
       "      <th>37159</th>\n",
       "      <td>합병기업의 주식매수청구권 행사결정요인과 장기성과</td>\n",
       "      <td>재무관리연구</td>\n",
       "      <td>2013.0</td>\n",
       "      <td>[학술지(정기간행물)] - Wertheimer, B. M. / 1998 / The ...</td>\n",
       "      <td>True</td>\n",
       "    </tr>\n",
       "    <tr>\n",
       "      <th>37160</th>\n",
       "      <td>합병기업의 주식매수청구권 행사결정요인과 장기성과</td>\n",
       "      <td>재무관리연구</td>\n",
       "      <td>2013.0</td>\n",
       "      <td>[학술지(정기간행물)] - Yee, K. K. / 2004 / Combining V...</td>\n",
       "      <td>True</td>\n",
       "    </tr>\n",
       "  </tbody>\n",
       "</table>\n",
       "</div>"
      ],
      "text/plain": [
       "                citing_paper_name citing_paper_journal  citing_paper_year  \\\n",
       "37156  합병기업의 주식매수청구권 행사결정요인과 장기성과               재무관리연구             2013.0   \n",
       "37157  합병기업의 주식매수청구권 행사결정요인과 장기성과               재무관리연구             2013.0   \n",
       "37158  합병기업의 주식매수청구권 행사결정요인과 장기성과               재무관리연구             2013.0   \n",
       "37159  합병기업의 주식매수청구권 행사결정요인과 장기성과               재무관리연구             2013.0   \n",
       "37160  합병기업의 주식매수청구권 행사결정요인과 장기성과               재무관리연구             2013.0   \n",
       "\n",
       "                                              cited_list  boolean  \n",
       "37156  [학술지(정기간행물)] - Ma, Q. / 2011 / Value, Valuatio...     True  \n",
       "37157  [학술지(정기간행물)] - Rhodes-Kropf, M. / 2004 / Marke...     True  \n",
       "37158  [학술지(정기간행물)] - Shleifer, A. / 2003 / Stock Mar...     True  \n",
       "37159  [학술지(정기간행물)] - Wertheimer, B. M. / 1998 / The ...     True  \n",
       "37160  [학술지(정기간행물)] - Yee, K. K. / 2004 / Combining V...     True  "
      ]
     },
     "execution_count": 6,
     "metadata": {},
     "output_type": "execute_result"
    }
   ],
   "source": [
    "new_df = pd.read_csv('../New_Methodology/extended_df.csv')\n",
    "new_df.tail()"
   ]
  },
  {
   "cell_type": "markdown",
   "metadata": {},
   "source": [
    "# Text Tuning process"
   ]
  },
  {
   "cell_type": "markdown",
   "metadata": {},
   "source": [
    "# 우선 references 가 아닌 논문의 이름부터 튜닝한다."
   ]
  },
  {
   "cell_type": "markdown",
   "metadata": {},
   "source": [
    "infor 컬럼은 | 단위로 잘라줄 수 있고 \\n 단위로 잘라줄 수 있다."
   ]
  },
  {
   "cell_type": "code",
   "execution_count": 22,
   "metadata": {
    "collapsed": true,
    "scrolled": true
   },
   "outputs": [],
   "source": [
    "for idx in range(len(new_df['infor'].values)):\n",
    "    if '\\n' not in new_df['infor'].values[idx].split('|')[0]:\n",
    "        print(idx)"
   ]
  },
  {
   "cell_type": "code",
   "execution_count": 23,
   "metadata": {},
   "outputs": [
    {
     "data": {
      "text/plain": [
       "True"
      ]
     },
     "execution_count": 23,
     "metadata": {},
     "output_type": "execute_result"
    }
   ],
   "source": [
    "new_title_ls = []\n",
    "for idx in range(len(new_df['infor'].values)):\n",
    "    testing_ls = new_df['infor'].values[idx].split('|')\n",
    "    new_title_ls.append([j for i in [i.split('\\n') for i in testing_ls] for j in i])\n",
    "len(new_title_ls) == len(new_df)"
   ]
  },
  {
   "cell_type": "markdown",
   "metadata": {},
   "source": [
    "### 튜닝한 데이터에 대해서 해당 프로세스의 새로운 데이터들을 넣어줄 새로운 데이터 프레임 tuned_df 를 만들어준다."
   ]
  },
  {
   "cell_type": "code",
   "execution_count": 24,
   "metadata": {},
   "outputs": [
    {
     "data": {
      "text/html": [
       "<div>\n",
       "<style>\n",
       "    .dataframe thead tr:only-child th {\n",
       "        text-align: right;\n",
       "    }\n",
       "\n",
       "    .dataframe thead th {\n",
       "        text-align: left;\n",
       "    }\n",
       "\n",
       "    .dataframe tbody tr th {\n",
       "        vertical-align: top;\n",
       "    }\n",
       "</style>\n",
       "<table border=\"1\" class=\"dataframe\">\n",
       "  <thead>\n",
       "    <tr style=\"text-align: right;\">\n",
       "      <th></th>\n",
       "      <th>title_bundle</th>\n",
       "    </tr>\n",
       "  </thead>\n",
       "  <tbody>\n",
       "    <tr>\n",
       "      <th>37242</th>\n",
       "      <td>[Corporate Diversification, Relatedness, and F...</td>\n",
       "    </tr>\n",
       "    <tr>\n",
       "      <th>37243</th>\n",
       "      <td>[Corporate Diversification, Relatedness, and F...</td>\n",
       "    </tr>\n",
       "    <tr>\n",
       "      <th>37244</th>\n",
       "      <td>[Corporate Diversification, Relatedness, and F...</td>\n",
       "    </tr>\n",
       "    <tr>\n",
       "      <th>37245</th>\n",
       "      <td>[Corporate Diversification, Relatedness, and F...</td>\n",
       "    </tr>\n",
       "    <tr>\n",
       "      <th>37246</th>\n",
       "      <td>[Corporate Diversification, Relatedness, and F...</td>\n",
       "    </tr>\n",
       "  </tbody>\n",
       "</table>\n",
       "</div>"
      ],
      "text/plain": [
       "                                            title_bundle\n",
       "37242  [Corporate Diversification, Relatedness, and F...\n",
       "37243  [Corporate Diversification, Relatedness, and F...\n",
       "37244  [Corporate Diversification, Relatedness, and F...\n",
       "37245  [Corporate Diversification, Relatedness, and F...\n",
       "37246  [Corporate Diversification, Relatedness, and F..."
      ]
     },
     "execution_count": 24,
     "metadata": {},
     "output_type": "execute_result"
    }
   ],
   "source": [
    "tuned_df = pd.DataFrame()\n",
    "tuned_df['title_bundle'] = new_title_ls\n",
    "tuned_df.tail()"
   ]
  },
  {
   "cell_type": "markdown",
   "metadata": {},
   "source": [
    "### 리스트의 첫 번째 엘리먼트가 항상 논문의 이름인지 확인하는 프로세스가 필요해 보인다."
   ]
  },
  {
   "cell_type": "code",
   "execution_count": 25,
   "metadata": {},
   "outputs": [
    {
     "data": {
      "text/plain": [
       "['발생액 이상현상과 차익거래기회에 관한 연구',\n",
       " '고봉찬 ',\n",
       " ' 김진우 ',\n",
       " ' 한국증권학회 ',\n",
       " ' 한국증권학회지 ',\n",
       " ' 38(1) ',\n",
       " ' pp.77~105 ',\n",
       " ' 2009.03 ',\n",
       " ' 경영학',\n",
       " '피인용횟수 : 13']"
      ]
     },
     "execution_count": 25,
     "metadata": {},
     "output_type": "execute_result"
    }
   ],
   "source": [
    "tuned_df['title_bundle'].values[0]"
   ]
  },
  {
   "cell_type": "markdown",
   "metadata": {},
   "source": [
    "#### 이름이 넉넉잡아 5글자 이내라고 가정, 검사해본다."
   ]
  },
  {
   "cell_type": "code",
   "execution_count": 26,
   "metadata": {
    "collapsed": true
   },
   "outputs": [],
   "source": [
    "for paper in tuned_df['title_bundle'].values:\n",
    "    if len(paper[0]) <= 5 : \n",
    "        print(paper)\n",
    "        \n",
    "# 없으므로 naive 하지만, 각 리스트의 첫 번째 엘리먼트는 페이퍼 이름인 것을 확인할 수 있다."
   ]
  },
  {
   "cell_type": "markdown",
   "metadata": {},
   "source": [
    "### paper name 파싱! "
   ]
  },
  {
   "cell_type": "code",
   "execution_count": 27,
   "metadata": {},
   "outputs": [
    {
     "data": {
      "text/html": [
       "<div>\n",
       "<style>\n",
       "    .dataframe thead tr:only-child th {\n",
       "        text-align: right;\n",
       "    }\n",
       "\n",
       "    .dataframe thead th {\n",
       "        text-align: left;\n",
       "    }\n",
       "\n",
       "    .dataframe tbody tr th {\n",
       "        vertical-align: top;\n",
       "    }\n",
       "</style>\n",
       "<table border=\"1\" class=\"dataframe\">\n",
       "  <thead>\n",
       "    <tr style=\"text-align: right;\">\n",
       "      <th></th>\n",
       "      <th>title_bundle</th>\n",
       "      <th>paper_name</th>\n",
       "    </tr>\n",
       "  </thead>\n",
       "  <tbody>\n",
       "    <tr>\n",
       "      <th>37242</th>\n",
       "      <td>[Corporate Diversification, Relatedness, and F...</td>\n",
       "      <td>Corporate Diversification, Relatedness, and Fi...</td>\n",
       "    </tr>\n",
       "    <tr>\n",
       "      <th>37243</th>\n",
       "      <td>[Corporate Diversification, Relatedness, and F...</td>\n",
       "      <td>Corporate Diversification, Relatedness, and Fi...</td>\n",
       "    </tr>\n",
       "    <tr>\n",
       "      <th>37244</th>\n",
       "      <td>[Corporate Diversification, Relatedness, and F...</td>\n",
       "      <td>Corporate Diversification, Relatedness, and Fi...</td>\n",
       "    </tr>\n",
       "    <tr>\n",
       "      <th>37245</th>\n",
       "      <td>[Corporate Diversification, Relatedness, and F...</td>\n",
       "      <td>Corporate Diversification, Relatedness, and Fi...</td>\n",
       "    </tr>\n",
       "    <tr>\n",
       "      <th>37246</th>\n",
       "      <td>[Corporate Diversification, Relatedness, and F...</td>\n",
       "      <td>Corporate Diversification, Relatedness, and Fi...</td>\n",
       "    </tr>\n",
       "  </tbody>\n",
       "</table>\n",
       "</div>"
      ],
      "text/plain": [
       "                                            title_bundle  \\\n",
       "37242  [Corporate Diversification, Relatedness, and F...   \n",
       "37243  [Corporate Diversification, Relatedness, and F...   \n",
       "37244  [Corporate Diversification, Relatedness, and F...   \n",
       "37245  [Corporate Diversification, Relatedness, and F...   \n",
       "37246  [Corporate Diversification, Relatedness, and F...   \n",
       "\n",
       "                                              paper_name  \n",
       "37242  Corporate Diversification, Relatedness, and Fi...  \n",
       "37243  Corporate Diversification, Relatedness, and Fi...  \n",
       "37244  Corporate Diversification, Relatedness, and Fi...  \n",
       "37245  Corporate Diversification, Relatedness, and Fi...  \n",
       "37246  Corporate Diversification, Relatedness, and Fi...  "
      ]
     },
     "execution_count": 27,
     "metadata": {},
     "output_type": "execute_result"
    }
   ],
   "source": [
    "tuned_df['paper_name'] = [i[0] for i in tuned_df['title_bundle'].values]\n",
    "tuned_df.tail()"
   ]
  },
  {
   "cell_type": "markdown",
   "metadata": {},
   "source": [
    "#### 리스트에서 두 번째부터 `한국증권학회` , `한국재무관리학회` , `한국파생상품학회` , `한국재무학회` 가 나오는 엘리먼트의 리스트 인덱스 전까지는 이름 즉, 저자이다."
   ]
  },
  {
   "cell_type": "code",
   "execution_count": 28,
   "metadata": {},
   "outputs": [
    {
     "data": {
      "text/plain": [
       "['발생액 이상현상과 차익거래기회에 관한 연구',\n",
       " '고봉찬 ',\n",
       " ' 김진우 ',\n",
       " ' 한국증권학회 ',\n",
       " ' 한국증권학회지 ',\n",
       " ' 38(1) ',\n",
       " ' pp.77~105 ',\n",
       " ' 2009.03 ',\n",
       " ' 경영학',\n",
       " '피인용횟수 : 13']"
      ]
     },
     "execution_count": 28,
     "metadata": {},
     "output_type": "execute_result"
    }
   ],
   "source": [
    "tuned_df['title_bundle'].values[0]"
   ]
  },
  {
   "cell_type": "markdown",
   "metadata": {},
   "source": [
    "##### 우선 한국증권학회 , 한국재무관리학회 , 한국파생상품학회 , 한국재무학회 가 나오는 인덱스를 찾는다."
   ]
  },
  {
   "cell_type": "code",
   "execution_count": 29,
   "metadata": {
    "collapsed": true
   },
   "outputs": [],
   "source": [
    "testing_ls = []\n",
    "for paper in tuned_df['title_bundle'].values : \n",
    "    for idx in range(len(paper)):\n",
    "        if re.findall('한국증권학회|한국재무관리학회|한국파생상품학회|한국재무학회',paper[idx]) : \n",
    "            testing_ls.append(idx)\n",
    "            break"
   ]
  },
  {
   "cell_type": "code",
   "execution_count": 30,
   "metadata": {
    "collapsed": true
   },
   "outputs": [],
   "source": [
    "institution_ls = []\n",
    "for idx in range(len(tuned_df['title_bundle'].values)):\n",
    "    institution_ls.append(tuned_df['title_bundle'].values[idx][testing_ls[idx]])"
   ]
  },
  {
   "cell_type": "code",
   "execution_count": 31,
   "metadata": {},
   "outputs": [
    {
     "data": {
      "text/plain": [
       "[' 한국증권학회 ', ' 한국증권학회 ']"
      ]
     },
     "execution_count": 31,
     "metadata": {},
     "output_type": "execute_result"
    }
   ],
   "source": [
    "institution_ls[-2:]"
   ]
  },
  {
   "cell_type": "code",
   "execution_count": 32,
   "metadata": {
    "collapsed": true
   },
   "outputs": [],
   "source": [
    "for i in institution_ls : \n",
    "    if not re.findall('한국증권학회|한국재무관리학회|한국파생상품학회|한국재무학회',i):\n",
    "        print(i)\n",
    "\n",
    "# 아무것도 출력되지 않으므로 institution_ls 에는 발행기관명만 있다는 것을 알 수 있다."
   ]
  },
  {
   "cell_type": "code",
   "execution_count": 33,
   "metadata": {
    "collapsed": true
   },
   "outputs": [],
   "source": [
    "tuned_df['institution'] = institution_ls"
   ]
  },
  {
   "cell_type": "markdown",
   "metadata": {},
   "source": [
    "### 이번에는 이름을 해본다. 이름은 두번째 요소부터 발행기관명 사이의 엘리먼트이다. 발행기관명의 인덱스는 testing_ls에 넣어두었다."
   ]
  },
  {
   "cell_type": "code",
   "execution_count": 34,
   "metadata": {
    "collapsed": true
   },
   "outputs": [],
   "source": [
    "name_ls = []\n",
    "for idx,val in enumerate(tuned_df['title_bundle']):\n",
    "    name_ls.append(val[1:testing_ls[idx]])\n",
    "name_ls = [','.join(i) for i in name_ls]\n",
    "# 리스트를 문자열 형식으로 바꿔준다."
   ]
  },
  {
   "cell_type": "code",
   "execution_count": 35,
   "metadata": {
    "collapsed": true
   },
   "outputs": [],
   "source": [
    "tuned_df['author'] = name_ls"
   ]
  },
  {
   "cell_type": "markdown",
   "metadata": {},
   "source": [
    "### 이번에는 저널명이다 testing_ls에서 1을 더해준다."
   ]
  },
  {
   "cell_type": "code",
   "execution_count": 36,
   "metadata": {
    "collapsed": true
   },
   "outputs": [],
   "source": [
    "journal_ls = []\n",
    "for idx,val in enumerate(tuned_df['title_bundle']):\n",
    "    journal_ls.append(val[testing_ls[idx]+1])"
   ]
  },
  {
   "cell_type": "code",
   "execution_count": 37,
   "metadata": {
    "collapsed": true
   },
   "outputs": [],
   "source": [
    "tuned_df['journal'] = journal_ls"
   ]
  },
  {
   "cell_type": "markdown",
   "metadata": {},
   "source": [
    "#### 나머지 4개의 요소를 보게 되면, 33(1)는 무엇인지 모르겠고 나머지는 각각 페이지 수와, 논문 발행 년도 , 논문의 분야 카테고리 , 마지막으로 피인용횟수가 되겠다. 각각 분배해주자."
   ]
  },
  {
   "cell_type": "code",
   "execution_count": 38,
   "metadata": {},
   "outputs": [
    {
     "data": {
      "text/plain": [
       "['프로그램매매 중단장치가 주식시장의 정보비대칭에 미치는 영향',\n",
       " '박종원 ',\n",
       " ' 이우백 ',\n",
       " ' 권택호 ',\n",
       " ' 한국증권학회 ',\n",
       " ' 한국증권학회지 ',\n",
       " ' 38(3) ',\n",
       " ' pp.325~369 ',\n",
       " ' 2009.09 ',\n",
       " ' 경영학',\n",
       " '피인용횟수 : 7']"
      ]
     },
     "execution_count": 38,
     "metadata": {},
     "output_type": "execute_result"
    }
   ],
   "source": [
    "tuned_df['title_bundle'].values[100]"
   ]
  },
  {
   "cell_type": "markdown",
   "metadata": {},
   "source": [
    "### 뭔지 모르겠지만 넣어준다."
   ]
  },
  {
   "cell_type": "code",
   "execution_count": 39,
   "metadata": {
    "collapsed": true
   },
   "outputs": [],
   "source": [
    "dont_know_ls = []\n",
    "for idx,val in enumerate(tuned_df['title_bundle']):\n",
    "    dont_know_ls.append(val[-5])\n",
    "\n",
    "tuned_df['dont_know'] = dont_know_ls"
   ]
  },
  {
   "cell_type": "code",
   "execution_count": 40,
   "metadata": {},
   "outputs": [
    {
     "data": {
      "text/plain": [
       "' 38(3) '"
      ]
     },
     "execution_count": 40,
     "metadata": {},
     "output_type": "execute_result"
    }
   ],
   "source": [
    "dont_know_ls[100]"
   ]
  },
  {
   "cell_type": "code",
   "execution_count": 41,
   "metadata": {},
   "outputs": [
    {
     "data": {
      "text/plain": [
       "[]"
      ]
     },
     "execution_count": 41,
     "metadata": {},
     "output_type": "execute_result"
    }
   ],
   "source": [
    "[i for i in dont_know_ls if not re.findall(' [0-9]{2}\\(.*\\)',i)]"
   ]
  },
  {
   "cell_type": "markdown",
   "metadata": {},
   "source": [
    "### 페이지 수"
   ]
  },
  {
   "cell_type": "code",
   "execution_count": 42,
   "metadata": {
    "collapsed": true
   },
   "outputs": [],
   "source": [
    "page_ls = []\n",
    "for idx,val in enumerate(tuned_df['title_bundle']):\n",
    "    page_ls.append(val[-4])\n",
    "\n",
    "tuned_df['page'] = page_ls"
   ]
  },
  {
   "cell_type": "code",
   "execution_count": 43,
   "metadata": {},
   "outputs": [
    {
     "data": {
      "text/plain": [
       "[]"
      ]
     },
     "execution_count": 43,
     "metadata": {},
     "output_type": "execute_result"
    }
   ],
   "source": [
    "[i for i in page_ls if not re.findall(' pp.',i)]"
   ]
  },
  {
   "cell_type": "markdown",
   "metadata": {},
   "source": [
    "### 발행 시점"
   ]
  },
  {
   "cell_type": "code",
   "execution_count": 44,
   "metadata": {
    "collapsed": true
   },
   "outputs": [],
   "source": [
    "year_ls = []\n",
    "for idx,val in enumerate(tuned_df['title_bundle']):\n",
    "    year_ls.append(val[-3])\n",
    "\n",
    "tuned_df['year'] = year_ls"
   ]
  },
  {
   "cell_type": "code",
   "execution_count": 45,
   "metadata": {},
   "outputs": [
    {
     "data": {
      "text/plain": [
       "[]"
      ]
     },
     "execution_count": 45,
     "metadata": {},
     "output_type": "execute_result"
    }
   ],
   "source": [
    "[i for i in year_ls if not re.findall(' 20',i)]"
   ]
  },
  {
   "cell_type": "markdown",
   "metadata": {},
   "source": [
    "### 논문 분야"
   ]
  },
  {
   "cell_type": "code",
   "execution_count": 46,
   "metadata": {
    "collapsed": true
   },
   "outputs": [],
   "source": [
    "field_ls = []\n",
    "for idx,val in enumerate(tuned_df['title_bundle']):\n",
    "    field_ls.append(val[-2])\n",
    "\n",
    "tuned_df['field'] = field_ls"
   ]
  },
  {
   "cell_type": "code",
   "execution_count": 47,
   "metadata": {},
   "outputs": [
    {
     "data": {
      "text/plain": [
       "[]"
      ]
     },
     "execution_count": 47,
     "metadata": {},
     "output_type": "execute_result"
    }
   ],
   "source": [
    "[i for i in field_ls if not re.findall('경영학',i)]"
   ]
  },
  {
   "cell_type": "markdown",
   "metadata": {},
   "source": [
    "### 피인용 횟수"
   ]
  },
  {
   "cell_type": "code",
   "execution_count": 48,
   "metadata": {
    "collapsed": true
   },
   "outputs": [],
   "source": [
    "cited_ls = []\n",
    "for idx,val in enumerate(tuned_df['title_bundle']):\n",
    "    cited_ls.append(val[-1])\n",
    "\n",
    "tuned_df['cited'] = cited_ls"
   ]
  },
  {
   "cell_type": "code",
   "execution_count": 49,
   "metadata": {},
   "outputs": [
    {
     "data": {
      "text/plain": [
       "[]"
      ]
     },
     "execution_count": 49,
     "metadata": {},
     "output_type": "execute_result"
    }
   ],
   "source": [
    "[i for i in cited_ls if not re.findall('피인용횟수',i)]"
   ]
  },
  {
   "cell_type": "markdown",
   "metadata": {},
   "source": [
    "# 이렇게 해서 기존 new_df 라는 데이터 프레임에서 infor 컬럼의 튜닝을 끝냈다."
   ]
  },
  {
   "cell_type": "code",
   "execution_count": 50,
   "metadata": {},
   "outputs": [
    {
     "data": {
      "text/html": [
       "<div>\n",
       "<style>\n",
       "    .dataframe thead tr:only-child th {\n",
       "        text-align: right;\n",
       "    }\n",
       "\n",
       "    .dataframe thead th {\n",
       "        text-align: left;\n",
       "    }\n",
       "\n",
       "    .dataframe tbody tr th {\n",
       "        vertical-align: top;\n",
       "    }\n",
       "</style>\n",
       "<table border=\"1\" class=\"dataframe\">\n",
       "  <thead>\n",
       "    <tr style=\"text-align: right;\">\n",
       "      <th></th>\n",
       "      <th>paper_name</th>\n",
       "      <th>institution</th>\n",
       "      <th>author</th>\n",
       "      <th>journal</th>\n",
       "      <th>dont_know</th>\n",
       "      <th>page</th>\n",
       "      <th>year</th>\n",
       "      <th>field</th>\n",
       "      <th>cited</th>\n",
       "    </tr>\n",
       "  </thead>\n",
       "  <tbody>\n",
       "    <tr>\n",
       "      <th>37242</th>\n",
       "      <td>Corporate Diversification, Relatedness, and Fi...</td>\n",
       "      <td>한국증권학회</td>\n",
       "      <td>배성철 , 권택호 , 이장우</td>\n",
       "      <td>Asia-Pacific Journal of Financial Studies</td>\n",
       "      <td>37(6)</td>\n",
       "      <td>pp.1025~1064</td>\n",
       "      <td>2008.12</td>\n",
       "      <td>경영학</td>\n",
       "      <td>피인용횟수 : 20</td>\n",
       "    </tr>\n",
       "    <tr>\n",
       "      <th>37243</th>\n",
       "      <td>Corporate Diversification, Relatedness, and Fi...</td>\n",
       "      <td>한국증권학회</td>\n",
       "      <td>배성철 , 권택호 , 이장우</td>\n",
       "      <td>Asia-Pacific Journal of Financial Studies</td>\n",
       "      <td>37(6)</td>\n",
       "      <td>pp.1025~1064</td>\n",
       "      <td>2008.12</td>\n",
       "      <td>경영학</td>\n",
       "      <td>피인용횟수 : 20</td>\n",
       "    </tr>\n",
       "    <tr>\n",
       "      <th>37244</th>\n",
       "      <td>Corporate Diversification, Relatedness, and Fi...</td>\n",
       "      <td>한국증권학회</td>\n",
       "      <td>배성철 , 권택호 , 이장우</td>\n",
       "      <td>Asia-Pacific Journal of Financial Studies</td>\n",
       "      <td>37(6)</td>\n",
       "      <td>pp.1025~1064</td>\n",
       "      <td>2008.12</td>\n",
       "      <td>경영학</td>\n",
       "      <td>피인용횟수 : 20</td>\n",
       "    </tr>\n",
       "    <tr>\n",
       "      <th>37245</th>\n",
       "      <td>Corporate Diversification, Relatedness, and Fi...</td>\n",
       "      <td>한국증권학회</td>\n",
       "      <td>배성철 , 권택호 , 이장우</td>\n",
       "      <td>Asia-Pacific Journal of Financial Studies</td>\n",
       "      <td>37(6)</td>\n",
       "      <td>pp.1025~1064</td>\n",
       "      <td>2008.12</td>\n",
       "      <td>경영학</td>\n",
       "      <td>피인용횟수 : 20</td>\n",
       "    </tr>\n",
       "    <tr>\n",
       "      <th>37246</th>\n",
       "      <td>Corporate Diversification, Relatedness, and Fi...</td>\n",
       "      <td>한국증권학회</td>\n",
       "      <td>배성철 , 권택호 , 이장우</td>\n",
       "      <td>Asia-Pacific Journal of Financial Studies</td>\n",
       "      <td>37(6)</td>\n",
       "      <td>pp.1025~1064</td>\n",
       "      <td>2008.12</td>\n",
       "      <td>경영학</td>\n",
       "      <td>피인용횟수 : 20</td>\n",
       "    </tr>\n",
       "  </tbody>\n",
       "</table>\n",
       "</div>"
      ],
      "text/plain": [
       "                                              paper_name institution  \\\n",
       "37242  Corporate Diversification, Relatedness, and Fi...     한국증권학회    \n",
       "37243  Corporate Diversification, Relatedness, and Fi...     한국증권학회    \n",
       "37244  Corporate Diversification, Relatedness, and Fi...     한국증권학회    \n",
       "37245  Corporate Diversification, Relatedness, and Fi...     한국증권학회    \n",
       "37246  Corporate Diversification, Relatedness, and Fi...     한국증권학회    \n",
       "\n",
       "                 author                                      journal  \\\n",
       "37242  배성철 , 권택호 , 이장우    Asia-Pacific Journal of Financial Studies    \n",
       "37243  배성철 , 권택호 , 이장우    Asia-Pacific Journal of Financial Studies    \n",
       "37244  배성철 , 권택호 , 이장우    Asia-Pacific Journal of Financial Studies    \n",
       "37245  배성철 , 권택호 , 이장우    Asia-Pacific Journal of Financial Studies    \n",
       "37246  배성철 , 권택호 , 이장우    Asia-Pacific Journal of Financial Studies    \n",
       "\n",
       "      dont_know            page       year field       cited  \n",
       "37242    37(6)    pp.1025~1064    2008.12    경영학  피인용횟수 : 20  \n",
       "37243    37(6)    pp.1025~1064    2008.12    경영학  피인용횟수 : 20  \n",
       "37244    37(6)    pp.1025~1064    2008.12    경영학  피인용횟수 : 20  \n",
       "37245    37(6)    pp.1025~1064    2008.12    경영학  피인용횟수 : 20  \n",
       "37246    37(6)    pp.1025~1064    2008.12    경영학  피인용횟수 : 20  "
      ]
     },
     "execution_count": 50,
     "metadata": {},
     "output_type": "execute_result"
    }
   ],
   "source": [
    "final_tuned_df = tuned_df.iloc[:,1:]\n",
    "final_tuned_df.tail()"
   ]
  },
  {
   "cell_type": "code",
   "execution_count": 51,
   "metadata": {},
   "outputs": [
    {
     "data": {
      "text/html": [
       "<div>\n",
       "<style>\n",
       "    .dataframe thead tr:only-child th {\n",
       "        text-align: right;\n",
       "    }\n",
       "\n",
       "    .dataframe thead th {\n",
       "        text-align: left;\n",
       "    }\n",
       "\n",
       "    .dataframe tbody tr th {\n",
       "        vertical-align: top;\n",
       "    }\n",
       "</style>\n",
       "<table border=\"1\" class=\"dataframe\">\n",
       "  <thead>\n",
       "    <tr style=\"text-align: right;\">\n",
       "      <th></th>\n",
       "      <th>paper_name</th>\n",
       "      <th>institution</th>\n",
       "      <th>author</th>\n",
       "      <th>journal</th>\n",
       "      <th>dont_know</th>\n",
       "      <th>page</th>\n",
       "      <th>year</th>\n",
       "      <th>field</th>\n",
       "      <th>cited</th>\n",
       "    </tr>\n",
       "  </thead>\n",
       "  <tbody>\n",
       "    <tr>\n",
       "      <th>0</th>\n",
       "      <td>발생액 이상현상과 차익거래기회에 관한 연구</td>\n",
       "      <td>한국증권학회</td>\n",
       "      <td>고봉찬 , 김진우</td>\n",
       "      <td>한국증권학회지</td>\n",
       "      <td>38(1)</td>\n",
       "      <td>pp.77~105</td>\n",
       "      <td>2009.03</td>\n",
       "      <td>경영학</td>\n",
       "      <td>피인용횟수 : 13</td>\n",
       "    </tr>\n",
       "    <tr>\n",
       "      <th>1</th>\n",
       "      <td>발생액 이상현상과 차익거래기회에 관한 연구</td>\n",
       "      <td>한국증권학회</td>\n",
       "      <td>고봉찬 , 김진우</td>\n",
       "      <td>한국증권학회지</td>\n",
       "      <td>38(1)</td>\n",
       "      <td>pp.77~105</td>\n",
       "      <td>2009.03</td>\n",
       "      <td>경영학</td>\n",
       "      <td>피인용횟수 : 13</td>\n",
       "    </tr>\n",
       "    <tr>\n",
       "      <th>2</th>\n",
       "      <td>발생액 이상현상과 차익거래기회에 관한 연구</td>\n",
       "      <td>한국증권학회</td>\n",
       "      <td>고봉찬 , 김진우</td>\n",
       "      <td>한국증권학회지</td>\n",
       "      <td>38(1)</td>\n",
       "      <td>pp.77~105</td>\n",
       "      <td>2009.03</td>\n",
       "      <td>경영학</td>\n",
       "      <td>피인용횟수 : 13</td>\n",
       "    </tr>\n",
       "    <tr>\n",
       "      <th>3</th>\n",
       "      <td>발생액 이상현상과 차익거래기회에 관한 연구</td>\n",
       "      <td>한국증권학회</td>\n",
       "      <td>고봉찬 , 김진우</td>\n",
       "      <td>한국증권학회지</td>\n",
       "      <td>38(1)</td>\n",
       "      <td>pp.77~105</td>\n",
       "      <td>2009.03</td>\n",
       "      <td>경영학</td>\n",
       "      <td>피인용횟수 : 13</td>\n",
       "    </tr>\n",
       "    <tr>\n",
       "      <th>4</th>\n",
       "      <td>발생액 이상현상과 차익거래기회에 관한 연구</td>\n",
       "      <td>한국증권학회</td>\n",
       "      <td>고봉찬 , 김진우</td>\n",
       "      <td>한국증권학회지</td>\n",
       "      <td>38(1)</td>\n",
       "      <td>pp.77~105</td>\n",
       "      <td>2009.03</td>\n",
       "      <td>경영학</td>\n",
       "      <td>피인용횟수 : 13</td>\n",
       "    </tr>\n",
       "  </tbody>\n",
       "</table>\n",
       "</div>"
      ],
      "text/plain": [
       "                paper_name institution      author    journal dont_know  \\\n",
       "0  발생액 이상현상과 차익거래기회에 관한 연구     한국증권학회   고봉찬 , 김진우    한국증권학회지     38(1)    \n",
       "1  발생액 이상현상과 차익거래기회에 관한 연구     한국증권학회   고봉찬 , 김진우    한국증권학회지     38(1)    \n",
       "2  발생액 이상현상과 차익거래기회에 관한 연구     한국증권학회   고봉찬 , 김진우    한국증권학회지     38(1)    \n",
       "3  발생액 이상현상과 차익거래기회에 관한 연구     한국증권학회   고봉찬 , 김진우    한국증권학회지     38(1)    \n",
       "4  발생액 이상현상과 차익거래기회에 관한 연구     한국증권학회   고봉찬 , 김진우    한국증권학회지     38(1)    \n",
       "\n",
       "          page       year field       cited  \n",
       "0   pp.77~105    2009.03    경영학  피인용횟수 : 13  \n",
       "1   pp.77~105    2009.03    경영학  피인용횟수 : 13  \n",
       "2   pp.77~105    2009.03    경영학  피인용횟수 : 13  \n",
       "3   pp.77~105    2009.03    경영학  피인용횟수 : 13  \n",
       "4   pp.77~105    2009.03    경영학  피인용횟수 : 13  "
      ]
     },
     "execution_count": 51,
     "metadata": {},
     "output_type": "execute_result"
    }
   ],
   "source": [
    "final_tuned_df.head()"
   ]
  },
  {
   "cell_type": "code",
   "execution_count": 52,
   "metadata": {
    "collapsed": true
   },
   "outputs": [],
   "source": [
    "final_tuned_df.to_csv('tuned_dataframe_infor.csv',index=False)"
   ]
  },
  {
   "cell_type": "markdown",
   "metadata": {},
   "source": [
    "# 이번엔 refer 컬럼에 대한 튜닝을 해보자."
   ]
  },
  {
   "cell_type": "markdown",
   "metadata": {},
   "source": [
    "우선 / 로 split 이 가능해 보인다."
   ]
  },
  {
   "cell_type": "code",
   "execution_count": 7,
   "metadata": {},
   "outputs": [
    {
     "data": {
      "text/html": [
       "<div>\n",
       "<style scoped>\n",
       "    .dataframe tbody tr th:only-of-type {\n",
       "        vertical-align: middle;\n",
       "    }\n",
       "\n",
       "    .dataframe tbody tr th {\n",
       "        vertical-align: top;\n",
       "    }\n",
       "\n",
       "    .dataframe thead th {\n",
       "        text-align: right;\n",
       "    }\n",
       "</style>\n",
       "<table border=\"1\" class=\"dataframe\">\n",
       "  <thead>\n",
       "    <tr style=\"text-align: right;\">\n",
       "      <th></th>\n",
       "      <th>citing_paper_name</th>\n",
       "      <th>citing_paper_journal</th>\n",
       "      <th>citing_paper_year</th>\n",
       "      <th>cited_list</th>\n",
       "      <th>boolean</th>\n",
       "    </tr>\n",
       "  </thead>\n",
       "  <tbody>\n",
       "    <tr>\n",
       "      <th>37156</th>\n",
       "      <td>합병기업의 주식매수청구권 행사결정요인과 장기성과</td>\n",
       "      <td>재무관리연구</td>\n",
       "      <td>2013.0</td>\n",
       "      <td>[학술지(정기간행물)] - Ma, Q. / 2011 / Value, Valuatio...</td>\n",
       "      <td>True</td>\n",
       "    </tr>\n",
       "    <tr>\n",
       "      <th>37157</th>\n",
       "      <td>합병기업의 주식매수청구권 행사결정요인과 장기성과</td>\n",
       "      <td>재무관리연구</td>\n",
       "      <td>2013.0</td>\n",
       "      <td>[학술지(정기간행물)] - Rhodes-Kropf, M. / 2004 / Marke...</td>\n",
       "      <td>True</td>\n",
       "    </tr>\n",
       "    <tr>\n",
       "      <th>37158</th>\n",
       "      <td>합병기업의 주식매수청구권 행사결정요인과 장기성과</td>\n",
       "      <td>재무관리연구</td>\n",
       "      <td>2013.0</td>\n",
       "      <td>[학술지(정기간행물)] - Shleifer, A. / 2003 / Stock Mar...</td>\n",
       "      <td>True</td>\n",
       "    </tr>\n",
       "    <tr>\n",
       "      <th>37159</th>\n",
       "      <td>합병기업의 주식매수청구권 행사결정요인과 장기성과</td>\n",
       "      <td>재무관리연구</td>\n",
       "      <td>2013.0</td>\n",
       "      <td>[학술지(정기간행물)] - Wertheimer, B. M. / 1998 / The ...</td>\n",
       "      <td>True</td>\n",
       "    </tr>\n",
       "    <tr>\n",
       "      <th>37160</th>\n",
       "      <td>합병기업의 주식매수청구권 행사결정요인과 장기성과</td>\n",
       "      <td>재무관리연구</td>\n",
       "      <td>2013.0</td>\n",
       "      <td>[학술지(정기간행물)] - Yee, K. K. / 2004 / Combining V...</td>\n",
       "      <td>True</td>\n",
       "    </tr>\n",
       "  </tbody>\n",
       "</table>\n",
       "</div>"
      ],
      "text/plain": [
       "                citing_paper_name citing_paper_journal  citing_paper_year  \\\n",
       "37156  합병기업의 주식매수청구권 행사결정요인과 장기성과               재무관리연구             2013.0   \n",
       "37157  합병기업의 주식매수청구권 행사결정요인과 장기성과               재무관리연구             2013.0   \n",
       "37158  합병기업의 주식매수청구권 행사결정요인과 장기성과               재무관리연구             2013.0   \n",
       "37159  합병기업의 주식매수청구권 행사결정요인과 장기성과               재무관리연구             2013.0   \n",
       "37160  합병기업의 주식매수청구권 행사결정요인과 장기성과               재무관리연구             2013.0   \n",
       "\n",
       "                                              cited_list  boolean  \n",
       "37156  [학술지(정기간행물)] - Ma, Q. / 2011 / Value, Valuatio...     True  \n",
       "37157  [학술지(정기간행물)] - Rhodes-Kropf, M. / 2004 / Marke...     True  \n",
       "37158  [학술지(정기간행물)] - Shleifer, A. / 2003 / Stock Mar...     True  \n",
       "37159  [학술지(정기간행물)] - Wertheimer, B. M. / 1998 / The ...     True  \n",
       "37160  [학술지(정기간행물)] - Yee, K. K. / 2004 / Combining V...     True  "
      ]
     },
     "execution_count": 7,
     "metadata": {},
     "output_type": "execute_result"
    }
   ],
   "source": [
    "new_df.tail()"
   ]
  },
  {
   "cell_type": "code",
   "execution_count": 8,
   "metadata": {},
   "outputs": [
    {
     "data": {
      "text/html": [
       "<div>\n",
       "<style scoped>\n",
       "    .dataframe tbody tr th:only-of-type {\n",
       "        vertical-align: middle;\n",
       "    }\n",
       "\n",
       "    .dataframe tbody tr th {\n",
       "        vertical-align: top;\n",
       "    }\n",
       "\n",
       "    .dataframe thead th {\n",
       "        text-align: right;\n",
       "    }\n",
       "</style>\n",
       "<table border=\"1\" class=\"dataframe\">\n",
       "  <thead>\n",
       "    <tr style=\"text-align: right;\">\n",
       "      <th></th>\n",
       "      <th>citing_paper_name</th>\n",
       "      <th>citing_paper_journal</th>\n",
       "      <th>citing_paper_year</th>\n",
       "      <th>refer</th>\n",
       "      <th>boolean</th>\n",
       "    </tr>\n",
       "  </thead>\n",
       "  <tbody>\n",
       "    <tr>\n",
       "      <th>37156</th>\n",
       "      <td>합병기업의 주식매수청구권 행사결정요인과 장기성과</td>\n",
       "      <td>재무관리연구</td>\n",
       "      <td>2013.0</td>\n",
       "      <td>[학술지(정기간행물)] - Ma, Q. / 2011 / Value, Valuatio...</td>\n",
       "      <td>True</td>\n",
       "    </tr>\n",
       "    <tr>\n",
       "      <th>37157</th>\n",
       "      <td>합병기업의 주식매수청구권 행사결정요인과 장기성과</td>\n",
       "      <td>재무관리연구</td>\n",
       "      <td>2013.0</td>\n",
       "      <td>[학술지(정기간행물)] - Rhodes-Kropf, M. / 2004 / Marke...</td>\n",
       "      <td>True</td>\n",
       "    </tr>\n",
       "    <tr>\n",
       "      <th>37158</th>\n",
       "      <td>합병기업의 주식매수청구권 행사결정요인과 장기성과</td>\n",
       "      <td>재무관리연구</td>\n",
       "      <td>2013.0</td>\n",
       "      <td>[학술지(정기간행물)] - Shleifer, A. / 2003 / Stock Mar...</td>\n",
       "      <td>True</td>\n",
       "    </tr>\n",
       "    <tr>\n",
       "      <th>37159</th>\n",
       "      <td>합병기업의 주식매수청구권 행사결정요인과 장기성과</td>\n",
       "      <td>재무관리연구</td>\n",
       "      <td>2013.0</td>\n",
       "      <td>[학술지(정기간행물)] - Wertheimer, B. M. / 1998 / The ...</td>\n",
       "      <td>True</td>\n",
       "    </tr>\n",
       "    <tr>\n",
       "      <th>37160</th>\n",
       "      <td>합병기업의 주식매수청구권 행사결정요인과 장기성과</td>\n",
       "      <td>재무관리연구</td>\n",
       "      <td>2013.0</td>\n",
       "      <td>[학술지(정기간행물)] - Yee, K. K. / 2004 / Combining V...</td>\n",
       "      <td>True</td>\n",
       "    </tr>\n",
       "  </tbody>\n",
       "</table>\n",
       "</div>"
      ],
      "text/plain": [
       "                citing_paper_name citing_paper_journal  citing_paper_year  \\\n",
       "37156  합병기업의 주식매수청구권 행사결정요인과 장기성과               재무관리연구             2013.0   \n",
       "37157  합병기업의 주식매수청구권 행사결정요인과 장기성과               재무관리연구             2013.0   \n",
       "37158  합병기업의 주식매수청구권 행사결정요인과 장기성과               재무관리연구             2013.0   \n",
       "37159  합병기업의 주식매수청구권 행사결정요인과 장기성과               재무관리연구             2013.0   \n",
       "37160  합병기업의 주식매수청구권 행사결정요인과 장기성과               재무관리연구             2013.0   \n",
       "\n",
       "                                                   refer  boolean  \n",
       "37156  [학술지(정기간행물)] - Ma, Q. / 2011 / Value, Valuatio...     True  \n",
       "37157  [학술지(정기간행물)] - Rhodes-Kropf, M. / 2004 / Marke...     True  \n",
       "37158  [학술지(정기간행물)] - Shleifer, A. / 2003 / Stock Mar...     True  \n",
       "37159  [학술지(정기간행물)] - Wertheimer, B. M. / 1998 / The ...     True  \n",
       "37160  [학술지(정기간행물)] - Yee, K. K. / 2004 / Combining V...     True  "
      ]
     },
     "execution_count": 8,
     "metadata": {},
     "output_type": "execute_result"
    }
   ],
   "source": [
    "new_df.rename(columns={'cited_list':'refer'},inplace=True)\n",
    "new_df.tail()"
   ]
  },
  {
   "cell_type": "markdown",
   "metadata": {},
   "source": [
    "#### 참고문헌이 없어서 '0' 으로 등록되지 않은 리스트 중 첫 번째가   \"숫자. [학술지 형태] - \"  가 아닌 경우를 찾아본다."
   ]
  },
  {
   "cell_type": "code",
   "execution_count": 53,
   "metadata": {
    "scrolled": true
   },
   "outputs": [
    {
     "data": {
      "text/html": [
       "<div>\n",
       "<style>\n",
       "    .dataframe thead tr:only-child th {\n",
       "        text-align: right;\n",
       "    }\n",
       "\n",
       "    .dataframe thead th {\n",
       "        text-align: left;\n",
       "    }\n",
       "\n",
       "    .dataframe tbody tr th {\n",
       "        vertical-align: top;\n",
       "    }\n",
       "</style>\n",
       "<table border=\"1\" class=\"dataframe\">\n",
       "  <thead>\n",
       "    <tr style=\"text-align: right;\">\n",
       "      <th></th>\n",
       "      <th>infor</th>\n",
       "      <th>refer</th>\n",
       "    </tr>\n",
       "  </thead>\n",
       "  <tbody>\n",
       "    <tr>\n",
       "      <th>37242</th>\n",
       "      <td>Corporate Diversification, Relatedness, and Fi...</td>\n",
       "      <td>40. [기타자료] - Villalonga, Belen / 1999 / Does D...</td>\n",
       "    </tr>\n",
       "    <tr>\n",
       "      <th>37243</th>\n",
       "      <td>Corporate Diversification, Relatedness, and Fi...</td>\n",
       "      <td>41. [학술지(정기간행물)] - Villalonga, Belen / 2004 / ...</td>\n",
       "    </tr>\n",
       "    <tr>\n",
       "      <th>37244</th>\n",
       "      <td>Corporate Diversification, Relatedness, and Fi...</td>\n",
       "      <td>42. [학술지(정기간행물)] - Villalonga, Belen / 2004 / ...</td>\n",
       "    </tr>\n",
       "    <tr>\n",
       "      <th>37245</th>\n",
       "      <td>Corporate Diversification, Relatedness, and Fi...</td>\n",
       "      <td>43. [학술지(정기간행물)] - Weston, J. F / 1970 / The N...</td>\n",
       "    </tr>\n",
       "    <tr>\n",
       "      <th>37246</th>\n",
       "      <td>Corporate Diversification, Relatedness, and Fi...</td>\n",
       "      <td>44. [학술지(정기간행물)] - Whited, Toni M / 2001 / Is ...</td>\n",
       "    </tr>\n",
       "  </tbody>\n",
       "</table>\n",
       "</div>"
      ],
      "text/plain": [
       "                                                   infor  \\\n",
       "37242  Corporate Diversification, Relatedness, and Fi...   \n",
       "37243  Corporate Diversification, Relatedness, and Fi...   \n",
       "37244  Corporate Diversification, Relatedness, and Fi...   \n",
       "37245  Corporate Diversification, Relatedness, and Fi...   \n",
       "37246  Corporate Diversification, Relatedness, and Fi...   \n",
       "\n",
       "                                                   refer  \n",
       "37242  40. [기타자료] - Villalonga, Belen / 1999 / Does D...  \n",
       "37243  41. [학술지(정기간행물)] - Villalonga, Belen / 2004 / ...  \n",
       "37244  42. [학술지(정기간행물)] - Villalonga, Belen / 2004 / ...  \n",
       "37245  43. [학술지(정기간행물)] - Weston, J. F / 1970 / The N...  \n",
       "37246  44. [학술지(정기간행물)] - Whited, Toni M / 2001 / Is ...  "
      ]
     },
     "execution_count": 53,
     "metadata": {},
     "output_type": "execute_result"
    }
   ],
   "source": [
    "new_df.tail()"
   ]
  },
  {
   "cell_type": "code",
   "execution_count": 9,
   "metadata": {
    "scrolled": true
   },
   "outputs": [
    {
     "data": {
      "text/plain": [
       "True"
      ]
     },
     "execution_count": 9,
     "metadata": {},
     "output_type": "execute_result"
    }
   ],
   "source": [
    "new_refer_ls = []\n",
    "\n",
    "for idx in range(len(new_df['refer'].values)):\n",
    "    new_refer_ls.append(new_df['refer'].values[idx].split(' / '))\n",
    "len(new_refer_ls) == len(new_df)"
   ]
  },
  {
   "cell_type": "code",
   "execution_count": 10,
   "metadata": {},
   "outputs": [
    {
     "data": {
      "text/html": [
       "<div>\n",
       "<style scoped>\n",
       "    .dataframe tbody tr th:only-of-type {\n",
       "        vertical-align: middle;\n",
       "    }\n",
       "\n",
       "    .dataframe tbody tr th {\n",
       "        vertical-align: top;\n",
       "    }\n",
       "\n",
       "    .dataframe thead th {\n",
       "        text-align: right;\n",
       "    }\n",
       "</style>\n",
       "<table border=\"1\" class=\"dataframe\">\n",
       "  <thead>\n",
       "    <tr style=\"text-align: right;\">\n",
       "      <th></th>\n",
       "      <th>citing_paper_name</th>\n",
       "      <th>citing_paper_journal</th>\n",
       "      <th>citing_paper_year</th>\n",
       "      <th>refer</th>\n",
       "      <th>boolean</th>\n",
       "      <th>tuned_refer</th>\n",
       "    </tr>\n",
       "  </thead>\n",
       "  <tbody>\n",
       "    <tr>\n",
       "      <th>37156</th>\n",
       "      <td>합병기업의 주식매수청구권 행사결정요인과 장기성과</td>\n",
       "      <td>재무관리연구</td>\n",
       "      <td>2013.0</td>\n",
       "      <td>[학술지(정기간행물)] - Ma, Q. / 2011 / Value, Valuatio...</td>\n",
       "      <td>True</td>\n",
       "      <td>[[학술지(정기간행물)] - Ma, Q., 2011, Value, Valuation...</td>\n",
       "    </tr>\n",
       "    <tr>\n",
       "      <th>37157</th>\n",
       "      <td>합병기업의 주식매수청구권 행사결정요인과 장기성과</td>\n",
       "      <td>재무관리연구</td>\n",
       "      <td>2013.0</td>\n",
       "      <td>[학술지(정기간행물)] - Rhodes-Kropf, M. / 2004 / Marke...</td>\n",
       "      <td>True</td>\n",
       "      <td>[[학술지(정기간행물)] - Rhodes-Kropf, M., 2004, Market...</td>\n",
       "    </tr>\n",
       "    <tr>\n",
       "      <th>37158</th>\n",
       "      <td>합병기업의 주식매수청구권 행사결정요인과 장기성과</td>\n",
       "      <td>재무관리연구</td>\n",
       "      <td>2013.0</td>\n",
       "      <td>[학술지(정기간행물)] - Shleifer, A. / 2003 / Stock Mar...</td>\n",
       "      <td>True</td>\n",
       "      <td>[[학술지(정기간행물)] - Shleifer, A., 2003, Stock Mark...</td>\n",
       "    </tr>\n",
       "    <tr>\n",
       "      <th>37159</th>\n",
       "      <td>합병기업의 주식매수청구권 행사결정요인과 장기성과</td>\n",
       "      <td>재무관리연구</td>\n",
       "      <td>2013.0</td>\n",
       "      <td>[학술지(정기간행물)] - Wertheimer, B. M. / 1998 / The ...</td>\n",
       "      <td>True</td>\n",
       "      <td>[[학술지(정기간행물)] - Wertheimer, B. M., 1998, The S...</td>\n",
       "    </tr>\n",
       "    <tr>\n",
       "      <th>37160</th>\n",
       "      <td>합병기업의 주식매수청구권 행사결정요인과 장기성과</td>\n",
       "      <td>재무관리연구</td>\n",
       "      <td>2013.0</td>\n",
       "      <td>[학술지(정기간행물)] - Yee, K. K. / 2004 / Combining V...</td>\n",
       "      <td>True</td>\n",
       "      <td>[[학술지(정기간행물)] - Yee, K. K., 2004, Combining Va...</td>\n",
       "    </tr>\n",
       "  </tbody>\n",
       "</table>\n",
       "</div>"
      ],
      "text/plain": [
       "                citing_paper_name citing_paper_journal  citing_paper_year  \\\n",
       "37156  합병기업의 주식매수청구권 행사결정요인과 장기성과               재무관리연구             2013.0   \n",
       "37157  합병기업의 주식매수청구권 행사결정요인과 장기성과               재무관리연구             2013.0   \n",
       "37158  합병기업의 주식매수청구권 행사결정요인과 장기성과               재무관리연구             2013.0   \n",
       "37159  합병기업의 주식매수청구권 행사결정요인과 장기성과               재무관리연구             2013.0   \n",
       "37160  합병기업의 주식매수청구권 행사결정요인과 장기성과               재무관리연구             2013.0   \n",
       "\n",
       "                                                   refer  boolean  \\\n",
       "37156  [학술지(정기간행물)] - Ma, Q. / 2011 / Value, Valuatio...     True   \n",
       "37157  [학술지(정기간행물)] - Rhodes-Kropf, M. / 2004 / Marke...     True   \n",
       "37158  [학술지(정기간행물)] - Shleifer, A. / 2003 / Stock Mar...     True   \n",
       "37159  [학술지(정기간행물)] - Wertheimer, B. M. / 1998 / The ...     True   \n",
       "37160  [학술지(정기간행물)] - Yee, K. K. / 2004 / Combining V...     True   \n",
       "\n",
       "                                             tuned_refer  \n",
       "37156  [[학술지(정기간행물)] - Ma, Q., 2011, Value, Valuation...  \n",
       "37157  [[학술지(정기간행물)] - Rhodes-Kropf, M., 2004, Market...  \n",
       "37158  [[학술지(정기간행물)] - Shleifer, A., 2003, Stock Mark...  \n",
       "37159  [[학술지(정기간행물)] - Wertheimer, B. M., 1998, The S...  \n",
       "37160  [[학술지(정기간행물)] - Yee, K. K., 2004, Combining Va...  "
      ]
     },
     "execution_count": 10,
     "metadata": {},
     "output_type": "execute_result"
    }
   ],
   "source": [
    "new_df['tuned_refer'] = new_refer_ls\n",
    "new_df.tail()"
   ]
  },
  {
   "cell_type": "code",
   "execution_count": 11,
   "metadata": {},
   "outputs": [
    {
     "data": {
      "text/plain": [
       "['[학술지(정기간행물)] - 김명직', '2001', \"한국채권시장과 신용위험 (112)', '\"]"
      ]
     },
     "execution_count": 11,
     "metadata": {},
     "output_type": "execute_result"
    }
   ],
   "source": [
    "new_df['tuned_refer'][0]"
   ]
  },
  {
   "cell_type": "code",
   "execution_count": 17,
   "metadata": {},
   "outputs": [
    {
     "data": {
      "text/plain": [
       "Counter({3: 9163, 4: 27189, 2: 715, 5: 94})"
      ]
     },
     "execution_count": 17,
     "metadata": {},
     "output_type": "execute_result"
    }
   ],
   "source": [
    "set([len(i) for idx,i in enumerate(new_df['tuned_refer'])])\n",
    "Counter([len(i) for idx,i in enumerate(new_df['tuned_refer'])])"
   ]
  },
  {
   "cell_type": "code",
   "execution_count": 14,
   "metadata": {},
   "outputs": [],
   "source": [
    "for i in new_refer_ls : \n",
    "    if i[0] != '0' : \n",
    "        if not re.findall('\\[.+\\] -',i[0]) : \n",
    "            print(i)\n",
    "            \n",
    "# 없다. 참고문헌이 있는 리스트의 첫 번째 엘리먼트는 동일한 형태를 띄고 있음을 알 수 있다."
   ]
  },
  {
   "cell_type": "markdown",
   "metadata": {},
   "source": [
    "#### 참고문헌이 없어서 '0' 으로 등록되지 않은 리스트 중 두 번째가 년도의 형태가 아닌 경우를 찾아본다."
   ]
  },
  {
   "cell_type": "code",
   "execution_count": 15,
   "metadata": {},
   "outputs": [
    {
     "name": "stdout",
     "output_type": "stream",
     "text": [
      "['[학술지(정기간행물)] -', \"/ The Valuation of Corporation Liabilities as Compound Options Journal of Financial and Quantitative Analysis : 541 ~ 552', '\"]\n",
      "2\n",
      "['[학술지(정기간행물)] -', \"/ On the Pricing of Corporate Debt The Risk Structure of Interest Rates Journal of Finance : 559 ~ 470', '\"]\n",
      "2\n",
      "['[학술지(정기간행물)] - Platt', \"/ Credit Risk and Yield Differentials for High Yield Bonds Quarterly Journal of Business and Economics : 51 ~ 68', '\"]\n",
      "2\n",
      "['[학술지(정기간행물)] -', \"/ 유동발생의 예측오차와 감사인 유형에 따른 재량적 발생의 정보성 차이 29 (1) : 117 ~ 142', '\"]\n",
      "2\n",
      "['[학술지(정기간행물)] -', \"/ 기관투자자 및 외국인투자자가 경영자의 재량적 회계선택에 미치는 영향 12 (1) : 263 ~ 281', '\"]\n",
      "2\n",
      "['[학술지(정기간행물)] -', \"/ 2대주주의 소유지분과 이익조정', '\"]\n",
      "2\n",
      "['[학술지(정기간행물)] -', \"/ 경영자의 스톡옵션 소유가 자사주매입과 배당금지불의 선택에 미치는 영향 34 (1) : 35 ~ 61', '\"]\n",
      "2\n",
      "['[학술지(정기간행물)] -', \"/ 보상형 스톡옵션의 부여와 기업특성에 따른 이익조정패턴 34 (3) : 183 ~ 211', '\"]\n",
      "2\n",
      "['[학술지(정기간행물)] -', \"/ 2대주주의 소유지분과 이익조정 4 : 41 ~ 53', '\"]\n",
      "2\n",
      "['[학술지(정기간행물)] -', '19']\n",
      "2\n",
      "['[학술지(정기간행물)] -', '19']\n",
      "2\n",
      "['[학술지(정기간행물)] - Callen, J. L', '/ Domestic and Foreign Earnings, Stock Return Variability, and the Impact of Investor Sophistication', \"Journal of Accounting Research 43 : 377 ~ 412', '\"]\n",
      "3\n",
      "['[학술지(정기간행물)] - Kim, K', '/ Earnings Management Patterns in Response to Tax Rate Reductions', \"Korean Accounting Review 28 : 85 ~ 120', '\"]\n",
      "3\n",
      "['[학술지(정기간행물)] - Amihud, Yakov', '/ Liquidity and asset prices', \"Foundations and Trends in Finance 1 : 269 ~ 364', '\"]\n",
      "3\n",
      "['[학술지(정기간행물)] - Kyle, Albert S', '53', 'Continuous auctions and insider trading', \"Econometrica 53 : 1315 ~ 1335', '\"]\n",
      "4\n",
      "['[학술지(정기간행물)] -', \"/ An Examination of Long-Term Abnormal Stock Returns and Operating Performance Following R&D Increases : 623 ~ 650', '\"]\n",
      "2\n",
      "['[학술지(정기간행물)] -', \"/ Asymmetric Volatility and Risk in Equity Markets 13 (1) : 1 ~ 42', '\"]\n",
      "2\n",
      "['[학술지(정기간행물)] -', \"/ Asymmetric Long Memory Feature in the Volatility of Asian Stock Markets', '\"]\n",
      "2\n",
      "['[학술지(정기간행물)] - 김무성', \"/ 장래의 기초자산가격 확률밀도함수의 추계에 관한 연구 (4) : 3 ~ 15', '\"]\n",
      "2\n",
      "['[학술지(정기간행물)] -', \"/ Stealth Trading and Vol-atility: Which Trades Move Prices? 34 : 281 ~ 305', '\"]\n",
      "2\n",
      "['[학술지(정기간행물)] -', \"/ 거래 전 정보공개와 가격발견', '\"]\n",
      "2\n",
      "['[학술지(정기간행물)] - Madhavan', \"/ Consolidation, Fragmentation, and the D isclosure of Trading Information 8 : 579 ~ 603', '\"]\n",
      "2\n",
      "['[학술지(정기간행물)] - Madhavan', \"/ Security Prices and Market Transparency 5 : 255 ~ 283', '\"]\n",
      "2\n",
      "['[학술지(정기간행물)] -', \"/ 거래 전 정보공개와 가격발견'\"]\n",
      "2\n",
      "['[학술지(정기간행물)] -', '19']\n",
      "2\n",
      "['[학술지(정기간행물)] -', '4', \"Shareholder Preferences and Dividend Policy (45) : 993 ~ 1018', '\"]\n",
      "3\n",
      "['[학술지(정기간행물)] -', '4', \"Two Agency Cost Explanations of Dividends (74) : 650 ~ 659', '\"]\n",
      "3\n",
      "['[학술지(정기간행물)] - 강효석', \"/ 기업공개시 공모주 가격결정에 관한 연구 (3) : 157 ~ 176', '\"]\n",
      "2\n",
      "['[학술지(정기간행물)] - 김성민', \"/ 최초공모주시장에서 주간사회사의 정보생산역할에 관한 연구 (9) : 31 ~ 65', '\"]\n",
      "2\n",
      "['[학술지(정기간행물)] -', \"/ IPO 주식의 시장조성제도 부활이후 주간사회사의 공모가 산정행태 173'\"]\n",
      "2\n",
      "['[학술지(정기간행물)] -', \"/ 한국 주식시장에서의 역행투자성과에 관한 실증적 연구 16 (2) : 157 ~ 178', '\"]\n",
      "2\n",
      "['[학술지(정기간행물)] -', \"/ 기업규모와 장부가/시가 비율과 주식수익률의 관계 13 (2) : 21 ~ 47', '\"]\n",
      "2\n",
      "['[학술지(정기간행물)] -', \"/ 기본적변수, 거시경제요인, 기업특성적 위험과 주식수익률 16 (2) : 179 ~ 213', '\"]\n",
      "2\n",
      "['[학술지(정기간행물)] -', \"/ Components of bid/ask spread and determinants of limit ord er distribution', '\"]\n",
      "2\n",
      "['[학술지(정기간행물)] -', \"/ Review of Quantitative Finan ce and Accounting10 : 269 ~ 284', '\"]\n",
      "2\n",
      "['[학술지(정기간행물)] -', \"/ The Benefit of Lending R elationships The Journal of Finance 49 : 3 ~ 37', '\"]\n",
      "2\n",
      "['[학술지(정기간행물)] -', \"/ The long-run performance of initial public of ferings Journal of Fi-nance46 : 3 ~ 27', '\"]\n",
      "2\n",
      "['[학술지(정기간행물)] -', '/ Prices for State-Contingent Claims Journal of Business : 653 ~ 672\\', \"']\n",
      "2\n",
      "['[학술지(정기간행물)] -', \"/ Approximate Option Valuation for Arbitrary Stochastic Processes Journal of Financial Economics : 347 ~ 369', '\"]\n",
      "2\n",
      "['[학술지(정기간행물)] -', \"/ Analysts Use of Information about Perma-nent and Transitory Earnings Components in Forecasting Annual EPS 67 : 183 ~ 198', '\"]\n",
      "2\n",
      "['[학술지(정기간행물)] -', '19']\n",
      "2\n",
      "['[학술지(정기간행물)] -', \"/ Ohlson 모형에서의 ‘기타정보’의 역할 영업고정자산 신규투자를 중심으로', '\"]\n",
      "2\n",
      "['[학술지(정기간행물)] -', \"/ accounting report integrity and the cost of debt Journal of Accounting Economics 37 : 315 ~ 342', '\"]\n",
      "2\n",
      "['[학술지(정기간행물)] -', \"/ Corporate governance and the distribution of shareholder wealth Asia-Pacific Journal of Financial Studies 34 : 149 ~ 188', '\"]\n",
      "2\n",
      "['[학술지(정기간행물)] -', \"/ 외환시장의 미시적 정보를 이용한 원화환율 변동요인 분석 : 23 ~ 49', '\"]\n",
      "2\n",
      "['[학술지(정기간행물)] -', \"/ 변동환율제하에서 미시구조적 정보를 이용한 원/달러 환율의 예측가능성 분석 99 (08)', '\"]\n",
      "2\n",
      "['[학술지(정기간행물)] -', \"/ 원/달러 외환시장에서 거래집중도와 거래정보효과와의 관계', '\"]\n",
      "2\n",
      "['[학술지(정기간행물)] -', \"/ The Probability of Informed Trading and the Performance of Stock in an Order-Driven Market 894', '\"]\n",
      "2\n",
      "['[학술지(정기간행물)] -', \"/ The Probability of Informed Trading and the Performance of Stock in an Order-Driven Market 896', '\"]\n",
      "2\n",
      "['[학술지(정기간행물)] -', \"/ 한국기업의 해외기업 인수가 주주 부에 미치는 영향 23 (3) : 23 ~ 55', '\"]\n",
      "2\n",
      "['[학술지(정기간행물)] -', \"/ 한국주식시장에 적합한 사건연구방법론의 고안 14 (2) : 273 ~ 312', '\"]\n",
      "2\n",
      "['[학술지(정기간행물)] -', \"/ The Efficacy of Event-Study Methodologies: Measuring Ereit Ab-normal Performance under Conditions of Induced Variance 13 (1) : 101 ~ 112', '\"]\n",
      "2\n",
      "['[학술지(정기간행물)] - 문현주', '183-200', \"자기주식취득기업의 이익조정패턴', '\"]\n",
      "3\n",
      "['[학술지(정기간행물)] -', '/ \"주식재매입의 효과에 관한 실증적 연구\"\\', \\'']\n",
      "2\n",
      "['[학술지(정기간행물)] -', \"/ Corporate profitability and stock valuation in J apan : 40 ~ 55', '\"]\n",
      "2\n",
      "['[학술지(정기간행물)] -', \"/ Who s informed? An Analysis of Stock Owner-ship and Informed Trading', '\"]\n",
      "2\n",
      "['[학술지(정기간행물)] -', \"/ Variation in Tradi ng Volume, Return Volatility, and Trading Costs: Evidence on Recent Price Formati on Models 48 : 187 ~ 211', '\"]\n",
      "2\n",
      "['[학술지(정기간행물)] -', \"/ Estimating t he Components of the Bid/ask Spread 21 : 123 ~ 142', '\"]\n",
      "2\n",
      "['[학술지(정기간행물)] -', \"/ net worth : 14 ~ 31', '\"]\n",
      "2\n",
      "['[학술지(정기간행물)] -', '19']\n",
      "2\n",
      "['[학술지(정기간행물)] -', '19']\n",
      "2\n",
      "['[학술지(정기간행물)] -', \"/ 상장기업분석', '\"]\n",
      "2\n",
      "['[학술지(정기간행물)] -', '19']\n",
      "2\n",
      "['[학술지(정기간행물)] - Fomby', '19']\n",
      "2\n",
      "['[학술지(정기간행물)] - 정혜영', '합본6호', \"회계이익의 공시시점에서의 주가수익률분석과 거래량변동의 공통성에 관한 연구 : 133 ~ 150', '\"]\n",
      "3\n",
      "['[학술지(정기간행물)] -', \"/ The Valuation of Firm Comitment Underwriting Con-tracts for Seasoned New Equity Issues : 48 ~ 59', '\"]\n",
      "2\n",
      "['[학술지(정기간행물)] -', \"/ Asset pricing in illiquid markets Anderson School of Management University of California at Los Angeles.', '\"]\n",
      "2\n",
      "['[학술지(정기간행물)] - Myers, S. C', '/ The capital structure puzzle', \"Journal of Finance 39 : 575 ~ 592', '\"]\n",
      "3\n",
      "['[학술지(정기간행물)] -', \"/ 주식대차에 의한 공매 동기와 수익률'\"]\n",
      "2\n",
      "['[학술지(정기간행물)] -', \"/ Performance of Technology Sector Funds over Turbulent Market Periods', '\"]\n",
      "2\n",
      "['[학술지(정기간행물)] -', \"/ formance II. Statistical procedures for evaluation forecasting skills 54 : 513 ~ 553', '\"]\n",
      "2\n",
      "['[학술지(정기간행물)] -', \"/ 한국주식시장에서 투명성과 질적 수준과의 관계 호가공개범위 확대를 중심으로 재무연구 Translated in English The Efect of Ex-panding Publicly Available Quote Disclosure on Korean Stock Mar kets Ko-rea Journal of Finance18 : 157 157 ~ 198 198', '\"]\n",
      "2\n",
      "['[학술지(정기간행물)] -', \"/ University of California at Los Angeles', '\"]\n",
      "2\n",
      "['[학술지(정기간행물)] -', '19']\n",
      "2\n",
      "['[학술지(정기간행물)] -', '19']\n",
      "2\n",
      "['[학술지(정기간행물)] - Parkinson, M', \"/ The extreme value method for estimating the variance of the rate of return 53 : 61 ~ 65', '\"]\n",
      "2\n",
      "['[학술지(정기간행물)] -', '19']\n",
      "2\n",
      "['[학술지(정기간행물)] - Khil, Jaeuk', '/ The Impact of the Investors’ Trading Behavior on the Return and the Volatility in the Recent Korean Stock Market', \"Asia-Pacific Journal of Financial Studies 35 : 77 ~ 106', '\"]\n",
      "3\n",
      "['[학술지(정기간행물)] - Liu, Weimin', '/ A liquidity-augmented capital asset pricing model', \"Journal of Financial Economics', '\"]\n",
      "3\n",
      "['[학술지(정기간행물)] -', '19']\n",
      "2\n",
      "['[학술지(정기간행물)] -', \"/ The Analytical Valuation of American Options Review of Financial Studies : 547 ~ 572', '\"]\n",
      "2\n",
      "['[학술지(정기간행물)] -', \"/ 『외환시장의 동향』', '\"]\n",
      "2\n",
      "['[학술지(정기간행물)] -', '19']\n",
      "2\n",
      "['[학술지(정기간행물)] -', \"/ 이자율 기간구조 추정: 이론모형 접근방법 13 (2) : 79 ~ 102', '\"]\n",
      "2\n",
      "['[학술지(정기간행물)] -', \"/ 한국채권시장과 신용위험 7 : 57 ~ 91', '\"]\n",
      "2\n",
      "['[학술지(정기간행물)] -', \"/ 신용스프레드의 결정요인에 관한 실증연구 11 (1) : 51 ~ 104', '\"]\n",
      "2\n",
      "['[학술지(정기간행물)] -', \"/ Towards an Integrated Measure-ment of Credit and Market Risk 1 : 237 ~ 245', '\"]\n",
      "2\n",
      "['[학술지(정기간행물)] -', \"/ Importance Sampling for Integrated market and Credit Portfolio Models'\"]\n",
      "2\n",
      "['[학술지(정기간행물)] - J', \"/ University of The Forward Puzzle', '\"]\n",
      "2\n",
      "['[학술지(정기간행물)] -', \"/ Risk Uncertainty and Exchange Rates : 433 ~ 459', '\"]\n",
      "2\n",
      "['[학술지(정기간행물)] -', 'aprobabilitydistributionanditsusesinfittingdata', \"Tech-nometrics : 201 ~ 214', '\"]\n",
      "3\n",
      "['[학술지(정기간행물)] -', \"/ An Explanation of the Forward Premium Puzzle : 121 ~ 148', '\"]\n",
      "2\n",
      "['[학술지(정기간행물)] -', 'forecastingeconomictimeseries', \"Academic Press', '\"]\n",
      "3\n",
      "['[학술지(정기간행물)] -', \"/ and applications : 10 422 ~ 437', '\"]\n",
      "2\n",
      "['[학술지(정기간행물)] -', '19']\n",
      "2\n",
      "['[학술지(정기간행물)] -', '19']\n",
      "2\n",
      "['[학술지(정기간행물)] -', '19']\n",
      "2\n",
      "['[학술지(정기간행물)] -', \"/ 이사회 및 감사위원회의 특성이 이익의 질과 가치 관련성에 미치는 영향 : 1 ~ 43', '\"]\n",
      "2\n",
      "['[학술지(정기간행물)] -', \"/ Term Structure as Predictor of Real Economic Activity Journal of Finance : 555 ~ 576', '\"]\n",
      "2\n",
      "['[학술지(정기간행물)] - Sias, R. W', '/ Return Autocorrelation and Institutional Investors', \"Journal of Financial Economics 46 : 103 ~ 121', '\"]\n",
      "3\n",
      "['[학술지(정기간행물)] - Wermers, R', \"/ Mutual Fund Herding and the Impact on Stock Prices 54 : 581 ~ 622'\"]\n",
      "2\n",
      "['[학술지(정기간행물)] -', \"/ Discrete Bid-Ask Spreads : 149 ~ 178', '\"]\n",
      "2\n",
      "['[학술지(정기간행물)] -', \"/ The Choice between Bank Loans and PublicDebt', '\"]\n",
      "2\n",
      "['[기타자료] - Hwang, L', '/ What determines the implied equity risk premium in Korean stock market? Working paper', \"2007', '\"]\n",
      "3\n",
      "['[학술지(정기간행물)] -', '19']\n",
      "2\n",
      "['[학술지(정기간행물)] -', '19']\n",
      "2\n",
      "['[학술지(정기간행물)] -', '19']\n",
      "2\n",
      "['[학술지(정기간행물)] -', '19']\n",
      "2\n",
      "['[학술지(정기간행물)] -', '19']\n",
      "2\n",
      "['[학술지(정기간행물)] -', '19']\n",
      "2\n",
      "['[학술지(정기간행물)] -', '19']\n",
      "2\n",
      "['[학술지(정기간행물)] -', \"/ Handbook of Econometrics 5', '\"]\n",
      "2\n",
      "['[학술지(정기간행물)] -', '19']\n",
      "2\n",
      "['[학술지(정기간행물)] -', '19']\n",
      "2\n",
      "['[학술지(정기간행물)] -', '19']\n",
      "2\n",
      "['[학술지(정기간행물)] -', '19']\n",
      "2\n",
      "['[학술지(정기간행물)] -', '19']\n",
      "2\n",
      "['[학술지(정기간행물)] -', \"/ Trading Volume with Private Valuation Review of Financial Studies 9 : 471 ~ 509', '\"]\n",
      "2\n",
      "['[학술지(정기간행물)] -', '19']\n",
      "2\n",
      "['[기타자료] -', \"/ Surrounding the Asian Financial Crisis, working paper, Yonsei University, Seoul, Korea', '\"]\n",
      "2\n",
      "['[학술지(정기간행물)] -', \"/ KOSPI200 선물의 도입과 주식시장의 안전성 및 효율성 48 (3) : 267 ~ 285', '\"]\n",
      "2\n",
      "['[학술지(정기간행물)] -', \"/ KOSPI200 선물의 거래활동과 현물주식시장의 변동성 20 (2) : 235 ~ 261', '\"]\n",
      "2\n",
      "['[학술지(정기간행물)] - Lee, S. Y', '/ The Effect of Internationals’ Ownership on Earnings Management', \"Journal of Taxation and Accounting 5 (2) : 229 ~ 25'\"]\n",
      "3\n",
      "['[학술지(정기간행물)] - Dittmar, A. K', '/ Why do firms repurchase stock', \"Journal of Business 73 : 331 ~ 355', '\"]\n",
      "3\n",
      "['[학술지(정기간행물)] -', '19']\n",
      "2\n",
      "['[학술지(정기간행물)] -', '/ 19']\n",
      "2\n",
      "['[학술지(정기간행물)] -', '/ 19']\n",
      "2\n",
      "['[학술지(정기간행물)] - Gibson, M.S', '19']\n",
      "2\n",
      "['[학술지(정기간행물)] - Jensen', '/ 19']\n",
      "2\n",
      "['[학술지(정기간행물)] -', '/ 19']\n",
      "2\n",
      "['[학술지(정기간행물)] -', '/ J. 19']\n",
      "2\n",
      "['[학술지(정기간행물)] -', '/ 19']\n",
      "2\n",
      "['[학술지(정기간행물)] -', '/ 19']\n",
      "2\n",
      "['[학술지(정기간행물)] -', '/ R.M. 19']\n",
      "2\n",
      "['[학술지(정기간행물)] -', 'pp.187-2']\n",
      "2\n",
      "['[학술지(정기간행물)] -', '/ 19']\n",
      "2\n",
      "['[학술지(정기간행물)] - Opler', '/ S. 19']\n",
      "2\n",
      "['[학술지(정기간행물)] - Shleifer', '/ R. 19']\n",
      "2\n",
      "['[학술지(정기간행물)] - M.B', '/ 19']\n",
      "2\n",
      "['[학술지(정기간행물)] -', \"/ Journal of Financial Economics 20 : 461 ~ 492', '\"]\n",
      "2\n",
      "['[학술지(정기간행물)] - Angle, J', \"/ Canadian shareowner 8 : 18 ~ 20', '\"]\n",
      "2\n",
      "['[학술지(정기간행물)] -', \"/ 극단치이론을 이용한 VaR의 추정 및 성과 32 (3) : 223 ~ 266', '\"]\n",
      "2\n",
      "['[학술지(정기간행물)] -', \"/ 극단치 이론과 Value at Risk: GPD모형을 중심으로 19 (1) : 70 ~ 111', '\"]\n",
      "2\n",
      "['[학술지(정기간행물)] -', \"/ Maximum likelihod estimation of the para-meters of the generalized extreme-value distribution'\"]\n",
      "2\n",
      "['[학술지(정기간행물)] -', '19']\n",
      "2\n",
      "['[학술지(정기간행물)] -', \"/ Giraffes : 2 ~ 8', '\"]\n",
      "2\n",
      "['[학술지(정기간행물)] -', \"/ Stock splits stock prices and transaction costs : 83 ~ 101', '\"]\n",
      "2\n",
      "['[학술지(정기간행물)] -', \"/ 이익관리수단에 관한 연구 29 (3) : 33 ~ 59', '\"]\n",
      "2\n",
      "['[학술지(정기간행물)] - 최준석', '19']\n",
      "2\n",
      "['[학술지(정기간행물)] -', \"/ 한국신용평가 홈페이지', '\"]\n",
      "2\n",
      "['[학술지(정기간행물)] -', '19']\n",
      "2\n",
      "['[학술지(정기간행물)] -', \"/ 회사채 신용등급의 이익조정 통제효과'\"]\n",
      "2\n",
      "['[학술지(정기간행물)] -', '/ V. 19']\n",
      "2\n",
      "['[학술지(정기간행물)] -', \"/ Valuation and clean surplus accounting for operating and financial activities 11 : 689 ~ 731', '\"]\n",
      "2\n",
      "['[학술지(정기간행물)] -', \"/ An empirical study of the mean reversion in the long-term return: Using randomized likelihood ratio test 9 : 227 ~ 246', '\"]\n",
      "2\n",
      "['[학술지(정기간행물)] -', '/ Sheridan. 19']\n",
      "2\n",
      "['[학술지(정기간행물)] -', '/ H.C. 19']\n",
      "2\n",
      "['[학술지(정기간행물)] -', '/ 19']\n",
      "2\n",
      "['[학술지(정기간행물)] -', \"/ Evidence from a simple specification test. Review of Financial Studies 1 : 41 ~ 66', '\"]\n",
      "2\n",
      "['[학술지(정기간행물)] -', '/ A. James. 19']\n",
      "2\n",
      "['[학술지(정기간행물)] -', '/ J. and L. Summers. 19']\n",
      "2\n",
      "['[학술지(정기간행물)] -', '/ G. A. D. 19']\n",
      "2\n",
      "['[학술지(정기간행물)] -', \"/ A. Klein : 183 ~ 98', '\"]\n",
      "2\n",
      "['[학술지(정기간행물)] -', '/ and L. Lang. 19']\n",
      "2\n",
      "['[학술지(정기간행물)] -', '/ and S. Kothari. 19']\n",
      "2\n",
      "['[학술지(정기간행물)] -', \"/ S. Kothari. : 111 ~ 38', '\"]\n",
      "2\n",
      "['[학술지(정기간행물)] -', '/ and J. MacKinnon. 19']\n",
      "2\n",
      "['[학술지(정기간행물)] -', \"/ return and equilibrium empirical tests. Journal of Political Economy 81 : 607 ~ 36', '\"]\n",
      "2\n",
      "['[학술지(정기간행물)] -', '/ and K. French. 19']\n",
      "2\n",
      "['[학술지(정기간행물)] -', '/ C. W. J. 19']\n",
      "2\n",
      "['[학술지(정기간행물)] -', '/ J. 19']\n",
      "2\n",
      "['[학술지(정기간행물)] -', '/ J. A. 19']\n",
      "2\n",
      "['[학술지(정기간행물)] -', '/ and R. Bhushan. 19']\n",
      "2\n",
      "['[학술지(정기간행물)] -', '/ D. 19']\n",
      "2\n",
      "['[학술지(정기간행물)] -', \"/ Bank for International Settlements', '\"]\n",
      "2\n",
      "['[학술지(정기간행물)] -', \"/ http://dart.fss.or.kr/', '\"]\n",
      "2\n",
      "['[학술지(정기간행물)] -', \"/ http://kind.kse.or.kr/', '\"]\n",
      "2\n",
      "['[학술지(정기간행물)] -', '19']\n",
      "2\n",
      "['[학술지(정기간행물)] - Brennan, M. J', '/ The valuation of American put options', \"Journal of Finance 32 : 449 ~ 462', '\"]\n",
      "3\n",
      "['[학술지(정기간행물)] -', \"/ 국민 편익 앞당기는 새로운 투자방식” 기획예산처 한국개발연구원', '\"]\n",
      "2\n",
      "['[인터넷자원] - Eom, K. S.', \"/ Price Stabilization and Discovery under a Random-End Trading Mechanism', '\"]\n",
      "2\n",
      "['[학술지(정기간행물)] -', '19']\n",
      "2\n",
      "['[학술지(정기간행물)] -', '19']\n",
      "2\n",
      "['[학술지(정기간행물)] -', '19']\n",
      "2\n",
      "['[학술지(정기간행물)] -', \"/ Competition in the Open Economy A Model Applied to Canada', '\"]\n",
      "2\n",
      "['[학술지(정기간행물)] - Chang', \"/ Does Hedging Aggravate or Alleviate Agency Problems? A Managerial Theory of Risk Management Carlson School of Management University of Minnesota Unpublished Manuscript', '\"]\n",
      "2\n",
      "['[보고서] - 예금보험공사', \"/ 연차보고서', '\"]\n",
      "2\n",
      "['[인터넷자원] -', \"/ 한국벤처캐피탈협회', '\"]\n",
      "2\n",
      "['[학술지(정기간행물)] -', \"/ “Financial Determinants of Bank Takeovers” Journal of Money : 524 ~ 536', '\"]\n",
      "2\n",
      "['[학술지(정기간행물)] -', \"/ “Rank Transformations as a Bridge Between Parametric and Nonparametric Statistics” : 124 ~ 129', '\"]\n",
      "2\n",
      "['[학술지(정기간행물)] -', \"/ “The Pre-Acquisition Characteristics of Banks Acquired by Multibank Holding Companies” Journal of Bank Research : 82 ~ 89', '\"]\n",
      "2\n",
      "['[학술지(정기간행물)] -', \"/ “Distribution of Financial Accounting Ratios : 90 ~ 96', '\"]\n",
      "2\n",
      "['[학술지(정기간행물)] -', \"/ “An Economic Disturbance Theory of Mergers” Quarterly Journal of Economics : 624 ~ 642', '\"]\n",
      "2\n",
      "['[학술지(정기간행물)] -', \"/ and the Structure of Bank Production” Journal of Money : 152 ~ 166', '\"]\n",
      "2\n",
      "['[학술지(정기간행물)] -', \"/ Journal of Financial and Quantitative Analysis : 587 ~ 598', '\"]\n",
      "2\n",
      "['[학술지(정기간행물)] -', \"/ “A Financial Analysis of Acquisition and Merger Premiums” Journal of Financial and Quantitative Analysis : 139 ~ 148', '\"]\n",
      "2\n",
      "['[학술지(정기간행물)] -', \"/ “Efficiency Effects of Horizontal Journal of Banking and Finance : 411 ~ 422', '\"]\n",
      "2\n",
      "['[학술지(정기간행물)] -', \"/ “The Impact of Mergers in Banking Evidence from a Nationwide Sample of Federally Chartered Banks” Journal of Economics and Business : 289 ~ 312', '\"]\n",
      "2\n",
      "['[학술지(정기간행물)] -', \"/ “Characteristics of Merging Banks in the United States and Implications for Public Policy” Review of Business and Economic Research : 1 ~ 19', '\"]\n",
      "2\n",
      "['[학술지(정기간행물)] -', \"/ Review of Business and Economic Research : 1 ~ 18', '\"]\n",
      "2\n",
      "['[학술지(정기간행물)] -', \"/ “A Discriminant Analysis Function for Conglomerate Targets ” The Southern Journal of Business : 1 ~ 16', '\"]\n",
      "2\n",
      "['[학술지(정기간행물)] -', 'financialtheoryandcorporatepolicy', \"2nd ed : 1983 ~', '\"]\n",
      "3\n",
      "['[인터넷자원] - Chen, D.-H', \"/ The Predictive Performanceof a Barrier Option Credit Risk Model in an Emerging Market', '\"]\n",
      "2\n",
      "['[인터넷자원] - Chen, R.-R', \"/ Default Prediction of Alternative StructuralCredit Risk Models and Implications of Default Boundaries', '\"]\n",
      "2\n",
      "['[인터넷자원] - Forte, S', \"/ Pseudo Maximum Likelihood Estimation of StructuralCredit Risk Models with Exogenous Default Barrier', '\"]\n",
      "2\n",
      "['[인터넷자원] - Ferman, M', \"/ The Monetary Policy Transmission Mechanism in a Term-Structure Model with Unspanned Macro Risks', '\"]\n",
      "2\n",
      "['[학술지(정기간행물)] - Carrow, K. A.', '/ Evidence of Early-Mover Advantages in Unwriting Spreads', \"Journal of Financial Services Research 15 : 37 ~ 55', '\"]\n",
      "3\n",
      "['[학술지(정기간행물)] - Chen, L.', '/ Return decomposition', \"Review of Financial Studies', '\"]\n",
      "3\n",
      "['[학술지(정기간행물)] - Lewellen, J.', '/ A skeptical appraisal of asset pricing tests', \"Journal of Financial Economics', '\"]\n",
      "3\n",
      "['[학술지(정기간행물)] -', \"/ “On persistence in mutual fund performance” Journal of Finance : 57 ~ 82', '\"]\n",
      "2\n",
      "['[인터넷자원] -', \"/ 대한상공회의소', '\"]\n",
      "2\n",
      "['[학술지(정기간행물)] - Attig', \"/ On the Determinants of Pyramidal Ownership Evidence on Dilution of Minority Interests', '\"]\n",
      "2\n",
      "['[학술지(정기간행물)] - Claessens', \"/ Expropriation of Minority Shareholders in East Asia', '\"]\n",
      "2\n",
      "['[학술지(정기간행물)] - Almeida, H.', '/ The Structure and Formation of Business Groups：Evidence from Korean Chaebols', \"Journal Financial Economics', '\"]\n",
      "3\n",
      "['[단행본] - Peterson, M. A.', '/ Allocating Assets and Discounting Cash Flows：Pension Plan Finance', \"Pensions, Savings and Capital Markets', '\"]\n",
      "3\n",
      "['[인터넷자원] - Rajan, R', \"/ Fake Alpha or Heads I Win, Tails You Lose', '\"]\n",
      "2\n",
      "['[보고서] - 남길남', \"/ 주가지수파생상품 만기일 효과에 관한 연구', '\"]\n",
      "2\n",
      "['[학술지(정기간행물)] - Hau, H.', '/ Location Matters: An Examination of Trading Profits', \"Journal of Finance 56 : 1951 ~ 1983', '\"]\n",
      "3\n",
      "['[인터넷자원] - Childs, Paul D', \"/ Managerial Discretion, Agency Costs, and Capital Structure, Available at SSRN', '\"]\n",
      "2\n",
      "['[인터넷자원] - 금융감독원', \"/ 최근 상장폐지기업의 주요특징 및 유의사항, 보도자료', '\"]\n",
      "2\n",
      "['[기타자료] -', \"/ 근로자퇴직급여보장법', '\"]\n",
      "2\n",
      "['[인터넷자원] - Ernst and Young', \"/ IFRS-observations on the implementation of IFRS', '\"]\n",
      "2\n",
      "['[인터넷자원] - Sithole, T. Z.', \"/ Second international comparative study of mortality tables for pension fundretirees', '\"]\n",
      "2\n",
      "['[학술지(정기간행물)] - Gibbons, Michael R', '/ A Test of the Efficiency of a Given Portfolio', \"Econometrica 57 : 1121 ~ 1152', '\"]\n",
      "3\n",
      "['[인터넷자원] -', \"/ e-나라지표', '\"]\n",
      "2\n",
      "['[인터넷자원] -', \"/ Z/Yen'\"]\n",
      "2\n",
      "['[인터넷자원] - Böhme, R', \"/ The effect of stock spam on financial markets', '\"]\n",
      "2\n",
      "['[기타자료] - 대신증권', '/ Leanding sector rotation strategy', \"Quant Strategy', '\"]\n",
      "3\n",
      "['[인터넷자원] - Johns, C. M', \"/ A Century of Stock Market Liquidity and Trading Cost', '\"]\n",
      "2\n",
      "['[인터넷자원] - Lo, A', \"/ The Statistics of Sharpe Ratios', '\"]\n",
      "2\n",
      "['[인터넷자원] - Meucci, A', \"/ Beyond Black-Litterman in Practice: a Five-Step Recipe to Input Views on non-normal markets', '\"]\n",
      "2\n",
      "['[인터넷자원] - Meucci, A', \"/ Enhancing the Black-Litterman and Related Approaches: Views andStress-test on Risk Factors', '\"]\n",
      "2\n",
      "['[인터넷자원] - Meucci, A', \"/ Black-Litterman Approach: Original Model and Extensions', '\"]\n",
      "2\n",
      "['[인터넷자원] - Meucci, A', \"/ Fully Flexible Views: Theory and Practice', '\"]\n",
      "2\n",
      "['[인터넷자원] - Meucci, A', \"/ Fully Flexible Views in Multivariate Normal Markets', '\"]\n",
      "2\n",
      "['[인터넷자원] - Pav, S', \"/ Note on the Sharpe ratio', '\"]\n",
      "2\n",
      "['[인터넷자원] -', \"/ 국제증권감독기구', '\"]\n",
      "2\n",
      "['[인터넷자원] -', \"/ 금융감독원', '\"]\n",
      "2\n",
      "['[인터넷자원] -', \"/ 미국 증권거래위원회', '\"]\n",
      "2\n",
      "['[인터넷자원] -', \"/ 미국 재무부', '\"]\n",
      "2\n",
      "['[인터넷자원] -', \"/ 유럽연합 집행위원회', '\"]\n",
      "2\n",
      "['[인터넷자원] -', \"/ Fitch Ratings', '\"]\n",
      "2\n",
      "['[인터넷자원] -', \"/ Moody’s'\"]\n",
      "2\n",
      "['[학술지(정기간행물)] - 우민철', '/ ELW 가격에 대한 증권사 간 차이분석', \"KRX Market (55)', '\"]\n",
      "3\n",
      "['[인터넷자원] - Coffee, J. C.', \"/ Ratings Reform: The Good, The Bad, and The Ugly', '\"]\n",
      "2\n",
      "['[인터넷자원] - European Commission', \"/ Public consultation on Credit Rating Agencies', '\"]\n",
      "2\n",
      "['[인터넷자원] - U.S. Securities and Exchange Commission', \"/ Dodd-Frank Wall Street Reform and Consumer Protection Act TITLE IX'\"]\n",
      "2\n",
      "['[인터넷자원] - Ernst, and Young', \"/ IFRS-observations on the implementation of IFRS', '\"]\n",
      "2\n",
      "['[인터넷자원] - Sithole, T. Z', \"/ Second international comparative study of mortality tables for pension fund retirees', '\"]\n",
      "2\n",
      "['[기타자료] -', \"/ 근로기준법', '\"]\n",
      "2\n",
      "['[기타자료] -', \"/ 근로자퇴직급여보장법', '\"]\n",
      "2\n",
      "['[기타자료] -', \"/ 근로자퇴직급여보장법 시행령', '\"]\n",
      "2\n",
      "['[기타자료] -', \"/ 근로자퇴직급여보장법 시행규칙', '\"]\n",
      "2\n",
      "['[인터넷자원] -', \"/ 통계청', '\"]\n",
      "2\n",
      "['[인터넷자원] -', \"/ 금융감독원 보도자료'\"]\n",
      "2\n",
      "['[학술지(정기간행물)] - Bollen, N. P. B.', '/ Do Hedge Fund Managers Misreport Returns? Evidence from the Pooled Distribution', \"The Journal of Finance 64 (5) : 2257 ~ 2288', '\"]\n",
      "3\n",
      "['[학술지(정기간행물)] - Duchin, R.', '/ Cash holdings and corporate diversification', \"Journal of Finance', '\"]\n",
      "3\n",
      "['[기타자료] - Black, F', '/ Studies of Stock Market Volatility Changes, Proceedings of the American Statistical Association', \"Business and Economic Statistics Section : 177 ~ 181', '\"]\n",
      "3\n",
      "['[인터넷자원] - French, K. R.', \"/ Dollar cost averaging', '\"]\n",
      "2\n",
      "['[인터넷자원] - 서성권', \"/ 소액 전세일수록 월세이율 높아, 반전세 고민', '\"]\n",
      "2\n",
      "['[인터넷자원] - 통계청', \"/ 장래인구추계, 가계자산조사', '\"]\n",
      "2\n",
      "['[인터넷자원] -', \"/ 한국주택금융공사 홈페이지', '\"]\n",
      "2\n",
      "['[인터넷자원] -', \"/ 기술보증기금', '\"]\n",
      "2\n",
      "['[인터넷자원] -', \"/ 중기청', '\"]\n",
      "2\n",
      "['[인터넷자원] -', \"/ 신용보증기금', '\"]\n",
      "2\n",
      "['[인터넷자원] -', \"/ 신용보증재단중앙회', '\"]\n",
      "2\n",
      "['[인터넷자원] -', \"/ 한국경제', '\"]\n",
      "2\n",
      "['[인터넷자원] -', \"/ 한국벤처캐피탈협회', '\"]\n",
      "2\n",
      "['[인터넷자원] -', \"/ 헤럴드경제', '\"]\n",
      "2\n",
      "['[기타자료] - SBIR', \"/ Policy Directive'\"]\n",
      "2\n",
      "['[인터넷자원] - Bank of New York Mellon', \"/ DR Fact Sheet', '\"]\n",
      "2\n",
      "['[인터넷자원] - Demirguc-Kunt, A', \"/ Bank-based and market-based financial systems:cross-country comparisons', '\"]\n",
      "2\n",
      "['[인터넷자원] -', \"/ OECD membership', '\"]\n",
      "2\n",
      "['[보고서] - Hopkins, M.', \"/ Corporate social responsibility: an issue paper', '\"]\n",
      "2\n",
      "['[인터넷자원] - Gallagher, D.', \"/ Concentration and Stock Returns: Australian Evidence, Working Paper', '\"]\n",
      "2\n",
      "['[학술지(정기간행물)] - Peterson, M. A', '/ Estimating standard errors in finance panel data sets: Comparing approaches', \"Review of Financial Studies 22 (1) : 435 ~ 480', '\"]\n",
      "3\n",
      "['[인터넷자원] - Castilla, M.', \"/ Non-recourse mortgages and the prevention of housing bubbles: A proposal for a reverse in the default rule on mortgage liability in Spain', '\"]\n",
      "2\n",
      "['[인터넷자원] - Harris, R.', \"/ Recourse and non-recourse mortgages: Foreclosure, bankruptcy, policy, Working paper', '\"]\n",
      "2\n",
      "['[인터넷자원] - Meir, A.', \"/ Private valuation and private information: Can mandatory non-recourse mortgage legislation restore a missing market?'\"]\n",
      "2\n",
      "['[인터넷자원] - The President’s Working Group on Financial Markets', \"/ Hedge Funds, Leverage, and the Lessons of Long-Term Capital Management'\"]\n",
      "2\n",
      "['[학술대회논문] - 이종원', '/ 한국 증권회사의 효율성 분석', \"2006 경제학공동학술대회 발표논문', '\"]\n",
      "3\n",
      "['[학술지(정기간행물)] - 지홍민', '/ 사이버증권거래와 증권산업의 효율성', \"경영논총 25 (2) : 81 ~ 104', '\"]\n",
      "3\n",
      "['[인터넷자원] - Kohlbeck, M', \"/ Related Party Transactions', '\"]\n",
      "2\n",
      "['[학술지(정기간행물)] - Hyuk, Choe', '/ Liquidity Risk and Asset Returns: The Case of the Korean Stock Market', \"Korean Journal of Financial Management 26 : 103 ~ 139', '\"]\n",
      "3\n",
      "['[인터넷자원] - Crosbie, Peter J.', \"/ Modeling Default Risk (KMV LLC)', '\"]\n",
      "2\n",
      "['[인터넷자원] -', \"/ http://nasdaqomx.cchwallstreet.com/', '\"]\n",
      "2\n",
      "['[인터넷자원] -', \"/ http://www.bxventure.com/', '\"]\n",
      "2\n",
      "['[인터넷자원] -', \"/ http://www.londonstockexchange.com/companies-and-advisors/aim/aim/aim.htm', '\"]\n",
      "2\n",
      "['[인터넷자원] -', \"/ http://www.londonstockexchange.com/companies-and-advisors/main-market/main-market/home.htm', '\"]\n",
      "2\n",
      "['[인터넷자원] -', \"/ http://www.tmx.com/en/trading/rules_regulations/', '\"]\n",
      "2\n",
      "['[인터넷자원] -', \"/ http://tse-gr.info/', '\"]\n",
      "2\n",
      "['[인터넷자원] -', \"/ http://www.tse.or.jp/english/about/rules/index.html'\"]\n",
      "2\n",
      "['[기타자료] - 한국거래소', \"/ 유가증권시장 상장규정', '\"]\n",
      "2\n",
      "['[기타자료] - 한국거래소', \"/ 유가증권시장 상장규정 시행세칙', '\"]\n",
      "2\n",
      "['[기타자료] - 한국거래소', \"/ 코스닥시장 상장규정', '\"]\n",
      "2\n",
      "['[기타자료] - 한국거래소', \"/ 코스닥시장 상장규정 시행세칙', '\"]\n",
      "2\n",
      "['[학술지(정기간행물)] - Mikkelson, W. H.', '/ Do Persistent Large Cash Reserve Hinder Performanace?', \"Journal of Financial and Quantitative Analysis 38 : 275 ~ 294', '\"]\n",
      "3\n",
      "['[보고서] - Dincer, O.', \"/ Are You Smarter than a CFA’er?', '\"]\n",
      "2\n",
      "['[인터넷자원] - Ganley J', \"/ Equity Markets under Stress: Tests for Arbitrage Anomalies in the Stock-future Basis', '\"]\n",
      "2\n",
      "['[보고서] - Hau, H', \"/ Exchange Rates, Equity Prices and Capital Flows', '\"]\n",
      "2\n",
      "['[기타자료] -', \"/ 미래에셋 주가연계증권 제113회 상품설명서', '\"]\n",
      "2\n",
      "['[인터넷자원] - Peter Jackel', '/ Greeks with Monte Carlo', \"Wilmott', '\"]\n",
      "3\n",
      "['[기타자료] - 금융투자협회', \"/ 금융투자회사의 영업 및 업무에 관한 규정', '\"]\n",
      "2\n",
      "['[학술지(정기간행물)] - Lynch, S.', '/ US Retail Forex Oversight Lacks Consistency', \"Wall Street Journal', '\"]\n",
      "3\n",
      "['[인터넷자원] - Buysschaert, A', \"/ Equity Sales in Belgian Corporate Groups: Expropriation of Minority Shareholders?', '\"]\n",
      "2\n",
      "['[인터넷자원] - Gordon, E', \"/ Related Party Transactions: Associations with Corporate Governance and Firm Value', '\"]\n",
      "2\n",
      "['[인터넷자원] - Kohlbeck, M', \"/ Related Party Transactions', '\"]\n",
      "2\n",
      "['[인터넷자원] - Crespi, R.', \"/ Governance Mechanisms in Spanish Banks: Does Ownership Matter? ECGI Working Paper 19', '\"]\n",
      "2\n",
      "['[인터넷자원] - 공적자금관리위원회', \"/ 공적자금백서', '\"]\n",
      "2\n",
      "['[인터넷자원] - Daske, H.', \"/ Do Short Sale Transactions Precede Bad News Events?', '\"]\n",
      "2\n",
      "['[인터넷자원] - Henry, T.', \"/ Do Equity Short Sellers Anticipate Bond Rating Downgrades?', '\"]\n",
      "2\n",
      "['[학술지(정기간행물)] - Kim, K.', '/ Effect of investor sentiment on market response to stock split announcement', \"Asia-Pacific Journal of Financial Studies 39 : 687 ~ 719', '\"]\n",
      "3\n",
      "['[보고서] - Frino, A.', \"/ Do monopolistic market makers improve market quality? Evidence from an electronic option market', '\"]\n",
      "2\n",
      "['[학술지(정기간행물)] - Keim,D.B', 'universityofpennsylvania', \"The Cost of Trend Chasing and the Illusion of Momentum Profits wharton school : 2003 ~', '\"]\n",
      "3\n",
      "['[학술지(정기간행물)] - Seasholes', 'ma', \"Smart Foreign Traders in Emerging Markets cambridge : 2000 ~', '\"]\n",
      "3\n",
      "['[인터넷자원] - Heston, S. L.', \"/ A Simple New Formula for Options With Stochastic Volatility', '\"]\n",
      "2\n",
      "['[학술지(정기간행물)] - Ait-Sahalia, Y.', '200', 'How Often to Sample a Continuous-Time Process in the Presence of Market Microstructure Noise', \"Review of Financial Studies 18 : 351 ~ 416', '\"]\n",
      "4\n",
      "['[학술지(정기간행물)] -', \"/ Korean Journal of Futures and Options', '\"]\n",
      "2\n",
      "['[학술지(정기간행물)] -', \"/ Investigation for Synthetic Collateralized Debt Obligation'\"]\n",
      "2\n",
      "['[학술지(정기간행물)] -', \"/ Korean Journal of Futures and Options'\"]\n",
      "2\n",
      "['[학술지(정기간행물)] - Phillips, Peter C. B.', '/ Statistical Inference in Instrumental Variables Regression with I(1) Processed', \"Review of Economics Studies 57 : 99 ~ 125', '\"]\n",
      "3\n",
      "['[학술지(정기간행물)] - Figlewski, S.', '179', 'Subjective information and market efficiency in a betting market', \"Journal of Political Economy 87 : 75 ~ 89', '\"]\n",
      "4\n",
      "['[인터넷자원] - Lewis, A.', \"/ A simple option formula for general jump-diffusion and other exponential Lévy processes', '\"]\n",
      "2\n",
      "['[학술지(정기간행물)] - Lee, J. H', '/ A Transactions Data Analysis of Arbitrage between Index Options and Index Futures', \"Journal of Futures Markets 13 : 889 ~ 902', '\"]\n",
      "3\n",
      "['[기타자료] - Hvidkjaer, S.', \"/ Small Trades and the Corss-Section of Stock Returns', '\"]\n",
      "2\n",
      "['[보고서] - Seasholes, M.', \"/ Smart Foreign Traders in Emerging Markets', '\"]\n",
      "2\n",
      "['[학술대회논문] - Shu, T.', '/ Does Positive-Feedback Trading by Institutions Contribute to Stock Return Momentum?', \"AFA 2007 Chicago Meetings Paper', '\"]\n",
      "3\n",
      "['[인터넷자원] - Cartea, A.', \"/ Distinguished Limits of Lévy-Stable Processes, and Applications to Option Pricing', '\"]\n",
      "2\n",
      "['[인터넷자원] - Cartea, A.', \"/ Option Pricing with Lévy-Stable Processed Generated by Lévy- Stable Integrated Variance', '\"]\n",
      "2\n",
      "['[인터넷자원] - Huston McCulloch, J.', \"/ The Risk-Neutral and Option Pricing under Log-Stable Uncertainty', '\"]\n",
      "2\n",
      "['[인터넷자원] - Andersen, T. G.', \"/ VPIN and the Flash Crash', '\"]\n",
      "2\n",
      "['[인터넷자원] - Easley, D.', \"/ Measuring Flow Toxicity in a High Frequency World', '\"]\n",
      "2\n",
      "['[인터넷자원] - LÓpez de Prado, M.', \"/ Low-Frequency Traders in a High-Frequency World : A Survival Guide', '\"]\n",
      "2\n",
      "['[학술대회논문] - 홍성희', '/ 주가지수 선물, 주가지수 옵션, 주식 현물의 상호 작용에대한 재조명', \"1998 추계학술발표회 발표논문집 : 113 ~ 149', '\"]\n",
      "3\n",
      "['[학술지(정기간행물)] - Technical Committee of the International Organization of Securities Commissions', 'March20']\n",
      "2\n",
      "['[학술지(정기간행물)] -', \"/ Korean Journal of Futures and Options', '\"]\n",
      "2\n",
      "['[학술지(정기간행물)] -', \"/ Estimation of the Size of the Settlement Fund of the Korean Securities and Derivatives Markets Utilizing Stress Tests'\"]\n",
      "2\n",
      "['[인터넷자원] - CBOE', '/ VIX : The CBOE Volatility Index, White Paper', \"Chicago Board Options Exchange', '\"]\n",
      "3\n",
      "['[학술지(정기간행물)] - Lee,J.and J.Chung', 'sungkyunkwanuniversity', \"Time-Varying Forecast Performance of New and Original Volatility Indexes for the 1990-2004 Period skk graduate school of business : 2005 ~', '\"]\n",
      "3\n",
      "['[단행본] - Hwang, Y. H', '/ An Empirical Study on Pricing Equity Linked Securities', \"Sungshin Women’s University', '\"]\n",
      "3\n",
      "['[보고서] - 한국은행', \"/ 우리나라의 외환제도 및 외환시장', '\"]\n",
      "2\n",
      "['[인터넷자원] - Morningstar', \"/ The Morningstar Rating Methodology', '\"]\n",
      "2\n",
      "['[기타자료] - 건설교통부', \"/ 임대주택법, 동법시행령 제9조 및 제 12조, 동법시행규칙 제 3조 및 별표 1', '\"]\n",
      "2\n",
      "['[학술지(정기간행물)] - 국민은행', \"/ 부동산 시세/통계 자료 중 아파트매매가격지수 시계열자료(86.1-07.12)', '\"]\n",
      "2\n",
      "['[학술지(정기간행물)] - 국민은행', \"/ 부동산 시세/통계 자료 중 KB아파트시세의 대용주택들 해당 자료', '\"]\n",
      "2\n",
      "['[학술지(정기간행물)] - 국민은행', \"/ 분양관 자료 중 청약경쟁률조회 자료', '\"]\n",
      "2\n",
      "['[학술지(정기간행물)] - 동양건설', \"/ 성남 판교택지지구 A19-1BL 동양 엔파트 임차인 모집공고', '\"]\n",
      "2\n",
      "['[단행본] - 신동아건설', \"/ 용인 흥덕 신동아 파밀리에 임차인 모집공고', '\"]\n",
      "2\n",
      "['[단행본] - 한국주택금융공사', \"/ 보금자리론 대출금리', '\"]\n",
      "2\n",
      "['[인터넷자원] -', \"/ MBC뉴스'\"]\n",
      "2\n",
      "['[학술지(정기간행물)] - De Bondt, W.', '/ Further Evidence on Innestment Overreaction and Stock Market Seasonality', \"Journal of Finance 42 : 557 ~ 581', '\"]\n",
      "3\n",
      "['[학술지(정기간행물)] - Jegadeesh, N.', '/ Probability of Momentum Strategies : An Evaluation of Alternative Explanations', \"Journal of Finance 56 : 699 ~ 718', '\"]\n",
      "3\n",
      "['[학술지(정기간행물)] - Fredricksson, P.', '/ Bureaucratic Corruption, Environmental Policy, and Inbound US FDI：Theory and Evidence', \"Journal of Public Economics 87 : 1407 ~ 1430', '\"]\n",
      "3\n",
      "['[학술대회논문] - 김학겸', '/ 거래승수가 유동성 및 정보효율성에 미치는 영향 : 코스피200 옵션거래 승수 변경사건을 이용한 실증분석', \"2015년 제1차 한국증권학회 정기학술발표대회발표논문', '\"]\n",
      "3\n",
      "['[학술지(정기간행물)] - Jackwerth, J', '/ Recovering Probability Distribution from Option Prices', \"Journal of Finance 51 : 1611 ~ 1631', '\"]\n",
      "3\n",
      "['[학술지(정기간행물)] - Bliss, R. R.', '200', 'Testing the Stability of Implied Probability Density Functions', \"Journal of Banking and Finance 26 : 381 ~ 422', '\"]\n",
      "4\n",
      "['[학술대회논문] - 김진호', '/ ARFIMA with GARCH-M 모형을 통한 주가변동위험의 추정', \"한국파생상품학회춘계학술발표논문집 : 264 ~ 285', '\"]\n",
      "3\n",
      "['[학술지(정기간행물)] -', \"/ Korean Journal of Futures and Options', '\"]\n",
      "2\n",
      "['[학술지(정기간행물)] -', \"/ Arbitrage Profitability of the KOSPI200 Futures Spread'\"]\n",
      "2\n",
      "['[기타자료] - Stock, J. H.', '/ Handbook of Macroeconomics', \"Handbook of Macroeconomics, forthcoming', '\"]\n",
      "3\n",
      "['[학술지(정기간행물)] -', \"/ An empirical analysis on change in price discovery', '\"]\n",
      "2\n",
      "['[학술지(정기간행물)] -', \"/ of KOSPI200 futures through market maturity process'\"]\n",
      "2\n",
      "['[학술지(정기간행물)] - Corrado, C', '/ Estimating expected excess returns using historical and option-implied volatility', \"Journal of Financial Research 29 : 95 ~ 112', '\"]\n",
      "3\n",
      "['[학술지(정기간행물)] -', \"/ Korean Journal of Futures and Options', '\"]\n",
      "2\n",
      "['[학술지(정기간행물)] -', \"/ Arbitrage Prfitability of Box Spreads in the KOSPI200 Options Market'\"]\n",
      "2\n",
      "['[인터넷자원] - Farid, J.', \"/ Cox-Ingersoll-Ross. CIR model. Parameter Calibration & Simulation', '\"]\n",
      "2\n",
      "['[단행본] - 나지수', '/ 주가연계증권(ELS) 델타헤지거래 관련 분쟁의 분석', \"한국거래소', '\"]\n",
      "3\n",
      "['[인터넷자원] - Ait-Sahalia, Y.', \"/ The Term Structure of Variance Swaps, Risk Premia and the Expectation Hypothesis', '\"]\n",
      "2\n",
      "['[학술지(정기간행물)] - Little, T.', '/ A Finite Difference Method for the Valuation of Variance Swaps', \"Journal of Computational Finance 5 (1) : 81 ~ 103', '\"]\n",
      "3\n",
      "['[학술지(정기간행물)] -', \"/ Cointegration in partial systems and the efficiency of single-equation analysis 52 : 389 ~ 402', '\"]\n",
      "2\n",
      "['[학술지(정기간행물)] -', \"/ Empirical study on the maturity structures of the volatility in the KOSPI200 index and futures returns', '\"]\n",
      "2\n",
      "['[학술지(정기간행물)] -', \"/ Jong In Yoon', '\"]\n",
      "2\n",
      "['[학술지(정기간행물)] -', \"/ This study analyzes the maturity structure of the volatility in the KOSPI200 index and futures returns we obtain the empirical evidences that the maturity structure of the volatility is U-shaped unlike the well-known Samuelson effect U-shaped structures are found not only in the futures market but also in the spot market These evidences imply that returns are more volatile around the futures maturity date in both markets', '\"]\n",
      "2\n",
      "['[학술지(정기간행물)] - Ho', '19-86', \"Journal of Finance : 1011 ~ 1029', '\"]\n",
      "3\n",
      "['[학술지(정기간행물)] - Choy, S. K', '/ Trading costs and price discover', \"Review of Quantitative Finance and Accounting 34 : 37 ~ 57', '\"]\n",
      "3\n",
      "['[학술지(정기간행물)] - Tse, Y', '/ Market quality and price discovery : Introduction of the E-mini energy futures', \"Global Finance Journal 16 (2) : 164 ~ 179', '\"]\n",
      "3\n",
      "['[학술지(정기간행물)] -', \"/ 채권금리의 실거래가 및 시가평가표', '\"]\n",
      "2\n",
      "['[학술지(정기간행물)] -', \"/ 채권금리의 실거래가 및 시가평가표 kis채평가', '\"]\n",
      "2\n",
      "['[학술지(정기간행물)] -', \"/ Korean Journal of Futures and Options', '\"]\n",
      "2\n",
      "['[학술지(정기간행물)] -', \"/ Analysis on the Characteristics andFair Value of ‘Option CP’'\"]\n",
      "2\n",
      "['[학술지(정기간행물)] - Michayluk, D', '/ What do Options have to do With It? : Inclusion of Options Market Indicators in Bid-ask Spread Decomposition', \"Asia-Pacific Journal of Financial Studies 38 (3) : 455 ~ 489', '\"]\n",
      "3\n",
      "['[인터넷자원] - BCBS', \"/ Basel III: a Global Regulatory Framework for More Resilient Banks and Banking System', '\"]\n",
      "2\n",
      "['[인터넷자원] - De Haas, R.', \"/ In Defence of Foreign Banks', '\"]\n",
      "2\n",
      "['[학술지(정기간행물)] - Park, J. W.', '/ Business Cycles, and the Relationship between the Volatility and the Stock Market Risk Premium', \"Korean Journal of Financial Management 28 : 209 ~ 237', '\"]\n",
      "3\n",
      "['[학술지(정기간행물)] -', '19']\n",
      "2\n",
      "['[학술지(정기간행물)] -', '19']\n",
      "2\n",
      "['[학술지(정기간행물)] -', '19']\n",
      "2\n",
      "['[학술지(정기간행물)] -', '19']\n",
      "2\n",
      "['[학술지(정기간행물)] -', '19']\n",
      "2\n",
      "['[학술지(정기간행물)] -', '19']\n",
      "2\n",
      "['[학술지(정기간행물)] -', '19']\n",
      "2\n",
      "['[학술지(정기간행물)] -', '19']\n",
      "2\n",
      "['[학술지(정기간행물)] -', '19']\n",
      "2\n",
      "['[학술지(정기간행물)] -', '20']\n",
      "2\n",
      "['[학술지(정기간행물)] -', '19']\n",
      "2\n",
      "['[인터넷자원] - McDowell, A', '/ Testing the equality of regression coefficients across independent areas', \"www.stata.com', '\"]\n",
      "3\n",
      "['[기타자료] - 금융감독원', \"/ 권역별 검사메뉴얼', '\"]\n",
      "2\n",
      "['[학술지(정기간행물)] -', 'federalreservebankofatlanta', \"The Black-Scholes Formula is Nearly Linear in for At-the-money Option；Therefore Implied Volatilities from At-the-money Options are Virtually Unbiased : 1989 ~', '\"]\n",
      "3\n",
      "['[학술지(정기간행물)] -', \"/ The Market for Corporate Control：The Scientific Evidence Journal of Financial Economics : 5 ~ 50', '\"]\n",
      "2\n",
      "['[학술지(정기간행물)] -', \"/ Journal of Financial Economics : 293 ~ 315', '\"]\n",
      "2\n",
      "['[인터넷자원] - McDowell, A', \"/ Testing the equality of regression coefficients across independent areas', '\"]\n",
      "2\n",
      "['[인터넷자원] - Buysschaert, A.', \"/ Equity Sales in Belgian Corporate Groups: Expropriation of Minority Shareholders?', '\"]\n",
      "2\n",
      "['[인터넷자원] - Jia, N.', \"/ Coinsurance within Business Groups : Evidence from Related Party Transactions in an Emerging Market', '\"]\n",
      "2\n",
      "['[인터넷자원] - Finter, P', \"/ The Impact of Investor Sentiment on the German Stock Market', '\"]\n",
      "2\n",
      "['[학술지(정기간행물)] - 강효석', '20']\n",
      "2\n",
      "['[학술지(정기간행물)] - 강효석', '20']\n",
      "2\n",
      "['[학술지(정기간행물)] - 김병기', '20']\n",
      "2\n",
      "['[학술지(정기간행물)] - 김지수', '20']\n",
      "2\n",
      "['[학술지(정기간행물)] - 박광우', '20']\n",
      "2\n",
      "['[학술지(정기간행물)] - 신동령', '20']\n",
      "2\n",
      "['[학술지(정기간행물)] - 이원흠', '20']\n",
      "2\n",
      "['[학술지(정기간행물)] - 이원흠', '20']\n",
      "2\n",
      "['[학술지(정기간행물)] - 이원흠', '20']\n",
      "2\n",
      "['[학술지(정기간행물)] - 이원흠', '20']\n",
      "2\n",
      "['[학술지(정기간행물)] - 전용수', '20']\n",
      "2\n",
      "['[학술지(정기간행물)] - 정균화', '20']\n",
      "2\n",
      "['[학술지(정기간행물)] - 진태홍', '20']\n",
      "2\n",
      "['[학술지(정기간행물)] - F', \"/ The Cost of Capital Corporation Finance and the Theory of Investment : 261 ~ 297', '\"]\n",
      "2\n",
      "['[학술지(정기간행물)] - F', \"/ Corporate Income Taxes and the Cost of Capital : 433 ~ 443', '\"]\n",
      "2\n",
      "['[보고서] - Novaes, Walter', \"/ Capital Structure Choice When the Managers Arein Control : Entrenchment vs. Efficiency', '\"]\n",
      "2\n",
      "['[인터넷자원] -', \"/ 프앤가이드 보고서', '\"]\n",
      "2\n",
      "['[학술지(정기간행물)] -', '20']\n",
      "2\n",
      "['[학술지(정기간행물)] -', '20']\n",
      "2\n",
      "['[학술지(정기간행물)] -', '20']\n",
      "2\n",
      "['[학술지(정기간행물)] -', '20']\n",
      "2\n",
      "['[학술지(정기간행물)] -', '20']\n",
      "2\n",
      "['[학술지(정기간행물)] -', '20']\n",
      "2\n",
      "['[학술지(정기간행물)] - Andersen, T. G', '/ Real-time Price Discovery in Global Stock, Bond and Foreign Exchange Markets', \"Journal of International Economics 73 : 251 ~ 277', '\"]\n",
      "3\n",
      "['[학술지(정기간행물)] -', \"/ Market Responses and Liquidity Effect to Stock Splits in KoreaSun-Wung Hwang*Woo-Yong Shin**'\"]\n",
      "2\n",
      "['[인터넷자원] -', \"/ 교보생명', '\"]\n",
      "2\n",
      "['[인터넷자원] -', \"/ 대한생명', '\"]\n",
      "2\n",
      "['[인터넷자원] -', \"/ 동양생명', '\"]\n",
      "2\n",
      "['[인터넷자원] -', \"/ 미래에셋생명', '\"]\n",
      "2\n",
      "['[인터넷자원] -', \"/ 삼성생명', '\"]\n",
      "2\n",
      "['[인터넷자원] -', \"/ 생명보험협회', '\"]\n",
      "2\n",
      "['[인터넷자원] -', \"/ 신한생명', '\"]\n",
      "2\n",
      "['[인터넷자원] -', \"/ 알리안츠생명', '\"]\n",
      "2\n",
      "['[인터넷자원] -', \"/ 푸르덴셜생명', '\"]\n",
      "2\n",
      "['[인터넷자원] -', \"/ 한국거래소', '\"]\n",
      "2\n",
      "['[인터넷자원] -', \"/ 흥국생명', '\"]\n",
      "2\n",
      "['[인터넷자원] -', \"/ AIA생명', '\"]\n",
      "2\n",
      "['[인터넷자원] -', \"/ ING생명', '\"]\n",
      "2\n",
      "['[인터넷자원] -', \"/ kdb생명'\"]\n",
      "2\n",
      "['[학술지(정기간행물)] -', \"/ Returns to buying winners and selling losers：Implication for stock market efficiency Journal of Finance : 65 ~ 91', '\"]\n",
      "2\n",
      "['[인터넷자원] -', \"/ http://www.hud.gov/', '\"]\n",
      "2\n",
      "['[인터넷자원] -', \"/ http://www.hf.go.kr/', '\"]\n",
      "2\n",
      "['[인터넷자원] -', \"/ http://ecos.bok.or.kr/'\"]\n",
      "2\n",
      "['[학술지(정기간행물)] -', '20']\n",
      "2\n",
      "['[학술지(정기간행물)] -', \"/ Financial Intermediation and Delegated Monitoring : 393 ~ 414', '\"]\n",
      "2\n",
      "['[학술지(정기간행물)] -', '19']\n",
      "2\n",
      "['[학술지(정기간행물)] -', '20']\n",
      "2\n",
      "['[학술지(정기간행물)] -', '19']\n",
      "2\n",
      "['[단행본] - Hsiao, C', '/ Analysis of Panel Data', \"Cambridge University Press', '\"]\n",
      "3\n",
      "['[학술지(정기간행물)] -', '19']\n",
      "2\n",
      "['[학술지(정기간행물)] -', '19']\n",
      "2\n",
      "['[학술지(정기간행물)] -', \"/ A Test for Independence Based on the Correlation Dimension', '\"]\n",
      "2\n",
      "['[학술지(정기간행물)] -', '19']\n",
      "2\n",
      "['[학술지(정기간행물)] -', '19']\n",
      "2\n",
      "['[학술지(정기간행물)] -', '19']\n",
      "2\n",
      "['[학술지(정기간행물)] -', '19']\n",
      "2\n",
      "['[학술지(정기간행물)] -', '19']\n",
      "2\n",
      "['[학술지(정기간행물)] -', '19']\n",
      "2\n",
      "['[학술지(정기간행물)] -', '19']\n",
      "2\n",
      "['[보고서] - Huang, J', '203', \"How much of the corporate-treasury yield spread is due to credit risk : 1 ~ 57', '\"]\n",
      "3\n",
      "['[학술지(정기간행물)] - Grinblatt, M', '20']\n",
      "2\n",
      "['[보고서] - Li, L', \"/ An Economic Measure of Diversification Benefits', '\"]\n",
      "2\n",
      "['[인터넷자원] -', \"/ 전자공시시스템', '\"]\n",
      "2\n",
      "['[인터넷자원] - Acharya, V. V.', \"/ The end of market discipline? Investor expectations of implicit state guarantees', '\"]\n",
      "2\n",
      "['[보고서] - Kelly, B. T.', \"/ Too-Systemic-To-Fail: What Option Markets Imply About Sector-Wide Government Guarantees', '\"]\n",
      "2\n",
      "['[학술지(정기간행물)] -', '20']\n",
      "2\n",
      "['[학술지(정기간행물)] -', '20']\n",
      "2\n",
      "['[학술지(정기간행물)] -', '20']\n",
      "2\n",
      "['[학술지(정기간행물)] -', '19']\n",
      "2\n",
      "['[학술지(정기간행물)] -', '19']\n",
      "2\n",
      "['[학술지(정기간행물)] -', '20']\n",
      "2\n",
      "['[학술지(정기간행물)] -', \"/ Determinants of Capital Structure in KOSDAQ FirmsSeung-Tae Son*Yoon-Goo Lee**'\"]\n",
      "2\n",
      "['[학술지(정기간행물)] - Houge, T', '/ Divergence of Opinion in IPOs', \"Financial Management : 5 ~ 23', '\"]\n",
      "3\n",
      "['[학술지(정기간행물)] -', '20']\n",
      "2\n",
      "['[학술지(정기간행물)] -', \"/ A Test of the Agency Theory of Managerial Ownership : 36 ~ 46', '\"]\n",
      "2\n",
      "['[학술지(정기간행물)] -', \"/ Simultaneous Determination of Insider Ownership Journal of Financial and Quantitative Analysis : 247 ~ 263', '\"]\n",
      "2\n",
      "['[단행본] - Jorion, P', '/ Value at Risk, 2nd Edition', \"McGraw Hill', '\"]\n",
      "3\n",
      "['[학술지(정기간행물)] -', '19']\n",
      "2\n",
      "['[보고서] -', \"/ 債券市場統計分析報告, 各 號(年譜)', '\"]\n",
      "2\n",
      "['[인터넷자원] -', \"/ 중앙국채등기결산유한책임공사(CCDC)', '\"]\n",
      "2\n",
      "['[인터넷자원] -', \"/ http://www.chinabond.com.cn/', '\"]\n",
      "2\n",
      "['[인터넷자원] -', \"/ 중국증권등기결산유한책임공사(CSDC)', '\"]\n",
      "2\n",
      "['[인터넷자원] -', \"/ 한국 금융투자협회', '\"]\n",
      "2\n",
      "['[인터넷자원] -', \"/ 한국거래소', '\"]\n",
      "2\n",
      "['[인터넷자원] -', \"/ 중국 재정부', '\"]\n",
      "2\n",
      "['[인터넷자원] -', \"/ 인민은행', '\"]\n",
      "2\n",
      "['[인터넷자원] -', \"/ http://www.resset.cn/', '\"]\n",
      "2\n",
      "['[인터넷자원] -', \"/ 상해 은행간 시장 청산소', '\"]\n",
      "2\n",
      "['[인터넷자원] -', \"/ http://www.wind.com.cn/'\"]\n",
      "2\n",
      "['[기타자료] - 한국예탁결제원', \"/ 증권예탁통계 , 각 연도별 자료', '\"]\n",
      "2\n",
      "['[학술지(정기간행물)] -', '19']\n",
      "2\n",
      "['[학술지(정기간행물)] -', '19']\n",
      "2\n",
      "['[학술지(정기간행물)] -', '19']\n",
      "2\n",
      "['[학술지(정기간행물)] -', \"/ 기업합병과 주식취득이 주주의 부에 미치는 영향에 관한 실증적 연구', '\"]\n",
      "2\n",
      "['[학술지(정기간행물)] -', '19']\n",
      "2\n",
      "['[학술지(정기간행물)] -', \"/ Merger Returns and the Form of Financing', '\"]\n",
      "2\n",
      "['[학술지(정기간행물)] -', '19']\n",
      "2\n",
      "['[학술지(정기간행물)] -', '19']\n",
      "2\n",
      "['[학술지(정기간행물)] -', \"/ Methods of Payment Journal of Finance tras : 943 ~ 963'\"]\n",
      "2\n",
      "['[학술지(정기간행물)] -', \"/ 환율과 주가의 관계：국제적 실증비교 16 (1) : 261 ~ 281', '\"]\n",
      "2\n",
      "['[학술지(정기간행물)] - Banz, R', '/ Prices for State-Contingent Claims : Some Estimates and Applications', \"Journal of Business 51 (4) : 653 ~ 672', '\"]\n",
      "3\n",
      "['[인터넷자원] -', \"/ 한국은행 경제통계시스템', '\"]\n",
      "2\n",
      "['[인터넷자원] -', \"/ Bank for International Settlements', '\"]\n",
      "2\n",
      "['[학술지(정기간행물)] -', \"/ Discriminant Analysis and the Prediction of Corporate Bankruptcy The Journal of Finance : 589 ~ 609', '\"]\n",
      "2\n",
      "['[학술지(정기간행물)] - Bonanno G.,', '20']\n",
      "2\n",
      "['[학술지(정기간행물)] - Bonanno G.,', '20']\n",
      "2\n",
      "['[학술지(정기간행물)] -', '20']\n",
      "2\n",
      "['[학술지(정기간행물)] -', '20']\n",
      "2\n",
      "['[학술지(정기간행물)] - Kang, J', '/ The Dynamics of Trades and Quotes Revisions across Stock, Futures, and Options Markets', \"Review of Pacific Basin Financial Markets and Policies 11 : 1 ~ 28', '\"]\n",
      "3\n",
      "['[보고서] - Choi, P. M. S.', \"/ Is individual trading priced in stocks?', '\"]\n",
      "2\n",
      "['[학술지(정기간행물)] -', '20']\n",
      "2\n",
      "['[학술지(정기간행물)] - Warr, S. R.', '/ Equity Mispricing and Leverage Adjustments Costs', \"Journal of Financial and Quantitative Analysis 47 (3) : 589 ~ 616', '\"]\n",
      "3\n",
      "['[학술지(정기간행물)] -', \"/ Long-Run Stock Price Performance of the Firms that Grant Stock Options and the Separation of Ownership and ManagementJae Wook Jeong*Gil S. Bae**'\"]\n",
      "2\n",
      "['[학술지(정기간행물)] - 김동원', '20']\n",
      "2\n",
      "['[학술지(정기간행물)] - 김현의', '19']\n",
      "2\n",
      "['[학술지(정기간행물)] - 김현의', '19']\n",
      "2\n",
      "['[학술지(정기간행물)] - Bernanke, Ben', '19']\n",
      "2\n",
      "['[학술지(정기간행물)] - Bernanke, Ben', '19']\n",
      "2\n",
      "['[학술지(정기간행물)] - Heuvel, Skander', '20']\n",
      "2\n",
      "['[학술지(정기간행물)] - Hubbard', '19']\n",
      "2\n",
      "['[학술지(정기간행물)] - Ito, Takatoshi', '20']\n",
      "2\n",
      "['[학술지(정기간행물)] - Kashyap, Anil', '20']\n",
      "2\n",
      "['[학술지(정기간행물)] - Mishkin', '19']\n",
      "2\n",
      "['[학술지(정기간행물)] - Mishkin, Frederick', '19']\n",
      "2\n",
      "['[학술지(정기간행물)] - Park, Sang Yong', '20']\n",
      "2\n",
      "['[학술지(정기간행물)] - Woo, David', '19']\n",
      "2\n",
      "['[학술지(정기간행물)] -', '19']\n",
      "2\n",
      "['[학술지(정기간행물)] -', '19']\n",
      "2\n",
      "['[학술지(정기간행물)] -', '20']\n",
      "2\n",
      "['[학술지(정기간행물)] -', \"/ Department of Computer Science University of Toronto.', '\"]\n",
      "2\n",
      "['[학술지(정기간행물)] -', '19']\n",
      "2\n",
      "['[인터넷자원] -', \"/ 도드-프랭크법', '\"]\n",
      "2\n",
      "['[인터넷자원] -', \"/ 상품거래법', '\"]\n",
      "2\n",
      "['[인터넷자원] -', \"/ 중소기업법(미국)', '\"]\n",
      "2\n",
      "['[인터넷자원] -', \"/ 신생기업육성법(미국)', '\"]\n",
      "2\n",
      "['[인터넷자원] -', \"/ 자본시장법(한국)', '\"]\n",
      "2\n",
      "['[인터넷자원] -', \"/ U. S. Code of Federal Regulations', '\"]\n",
      "2\n",
      "['[인터넷자원] -', \"/ U. S. Code', '\"]\n",
      "2\n",
      "['[인터넷자원] -', \"/ SBA(미국 중소기업청)', '\"]\n",
      "2\n",
      "['[인터넷자원] -', \"/ SEC', '\"]\n",
      "2\n",
      "['[인터넷자원] -', \"/ CFTC', '\"]\n",
      "2\n",
      "['[인터넷자원] -', \"/ FSOC', '\"]\n",
      "2\n",
      "['[인터넷자원] -', \"/ 금융위원회(한국)'\"]\n",
      "2\n",
      "['[학술지(정기간행물)] - 김건우', '19']\n",
      "2\n",
      "['[학술지(정기간행물)] - Baltagi, Badi H', '19']\n",
      "2\n",
      "['[학술지(정기간행물)] - Chamberlain', '19']\n",
      "2\n",
      "['[인터넷자원] - Carter, D. A', \"/ Does Fuel Hedging Make Economic Sense? The Case of the US Airline Industry', '\"]\n",
      "2\n",
      "['[인터넷자원] - Lookman, Azia A', \"/ Does Hedging Increase Firm Value? Comparing Premia for Hedging ‘Big’ Versus ‘Small’ Risks', '\"]\n",
      "2\n",
      "['[인터넷자원] - Lin, F.-C', \"/ REITs Performance and Macroeconomic Factors: A Stochastic Dominance Approach', '\"]\n",
      "2\n",
      "['[학술지(정기간행물)] -', '19']\n",
      "2\n",
      "['[학술지(정기간행물)] -', '/ \"기업경영분석\"\\', \\'']\n",
      "2\n",
      "['[학술지(정기간행물)] -', \"/ A Re-examination of the Operating-Financial Leverage Tradeoff Hypothesis Quarterly Review of Economics and Finance', '\"]\n",
      "2\n",
      "['[학술지(정기간행물)] -', \"/ The Technology of Risk and Return : 241 ~ 251', '\"]\n",
      "2\n",
      "['[학술지(정기간행물)] -', \"/ The impact of the degrees of operating and financial leverage on the systematic risk of common stocks Quarterly Journal of Business and Economics', '\"]\n",
      "2\n",
      "['[학술지(정기간행물)] -', \"/ Properties of time-series estimates of degree of leverage measures', '\"]\n",
      "2\n",
      "['[학술지(정기간행물)] -', \"/ The Impact of the Degrees of Operating and Financial Leverage on Systematic Risk of Common Stock Journal of Financial and Quantitative Analysis', '\"]\n",
      "2\n",
      "['[학술지(정기간행물)] -', 'spring19']\n",
      "2\n",
      "['[학술지(정기간행물)] -', \"/ Empirical Measurement of Operating Leverage for Growing Firms', '\"]\n",
      "2\n",
      "['[학술지(정기간행물)] -', \"/ Effects of Debt on the Degrees of Operating and Financial Leverage', '\"]\n",
      "2\n",
      "['[학술지(정기간행물)] -', \"/ The Theory of Production : 879 ~ 887', '\"]\n",
      "2\n",
      "['[학술지(정기간행물)] -', '20']\n",
      "2\n",
      "['[학술지(정기간행물)] -', \"/ Warrant Prices as Indicators of Expectations and Preferences The Random Character of Stock Market Prices : 412 ~ 474', '\"]\n",
      "2\n",
      "['[기타자료] - 금융감독원', \"/ 은행경영통계, 각호', '\"]\n",
      "2\n",
      "['[기타자료] - 한국예탁결제원', \"/ 증권예탁통계, 각호', '\"]\n",
      "2\n",
      "['[기타자료] - 한국은행', \"/ 조사통계월보, 각호', '\"]\n",
      "2\n",
      "['[기타자료] - 한국은행', \"/ 통화금융, 각호', '\"]\n",
      "2\n",
      "['[단행본] - Boyd, R.', '/ Culture and the Evolutional Process', \"The university of Chicago press', '\"]\n",
      "3\n",
      "['[보고서] - Rieger, O. M.', \"/ Prospect Theory Around the World', '\"]\n",
      "2\n",
      "['[학술지(정기간행물)] - 박대근', '19']\n",
      "2\n",
      "['[학술지(정기간행물)] - 신상기', '20']\n",
      "2\n",
      "['[학술지(정기간행물)] -', '20']\n",
      "2\n",
      "['[학술지(정기간행물)] -', '20']\n",
      "2\n",
      "['[인터넷자원] - 통계청', \"/ 국가통계포털, 인구동태', '\"]\n",
      "2\n",
      "['[인터넷자원] - Blake D', \"/ Living with Mortality : Longevity Bonds and Other Mortality-Linked Securities', '\"]\n",
      "2\n",
      "['[인터넷자원] - LLMA', \"/ Longevity Index Framework', '\"]\n",
      "2\n",
      "['[학술지(정기간행물)] - 공명재', '19']\n",
      "2\n",
      "['[학술지(정기간행물)] - 김병기', '20']\n",
      "2\n",
      "['[학술지(정기간행물)] - 김병기', '20']\n",
      "2\n",
      "['[학술지(정기간행물)] - 김주성', '19']\n",
      "2\n",
      "['[학술지(정기간행물)] - 김지수', '20']\n",
      "2\n",
      "['[학술지(정기간행물)] - 박광우', '20']\n",
      "2\n",
      "['[학술지(정기간행물)] - 이원흠', '20']\n",
      "2\n",
      "['[학술지(정기간행물)] - 전용수', '20']\n",
      "2\n",
      "['[학술지(정기간행물)] - F', \"/ “The Cost of Capital Corporation Finance and the Theory of Investment : 261 ~ 297', '\"]\n",
      "2\n",
      "['[학술지(정기간행물)] - F', \"/ “Corporate Income Taxes and the Cost of Capital : 433 ~ 443', '\"]\n",
      "2\n",
      "['[학술지(정기간행물)] - 김문현', '20']\n",
      "2\n",
      "['[학술지(정기간행물)] - 김영규', \"/ “이사회 특성이 기업가치에 미치는 영향 구성 및 경영활동을 중심으로”', '\"]\n",
      "2\n",
      "['[학술지(정기간행물)] - 공재식', '19']\n",
      "2\n",
      "['[학술지(정기간행물)] - 박종일', '20']\n",
      "2\n",
      "['[학술지(정기간행물)] - Beasley', '19']\n",
      "2\n",
      "['[학술지(정기간행물)] - Choi, J. J', '20']\n",
      "2\n",
      "['[학술지(정기간행물)] - Erickson, J', '20']\n",
      "2\n",
      "['[학술지(정기간행물)] - McLaughlin, R.', '/ The Information Content of Corporate Offerings of Seasoned Securities: An Empirical Analysis', \"Financial Management 27 (2) : 31 ~ 45', '\"]\n",
      "3\n",
      "['[기타자료] - Loan Connector', \"/ Thompson Reuters'\"]\n",
      "2\n",
      "['[인터넷자원] -', \"/ World Federation of Exchanges'\"]\n",
      "2\n",
      "['[인터넷자원] - Bergen, J.', \"/ Asset Allocation Strategies, Investopedia (A Forbes Media Company)', '\"]\n",
      "2\n",
      "['[인터넷자원] - Buysschaert, A', \"/ Equity Sales in Belgian Corporate Groups： Expropriation of Minority Shareholders', '\"]\n",
      "2\n",
      "['[인터넷자원] - Sanner, J', \"/ Asset Specificity and the Hold-Up problem-Lessons to Learn from Transaction Cost Economics', '\"]\n",
      "2\n",
      "['[학술지(정기간행물)] - Fabozzi, Frank J', '20']\n",
      "2\n",
      "['[학술지(정기간행물)] - Danielsson, J', '20']\n",
      "2\n",
      "['[학술지(정기간행물)] - Feller', '19']\n",
      "2\n",
      "['[학술지(정기간행물)] -', \"/ Optimal Portfolio Selection in a Downside Risk FrameworkNamwon HyungKyuSook Han*'\"]\n",
      "2\n",
      "['[인터넷자원] -', \"/ http://dart.fss.or.kr', '\"]\n",
      "2\n",
      "['[인터넷자원] -', \"/ http://kind.krx.co.kr'\"]\n",
      "2\n",
      "['[인터넷자원] - Kahl, M.', \"/ Do Firms Use Commercial Paper to Enhance Financial Flexibility?', '\"]\n",
      "2\n",
      "['[인터넷자원] -', \"/ 한국거래소', '\"]\n",
      "2\n",
      "['[인터넷자원] - SEC', \"/ Appendix 11 Key. SEC Financial Responsibility Rules'\"]\n",
      "2\n",
      "['[학술지(정기간행물)] -', '20']\n",
      "2\n",
      "['[학술지(정기간행물)] -', '19']\n",
      "2\n",
      "['[학술지(정기간행물)] - 김지열', '20']\n",
      "2\n",
      "['[학술지(정기간행물)] - 박정식', '20']\n",
      "2\n",
      "['[학술지(정기간행물)] - 이명훈', '19']\n",
      "2\n",
      "['[학술지(정기간행물)] - 이종원', '20']\n",
      "2\n",
      "['[학술지(정기간행물)] -', '20']\n",
      "2\n",
      "['[학술지(정기간행물)] -', '20']\n",
      "2\n",
      "['[학술지(정기간행물)] -', '19']\n",
      "2\n",
      "['[학술지(정기간행물)] -', '19']\n",
      "2\n",
      "['[학술지(정기간행물)] -', \"/ Short Term Interest Rates as Predictors of Inflation', '\"]\n",
      "2\n",
      "['[학술지(정기간행물)] -', '19']\n",
      "2\n",
      "['[학술지(정기간행물)] -', '19']\n",
      "2\n",
      "['[학술지(정기간행물)] - 권영준', '20']\n",
      "2\n",
      "['[학술지(정기간행물)] - 금융감독원', '20']\n",
      "2\n",
      "['[학술지(정기간행물)] - Easley, D', '/ Is Information Risk a Determinant of Asset Returns?', \"Journal of Finance 57 : 2185 ~ 2221', '\"]\n",
      "3\n",
      "['[학술지(정기간행물)] -', '19']\n",
      "2\n",
      "['[학술지(정기간행물)] -', '19']\n",
      "2\n",
      "['[학술지(정기간행물)] -', '19']\n",
      "2\n",
      "['[보고서] - Chuhan, P.', \"/ Are Institutional Investors an Important Source of Portfolio Investment in Emerging Markets?', '\"]\n",
      "2\n",
      "['[학술지(정기간행물)] - Domowitz, I.', '/ International Cross-listing and Order Flow Migration: Evidence From an Emerging Market', \"Journal of Finance 53 : 2001 ~ 2027', '\"]\n",
      "3\n",
      "['[보고서] - Dvorak, Tomas', \"/ Does Foreign Trading Destabilize Local Stock Markets?', '\"]\n",
      "2\n",
      "['[학술지(정기간행물)] - Hamao, Y.', '/ Living with the “Enemy” : An Analysis of Foreign Investment in Japanese Market', \"Journal of International Money and Finance 20 (5) : 715 ~ 735', '\"]\n",
      "3\n",
      "['[학술지(정기간행물)] - Huang, C. H.', '/ Value-at-Risk Analysis for Taiwan Stock Index Futures :Fat Tails and Conditional Asymmetries in Return Innovations', \"Review of Quantitative Finance and Accounting 22 (2) : 79 ~ 95', '\"]\n",
      "3\n",
      "['[학술지(정기간행물)] - Singh, A.', '/ Emerging Stock Markets, Portfolio Capital Flows and Long-term Economic Growth : Micro and Macroeconomic Perspectives', \"World Development 26 (4) : 607 ~ 622'\"]\n",
      "3\n",
      "['[학술지(정기간행물)] - Michaely, R', '/ Dividend reactions to dividend initiations and omissions : overreaction or drift', \"Journal of Finance 50 : 573 ~ 608', '\"]\n",
      "3\n",
      "['[학술지(정기간행물)] - Gaver, J. J', '/ Additional evidence on the association between the investment opportunity set and corporate financing, dividend, and compensation policies', \"Journal of Accounting and Economics 16 : 125 ~ 160', '\"]\n",
      "3\n",
      "['[학술지(정기간행물)] - Bhattacharya, U', '20']\n",
      "2\n",
      "['[학술지(정기간행물)] - Fama', '/ Common risk factors in the returns on stocks and bonds Journal of Financial Economics ']\n",
      "2\n",
      "['[학술지(정기간행물)] -', \"/ The Tests of Free Cash Flows Hypothesis about Stock RepurchaseMin-Shik Shin*Jung-Suk Lee**'\"]\n",
      "2\n",
      "['[학술지(정기간행물)] - Goosbee, A.', '/ What happens when you tax the rich? Evidence from executive compensation', \"Journal of Political Economy 108 : 352 ~ 378', '\"]\n",
      "3\n",
      "['[학술지(정기간행물)] - Kyriacou, K.', '/ Private information in executive stock option trades : Evidence of insider trading in the UK', \"Economica 77 (308) : 751 ~ 774', '\"]\n",
      "3\n",
      "['[보고서] - Safdar, I.', \"/ Stock option ecercise, earnings management, and abnormal stock returns', '\"]\n",
      "2\n",
      "['[보고서] - Wei, Y.', \"/ Executive stock option exercises, insider information and earnings management', '\"]\n",
      "2\n",
      "['[학술지(정기간행물)] -', \"/ An Empirical Study on Dividend Initiation Decisions of FirmsMin-Shik Shin*Joon-Hyup Song**'\"]\n",
      "2\n",
      "['[학술지(정기간행물)] -', '19']\n",
      "2\n",
      "['[학술지(정기간행물)] -', '19']\n",
      "2\n",
      "['[단행본] - Bernstein, J. I', '/ Rates of Return on Physical and R&D Capital and Structure of the Productions Process：Cross Section and Time Series Evidence ; Advances in Econometrics and Modelling', \"Kluwer Academi', '\"]\n",
      "3\n",
      "['[학술지(정기간행물)] -', \"/ An empirical application of stochastic volatility models University of Limberg', '\"]\n",
      "2\n",
      "['[학술지(정기간행물)] -', \"/ A GARCH Examination of the Relationship between Volume and price Variability in Futures Markets The Journal of Futures Markets : 613 ~ 621', '\"]\n",
      "2\n",
      "['[학술지(정기간행물)] - Coles, S', '20']\n",
      "2\n",
      "['[기타자료] - Kremp, E.', \"/ “Estimation of a debt function：Evidence from French and German firm panel data,” in A. Sauv? and M. Scheuer (eds), Corporate Finance in Germany and France (Frankfurt-am-Main and Paris：Deutsche Bundesbank and Banque', '\"]\n",
      "2\n",
      "['[학술지(정기간행물)] - 한국증권업협회 증권연수원', '20']\n",
      "2\n",
      "['[학술지(정기간행물)] - 정문경', '20']\n",
      "2\n",
      "['[학술지(정기간행물)] - Andrews', '19']\n",
      "2\n",
      "['[학술지(정기간행물)] - Ang, A', '20']\n",
      "2\n",
      "['[학술지(정기간행물)] - Bai, J', '20']\n",
      "2\n",
      "['[학술지(정기간행물)] - Campbell, J. Y', '20']\n",
      "2\n",
      "['[학술지(정기간행물)] - Goyal, A', '20']\n",
      "2\n",
      "['[학술지(정기간행물)] - Hansen', '19']\n",
      "2\n",
      "['[학술지(정기간행물)] - Paye, B', '20']\n",
      "2\n",
      "['[학술지(정기간행물)] - Ralach, D', '20']\n",
      "2\n",
      "['[학술지(정기간행물)] - Schwert, W. G', '20']\n",
      "2\n",
      "['[학술지(정기간행물)] - Viceira, L', '19']\n",
      "2\n",
      "['[학술지(정기간행물)] -', '20']\n",
      "2\n",
      "['[학술지(정기간행물)] -', '19']\n",
      "2\n",
      "['[학술지(정기간행물)] -', '20']\n",
      "2\n",
      "['[학술지(정기간행물)] -', '19']\n",
      "2\n",
      "['[학술지(정기간행물)] -', '20']\n",
      "2\n",
      "['[학술지(정기간행물)] -', '19']\n",
      "2\n",
      "['[학술지(정기간행물)] -', \"/ The Cost of Capital and the Theory of Investment : 655 ~ 669', '\"]\n",
      "2\n",
      "['[학술지(정기간행물)] -', \"/ Estimating Betas from Nonsynchronous Data Journal of Financial Economics5 : 309 ~ 327'\"]\n",
      "2\n",
      "['[학술지(정기간행물)] -', '19']\n",
      "2\n",
      "['[학술지(정기간행물)] -', '19']\n",
      "2\n",
      "['[학술지(정기간행물)] -', '19']\n",
      "2\n",
      "['[학술지(정기간행물)] -', '19']\n",
      "2\n",
      "['[학술지(정기간행물)] -', '19']\n",
      "2\n",
      "['[학술지(정기간행물)] -', \"/ Entry and Exit Decisions under Uncertainty Journal of Political Economy : 620 ~ 638', '\"]\n",
      "2\n",
      "['[학술지(정기간행물)] -', \"/ The Determinants of Capital Structure Choice Journal of Finance : 1 ~ 19'\"]\n",
      "2\n",
      "['[인터넷자원] -', \"/ http://dart.fss.or.kr', '\"]\n",
      "2\n",
      "['[인터넷자원] -', \"/ http://kind.krx.co.kr'\"]\n",
      "2\n",
      "['[학술지(정기간행물)] - Anis', \"/ The Expected Value of the Adjusted Rescaled Hurst Range of Independent Normal Summands : 111 ~ 63 116', '\"]\n",
      "2\n",
      "['[학술지(정기간행물)] - Crnkovic, C', '19']\n",
      "2\n",
      "['[학술지(정기간행물)] - Lambert, P', '20']\n",
      "2\n",
      "['[학술지(정기간행물)] - Premaratne, Gamini', '20']\n",
      "2\n",
      "['[학술지(정기간행물)] - RiskMetrics Group', '19']\n",
      "2\n",
      "['[학술지(정기간행물)] - 장운욱', '20']\n",
      "2\n",
      "['[학술지(정기간행물)] - 조승모', '20']\n",
      "2\n",
      "['[학술지(정기간행물)] - Applebaum, D', '20']\n",
      "2\n",
      "['[학술지(정기간행물)] - Cont, R', '20']\n",
      "2\n",
      "['[학술지(정기간행물)] - Durrett, R', '20']\n",
      "2\n",
      "['[학술지(정기간행물)] - Durrett, R', '20']\n",
      "2\n",
      "['[학술지(정기간행물)] - Hogg, R. V', '20']\n",
      "2\n",
      "['[학술지(정기간행물)] - Hull, J. C', '20']\n",
      "2\n",
      "['[학술지(정기간행물)] - Kwok, Y', '19']\n",
      "2\n",
      "['[학술지(정기간행물)] - Railbe, S', '20']\n",
      "2\n",
      "['[학술지(정기간행물)] - Ross, R', '19']\n",
      "2\n",
      "['[학술지(정기간행물)] - Ross, R', '20']\n",
      "2\n",
      "['[학술지(정기간행물)] - Schoutens, W', '20']\n",
      "2\n",
      "['[학술지(정기간행물)] - Shreve, S. E', '20']\n",
      "2\n",
      "['[학술지(정기간행물)] -', \"/ 한국은행 경제통계시스템 http://ecos.bok.or.kr/', '\"]\n",
      "2\n",
      "['[학술지(정기간행물)] -', \"/ FnGuide http://www.fnguide.com/'\"]\n",
      "2\n",
      "['[학술지(정기간행물)] -', '20']\n",
      "2\n",
      "['[학술지(정기간행물)] -', '19']\n",
      "2\n",
      "['[학술지(정기간행물)] -', '19']\n",
      "2\n",
      "['[학술지(정기간행물)] -', '20']\n",
      "2\n",
      "['[학술지(정기간행물)] - Novaes, W', '/ Capital Structure Choice When the Managers Are in Control：Entrenchment vs. Efficiency', \"NBER Working Paper 5384', '\"]\n",
      "3\n",
      "['[학술지(정기간행물)] -', '19']\n",
      "2\n",
      "['[학술지(정기간행물)] -', '19']\n",
      "2\n",
      "['[학술지(정기간행물)] -', '19']\n",
      "2\n",
      "['[학술지(정기간행물)] -', 'fall', \"The Ex-Dividend-Day Behavior of Stock Prices： The Case of Japan 995 : 817 ~ 847', '\"]\n",
      "3\n",
      "['[학술지(정기간행물)] -', '20']\n",
      "2\n",
      "['[학술지(정기간행물)] -', '20']\n",
      "2\n",
      "['[학술지(정기간행물)] - Gebhardt, William', '/ Toward an implied cost-of-capital', \"Journal of Accounting Research 39 : 135 ~ 176', '\"]\n",
      "3\n",
      "['[기타자료] - Kremp, E.', '/ E. St?ss, and D. Gerdesmeier, \"Estimation of a debt function: Evidence from French and German firm panel data\", in A.Sauve and M. Scheuer (eds), Corporate Finance in Germany and France(Frankfurt -am-Main and Paris : Deutsche Bundesbank and Banq\\', \\'']\n",
      "2\n",
      "['[학술지(정기간행물)] - Levy, D.', '/ The transactions cost approach to vertical integration : An empiricalexamination', \"Review of Economics and Statistics 67 : 438 ~ 445', '\"]\n",
      "3\n",
      "['[학술지(정기간행물)] - Goldstein, M. A', '19']\n",
      "2\n",
      "['[학술지(정기간행물)] - Goldstein, M. A', '20']\n",
      "2\n",
      "['[학술지(정기간행물)] - New York Stock Exchange', '19']\n",
      "2\n",
      "['[학술지(정기간행물)] - New York Stock Exchange', '19']\n",
      "2\n",
      "['[학술지(정기간행물)] - Rhee, S. G', '20']\n",
      "2\n",
      "['[인터넷자원] -', \"/ 통계청 홈페이지', '\"]\n",
      "2\n",
      "['[인터넷자원] -', \"/ 한국은행 홈페이지', '\"]\n",
      "2\n"
     ]
    }
   ],
   "source": [
    "for i in new_refer_ls : \n",
    "    if i[0] != '0' : \n",
    "        if not re.findall('[0-9]{4}',i[1]) : \n",
    "            print(i)\n",
    "            print(len(i))\n",
    "            \n",
    "# 안타깝게도 존재한다. 이런 경우 일단 귀속시킨 후에 교수님께 피드백을 요청한다."
   ]
  },
  {
   "cell_type": "markdown",
   "metadata": {},
   "source": [
    "### 3개짜리의 구조\n",
    "- 1. 논문의 성향\n",
    "- 1.5. 논문의 저자(있는 경우도 있고 없는 경우도 있음)\n",
    "- 2. 논문의 년도\n",
    "- 3. 논문의 이름"
   ]
  },
  {
   "cell_type": "code",
   "execution_count": 18,
   "metadata": {},
   "outputs": [
    {
     "data": {
      "text/plain": [
       "Counter({'[학술지(정기간행물)]': 6942,\n",
       "         '[기타자료]': 365,\n",
       "         '[보고서]': 1788,\n",
       "         '[단행본]': 58,\n",
       "         '[학술대회논문]': 7,\n",
       "         '[인터넷자원]': 3})"
      ]
     },
     "execution_count": 18,
     "metadata": {},
     "output_type": "execute_result"
    }
   ],
   "source": [
    "from collections import Counter\n",
    "Counter([re.findall('\\[.+\\]',i)[0] for i in [i[0] for i in new_refer_ls if len(i) == 3]])"
   ]
  },
  {
   "cell_type": "markdown",
   "metadata": {},
   "source": [
    "### 길이가 3개인 리스트에서 카테고리가 보고서인 경우\n",
    "- 보고서가 완전한 모양새를 갖추기 위해서는 카테고리 , 저자명 , 저널이름 , 논문 이름 , 이슈 년도가 있어야 한다.\n",
    "- 길이가 3개인 경우, 이를 다 갖추지 못하고, 단지 이름과 년도 논문 이름만 나와있는 것을 볼 수 있다."
   ]
  },
  {
   "cell_type": "code",
   "execution_count": 19,
   "metadata": {},
   "outputs": [
    {
     "data": {
      "text/plain": [
       "[['[보고서] - BIS Monetary and Economic Department',\n",
       "  '2005',\n",
       "  \"International Banking and Financial Market Developments', '\"],\n",
       " ['[보고서] - Conrad, J',\n",
       "  '2009',\n",
       "  \"Ex ante Skewness and Expected Stock Returns', '\"],\n",
       " ['[보고서] - NICE신용평가', '2014', \"2013년 기업어음 신용등급평가 결과 분석', '\"],\n",
       " ['[보고서] - Leigh, Andrew',\n",
       "  '2003',\n",
       "  \"What do financial markets think of war in Iraq?', '\"],\n",
       " ['[보고서] - Benzoni,L',\n",
       "  '1998',\n",
       "  \"Pricing options under stochastic volatility : An econometric analysis,working paper', '\"]]"
      ]
     },
     "execution_count": 19,
     "metadata": {},
     "output_type": "execute_result"
    }
   ],
   "source": [
    "new_df.loc[list(set([idx for idx,val in enumerate(new_refer_ls) if len(val) == 3]).intersection(\n",
    "set([idx for idx,val in enumerate(new_refer_ls) if re.findall('\\[.+\\]',val[0]) == ['[보고서]']])))]['tuned_refer'].tolist()[:5]"
   ]
  },
  {
   "cell_type": "markdown",
   "metadata": {},
   "source": [
    "### 길이가 3인 리스트에서 카테고리가 단행본인 경우\n",
    "- 단행본이 모양새를 다 갖추기 위해서는,카테고리 , 저자명 , 저널이름 , 논문이름 , 이슈 년도가 있어야 한다.\n",
    "- 길이가 3개인 경우, 이를 다 갖추지 못하고, 단지 저자와 년도 논문 이름만 나와있는 경우를 볼 수 있다."
   ]
  },
  {
   "cell_type": "code",
   "execution_count": 20,
   "metadata": {},
   "outputs": [
    {
     "data": {
      "text/plain": [
       "[['[단행본] - Williamson, O. E.',\n",
       "  '1989',\n",
       "  \"Handbook of Industrial Organization 1 : 135 ~ 182'\"],\n",
       " ['[단행본] - 한국거래소', '2009', \"2009 ELS 기초주식 감리백서', '\"],\n",
       " ['[단행본] - OECD',\n",
       "  '1998',\n",
       "  \"Harmful Tax Competition: An Emerging Global Issue', '\"],\n",
       " ['[단행본] - OECD',\n",
       "  '2000',\n",
       "  \"Towards Global Tax Co-operation: Progress in Identifying and Eliminating Harmful Tax Practices', '\"],\n",
       " ['[단행본] - Bernanke, B.',\n",
       "  '1999',\n",
       "  \"The Financial Accelerator in a Quantitative Business Cycle Framework, In Handbook of Macroeconomics, Vol. 1C : 1341 ~ 1393', '\"]]"
      ]
     },
     "execution_count": 20,
     "metadata": {},
     "output_type": "execute_result"
    }
   ],
   "source": [
    "new_df.loc[list(set([idx for idx,val in enumerate(new_refer_ls) if len(val) == 3]).intersection(\n",
    "set([idx for idx,val in enumerate(new_refer_ls) if re.findall('\\[.+\\]',val[0]) == ['[단행본]']])))]['tuned_refer'].tolist()[:5]"
   ]
  },
  {
   "cell_type": "markdown",
   "metadata": {},
   "source": [
    "### 길이가 3인 리스트에서 카테고리가 기타 자료인 경우\n",
    "- 단행본이 모양새를 다 갖추기 위해서는,카테고리 , 저자명 , 저널이름 , 논문이름 , 이슈 년도가 있어야 한다.\n",
    "- 위의 기타 자료와 단행본 과는 다르게, 저널 명이 보이는 경우가 있다.(Manuscript , 괄호안에 있는 기관들 또는 워킹 페이퍼 , SSRN)\n",
    "- 패턴은 지켜본 결과, 쉼표로 이어져 있거나 괄호 안에 위치해 있는 경우가 있다."
   ]
  },
  {
   "cell_type": "code",
   "execution_count": 22,
   "metadata": {},
   "outputs": [
    {
     "data": {
      "text/plain": [
       "[['[기타자료] - 한국기업평가', '2014', \"CP Rating Performance', '\"],\n",
       " ['[기타자료] - 한국신용평가', '2014', \"CP Rating Performance, 2013', '\"],\n",
       " ['[기타자료] - Statman, M',\n",
       "  '2003',\n",
       "  \"Investor overconfidence and trading volume, working paper of Santa Clara University', '\"],\n",
       " ['[기타자료] - 대신증권',\n",
       "  '/ Leanding sector rotation strategy',\n",
       "  \"Quant Strategy', '\"],\n",
       " ['[기타자료] - Oeuvray, R',\n",
       "  '2010',\n",
       "  \"On time scaling of semivariance in a jump-diffusion process, Version 1', '\"],\n",
       " ['[기타자료] - Braga, M. D',\n",
       "  '2007',\n",
       "  \"TEV Sensitivity to Views in Black Litterman Model', '\"],\n",
       " ['[기타자료] - 한국은행', '2009', \"기업경영분석', '\"],\n",
       " ['[기타자료] - 한국은행', '2009', \"달러화 및 엔화의 글로벌 캐리트레이드 비교 분석과 시사점', '\"],\n",
       " ['[기타자료] - 공정거래위원회', '2009', \"대규모 기업집단 시책', '\"],\n",
       " ['[기타자료] - 한국금융투자협회', '2014', \"증권 인수업무 등에 관한 규정', '\"]]"
      ]
     },
     "execution_count": 22,
     "metadata": {},
     "output_type": "execute_result"
    }
   ],
   "source": [
    "new_df.loc[list(set([idx for idx,val in enumerate(new_refer_ls) if len(val) == 3]).intersection(\n",
    "set([idx for idx,val in enumerate(new_refer_ls) if re.findall('\\[.+\\]',val[0]) == ['[기타자료]']])))]['tuned_refer'].tolist()[:10]"
   ]
  },
  {
   "cell_type": "markdown",
   "metadata": {},
   "source": [
    "### 길이가 3인 리스트에서 카테고리가 학술 대회 논문인 경우\n",
    "- 학술대회논문이 모양새를 다 갖추기 위해서는,카테고리 , 저자명 , 학교이름 , 학위 이름, 논문이름 , 이슈 년도가 있어야 한다.\n",
    "- 길이가 3개인 경우, 이를 다 갖추지 못하고, 저자 이름 / 년도 / 논문 이름만 기제되어 있는 것을 알 수 있다."
   ]
  },
  {
   "cell_type": "code",
   "execution_count": 23,
   "metadata": {},
   "outputs": [
    {
     "data": {
      "text/plain": [
       "[['[학술대회논문] - 홍성희',\n",
       "  '/ 주가지수 선물, 주가지수 옵션, 주식 현물의 상호 작용에대한 재조명',\n",
       "  \"1998 추계학술발표회 발표논문집 : 113 ~ 149', '\"],\n",
       " ['[학술대회논문] - Standard',\n",
       "  '2009',\n",
       "  \"/ 2008 Annual global corporate default study and rating tran sitions', '\"]]"
      ]
     },
     "execution_count": 23,
     "metadata": {},
     "output_type": "execute_result"
    }
   ],
   "source": [
    "new_df.loc[list(set([idx for idx,val in enumerate(new_refer_ls) if len(val) == 3]).intersection(\n",
    "set([idx for idx,val in enumerate(new_refer_ls) if re.findall('\\[.+\\]',val[0]) == ['[학술대회논문]']])))]['tuned_refer'].tolist()[:2]"
   ]
  },
  {
   "cell_type": "code",
   "execution_count": 24,
   "metadata": {},
   "outputs": [
    {
     "data": {
      "text/plain": [
       "Counter({'[학술지(정기간행물)]': 25630,\n",
       "         '[단행본]': 970,\n",
       "         '[기타자료]': 201,\n",
       "         '[학술대회논문]': 383,\n",
       "         '[학위논문]': 5})"
      ]
     },
     "execution_count": 24,
     "metadata": {},
     "output_type": "execute_result"
    }
   ],
   "source": [
    "from collections import Counter\n",
    "Counter([re.findall('\\[.+\\]',i)[0] for i in [i[0] for i in new_refer_ls if len(i) == 4]])"
   ]
  },
  {
   "cell_type": "code",
   "execution_count": 25,
   "metadata": {},
   "outputs": [
    {
     "data": {
      "text/plain": [
       "Counter({'[학위논문]': 94})"
      ]
     },
     "execution_count": 25,
     "metadata": {},
     "output_type": "execute_result"
    }
   ],
   "source": [
    "from collections import Counter\n",
    "Counter([re.findall('\\[.+\\]',i)[0] for i in [i[0] for i in new_refer_ls if len(i) == 5]])"
   ]
  },
  {
   "cell_type": "code",
   "execution_count": 26,
   "metadata": {},
   "outputs": [
    {
     "name": "stdout",
     "output_type": "stream",
     "text": [
      "0 9163 27189 94\n"
     ]
    }
   ],
   "source": [
    "print(len([i for i in new_refer_ls if len(i) == 1]),\n",
    "len([i for i in new_refer_ls if len(i) == 3]),\n",
    "len([i for i in new_refer_ls if len(i) == 4]),\n",
    "len([i for i in new_refer_ls if len(i) == 5]))"
   ]
  },
  {
   "cell_type": "markdown",
   "metadata": {},
   "source": [
    "### 즉, 3개짜리에는 발행기관명과 학술지명이 있는 경우, 없는 경우가 불규칙하게 분포되어 있다. 이 또한 교수님께 피드백을 받아야 하는 부분이다."
   ]
  },
  {
   "cell_type": "code",
   "execution_count": 27,
   "metadata": {},
   "outputs": [
    {
     "data": {
      "text/plain": [
       "['[학술지(정기간행물)] - 김명직', '2001', \"한국채권시장과 신용위험 (112)', '\"]"
      ]
     },
     "execution_count": 27,
     "metadata": {},
     "output_type": "execute_result"
    }
   ],
   "source": [
    "[i for i in new_refer_ls if len(i) == 3][0]"
   ]
  },
  {
   "cell_type": "code",
   "execution_count": 28,
   "metadata": {
    "scrolled": false
   },
   "outputs": [
    {
     "data": {
      "text/plain": [
       "\"한국채권시장과 신용위험 (112)', '\""
      ]
     },
     "execution_count": 28,
     "metadata": {},
     "output_type": "execute_result"
    }
   ],
   "source": [
    "[i[-1] for i in new_refer_ls if len(i) == 3][0]\n",
    "# 즉, 3개짜리에는 발행기관명과 학술지명이 있는 경우, 없는 경우가 불규칙하게 분포되어 있다. 이 또한 교수님께 피드백을 받아야 하는 부분이다."
   ]
  },
  {
   "cell_type": "code",
   "execution_count": 29,
   "metadata": {
    "scrolled": true
   },
   "outputs": [
    {
     "data": {
      "text/plain": [
       "[\"Discriminant Analysis and The Prediction of Corporate Bankruptcy Journal of Finance : 589 ~ 609', '\",\n",
       " \"The Cyclical Behavior of Risk Spreads On New Municipal Issues Journal of Money : 348 ~ 362', '\",\n",
       " \"The Pricing of Options and Corporate Liabilities Journal of Political Economy : 637 ~ 654', '\",\n",
       " \"Optimal Bond Trading with Personal Taxes Journal of Financial Economics : 299 ~ 335', '\",\n",
       " \"An Empirical Investigation of U.S. Firms in Renegotiation Journal of Finance : 747 ~ 769', '\"]"
      ]
     },
     "execution_count": 29,
     "metadata": {},
     "output_type": "execute_result"
    }
   ],
   "source": [
    "[j for j in [i[-1] for i in new_refer_ls if len(i) == 3] if re.findall('Journal',j)][:5]"
   ]
  },
  {
   "cell_type": "markdown",
   "metadata": {},
   "source": [
    "# 나중에 병합할 때 혼류가 없도록 길이에 따른 인덱스를 저장해준다"
   ]
  },
  {
   "cell_type": "code",
   "execution_count": 31,
   "metadata": {},
   "outputs": [
    {
     "data": {
      "text/plain": [
       "Counter({3: 9163, 4: 27189, 2: 715, 5: 94})"
      ]
     },
     "execution_count": 31,
     "metadata": {},
     "output_type": "execute_result"
    }
   ],
   "source": [
    "Counter(len(i) for i in new_df['tuned_refer'])"
   ]
  },
  {
   "cell_type": "code",
   "execution_count": 32,
   "metadata": {},
   "outputs": [
    {
     "data": {
      "text/plain": [
       "(715, 9163, 27189, 94)"
      ]
     },
     "execution_count": 32,
     "metadata": {},
     "output_type": "execute_result"
    }
   ],
   "source": [
    "len_2_idx = [idx for idx,val in enumerate(new_df['tuned_refer']) if len(val) == 2]\n",
    "len_3_idx = [idx for idx,val in enumerate(new_df['tuned_refer']) if len(val) == 3]\n",
    "len_4_idx = [idx for idx,val in enumerate(new_df['tuned_refer']) if len(val) == 4]\n",
    "len_5_idx = [idx for idx,val in enumerate(new_df['tuned_refer']) if len(val) == 5]\n",
    "len(len_2_idx),len(len_3_idx),len(len_4_idx),len(len_5_idx)"
   ]
  },
  {
   "cell_type": "code",
   "execution_count": 33,
   "metadata": {},
   "outputs": [
    {
     "data": {
      "text/plain": [
       "True"
      ]
     },
     "execution_count": 33,
     "metadata": {},
     "output_type": "execute_result"
    }
   ],
   "source": [
    "len(len_2_idx) +len(len_3_idx) +len(len_4_idx)  + len(len_5_idx) == len(new_df)"
   ]
  },
  {
   "cell_type": "markdown",
   "metadata": {},
   "source": [
    "# 전체 데이터에 실시"
   ]
  },
  {
   "cell_type": "markdown",
   "metadata": {},
   "source": [
    "- 기준으로 split"
   ]
  },
  {
   "cell_type": "code",
   "execution_count": 34,
   "metadata": {},
   "outputs": [
    {
     "data": {
      "text/plain": [
       "True"
      ]
     },
     "execution_count": 34,
     "metadata": {},
     "output_type": "execute_result"
    }
   ],
   "source": [
    "tuned_new_refer = []\n",
    "for idx in range(len(new_refer_ls)):\n",
    "    tuned_new_refer.append(new_refer_ls[idx][0].split(\" -\") + new_refer_ls[idx][1:])\n",
    "len(tuned_new_refer) == len(new_refer_ls)"
   ]
  },
  {
   "cell_type": "markdown",
   "metadata": {},
   "source": [
    "가장 첫 번째 character 엘리먼트와 3번째 엘리먼스인 년도 사이에 무엇이 있으면 하나로 병합시켜준다. (이름)"
   ]
  },
  {
   "cell_type": "code",
   "execution_count": 35,
   "metadata": {},
   "outputs": [],
   "source": [
    "merge = [(1, 3)]\n",
    "\n",
    "for ls in tuned_new_refer : \n",
    "    if ls[0] != '0': \n",
    "        if not re.findall('[0-9]{1,4}',ls[2]) : \n",
    "            for t in merge[::-1]:\n",
    "                merged = ''.join(ls[t[0]:t[1]])  # merging values within a range\n",
    "                ls[t[0]:t[1]] = [merged]"
   ]
  },
  {
   "cell_type": "markdown",
   "metadata": {},
   "source": [
    "아무것도 안나오면 정상"
   ]
  },
  {
   "cell_type": "code",
   "execution_count": 36,
   "metadata": {},
   "outputs": [
    {
     "ename": "IndexError",
     "evalue": "list index out of range",
     "output_type": "error",
     "traceback": [
      "\u001b[0;31m---------------------------------------------------------------------------\u001b[0m",
      "\u001b[0;31mIndexError\u001b[0m                                Traceback (most recent call last)",
      "\u001b[0;32m<ipython-input-36-252e633c3473>\u001b[0m in \u001b[0;36m<module>\u001b[0;34m()\u001b[0m\n\u001b[1;32m      1\u001b[0m \u001b[0;32mfor\u001b[0m \u001b[0mls\u001b[0m \u001b[0;32min\u001b[0m \u001b[0mtuned_new_refer\u001b[0m \u001b[0;34m:\u001b[0m\u001b[0;34m\u001b[0m\u001b[0m\n\u001b[1;32m      2\u001b[0m     \u001b[0;32mif\u001b[0m \u001b[0mls\u001b[0m\u001b[0;34m[\u001b[0m\u001b[0;36m0\u001b[0m\u001b[0;34m]\u001b[0m \u001b[0;34m!=\u001b[0m \u001b[0;34m'0'\u001b[0m\u001b[0;34m:\u001b[0m\u001b[0;34m\u001b[0m\u001b[0m\n\u001b[0;32m----> 3\u001b[0;31m         \u001b[0;32mif\u001b[0m \u001b[0;32mnot\u001b[0m \u001b[0mre\u001b[0m\u001b[0;34m.\u001b[0m\u001b[0mfindall\u001b[0m\u001b[0;34m(\u001b[0m\u001b[0;34m'[0-9]{1,4}'\u001b[0m\u001b[0;34m,\u001b[0m\u001b[0mls\u001b[0m\u001b[0;34m[\u001b[0m\u001b[0;36m2\u001b[0m\u001b[0;34m]\u001b[0m\u001b[0;34m)\u001b[0m \u001b[0;34m:\u001b[0m\u001b[0;34m\u001b[0m\u001b[0m\n\u001b[0m\u001b[1;32m      4\u001b[0m             \u001b[0mprint\u001b[0m\u001b[0;34m(\u001b[0m\u001b[0mls\u001b[0m\u001b[0;34m)\u001b[0m\u001b[0;34m\u001b[0m\u001b[0m\n",
      "\u001b[0;31mIndexError\u001b[0m: list index out of range"
     ]
    }
   ],
   "source": [
    "for ls in tuned_new_refer : \n",
    "    if ls[0] != '0': \n",
    "        if not re.findall('[0-9]{1,4}',ls[2]) : \n",
    "            print(ls)"
   ]
  },
  {
   "cell_type": "markdown",
   "metadata": {},
   "source": [
    "1을 제외하고 나머지는 1씩 증가했다."
   ]
  },
  {
   "cell_type": "code",
   "execution_count": 37,
   "metadata": {},
   "outputs": [
    {
     "data": {
      "text/plain": [
       "{2, 3, 4, 5, 6}"
      ]
     },
     "execution_count": 37,
     "metadata": {},
     "output_type": "execute_result"
    }
   ],
   "source": [
    "set([len(i) for i in tuned_new_refer])"
   ]
  },
  {
   "cell_type": "markdown",
   "metadata": {},
   "source": [
    "### tuned_new_refer 와 new_refer_ls 의 차이는 단지 튜닝 전이냐 후이냐일 뿐이이여야 한다."
   ]
  },
  {
   "cell_type": "code",
   "execution_count": 38,
   "metadata": {},
   "outputs": [
    {
     "data": {
      "text/plain": [
       "['[학술지(정기간행물)]',\n",
       " ' 이원흠',\n",
       " '2000',\n",
       " \"현금흐름형 도산예측 모델과 옵션모델형 도산예상확률의 실증연구 : 35 ~ 68', '\"]"
      ]
     },
     "execution_count": 38,
     "metadata": {},
     "output_type": "execute_result"
    }
   ],
   "source": [
    "tuned_new_refer[2]"
   ]
  },
  {
   "cell_type": "code",
   "execution_count": 39,
   "metadata": {},
   "outputs": [
    {
     "data": {
      "text/plain": [
       "['[학술지(정기간행물)] - 이원흠',\n",
       " '2000',\n",
       " \"현금흐름형 도산예측 모델과 옵션모델형 도산예상확률의 실증연구 : 35 ~ 68', '\"]"
      ]
     },
     "execution_count": 39,
     "metadata": {},
     "output_type": "execute_result"
    }
   ],
   "source": [
    "new_refer_ls[2]"
   ]
  },
  {
   "cell_type": "markdown",
   "metadata": {},
   "source": [
    "## 길이가 4개짜리인 데이터 프레임만들기"
   ]
  },
  {
   "cell_type": "code",
   "execution_count": 40,
   "metadata": {},
   "outputs": [
    {
     "data": {
      "text/plain": [
       "['[학술지(정기간행물)]', ' 김성훈', '2002', \"신용위험자산의 가격결정에 관한 연구', '\"]"
      ]
     },
     "execution_count": 40,
     "metadata": {},
     "output_type": "execute_result"
    }
   ],
   "source": [
    "[i for i in tuned_new_refer if len(i) == 4][1]"
   ]
  },
  {
   "cell_type": "markdown",
   "metadata": {},
   "source": [
    "## Characteristic of paper"
   ]
  },
  {
   "cell_type": "code",
   "execution_count": 41,
   "metadata": {},
   "outputs": [],
   "source": [
    "char_paper_ls = [re.findall('\\[.+\\]',i[0])[0] for i in [i for i in tuned_new_refer if len(i) == 4]]"
   ]
  },
  {
   "cell_type": "code",
   "execution_count": 42,
   "metadata": {},
   "outputs": [
    {
     "data": {
      "text/plain": [
       "'[학술지(정기간행물)]'"
      ]
     },
     "execution_count": 42,
     "metadata": {},
     "output_type": "execute_result"
    }
   ],
   "source": [
    "char_paper_ls[0]"
   ]
  },
  {
   "cell_type": "code",
   "execution_count": 43,
   "metadata": {},
   "outputs": [
    {
     "data": {
      "text/plain": [
       "'[학술지(정기간행물)]'"
      ]
     },
     "execution_count": 43,
     "metadata": {},
     "output_type": "execute_result"
    }
   ],
   "source": [
    "char_paper_ls[1]"
   ]
  },
  {
   "cell_type": "markdown",
   "metadata": {},
   "source": [
    "## author of paper"
   ]
  },
  {
   "cell_type": "code",
   "execution_count": 44,
   "metadata": {},
   "outputs": [],
   "source": [
    "name_ls = [i[1] for i in tuned_new_refer if len(i) == 4]"
   ]
  },
  {
   "cell_type": "code",
   "execution_count": 45,
   "metadata": {},
   "outputs": [
    {
     "data": {
      "text/plain": [
       "' 김성훈'"
      ]
     },
     "execution_count": 45,
     "metadata": {},
     "output_type": "execute_result"
    }
   ],
   "source": [
    "name_ls[1]"
   ]
  },
  {
   "cell_type": "markdown",
   "metadata": {},
   "source": [
    "## year of paper published"
   ]
  },
  {
   "cell_type": "code",
   "execution_count": 46,
   "metadata": {},
   "outputs": [],
   "source": [
    "year_ls = [i[2] for i in tuned_new_refer if len(i) == 4]"
   ]
  },
  {
   "cell_type": "code",
   "execution_count": 47,
   "metadata": {},
   "outputs": [
    {
     "data": {
      "text/plain": [
       "'2002'"
      ]
     },
     "execution_count": 47,
     "metadata": {},
     "output_type": "execute_result"
    }
   ],
   "source": [
    "year_ls[1]"
   ]
  },
  {
   "cell_type": "markdown",
   "metadata": {},
   "source": [
    "## name of paper"
   ]
  },
  {
   "cell_type": "code",
   "execution_count": 48,
   "metadata": {},
   "outputs": [],
   "source": [
    "paper_ls = [i[3] for i in tuned_new_refer if len(i) == 4]"
   ]
  },
  {
   "cell_type": "code",
   "execution_count": 49,
   "metadata": {},
   "outputs": [
    {
     "data": {
      "text/plain": [
       "\"신용위험자산의 가격결정에 관한 연구', '\""
      ]
     },
     "execution_count": 49,
     "metadata": {},
     "output_type": "execute_result"
    }
   ],
   "source": [
    "paper_ls[1]"
   ]
  },
  {
   "cell_type": "code",
   "execution_count": 50,
   "metadata": {
    "scrolled": false
   },
   "outputs": [
    {
     "data": {
      "text/plain": [
       "True"
      ]
     },
     "execution_count": 50,
     "metadata": {},
     "output_type": "execute_result"
    }
   ],
   "source": [
    "len(char_paper_ls) == len(name_ls) == len(year_ls) == len(paper_ls)"
   ]
  },
  {
   "cell_type": "code",
   "execution_count": 51,
   "metadata": {
    "scrolled": true
   },
   "outputs": [
    {
     "data": {
      "text/html": [
       "<div>\n",
       "<style scoped>\n",
       "    .dataframe tbody tr th:only-of-type {\n",
       "        vertical-align: middle;\n",
       "    }\n",
       "\n",
       "    .dataframe tbody tr th {\n",
       "        vertical-align: top;\n",
       "    }\n",
       "\n",
       "    .dataframe thead th {\n",
       "        text-align: right;\n",
       "    }\n",
       "</style>\n",
       "<table border=\"1\" class=\"dataframe\">\n",
       "  <thead>\n",
       "    <tr style=\"text-align: right;\">\n",
       "      <th></th>\n",
       "      <th>char</th>\n",
       "      <th>name</th>\n",
       "      <th>year</th>\n",
       "      <th>paper</th>\n",
       "    </tr>\n",
       "  </thead>\n",
       "  <tbody>\n",
       "    <tr>\n",
       "      <th>9079</th>\n",
       "      <td>[학술지(정기간행물)]</td>\n",
       "      <td></td>\n",
       "      <td>2002</td>\n",
       "      <td>Information, Trading Demand, and Futures Price...</td>\n",
       "    </tr>\n",
       "    <tr>\n",
       "      <th>9080</th>\n",
       "      <td>[보고서]</td>\n",
       "      <td>이창용</td>\n",
       "      <td>1995</td>\n",
       "      <td>자본자유화의 투자다변화 효과 : 해외 주식투자의 경우', '</td>\n",
       "    </tr>\n",
       "    <tr>\n",
       "      <th>9081</th>\n",
       "      <td>[보고서]</td>\n",
       "      <td>Jochen, M. Schmittmann</td>\n",
       "      <td>2010</td>\n",
       "      <td>Currency Hedging for International Portfolios', '</td>\n",
       "    </tr>\n",
       "    <tr>\n",
       "      <th>9082</th>\n",
       "      <td>[학술지(정기간행물)]</td>\n",
       "      <td>김성진</td>\n",
       "      <td>2013</td>\n",
       "      <td>반대주주의 주식매수청구권 행사시 상장법인 주식의 매수가격결정에 관한 연구 － 자본시...</td>\n",
       "    </tr>\n",
       "    <tr>\n",
       "      <th>9083</th>\n",
       "      <td>[보고서]</td>\n",
       "      <td>이성웅</td>\n",
       "      <td>2001</td>\n",
       "      <td>반대주주의 주식매수청구권제도에 관한 고찰 : 84 ~ 131', '</td>\n",
       "    </tr>\n",
       "  </tbody>\n",
       "</table>\n",
       "</div>"
      ],
      "text/plain": [
       "              char                     name  year  \\\n",
       "9079  [학술지(정기간행물)]                           2002   \n",
       "9080         [보고서]                      이창용  1995   \n",
       "9081         [보고서]   Jochen, M. Schmittmann  2010   \n",
       "9082  [학술지(정기간행물)]                      김성진  2013   \n",
       "9083         [보고서]                      이성웅  2001   \n",
       "\n",
       "                                                  paper  \n",
       "9079  Information, Trading Demand, and Futures Price...  \n",
       "9080                  자본자유화의 투자다변화 효과 : 해외 주식투자의 경우', '  \n",
       "9081  Currency Hedging for International Portfolios', '  \n",
       "9082  반대주주의 주식매수청구권 행사시 상장법인 주식의 매수가격결정에 관한 연구 － 자본시...  \n",
       "9083              반대주주의 주식매수청구권제도에 관한 고찰 : 84 ~ 131', '  "
      ]
     },
     "execution_count": 51,
     "metadata": {},
     "output_type": "execute_result"
    }
   ],
   "source": [
    "len_4_df = pd.DataFrame()\n",
    "len_4_df['char'] = char_paper_ls\n",
    "len_4_df['name'] = name_ls\n",
    "len_4_df['year'] = year_ls\n",
    "len_4_df['paper'] = paper_ls\n",
    "\n",
    "len_4_df.tail()"
   ]
  },
  {
   "cell_type": "markdown",
   "metadata": {},
   "source": [
    "이전에 길이가 3이였던 데이터 프레임이 4가 된 것이기 때문에, 인덱스를 일치시켜주기 위해서 대입해준다."
   ]
  },
  {
   "cell_type": "code",
   "execution_count": 52,
   "metadata": {
    "scrolled": true
   },
   "outputs": [
    {
     "ename": "ValueError",
     "evalue": "Length mismatch: Expected axis has 9084 elements, new values have 9163 elements",
     "output_type": "error",
     "traceback": [
      "\u001b[0;31m---------------------------------------------------------------------------\u001b[0m",
      "\u001b[0;31mValueError\u001b[0m                                Traceback (most recent call last)",
      "\u001b[0;32m<ipython-input-52-1f935a7d7b8f>\u001b[0m in \u001b[0;36m<module>\u001b[0;34m()\u001b[0m\n\u001b[0;32m----> 1\u001b[0;31m \u001b[0mlen_4_df\u001b[0m\u001b[0;34m.\u001b[0m\u001b[0mindex\u001b[0m \u001b[0;34m=\u001b[0m \u001b[0mlen_3_idx\u001b[0m\u001b[0;34m\u001b[0m\u001b[0m\n\u001b[0m",
      "\u001b[0;32m~/anaconda3/envs/dss_env/lib/python3.6/site-packages/pandas/core/generic.py\u001b[0m in \u001b[0;36m__setattr__\u001b[0;34m(self, name, value)\u001b[0m\n\u001b[1;32m   4387\u001b[0m         \u001b[0;32mtry\u001b[0m\u001b[0;34m:\u001b[0m\u001b[0;34m\u001b[0m\u001b[0m\n\u001b[1;32m   4388\u001b[0m             \u001b[0mobject\u001b[0m\u001b[0;34m.\u001b[0m\u001b[0m__getattribute__\u001b[0m\u001b[0;34m(\u001b[0m\u001b[0mself\u001b[0m\u001b[0;34m,\u001b[0m \u001b[0mname\u001b[0m\u001b[0;34m)\u001b[0m\u001b[0;34m\u001b[0m\u001b[0m\n\u001b[0;32m-> 4389\u001b[0;31m             \u001b[0;32mreturn\u001b[0m \u001b[0mobject\u001b[0m\u001b[0;34m.\u001b[0m\u001b[0m__setattr__\u001b[0m\u001b[0;34m(\u001b[0m\u001b[0mself\u001b[0m\u001b[0;34m,\u001b[0m \u001b[0mname\u001b[0m\u001b[0;34m,\u001b[0m \u001b[0mvalue\u001b[0m\u001b[0;34m)\u001b[0m\u001b[0;34m\u001b[0m\u001b[0m\n\u001b[0m\u001b[1;32m   4390\u001b[0m         \u001b[0;32mexcept\u001b[0m \u001b[0mAttributeError\u001b[0m\u001b[0;34m:\u001b[0m\u001b[0;34m\u001b[0m\u001b[0m\n\u001b[1;32m   4391\u001b[0m             \u001b[0;32mpass\u001b[0m\u001b[0;34m\u001b[0m\u001b[0m\n",
      "\u001b[0;32mpandas/_libs/properties.pyx\u001b[0m in \u001b[0;36mpandas._libs.properties.AxisProperty.__set__\u001b[0;34m()\u001b[0m\n",
      "\u001b[0;32m~/anaconda3/envs/dss_env/lib/python3.6/site-packages/pandas/core/generic.py\u001b[0m in \u001b[0;36m_set_axis\u001b[0;34m(self, axis, labels)\u001b[0m\n\u001b[1;32m    644\u001b[0m \u001b[0;34m\u001b[0m\u001b[0m\n\u001b[1;32m    645\u001b[0m     \u001b[0;32mdef\u001b[0m \u001b[0m_set_axis\u001b[0m\u001b[0;34m(\u001b[0m\u001b[0mself\u001b[0m\u001b[0;34m,\u001b[0m \u001b[0maxis\u001b[0m\u001b[0;34m,\u001b[0m \u001b[0mlabels\u001b[0m\u001b[0;34m)\u001b[0m\u001b[0;34m:\u001b[0m\u001b[0;34m\u001b[0m\u001b[0m\n\u001b[0;32m--> 646\u001b[0;31m         \u001b[0mself\u001b[0m\u001b[0;34m.\u001b[0m\u001b[0m_data\u001b[0m\u001b[0;34m.\u001b[0m\u001b[0mset_axis\u001b[0m\u001b[0;34m(\u001b[0m\u001b[0maxis\u001b[0m\u001b[0;34m,\u001b[0m \u001b[0mlabels\u001b[0m\u001b[0;34m)\u001b[0m\u001b[0;34m\u001b[0m\u001b[0m\n\u001b[0m\u001b[1;32m    647\u001b[0m         \u001b[0mself\u001b[0m\u001b[0;34m.\u001b[0m\u001b[0m_clear_item_cache\u001b[0m\u001b[0;34m(\u001b[0m\u001b[0;34m)\u001b[0m\u001b[0;34m\u001b[0m\u001b[0m\n\u001b[1;32m    648\u001b[0m \u001b[0;34m\u001b[0m\u001b[0m\n",
      "\u001b[0;32m~/anaconda3/envs/dss_env/lib/python3.6/site-packages/pandas/core/internals.py\u001b[0m in \u001b[0;36mset_axis\u001b[0;34m(self, axis, new_labels)\u001b[0m\n\u001b[1;32m   3321\u001b[0m             raise ValueError(\n\u001b[1;32m   3322\u001b[0m                 \u001b[0;34m'Length mismatch: Expected axis has {old} elements, new '\u001b[0m\u001b[0;34m\u001b[0m\u001b[0m\n\u001b[0;32m-> 3323\u001b[0;31m                 'values have {new} elements'.format(old=old_len, new=new_len))\n\u001b[0m\u001b[1;32m   3324\u001b[0m \u001b[0;34m\u001b[0m\u001b[0m\n\u001b[1;32m   3325\u001b[0m         \u001b[0mself\u001b[0m\u001b[0;34m.\u001b[0m\u001b[0maxes\u001b[0m\u001b[0;34m[\u001b[0m\u001b[0maxis\u001b[0m\u001b[0;34m]\u001b[0m \u001b[0;34m=\u001b[0m \u001b[0mnew_labels\u001b[0m\u001b[0;34m\u001b[0m\u001b[0m\n",
      "\u001b[0;31mValueError\u001b[0m: Length mismatch: Expected axis has 9084 elements, new values have 9163 elements"
     ]
    }
   ],
   "source": [
    "len_4_df.index = len_3_idx"
   ]
  },
  {
   "cell_type": "code",
   "execution_count": 53,
   "metadata": {},
   "outputs": [
    {
     "data": {
      "text/html": [
       "<div>\n",
       "<style scoped>\n",
       "    .dataframe tbody tr th:only-of-type {\n",
       "        vertical-align: middle;\n",
       "    }\n",
       "\n",
       "    .dataframe tbody tr th {\n",
       "        vertical-align: top;\n",
       "    }\n",
       "\n",
       "    .dataframe thead th {\n",
       "        text-align: right;\n",
       "    }\n",
       "</style>\n",
       "<table border=\"1\" class=\"dataframe\">\n",
       "  <thead>\n",
       "    <tr style=\"text-align: right;\">\n",
       "      <th></th>\n",
       "      <th>char</th>\n",
       "      <th>name</th>\n",
       "      <th>year</th>\n",
       "      <th>paper</th>\n",
       "    </tr>\n",
       "  </thead>\n",
       "  <tbody>\n",
       "    <tr>\n",
       "      <th>9079</th>\n",
       "      <td>[학술지(정기간행물)]</td>\n",
       "      <td></td>\n",
       "      <td>2002</td>\n",
       "      <td>Information, Trading Demand, and Futures Price...</td>\n",
       "    </tr>\n",
       "    <tr>\n",
       "      <th>9080</th>\n",
       "      <td>[보고서]</td>\n",
       "      <td>이창용</td>\n",
       "      <td>1995</td>\n",
       "      <td>자본자유화의 투자다변화 효과 : 해외 주식투자의 경우', '</td>\n",
       "    </tr>\n",
       "    <tr>\n",
       "      <th>9081</th>\n",
       "      <td>[보고서]</td>\n",
       "      <td>Jochen, M. Schmittmann</td>\n",
       "      <td>2010</td>\n",
       "      <td>Currency Hedging for International Portfolios', '</td>\n",
       "    </tr>\n",
       "    <tr>\n",
       "      <th>9082</th>\n",
       "      <td>[학술지(정기간행물)]</td>\n",
       "      <td>김성진</td>\n",
       "      <td>2013</td>\n",
       "      <td>반대주주의 주식매수청구권 행사시 상장법인 주식의 매수가격결정에 관한 연구 － 자본시...</td>\n",
       "    </tr>\n",
       "    <tr>\n",
       "      <th>9083</th>\n",
       "      <td>[보고서]</td>\n",
       "      <td>이성웅</td>\n",
       "      <td>2001</td>\n",
       "      <td>반대주주의 주식매수청구권제도에 관한 고찰 : 84 ~ 131', '</td>\n",
       "    </tr>\n",
       "  </tbody>\n",
       "</table>\n",
       "</div>"
      ],
      "text/plain": [
       "              char                     name  year  \\\n",
       "9079  [학술지(정기간행물)]                           2002   \n",
       "9080         [보고서]                      이창용  1995   \n",
       "9081         [보고서]   Jochen, M. Schmittmann  2010   \n",
       "9082  [학술지(정기간행물)]                      김성진  2013   \n",
       "9083         [보고서]                      이성웅  2001   \n",
       "\n",
       "                                                  paper  \n",
       "9079  Information, Trading Demand, and Futures Price...  \n",
       "9080                  자본자유화의 투자다변화 효과 : 해외 주식투자의 경우', '  \n",
       "9081  Currency Hedging for International Portfolios', '  \n",
       "9082  반대주주의 주식매수청구권 행사시 상장법인 주식의 매수가격결정에 관한 연구 － 자본시...  \n",
       "9083              반대주주의 주식매수청구권제도에 관한 고찰 : 84 ~ 131', '  "
      ]
     },
     "execution_count": 53,
     "metadata": {},
     "output_type": "execute_result"
    }
   ],
   "source": [
    "len_4_df.tail()"
   ]
  },
  {
   "cell_type": "code",
   "execution_count": 54,
   "metadata": {
    "scrolled": true
   },
   "outputs": [
    {
     "data": {
      "text/plain": [
       "array([['[보고서]', ' 이성웅', '2001', \"반대주주의 주식매수청구권제도에 관한 고찰 : 84 ~ 131', '\"]],\n",
       "      dtype=object)"
      ]
     },
     "execution_count": 54,
     "metadata": {},
     "output_type": "execute_result"
    }
   ],
   "source": [
    "len_4_df.tail(1).values"
   ]
  },
  {
   "cell_type": "code",
   "execution_count": 55,
   "metadata": {},
   "outputs": [
    {
     "data": {
      "text/plain": [
       "array([], dtype=object)"
      ]
     },
     "execution_count": 55,
     "metadata": {},
     "output_type": "execute_result"
    }
   ],
   "source": [
    "new_df.iloc[37242:37243]['refer'].values"
   ]
  },
  {
   "cell_type": "code",
   "execution_count": 56,
   "metadata": {},
   "outputs": [
    {
     "data": {
      "text/plain": [
       "False"
      ]
     },
     "execution_count": 56,
     "metadata": {},
     "output_type": "execute_result"
    }
   ],
   "source": [
    "list(len_4_df.index.values) == len_3_idx"
   ]
  },
  {
   "cell_type": "markdown",
   "metadata": {},
   "source": [
    "---------------"
   ]
  },
  {
   "cell_type": "markdown",
   "metadata": {},
   "source": [
    "# 4개짜리의 구조\n",
    "- 마지막 엘리먼트는 저널명이 되겠다."
   ]
  },
  {
   "cell_type": "code",
   "execution_count": 57,
   "metadata": {},
   "outputs": [
    {
     "data": {
      "text/plain": [
       "['[학술지(정기간행물)] - Tauchen, G. E',\n",
       " '1992',\n",
       " 'Stock Prices and Volume',\n",
       " \"The Review of Financial Studies 5 : 199 ~ 242', '\"]"
      ]
     },
     "execution_count": 57,
     "metadata": {},
     "output_type": "execute_result"
    }
   ],
   "source": [
    "[i for i in new_refer_ls if len(i) == 4][800]"
   ]
  },
  {
   "cell_type": "code",
   "execution_count": 58,
   "metadata": {},
   "outputs": [
    {
     "data": {
      "text/plain": [
       "[\"株式会社ニッセイ基礎研究所', '\",\n",
       " \"The Accounting Review 61 (4) : 662 ~ 691', '\",\n",
       " \"선물연구 15 (1) : 135 ~ 165', '\",\n",
       " \"Finance and Economics Discussion Series (FEDS), No. 93-18, Board of Governors of the Federal Reserve System', '\",\n",
       " \"Journal of Financial and Quantitative Analysis 45 : 223 ~ 237', '\"]"
      ]
     },
     "execution_count": 58,
     "metadata": {},
     "output_type": "execute_result"
    }
   ],
   "source": [
    "list(set([paper[-1] for paper in [i for i in new_refer_ls if len(i) == 4]]))[-5:]"
   ]
  },
  {
   "cell_type": "code",
   "execution_count": 59,
   "metadata": {
    "scrolled": true
   },
   "outputs": [
    {
     "name": "stdout",
     "output_type": "stream",
     "text": [
      "27189\n"
     ]
    }
   ],
   "source": [
    "print(len([paper[-1] for paper in [i for i in new_refer_ls if len(i) == 4]]))"
   ]
  },
  {
   "cell_type": "markdown",
   "metadata": {},
   "source": [
    "- 아래는 길이가 4개인 리스트에서 저널명을 나타내는 마지막 리스트를 빼온 것이다.\n",
    "- 이 리스트를 통해서 길이가 3개짜리인 리스트의 마지막에서 저널명이 포함된 것을 빼와본다.\n",
    "- 우선 일반화를 위해서 숫자를 다 빼고 유니크한 값으로 변환시켜준다."
   ]
  },
  {
   "cell_type": "code",
   "execution_count": 60,
   "metadata": {
    "scrolled": true
   },
   "outputs": [
    {
     "data": {
      "text/plain": [
       "[\"Journal of Corporate Finance 17 (1) : 1 ~ 17', '\",\n",
       " \"Journal of Finance 59 : 2685 ~ 2718', '\",\n",
       " \"Journal of Financial Economics 70 (3) : 295 ~ 311', '\",\n",
       " \"Duke Law Journal 47 (1) : 613 ~ 716', '\",\n",
       " \"Financial Analysts Journal 60 : 23 ~ 28'\"]"
      ]
     },
     "execution_count": 60,
     "metadata": {},
     "output_type": "execute_result"
    }
   ],
   "source": [
    "[paper[-1] for paper in [i for i in new_refer_ls if len(i) == 4]][-5:]"
   ]
  },
  {
   "cell_type": "code",
   "execution_count": 61,
   "metadata": {},
   "outputs": [
    {
     "data": {
      "text/plain": [
       "27189"
      ]
     },
     "execution_count": 61,
     "metadata": {},
     "output_type": "execute_result"
    }
   ],
   "source": [
    "len([paper[-1] for paper in [i for i in new_refer_ls if len(i) == 4]])"
   ]
  },
  {
   "cell_type": "markdown",
   "metadata": {},
   "source": [
    "# 4개짜리 데이터 프레임으로 만들기"
   ]
  },
  {
   "cell_type": "code",
   "execution_count": 62,
   "metadata": {},
   "outputs": [
    {
     "data": {
      "text/plain": [
       "['[학술지(정기간행물)]',\n",
       " ' 정완호',\n",
       " '2003',\n",
       " '기업 신용위험의 측정- 채권수익률을 이용하여 -',\n",
       " \"Asia-Pacific Journal of Financial Studies 32 (1) : 135 ~ 172', '\"]"
      ]
     },
     "execution_count": 62,
     "metadata": {},
     "output_type": "execute_result"
    }
   ],
   "source": [
    "[i for i in tuned_new_refer if len(i) == 5][0]"
   ]
  },
  {
   "cell_type": "markdown",
   "metadata": {},
   "source": [
    "## Characteristic of paper"
   ]
  },
  {
   "cell_type": "code",
   "execution_count": 63,
   "metadata": {},
   "outputs": [],
   "source": [
    "char_paper_ls = [re.findall('\\[.+\\]',i[0])[0] for i in [i for i in tuned_new_refer if len(i) == 5]]"
   ]
  },
  {
   "cell_type": "code",
   "execution_count": 64,
   "metadata": {},
   "outputs": [
    {
     "data": {
      "text/plain": [
       "'[학술지(정기간행물)]'"
      ]
     },
     "execution_count": 64,
     "metadata": {},
     "output_type": "execute_result"
    }
   ],
   "source": [
    "char_paper_ls[0]"
   ]
  },
  {
   "cell_type": "markdown",
   "metadata": {},
   "source": [
    "## author of paper"
   ]
  },
  {
   "cell_type": "code",
   "execution_count": 65,
   "metadata": {},
   "outputs": [],
   "source": [
    "name_ls = [i[1] for i in tuned_new_refer if len(i) == 5]"
   ]
  },
  {
   "cell_type": "code",
   "execution_count": 66,
   "metadata": {},
   "outputs": [
    {
     "data": {
      "text/plain": [
       "' 정완호'"
      ]
     },
     "execution_count": 66,
     "metadata": {},
     "output_type": "execute_result"
    }
   ],
   "source": [
    "name_ls[0]"
   ]
  },
  {
   "cell_type": "markdown",
   "metadata": {},
   "source": [
    "## year of paper published"
   ]
  },
  {
   "cell_type": "code",
   "execution_count": 67,
   "metadata": {},
   "outputs": [],
   "source": [
    "year_ls = [i[2] for i in tuned_new_refer if len(i) == 5]"
   ]
  },
  {
   "cell_type": "code",
   "execution_count": 68,
   "metadata": {},
   "outputs": [
    {
     "data": {
      "text/plain": [
       "'2003'"
      ]
     },
     "execution_count": 68,
     "metadata": {},
     "output_type": "execute_result"
    }
   ],
   "source": [
    "year_ls[0]"
   ]
  },
  {
   "cell_type": "markdown",
   "metadata": {},
   "source": [
    "## name of paper"
   ]
  },
  {
   "cell_type": "code",
   "execution_count": 69,
   "metadata": {},
   "outputs": [],
   "source": [
    "paper_ls = [i[3] for i in tuned_new_refer if len(i) == 5]"
   ]
  },
  {
   "cell_type": "code",
   "execution_count": 70,
   "metadata": {},
   "outputs": [
    {
     "data": {
      "text/plain": [
       "'기업 신용위험의 측정- 채권수익률을 이용하여 -'"
      ]
     },
     "execution_count": 70,
     "metadata": {},
     "output_type": "execute_result"
    }
   ],
   "source": [
    "paper_ls[0]"
   ]
  },
  {
   "cell_type": "markdown",
   "metadata": {},
   "source": [
    "## journal name which paper published"
   ]
  },
  {
   "cell_type": "code",
   "execution_count": 72,
   "metadata": {},
   "outputs": [],
   "source": [
    "journal_ls = [i[-1] for i in tuned_new_refer if len(i) == 5]"
   ]
  },
  {
   "cell_type": "code",
   "execution_count": 73,
   "metadata": {},
   "outputs": [
    {
     "data": {
      "text/plain": [
       "\"Asia-Pacific Journal of Financial Studies 32 (1) : 135 ~ 172', '\""
      ]
     },
     "execution_count": 73,
     "metadata": {},
     "output_type": "execute_result"
    }
   ],
   "source": [
    "journal_ls[0]"
   ]
  },
  {
   "cell_type": "code",
   "execution_count": 74,
   "metadata": {
    "scrolled": true
   },
   "outputs": [
    {
     "data": {
      "text/plain": [
       "True"
      ]
     },
     "execution_count": 74,
     "metadata": {},
     "output_type": "execute_result"
    }
   ],
   "source": [
    "len(char_paper_ls) == len(name_ls) == len(year_ls) == len(paper_ls) == len(journal_ls)"
   ]
  },
  {
   "cell_type": "code",
   "execution_count": 75,
   "metadata": {
    "scrolled": true
   },
   "outputs": [
    {
     "data": {
      "text/html": [
       "<div>\n",
       "<style scoped>\n",
       "    .dataframe tbody tr th:only-of-type {\n",
       "        vertical-align: middle;\n",
       "    }\n",
       "\n",
       "    .dataframe tbody tr th {\n",
       "        vertical-align: top;\n",
       "    }\n",
       "\n",
       "    .dataframe thead th {\n",
       "        text-align: right;\n",
       "    }\n",
       "</style>\n",
       "<table border=\"1\" class=\"dataframe\">\n",
       "  <thead>\n",
       "    <tr style=\"text-align: right;\">\n",
       "      <th></th>\n",
       "      <th>char</th>\n",
       "      <th>name</th>\n",
       "      <th>year</th>\n",
       "      <th>paper</th>\n",
       "      <th>journal</th>\n",
       "    </tr>\n",
       "  </thead>\n",
       "  <tbody>\n",
       "    <tr>\n",
       "      <th>27184</th>\n",
       "      <td>[학술지(정기간행물)]</td>\n",
       "      <td>Ma, Q.</td>\n",
       "      <td>2011</td>\n",
       "      <td>Value, Valuation, and the Long-run Performance...</td>\n",
       "      <td>Journal of Corporate Finance 17 (1) : 1 ~ 17', '</td>\n",
       "    </tr>\n",
       "    <tr>\n",
       "      <th>27185</th>\n",
       "      <td>[학술지(정기간행물)]</td>\n",
       "      <td>Rhodes-Kropf, M.</td>\n",
       "      <td>2004</td>\n",
       "      <td>Market Valuation and Merger Waves</td>\n",
       "      <td>Journal of Finance 59 : 2685 ~ 2718', '</td>\n",
       "    </tr>\n",
       "    <tr>\n",
       "      <th>27186</th>\n",
       "      <td>[학술지(정기간행물)]</td>\n",
       "      <td>Shleifer, A.</td>\n",
       "      <td>2003</td>\n",
       "      <td>Stock Market Driven Acquisitions</td>\n",
       "      <td>Journal of Financial Economics 70 (3) : 295 ~ ...</td>\n",
       "    </tr>\n",
       "    <tr>\n",
       "      <th>27187</th>\n",
       "      <td>[학술지(정기간행물)]</td>\n",
       "      <td>Wertheimer, B. M.</td>\n",
       "      <td>1998</td>\n",
       "      <td>The Shareholders’ Appraisal Remedy and How Cou...</td>\n",
       "      <td>Duke Law Journal 47 (1) : 613 ~ 716', '</td>\n",
       "    </tr>\n",
       "    <tr>\n",
       "      <th>27188</th>\n",
       "      <td>[학술지(정기간행물)]</td>\n",
       "      <td>Yee, K. K.</td>\n",
       "      <td>2004</td>\n",
       "      <td>Combining Value Estimates to Increase Accuracy</td>\n",
       "      <td>Financial Analysts Journal 60 : 23 ~ 28'</td>\n",
       "    </tr>\n",
       "  </tbody>\n",
       "</table>\n",
       "</div>"
      ],
      "text/plain": [
       "               char                name  year  \\\n",
       "27184  [학술지(정기간행물)]              Ma, Q.  2011   \n",
       "27185  [학술지(정기간행물)]    Rhodes-Kropf, M.  2004   \n",
       "27186  [학술지(정기간행물)]        Shleifer, A.  2003   \n",
       "27187  [학술지(정기간행물)]   Wertheimer, B. M.  1998   \n",
       "27188  [학술지(정기간행물)]          Yee, K. K.  2004   \n",
       "\n",
       "                                                   paper  \\\n",
       "27184  Value, Valuation, and the Long-run Performance...   \n",
       "27185                  Market Valuation and Merger Waves   \n",
       "27186                   Stock Market Driven Acquisitions   \n",
       "27187  The Shareholders’ Appraisal Remedy and How Cou...   \n",
       "27188     Combining Value Estimates to Increase Accuracy   \n",
       "\n",
       "                                                 journal  \n",
       "27184   Journal of Corporate Finance 17 (1) : 1 ~ 17', '  \n",
       "27185            Journal of Finance 59 : 2685 ~ 2718', '  \n",
       "27186  Journal of Financial Economics 70 (3) : 295 ~ ...  \n",
       "27187            Duke Law Journal 47 (1) : 613 ~ 716', '  \n",
       "27188           Financial Analysts Journal 60 : 23 ~ 28'  "
      ]
     },
     "execution_count": 75,
     "metadata": {},
     "output_type": "execute_result"
    }
   ],
   "source": [
    "len_5_df = pd.DataFrame()\n",
    "len_5_df['char'] = char_paper_ls\n",
    "len_5_df['name'] = name_ls\n",
    "len_5_df['year'] = year_ls\n",
    "len_5_df['paper'] = paper_ls\n",
    "len_5_df['journal'] = journal_ls\n",
    "\n",
    "len_5_df.tail()"
   ]
  },
  {
   "cell_type": "code",
   "execution_count": 76,
   "metadata": {},
   "outputs": [],
   "source": [
    "len_5_df.index = len_4_idx"
   ]
  },
  {
   "cell_type": "code",
   "execution_count": 77,
   "metadata": {},
   "outputs": [
    {
     "data": {
      "text/html": [
       "<div>\n",
       "<style scoped>\n",
       "    .dataframe tbody tr th:only-of-type {\n",
       "        vertical-align: middle;\n",
       "    }\n",
       "\n",
       "    .dataframe tbody tr th {\n",
       "        vertical-align: top;\n",
       "    }\n",
       "\n",
       "    .dataframe thead th {\n",
       "        text-align: right;\n",
       "    }\n",
       "</style>\n",
       "<table border=\"1\" class=\"dataframe\">\n",
       "  <thead>\n",
       "    <tr style=\"text-align: right;\">\n",
       "      <th></th>\n",
       "      <th>char</th>\n",
       "      <th>name</th>\n",
       "      <th>year</th>\n",
       "      <th>paper</th>\n",
       "      <th>journal</th>\n",
       "    </tr>\n",
       "  </thead>\n",
       "  <tbody>\n",
       "    <tr>\n",
       "      <th>37156</th>\n",
       "      <td>[학술지(정기간행물)]</td>\n",
       "      <td>Ma, Q.</td>\n",
       "      <td>2011</td>\n",
       "      <td>Value, Valuation, and the Long-run Performance...</td>\n",
       "      <td>Journal of Corporate Finance 17 (1) : 1 ~ 17', '</td>\n",
       "    </tr>\n",
       "    <tr>\n",
       "      <th>37157</th>\n",
       "      <td>[학술지(정기간행물)]</td>\n",
       "      <td>Rhodes-Kropf, M.</td>\n",
       "      <td>2004</td>\n",
       "      <td>Market Valuation and Merger Waves</td>\n",
       "      <td>Journal of Finance 59 : 2685 ~ 2718', '</td>\n",
       "    </tr>\n",
       "    <tr>\n",
       "      <th>37158</th>\n",
       "      <td>[학술지(정기간행물)]</td>\n",
       "      <td>Shleifer, A.</td>\n",
       "      <td>2003</td>\n",
       "      <td>Stock Market Driven Acquisitions</td>\n",
       "      <td>Journal of Financial Economics 70 (3) : 295 ~ ...</td>\n",
       "    </tr>\n",
       "    <tr>\n",
       "      <th>37159</th>\n",
       "      <td>[학술지(정기간행물)]</td>\n",
       "      <td>Wertheimer, B. M.</td>\n",
       "      <td>1998</td>\n",
       "      <td>The Shareholders’ Appraisal Remedy and How Cou...</td>\n",
       "      <td>Duke Law Journal 47 (1) : 613 ~ 716', '</td>\n",
       "    </tr>\n",
       "    <tr>\n",
       "      <th>37160</th>\n",
       "      <td>[학술지(정기간행물)]</td>\n",
       "      <td>Yee, K. K.</td>\n",
       "      <td>2004</td>\n",
       "      <td>Combining Value Estimates to Increase Accuracy</td>\n",
       "      <td>Financial Analysts Journal 60 : 23 ~ 28'</td>\n",
       "    </tr>\n",
       "  </tbody>\n",
       "</table>\n",
       "</div>"
      ],
      "text/plain": [
       "               char                name  year  \\\n",
       "37156  [학술지(정기간행물)]              Ma, Q.  2011   \n",
       "37157  [학술지(정기간행물)]    Rhodes-Kropf, M.  2004   \n",
       "37158  [학술지(정기간행물)]        Shleifer, A.  2003   \n",
       "37159  [학술지(정기간행물)]   Wertheimer, B. M.  1998   \n",
       "37160  [학술지(정기간행물)]          Yee, K. K.  2004   \n",
       "\n",
       "                                                   paper  \\\n",
       "37156  Value, Valuation, and the Long-run Performance...   \n",
       "37157                  Market Valuation and Merger Waves   \n",
       "37158                   Stock Market Driven Acquisitions   \n",
       "37159  The Shareholders’ Appraisal Remedy and How Cou...   \n",
       "37160     Combining Value Estimates to Increase Accuracy   \n",
       "\n",
       "                                                 journal  \n",
       "37156   Journal of Corporate Finance 17 (1) : 1 ~ 17', '  \n",
       "37157            Journal of Finance 59 : 2685 ~ 2718', '  \n",
       "37158  Journal of Financial Economics 70 (3) : 295 ~ ...  \n",
       "37159            Duke Law Journal 47 (1) : 613 ~ 716', '  \n",
       "37160           Financial Analysts Journal 60 : 23 ~ 28'  "
      ]
     },
     "execution_count": 77,
     "metadata": {},
     "output_type": "execute_result"
    }
   ],
   "source": [
    "len_5_df.tail()"
   ]
  },
  {
   "cell_type": "code",
   "execution_count": 78,
   "metadata": {
    "scrolled": true
   },
   "outputs": [
    {
     "data": {
      "text/plain": [
       "True"
      ]
     },
     "execution_count": 78,
     "metadata": {},
     "output_type": "execute_result"
    }
   ],
   "source": [
    "list(len_5_df.index.values) == len_4_idx"
   ]
  },
  {
   "cell_type": "code",
   "execution_count": 79,
   "metadata": {
    "scrolled": true
   },
   "outputs": [
    {
     "data": {
      "text/plain": [
       "array([['[학술지(정기간행물)]', ' Yee, K. K.', '2004',\n",
       "        'Combining Value Estimates to Increase Accuracy',\n",
       "        \"Financial Analysts Journal 60 : 23 ~ 28'\"]], dtype=object)"
      ]
     },
     "execution_count": 79,
     "metadata": {},
     "output_type": "execute_result"
    }
   ],
   "source": [
    "len_5_df.tail(1).values"
   ]
  },
  {
   "cell_type": "code",
   "execution_count": 80,
   "metadata": {},
   "outputs": [
    {
     "ename": "KeyError",
     "evalue": "37246",
     "output_type": "error",
     "traceback": [
      "\u001b[0;31m---------------------------------------------------------------------------\u001b[0m",
      "\u001b[0;31mKeyError\u001b[0m                                  Traceback (most recent call last)",
      "\u001b[0;32m<ipython-input-80-dd52c4af19f6>\u001b[0m in \u001b[0;36m<module>\u001b[0;34m()\u001b[0m\n\u001b[0;32m----> 1\u001b[0;31m \u001b[0mnew_df\u001b[0m\u001b[0;34m[\u001b[0m\u001b[0;34m'tuned_refer'\u001b[0m\u001b[0;34m]\u001b[0m\u001b[0;34m[\u001b[0m\u001b[0;36m37246\u001b[0m\u001b[0;34m]\u001b[0m\u001b[0;34m\u001b[0m\u001b[0m\n\u001b[0m",
      "\u001b[0;32m~/anaconda3/envs/dss_env/lib/python3.6/site-packages/pandas/core/series.py\u001b[0m in \u001b[0;36m__getitem__\u001b[0;34m(self, key)\u001b[0m\n\u001b[1;32m    765\u001b[0m         \u001b[0mkey\u001b[0m \u001b[0;34m=\u001b[0m \u001b[0mcom\u001b[0m\u001b[0;34m.\u001b[0m\u001b[0m_apply_if_callable\u001b[0m\u001b[0;34m(\u001b[0m\u001b[0mkey\u001b[0m\u001b[0;34m,\u001b[0m \u001b[0mself\u001b[0m\u001b[0;34m)\u001b[0m\u001b[0;34m\u001b[0m\u001b[0m\n\u001b[1;32m    766\u001b[0m         \u001b[0;32mtry\u001b[0m\u001b[0;34m:\u001b[0m\u001b[0;34m\u001b[0m\u001b[0m\n\u001b[0;32m--> 767\u001b[0;31m             \u001b[0mresult\u001b[0m \u001b[0;34m=\u001b[0m \u001b[0mself\u001b[0m\u001b[0;34m.\u001b[0m\u001b[0mindex\u001b[0m\u001b[0;34m.\u001b[0m\u001b[0mget_value\u001b[0m\u001b[0;34m(\u001b[0m\u001b[0mself\u001b[0m\u001b[0;34m,\u001b[0m \u001b[0mkey\u001b[0m\u001b[0;34m)\u001b[0m\u001b[0;34m\u001b[0m\u001b[0m\n\u001b[0m\u001b[1;32m    768\u001b[0m \u001b[0;34m\u001b[0m\u001b[0m\n\u001b[1;32m    769\u001b[0m             \u001b[0;32mif\u001b[0m \u001b[0;32mnot\u001b[0m \u001b[0mis_scalar\u001b[0m\u001b[0;34m(\u001b[0m\u001b[0mresult\u001b[0m\u001b[0;34m)\u001b[0m\u001b[0;34m:\u001b[0m\u001b[0;34m\u001b[0m\u001b[0m\n",
      "\u001b[0;32m~/anaconda3/envs/dss_env/lib/python3.6/site-packages/pandas/core/indexes/base.py\u001b[0m in \u001b[0;36mget_value\u001b[0;34m(self, series, key)\u001b[0m\n\u001b[1;32m   3116\u001b[0m         \u001b[0;32mtry\u001b[0m\u001b[0;34m:\u001b[0m\u001b[0;34m\u001b[0m\u001b[0m\n\u001b[1;32m   3117\u001b[0m             return self._engine.get_value(s, k,\n\u001b[0;32m-> 3118\u001b[0;31m                                           tz=getattr(series.dtype, 'tz', None))\n\u001b[0m\u001b[1;32m   3119\u001b[0m         \u001b[0;32mexcept\u001b[0m \u001b[0mKeyError\u001b[0m \u001b[0;32mas\u001b[0m \u001b[0me1\u001b[0m\u001b[0;34m:\u001b[0m\u001b[0;34m\u001b[0m\u001b[0m\n\u001b[1;32m   3120\u001b[0m             \u001b[0;32mif\u001b[0m \u001b[0mlen\u001b[0m\u001b[0;34m(\u001b[0m\u001b[0mself\u001b[0m\u001b[0;34m)\u001b[0m \u001b[0;34m>\u001b[0m \u001b[0;36m0\u001b[0m \u001b[0;32mand\u001b[0m \u001b[0mself\u001b[0m\u001b[0;34m.\u001b[0m\u001b[0minferred_type\u001b[0m \u001b[0;32min\u001b[0m \u001b[0;34m[\u001b[0m\u001b[0;34m'integer'\u001b[0m\u001b[0;34m,\u001b[0m \u001b[0;34m'boolean'\u001b[0m\u001b[0;34m]\u001b[0m\u001b[0;34m:\u001b[0m\u001b[0;34m\u001b[0m\u001b[0m\n",
      "\u001b[0;32mpandas/_libs/index.pyx\u001b[0m in \u001b[0;36mpandas._libs.index.IndexEngine.get_value\u001b[0;34m()\u001b[0m\n",
      "\u001b[0;32mpandas/_libs/index.pyx\u001b[0m in \u001b[0;36mpandas._libs.index.IndexEngine.get_value\u001b[0;34m()\u001b[0m\n",
      "\u001b[0;32mpandas/_libs/index.pyx\u001b[0m in \u001b[0;36mpandas._libs.index.IndexEngine.get_loc\u001b[0;34m()\u001b[0m\n",
      "\u001b[0;32mpandas/_libs/hashtable_class_helper.pxi\u001b[0m in \u001b[0;36mpandas._libs.hashtable.Int64HashTable.get_item\u001b[0;34m()\u001b[0m\n",
      "\u001b[0;32mpandas/_libs/hashtable_class_helper.pxi\u001b[0m in \u001b[0;36mpandas._libs.hashtable.Int64HashTable.get_item\u001b[0;34m()\u001b[0m\n",
      "\u001b[0;31mKeyError\u001b[0m: 37246"
     ]
    }
   ],
   "source": [
    "new_df['tuned_refer'][37246]"
   ]
  },
  {
   "cell_type": "markdown",
   "metadata": {},
   "source": [
    "-------------------------------------"
   ]
  },
  {
   "cell_type": "markdown",
   "metadata": {},
   "source": [
    "# 5개짜리의 구조"
   ]
  },
  {
   "cell_type": "code",
   "execution_count": 81,
   "metadata": {},
   "outputs": [
    {
     "data": {
      "text/plain": [
       "94"
      ]
     },
     "execution_count": 81,
     "metadata": {},
     "output_type": "execute_result"
    }
   ],
   "source": [
    "len([i for i in new_refer_ls if len(i) == 5])"
   ]
  },
  {
   "cell_type": "markdown",
   "metadata": {},
   "source": [
    "- 우선 첫 번째 리스트에서 - 이후에 성명이 나와있는 경우가 있다.\n",
    "- 마지막과 그 전 리스트 엘리먼트는 해당 저자의 소속과 학위가 나와있다."
   ]
  },
  {
   "cell_type": "markdown",
   "metadata": {},
   "source": [
    "# 학위"
   ]
  },
  {
   "cell_type": "code",
   "execution_count": 82,
   "metadata": {
    "scrolled": true
   },
   "outputs": [
    {
     "data": {
      "text/plain": [
       "{'Ph.D', '博士', '박사', '석사'}"
      ]
     },
     "execution_count": 82,
     "metadata": {},
     "output_type": "execute_result"
    }
   ],
   "source": [
    "set([paper[-2] for paper in [i for i in new_refer_ls if len(i) == 5]])"
   ]
  },
  {
   "cell_type": "markdown",
   "metadata": {},
   "source": [
    "# 소속"
   ]
  },
  {
   "cell_type": "code",
   "execution_count": 83,
   "metadata": {
    "scrolled": false
   },
   "outputs": [
    {
     "data": {
      "text/plain": [
       "[\"KAIST'\",\n",
       " \"한국과학기술원', '\",\n",
       " \"경북대학교 대학원', '\",\n",
       " \"The University of Chicago', '\",\n",
       " \"서울대학교 대학원', '\"]"
      ]
     },
     "execution_count": 83,
     "metadata": {},
     "output_type": "execute_result"
    }
   ],
   "source": [
    "list(set([paper[-1] for paper in [i for i in new_refer_ls if len(i) == 5]]))[-5:]"
   ]
  },
  {
   "cell_type": "code",
   "execution_count": 84,
   "metadata": {},
   "outputs": [
    {
     "data": {
      "text/plain": [
       "Int64Index([    3,   130,   131,   132,   134,   135,   137,   138,   139,\n",
       "              140,\n",
       "            ...\n",
       "            37151, 37152, 37153, 37154, 37155, 37156, 37157, 37158, 37159,\n",
       "            37160],\n",
       "           dtype='int64', length=27189)"
      ]
     },
     "execution_count": 84,
     "metadata": {},
     "output_type": "execute_result"
    }
   ],
   "source": [
    "len_5_df.index"
   ]
  },
  {
   "cell_type": "markdown",
   "metadata": {},
   "source": [
    "# 길이가 6개인 리스트를 나눠서 데이터 프레임으로 넣기"
   ]
  },
  {
   "cell_type": "code",
   "execution_count": 85,
   "metadata": {},
   "outputs": [
    {
     "data": {
      "text/plain": [
       "['[학위논문]',\n",
       " ' Low, A',\n",
       " '1992',\n",
       " 'Essays on asymmetric information in international finance',\n",
       " '박사',\n",
       " \"University of California', '\"]"
      ]
     },
     "execution_count": 85,
     "metadata": {},
     "output_type": "execute_result"
    }
   ],
   "source": [
    "[i for i in tuned_new_refer if len(i) == 6][0]"
   ]
  },
  {
   "cell_type": "markdown",
   "metadata": {},
   "source": [
    "## Characteristic of paper"
   ]
  },
  {
   "cell_type": "code",
   "execution_count": 86,
   "metadata": {},
   "outputs": [],
   "source": [
    "char_paper_ls = [re.findall('\\[.+\\]',i[0])[0] for i in [i for i in tuned_new_refer if len(i) == 6]]"
   ]
  },
  {
   "cell_type": "markdown",
   "metadata": {},
   "source": [
    "## Author of paper"
   ]
  },
  {
   "cell_type": "code",
   "execution_count": 87,
   "metadata": {},
   "outputs": [],
   "source": [
    "name_ls = []\n",
    "\n",
    "for k in range(len([i for i in tuned_new_refer if len(i) == 6])):\n",
    "    name_ls.append([i for i in tuned_new_refer if len(i) == 6][k]\\\n",
    "[1:[idx for idx,val in enumerate([i for i in tuned_new_refer if len(i) == 6][k]) if re.findall(\"[0-9]{4}\",val)][0]][0])"
   ]
  },
  {
   "cell_type": "markdown",
   "metadata": {},
   "source": [
    "## Year of paper published"
   ]
  },
  {
   "cell_type": "code",
   "execution_count": 88,
   "metadata": {},
   "outputs": [],
   "source": [
    "year_ls = []\n",
    "\n",
    "for k in range(len([i for i in tuned_new_refer if len(i) == 6])):\n",
    "    year_ls.append([i for i in tuned_new_refer if len(i) == 6][k]\\\n",
    "[[idx for idx,val in enumerate([i for i in tuned_new_refer if len(i) == 6][k]) if re.findall(\"[0-9]{4}\",val)][0]])"
   ]
  },
  {
   "cell_type": "markdown",
   "metadata": {},
   "source": [
    "## Name of paper"
   ]
  },
  {
   "cell_type": "code",
   "execution_count": 89,
   "metadata": {},
   "outputs": [],
   "source": [
    "paper_ls = []\n",
    "\n",
    "for k in range(len([i for i in tuned_new_refer if len(i) == 6])):\n",
    "    paper_ls.append([i for i in tuned_new_refer if len(i) == 6][k]\\\n",
    "[[idx+1 for idx,val in enumerate([i for i in tuned_new_refer if len(i) == 6][k]) if re.findall(\"[0-9]{4}\",val)][0]])"
   ]
  },
  {
   "cell_type": "markdown",
   "metadata": {},
   "source": [
    "## Details about Author (degree , school)"
   ]
  },
  {
   "cell_type": "code",
   "execution_count": 90,
   "metadata": {},
   "outputs": [],
   "source": [
    "degree_ls = [i[-2] for i in tuned_new_refer if len(i) == 6]\n",
    "school_ls = [i[-1] for i in tuned_new_refer if len(i) == 6]"
   ]
  },
  {
   "cell_type": "code",
   "execution_count": 91,
   "metadata": {},
   "outputs": [
    {
     "data": {
      "text/plain": [
       "True"
      ]
     },
     "execution_count": 91,
     "metadata": {},
     "output_type": "execute_result"
    }
   ],
   "source": [
    "len(char_paper_ls) == len(name_ls) == len(year_ls) == len(paper_ls) == len(degree_ls) == len(school_ls)"
   ]
  },
  {
   "cell_type": "code",
   "execution_count": 92,
   "metadata": {
    "scrolled": true
   },
   "outputs": [
    {
     "data": {
      "text/html": [
       "<div>\n",
       "<style scoped>\n",
       "    .dataframe tbody tr th:only-of-type {\n",
       "        vertical-align: middle;\n",
       "    }\n",
       "\n",
       "    .dataframe tbody tr th {\n",
       "        vertical-align: top;\n",
       "    }\n",
       "\n",
       "    .dataframe thead th {\n",
       "        text-align: right;\n",
       "    }\n",
       "</style>\n",
       "<table border=\"1\" class=\"dataframe\">\n",
       "  <thead>\n",
       "    <tr style=\"text-align: right;\">\n",
       "      <th></th>\n",
       "      <th>char</th>\n",
       "      <th>name</th>\n",
       "      <th>year</th>\n",
       "      <th>paper</th>\n",
       "      <th>degree</th>\n",
       "      <th>school</th>\n",
       "    </tr>\n",
       "  </thead>\n",
       "  <tbody>\n",
       "    <tr>\n",
       "      <th>89</th>\n",
       "      <td>[학위논문]</td>\n",
       "      <td>김봉준</td>\n",
       "      <td>2008</td>\n",
       "      <td>적률하한을 이용한 자산가격결정모형의 진단 및 검정</td>\n",
       "      <td>박사</td>\n",
       "      <td>서울대학교 대학원', '</td>\n",
       "    </tr>\n",
       "    <tr>\n",
       "      <th>90</th>\n",
       "      <td>[학위논문]</td>\n",
       "      <td>윤종훈</td>\n",
       "      <td>2010</td>\n",
       "      <td>관계금융의 가치에 대한 연구 : 중소기업 대출을 대상으로</td>\n",
       "      <td>박사</td>\n",
       "      <td>건국대학교 대학원', '</td>\n",
       "    </tr>\n",
       "    <tr>\n",
       "      <th>91</th>\n",
       "      <td>[학위논문]</td>\n",
       "      <td>여환영</td>\n",
       "      <td>2010</td>\n",
       "      <td>발생액의 질과 주식수익률 프리미엄</td>\n",
       "      <td>석사</td>\n",
       "      <td>서울시립대학교', '</td>\n",
       "    </tr>\n",
       "    <tr>\n",
       "      <th>92</th>\n",
       "      <td>[학위논문]</td>\n",
       "      <td>Ogneva, M</td>\n",
       "      <td>2008</td>\n",
       "      <td>Accrual quality and expected returns : The imp...</td>\n",
       "      <td>박사</td>\n",
       "      <td>University of Southern California'</td>\n",
       "    </tr>\n",
       "    <tr>\n",
       "      <th>93</th>\n",
       "      <td>[학위논문]</td>\n",
       "      <td>장영광</td>\n",
       "      <td>1985</td>\n",
       "      <td>기업합병과 주식취득이 주주부에 미치는 영향에 관한 실증연구</td>\n",
       "      <td>박사</td>\n",
       "      <td>고려대학교', '</td>\n",
       "    </tr>\n",
       "  </tbody>\n",
       "</table>\n",
       "</div>"
      ],
      "text/plain": [
       "      char        name  year  \\\n",
       "89  [학위논문]         김봉준  2008   \n",
       "90  [학위논문]         윤종훈  2010   \n",
       "91  [학위논문]         여환영  2010   \n",
       "92  [학위논문]   Ogneva, M  2008   \n",
       "93  [학위논문]         장영광  1985   \n",
       "\n",
       "                                                paper degree  \\\n",
       "89                        적률하한을 이용한 자산가격결정모형의 진단 및 검정     박사   \n",
       "90                    관계금융의 가치에 대한 연구 : 중소기업 대출을 대상으로     박사   \n",
       "91                                 발생액의 질과 주식수익률 프리미엄     석사   \n",
       "92  Accrual quality and expected returns : The imp...     박사   \n",
       "93                   기업합병과 주식취득이 주주부에 미치는 영향에 관한 실증연구     박사   \n",
       "\n",
       "                                school  \n",
       "89                       서울대학교 대학원', '  \n",
       "90                       건국대학교 대학원', '  \n",
       "91                         서울시립대학교', '  \n",
       "92  University of Southern California'  \n",
       "93                           고려대학교', '  "
      ]
     },
     "execution_count": 92,
     "metadata": {},
     "output_type": "execute_result"
    }
   ],
   "source": [
    "len_6_df = pd.DataFrame()\n",
    "len_6_df['char'] = char_paper_ls\n",
    "len_6_df['name'] = name_ls\n",
    "len_6_df['year'] = year_ls\n",
    "len_6_df['paper'] = paper_ls\n",
    "len_6_df['degree'] = degree_ls\n",
    "len_6_df['school'] = school_ls\n",
    "\n",
    "len_6_df.tail()"
   ]
  },
  {
   "cell_type": "code",
   "execution_count": 93,
   "metadata": {},
   "outputs": [],
   "source": [
    "len_6_df.index = len_5_idx"
   ]
  },
  {
   "cell_type": "code",
   "execution_count": 94,
   "metadata": {},
   "outputs": [
    {
     "data": {
      "text/html": [
       "<div>\n",
       "<style scoped>\n",
       "    .dataframe tbody tr th:only-of-type {\n",
       "        vertical-align: middle;\n",
       "    }\n",
       "\n",
       "    .dataframe tbody tr th {\n",
       "        vertical-align: top;\n",
       "    }\n",
       "\n",
       "    .dataframe thead th {\n",
       "        text-align: right;\n",
       "    }\n",
       "</style>\n",
       "<table border=\"1\" class=\"dataframe\">\n",
       "  <thead>\n",
       "    <tr style=\"text-align: right;\">\n",
       "      <th></th>\n",
       "      <th>char</th>\n",
       "      <th>name</th>\n",
       "      <th>year</th>\n",
       "      <th>paper</th>\n",
       "      <th>degree</th>\n",
       "      <th>school</th>\n",
       "    </tr>\n",
       "  </thead>\n",
       "  <tbody>\n",
       "    <tr>\n",
       "      <th>34586</th>\n",
       "      <td>[학위논문]</td>\n",
       "      <td>김봉준</td>\n",
       "      <td>2008</td>\n",
       "      <td>적률하한을 이용한 자산가격결정모형의 진단 및 검정</td>\n",
       "      <td>박사</td>\n",
       "      <td>서울대학교 대학원', '</td>\n",
       "    </tr>\n",
       "    <tr>\n",
       "      <th>34622</th>\n",
       "      <td>[학위논문]</td>\n",
       "      <td>윤종훈</td>\n",
       "      <td>2010</td>\n",
       "      <td>관계금융의 가치에 대한 연구 : 중소기업 대출을 대상으로</td>\n",
       "      <td>박사</td>\n",
       "      <td>건국대학교 대학원', '</td>\n",
       "    </tr>\n",
       "    <tr>\n",
       "      <th>35709</th>\n",
       "      <td>[학위논문]</td>\n",
       "      <td>여환영</td>\n",
       "      <td>2010</td>\n",
       "      <td>발생액의 질과 주식수익률 프리미엄</td>\n",
       "      <td>석사</td>\n",
       "      <td>서울시립대학교', '</td>\n",
       "    </tr>\n",
       "    <tr>\n",
       "      <th>35740</th>\n",
       "      <td>[학위논문]</td>\n",
       "      <td>Ogneva, M</td>\n",
       "      <td>2008</td>\n",
       "      <td>Accrual quality and expected returns : The imp...</td>\n",
       "      <td>박사</td>\n",
       "      <td>University of Southern California'</td>\n",
       "    </tr>\n",
       "    <tr>\n",
       "      <th>35812</th>\n",
       "      <td>[학위논문]</td>\n",
       "      <td>장영광</td>\n",
       "      <td>1985</td>\n",
       "      <td>기업합병과 주식취득이 주주부에 미치는 영향에 관한 실증연구</td>\n",
       "      <td>박사</td>\n",
       "      <td>고려대학교', '</td>\n",
       "    </tr>\n",
       "  </tbody>\n",
       "</table>\n",
       "</div>"
      ],
      "text/plain": [
       "         char        name  year  \\\n",
       "34586  [학위논문]         김봉준  2008   \n",
       "34622  [학위논문]         윤종훈  2010   \n",
       "35709  [학위논문]         여환영  2010   \n",
       "35740  [학위논문]   Ogneva, M  2008   \n",
       "35812  [학위논문]         장영광  1985   \n",
       "\n",
       "                                                   paper degree  \\\n",
       "34586                        적률하한을 이용한 자산가격결정모형의 진단 및 검정     박사   \n",
       "34622                    관계금융의 가치에 대한 연구 : 중소기업 대출을 대상으로     박사   \n",
       "35709                                 발생액의 질과 주식수익률 프리미엄     석사   \n",
       "35740  Accrual quality and expected returns : The imp...     박사   \n",
       "35812                   기업합병과 주식취득이 주주부에 미치는 영향에 관한 실증연구     박사   \n",
       "\n",
       "                                   school  \n",
       "34586                       서울대학교 대학원', '  \n",
       "34622                       건국대학교 대학원', '  \n",
       "35709                         서울시립대학교', '  \n",
       "35740  University of Southern California'  \n",
       "35812                           고려대학교', '  "
      ]
     },
     "execution_count": 94,
     "metadata": {},
     "output_type": "execute_result"
    }
   ],
   "source": [
    "len_6_df.tail()"
   ]
  },
  {
   "cell_type": "code",
   "execution_count": 95,
   "metadata": {},
   "outputs": [
    {
     "data": {
      "text/plain": [
       "True"
      ]
     },
     "execution_count": 95,
     "metadata": {},
     "output_type": "execute_result"
    }
   ],
   "source": [
    "list(len_6_df.index) == len_5_idx"
   ]
  },
  {
   "cell_type": "code",
   "execution_count": 96,
   "metadata": {},
   "outputs": [
    {
     "data": {
      "text/plain": [
       "['[학술지(정기간행물)] -',\n",
       " '1989',\n",
       " \"The Information in Discretionary Outlays：Advertising : 108 ~ 124', '\"]"
      ]
     },
     "execution_count": 96,
     "metadata": {},
     "output_type": "execute_result"
    }
   ],
   "source": [
    "new_df['tuned_refer'][36602]"
   ]
  },
  {
   "cell_type": "markdown",
   "metadata": {},
   "source": [
    "## 결측치만 모여있는 데이터프레임 만들기"
   ]
  },
  {
   "cell_type": "code",
   "execution_count": 99,
   "metadata": {},
   "outputs": [
    {
     "data": {
      "text/plain": [
       "715"
      ]
     },
     "execution_count": 99,
     "metadata": {},
     "output_type": "execute_result"
    }
   ],
   "source": [
    "len(len_2_idx)"
   ]
  },
  {
   "cell_type": "code",
   "execution_count": 100,
   "metadata": {},
   "outputs": [
    {
     "data": {
      "text/html": [
       "<div>\n",
       "<style scoped>\n",
       "    .dataframe tbody tr th:only-of-type {\n",
       "        vertical-align: middle;\n",
       "    }\n",
       "\n",
       "    .dataframe tbody tr th {\n",
       "        vertical-align: top;\n",
       "    }\n",
       "\n",
       "    .dataframe thead th {\n",
       "        text-align: right;\n",
       "    }\n",
       "</style>\n",
       "<table border=\"1\" class=\"dataframe\">\n",
       "  <thead>\n",
       "    <tr style=\"text-align: right;\">\n",
       "      <th></th>\n",
       "      <th>char</th>\n",
       "      <th>name</th>\n",
       "      <th>year</th>\n",
       "      <th>paper</th>\n",
       "      <th>degree</th>\n",
       "      <th>school</th>\n",
       "    </tr>\n",
       "  </thead>\n",
       "  <tbody>\n",
       "    <tr>\n",
       "      <th>36594</th>\n",
       "      <td>NaN</td>\n",
       "      <td>NaN</td>\n",
       "      <td>NaN</td>\n",
       "      <td>NaN</td>\n",
       "      <td>NaN</td>\n",
       "      <td>NaN</td>\n",
       "    </tr>\n",
       "    <tr>\n",
       "      <th>36599</th>\n",
       "      <td>NaN</td>\n",
       "      <td>NaN</td>\n",
       "      <td>NaN</td>\n",
       "      <td>NaN</td>\n",
       "      <td>NaN</td>\n",
       "      <td>NaN</td>\n",
       "    </tr>\n",
       "    <tr>\n",
       "      <th>36764</th>\n",
       "      <td>NaN</td>\n",
       "      <td>NaN</td>\n",
       "      <td>NaN</td>\n",
       "      <td>NaN</td>\n",
       "      <td>NaN</td>\n",
       "      <td>NaN</td>\n",
       "    </tr>\n",
       "    <tr>\n",
       "      <th>36765</th>\n",
       "      <td>NaN</td>\n",
       "      <td>NaN</td>\n",
       "      <td>NaN</td>\n",
       "      <td>NaN</td>\n",
       "      <td>NaN</td>\n",
       "      <td>NaN</td>\n",
       "    </tr>\n",
       "    <tr>\n",
       "      <th>37110</th>\n",
       "      <td>NaN</td>\n",
       "      <td>NaN</td>\n",
       "      <td>NaN</td>\n",
       "      <td>NaN</td>\n",
       "      <td>NaN</td>\n",
       "      <td>NaN</td>\n",
       "    </tr>\n",
       "  </tbody>\n",
       "</table>\n",
       "</div>"
      ],
      "text/plain": [
       "      char name year paper degree school\n",
       "36594  NaN  NaN  NaN   NaN    NaN    NaN\n",
       "36599  NaN  NaN  NaN   NaN    NaN    NaN\n",
       "36764  NaN  NaN  NaN   NaN    NaN    NaN\n",
       "36765  NaN  NaN  NaN   NaN    NaN    NaN\n",
       "37110  NaN  NaN  NaN   NaN    NaN    NaN"
      ]
     },
     "execution_count": 100,
     "metadata": {},
     "output_type": "execute_result"
    }
   ],
   "source": [
    "len_2_df = pd.DataFrame(index=len_2_idx,columns=['char','name','year','paper','degree','school'])\n",
    "len_2_df.tail()"
   ]
  },
  {
   "cell_type": "code",
   "execution_count": 101,
   "metadata": {},
   "outputs": [
    {
     "data": {
      "text/plain": [
       "citing_paper_name                       IPO 저가 발행의 저주 : 공모주 상장 초기 주가행태 분석\n",
       "citing_paper_journal                                               재무관리연구\n",
       "citing_paper_year                                                    2015\n",
       "refer                   [학술지(정기간행물)] - Sherman, A. E / 2002 / Building...\n",
       "boolean                                                              True\n",
       "tuned_refer             [[학술지(정기간행물)] - Sherman, A. E, 2002, Building ...\n",
       "Name: 35226, dtype: object"
      ]
     },
     "execution_count": 101,
     "metadata": {},
     "output_type": "execute_result"
    }
   ],
   "source": [
    "new_df.iloc[35226]"
   ]
  },
  {
   "cell_type": "markdown",
   "metadata": {},
   "source": [
    "\n",
    "# concatenate the 3 dataframe"
   ]
  },
  {
   "cell_type": "code",
   "execution_count": 102,
   "metadata": {},
   "outputs": [
    {
     "ename": "NameError",
     "evalue": "name 'len_1_df' is not defined",
     "output_type": "error",
     "traceback": [
      "\u001b[0;31m---------------------------------------------------------------------------\u001b[0m",
      "\u001b[0;31mNameError\u001b[0m                                 Traceback (most recent call last)",
      "\u001b[0;32m<ipython-input-102-91e3b633da8f>\u001b[0m in \u001b[0;36m<module>\u001b[0;34m()\u001b[0m\n\u001b[0;32m----> 1\u001b[0;31m \u001b[0mdisplay\u001b[0m\u001b[0;34m(\u001b[0m\u001b[0mlen_1_df\u001b[0m\u001b[0;34m.\u001b[0m\u001b[0mtail\u001b[0m\u001b[0;34m(\u001b[0m\u001b[0;34m)\u001b[0m\u001b[0;34m)\u001b[0m\u001b[0;34m\u001b[0m\u001b[0m\n\u001b[0m\u001b[1;32m      2\u001b[0m \u001b[0mdisplay\u001b[0m\u001b[0;34m(\u001b[0m\u001b[0mlen_4_df\u001b[0m\u001b[0;34m.\u001b[0m\u001b[0mtail\u001b[0m\u001b[0;34m(\u001b[0m\u001b[0;34m)\u001b[0m\u001b[0;34m)\u001b[0m\u001b[0;34m\u001b[0m\u001b[0m\n\u001b[1;32m      3\u001b[0m \u001b[0mdisplay\u001b[0m\u001b[0;34m(\u001b[0m\u001b[0mlen_5_df\u001b[0m\u001b[0;34m.\u001b[0m\u001b[0mtail\u001b[0m\u001b[0;34m(\u001b[0m\u001b[0;34m)\u001b[0m\u001b[0;34m)\u001b[0m\u001b[0;34m\u001b[0m\u001b[0m\n\u001b[1;32m      4\u001b[0m \u001b[0mdisplay\u001b[0m\u001b[0;34m(\u001b[0m\u001b[0mlen_6_df\u001b[0m\u001b[0;34m.\u001b[0m\u001b[0mtail\u001b[0m\u001b[0;34m(\u001b[0m\u001b[0;34m)\u001b[0m\u001b[0;34m)\u001b[0m\u001b[0;34m\u001b[0m\u001b[0m\n",
      "\u001b[0;31mNameError\u001b[0m: name 'len_1_df' is not defined"
     ]
    }
   ],
   "source": [
    "display(len_1_df.tail())\n",
    "display(len_4_df.tail())\n",
    "display(len_5_df.tail())\n",
    "display(len_6_df.tail())"
   ]
  },
  {
   "cell_type": "code",
   "execution_count": 105,
   "metadata": {},
   "outputs": [
    {
     "name": "stderr",
     "output_type": "stream",
     "text": [
      "/home/hskimim/anaconda3/envs/dss_env/lib/python3.6/site-packages/ipykernel_launcher.py:1: FutureWarning: Sorting because non-concatenation axis is not aligned. A future version\n",
      "of pandas will change to not sort by default.\n",
      "\n",
      "To accept the future behavior, pass 'sort=False'.\n",
      "\n",
      "To retain the current behavior and silence the warning, pass 'sort=True'.\n",
      "\n",
      "  \"\"\"Entry point for launching an IPython kernel.\n",
      "/home/hskimim/anaconda3/envs/dss_env/lib/python3.6/site-packages/ipykernel_launcher.py:2: FutureWarning: Sorting because non-concatenation axis is not aligned. A future version\n",
      "of pandas will change to not sort by default.\n",
      "\n",
      "To accept the future behavior, pass 'sort=False'.\n",
      "\n",
      "To retain the current behavior and silence the warning, pass 'sort=True'.\n",
      "\n",
      "  \n",
      "/home/hskimim/anaconda3/envs/dss_env/lib/python3.6/site-packages/ipykernel_launcher.py:3: FutureWarning: Sorting because non-concatenation axis is not aligned. A future version\n",
      "of pandas will change to not sort by default.\n",
      "\n",
      "To accept the future behavior, pass 'sort=False'.\n",
      "\n",
      "To retain the current behavior and silence the warning, pass 'sort=True'.\n",
      "\n",
      "  This is separate from the ipykernel package so we can avoid doing imports until\n"
     ]
    },
    {
     "data": {
      "text/html": [
       "<div>\n",
       "<style scoped>\n",
       "    .dataframe tbody tr th:only-of-type {\n",
       "        vertical-align: middle;\n",
       "    }\n",
       "\n",
       "    .dataframe tbody tr th {\n",
       "        vertical-align: top;\n",
       "    }\n",
       "\n",
       "    .dataframe thead th {\n",
       "        text-align: right;\n",
       "    }\n",
       "</style>\n",
       "<table border=\"1\" class=\"dataframe\">\n",
       "  <thead>\n",
       "    <tr style=\"text-align: right;\">\n",
       "      <th></th>\n",
       "      <th>char</th>\n",
       "      <th>degree</th>\n",
       "      <th>journal</th>\n",
       "      <th>name</th>\n",
       "      <th>paper</th>\n",
       "      <th>school</th>\n",
       "      <th>year</th>\n",
       "    </tr>\n",
       "  </thead>\n",
       "  <tbody>\n",
       "    <tr>\n",
       "      <th>36594</th>\n",
       "      <td>NaN</td>\n",
       "      <td>NaN</td>\n",
       "      <td>NaN</td>\n",
       "      <td>NaN</td>\n",
       "      <td>NaN</td>\n",
       "      <td>NaN</td>\n",
       "      <td>NaN</td>\n",
       "    </tr>\n",
       "    <tr>\n",
       "      <th>36599</th>\n",
       "      <td>NaN</td>\n",
       "      <td>NaN</td>\n",
       "      <td>NaN</td>\n",
       "      <td>NaN</td>\n",
       "      <td>NaN</td>\n",
       "      <td>NaN</td>\n",
       "      <td>NaN</td>\n",
       "    </tr>\n",
       "    <tr>\n",
       "      <th>36764</th>\n",
       "      <td>NaN</td>\n",
       "      <td>NaN</td>\n",
       "      <td>NaN</td>\n",
       "      <td>NaN</td>\n",
       "      <td>NaN</td>\n",
       "      <td>NaN</td>\n",
       "      <td>NaN</td>\n",
       "    </tr>\n",
       "    <tr>\n",
       "      <th>36765</th>\n",
       "      <td>NaN</td>\n",
       "      <td>NaN</td>\n",
       "      <td>NaN</td>\n",
       "      <td>NaN</td>\n",
       "      <td>NaN</td>\n",
       "      <td>NaN</td>\n",
       "      <td>NaN</td>\n",
       "    </tr>\n",
       "    <tr>\n",
       "      <th>37110</th>\n",
       "      <td>NaN</td>\n",
       "      <td>NaN</td>\n",
       "      <td>NaN</td>\n",
       "      <td>NaN</td>\n",
       "      <td>NaN</td>\n",
       "      <td>NaN</td>\n",
       "      <td>NaN</td>\n",
       "    </tr>\n",
       "  </tbody>\n",
       "</table>\n",
       "</div>"
      ],
      "text/plain": [
       "      char degree journal name paper school year\n",
       "36594  NaN    NaN     NaN  NaN   NaN    NaN  NaN\n",
       "36599  NaN    NaN     NaN  NaN   NaN    NaN  NaN\n",
       "36764  NaN    NaN     NaN  NaN   NaN    NaN  NaN\n",
       "36765  NaN    NaN     NaN  NaN   NaN    NaN  NaN\n",
       "37110  NaN    NaN     NaN  NaN   NaN    NaN  NaN"
      ]
     },
     "execution_count": 105,
     "metadata": {},
     "output_type": "execute_result"
    }
   ],
   "source": [
    "final_df = pd.concat([len_4_df,len_5_df],axis=0)\n",
    "final_df = pd.concat([final_df,len_6_df],axis=0)\n",
    "final_df = pd.concat([final_df,len_2_df],axis=0)\n",
    "# final_df.reset_index(drop=True,inplace=True)\n",
    "final_df.tail()"
   ]
  },
  {
   "cell_type": "code",
   "execution_count": 106,
   "metadata": {},
   "outputs": [
    {
     "data": {
      "text/plain": [
       "False"
      ]
     },
     "execution_count": 106,
     "metadata": {},
     "output_type": "execute_result"
    }
   ],
   "source": [
    "list(final_df.index.values) == len_3_idx + len_4_idx + len_5_idx + len_2_idx"
   ]
  },
  {
   "cell_type": "code",
   "execution_count": 107,
   "metadata": {},
   "outputs": [],
   "source": [
    "testing_df = final_df.reset_index()\n",
    "testing_df.sort_values(by='index',inplace=True)\n",
    "final_df = testing_df.set_index('index')"
   ]
  },
  {
   "cell_type": "code",
   "execution_count": 108,
   "metadata": {},
   "outputs": [],
   "source": [
    "final_df.to_csv('tuned_dataframe_refer.csv',index=False)"
   ]
  },
  {
   "cell_type": "code",
   "execution_count": 109,
   "metadata": {},
   "outputs": [
    {
     "data": {
      "text/plain": [
       "(37082, 7)"
      ]
     },
     "execution_count": 109,
     "metadata": {},
     "output_type": "execute_result"
    }
   ],
   "source": [
    "final_df.shape"
   ]
  },
  {
   "cell_type": "code",
   "execution_count": 110,
   "metadata": {},
   "outputs": [
    {
     "data": {
      "text/html": [
       "<div>\n",
       "<style scoped>\n",
       "    .dataframe tbody tr th:only-of-type {\n",
       "        vertical-align: middle;\n",
       "    }\n",
       "\n",
       "    .dataframe tbody tr th {\n",
       "        vertical-align: top;\n",
       "    }\n",
       "\n",
       "    .dataframe thead th {\n",
       "        text-align: right;\n",
       "    }\n",
       "</style>\n",
       "<table border=\"1\" class=\"dataframe\">\n",
       "  <thead>\n",
       "    <tr style=\"text-align: right;\">\n",
       "      <th></th>\n",
       "      <th>char</th>\n",
       "      <th>degree</th>\n",
       "      <th>journal</th>\n",
       "      <th>name</th>\n",
       "      <th>paper</th>\n",
       "      <th>school</th>\n",
       "      <th>year</th>\n",
       "    </tr>\n",
       "    <tr>\n",
       "      <th>index</th>\n",
       "      <th></th>\n",
       "      <th></th>\n",
       "      <th></th>\n",
       "      <th></th>\n",
       "      <th></th>\n",
       "      <th></th>\n",
       "      <th></th>\n",
       "    </tr>\n",
       "  </thead>\n",
       "  <tbody>\n",
       "    <tr>\n",
       "      <th>37156</th>\n",
       "      <td>[학술지(정기간행물)]</td>\n",
       "      <td>NaN</td>\n",
       "      <td>Journal of Corporate Finance 17 (1) : 1 ~ 17', '</td>\n",
       "      <td>Ma, Q.</td>\n",
       "      <td>Value, Valuation, and the Long-run Performance...</td>\n",
       "      <td>NaN</td>\n",
       "      <td>2011</td>\n",
       "    </tr>\n",
       "    <tr>\n",
       "      <th>37157</th>\n",
       "      <td>[학술지(정기간행물)]</td>\n",
       "      <td>NaN</td>\n",
       "      <td>Journal of Finance 59 : 2685 ~ 2718', '</td>\n",
       "      <td>Rhodes-Kropf, M.</td>\n",
       "      <td>Market Valuation and Merger Waves</td>\n",
       "      <td>NaN</td>\n",
       "      <td>2004</td>\n",
       "    </tr>\n",
       "    <tr>\n",
       "      <th>37158</th>\n",
       "      <td>[학술지(정기간행물)]</td>\n",
       "      <td>NaN</td>\n",
       "      <td>Journal of Financial Economics 70 (3) : 295 ~ ...</td>\n",
       "      <td>Shleifer, A.</td>\n",
       "      <td>Stock Market Driven Acquisitions</td>\n",
       "      <td>NaN</td>\n",
       "      <td>2003</td>\n",
       "    </tr>\n",
       "    <tr>\n",
       "      <th>37159</th>\n",
       "      <td>[학술지(정기간행물)]</td>\n",
       "      <td>NaN</td>\n",
       "      <td>Duke Law Journal 47 (1) : 613 ~ 716', '</td>\n",
       "      <td>Wertheimer, B. M.</td>\n",
       "      <td>The Shareholders’ Appraisal Remedy and How Cou...</td>\n",
       "      <td>NaN</td>\n",
       "      <td>1998</td>\n",
       "    </tr>\n",
       "    <tr>\n",
       "      <th>37160</th>\n",
       "      <td>[학술지(정기간행물)]</td>\n",
       "      <td>NaN</td>\n",
       "      <td>Financial Analysts Journal 60 : 23 ~ 28'</td>\n",
       "      <td>Yee, K. K.</td>\n",
       "      <td>Combining Value Estimates to Increase Accuracy</td>\n",
       "      <td>NaN</td>\n",
       "      <td>2004</td>\n",
       "    </tr>\n",
       "  </tbody>\n",
       "</table>\n",
       "</div>"
      ],
      "text/plain": [
       "               char degree                                            journal  \\\n",
       "index                                                                           \n",
       "37156  [학술지(정기간행물)]    NaN   Journal of Corporate Finance 17 (1) : 1 ~ 17', '   \n",
       "37157  [학술지(정기간행물)]    NaN            Journal of Finance 59 : 2685 ~ 2718', '   \n",
       "37158  [학술지(정기간행물)]    NaN  Journal of Financial Economics 70 (3) : 295 ~ ...   \n",
       "37159  [학술지(정기간행물)]    NaN            Duke Law Journal 47 (1) : 613 ~ 716', '   \n",
       "37160  [학술지(정기간행물)]    NaN           Financial Analysts Journal 60 : 23 ~ 28'   \n",
       "\n",
       "                     name                                              paper  \\\n",
       "index                                                                          \n",
       "37156              Ma, Q.  Value, Valuation, and the Long-run Performance...   \n",
       "37157    Rhodes-Kropf, M.                  Market Valuation and Merger Waves   \n",
       "37158        Shleifer, A.                   Stock Market Driven Acquisitions   \n",
       "37159   Wertheimer, B. M.  The Shareholders’ Appraisal Remedy and How Cou...   \n",
       "37160          Yee, K. K.     Combining Value Estimates to Increase Accuracy   \n",
       "\n",
       "      school  year  \n",
       "index               \n",
       "37156    NaN  2011  \n",
       "37157    NaN  2004  \n",
       "37158    NaN  2003  \n",
       "37159    NaN  1998  \n",
       "37160    NaN  2004  "
      ]
     },
     "execution_count": 110,
     "metadata": {},
     "output_type": "execute_result"
    }
   ],
   "source": [
    "final_df.tail()"
   ]
  },
  {
   "cell_type": "code",
   "execution_count": 111,
   "metadata": {},
   "outputs": [
    {
     "data": {
      "text/html": [
       "<div>\n",
       "<style scoped>\n",
       "    .dataframe tbody tr th:only-of-type {\n",
       "        vertical-align: middle;\n",
       "    }\n",
       "\n",
       "    .dataframe tbody tr th {\n",
       "        vertical-align: top;\n",
       "    }\n",
       "\n",
       "    .dataframe thead th {\n",
       "        text-align: right;\n",
       "    }\n",
       "</style>\n",
       "<table border=\"1\" class=\"dataframe\">\n",
       "  <thead>\n",
       "    <tr style=\"text-align: right;\">\n",
       "      <th></th>\n",
       "      <th>citing_paper_name</th>\n",
       "      <th>citing_paper_journal</th>\n",
       "      <th>citing_paper_year</th>\n",
       "      <th>refer</th>\n",
       "      <th>boolean</th>\n",
       "      <th>tuned_refer</th>\n",
       "    </tr>\n",
       "  </thead>\n",
       "  <tbody>\n",
       "    <tr>\n",
       "      <th>37156</th>\n",
       "      <td>합병기업의 주식매수청구권 행사결정요인과 장기성과</td>\n",
       "      <td>재무관리연구</td>\n",
       "      <td>2013.0</td>\n",
       "      <td>[학술지(정기간행물)] - Ma, Q. / 2011 / Value, Valuatio...</td>\n",
       "      <td>True</td>\n",
       "      <td>[[학술지(정기간행물)] - Ma, Q., 2011, Value, Valuation...</td>\n",
       "    </tr>\n",
       "    <tr>\n",
       "      <th>37157</th>\n",
       "      <td>합병기업의 주식매수청구권 행사결정요인과 장기성과</td>\n",
       "      <td>재무관리연구</td>\n",
       "      <td>2013.0</td>\n",
       "      <td>[학술지(정기간행물)] - Rhodes-Kropf, M. / 2004 / Marke...</td>\n",
       "      <td>True</td>\n",
       "      <td>[[학술지(정기간행물)] - Rhodes-Kropf, M., 2004, Market...</td>\n",
       "    </tr>\n",
       "    <tr>\n",
       "      <th>37158</th>\n",
       "      <td>합병기업의 주식매수청구권 행사결정요인과 장기성과</td>\n",
       "      <td>재무관리연구</td>\n",
       "      <td>2013.0</td>\n",
       "      <td>[학술지(정기간행물)] - Shleifer, A. / 2003 / Stock Mar...</td>\n",
       "      <td>True</td>\n",
       "      <td>[[학술지(정기간행물)] - Shleifer, A., 2003, Stock Mark...</td>\n",
       "    </tr>\n",
       "    <tr>\n",
       "      <th>37159</th>\n",
       "      <td>합병기업의 주식매수청구권 행사결정요인과 장기성과</td>\n",
       "      <td>재무관리연구</td>\n",
       "      <td>2013.0</td>\n",
       "      <td>[학술지(정기간행물)] - Wertheimer, B. M. / 1998 / The ...</td>\n",
       "      <td>True</td>\n",
       "      <td>[[학술지(정기간행물)] - Wertheimer, B. M., 1998, The S...</td>\n",
       "    </tr>\n",
       "    <tr>\n",
       "      <th>37160</th>\n",
       "      <td>합병기업의 주식매수청구권 행사결정요인과 장기성과</td>\n",
       "      <td>재무관리연구</td>\n",
       "      <td>2013.0</td>\n",
       "      <td>[학술지(정기간행물)] - Yee, K. K. / 2004 / Combining V...</td>\n",
       "      <td>True</td>\n",
       "      <td>[[학술지(정기간행물)] - Yee, K. K., 2004, Combining Va...</td>\n",
       "    </tr>\n",
       "  </tbody>\n",
       "</table>\n",
       "</div>"
      ],
      "text/plain": [
       "                citing_paper_name citing_paper_journal  citing_paper_year  \\\n",
       "37156  합병기업의 주식매수청구권 행사결정요인과 장기성과               재무관리연구             2013.0   \n",
       "37157  합병기업의 주식매수청구권 행사결정요인과 장기성과               재무관리연구             2013.0   \n",
       "37158  합병기업의 주식매수청구권 행사결정요인과 장기성과               재무관리연구             2013.0   \n",
       "37159  합병기업의 주식매수청구권 행사결정요인과 장기성과               재무관리연구             2013.0   \n",
       "37160  합병기업의 주식매수청구권 행사결정요인과 장기성과               재무관리연구             2013.0   \n",
       "\n",
       "                                                   refer  boolean  \\\n",
       "37156  [학술지(정기간행물)] - Ma, Q. / 2011 / Value, Valuatio...     True   \n",
       "37157  [학술지(정기간행물)] - Rhodes-Kropf, M. / 2004 / Marke...     True   \n",
       "37158  [학술지(정기간행물)] - Shleifer, A. / 2003 / Stock Mar...     True   \n",
       "37159  [학술지(정기간행물)] - Wertheimer, B. M. / 1998 / The ...     True   \n",
       "37160  [학술지(정기간행물)] - Yee, K. K. / 2004 / Combining V...     True   \n",
       "\n",
       "                                             tuned_refer  \n",
       "37156  [[학술지(정기간행물)] - Ma, Q., 2011, Value, Valuation...  \n",
       "37157  [[학술지(정기간행물)] - Rhodes-Kropf, M., 2004, Market...  \n",
       "37158  [[학술지(정기간행물)] - Shleifer, A., 2003, Stock Mark...  \n",
       "37159  [[학술지(정기간행물)] - Wertheimer, B. M., 1998, The S...  \n",
       "37160  [[학술지(정기간행물)] - Yee, K. K., 2004, Combining Va...  "
      ]
     },
     "execution_count": 111,
     "metadata": {},
     "output_type": "execute_result"
    }
   ],
   "source": [
    "new_df.tail()"
   ]
  },
  {
   "cell_type": "markdown",
   "metadata": {},
   "source": [
    "# concatenate tuned_infor and tuned_refer dataframe"
   ]
  },
  {
   "cell_type": "code",
   "execution_count": 349,
   "metadata": {
    "collapsed": true
   },
   "outputs": [],
   "source": [
    "infor_csv = pd.read_csv(\"tuned_dataframe_infor.csv\")\n",
    "refer_csv = pd.read_csv(\"tuned_dataframe_refer.csv\")\n",
    "\n",
    "df = pd.concat([infor_csv,refer_csv],axis=1)"
   ]
  },
  {
   "cell_type": "code",
   "execution_count": 350,
   "metadata": {
    "collapsed": true
   },
   "outputs": [],
   "source": [
    "df.columns = ['paper_name_infor', 'institution_infor', 'author_infor', 'journal_infor', 'dont_know_infor', 'page_infor',\n",
    "       'year_infor', 'field_infor', 'cited_infor', 'char_refer', 'degree_refer', 'journal_refer', 'name_refer', 'paper_refer',\n",
    "       'school_refer', 'year_refer']"
   ]
  },
  {
   "cell_type": "code",
   "execution_count": 351,
   "metadata": {
    "collapsed": true
   },
   "outputs": [],
   "source": [
    "df.to_csv('tuned_dataframe.csv',index=False)"
   ]
  },
  {
   "cell_type": "code",
   "execution_count": 352,
   "metadata": {
    "scrolled": true
   },
   "outputs": [
    {
     "data": {
      "text/html": [
       "<div>\n",
       "<style>\n",
       "    .dataframe thead tr:only-child th {\n",
       "        text-align: right;\n",
       "    }\n",
       "\n",
       "    .dataframe thead th {\n",
       "        text-align: left;\n",
       "    }\n",
       "\n",
       "    .dataframe tbody tr th {\n",
       "        vertical-align: top;\n",
       "    }\n",
       "</style>\n",
       "<table border=\"1\" class=\"dataframe\">\n",
       "  <thead>\n",
       "    <tr style=\"text-align: right;\">\n",
       "      <th></th>\n",
       "      <th>paper_name_infor</th>\n",
       "      <th>institution_infor</th>\n",
       "      <th>author_infor</th>\n",
       "      <th>journal_infor</th>\n",
       "      <th>dont_know_infor</th>\n",
       "      <th>page_infor</th>\n",
       "      <th>year_infor</th>\n",
       "      <th>field_infor</th>\n",
       "      <th>cited_infor</th>\n",
       "      <th>char_refer</th>\n",
       "      <th>degree_refer</th>\n",
       "      <th>journal_refer</th>\n",
       "      <th>name_refer</th>\n",
       "      <th>paper_refer</th>\n",
       "      <th>school_refer</th>\n",
       "      <th>year_refer</th>\n",
       "    </tr>\n",
       "  </thead>\n",
       "  <tbody>\n",
       "    <tr>\n",
       "      <th>37242</th>\n",
       "      <td>Corporate Diversification, Relatedness, and Fi...</td>\n",
       "      <td>한국증권학회</td>\n",
       "      <td>배성철 , 권택호 , 이장우</td>\n",
       "      <td>Asia-Pacific Journal of Financial Studies</td>\n",
       "      <td>37(6)</td>\n",
       "      <td>pp.1025~1064</td>\n",
       "      <td>2008.12</td>\n",
       "      <td>경영학</td>\n",
       "      <td>피인용횟수 : 20</td>\n",
       "      <td>[기타자료]</td>\n",
       "      <td>NaN</td>\n",
       "      <td>NaN</td>\n",
       "      <td>Villalonga, Belen</td>\n",
       "      <td>Does Diversification Cause the “Diversificatio...</td>\n",
       "      <td>NaN</td>\n",
       "      <td>1999.0</td>\n",
       "    </tr>\n",
       "    <tr>\n",
       "      <th>37243</th>\n",
       "      <td>Corporate Diversification, Relatedness, and Fi...</td>\n",
       "      <td>한국증권학회</td>\n",
       "      <td>배성철 , 권택호 , 이장우</td>\n",
       "      <td>Asia-Pacific Journal of Financial Studies</td>\n",
       "      <td>37(6)</td>\n",
       "      <td>pp.1025~1064</td>\n",
       "      <td>2008.12</td>\n",
       "      <td>경영학</td>\n",
       "      <td>피인용횟수 : 20</td>\n",
       "      <td>[학술지(정기간행물)]</td>\n",
       "      <td>NaN</td>\n",
       "      <td>Journal of Finance 59 : 479 ~ 506,</td>\n",
       "      <td>Villalonga, Belen</td>\n",
       "      <td>Diversification discount or premium? New Evide...</td>\n",
       "      <td>NaN</td>\n",
       "      <td>2004.0</td>\n",
       "    </tr>\n",
       "    <tr>\n",
       "      <th>37244</th>\n",
       "      <td>Corporate Diversification, Relatedness, and Fi...</td>\n",
       "      <td>한국증권학회</td>\n",
       "      <td>배성철 , 권택호 , 이장우</td>\n",
       "      <td>Asia-Pacific Journal of Financial Studies</td>\n",
       "      <td>37(6)</td>\n",
       "      <td>pp.1025~1064</td>\n",
       "      <td>2008.12</td>\n",
       "      <td>경영학</td>\n",
       "      <td>피인용횟수 : 20</td>\n",
       "      <td>[학술지(정기간행물)]</td>\n",
       "      <td>NaN</td>\n",
       "      <td>Financial Management 33 : 5 ~ 27,</td>\n",
       "      <td>Villalonga, Belen</td>\n",
       "      <td>Does Diversification Cause the Diversification...</td>\n",
       "      <td>NaN</td>\n",
       "      <td>2004.0</td>\n",
       "    </tr>\n",
       "    <tr>\n",
       "      <th>37245</th>\n",
       "      <td>Corporate Diversification, Relatedness, and Fi...</td>\n",
       "      <td>한국증권학회</td>\n",
       "      <td>배성철 , 권택호 , 이장우</td>\n",
       "      <td>Asia-Pacific Journal of Financial Studies</td>\n",
       "      <td>37(6)</td>\n",
       "      <td>pp.1025~1064</td>\n",
       "      <td>2008.12</td>\n",
       "      <td>경영학</td>\n",
       "      <td>피인용횟수 : 20</td>\n",
       "      <td>[학술지(정기간행물)]</td>\n",
       "      <td>NaN</td>\n",
       "      <td>St. John’s Review 44 : 66 ~ 80,</td>\n",
       "      <td>Weston, J. F</td>\n",
       "      <td>The Nature and Significance of Conglomerate Firms</td>\n",
       "      <td>NaN</td>\n",
       "      <td>1970.0</td>\n",
       "    </tr>\n",
       "    <tr>\n",
       "      <th>37246</th>\n",
       "      <td>Corporate Diversification, Relatedness, and Fi...</td>\n",
       "      <td>한국증권학회</td>\n",
       "      <td>배성철 , 권택호 , 이장우</td>\n",
       "      <td>Asia-Pacific Journal of Financial Studies</td>\n",
       "      <td>37(6)</td>\n",
       "      <td>pp.1025~1064</td>\n",
       "      <td>2008.12</td>\n",
       "      <td>경영학</td>\n",
       "      <td>피인용횟수 : 20</td>\n",
       "      <td>[학술지(정기간행물)]</td>\n",
       "      <td>NaN</td>\n",
       "      <td>Journal of Finance 56 : 1667 ~ 1691</td>\n",
       "      <td>Whited, Toni M</td>\n",
       "      <td>Is It Inefficient Investment That Causes the D...</td>\n",
       "      <td>NaN</td>\n",
       "      <td>2001.0</td>\n",
       "    </tr>\n",
       "  </tbody>\n",
       "</table>\n",
       "</div>"
      ],
      "text/plain": [
       "                                        paper_name_infor institution_infor  \\\n",
       "37242  Corporate Diversification, Relatedness, and Fi...           한국증권학회    \n",
       "37243  Corporate Diversification, Relatedness, and Fi...           한국증권학회    \n",
       "37244  Corporate Diversification, Relatedness, and Fi...           한국증권학회    \n",
       "37245  Corporate Diversification, Relatedness, and Fi...           한국증권학회    \n",
       "37246  Corporate Diversification, Relatedness, and Fi...           한국증권학회    \n",
       "\n",
       "           author_infor                                journal_infor  \\\n",
       "37242  배성철 , 권택호 , 이장우    Asia-Pacific Journal of Financial Studies    \n",
       "37243  배성철 , 권택호 , 이장우    Asia-Pacific Journal of Financial Studies    \n",
       "37244  배성철 , 권택호 , 이장우    Asia-Pacific Journal of Financial Studies    \n",
       "37245  배성철 , 권택호 , 이장우    Asia-Pacific Journal of Financial Studies    \n",
       "37246  배성철 , 권택호 , 이장우    Asia-Pacific Journal of Financial Studies    \n",
       "\n",
       "      dont_know_infor      page_infor  year_infor field_infor cited_infor  \\\n",
       "37242          37(6)    pp.1025~1064      2008.12         경영학  피인용횟수 : 20   \n",
       "37243          37(6)    pp.1025~1064      2008.12         경영학  피인용횟수 : 20   \n",
       "37244          37(6)    pp.1025~1064      2008.12         경영학  피인용횟수 : 20   \n",
       "37245          37(6)    pp.1025~1064      2008.12         경영학  피인용횟수 : 20   \n",
       "37246          37(6)    pp.1025~1064      2008.12         경영학  피인용횟수 : 20   \n",
       "\n",
       "         char_refer degree_refer                        journal_refer  \\\n",
       "37242        [기타자료]          NaN                                  NaN   \n",
       "37243  [학술지(정기간행물)]          NaN   Journal of Finance 59 : 479 ~ 506,   \n",
       "37244  [학술지(정기간행물)]          NaN    Financial Management 33 : 5 ~ 27,   \n",
       "37245  [학술지(정기간행물)]          NaN      St. John’s Review 44 : 66 ~ 80,   \n",
       "37246  [학술지(정기간행물)]          NaN  Journal of Finance 56 : 1667 ~ 1691   \n",
       "\n",
       "               name_refer                                        paper_refer  \\\n",
       "37242   Villalonga, Belen  Does Diversification Cause the “Diversificatio...   \n",
       "37243   Villalonga, Belen  Diversification discount or premium? New Evide...   \n",
       "37244   Villalonga, Belen  Does Diversification Cause the Diversification...   \n",
       "37245        Weston, J. F  The Nature and Significance of Conglomerate Firms   \n",
       "37246      Whited, Toni M  Is It Inefficient Investment That Causes the D...   \n",
       "\n",
       "      school_refer  year_refer  \n",
       "37242          NaN      1999.0  \n",
       "37243          NaN      2004.0  \n",
       "37244          NaN      2004.0  \n",
       "37245          NaN      1970.0  \n",
       "37246          NaN      2001.0  "
      ]
     },
     "execution_count": 352,
     "metadata": {},
     "output_type": "execute_result"
    }
   ],
   "source": [
    "df.tail()"
   ]
  },
  {
   "cell_type": "markdown",
   "metadata": {},
   "source": [
    "## 정리\n",
    "- 4개짜리 리스트 (8071개)\n",
    "    - 논문의 특성\n",
    "    - 이름(공백이라고 해도 무방)\n",
    "    - 년도\n",
    "    - 논문 이름(저널이름이 함께 포함되어 있는 경우가 있음, Journal만 있는 경우가 900개 넘는다.)\n",
    "- 5개짜리 리스트 (28840개)\n",
    "    - 논문의 특성\n",
    "    - 이름\n",
    "    - 년도\n",
    "    - 논문의 이름\n",
    "    - 저널의 이름\n",
    "- 6개짜리 리스트 (94개)\n",
    "    - 논문의 특성\n",
    "    - 이름\n",
    "    - 년도\n",
    "    - 논문의 이름\n",
    "    - 저자의 학위\n",
    "    - 저자의 소속"
   ]
  },
  {
   "cell_type": "code",
   "execution_count": 353,
   "metadata": {
    "scrolled": true
   },
   "outputs": [
    {
     "data": {
      "text/plain": [
       "(8071, 28840, 94)"
      ]
     },
     "execution_count": 353,
     "metadata": {},
     "output_type": "execute_result"
    }
   ],
   "source": [
    "(len([i for i in tuned_new_refer if len(i) == 4]),\n",
    "len([i for i in tuned_new_refer if len(i) == 5]),\n",
    "len([i for i in tuned_new_refer if len(i) == 6]))"
   ]
  },
  {
   "cell_type": "code",
   "execution_count": 354,
   "metadata": {},
   "outputs": [
    {
     "data": {
      "text/plain": [
       "['53. [보고서]',\n",
       " ' New York Stock Exchange',\n",
       " '1991',\n",
       " 'The Rule 80A Index Arbitrage Tick Test: Report to the U.S. Securities and Exchange Commission,']"
      ]
     },
     "execution_count": 354,
     "metadata": {},
     "output_type": "execute_result"
    }
   ],
   "source": [
    "[i for i in tuned_new_refer if len(i) == 4][0]"
   ]
  },
  {
   "cell_type": "code",
   "execution_count": 355,
   "metadata": {},
   "outputs": [
    {
     "data": {
      "text/plain": [
       "['1. [학술지(정기간행물)]',\n",
       " ' 고봉찬',\n",
       " '2007',\n",
       " '발생액 이상현상에 대한 위험평가',\n",
       " 'Asia-Pacific Journal of Financial Studies 36 (3) : 425 ~ 461,']"
      ]
     },
     "execution_count": 355,
     "metadata": {},
     "output_type": "execute_result"
    }
   ],
   "source": [
    "[i for i in tuned_new_refer if len(i) == 5][0]"
   ]
  },
  {
   "cell_type": "code",
   "execution_count": 356,
   "metadata": {},
   "outputs": [
    {
     "data": {
      "text/plain": [
       "['10. [학위논문]',\n",
       " ' 張榮光',\n",
       " '1985',\n",
       " '企業合倂과 株式取得이 株主의 富에 미치는 影響에 關한 實證的 硏究',\n",
       " '박사',\n",
       " '고려대학교 대학원,']"
      ]
     },
     "execution_count": 356,
     "metadata": {},
     "output_type": "execute_result"
    }
   ],
   "source": [
    "[i for i in tuned_new_refer if len(i) == 6][0]"
   ]
  },
  {
   "cell_type": "markdown",
   "metadata": {},
   "source": [
    "# ! 34,50,52 부분을 교수님께 여쭈어보아야 한다."
   ]
  },
  {
   "cell_type": "markdown",
   "metadata": {},
   "source": [
    "- link\n",
    "- raw data\n",
    "- character"
   ]
  },
  {
   "cell_type": "markdown",
   "metadata": {},
   "source": [
    "- cited = 0 \n",
    "- 2007년부터 신뢰성\n",
    "- 연도별 , 저널별 , 한 사이팅 페이터가 몇 개의 사이티드 페이\n",
    "- 시간별로 연도별 , 저널별 평균값을 취해서 신뢰성을 체크"
   ]
  }
 ],
 "metadata": {
  "kernelspec": {
   "display_name": "Python 3",
   "language": "python",
   "name": "python3"
  },
  "language_info": {
   "codemirror_mode": {
    "name": "ipython",
    "version": 3
   },
   "file_extension": ".py",
   "mimetype": "text/x-python",
   "name": "python",
   "nbconvert_exporter": "python",
   "pygments_lexer": "ipython3",
   "version": "3.6.6"
  }
 },
 "nbformat": 4,
 "nbformat_minor": 2
}
