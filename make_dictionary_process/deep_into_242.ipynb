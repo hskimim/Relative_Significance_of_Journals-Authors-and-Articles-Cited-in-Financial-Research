{
 "cells": [
  {
   "cell_type": "code",
   "execution_count": 1,
   "metadata": {
    "collapsed": true
   },
   "outputs": [],
   "source": [
    "import pandas as pd\n",
    "from collections import Counter\n",
    "import journal_tuning_process as jour\n",
    "from IPython.display import display\n",
    "import matplotlib.pylab as plt\n",
    "import seaborn as sns\n",
    "%matplotlib inline\n",
    "import matplotlib as mpl\n",
    "mpl.rc('font', family='nanumgothic')\n",
    "mpl.rc('axes', unicode_minus=False)\n",
    "import journal_tuning_process as jour"
   ]
  },
  {
   "cell_type": "code",
   "execution_count": 2,
   "metadata": {
    "scrolled": false
   },
   "outputs": [
    {
     "data": {
      "text/html": [
       "<div>\n",
       "<style>\n",
       "    .dataframe thead tr:only-child th {\n",
       "        text-align: right;\n",
       "    }\n",
       "\n",
       "    .dataframe thead th {\n",
       "        text-align: left;\n",
       "    }\n",
       "\n",
       "    .dataframe tbody tr th {\n",
       "        vertical-align: top;\n",
       "    }\n",
       "</style>\n",
       "<table border=\"1\" class=\"dataframe\">\n",
       "  <thead>\n",
       "    <tr style=\"text-align: right;\">\n",
       "      <th></th>\n",
       "      <th>paper_name_infor</th>\n",
       "      <th>institution_infor</th>\n",
       "      <th>author_infor</th>\n",
       "      <th>journal_infor</th>\n",
       "      <th>dont_know_infor</th>\n",
       "      <th>page_infor</th>\n",
       "      <th>year_infor</th>\n",
       "      <th>field_infor</th>\n",
       "      <th>cited_infor</th>\n",
       "      <th>char_refer</th>\n",
       "      <th>degree_refer</th>\n",
       "      <th>journal_refer</th>\n",
       "      <th>name_refer</th>\n",
       "      <th>paper_refer</th>\n",
       "      <th>school_refer</th>\n",
       "      <th>year_refer</th>\n",
       "    </tr>\n",
       "  </thead>\n",
       "  <tbody>\n",
       "    <tr>\n",
       "      <th>37242</th>\n",
       "      <td>Corporate Diversification, Relatedness, and Fi...</td>\n",
       "      <td>한국증권학회</td>\n",
       "      <td>배성철 , 권택호 , 이장우</td>\n",
       "      <td>Asia-Pacific Journal of Financial Studies</td>\n",
       "      <td>37(6)</td>\n",
       "      <td>pp.1025~1064</td>\n",
       "      <td>2008.12</td>\n",
       "      <td>경영학</td>\n",
       "      <td>피인용횟수 : 20</td>\n",
       "      <td>[기타자료]</td>\n",
       "      <td>NaN</td>\n",
       "      <td>Working paper, Harvard University,</td>\n",
       "      <td>Villalonga, Belen</td>\n",
       "      <td>Does Diversification Cause the “Diversificatio...</td>\n",
       "      <td>NaN</td>\n",
       "      <td>1999.0</td>\n",
       "    </tr>\n",
       "    <tr>\n",
       "      <th>37243</th>\n",
       "      <td>Corporate Diversification, Relatedness, and Fi...</td>\n",
       "      <td>한국증권학회</td>\n",
       "      <td>배성철 , 권택호 , 이장우</td>\n",
       "      <td>Asia-Pacific Journal of Financial Studies</td>\n",
       "      <td>37(6)</td>\n",
       "      <td>pp.1025~1064</td>\n",
       "      <td>2008.12</td>\n",
       "      <td>경영학</td>\n",
       "      <td>피인용횟수 : 20</td>\n",
       "      <td>[학술지(정기간행물)]</td>\n",
       "      <td>NaN</td>\n",
       "      <td>Journal of Finance 59 : 479 ~ 506,</td>\n",
       "      <td>Villalonga, Belen</td>\n",
       "      <td>Diversification discount or premium? New Evide...</td>\n",
       "      <td>NaN</td>\n",
       "      <td>2004.0</td>\n",
       "    </tr>\n",
       "    <tr>\n",
       "      <th>37244</th>\n",
       "      <td>Corporate Diversification, Relatedness, and Fi...</td>\n",
       "      <td>한국증권학회</td>\n",
       "      <td>배성철 , 권택호 , 이장우</td>\n",
       "      <td>Asia-Pacific Journal of Financial Studies</td>\n",
       "      <td>37(6)</td>\n",
       "      <td>pp.1025~1064</td>\n",
       "      <td>2008.12</td>\n",
       "      <td>경영학</td>\n",
       "      <td>피인용횟수 : 20</td>\n",
       "      <td>[학술지(정기간행물)]</td>\n",
       "      <td>NaN</td>\n",
       "      <td>Financial Management 33 : 5 ~ 27,</td>\n",
       "      <td>Villalonga, Belen</td>\n",
       "      <td>Does Diversification Cause the Diversification...</td>\n",
       "      <td>NaN</td>\n",
       "      <td>2004.0</td>\n",
       "    </tr>\n",
       "    <tr>\n",
       "      <th>37245</th>\n",
       "      <td>Corporate Diversification, Relatedness, and Fi...</td>\n",
       "      <td>한국증권학회</td>\n",
       "      <td>배성철 , 권택호 , 이장우</td>\n",
       "      <td>Asia-Pacific Journal of Financial Studies</td>\n",
       "      <td>37(6)</td>\n",
       "      <td>pp.1025~1064</td>\n",
       "      <td>2008.12</td>\n",
       "      <td>경영학</td>\n",
       "      <td>피인용횟수 : 20</td>\n",
       "      <td>[학술지(정기간행물)]</td>\n",
       "      <td>NaN</td>\n",
       "      <td>St. John’s Review 44 : 66 ~ 80,</td>\n",
       "      <td>Weston, J. F</td>\n",
       "      <td>The Nature and Significance of Conglomerate Firms</td>\n",
       "      <td>NaN</td>\n",
       "      <td>1970.0</td>\n",
       "    </tr>\n",
       "    <tr>\n",
       "      <th>37246</th>\n",
       "      <td>Corporate Diversification, Relatedness, and Fi...</td>\n",
       "      <td>한국증권학회</td>\n",
       "      <td>배성철 , 권택호 , 이장우</td>\n",
       "      <td>Asia-Pacific Journal of Financial Studies</td>\n",
       "      <td>37(6)</td>\n",
       "      <td>pp.1025~1064</td>\n",
       "      <td>2008.12</td>\n",
       "      <td>경영학</td>\n",
       "      <td>피인용횟수 : 20</td>\n",
       "      <td>[학술지(정기간행물)]</td>\n",
       "      <td>NaN</td>\n",
       "      <td>Journal of Finance 56 : 1667 ~ 1691</td>\n",
       "      <td>Whited, Toni M</td>\n",
       "      <td>Is It Inefficient Investment That Causes the D...</td>\n",
       "      <td>NaN</td>\n",
       "      <td>2001.0</td>\n",
       "    </tr>\n",
       "  </tbody>\n",
       "</table>\n",
       "</div>"
      ],
      "text/plain": [
       "                                        paper_name_infor institution_infor  \\\n",
       "37242  Corporate Diversification, Relatedness, and Fi...           한국증권학회    \n",
       "37243  Corporate Diversification, Relatedness, and Fi...           한국증권학회    \n",
       "37244  Corporate Diversification, Relatedness, and Fi...           한국증권학회    \n",
       "37245  Corporate Diversification, Relatedness, and Fi...           한국증권학회    \n",
       "37246  Corporate Diversification, Relatedness, and Fi...           한국증권학회    \n",
       "\n",
       "           author_infor                                journal_infor  \\\n",
       "37242  배성철 , 권택호 , 이장우    Asia-Pacific Journal of Financial Studies    \n",
       "37243  배성철 , 권택호 , 이장우    Asia-Pacific Journal of Financial Studies    \n",
       "37244  배성철 , 권택호 , 이장우    Asia-Pacific Journal of Financial Studies    \n",
       "37245  배성철 , 권택호 , 이장우    Asia-Pacific Journal of Financial Studies    \n",
       "37246  배성철 , 권택호 , 이장우    Asia-Pacific Journal of Financial Studies    \n",
       "\n",
       "      dont_know_infor      page_infor  year_infor field_infor cited_infor  \\\n",
       "37242          37(6)    pp.1025~1064      2008.12         경영학  피인용횟수 : 20   \n",
       "37243          37(6)    pp.1025~1064      2008.12         경영학  피인용횟수 : 20   \n",
       "37244          37(6)    pp.1025~1064      2008.12         경영학  피인용횟수 : 20   \n",
       "37245          37(6)    pp.1025~1064      2008.12         경영학  피인용횟수 : 20   \n",
       "37246          37(6)    pp.1025~1064      2008.12         경영학  피인용횟수 : 20   \n",
       "\n",
       "         char_refer degree_refer                        journal_refer  \\\n",
       "37242        [기타자료]          NaN   Working paper, Harvard University,   \n",
       "37243  [학술지(정기간행물)]          NaN   Journal of Finance 59 : 479 ~ 506,   \n",
       "37244  [학술지(정기간행물)]          NaN    Financial Management 33 : 5 ~ 27,   \n",
       "37245  [학술지(정기간행물)]          NaN      St. John’s Review 44 : 66 ~ 80,   \n",
       "37246  [학술지(정기간행물)]          NaN  Journal of Finance 56 : 1667 ~ 1691   \n",
       "\n",
       "               name_refer                                        paper_refer  \\\n",
       "37242   Villalonga, Belen  Does Diversification Cause the “Diversificatio...   \n",
       "37243   Villalonga, Belen  Diversification discount or premium? New Evide...   \n",
       "37244   Villalonga, Belen  Does Diversification Cause the Diversification...   \n",
       "37245        Weston, J. F  The Nature and Significance of Conglomerate Firms   \n",
       "37246      Whited, Toni M  Is It Inefficient Investment That Causes the D...   \n",
       "\n",
       "      school_refer  year_refer  \n",
       "37242          NaN      1999.0  \n",
       "37243          NaN      2004.0  \n",
       "37244          NaN      2004.0  \n",
       "37245          NaN      1970.0  \n",
       "37246          NaN      2001.0  "
      ]
     },
     "execution_count": 2,
     "metadata": {},
     "output_type": "execute_result"
    }
   ],
   "source": [
    "df = pd.read_csv('new_tuned_references.csv')\n",
    "df.tail()"
   ]
  },
  {
   "cell_type": "code",
   "execution_count": 4,
   "metadata": {},
   "outputs": [
    {
     "data": {
      "text/plain": [
       "paper_name_infor      0.000000\n",
       "institution_infor     0.000000\n",
       "author_infor          0.000000\n",
       "journal_infor         0.000000\n",
       "dont_know_infor       0.000000\n",
       "page_infor            0.000000\n",
       "year_infor            0.000000\n",
       "field_infor           0.000000\n",
       "cited_infor           0.000000\n",
       "char_refer            0.649717\n",
       "degree_refer         99.747631\n",
       "journal_refer        18.761243\n",
       "name_refer           12.041238\n",
       "paper_refer           1.806857\n",
       "school_refer         99.747631\n",
       "year_refer            0.649717\n",
       "dtype: float64"
      ]
     },
     "execution_count": 4,
     "metadata": {},
     "output_type": "execute_result"
    }
   ],
   "source": [
    "100 * df.isnull().sum() / len(df)"
   ]
  },
  {
   "cell_type": "markdown",
   "metadata": {},
   "source": [
    "- 242 개는 cited paper 가 없는 citing paper 이다. \n",
    "- 아래의 Counter 는 242개의 citing paper 의 연도를 count 한 것이다."
   ]
  },
  {
   "cell_type": "code",
   "execution_count": 31,
   "metadata": {},
   "outputs": [
    {
     "data": {
      "text/plain": [
       "Counter({'2002': 73, '2003': 75, '2004': 19, '2006': 2, '2007': 5, '2018': 68})"
      ]
     },
     "execution_count": 31,
     "metadata": {},
     "output_type": "execute_result"
    }
   ],
   "source": [
    "Counter([str(i).split('.')[0] for i in df.loc[df[df['year_refer'].isnull()].index.tolist()]['year_infor'].values])"
   ]
  },
  {
   "cell_type": "code",
   "execution_count": 29,
   "metadata": {
    "scrolled": false
   },
   "outputs": [],
   "source": [
    "data = dict(Counter([str(i).split('.')[0] for i in df.loc[df[df['year_refer'].isnull()].index.tolist()]['year_infor'].values]))"
   ]
  },
  {
   "cell_type": "code",
   "execution_count": 32,
   "metadata": {},
   "outputs": [
    {
     "data": {
      "text/plain": [
       "<matplotlib.axes._subplots.AxesSubplot at 0x7f7e8f187e10>"
      ]
     },
     "execution_count": 32,
     "metadata": {},
     "output_type": "execute_result"
    },
    {
     "data": {
      "image/png": "[encoded data removed]",
      "text/plain": [
       "<matplotlib.figure.Figure at 0x7f7e8f12fda0>"
      ]
     },
     "metadata": {},
     "output_type": "display_data"
    }
   ],
   "source": [
    "pd.DataFrame.from_dict(data, orient='index').plot.bar()"
   ]
  },
  {
   "cell_type": "markdown",
   "metadata": {},
   "source": [
    "242 개의 citing paper 중 이들의 저널의 빈도수를 측정한다."
   ]
  },
  {
   "cell_type": "code",
   "execution_count": 33,
   "metadata": {},
   "outputs": [
    {
     "data": {
      "text/plain": [
       "Counter({' Asia-Pacific Journal of Financial Studies ': 53,\n",
       "         ' 선물연구 ': 42,\n",
       "         ' 재무관리연구 ': 57,\n",
       "         ' 재무연구 ': 63,\n",
       "         ' 한국증권학회지 ': 27})"
      ]
     },
     "execution_count": 33,
     "metadata": {},
     "output_type": "execute_result"
    }
   ],
   "source": [
    "Counter([str(i).split('.')[0] for i in df.loc[df[df['year_refer'].isnull()].index.tolist()]['journal_infor'].values])"
   ]
  },
  {
   "cell_type": "code",
   "execution_count": 34,
   "metadata": {
    "collapsed": true
   },
   "outputs": [],
   "source": [
    "data = dict(Counter([str(i).split('.')[0] for i in df.loc[df[df['year_refer'].isnull()].index.tolist()]['journal_infor'].values]))"
   ]
  },
  {
   "cell_type": "code",
   "execution_count": 35,
   "metadata": {},
   "outputs": [
    {
     "data": {
      "text/plain": [
       "<matplotlib.axes._subplots.AxesSubplot at 0x7f7e8f1855c0>"
      ]
     },
     "execution_count": 35,
     "metadata": {},
     "output_type": "execute_result"
    },
    {
     "data": {
      "image/png": "[encoded data removed]",
      "text/plain": [
       "<matplotlib.figure.Figure at 0x7f7e8f02d6d8>"
      ]
     },
     "metadata": {},
     "output_type": "display_data"
    }
   ],
   "source": [
    "pd.DataFrame.from_dict(data, orient='index').plot.bar()"
   ]
  }
 ],
 "metadata": {
  "kernelspec": {
   "display_name": "Python 3",
   "language": "python",
   "name": "python3"
  },
  "language_info": {
   "codemirror_mode": {
    "name": "ipython",
    "version": 3
   },
   "file_extension": ".py",
   "mimetype": "text/x-python",
   "name": "python",
   "nbconvert_exporter": "python",
   "pygments_lexer": "ipython3",
   "version": "3.6.3"
  }
 },
 "nbformat": 4,
 "nbformat_minor": 2
}
