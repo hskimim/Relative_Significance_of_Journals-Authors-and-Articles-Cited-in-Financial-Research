{
 "cells": [
  {
   "cell_type": "markdown",
   "metadata": {},
   "source": [
    "# 페이퍼의 이름에 저널이 포함되어 있는 경우를 다시 나눠주는 튜닝작업"
   ]
  },
  {
   "cell_type": "markdown",
   "metadata": {},
   "source": [
    "#### 튜닝 작업에는 기존에 저널 카테고리에 있던 저널 이름들을 일반화시켜주는 작업을 한 이후(journal_name_ls)에 이를 바탕으로 함"
   ]
  },
  {
   "cell_type": "code",
   "execution_count": 1,
   "metadata": {
    "collapsed": true
   },
   "outputs": [],
   "source": [
    "import pandas as pd\n",
    "from IPython.display import display\n",
    "import numpy as np\n",
    "import re\n",
    "from collections import Counter\n",
    "import nltk"
   ]
  },
  {
   "cell_type": "code",
   "execution_count": 2,
   "metadata": {
    "collapsed": true,
    "scrolled": false
   },
   "outputs": [],
   "source": [
    "df = pd.read_csv('tuned_dataframe.csv')"
   ]
  },
  {
   "cell_type": "code",
   "execution_count": 3,
   "metadata": {},
   "outputs": [
    {
     "data": {
      "text/html": [
       "<div>\n",
       "<style>\n",
       "    .dataframe thead tr:only-child th {\n",
       "        text-align: right;\n",
       "    }\n",
       "\n",
       "    .dataframe thead th {\n",
       "        text-align: left;\n",
       "    }\n",
       "\n",
       "    .dataframe tbody tr th {\n",
       "        vertical-align: top;\n",
       "    }\n",
       "</style>\n",
       "<table border=\"1\" class=\"dataframe\">\n",
       "  <thead>\n",
       "    <tr style=\"text-align: right;\">\n",
       "      <th></th>\n",
       "      <th>paper_name_infor</th>\n",
       "      <th>institution_infor</th>\n",
       "      <th>author_infor</th>\n",
       "      <th>journal_infor</th>\n",
       "      <th>dont_know_infor</th>\n",
       "      <th>page_infor</th>\n",
       "      <th>year_infor</th>\n",
       "      <th>field_infor</th>\n",
       "      <th>cited_infor</th>\n",
       "      <th>char_refer</th>\n",
       "      <th>degree_refer</th>\n",
       "      <th>journal_refer</th>\n",
       "      <th>name_refer</th>\n",
       "      <th>paper_refer</th>\n",
       "      <th>school_refer</th>\n",
       "      <th>year_refer</th>\n",
       "    </tr>\n",
       "  </thead>\n",
       "  <tbody>\n",
       "    <tr>\n",
       "      <th>37242</th>\n",
       "      <td>Corporate Diversification, Relatedness, and Fi...</td>\n",
       "      <td>한국증권학회</td>\n",
       "      <td>배성철 , 권택호 , 이장우</td>\n",
       "      <td>Asia-Pacific Journal of Financial Studies</td>\n",
       "      <td>37(6)</td>\n",
       "      <td>pp.1025~1064</td>\n",
       "      <td>2008.12</td>\n",
       "      <td>경영학</td>\n",
       "      <td>피인용횟수 : 20</td>\n",
       "      <td>[기타자료]</td>\n",
       "      <td>NaN</td>\n",
       "      <td>NaN</td>\n",
       "      <td>Villalonga, Belen</td>\n",
       "      <td>Does Diversification Cause the “Diversificatio...</td>\n",
       "      <td>NaN</td>\n",
       "      <td>1999.0</td>\n",
       "    </tr>\n",
       "    <tr>\n",
       "      <th>37243</th>\n",
       "      <td>Corporate Diversification, Relatedness, and Fi...</td>\n",
       "      <td>한국증권학회</td>\n",
       "      <td>배성철 , 권택호 , 이장우</td>\n",
       "      <td>Asia-Pacific Journal of Financial Studies</td>\n",
       "      <td>37(6)</td>\n",
       "      <td>pp.1025~1064</td>\n",
       "      <td>2008.12</td>\n",
       "      <td>경영학</td>\n",
       "      <td>피인용횟수 : 20</td>\n",
       "      <td>[학술지(정기간행물)]</td>\n",
       "      <td>NaN</td>\n",
       "      <td>Journal of Finance 59 : 479 ~ 506,</td>\n",
       "      <td>Villalonga, Belen</td>\n",
       "      <td>Diversification discount or premium? New Evide...</td>\n",
       "      <td>NaN</td>\n",
       "      <td>2004.0</td>\n",
       "    </tr>\n",
       "    <tr>\n",
       "      <th>37244</th>\n",
       "      <td>Corporate Diversification, Relatedness, and Fi...</td>\n",
       "      <td>한국증권학회</td>\n",
       "      <td>배성철 , 권택호 , 이장우</td>\n",
       "      <td>Asia-Pacific Journal of Financial Studies</td>\n",
       "      <td>37(6)</td>\n",
       "      <td>pp.1025~1064</td>\n",
       "      <td>2008.12</td>\n",
       "      <td>경영학</td>\n",
       "      <td>피인용횟수 : 20</td>\n",
       "      <td>[학술지(정기간행물)]</td>\n",
       "      <td>NaN</td>\n",
       "      <td>Financial Management 33 : 5 ~ 27,</td>\n",
       "      <td>Villalonga, Belen</td>\n",
       "      <td>Does Diversification Cause the Diversification...</td>\n",
       "      <td>NaN</td>\n",
       "      <td>2004.0</td>\n",
       "    </tr>\n",
       "    <tr>\n",
       "      <th>37245</th>\n",
       "      <td>Corporate Diversification, Relatedness, and Fi...</td>\n",
       "      <td>한국증권학회</td>\n",
       "      <td>배성철 , 권택호 , 이장우</td>\n",
       "      <td>Asia-Pacific Journal of Financial Studies</td>\n",
       "      <td>37(6)</td>\n",
       "      <td>pp.1025~1064</td>\n",
       "      <td>2008.12</td>\n",
       "      <td>경영학</td>\n",
       "      <td>피인용횟수 : 20</td>\n",
       "      <td>[학술지(정기간행물)]</td>\n",
       "      <td>NaN</td>\n",
       "      <td>St. John’s Review 44 : 66 ~ 80,</td>\n",
       "      <td>Weston, J. F</td>\n",
       "      <td>The Nature and Significance of Conglomerate Firms</td>\n",
       "      <td>NaN</td>\n",
       "      <td>1970.0</td>\n",
       "    </tr>\n",
       "    <tr>\n",
       "      <th>37246</th>\n",
       "      <td>Corporate Diversification, Relatedness, and Fi...</td>\n",
       "      <td>한국증권학회</td>\n",
       "      <td>배성철 , 권택호 , 이장우</td>\n",
       "      <td>Asia-Pacific Journal of Financial Studies</td>\n",
       "      <td>37(6)</td>\n",
       "      <td>pp.1025~1064</td>\n",
       "      <td>2008.12</td>\n",
       "      <td>경영학</td>\n",
       "      <td>피인용횟수 : 20</td>\n",
       "      <td>[학술지(정기간행물)]</td>\n",
       "      <td>NaN</td>\n",
       "      <td>Journal of Finance 56 : 1667 ~ 1691</td>\n",
       "      <td>Whited, Toni M</td>\n",
       "      <td>Is It Inefficient Investment That Causes the D...</td>\n",
       "      <td>NaN</td>\n",
       "      <td>2001.0</td>\n",
       "    </tr>\n",
       "  </tbody>\n",
       "</table>\n",
       "</div>"
      ],
      "text/plain": [
       "                                        paper_name_infor institution_infor  \\\n",
       "37242  Corporate Diversification, Relatedness, and Fi...           한국증권학회    \n",
       "37243  Corporate Diversification, Relatedness, and Fi...           한국증권학회    \n",
       "37244  Corporate Diversification, Relatedness, and Fi...           한국증권학회    \n",
       "37245  Corporate Diversification, Relatedness, and Fi...           한국증권학회    \n",
       "37246  Corporate Diversification, Relatedness, and Fi...           한국증권학회    \n",
       "\n",
       "           author_infor                                journal_infor  \\\n",
       "37242  배성철 , 권택호 , 이장우    Asia-Pacific Journal of Financial Studies    \n",
       "37243  배성철 , 권택호 , 이장우    Asia-Pacific Journal of Financial Studies    \n",
       "37244  배성철 , 권택호 , 이장우    Asia-Pacific Journal of Financial Studies    \n",
       "37245  배성철 , 권택호 , 이장우    Asia-Pacific Journal of Financial Studies    \n",
       "37246  배성철 , 권택호 , 이장우    Asia-Pacific Journal of Financial Studies    \n",
       "\n",
       "      dont_know_infor      page_infor  year_infor field_infor cited_infor  \\\n",
       "37242          37(6)    pp.1025~1064      2008.12         경영학  피인용횟수 : 20   \n",
       "37243          37(6)    pp.1025~1064      2008.12         경영학  피인용횟수 : 20   \n",
       "37244          37(6)    pp.1025~1064      2008.12         경영학  피인용횟수 : 20   \n",
       "37245          37(6)    pp.1025~1064      2008.12         경영학  피인용횟수 : 20   \n",
       "37246          37(6)    pp.1025~1064      2008.12         경영학  피인용횟수 : 20   \n",
       "\n",
       "         char_refer degree_refer                        journal_refer  \\\n",
       "37242        [기타자료]          NaN                                  NaN   \n",
       "37243  [학술지(정기간행물)]          NaN   Journal of Finance 59 : 479 ~ 506,   \n",
       "37244  [학술지(정기간행물)]          NaN    Financial Management 33 : 5 ~ 27,   \n",
       "37245  [학술지(정기간행물)]          NaN      St. John’s Review 44 : 66 ~ 80,   \n",
       "37246  [학술지(정기간행물)]          NaN  Journal of Finance 56 : 1667 ~ 1691   \n",
       "\n",
       "               name_refer                                        paper_refer  \\\n",
       "37242   Villalonga, Belen  Does Diversification Cause the “Diversificatio...   \n",
       "37243   Villalonga, Belen  Diversification discount or premium? New Evide...   \n",
       "37244   Villalonga, Belen  Does Diversification Cause the Diversification...   \n",
       "37245        Weston, J. F  The Nature and Significance of Conglomerate Firms   \n",
       "37246      Whited, Toni M  Is It Inefficient Investment That Causes the D...   \n",
       "\n",
       "      school_refer  year_refer  \n",
       "37242          NaN      1999.0  \n",
       "37243          NaN      2004.0  \n",
       "37244          NaN      2004.0  \n",
       "37245          NaN      1970.0  \n",
       "37246          NaN      2001.0  "
      ]
     },
     "execution_count": 3,
     "metadata": {},
     "output_type": "execute_result"
    }
   ],
   "source": [
    "df.tail()"
   ]
  },
  {
   "cell_type": "code",
   "execution_count": 4,
   "metadata": {},
   "outputs": [
    {
     "data": {
      "text/plain": [
       "paper_name_infor      0.000000\n",
       "institution_infor     0.000000\n",
       "author_infor          0.000000\n",
       "journal_infor         0.000000\n",
       "dont_know_infor       0.000000\n",
       "page_infor            0.000000\n",
       "year_infor            0.000000\n",
       "field_infor           0.000000\n",
       "cited_infor           0.000000\n",
       "char_refer            0.649717\n",
       "degree_refer         99.747631\n",
       "journal_refer        22.570945\n",
       "name_refer           12.041238\n",
       "paper_refer           0.649717\n",
       "school_refer         99.747631\n",
       "year_refer            0.649717\n",
       "dtype: float64"
      ]
     },
     "execution_count": 4,
     "metadata": {},
     "output_type": "execute_result"
    }
   ],
   "source": [
    "100 * df.isnull().sum() / len(df)"
   ]
  },
  {
   "cell_type": "markdown",
   "metadata": {},
   "source": [
    "# 일단 제목에 Journal 이 있으면 split 해준다."
   ]
  },
  {
   "cell_type": "code",
   "execution_count": 5,
   "metadata": {},
   "outputs": [
    {
     "name": "stderr",
     "output_type": "stream",
     "text": [
      "/home/hskimim/anaconda3/lib/python3.6/site-packages/ipykernel_launcher.py:4: SettingWithCopyWarning: \n",
      "A value is trying to be set on a copy of a slice from a DataFrame\n",
      "\n",
      "See the caveats in the documentation: http://pandas.pydata.org/pandas-docs/stable/indexing.html#indexing-view-versus-copy\n",
      "  after removing the cwd from sys.path.\n",
      "/home/hskimim/anaconda3/lib/python3.6/site-packages/ipykernel_launcher.py:5: SettingWithCopyWarning: \n",
      "A value is trying to be set on a copy of a slice from a DataFrame\n",
      "\n",
      "See the caveats in the documentation: http://pandas.pydata.org/pandas-docs/stable/indexing.html#indexing-view-versus-copy\n",
      "  \"\"\"\n"
     ]
    },
    {
     "name": "stdout",
     "output_type": "stream",
     "text": [
      "CPU times: user 1min 54s, sys: 33 ms, total: 1min 54s\n",
      "Wall time: 1min 54s\n"
     ]
    }
   ],
   "source": [
    "%%time\n",
    "for idx,val in enumerate(df['paper_refer']) : \n",
    "    if df['paper_refer'].notnull()[idx]:\n",
    "        if 'Journal' in val : \n",
    "            df['journal_refer'][idx] = val[re.search('Journal',val).start():]\n",
    "            df['paper_refer'][idx] = val[:re.search('Journal',val).start()]"
   ]
  },
  {
   "cell_type": "code",
   "execution_count": 6,
   "metadata": {},
   "outputs": [
    {
     "data": {
      "text/plain": [
       "[]"
      ]
     },
     "execution_count": 6,
     "metadata": {},
     "output_type": "execute_result"
    }
   ],
   "source": [
    "[i for i in list(set(df['paper_refer']))[2:] if 'Journal' in i]"
   ]
  },
  {
   "cell_type": "markdown",
   "metadata": {},
   "source": [
    "저널 컬럼의 결측치 값이 2퍼센트정도 줄었다."
   ]
  },
  {
   "cell_type": "code",
   "execution_count": 7,
   "metadata": {
    "scrolled": true
   },
   "outputs": [
    {
     "data": {
      "text/plain": [
       "paper_name_infor      0.000000\n",
       "institution_infor     0.000000\n",
       "author_infor          0.000000\n",
       "journal_infor         0.000000\n",
       "dont_know_infor       0.000000\n",
       "page_infor            0.000000\n",
       "year_infor            0.000000\n",
       "field_infor           0.000000\n",
       "cited_infor           0.000000\n",
       "char_refer            0.649717\n",
       "degree_refer         99.747631\n",
       "journal_refer        20.017720\n",
       "name_refer           12.041238\n",
       "paper_refer           0.649717\n",
       "school_refer         99.747631\n",
       "year_refer            0.649717\n",
       "dtype: float64"
      ]
     },
     "execution_count": 7,
     "metadata": {},
     "output_type": "execute_result"
    }
   ],
   "source": [
    "100 * df.isnull().sum() / len(df)"
   ]
  },
  {
   "cell_type": "markdown",
   "metadata": {},
   "source": [
    "# 다른 저널명들은 기존의 저널 컬럼에서 데이터를 가지고 와 이를 기반으로 찾아준다."
   ]
  },
  {
   "cell_type": "code",
   "execution_count": 8,
   "metadata": {
    "collapsed": true
   },
   "outputs": [],
   "source": [
    "journal_name_ls = list(pd.read_csv('journal_name_ls.csv')['0'].values)"
   ]
  },
  {
   "cell_type": "code",
   "execution_count": 13,
   "metadata": {},
   "outputs": [],
   "source": [
    "journal_name_ls.append('working paper')"
   ]
  },
  {
   "cell_type": "code",
   "execution_count": 14,
   "metadata": {
    "collapsed": true
   },
   "outputs": [],
   "source": [
    "for idx,val in enumerate(journal_name_ls) : \n",
    "    if val[-1] == ' ':\n",
    "        journal_name_ls[idx] = val[:-1]"
   ]
  },
  {
   "cell_type": "code",
   "execution_count": 15,
   "metadata": {
    "collapsed": true
   },
   "outputs": [],
   "source": [
    "journal_name_ls = list(set(journal_name_ls))"
   ]
  },
  {
   "cell_type": "code",
   "execution_count": 16,
   "metadata": {
    "scrolled": true
   },
   "outputs": [
    {
     "data": {
      "text/plain": [
       "['경제학연구',\n",
       " 'Experimental Economics',\n",
       " 'Journal ofMultinational Financial Management',\n",
       " 'Financial Markets Institutions & Instruments',\n",
       " 'Annals of Economics and Finance']"
      ]
     },
     "execution_count": 16,
     "metadata": {},
     "output_type": "execute_result"
    }
   ],
   "source": [
    "journal_name_ls[:5]"
   ]
  },
  {
   "cell_type": "code",
   "execution_count": 17,
   "metadata": {
    "collapsed": true
   },
   "outputs": [],
   "source": [
    "journal_name_ls = [i for i in journal_name_ls if len(i) >2]"
   ]
  },
  {
   "cell_type": "code",
   "execution_count": 18,
   "metadata": {
    "collapsed": true
   },
   "outputs": [],
   "source": [
    "split_ls = []\n",
    "for idx,val in enumerate(df['paper_refer']):\n",
    "    if df['paper_refer'].notnull()[idx]:\n",
    "        for j in journal_name_ls:\n",
    "            if j in val:\n",
    "                split_ls.append((idx,j))\n",
    "                break\n",
    "            "
   ]
  },
  {
   "cell_type": "code",
   "execution_count": 19,
   "metadata": {},
   "outputs": [
    {
     "data": {
      "text/plain": [
       "[(5, 'Jan'), (6, 'Infor'), (12, 'Risk'), (13, 'Risk'), (16, 'Risk')]"
      ]
     },
     "execution_count": 19,
     "metadata": {},
     "output_type": "execute_result"
    }
   ],
   "source": [
    "split_ls[:5]"
   ]
  },
  {
   "cell_type": "markdown",
   "metadata": {},
   "source": [
    "- 살펴본 결과, 한글일 경우 유의미할 가능성이 높았고, 영어일 경우 Infor , Focus와 같은 단어들은 좋지 않은 Threshold 일 가능성이 높았다.\n",
    "- 이에 따라서, split_ls 에서 한글은 무조건적으로 집어넣고, 영어인 경우 길이가 10 를 넘어서는 것들만 취합하였다.\n",
    "- 10으로 숫자를 크게 잡은 이유는 아닌 것을 맞다라고 하는 Type2 error 를 방지하는 것이 우선이라고 생각했기 때문이다."
   ]
  },
  {
   "cell_type": "code",
   "execution_count": 20,
   "metadata": {},
   "outputs": [
    {
     "data": {
      "text/plain": [
       "[(22, 'Working Paper'),\n",
       " (33, 'Corporate Governance'),\n",
       " (89, 'Brookings-Wharton Papers on Financial Services'),\n",
       " (100, 'Federal Reserve Bank of Chicago'),\n",
       " (193, 'Economic Theory')]"
      ]
     },
     "execution_count": 20,
     "metadata": {},
     "output_type": "execute_result"
    }
   ],
   "source": [
    "new_split_ls = [split_ls[i] for i in range(len(split_ls)) if (len(split_ls[i][1]) > 10) or  (re.findall('[가-힣]',split_ls[i][1]))]\n",
    "new_split_ls[:5]"
   ]
  },
  {
   "cell_type": "code",
   "execution_count": 21,
   "metadata": {
    "scrolled": true
   },
   "outputs": [
    {
     "name": "stderr",
     "output_type": "stream",
     "text": [
      "/home/hskimim/anaconda3/lib/python3.6/site-packages/ipykernel_launcher.py:5: SettingWithCopyWarning: \n",
      "A value is trying to be set on a copy of a slice from a DataFrame\n",
      "\n",
      "See the caveats in the documentation: http://pandas.pydata.org/pandas-docs/stable/indexing.html#indexing-view-versus-copy\n",
      "  \"\"\"\n",
      "/home/hskimim/anaconda3/lib/python3.6/site-packages/ipykernel_launcher.py:6: SettingWithCopyWarning: \n",
      "A value is trying to be set on a copy of a slice from a DataFrame\n",
      "\n",
      "See the caveats in the documentation: http://pandas.pydata.org/pandas-docs/stable/indexing.html#indexing-view-versus-copy\n",
      "  \n"
     ]
    },
    {
     "name": "stdout",
     "output_type": "stream",
     "text": [
      "CPU times: user 1min 18s, sys: 3.68 ms, total: 1min 18s\n",
      "Wall time: 1min 18s\n"
     ]
    }
   ],
   "source": [
    "%%time\n",
    "for idx,val in enumerate(df['paper_refer']) : \n",
    "    if idx in [i[0] for i in new_split_ls] :\n",
    "        try : \n",
    "            loc = [i[0] for i in new_split_ls].index(idx)\n",
    "            df['journal_refer'][idx] = val[re.search(new_split_ls[loc][1],df['paper_refer'][idx]).start() : ]\n",
    "            df['paper_refer'][idx] = val[ : re.search(new_split_ls[loc][1],df['paper_refer'][idx]).start() ]\n",
    "        except : print(idx,loc)"
   ]
  },
  {
   "cell_type": "code",
   "execution_count": 22,
   "metadata": {
    "scrolled": true
   },
   "outputs": [
    {
     "data": {
      "text/plain": [
       "paper_name_infor      0.000000\n",
       "institution_infor     0.000000\n",
       "author_infor          0.000000\n",
       "journal_infor         0.000000\n",
       "dont_know_infor       0.000000\n",
       "page_infor            0.000000\n",
       "year_infor            0.000000\n",
       "field_infor           0.000000\n",
       "cited_infor           0.000000\n",
       "char_refer            0.649717\n",
       "degree_refer         99.747631\n",
       "journal_refer        18.731710\n",
       "name_refer           12.041238\n",
       "paper_refer           0.649717\n",
       "school_refer         99.747631\n",
       "year_refer            0.649717\n",
       "dtype: float64"
      ]
     },
     "execution_count": 22,
     "metadata": {},
     "output_type": "execute_result"
    }
   ],
   "source": [
    "100 * df.isnull().sum() / len(df)"
   ]
  },
  {
   "cell_type": "markdown",
   "metadata": {},
   "source": [
    "- journal refer 에 대한 결측치를 22.57 -> 20.01 -> 18.8 퍼센트로 줄였다."
   ]
  },
  {
   "cell_type": "code",
   "execution_count": 23,
   "metadata": {},
   "outputs": [
    {
     "data": {
      "text/html": [
       "<div>\n",
       "<style>\n",
       "    .dataframe thead tr:only-child th {\n",
       "        text-align: right;\n",
       "    }\n",
       "\n",
       "    .dataframe thead th {\n",
       "        text-align: left;\n",
       "    }\n",
       "\n",
       "    .dataframe tbody tr th {\n",
       "        vertical-align: top;\n",
       "    }\n",
       "</style>\n",
       "<table border=\"1\" class=\"dataframe\">\n",
       "  <thead>\n",
       "    <tr style=\"text-align: right;\">\n",
       "      <th></th>\n",
       "      <th>paper_name_infor</th>\n",
       "      <th>institution_infor</th>\n",
       "      <th>author_infor</th>\n",
       "      <th>journal_infor</th>\n",
       "      <th>dont_know_infor</th>\n",
       "      <th>page_infor</th>\n",
       "      <th>year_infor</th>\n",
       "      <th>field_infor</th>\n",
       "      <th>cited_infor</th>\n",
       "      <th>char_refer</th>\n",
       "      <th>degree_refer</th>\n",
       "      <th>journal_refer</th>\n",
       "      <th>name_refer</th>\n",
       "      <th>paper_refer</th>\n",
       "      <th>school_refer</th>\n",
       "      <th>year_refer</th>\n",
       "    </tr>\n",
       "  </thead>\n",
       "  <tbody>\n",
       "    <tr>\n",
       "      <th>37242</th>\n",
       "      <td>Corporate Diversification, Relatedness, and Fi...</td>\n",
       "      <td>한국증권학회</td>\n",
       "      <td>배성철 , 권택호 , 이장우</td>\n",
       "      <td>Asia-Pacific Journal of Financial Studies</td>\n",
       "      <td>37(6)</td>\n",
       "      <td>pp.1025~1064</td>\n",
       "      <td>2008.12</td>\n",
       "      <td>경영학</td>\n",
       "      <td>피인용횟수 : 20</td>\n",
       "      <td>[기타자료]</td>\n",
       "      <td>NaN</td>\n",
       "      <td>Working paper, Harvard University,</td>\n",
       "      <td>Villalonga, Belen</td>\n",
       "      <td>Does Diversification Cause the “Diversificatio...</td>\n",
       "      <td>NaN</td>\n",
       "      <td>1999.0</td>\n",
       "    </tr>\n",
       "    <tr>\n",
       "      <th>37243</th>\n",
       "      <td>Corporate Diversification, Relatedness, and Fi...</td>\n",
       "      <td>한국증권학회</td>\n",
       "      <td>배성철 , 권택호 , 이장우</td>\n",
       "      <td>Asia-Pacific Journal of Financial Studies</td>\n",
       "      <td>37(6)</td>\n",
       "      <td>pp.1025~1064</td>\n",
       "      <td>2008.12</td>\n",
       "      <td>경영학</td>\n",
       "      <td>피인용횟수 : 20</td>\n",
       "      <td>[학술지(정기간행물)]</td>\n",
       "      <td>NaN</td>\n",
       "      <td>Journal of Finance 59 : 479 ~ 506,</td>\n",
       "      <td>Villalonga, Belen</td>\n",
       "      <td>Diversification discount or premium? New Evide...</td>\n",
       "      <td>NaN</td>\n",
       "      <td>2004.0</td>\n",
       "    </tr>\n",
       "    <tr>\n",
       "      <th>37244</th>\n",
       "      <td>Corporate Diversification, Relatedness, and Fi...</td>\n",
       "      <td>한국증권학회</td>\n",
       "      <td>배성철 , 권택호 , 이장우</td>\n",
       "      <td>Asia-Pacific Journal of Financial Studies</td>\n",
       "      <td>37(6)</td>\n",
       "      <td>pp.1025~1064</td>\n",
       "      <td>2008.12</td>\n",
       "      <td>경영학</td>\n",
       "      <td>피인용횟수 : 20</td>\n",
       "      <td>[학술지(정기간행물)]</td>\n",
       "      <td>NaN</td>\n",
       "      <td>Financial Management 33 : 5 ~ 27,</td>\n",
       "      <td>Villalonga, Belen</td>\n",
       "      <td>Does Diversification Cause the Diversification...</td>\n",
       "      <td>NaN</td>\n",
       "      <td>2004.0</td>\n",
       "    </tr>\n",
       "    <tr>\n",
       "      <th>37245</th>\n",
       "      <td>Corporate Diversification, Relatedness, and Fi...</td>\n",
       "      <td>한국증권학회</td>\n",
       "      <td>배성철 , 권택호 , 이장우</td>\n",
       "      <td>Asia-Pacific Journal of Financial Studies</td>\n",
       "      <td>37(6)</td>\n",
       "      <td>pp.1025~1064</td>\n",
       "      <td>2008.12</td>\n",
       "      <td>경영학</td>\n",
       "      <td>피인용횟수 : 20</td>\n",
       "      <td>[학술지(정기간행물)]</td>\n",
       "      <td>NaN</td>\n",
       "      <td>St. John’s Review 44 : 66 ~ 80,</td>\n",
       "      <td>Weston, J. F</td>\n",
       "      <td>The Nature and Significance of Conglomerate Firms</td>\n",
       "      <td>NaN</td>\n",
       "      <td>1970.0</td>\n",
       "    </tr>\n",
       "    <tr>\n",
       "      <th>37246</th>\n",
       "      <td>Corporate Diversification, Relatedness, and Fi...</td>\n",
       "      <td>한국증권학회</td>\n",
       "      <td>배성철 , 권택호 , 이장우</td>\n",
       "      <td>Asia-Pacific Journal of Financial Studies</td>\n",
       "      <td>37(6)</td>\n",
       "      <td>pp.1025~1064</td>\n",
       "      <td>2008.12</td>\n",
       "      <td>경영학</td>\n",
       "      <td>피인용횟수 : 20</td>\n",
       "      <td>[학술지(정기간행물)]</td>\n",
       "      <td>NaN</td>\n",
       "      <td>Journal of Finance 56 : 1667 ~ 1691</td>\n",
       "      <td>Whited, Toni M</td>\n",
       "      <td>Is It Inefficient Investment That Causes the D...</td>\n",
       "      <td>NaN</td>\n",
       "      <td>2001.0</td>\n",
       "    </tr>\n",
       "  </tbody>\n",
       "</table>\n",
       "</div>"
      ],
      "text/plain": [
       "                                        paper_name_infor institution_infor  \\\n",
       "37242  Corporate Diversification, Relatedness, and Fi...           한국증권학회    \n",
       "37243  Corporate Diversification, Relatedness, and Fi...           한국증권학회    \n",
       "37244  Corporate Diversification, Relatedness, and Fi...           한국증권학회    \n",
       "37245  Corporate Diversification, Relatedness, and Fi...           한국증권학회    \n",
       "37246  Corporate Diversification, Relatedness, and Fi...           한국증권학회    \n",
       "\n",
       "           author_infor                                journal_infor  \\\n",
       "37242  배성철 , 권택호 , 이장우    Asia-Pacific Journal of Financial Studies    \n",
       "37243  배성철 , 권택호 , 이장우    Asia-Pacific Journal of Financial Studies    \n",
       "37244  배성철 , 권택호 , 이장우    Asia-Pacific Journal of Financial Studies    \n",
       "37245  배성철 , 권택호 , 이장우    Asia-Pacific Journal of Financial Studies    \n",
       "37246  배성철 , 권택호 , 이장우    Asia-Pacific Journal of Financial Studies    \n",
       "\n",
       "      dont_know_infor      page_infor  year_infor field_infor cited_infor  \\\n",
       "37242          37(6)    pp.1025~1064      2008.12         경영학  피인용횟수 : 20   \n",
       "37243          37(6)    pp.1025~1064      2008.12         경영학  피인용횟수 : 20   \n",
       "37244          37(6)    pp.1025~1064      2008.12         경영학  피인용횟수 : 20   \n",
       "37245          37(6)    pp.1025~1064      2008.12         경영학  피인용횟수 : 20   \n",
       "37246          37(6)    pp.1025~1064      2008.12         경영학  피인용횟수 : 20   \n",
       "\n",
       "         char_refer degree_refer                        journal_refer  \\\n",
       "37242        [기타자료]          NaN   Working paper, Harvard University,   \n",
       "37243  [학술지(정기간행물)]          NaN   Journal of Finance 59 : 479 ~ 506,   \n",
       "37244  [학술지(정기간행물)]          NaN    Financial Management 33 : 5 ~ 27,   \n",
       "37245  [학술지(정기간행물)]          NaN      St. John’s Review 44 : 66 ~ 80,   \n",
       "37246  [학술지(정기간행물)]          NaN  Journal of Finance 56 : 1667 ~ 1691   \n",
       "\n",
       "               name_refer                                        paper_refer  \\\n",
       "37242   Villalonga, Belen  Does Diversification Cause the “Diversificatio...   \n",
       "37243   Villalonga, Belen  Diversification discount or premium? New Evide...   \n",
       "37244   Villalonga, Belen  Does Diversification Cause the Diversification...   \n",
       "37245        Weston, J. F  The Nature and Significance of Conglomerate Firms   \n",
       "37246      Whited, Toni M  Is It Inefficient Investment That Causes the D...   \n",
       "\n",
       "      school_refer  year_refer  \n",
       "37242          NaN      1999.0  \n",
       "37243          NaN      2004.0  \n",
       "37244          NaN      2004.0  \n",
       "37245          NaN      1970.0  \n",
       "37246          NaN      2001.0  "
      ]
     },
     "execution_count": 23,
     "metadata": {},
     "output_type": "execute_result"
    }
   ],
   "source": [
    "df.tail()"
   ]
  },
  {
   "cell_type": "code",
   "execution_count": 26,
   "metadata": {
    "collapsed": true
   },
   "outputs": [],
   "source": [
    "df.to_csv('new_tuned_references.csv',index=False,na_rep='NA')"
   ]
  }
 ],
 "metadata": {
  "kernelspec": {
   "display_name": "Python 3",
   "language": "python",
   "name": "python3"
  },
  "language_info": {
   "codemirror_mode": {
    "name": "ipython",
    "version": 3
   },
   "file_extension": ".py",
   "mimetype": "text/x-python",
   "name": "python",
   "nbconvert_exporter": "python",
   "pygments_lexer": "ipython3",
   "version": "3.6.3"
  }
 },
 "nbformat": 4,
 "nbformat_minor": 2
}
