{
 "cells": [
  {
   "cell_type": "markdown",
   "metadata": {},
   "source": [
    "# 크롤링을 통해 받아온 데이터를 1차적으로 튜닝한 프로세스"
   ]
  },
  {
   "cell_type": "code",
   "execution_count": 659,
   "metadata": {
    "collapsed": true
   },
   "outputs": [],
   "source": [
    "import numpy as np\n",
    "import pandas as pd\n",
    "from IPython.display import display\n",
    "import re"
   ]
  },
  {
   "cell_type": "code",
   "execution_count": 660,
   "metadata": {
    "collapsed": true,
    "scrolled": true
   },
   "outputs": [],
   "source": [
    "df = pd.read_csv('references.csv')"
   ]
  },
  {
   "cell_type": "code",
   "execution_count": 661,
   "metadata": {
    "collapsed": true
   },
   "outputs": [],
   "source": [
    "new_df = pd.read_csv('extended_references.csv')"
   ]
  },
  {
   "cell_type": "code",
   "execution_count": 662,
   "metadata": {
    "collapsed": true
   },
   "outputs": [],
   "source": [
    "only_infor_tuned_df = pd.read_csv('tuned_dataframe_infor.csv')"
   ]
  },
  {
   "cell_type": "markdown",
   "metadata": {},
   "source": [
    "# 기존에 시행했던 데이터 프레임의 튜닝 방식이 혼재되어 있다고 판단"
   ]
  },
  {
   "cell_type": "markdown",
   "metadata": {},
   "source": [
    "# 길이에 따라서 (1,3,4,5) 분류하고, 논문의 특성에 따라서 재 분류하여"
   ]
  },
  {
   "cell_type": "markdown",
   "metadata": {},
   "source": [
    "# 해당 논문이 갖춰야 할 정보들을 충족하는 논문 즉, 딕셔너리에 쓰일 Cited paper 를 "
   ]
  },
  {
   "cell_type": "markdown",
   "metadata": {},
   "source": [
    "# 보다 효율적으로 찾아내는 프로세스를 진행한다."
   ]
  },
  {
   "cell_type": "code",
   "execution_count": 663,
   "metadata": {
    "scrolled": true
   },
   "outputs": [
    {
     "data": {
      "text/html": [
       "<div>\n",
       "<style>\n",
       "    .dataframe thead tr:only-child th {\n",
       "        text-align: right;\n",
       "    }\n",
       "\n",
       "    .dataframe thead th {\n",
       "        text-align: left;\n",
       "    }\n",
       "\n",
       "    .dataframe tbody tr th {\n",
       "        vertical-align: top;\n",
       "    }\n",
       "</style>\n",
       "<table border=\"1\" class=\"dataframe\">\n",
       "  <thead>\n",
       "    <tr style=\"text-align: right;\">\n",
       "      <th></th>\n",
       "      <th>infor</th>\n",
       "      <th>refer</th>\n",
       "    </tr>\n",
       "  </thead>\n",
       "  <tbody>\n",
       "    <tr>\n",
       "      <th>37242</th>\n",
       "      <td>Corporate Diversification, Relatedness, and Fi...</td>\n",
       "      <td>40. [기타자료] - Villalonga, Belen / 1999 / Does D...</td>\n",
       "    </tr>\n",
       "    <tr>\n",
       "      <th>37243</th>\n",
       "      <td>Corporate Diversification, Relatedness, and Fi...</td>\n",
       "      <td>41. [학술지(정기간행물)] - Villalonga, Belen / 2004 / ...</td>\n",
       "    </tr>\n",
       "    <tr>\n",
       "      <th>37244</th>\n",
       "      <td>Corporate Diversification, Relatedness, and Fi...</td>\n",
       "      <td>42. [학술지(정기간행물)] - Villalonga, Belen / 2004 / ...</td>\n",
       "    </tr>\n",
       "    <tr>\n",
       "      <th>37245</th>\n",
       "      <td>Corporate Diversification, Relatedness, and Fi...</td>\n",
       "      <td>43. [학술지(정기간행물)] - Weston, J. F / 1970 / The N...</td>\n",
       "    </tr>\n",
       "    <tr>\n",
       "      <th>37246</th>\n",
       "      <td>Corporate Diversification, Relatedness, and Fi...</td>\n",
       "      <td>44. [학술지(정기간행물)] - Whited, Toni M / 2001 / Is ...</td>\n",
       "    </tr>\n",
       "  </tbody>\n",
       "</table>\n",
       "</div>"
      ],
      "text/plain": [
       "                                                   infor  \\\n",
       "37242  Corporate Diversification, Relatedness, and Fi...   \n",
       "37243  Corporate Diversification, Relatedness, and Fi...   \n",
       "37244  Corporate Diversification, Relatedness, and Fi...   \n",
       "37245  Corporate Diversification, Relatedness, and Fi...   \n",
       "37246  Corporate Diversification, Relatedness, and Fi...   \n",
       "\n",
       "                                                   refer  \n",
       "37242  40. [기타자료] - Villalonga, Belen / 1999 / Does D...  \n",
       "37243  41. [학술지(정기간행물)] - Villalonga, Belen / 2004 / ...  \n",
       "37244  42. [학술지(정기간행물)] - Villalonga, Belen / 2004 / ...  \n",
       "37245  43. [학술지(정기간행물)] - Weston, J. F / 1970 / The N...  \n",
       "37246  44. [학술지(정기간행물)] - Whited, Toni M / 2001 / Is ...  "
      ]
     },
     "execution_count": 663,
     "metadata": {},
     "output_type": "execute_result"
    }
   ],
   "source": [
    "new_df.tail()"
   ]
  },
  {
   "cell_type": "markdown",
   "metadata": {},
   "source": [
    "/ 자르면 일단 어느정도는 잘린다."
   ]
  },
  {
   "cell_type": "code",
   "execution_count": 664,
   "metadata": {
    "scrolled": true
   },
   "outputs": [
    {
     "data": {
      "text/plain": [
       "True"
      ]
     },
     "execution_count": 664,
     "metadata": {},
     "output_type": "execute_result"
    }
   ],
   "source": [
    "new_refer_ls = []\n",
    "\n",
    "for idx in range(len(new_df['refer'].values)):\n",
    "    new_refer_ls.append(new_df['refer'].values[idx].split(' / '))\n",
    "len(new_refer_ls) == len(new_df)"
   ]
  },
  {
   "cell_type": "code",
   "execution_count": 665,
   "metadata": {},
   "outputs": [
    {
     "data": {
      "text/html": [
       "<div>\n",
       "<style>\n",
       "    .dataframe thead tr:only-child th {\n",
       "        text-align: right;\n",
       "    }\n",
       "\n",
       "    .dataframe thead th {\n",
       "        text-align: left;\n",
       "    }\n",
       "\n",
       "    .dataframe tbody tr th {\n",
       "        vertical-align: top;\n",
       "    }\n",
       "</style>\n",
       "<table border=\"1\" class=\"dataframe\">\n",
       "  <thead>\n",
       "    <tr style=\"text-align: right;\">\n",
       "      <th></th>\n",
       "      <th>infor</th>\n",
       "      <th>refer</th>\n",
       "      <th>tuned_refer</th>\n",
       "    </tr>\n",
       "  </thead>\n",
       "  <tbody>\n",
       "    <tr>\n",
       "      <th>37242</th>\n",
       "      <td>Corporate Diversification, Relatedness, and Fi...</td>\n",
       "      <td>40. [기타자료] - Villalonga, Belen / 1999 / Does D...</td>\n",
       "      <td>[40. [기타자료] - Villalonga, Belen, 1999, Does Di...</td>\n",
       "    </tr>\n",
       "    <tr>\n",
       "      <th>37243</th>\n",
       "      <td>Corporate Diversification, Relatedness, and Fi...</td>\n",
       "      <td>41. [학술지(정기간행물)] - Villalonga, Belen / 2004 / ...</td>\n",
       "      <td>[41. [학술지(정기간행물)] - Villalonga, Belen, 2004, D...</td>\n",
       "    </tr>\n",
       "    <tr>\n",
       "      <th>37244</th>\n",
       "      <td>Corporate Diversification, Relatedness, and Fi...</td>\n",
       "      <td>42. [학술지(정기간행물)] - Villalonga, Belen / 2004 / ...</td>\n",
       "      <td>[42. [학술지(정기간행물)] - Villalonga, Belen, 2004, D...</td>\n",
       "    </tr>\n",
       "    <tr>\n",
       "      <th>37245</th>\n",
       "      <td>Corporate Diversification, Relatedness, and Fi...</td>\n",
       "      <td>43. [학술지(정기간행물)] - Weston, J. F / 1970 / The N...</td>\n",
       "      <td>[43. [학술지(정기간행물)] - Weston, J. F, 1970, The Na...</td>\n",
       "    </tr>\n",
       "    <tr>\n",
       "      <th>37246</th>\n",
       "      <td>Corporate Diversification, Relatedness, and Fi...</td>\n",
       "      <td>44. [학술지(정기간행물)] - Whited, Toni M / 2001 / Is ...</td>\n",
       "      <td>[44. [학술지(정기간행물)] - Whited, Toni M, 2001, Is I...</td>\n",
       "    </tr>\n",
       "  </tbody>\n",
       "</table>\n",
       "</div>"
      ],
      "text/plain": [
       "                                                   infor  \\\n",
       "37242  Corporate Diversification, Relatedness, and Fi...   \n",
       "37243  Corporate Diversification, Relatedness, and Fi...   \n",
       "37244  Corporate Diversification, Relatedness, and Fi...   \n",
       "37245  Corporate Diversification, Relatedness, and Fi...   \n",
       "37246  Corporate Diversification, Relatedness, and Fi...   \n",
       "\n",
       "                                                   refer  \\\n",
       "37242  40. [기타자료] - Villalonga, Belen / 1999 / Does D...   \n",
       "37243  41. [학술지(정기간행물)] - Villalonga, Belen / 2004 / ...   \n",
       "37244  42. [학술지(정기간행물)] - Villalonga, Belen / 2004 / ...   \n",
       "37245  43. [학술지(정기간행물)] - Weston, J. F / 1970 / The N...   \n",
       "37246  44. [학술지(정기간행물)] - Whited, Toni M / 2001 / Is ...   \n",
       "\n",
       "                                             tuned_refer  \n",
       "37242  [40. [기타자료] - Villalonga, Belen, 1999, Does Di...  \n",
       "37243  [41. [학술지(정기간행물)] - Villalonga, Belen, 2004, D...  \n",
       "37244  [42. [학술지(정기간행물)] - Villalonga, Belen, 2004, D...  \n",
       "37245  [43. [학술지(정기간행물)] - Weston, J. F, 1970, The Na...  \n",
       "37246  [44. [학술지(정기간행물)] - Whited, Toni M, 2001, Is I...  "
      ]
     },
     "execution_count": 665,
     "metadata": {},
     "output_type": "execute_result"
    }
   ],
   "source": [
    "new_df['tuned_refer'] = new_refer_ls\n",
    "new_df.tail()"
   ]
  },
  {
   "cell_type": "code",
   "execution_count": 666,
   "metadata": {},
   "outputs": [
    {
     "data": {
      "text/plain": [
       "{1, 3, 4, 5}"
      ]
     },
     "execution_count": 666,
     "metadata": {},
     "output_type": "execute_result"
    }
   ],
   "source": [
    "set([len(i) for idx,i in enumerate(new_df['tuned_refer'])])\n"
   ]
  },
  {
   "cell_type": "markdown",
   "metadata": {},
   "source": [
    "/ 로 잘라낸 리스트 별로 길이가 다르다. 이는 kci에서 제공하는 정보는 / 별로 성질이 나뉘어 지므로, 논문 별로 제공하는 정보의 내용과 양이 나르거나, 특성이 다르다고 판단하여 길이 별로 들여다본다."
   ]
  },
  {
   "cell_type": "code",
   "execution_count": 667,
   "metadata": {},
   "outputs": [
    {
     "name": "stdout",
     "output_type": "stream",
     "text": [
      "242 8071 28840 94\n"
     ]
    }
   ],
   "source": [
    "print(len([i for i in new_refer_ls if len(i) == 1]),\n",
    "len([i for i in new_refer_ls if len(i) == 3]),\n",
    "len([i for i in new_refer_ls if len(i) == 4]),\n",
    "len([i for i in new_refer_ls if len(i) == 5]))"
   ]
  },
  {
   "cell_type": "markdown",
   "metadata": {},
   "source": [
    "# 나중에 병합할 때 혼류가 없도록 길이에 따른 인덱스를 저장해준다"
   ]
  },
  {
   "cell_type": "code",
   "execution_count": 668,
   "metadata": {},
   "outputs": [
    {
     "data": {
      "text/plain": [
       "(242, 8071, 28840, 94)"
      ]
     },
     "execution_count": 668,
     "metadata": {},
     "output_type": "execute_result"
    }
   ],
   "source": [
    "len_1_idx = [idx for idx,val in enumerate(new_df['tuned_refer']) if len(val) == 1] # 없는 값\n",
    "len_3_idx = [idx for idx,val in enumerate(new_df['tuned_refer']) if len(val) == 3]\n",
    "len_4_idx = [idx for idx,val in enumerate(new_df['tuned_refer']) if len(val) == 4]\n",
    "len_5_idx = [idx for idx,val in enumerate(new_df['tuned_refer']) if len(val) == 5]\n",
    "len(len_1_idx),len(len_3_idx),len(len_4_idx),len(len_5_idx)"
   ]
  },
  {
   "cell_type": "code",
   "execution_count": 669,
   "metadata": {},
   "outputs": [
    {
     "data": {
      "text/plain": [
       "True"
      ]
     },
     "execution_count": 669,
     "metadata": {},
     "output_type": "execute_result"
    }
   ],
   "source": [
    "len(len_1_idx) +len(len_3_idx) +len(len_4_idx)  + len(len_5_idx) == len(new_df)"
   ]
  },
  {
   "cell_type": "markdown",
   "metadata": {},
   "source": [
    "# 논문의 특성을 나타내는 첫 번째 리스트와 이름이 결합되어 있는 경우가 발생, split 해준다."
   ]
  },
  {
   "cell_type": "markdown",
   "metadata": {},
   "source": [
    "\\- 기준으로 split"
   ]
  },
  {
   "cell_type": "code",
   "execution_count": 670,
   "metadata": {},
   "outputs": [
    {
     "data": {
      "text/plain": [
       "True"
      ]
     },
     "execution_count": 670,
     "metadata": {},
     "output_type": "execute_result"
    }
   ],
   "source": [
    "tuned_new_refer = []\n",
    "for idx in range(len(new_refer_ls)):\n",
    "    tuned_new_refer.append(new_refer_ls[idx][0].split(\" -\") + new_refer_ls[idx][1:])\n",
    "len(tuned_new_refer) == len(new_refer_ls)"
   ]
  },
  {
   "cell_type": "markdown",
   "metadata": {},
   "source": [
    "가장 첫 번째 character 엘리먼트와 3번째 엘리먼스인 년도 사이에 무엇이 있으면 하나로 병합시켜준다. (이름)"
   ]
  },
  {
   "cell_type": "code",
   "execution_count": 671,
   "metadata": {
    "collapsed": true
   },
   "outputs": [],
   "source": [
    "merge = [(1, 3)]\n",
    "\n",
    "for ls in tuned_new_refer : \n",
    "    if ls[0] != '0': \n",
    "        if not re.findall('[0-9]{1,4}',ls[2]) : \n",
    "            for t in merge[::-1]:\n",
    "                merged = ''.join(ls[t[0]:t[1]])  # merging values within a range\n",
    "                ls[t[0]:t[1]] = [merged]"
   ]
  },
  {
   "cell_type": "markdown",
   "metadata": {},
   "source": [
    "아무것도 안나오면 정상"
   ]
  },
  {
   "cell_type": "code",
   "execution_count": 672,
   "metadata": {
    "collapsed": true
   },
   "outputs": [],
   "source": [
    "for ls in tuned_new_refer : \n",
    "    if ls[0] != '0': \n",
    "        if not re.findall('[0-9]{1,4}',ls[2]) : \n",
    "            print(ls)"
   ]
  },
  {
   "cell_type": "markdown",
   "metadata": {},
   "source": [
    "1을 제외하고 나머지는 1씩 증가했다."
   ]
  },
  {
   "cell_type": "code",
   "execution_count": 673,
   "metadata": {},
   "outputs": [
    {
     "data": {
      "text/plain": [
       "{1, 4, 5, 6}"
      ]
     },
     "execution_count": 673,
     "metadata": {},
     "output_type": "execute_result"
    }
   ],
   "source": [
    "set([len(i) for i in tuned_new_refer])"
   ]
  },
  {
   "cell_type": "code",
   "execution_count": 674,
   "metadata": {},
   "outputs": [
    {
     "data": {
      "text/plain": [
       "(242, 28840, 94, 0)"
      ]
     },
     "execution_count": 674,
     "metadata": {},
     "output_type": "execute_result"
    }
   ],
   "source": [
    "len_1_idx = [idx for idx,val in enumerate(new_df['tuned_refer']) if len(val) == 1] # 없는 값\n",
    "len_3_idx = [idx for idx,val in enumerate(new_df['tuned_refer']) if len(val) == 4]\n",
    "len_4_idx = [idx for idx,val in enumerate(new_df['tuned_refer']) if len(val) == 5]\n",
    "len_5_idx = [idx for idx,val in enumerate(new_df['tuned_refer']) if len(val) == 6]\n",
    "len(len_1_idx),len(len_3_idx),len(len_4_idx),len(len_5_idx)"
   ]
  },
  {
   "cell_type": "code",
   "execution_count": 675,
   "metadata": {
    "collapsed": true
   },
   "outputs": [],
   "source": [
    "new_df['tuned_refer'] = tuned_new_refer"
   ]
  },
  {
   "cell_type": "code",
   "execution_count": 676,
   "metadata": {
    "collapsed": true
   },
   "outputs": [],
   "source": [
    "new_df['length_refer'] = new_df['tuned_refer'].apply(lambda x : len(x))"
   ]
  },
  {
   "cell_type": "code",
   "execution_count": 677,
   "metadata": {},
   "outputs": [
    {
     "data": {
      "text/html": [
       "<div>\n",
       "<style>\n",
       "    .dataframe thead tr:only-child th {\n",
       "        text-align: right;\n",
       "    }\n",
       "\n",
       "    .dataframe thead th {\n",
       "        text-align: left;\n",
       "    }\n",
       "\n",
       "    .dataframe tbody tr th {\n",
       "        vertical-align: top;\n",
       "    }\n",
       "</style>\n",
       "<table border=\"1\" class=\"dataframe\">\n",
       "  <thead>\n",
       "    <tr style=\"text-align: right;\">\n",
       "      <th></th>\n",
       "      <th>infor</th>\n",
       "      <th>refer</th>\n",
       "      <th>tuned_refer</th>\n",
       "      <th>length_refer</th>\n",
       "    </tr>\n",
       "  </thead>\n",
       "  <tbody>\n",
       "    <tr>\n",
       "      <th>37242</th>\n",
       "      <td>Corporate Diversification, Relatedness, and Fi...</td>\n",
       "      <td>40. [기타자료] - Villalonga, Belen / 1999 / Does D...</td>\n",
       "      <td>[40. [기타자료],  Villalonga, Belen, 1999, Does Di...</td>\n",
       "      <td>4</td>\n",
       "    </tr>\n",
       "    <tr>\n",
       "      <th>37243</th>\n",
       "      <td>Corporate Diversification, Relatedness, and Fi...</td>\n",
       "      <td>41. [학술지(정기간행물)] - Villalonga, Belen / 2004 / ...</td>\n",
       "      <td>[41. [학술지(정기간행물)],  Villalonga, Belen, 2004, D...</td>\n",
       "      <td>5</td>\n",
       "    </tr>\n",
       "    <tr>\n",
       "      <th>37244</th>\n",
       "      <td>Corporate Diversification, Relatedness, and Fi...</td>\n",
       "      <td>42. [학술지(정기간행물)] - Villalonga, Belen / 2004 / ...</td>\n",
       "      <td>[42. [학술지(정기간행물)],  Villalonga, Belen, 2004, D...</td>\n",
       "      <td>5</td>\n",
       "    </tr>\n",
       "    <tr>\n",
       "      <th>37245</th>\n",
       "      <td>Corporate Diversification, Relatedness, and Fi...</td>\n",
       "      <td>43. [학술지(정기간행물)] - Weston, J. F / 1970 / The N...</td>\n",
       "      <td>[43. [학술지(정기간행물)],  Weston, J. F, 1970, The Na...</td>\n",
       "      <td>5</td>\n",
       "    </tr>\n",
       "    <tr>\n",
       "      <th>37246</th>\n",
       "      <td>Corporate Diversification, Relatedness, and Fi...</td>\n",
       "      <td>44. [학술지(정기간행물)] - Whited, Toni M / 2001 / Is ...</td>\n",
       "      <td>[44. [학술지(정기간행물)],  Whited, Toni M, 2001, Is I...</td>\n",
       "      <td>5</td>\n",
       "    </tr>\n",
       "  </tbody>\n",
       "</table>\n",
       "</div>"
      ],
      "text/plain": [
       "                                                   infor  \\\n",
       "37242  Corporate Diversification, Relatedness, and Fi...   \n",
       "37243  Corporate Diversification, Relatedness, and Fi...   \n",
       "37244  Corporate Diversification, Relatedness, and Fi...   \n",
       "37245  Corporate Diversification, Relatedness, and Fi...   \n",
       "37246  Corporate Diversification, Relatedness, and Fi...   \n",
       "\n",
       "                                                   refer  \\\n",
       "37242  40. [기타자료] - Villalonga, Belen / 1999 / Does D...   \n",
       "37243  41. [학술지(정기간행물)] - Villalonga, Belen / 2004 / ...   \n",
       "37244  42. [학술지(정기간행물)] - Villalonga, Belen / 2004 / ...   \n",
       "37245  43. [학술지(정기간행물)] - Weston, J. F / 1970 / The N...   \n",
       "37246  44. [학술지(정기간행물)] - Whited, Toni M / 2001 / Is ...   \n",
       "\n",
       "                                             tuned_refer  length_refer  \n",
       "37242  [40. [기타자료],  Villalonga, Belen, 1999, Does Di...             4  \n",
       "37243  [41. [학술지(정기간행물)],  Villalonga, Belen, 2004, D...             5  \n",
       "37244  [42. [학술지(정기간행물)],  Villalonga, Belen, 2004, D...             5  \n",
       "37245  [43. [학술지(정기간행물)],  Weston, J. F, 1970, The Na...             5  \n",
       "37246  [44. [학술지(정기간행물)],  Whited, Toni M, 2001, Is I...             5  "
      ]
     },
     "execution_count": 677,
     "metadata": {},
     "output_type": "execute_result"
    }
   ],
   "source": [
    "new_df.tail()"
   ]
  },
  {
   "cell_type": "code",
   "execution_count": 678,
   "metadata": {},
   "outputs": [
    {
     "data": {
      "text/plain": [
       "{1, 4, 5, 6}"
      ]
     },
     "execution_count": 678,
     "metadata": {},
     "output_type": "execute_result"
    }
   ],
   "source": [
    "set(new_df['length_refer'])"
   ]
  },
  {
   "cell_type": "code",
   "execution_count": 679,
   "metadata": {},
   "outputs": [],
   "source": [
    "def show_me_the_list_under_char_and_length(length_ , char,how_much=None):\n",
    "    length_detect_ls = new_df[new_df['length_refer'] == length_].index.tolist()\n",
    "    char_detect_ls = \\\n",
    "    [idx for idx,i in enumerate(new_df['tuned_refer'].tolist()) if re.findall('\\[.+\\]',i[0]) == ['[{}]'.format(char)]]\n",
    "    return new_df.loc[list(set(length_detect_ls).intersection(char_detect_ls)),:]['tuned_refer'].tolist()[:how_much]"
   ]
  },
  {
   "cell_type": "markdown",
   "metadata": {},
   "source": [
    "# 4개짜리의 구조\n",
    "- 1. 논문의 성향\n",
    "- 2. 논문의 저자(없는 경우 공백 : '')\n",
    "- 2. 논문의 년도\n",
    "- 3. 논문의 이름"
   ]
  },
  {
   "cell_type": "code",
   "execution_count": 680,
   "metadata": {},
   "outputs": [
    {
     "data": {
      "text/plain": [
       "Counter({'[기타자료]': 348,\n",
       "         '[단행본]': 58,\n",
       "         '[보고서]': 2027,\n",
       "         '[학술대회논문]': 2,\n",
       "         '[학술지(정기간행물)]': 5636})"
      ]
     },
     "execution_count": 680,
     "metadata": {},
     "output_type": "execute_result"
    }
   ],
   "source": [
    "Counter([re.findall('\\[.+\\]',i)[0] for i in [i[0] for i in new_df[new_df['length_refer'] == 4]['tuned_refer'].tolist()]])"
   ]
  },
  {
   "cell_type": "markdown",
   "metadata": {},
   "source": [
    "### 길이가 4개인 리스트에서 카테고리가 보고서인 경우\n",
    "- 보고서가 완전한 모양새를 갖추기 위해서는 카테고리 , 저자명 , 저널이름 , 논문 이름 , 이슈 년도가 있어야 한다.\n",
    "- 길이가 4개인 경우, 이를 다 갖추지 못하고, 단지 이름과 년도 논문 이름만 나와있는 것을 볼 수 있다."
   ]
  },
  {
   "cell_type": "code",
   "execution_count": 681,
   "metadata": {},
   "outputs": [
    {
     "data": {
      "text/plain": [
       "[['49. [보고서]',\n",
       "  ' Scharfstein, D. S',\n",
       "  '1998',\n",
       "  'The dark side of internal capital markets：Evidence from dividend conglomerates,'],\n",
       " ['28. [보고서]', ' Sautner, Z', '2005', 'Stock options and employee behavior'],\n",
       " ['16. [보고서]',\n",
       "  ' Chemmanur, T. J',\n",
       "  '2011',\n",
       "  'How does venture capital financing improve efficiency in private firms? A look beneath the surface,'],\n",
       " ['5. [보고서]',\n",
       "  ' Bruche, M',\n",
       "  '2015',\n",
       "  'Debt maturity and the liquidity of secondary markets,'],\n",
       " ['6. [보고서]',\n",
       "  ' Burlon, L',\n",
       "  '2016',\n",
       "  'The Quantity of Corporate Credit Rationing with Matched Bank-Firm Data,']]"
      ]
     },
     "execution_count": 681,
     "metadata": {},
     "output_type": "execute_result"
    }
   ],
   "source": [
    "show_me_the_list_under_char_and_length(4,'보고서',5)"
   ]
  },
  {
   "cell_type": "code",
   "execution_count": 682,
   "metadata": {},
   "outputs": [
    {
     "data": {
      "text/plain": [
       "['Bank Consolidation, Internationalization and Conglomeration：Trends and Implications for Financial Risk',\n",
       " 'Risk Measurement, Risk Management and Capital Adequacy in Financial Conglomerates',\n",
       " 'The SME ‘Finance Gap’: Myth or Reality?, Research report on SME attitudes and experiences with bank loan applications',\n",
       " 'Loss Given Default: The Link between Default and Recovery Rates, Recovery Ratings and Recent Empirical Evidence',\n",
       " 'Credit-Rating Shopping, Selection and the Equilibrium Structure of Ratings',\n",
       " 'Trading Analysis of October 27 and 28, 1997: A Report by the Division of Market Regulation to the U.S. Securities and Exchange Commission',\n",
       " 'Tobin’s Q Does Not Measures Firm Performance:Theory, Empirics, and Alternative Measure’',\n",
       " '호가, 체결 자료를 이용한 외국인 주식투자행태 연구',\n",
       " 'Measuring the financial soundness of US firms, 1926~2012',\n",
       " 'Earnings volatility, earnings management andequity value']"
      ]
     },
     "execution_count": 682,
     "metadata": {},
     "output_type": "execute_result"
    }
   ],
   "source": [
    "[i[-1][:-1] for i in show_me_the_list_under_char_and_length(4,'보고서') if ',' in i[-1][:-1]][:10]"
   ]
  },
  {
   "cell_type": "markdown",
   "metadata": {},
   "source": [
    "# 길이가 4개인 보고서\n",
    "- 어쩌구 : 저쩌구 \n",
    "    - 둘 중 하나가 저널명인지에 대해 확인해본 결과, 본제 부제의 관계임을 확인할 수 있었다.\n",
    "- 쉼표 , 기준\n",
    "    - 특정한 기준은 없지만 working paper 가 산재되어 있다."
   ]
  },
  {
   "cell_type": "markdown",
   "metadata": {},
   "source": [
    "### 길이가 4개인 리스트에서 카테고리가 단행본인 경우\n",
    "\n",
    "- 단행본가 완전한 모양새를 갖추기 위해서는 카테고리 , 저자명 , 저널이름 , 논문 이름 , 이슈 년도가 있어야 한다.\n",
    "- 길이가 4개인 경우, 이를 다 갖추지 못하고, 단지 이름과 년도 논문 이름만 나와있는 것을 볼 수 있다."
   ]
  },
  {
   "cell_type": "code",
   "execution_count": 683,
   "metadata": {},
   "outputs": [
    {
     "data": {
      "text/plain": [
       "[['6. [단행본]', ' 삼성전자', '2010', '삼성전자 40년: 도전과 창조의 역사,'],\n",
       " ['105. [단행본]',\n",
       "  ' Ongena, S',\n",
       "  '2000',\n",
       "  'The Performance of Financial Institutions,'],\n",
       " ['44. [단행본]',\n",
       "  ' Schumpeter, J. A.',\n",
       "  '1912',\n",
       "  'Theorie der wirtschaftlichen Entwicklung,'],\n",
       " ['81. [단행본]',\n",
       "  ' Schwert, G. W',\n",
       "  '2003',\n",
       "  'Anomalies and Market Efficiency , In Handbook of the Economics ofFinance : 939 ~ 974,'],\n",
       " ['20. [단행본]',\n",
       "  ' Eckbo, E',\n",
       "  '2007',\n",
       "  'Handbook of Corporate Finance: Empirical Corporate Finance 1 : 233 ~ 373,']]"
      ]
     },
     "execution_count": 683,
     "metadata": {},
     "output_type": "execute_result"
    }
   ],
   "source": [
    "show_me_the_list_under_char_and_length(4,'단행본',5)"
   ]
  },
  {
   "cell_type": "code",
   "execution_count": 684,
   "metadata": {},
   "outputs": [
    {
     "data": {
      "text/plain": [
       "['Anomalies and Market Efficiency , In Handbook of the Economics ofFinance : 939 ~ 974',\n",
       " 'Early warning model for bank supervision: Simpler could be better, Economic Respective (FRB of Chicago), 3rd Quarter : 49 ~ 60',\n",
       " 'Small Business Lending, In The Oxford Handbook of Banking',\n",
       " 'Panel data, in Z. Griliches and M. Intrilligator ; Handbook of Econometrics, 2',\n",
       " 'iskMetrics-Technical Document, 4th Edition',\n",
       " 'The Financial Accelerator in a Quantitative Business Cycle Framework, In Handbook of Macroeconomics, Vol. 1C : 1341 ~ 1393',\n",
       " 'Exchange Traded Funds : History, Trading and Research, in Handbook ofFinancial Engineering, Zopounidis, Constantin, Michael Doumpos, andPanos : 1 ~ 37',\n",
       " 'Stock Pyramids, Cross-ownership, and Dual Class Equity in Concentrated Corporate Ownership : 295 ~ 315',\n",
       " 'The Structure and Performance of The Money Management Industry, In Brookings Papers on Economic Acitvity : Microeconomics : 339 ~ 391',\n",
       " 'Teh world of Mathematics, 2',\n",
       " 'Small Business Lending, In The Oxford Handbook of Banking',\n",
       " 'The Financial Accelerator in a Quantitative Business Cycle Framework, In Handbook of Macroeconomics, Vol. 1C : 1341 ~ 1393',\n",
       " 'The Information Content of Annual Earnings Announcements, In Empirical Research in Accounting : 67 ~ 92',\n",
       " 'Cointegration, Causality, and Forecasting: A Festschrift in Honour of Clive WJ Granger : 475 ~ 497',\n",
       " 'Panel data, In Handbookof Econometrics : 1247 ~ 1318']"
      ]
     },
     "execution_count": 684,
     "metadata": {},
     "output_type": "execute_result"
    }
   ],
   "source": [
    "[i[-1][:-1] for i in show_me_the_list_under_char_and_length(4,'단행본') if ',' in i[-1][:-1]]"
   ]
  },
  {
   "cell_type": "markdown",
   "metadata": {},
   "source": [
    "# 길이가 4개인 단행본\n",
    "- 어쩌구 : 저쩌구 \n",
    "    - 둘 중 하나가 저널명인지에 대해 확인해본 결과, 본제 부제의 관계임을 확인할 수 있었다.\n",
    "- 쉼표 , 기준\n",
    "    - 특정한 기준은 없지만 Handbook , Papers 등이 산재되어 있다."
   ]
  },
  {
   "cell_type": "markdown",
   "metadata": {},
   "source": [
    "### 길이가 4인 리스트에서 카테고리가 기타 자료인 경우\n",
    "- 단행본이 모양새를 다 갖추기 위해서는,카테고리 , 저자명 , 저널이름 , 논문이름 , 이슈 년도가 있어야 한다.\n",
    "- 위의 기타 자료와 단행본 과는 다르게, 저널 명이 보이는 경우가 있다.(Manuscript , 괄호안에 있는 기관들 또는 워킹 페이퍼 , SSRN)\n",
    "- 패턴은 지켜본 결과, 쉼표로 이어져 있거나 괄호 안에 위치해 있는 경우가 있다."
   ]
  },
  {
   "cell_type": "code",
   "execution_count": 685,
   "metadata": {},
   "outputs": [
    {
     "data": {
      "text/plain": [
       "[['40. [기타자료]',\n",
       "  ' Kim, Yun-Yeong',\n",
       "  '2009',\n",
       "  'Dynamic Analyses for Cointegration Disequilibrium Error via Transformed VAR Model, Manuscript,'],\n",
       " ['66. [기타자료]', ' Korea Exchange', '2010', '2009 KRX Fact Book,'],\n",
       " ['15. [기타자료]', ' 한국기업평가', '2014', 'CP Rating Performance,'],\n",
       " ['16. [기타자료]', ' 한국신용평가', '2014', 'CP Rating Performance, 2013,'],\n",
       " ['3. [기타자료]',\n",
       "  ' Bowers Jr., N. L',\n",
       "  '1997',\n",
       "  'Actuarial Mathematics (The Society of Actuaries, United States of America),']]"
      ]
     },
     "execution_count": 685,
     "metadata": {},
     "output_type": "execute_result"
    }
   ],
   "source": [
    "show_me_the_list_under_char_and_length(4,'기타자료',5)"
   ]
  },
  {
   "cell_type": "code",
   "execution_count": 686,
   "metadata": {},
   "outputs": [
    {
     "data": {
      "text/plain": [
       "['Dynamic Analyses for Cointegration Disequilibrium Error via Transformed VAR Model, Manuscript',\n",
       " 'CP Rating Performance, 2013',\n",
       " 'Actuarial Mathematics (The Society of Actuaries, United States of America)',\n",
       " 'The PCS option, an improvement of the CAT-future (Manuscript)',\n",
       " 'orporate Governance and the Cost of Equity Capital, Working paper, SSRN',\n",
       " 'Firm Level Analysis of the Korean Corporate Sector: 1996～2000. in International Monetary Fund. Republic of Korea: Selected Issues, IMF Country Report No. 02/20',\n",
       " 'Earnings Quality, Research Foundation of CFA Institute',\n",
       " 'Firms’ Capital Allocation Choices, Information Quality, and the Cost of Capital, Working paper',\n",
       " 'Michaely, 2002, Payout Policy, Working paper, The Wharton School, University of Pennsylvania',\n",
       " 'The Conditional nature of the value of corporate governance, Financial Management Association 2005, Chicago, Illinois']"
      ]
     },
     "execution_count": 686,
     "metadata": {},
     "output_type": "execute_result"
    }
   ],
   "source": [
    "[i[-1][:-1] for i in show_me_the_list_under_char_and_length(4,'기타자료') if ',' in i[-1][:-1]][:10]"
   ]
  },
  {
   "cell_type": "markdown",
   "metadata": {},
   "source": [
    "# 길이가 4개인 기타 자료\n",
    "- 어쩌구 : 저쩌구 \n",
    "    - 둘 중 하나가 저널명인지에 대해 확인해본 결과, 본제 부제의 관계임을 확인할 수 있었다.\n",
    "- 쉼표 , 기준\n",
    "    - 특정한 기준은 없지만 Manuscripts , Report 등이 산재되어 있다. (괄호 안에 있는 경우가 다수 있다.)"
   ]
  },
  {
   "cell_type": "markdown",
   "metadata": {},
   "source": [
    "### 길이가 4인 리스트에서 카테고리가 학술 대회 논문인 경우\n",
    "- 학술대회논문이 모양새를 다 갖추기 위해서는,카테고리 , 저자명 , 학교이름 , 학위 이름, 논문이름 , 이슈 년도가 있어야 한다.\n",
    "- 길이가 4개인 경우, 이를 다 갖추지 못하고, 저자 이름 / 년도 / 논문 이름만 기제되어 있는 것을 알 수 있다."
   ]
  },
  {
   "cell_type": "code",
   "execution_count": 687,
   "metadata": {},
   "outputs": [
    {
     "data": {
      "text/plain": [
       "[['15. [학술대회논문]',\n",
       "  ' Standard',\n",
       "  '2009',\n",
       "  '/ 2008 Annual global corporate default study and rating tran sitions,'],\n",
       " ['12. [학술대회논문]', ' 정병선', '2008', '한국 상장기업의 파생상품 사용 결정요인,']]"
      ]
     },
     "execution_count": 687,
     "metadata": {},
     "output_type": "execute_result"
    }
   ],
   "source": [
    "show_me_the_list_under_char_and_length(4,'학술대회논문')"
   ]
  },
  {
   "cell_type": "code",
   "execution_count": 688,
   "metadata": {},
   "outputs": [
    {
     "data": {
      "text/plain": [
       "['/ 2008 Annual global corporate default study and rating tran sitions',\n",
       " '한국 상장기업의 파생상품 사용 결정요인']"
      ]
     },
     "execution_count": 688,
     "metadata": {},
     "output_type": "execute_result"
    }
   ],
   "source": [
    "[i[-1][:-1] for i in show_me_the_list_under_char_and_length(4,'학술대회논문')]"
   ]
  },
  {
   "cell_type": "markdown",
   "metadata": {},
   "source": [
    "# 길이가 4인 학술 대회 논문\n",
    "- 저널/기관 명이 없는 데이터가 2개 뿐이므로 날려버린다."
   ]
  },
  {
   "cell_type": "markdown",
   "metadata": {},
   "source": [
    "### 길이가 4인 리스트에서 카테고리가 학술지인 경우\n",
    "- 학술대회논문이 모양새를 다 갖추기 위해서는,카테고리 , 저자명 , 학교이름 , 학위 이름, 논문이름 , 이슈 년도가 있어야 한다.\n",
    "- 길이가 4개인 경우, 이를 다 갖추지 못하고, 저자 이름 / 년도 / 논문 이름만 기제되어 있는 것을 알 수 있다."
   ]
  },
  {
   "cell_type": "code",
   "execution_count": 689,
   "metadata": {},
   "outputs": [
    {
     "data": {
      "text/plain": [
       "[['1. [학술지(정기간행물)]',\n",
       "  '',\n",
       "  '2001',\n",
       "  '은행중심 자금조달 시스템의 문제점: 은행의 유동성위기가 기업가치에 미치는 영향 14 (1) : 161 ~ 188,'],\n",
       " ['2. [학술지(정기간행물)]', '', '2000', '국내 은행간 합병의 효과분석 17 (1) : 283 ~ 306,'],\n",
       " ['3. [학술지(정기간행물)]', '', '2000', '은행퇴출과 관계효과 상실에 관한 실증연구 5 (3) : 1 ~ 27,'],\n",
       " ['4. [학술지(정기간행물)]',\n",
       "  '',\n",
       "  '2002',\n",
       "  '관계금융효과의 비대칭성에 관한 실증연구: 제일은행 사례를 중심으로 : 425 ~ 463,'],\n",
       " ['5. [학술지(정기간행물)]',\n",
       "  '',\n",
       "  '1999',\n",
       "  'The Consolidation of the Financial Services Industry: Causes, Consequences, and Implications for the Future 23 : 135 ~ 194,']]"
      ]
     },
     "execution_count": 689,
     "metadata": {},
     "output_type": "execute_result"
    }
   ],
   "source": [
    "show_me_the_list_under_char_and_length(4,'학술지(정기간행물)',5)"
   ]
  },
  {
   "cell_type": "code",
   "execution_count": 690,
   "metadata": {},
   "outputs": [
    {
     "name": "stdout",
     "output_type": "stream",
     "text": [
      "951\n"
     ]
    },
    {
     "data": {
      "text/plain": [
       "['The Benefits of Lending Relationships Evidence from Small Business Data Journal of Finance 49 : 3 ~ 37',\n",
       " 'A Stylized Model of Customer Relationships Journal of Finance 45 : 1069 ~ 1087',\n",
       " 'The Value of Bank Durability Borrowers as Bank Stakeholders Journal of Finance 48 : 247 ~ 266',\n",
       " 'Valuation of primary issue convertible bonds Journal of Financial Research 9 : 251 ~ 259',\n",
       " 'The case of event studies Journal of Financial Economics 8 : 1 ~ 31',\n",
       " 'Journal of Financial Economics 13 : 115 ~ 136',\n",
       " 'P/E Ratio and Earnings Capitalization Under Uncertainty Journal of Accounting Research : 38 ~ 46',\n",
       " 'Journal of Financial Economics : 263 ~ 292',\n",
       " 'The Role of Volume Journal of Finance (49) : 153 ~ 181',\n",
       " 'Returns to Buying Winners and Selling Losers Implication for Stock Market Efficiency Journal of Finance : 65 ~ 91']"
      ]
     },
     "execution_count": 690,
     "metadata": {},
     "output_type": "execute_result"
    }
   ],
   "source": [
    "print(len([i[-1][:-1] for i in show_me_the_list_under_char_and_length(4,'학술지(정기간행물)') if 'Journal' in i[-1][:-1] ]))\n",
    "[i[-1][:-1] for i in show_me_the_list_under_char_and_length(4,'학술지(정기간행물)') if 'Journal' in i[-1][:-1] ][:10]"
   ]
  },
  {
   "cell_type": "markdown",
   "metadata": {},
   "source": [
    "# 길이가 4인 학술지 정기간행물\n",
    "- 이 부분이 제일 더럽다. 위의 리스트는 Journal 로 검색했을 때의 결과물이다. -- 951개"
   ]
  },
  {
   "cell_type": "markdown",
   "metadata": {},
   "source": [
    "# # # ## # # # # # # # # # # # #  # # # # # # # # # # # # # # # # # # # # # # # # # # # "
   ]
  },
  {
   "cell_type": "markdown",
   "metadata": {},
   "source": [
    "# 길이가 5개인 경우"
   ]
  },
  {
   "cell_type": "code",
   "execution_count": 691,
   "metadata": {},
   "outputs": [
    {
     "data": {
      "text/plain": [
       "Counter({'[기타자료]': 214,\n",
       "         '[단행본]': 1026,\n",
       "         '[학술대회논문]': 383,\n",
       "         '[학술지(정기간행물)]': 27212,\n",
       "         '[학위논문]': 5})"
      ]
     },
     "execution_count": 691,
     "metadata": {},
     "output_type": "execute_result"
    }
   ],
   "source": [
    "Counter([re.findall('\\[.+\\]',i)[0] for i in [i[0] for i in new_df[new_df['length_refer'] == 5]['tuned_refer'].tolist()]])"
   ]
  },
  {
   "cell_type": "markdown",
   "metadata": {},
   "source": [
    "### 길이가 5인 리스트에서 카테고리가 단행본인 경우\n",
    "- 기타 자료가 모양새를 다 갖추기 위해서는,카테고리 , 저자명 , 저널명 , 논문이름 , 이슈 년도가 있어야 한다.\n",
    "- 아래에서 5개만 끊어서 보면, 어느정도 구색을 맞추고 있는 것으로 보인다. 자세히 살펴보아서 모두 완벽한지 확인해봐야 한다."
   ]
  },
  {
   "cell_type": "code",
   "execution_count": 692,
   "metadata": {},
   "outputs": [
    {
     "data": {
      "text/plain": [
       "[['14. [단행본]',\n",
       "  ' 이광배',\n",
       "  '2011',\n",
       "  'ELS 상품의 손익구조와 헤지운용 : 이론과 실제(step down autocall 구조를 중심으로',\n",
       "  '하나금융투자,'],\n",
       " ['13. [단행본]',\n",
       "  ' Hastie, T. J.',\n",
       "  '1990',\n",
       "  'Generalized Additive Models',\n",
       "  'Chapman and Hall,'],\n",
       " ['17. [단행본]', ' 이효섭', '2013', '한국 ELS/DLS 시장의 건전한 성장을 위한 방안', '자본시장연구원,'],\n",
       " ['28. [단행본]',\n",
       "  ' Friedman, M',\n",
       "  '1963',\n",
       "  'A Monetary History of the United States, 1867～1960',\n",
       "  'Princeton University Press,'],\n",
       " ['31. [단행본]',\n",
       "  ' Garber, P. M.',\n",
       "  '2000',\n",
       "  'Famous First Bubbles: the Fundamentals of Early Manias',\n",
       "  'MIT Press,']]"
      ]
     },
     "execution_count": 692,
     "metadata": {},
     "output_type": "execute_result"
    }
   ],
   "source": [
    "show_me_the_list_under_char_and_length(5,'단행본',5)"
   ]
  },
  {
   "cell_type": "code",
   "execution_count": 693,
   "metadata": {},
   "outputs": [
    {
     "data": {
      "text/plain": [
       "['', '']"
      ]
     },
     "execution_count": 693,
     "metadata": {},
     "output_type": "execute_result"
    }
   ],
   "source": [
    "[i[1] for i in show_me_the_list_under_char_and_length(5,'단행본') if not i[1]]"
   ]
  },
  {
   "cell_type": "code",
   "execution_count": 694,
   "metadata": {},
   "outputs": [
    {
     "data": {
      "text/plain": [
       "[]"
      ]
     },
     "execution_count": 694,
     "metadata": {},
     "output_type": "execute_result"
    }
   ],
   "source": [
    "[i[-1][:-1] for i in show_me_the_list_under_char_and_length(5,'단행본') if not i[-1][:-1]]"
   ]
  },
  {
   "cell_type": "markdown",
   "metadata": {},
   "source": [
    "# 길이가 5인 단행본\n",
    "\n",
    "- 저널명은 공백이 없는 것으로 보아 큰 문제가 없어보인다.\n",
    "- 이름이 공백인 경우가 2가지 있었다.\n",
    "    - 이 경우는 딕셔너리에서 제외"
   ]
  },
  {
   "cell_type": "markdown",
   "metadata": {},
   "source": [
    "### 길이가 5인 리스트에서 카테고리가 기타 자료인 경우\n",
    "- 기타 자료가 모양새를 다 갖추기 위해서는,카테고리 , 저자명 , 저널명 , 논문이름 , 이슈 년도가 있어야 한다.\n",
    "- 아래에서 5개만 끊어서 보면, 어느정도 구색을 맞추고 있는 것으로 보인다. 자세히 살펴보아서 모두 완벽한지 확인해봐야 한다."
   ]
  },
  {
   "cell_type": "code",
   "execution_count": 695,
   "metadata": {},
   "outputs": [
    {
     "data": {
      "text/plain": [
       "[['10. [기타자료]',\n",
       "  ' Chakravarty, S',\n",
       "  '1998',\n",
       "  'Information asymmetry, market segmentation and pricing d cross-listed shares: Theory and evidence from Chinese A and B shares',\n",
       "  'Working paper, Purdue Univ,'],\n",
       " ['3. [기타자료]',\n",
       "  ' Lydienne Matchie',\n",
       "  '2009',\n",
       "  'Malliavin Calculus and Some Applications in Finance',\n",
       "  'African Institute for Mathematical Sciences,'],\n",
       " ['6. [기타자료]', ' 한국예탁결제원', '2012', '보호예수제도 실무안내', '한국예탁결제원,'],\n",
       " ['10. [기타자료]',\n",
       "  ' Euromoney',\n",
       "  '2007',\n",
       "  'The 2007 Guide to Financial Supply-Chain Management',\n",
       "  'HSBC,'],\n",
       " ['11. [기타자료]',\n",
       "  ' Feinberg, S.',\n",
       "  '2007',\n",
       "  'So You Think You Understand Supply Chain Finance: A Primer on Innovative Working Capital Financing',\n",
       "  'TowerGroup,']]"
      ]
     },
     "execution_count": 695,
     "metadata": {},
     "output_type": "execute_result"
    }
   ],
   "source": [
    "show_me_the_list_under_char_and_length(5,'기타자료',5)"
   ]
  },
  {
   "cell_type": "code",
   "execution_count": 696,
   "metadata": {},
   "outputs": [
    {
     "data": {
      "text/plain": [
       "['', '', '', '', '', '', '', '', '', '', '']"
      ]
     },
     "metadata": {},
     "output_type": "display_data"
    },
    {
     "data": {
      "text/plain": [
       "11"
      ]
     },
     "execution_count": 696,
     "metadata": {},
     "output_type": "execute_result"
    }
   ],
   "source": [
    "display([i[1] for i in show_me_the_list_under_char_and_length(5,'기타자료') if not i[1]])\n",
    "len([i[1] for i in show_me_the_list_under_char_and_length(5,'기타자료') if not i[1]])"
   ]
  },
  {
   "cell_type": "code",
   "execution_count": 697,
   "metadata": {},
   "outputs": [
    {
     "data": {
      "text/plain": [
       "[]"
      ]
     },
     "execution_count": 697,
     "metadata": {},
     "output_type": "execute_result"
    }
   ],
   "source": [
    "[i[-1][:-1] for i in show_me_the_list_under_char_and_length(5,'기타자료') if not i[-1][:-1]]"
   ]
  },
  {
   "cell_type": "markdown",
   "metadata": {},
   "source": [
    "# 길이가 5인 기타 자료\n",
    "\n",
    "- 저널명은 큰 문제가 없어보인다.\n",
    "- 이름이 공백인 경우가 11가지 있었다.\n",
    "    - 이 경우는 딕셔너리에서 제외"
   ]
  },
  {
   "cell_type": "markdown",
   "metadata": {},
   "source": [
    "### 길이가 5인 리스트에서 카테고리가 학술대회논문인 경우\n",
    "- 학술대회논문가 모양새를 다 갖추기 위해서는,카테고리 , 저자명 , 저널명 , 논문이름 , 이슈 년도가 있어야 한다.\n",
    "- 아래에서 5개만 끊어서 보면, 어느정도 구색을 맞추고 있는 것으로 보인다. 자세히 살펴보아서 모두 완벽한지 확인해봐야 한다."
   ]
  },
  {
   "cell_type": "code",
   "execution_count": 698,
   "metadata": {},
   "outputs": [
    {
     "data": {
      "text/plain": [
       "[['15. [학술대회논문]',\n",
       "  ' 이경희',\n",
       "  '2016',\n",
       "  '현물포트폴리오 및 선물을 이용한 CVaR 기반 ELS 헤징방법',\n",
       "  '2016 재무금융 관련 5개 학회 학술연구발표회 : 1175 ~ 1208,'],\n",
       " ['20. [학술대회논문]',\n",
       "  ' 장원재',\n",
       "  '2013',\n",
       "  '국내 ELS 시장의 성장이 주식시장 변동성에 미치는 영향',\n",
       "  'KSIAM 학술발표,'],\n",
       " ['20. [학술대회논문]',\n",
       "  ' Luis, J. B.',\n",
       "  '2001',\n",
       "  'Expectation and risk aversion measures implicit in prices of options on US and European stock indexes',\n",
       "  'the Forecasting Financial Market 2001 Conference in London,'],\n",
       " ['1. [학술대회논문]',\n",
       "  ' Agrawal, R.',\n",
       "  '1993',\n",
       "  'Efficient Similarity Search in Sequence Databases',\n",
       "  'Proceedings of the 4th International Conference on Foundations of Data Organization and Algorithms,'],\n",
       " ['2. [학술대회논문]',\n",
       "  ' Agrawal, R.',\n",
       "  '1995',\n",
       "  'Fast Similarity Search in the Presence of Noise, Scaling, and Translation in Time-Series Databases',\n",
       "  'Proceedings of the International Conference on Very Large Databases,']]"
      ]
     },
     "execution_count": 698,
     "metadata": {},
     "output_type": "execute_result"
    }
   ],
   "source": [
    "show_me_the_list_under_char_and_length(5,'학술대회논문',5)"
   ]
  },
  {
   "cell_type": "code",
   "execution_count": 699,
   "metadata": {},
   "outputs": [
    {
     "data": {
      "text/plain": [
       "[]"
      ]
     },
     "execution_count": 699,
     "metadata": {},
     "output_type": "execute_result"
    }
   ],
   "source": [
    "[i[1] for i in show_me_the_list_under_char_and_length(5,'학술대회논문') if not i[1]]"
   ]
  },
  {
   "cell_type": "code",
   "execution_count": 700,
   "metadata": {},
   "outputs": [
    {
     "data": {
      "text/plain": [
       "[]"
      ]
     },
     "execution_count": 700,
     "metadata": {},
     "output_type": "execute_result"
    }
   ],
   "source": [
    "[i[-1][:-1] for i in show_me_the_list_under_char_and_length(5,'학술대회논문') if not i[-1][:-1]]"
   ]
  },
  {
   "cell_type": "markdown",
   "metadata": {},
   "source": [
    "# 길이가 5인 학술대회논문\n",
    "\n",
    "- 저널명은 큰 문제가 없어보인다.\n",
    "- 이름이 공백인 경우도 없다."
   ]
  },
  {
   "cell_type": "markdown",
   "metadata": {},
   "source": [
    "### 길이가 5인 리스트에서 카테고리가 학술지인 경우\n",
    "- 학술지가 모양새를 다 갖추기 위해서는,카테고리 , 저자명 , 저널명 , 논문이름 , 이슈 년도가 있어야 한다.\n",
    "- 아래에서 5개만 끊어서 보면, 어느정도 구색을 맞추고 있는 것으로 보인다. 자세히 살펴보아서 모두 완벽한지 확인해봐야 한다."
   ]
  },
  {
   "cell_type": "code",
   "execution_count": 701,
   "metadata": {},
   "outputs": [
    {
     "data": {
      "text/plain": [
       "[['1. [학술지(정기간행물)]',\n",
       "  ' 고봉찬',\n",
       "  '2007',\n",
       "  '발생액 이상현상에 대한 위험평가',\n",
       "  'Asia-Pacific Journal of Financial Studies 36 (3) : 425 ~ 461,'],\n",
       " ['2. [학술지(정기간행물)]',\n",
       "  ' 손병철',\n",
       "  '2005',\n",
       "  '발생액의 효율적 평가에 영향을 미치는 요인',\n",
       "  '회계학연구 30 (1) : 59 ~ 91,'],\n",
       " ['3. [학술지(정기간행물)]',\n",
       "  ' Amihud, Yakov',\n",
       "  '2002',\n",
       "  'Illiquidity and Stock Returns: Cross-Section and Time- Series Effects',\n",
       "  'Journal of Financial Markets 5 (1) : 31 ~ 56,'],\n",
       " ['4. [학술지(정기간행물)]',\n",
       "  ' Ball, Ray, S',\n",
       "  '1995',\n",
       "  'Problems in Measuring Portfolio Performance: An Application to Contrarian Investment Strategies',\n",
       "  'Journal of Financial Economics 38 (1) : 79 ~ 107,'],\n",
       " ['5. [학술지(정기간행물)]',\n",
       "  ' Basu, Sudipta',\n",
       "  '2004',\n",
       "  'What Do We Learn from Two New Accounting-Based Stock Market Anomalies?',\n",
       "  'Journal of Accounting and Economics 38 (1) : 333 ~ 348,']]"
      ]
     },
     "execution_count": 701,
     "metadata": {},
     "output_type": "execute_result"
    }
   ],
   "source": [
    "show_me_the_list_under_char_and_length(5,'학술지(정기간행물)',5)"
   ]
  },
  {
   "cell_type": "code",
   "execution_count": 702,
   "metadata": {},
   "outputs": [
    {
     "data": {
      "text/plain": [
       "['']"
      ]
     },
     "execution_count": 702,
     "metadata": {},
     "output_type": "execute_result"
    }
   ],
   "source": [
    "[i[1] for i in show_me_the_list_under_char_and_length(5,'학술지(정기간행물)') if not i[1]]"
   ]
  },
  {
   "cell_type": "code",
   "execution_count": 703,
   "metadata": {},
   "outputs": [
    {
     "data": {
      "text/plain": [
       "[]"
      ]
     },
     "execution_count": 703,
     "metadata": {},
     "output_type": "execute_result"
    }
   ],
   "source": [
    "[i[-1][:-1] for i in show_me_the_list_under_char_and_length(5,'학술지(정기간행물)') if not i[-1][:-1]]"
   ]
  },
  {
   "cell_type": "code",
   "execution_count": 704,
   "metadata": {},
   "outputs": [
    {
     "data": {
      "text/plain": [
       "['The Accounting Review 77 : 35 ~ 59',\n",
       " 'Journal of Accounting and Economics 17 : 51 ~ 89',\n",
       " 'Journal of Accounting Research 29 : 193 ~ 228',\n",
       " 'Asia-Pacific Journal of Financial Studies 35 (5) : 45 ~ 74',\n",
       " 'The Journal of Finance LXI : 1035 ~ 1072',\n",
       " 'The Accounting Review : 201 ~ 244',\n",
       " '회계정보연구 21 (4) : 211 ~ 235',\n",
       " 'Korean Business Review : 103 ~ 125',\n",
       " '회계학연구 30 (2) : 277 ~ 306',\n",
       " 'Journal of Accounting and Economics 17 : 281 ~ 308']"
      ]
     },
     "execution_count": 704,
     "metadata": {},
     "output_type": "execute_result"
    }
   ],
   "source": [
    "[i[-1][:-1] for i in show_me_the_list_under_char_and_length(5,'학술지(정기간행물)')][30:40]"
   ]
  },
  {
   "cell_type": "markdown",
   "metadata": {},
   "source": [
    "# 길이가 5인 학술지\n",
    "\n",
    "- 저널명은 큰 문제가 없어보인다.\n",
    "- 이름이 공백인 경우 1건"
   ]
  },
  {
   "cell_type": "markdown",
   "metadata": {},
   "source": [
    "### 길이가 5인 리스트에서 카테고리가 학위논문인 경우\n",
    "- 다른 논문들과는 다르게 길이가 5개이면, 불완전한 참고 문헌 자료이다.\n",
    "- 현재 이름,년도,논문 이름,학교이름 이 기제되어 있는데, 학위 이름까지 기제되어야 완전한 논문이라고 할 수 있다."
   ]
  },
  {
   "cell_type": "code",
   "execution_count": 705,
   "metadata": {},
   "outputs": [
    {
     "data": {
      "text/plain": [
       "[['8. [학위논문]',\n",
       "  ' 이송우',\n",
       "  '2011',\n",
       "  '민영건강보험의 도덕적 해이와 본인부담금의 도입효과에 관한 연구',\n",
       "  '국민대학교대학원,'],\n",
       " ['12. [학위논문]',\n",
       "  ' Jung, H',\n",
       "  '2011',\n",
       "  'A study on function of corporate group, risk and performance of savings banks',\n",
       "  'Korea University,'],\n",
       " ['5. [학위논문]',\n",
       "  ' Brennan,F',\n",
       "  '1986',\n",
       "  'The Cost of Convenience and the Pricing of Commodity Contingent Claims',\n",
       "  'University of British Columbia,'],\n",
       " ['11. [학위논문]',\n",
       "  ' Chung, J. W.',\n",
       "  '2012',\n",
       "  'Performance Persistence in Private Equity Funds',\n",
       "  'The Chinese University of Hong Kong,'],\n",
       " ['34. [학위논문]',\n",
       "  ' Li, Y',\n",
       "  '2009',\n",
       "  'Three Essays in Empirical Studies on Derivatives',\n",
       "  'University of Toronto,']]"
      ]
     },
     "execution_count": 705,
     "metadata": {},
     "output_type": "execute_result"
    }
   ],
   "source": [
    "show_me_the_list_under_char_and_length(5,'학위논문',5)"
   ]
  },
  {
   "cell_type": "code",
   "execution_count": 706,
   "metadata": {},
   "outputs": [
    {
     "data": {
      "text/plain": [
       "[]"
      ]
     },
     "execution_count": 706,
     "metadata": {},
     "output_type": "execute_result"
    }
   ],
   "source": [
    "[i[1] for i in show_me_the_list_under_char_and_length(5,'학위논문') if not i[1]]"
   ]
  },
  {
   "cell_type": "code",
   "execution_count": 707,
   "metadata": {},
   "outputs": [
    {
     "data": {
      "text/plain": [
       "[]"
      ]
     },
     "execution_count": 707,
     "metadata": {},
     "output_type": "execute_result"
    }
   ],
   "source": [
    "[i[-1][:-1] for i in show_me_the_list_under_char_and_length(5,'학위논문') if not i[-1][:-1]]"
   ]
  },
  {
   "cell_type": "code",
   "execution_count": 708,
   "metadata": {},
   "outputs": [
    {
     "data": {
      "text/plain": [
       "[]"
      ]
     },
     "execution_count": 708,
     "metadata": {},
     "output_type": "execute_result"
    }
   ],
   "source": [
    "[i[-1][:-1] for i in show_me_the_list_under_char_and_length(5,'학위논문')][30:40]"
   ]
  },
  {
   "cell_type": "markdown",
   "metadata": {},
   "source": [
    "# 길이가 5인 학위 논문\n",
    "- 어자피 불완전한 자료이므로 5개는 날린다."
   ]
  },
  {
   "cell_type": "markdown",
   "metadata": {},
   "source": [
    "# # # ## # # # # # # # # # # # #  # # # # # # # # # # # # # # # # # # # # # # # # # # # "
   ]
  },
  {
   "cell_type": "markdown",
   "metadata": {},
   "source": [
    "# 길이가 6개인 경우"
   ]
  },
  {
   "cell_type": "code",
   "execution_count": 709,
   "metadata": {},
   "outputs": [
    {
     "data": {
      "text/plain": [
       "Counter({'[학위논문]': 94})"
      ]
     },
     "execution_count": 709,
     "metadata": {},
     "output_type": "execute_result"
    }
   ],
   "source": [
    "Counter([re.findall('\\[.+\\]',i)[0] for i in [i[0] for i in new_df[new_df['length_refer'] == 6]['tuned_refer'].tolist()]])"
   ]
  },
  {
   "cell_type": "markdown",
   "metadata": {},
   "source": [
    "### 길이가 6인 리스트에서 카테고리가 단행본인 경우\n",
    "- 기타 자료가 모양새를 다 갖추기 위해서는,카테고리 , 저자명 , 저널명 , 논문이름 , 이슈 년도가 있어야 한다.\n",
    "- 아래에서 6개만 끊어서 보면, 어느정도 구색을 맞추고 있는 것으로 보인다. 자세히 살펴보아서 모두 완벽한지 확인해봐야 한다."
   ]
  },
  {
   "cell_type": "markdown",
   "metadata": {},
   "source": [
    "### 길이가 6인 리스트에서 카테고리가 학위논문인 경우\n",
    "- 다른 논문들과는 다르게 길이가 6개이면, 불완전한 참고 문헌 자료이다.\n",
    "- 현재 이름,년도,논문 이름,학교이름 이 기제되어 있는데, 학위 이름까지 기제되어야 완전한 논문이라고 할 수 있다."
   ]
  },
  {
   "cell_type": "code",
   "execution_count": 710,
   "metadata": {},
   "outputs": [
    {
     "data": {
      "text/plain": [
       "[['10. [학위논문]',\n",
       "  ' 張榮光',\n",
       "  '1985',\n",
       "  '企業合倂과 株式取得이 株主의 富에 미치는 影響에 關한 實證的 硏究',\n",
       "  '박사',\n",
       "  '고려대학교 대학원,'],\n",
       " ['22. [학위논문]',\n",
       "  ' Low, A',\n",
       "  '1992',\n",
       "  'Essays on asymmetric information in international finance',\n",
       "  '박사',\n",
       "  'University of California,'],\n",
       " ['32. [학위논문]',\n",
       "  ' May Hongmei Zhang',\n",
       "  '2005',\n",
       "  'The differential effects of proprietary cost on the quality versus quantity of voluntary corporate disclosures',\n",
       "  'Ph.D',\n",
       "  'The University of Texas at Austin,'],\n",
       " ['11. [학위논문]', ' 이상엽', '2014', '적산법을 이용한 자기자본비용 추정에 관한 연구', '석사', '건국대학교,'],\n",
       " ['8. [학위논문]',\n",
       "  ' 김경용',\n",
       "  '2013',\n",
       "  '한달 내의 최대 일별수익률과 주식 기대수익률의 관계',\n",
       "  '석사',\n",
       "  '한국과학기술원,']]"
      ]
     },
     "execution_count": 710,
     "metadata": {},
     "output_type": "execute_result"
    }
   ],
   "source": [
    "show_me_the_list_under_char_and_length(6,'학위논문',5)"
   ]
  },
  {
   "cell_type": "code",
   "execution_count": 711,
   "metadata": {},
   "outputs": [
    {
     "data": {
      "text/plain": [
       "[]"
      ]
     },
     "execution_count": 711,
     "metadata": {},
     "output_type": "execute_result"
    }
   ],
   "source": [
    "[i[1] for i in show_me_the_list_under_char_and_length(6,'학위논문') if not i[1]]"
   ]
  },
  {
   "cell_type": "code",
   "execution_count": 712,
   "metadata": {},
   "outputs": [
    {
     "data": {
      "text/plain": [
       "[]"
      ]
     },
     "execution_count": 712,
     "metadata": {},
     "output_type": "execute_result"
    }
   ],
   "source": [
    "[i[2] for i in show_me_the_list_under_char_and_length(6,'학위논문') if not i[2]]"
   ]
  },
  {
   "cell_type": "code",
   "execution_count": 713,
   "metadata": {},
   "outputs": [
    {
     "data": {
      "text/plain": [
       "[]"
      ]
     },
     "execution_count": 713,
     "metadata": {},
     "output_type": "execute_result"
    }
   ],
   "source": [
    "[i[3] for i in show_me_the_list_under_char_and_length(6,'학위논문') if not i[3]]"
   ]
  },
  {
   "cell_type": "code",
   "execution_count": 714,
   "metadata": {},
   "outputs": [
    {
     "data": {
      "text/plain": [
       "[]"
      ]
     },
     "execution_count": 714,
     "metadata": {},
     "output_type": "execute_result"
    }
   ],
   "source": [
    "[i[4] for i in show_me_the_list_under_char_and_length(6,'학위논문') if not i[4]]"
   ]
  },
  {
   "cell_type": "code",
   "execution_count": 715,
   "metadata": {},
   "outputs": [
    {
     "data": {
      "text/plain": [
       "[]"
      ]
     },
     "execution_count": 715,
     "metadata": {},
     "output_type": "execute_result"
    }
   ],
   "source": [
    "[i[5] for i in show_me_the_list_under_char_and_length(6,'학위논문') if not i[5]]"
   ]
  },
  {
   "cell_type": "markdown",
   "metadata": {},
   "source": [
    "# 길이가 6인 학위 논문\n",
    "- 완전한 자료로 판단되므로 모두 딕셔너리에 고려한다."
   ]
  },
  {
   "cell_type": "code",
   "execution_count": 742,
   "metadata": {},
   "outputs": [
    {
     "data": {
      "text/html": [
       "<div>\n",
       "<style>\n",
       "    .dataframe thead tr:only-child th {\n",
       "        text-align: right;\n",
       "    }\n",
       "\n",
       "    .dataframe thead th {\n",
       "        text-align: left;\n",
       "    }\n",
       "\n",
       "    .dataframe tbody tr th {\n",
       "        vertical-align: top;\n",
       "    }\n",
       "</style>\n",
       "<table border=\"1\" class=\"dataframe\">\n",
       "  <thead>\n",
       "    <tr style=\"text-align: right;\">\n",
       "      <th></th>\n",
       "      <th>infor</th>\n",
       "      <th>refer</th>\n",
       "      <th>tuned_refer</th>\n",
       "      <th>length_refer</th>\n",
       "    </tr>\n",
       "  </thead>\n",
       "  <tbody>\n",
       "    <tr>\n",
       "      <th>37242</th>\n",
       "      <td>Corporate Diversification, Relatedness, and Fi...</td>\n",
       "      <td>40. [기타자료] - Villalonga, Belen / 1999 / Does D...</td>\n",
       "      <td>[40. [기타자료],  Villalonga, Belen, 1999, Does Di...</td>\n",
       "      <td>4</td>\n",
       "    </tr>\n",
       "    <tr>\n",
       "      <th>37243</th>\n",
       "      <td>Corporate Diversification, Relatedness, and Fi...</td>\n",
       "      <td>41. [학술지(정기간행물)] - Villalonga, Belen / 2004 / ...</td>\n",
       "      <td>[41. [학술지(정기간행물)],  Villalonga, Belen, 2004, D...</td>\n",
       "      <td>5</td>\n",
       "    </tr>\n",
       "    <tr>\n",
       "      <th>37244</th>\n",
       "      <td>Corporate Diversification, Relatedness, and Fi...</td>\n",
       "      <td>42. [학술지(정기간행물)] - Villalonga, Belen / 2004 / ...</td>\n",
       "      <td>[42. [학술지(정기간행물)],  Villalonga, Belen, 2004, D...</td>\n",
       "      <td>5</td>\n",
       "    </tr>\n",
       "    <tr>\n",
       "      <th>37245</th>\n",
       "      <td>Corporate Diversification, Relatedness, and Fi...</td>\n",
       "      <td>43. [학술지(정기간행물)] - Weston, J. F / 1970 / The N...</td>\n",
       "      <td>[43. [학술지(정기간행물)],  Weston, J. F, 1970, The Na...</td>\n",
       "      <td>5</td>\n",
       "    </tr>\n",
       "    <tr>\n",
       "      <th>37246</th>\n",
       "      <td>Corporate Diversification, Relatedness, and Fi...</td>\n",
       "      <td>44. [학술지(정기간행물)] - Whited, Toni M / 2001 / Is ...</td>\n",
       "      <td>[44. [학술지(정기간행물)],  Whited, Toni M, 2001, Is I...</td>\n",
       "      <td>5</td>\n",
       "    </tr>\n",
       "  </tbody>\n",
       "</table>\n",
       "</div>"
      ],
      "text/plain": [
       "                                                   infor  \\\n",
       "37242  Corporate Diversification, Relatedness, and Fi...   \n",
       "37243  Corporate Diversification, Relatedness, and Fi...   \n",
       "37244  Corporate Diversification, Relatedness, and Fi...   \n",
       "37245  Corporate Diversification, Relatedness, and Fi...   \n",
       "37246  Corporate Diversification, Relatedness, and Fi...   \n",
       "\n",
       "                                                   refer  \\\n",
       "37242  40. [기타자료] - Villalonga, Belen / 1999 / Does D...   \n",
       "37243  41. [학술지(정기간행물)] - Villalonga, Belen / 2004 / ...   \n",
       "37244  42. [학술지(정기간행물)] - Villalonga, Belen / 2004 / ...   \n",
       "37245  43. [학술지(정기간행물)] - Weston, J. F / 1970 / The N...   \n",
       "37246  44. [학술지(정기간행물)] - Whited, Toni M / 2001 / Is ...   \n",
       "\n",
       "                                             tuned_refer  length_refer  \n",
       "37242  [40. [기타자료],  Villalonga, Belen, 1999, Does Di...             4  \n",
       "37243  [41. [학술지(정기간행물)],  Villalonga, Belen, 2004, D...             5  \n",
       "37244  [42. [학술지(정기간행물)],  Villalonga, Belen, 2004, D...             5  \n",
       "37245  [43. [학술지(정기간행물)],  Weston, J. F, 1970, The Na...             5  \n",
       "37246  [44. [학술지(정기간행물)],  Whited, Toni M, 2001, Is I...             5  "
      ]
     },
     "execution_count": 742,
     "metadata": {},
     "output_type": "execute_result"
    }
   ],
   "source": [
    "new_df.tail()"
   ]
  },
  {
   "cell_type": "markdown",
   "metadata": {},
   "source": [
    "# 위의 과정을 토대로 딕셔너리에 포함되어야 하는 데이터프레임의 로우를 지정한다."
   ]
  },
  {
   "cell_type": "markdown",
   "metadata": {},
   "source": [
    "결측치 없애주기"
   ]
  },
  {
   "cell_type": "code",
   "execution_count": 743,
   "metadata": {},
   "outputs": [],
   "source": [
    "nan_index_ls = new_df[new_df['length_refer'] == 1].index.tolist()\n",
    "#nan_index_ls 는 결측치가 있는 데이터 로우이므로 없애줘야 한다."
   ]
  },
  {
   "cell_type": "code",
   "execution_count": 744,
   "metadata": {},
   "outputs": [
    {
     "data": {
      "text/plain": [
       "(242, 4)"
      ]
     },
     "execution_count": 744,
     "metadata": {},
     "output_type": "execute_result"
    }
   ],
   "source": [
    "new_df.loc[nan_index_ls].shape"
   ]
  },
  {
   "cell_type": "markdown",
   "metadata": {},
   "source": [
    "process_df 는 결측치 242개를 제외한 나머지 데이터프레임이다."
   ]
  },
  {
   "cell_type": "code",
   "execution_count": 745,
   "metadata": {},
   "outputs": [
    {
     "data": {
      "text/html": [
       "<div>\n",
       "<style>\n",
       "    .dataframe thead tr:only-child th {\n",
       "        text-align: right;\n",
       "    }\n",
       "\n",
       "    .dataframe thead th {\n",
       "        text-align: left;\n",
       "    }\n",
       "\n",
       "    .dataframe tbody tr th {\n",
       "        vertical-align: top;\n",
       "    }\n",
       "</style>\n",
       "<table border=\"1\" class=\"dataframe\">\n",
       "  <thead>\n",
       "    <tr style=\"text-align: right;\">\n",
       "      <th></th>\n",
       "      <th>infor</th>\n",
       "      <th>refer</th>\n",
       "      <th>tuned_refer</th>\n",
       "      <th>length_refer</th>\n",
       "    </tr>\n",
       "  </thead>\n",
       "  <tbody>\n",
       "    <tr>\n",
       "      <th>37242</th>\n",
       "      <td>Corporate Diversification, Relatedness, and Fi...</td>\n",
       "      <td>40. [기타자료] - Villalonga, Belen / 1999 / Does D...</td>\n",
       "      <td>[40. [기타자료],  Villalonga, Belen, 1999, Does Di...</td>\n",
       "      <td>4</td>\n",
       "    </tr>\n",
       "    <tr>\n",
       "      <th>37243</th>\n",
       "      <td>Corporate Diversification, Relatedness, and Fi...</td>\n",
       "      <td>41. [학술지(정기간행물)] - Villalonga, Belen / 2004 / ...</td>\n",
       "      <td>[41. [학술지(정기간행물)],  Villalonga, Belen, 2004, D...</td>\n",
       "      <td>5</td>\n",
       "    </tr>\n",
       "    <tr>\n",
       "      <th>37244</th>\n",
       "      <td>Corporate Diversification, Relatedness, and Fi...</td>\n",
       "      <td>42. [학술지(정기간행물)] - Villalonga, Belen / 2004 / ...</td>\n",
       "      <td>[42. [학술지(정기간행물)],  Villalonga, Belen, 2004, D...</td>\n",
       "      <td>5</td>\n",
       "    </tr>\n",
       "    <tr>\n",
       "      <th>37245</th>\n",
       "      <td>Corporate Diversification, Relatedness, and Fi...</td>\n",
       "      <td>43. [학술지(정기간행물)] - Weston, J. F / 1970 / The N...</td>\n",
       "      <td>[43. [학술지(정기간행물)],  Weston, J. F, 1970, The Na...</td>\n",
       "      <td>5</td>\n",
       "    </tr>\n",
       "    <tr>\n",
       "      <th>37246</th>\n",
       "      <td>Corporate Diversification, Relatedness, and Fi...</td>\n",
       "      <td>44. [학술지(정기간행물)] - Whited, Toni M / 2001 / Is ...</td>\n",
       "      <td>[44. [학술지(정기간행물)],  Whited, Toni M, 2001, Is I...</td>\n",
       "      <td>5</td>\n",
       "    </tr>\n",
       "  </tbody>\n",
       "</table>\n",
       "</div>"
      ],
      "text/plain": [
       "                                                   infor  \\\n",
       "37242  Corporate Diversification, Relatedness, and Fi...   \n",
       "37243  Corporate Diversification, Relatedness, and Fi...   \n",
       "37244  Corporate Diversification, Relatedness, and Fi...   \n",
       "37245  Corporate Diversification, Relatedness, and Fi...   \n",
       "37246  Corporate Diversification, Relatedness, and Fi...   \n",
       "\n",
       "                                                   refer  \\\n",
       "37242  40. [기타자료] - Villalonga, Belen / 1999 / Does D...   \n",
       "37243  41. [학술지(정기간행물)] - Villalonga, Belen / 2004 / ...   \n",
       "37244  42. [학술지(정기간행물)] - Villalonga, Belen / 2004 / ...   \n",
       "37245  43. [학술지(정기간행물)] - Weston, J. F / 1970 / The N...   \n",
       "37246  44. [학술지(정기간행물)] - Whited, Toni M / 2001 / Is ...   \n",
       "\n",
       "                                             tuned_refer  length_refer  \n",
       "37242  [40. [기타자료],  Villalonga, Belen, 1999, Does Di...             4  \n",
       "37243  [41. [학술지(정기간행물)],  Villalonga, Belen, 2004, D...             5  \n",
       "37244  [42. [학술지(정기간행물)],  Villalonga, Belen, 2004, D...             5  \n",
       "37245  [43. [학술지(정기간행물)],  Weston, J. F, 1970, The Na...             5  \n",
       "37246  [44. [학술지(정기간행물)],  Whited, Toni M, 2001, Is I...             5  "
      ]
     },
     "execution_count": 745,
     "metadata": {},
     "output_type": "execute_result"
    }
   ],
   "source": [
    "process_df = new_df.loc[sorted(list(set(new_df.index).difference(set(nan_index_ls))))]\n",
    "process_df.tail()"
   ]
  },
  {
   "cell_type": "markdown",
   "metadata": {},
   "source": [
    "길이에 따라 나눠주기"
   ]
  },
  {
   "cell_type": "code",
   "execution_count": 746,
   "metadata": {},
   "outputs": [],
   "source": [
    "len_5_df = process_df[process_df['length_refer'] == 5].reset_index(drop=True)\n",
    "len_6_df = process_df[process_df['length_refer'] == 6].reset_index(drop=True) # 모두다 학위논문만 있는 데이터 프레임"
   ]
  },
  {
   "cell_type": "markdown",
   "metadata": {},
   "source": [
    "길이가 5개인 데이터 프레임 처리하기"
   ]
  },
  {
   "cell_type": "code",
   "execution_count": 748,
   "metadata": {},
   "outputs": [
    {
     "data": {
      "text/plain": [
       "14"
      ]
     },
     "execution_count": 748,
     "metadata": {},
     "output_type": "execute_result"
    }
   ],
   "source": [
    "len_5_no_name_index_ls = [idx for idx,val in enumerate(len_5_df['tuned_refer']) if not val[1] ]\n",
    "len(len_5_no_name_index_ls)\n",
    "# 길이가 5인 참고문헌에서 이름이 없는 경우를 제외시킨다.\n",
    "# 14는 기타자료의 11 , 단행본의 2 , 학술지의 1이 포함된다."
   ]
  },
  {
   "cell_type": "code",
   "execution_count": 749,
   "metadata": {},
   "outputs": [
    {
     "data": {
      "text/plain": [
       "5"
      ]
     },
     "execution_count": 749,
     "metadata": {},
     "output_type": "execute_result"
    }
   ],
   "source": [
    "len_5_학위논문_index_ls = [idx for idx,val in enumerate(len_5_df['tuned_refer']) if '학위논문' in val[0]]\n",
    "len(len_5_학위논문_index_ls)\n",
    "# 위에서 길이가 5인 참고문헌에서 논문의 특성인 학위 논문일 경우의 5개를 제외한다고 했으므로 적용시킨다."
   ]
  },
  {
   "cell_type": "markdown",
   "metadata": {},
   "source": [
    "아래의 식으로 process_df 는 우선 결측치가 없고 길이가 5인 논문에서 이름이 없는 것을 제외하였으며, 학위논문 5개를 제외한\n",
    "데이터 프레임이 된다."
   ]
  },
  {
   "cell_type": "code",
   "execution_count": 751,
   "metadata": {},
   "outputs": [
    {
     "name": "stdout",
     "output_type": "stream",
     "text": [
      "19\n",
      "True\n"
     ]
    }
   ],
   "source": [
    "print(len(list(set(len_5_no_name_index_ls).union(len_5_학위논문_index_ls))))\n",
    "exception_set = set(len_5_no_name_index_ls).union(len_5_학위논문_index_ls)\n",
    "print(len(len_5_df) - len(exception_set) == len(set(len_5_df.index).difference(exception_set)))"
   ]
  },
  {
   "cell_type": "code",
   "execution_count": 753,
   "metadata": {},
   "outputs": [
    {
     "data": {
      "text/plain": [
       "(28821, 4)"
      ]
     },
     "execution_count": 753,
     "metadata": {},
     "output_type": "execute_result"
    }
   ],
   "source": [
    "tuned_len_5_df = len_5_df.loc[sorted(list(set(len_5_df.index).difference(exception_set)))]\n",
    "tuned_len_5_df.shape"
   ]
  },
  {
   "cell_type": "markdown",
   "metadata": {},
   "source": [
    "# 길이가 5개인 데이터 프레임을 특성에 따라 분류하기"
   ]
  },
  {
   "cell_type": "code",
   "execution_count": 763,
   "metadata": {},
   "outputs": [
    {
     "data": {
      "text/plain": [
       "[['1. [학술지(정기간행물)]',\n",
       "  ' 고봉찬',\n",
       "  '2007',\n",
       "  '발생액 이상현상에 대한 위험평가',\n",
       "  'Asia-Pacific Journal of Financial Studies 36 (3) : 425 ~ 461,'],\n",
       " ['2. [학술지(정기간행물)]',\n",
       "  ' 손병철',\n",
       "  '2005',\n",
       "  '발생액의 효율적 평가에 영향을 미치는 요인',\n",
       "  '회계학연구 30 (1) : 59 ~ 91,'],\n",
       " ['3. [학술지(정기간행물)]',\n",
       "  ' Amihud, Yakov',\n",
       "  '2002',\n",
       "  'Illiquidity and Stock Returns: Cross-Section and Time- Series Effects',\n",
       "  'Journal of Financial Markets 5 (1) : 31 ~ 56,']]"
      ]
     },
     "execution_count": 763,
     "metadata": {},
     "output_type": "execute_result"
    }
   ],
   "source": [
    "tuned_len_5_df['tuned_refer'].tolist()[:3]"
   ]
  },
  {
   "cell_type": "code",
   "execution_count": 760,
   "metadata": {},
   "outputs": [
    {
     "data": {
      "text/plain": [
       "['[학술지(정기간행물)]',\n",
       " '[학술지(정기간행물)]',\n",
       " '[학술지(정기간행물)]',\n",
       " '[학술지(정기간행물)]',\n",
       " '[학술지(정기간행물)]',\n",
       " '[학술지(정기간행물)]',\n",
       " '[학술지(정기간행물)]',\n",
       " '[학술지(정기간행물)]',\n",
       " '[학술지(정기간행물)]',\n",
       " '[학술지(정기간행물)]']"
      ]
     },
     "execution_count": 760,
     "metadata": {},
     "output_type": "execute_result"
    }
   ],
   "source": [
    "char_ls = [re.findall('\\[.+\\]',i[0])[0] for i in tuned_len_5_df['tuned_refer']]\n",
    "char_ls[:10]"
   ]
  },
  {
   "cell_type": "code",
   "execution_count": 770,
   "metadata": {},
   "outputs": [
    {
     "data": {
      "text/plain": [
       "[' 고봉찬',\n",
       " ' 손병철',\n",
       " ' Amihud, Yakov',\n",
       " ' Ball, Ray, S',\n",
       " ' Basu, Sudipta',\n",
       " ' Bhardwaj, Ravinder K',\n",
       " ' Bhushan, Ravi',\n",
       " ' Collins, Daniel W',\n",
       " ' Daniel, Kent',\n",
       " ' DeBondt, Werner F. M']"
      ]
     },
     "execution_count": 770,
     "metadata": {},
     "output_type": "execute_result"
    }
   ],
   "source": [
    "name_ls = [i[1] for i in tuned_len_5_df['tuned_refer']]\n",
    "name_ls[:10]"
   ]
  },
  {
   "cell_type": "code",
   "execution_count": 773,
   "metadata": {},
   "outputs": [
    {
     "data": {
      "text/plain": [
       "['2007',\n",
       " '2005',\n",
       " '2002',\n",
       " '1995',\n",
       " '2004',\n",
       " '1992',\n",
       " '1994',\n",
       " '2000',\n",
       " '1997',\n",
       " '1995']"
      ]
     },
     "execution_count": 773,
     "metadata": {},
     "output_type": "execute_result"
    }
   ],
   "source": [
    "year_ls = [i[2] for i in tuned_len_5_df['tuned_refer']]\n",
    "year_ls[:10]"
   ]
  },
  {
   "cell_type": "code",
   "execution_count": 777,
   "metadata": {},
   "outputs": [
    {
     "data": {
      "text/plain": [
       "['발생액 이상현상에 대한 위험평가',\n",
       " '발생액의 효율적 평가에 영향을 미치는 요인',\n",
       " 'Illiquidity and Stock Returns: Cross-Section and Time- Series Effects',\n",
       " 'Problems in Measuring Portfolio Performance: An Application to Contrarian Investment Strategies',\n",
       " 'What Do We Learn from Two New Accounting-Based Stock Market Anomalies?',\n",
       " 'The January Anomaly: Effects of Low Share Price, Transaction Costs and Bid-Asked Bias',\n",
       " 'An Informational Efficiency Perspective on the Post- Earnings Announcement Drift',\n",
       " 'Earnings-Based and Accrual-Based Market Anomalies: One Effect or Two?',\n",
       " 'Measuring Mutual Fund Performance with Characteristic-Based Benchmarks',\n",
       " 'Does the Stock Market Overreact?']"
      ]
     },
     "execution_count": 777,
     "metadata": {},
     "output_type": "execute_result"
    }
   ],
   "source": [
    "paper_name_ls = [i[3] for i in tuned_len_5_df['tuned_refer']]\n",
    "paper_name_ls[:10]"
   ]
  },
  {
   "cell_type": "code",
   "execution_count": 779,
   "metadata": {},
   "outputs": [
    {
     "data": {
      "text/plain": [
       "['Asia-Pacific Journal of Financial Studies 36 (3) : 425 ~ 461,',\n",
       " '회계학연구 30 (1) : 59 ~ 91,',\n",
       " 'Journal of Financial Markets 5 (1) : 31 ~ 56,',\n",
       " 'Journal of Financial Economics 38 (1) : 79 ~ 107,',\n",
       " 'Journal of Accounting and Economics 38 (1) : 333 ~ 348,',\n",
       " 'Journal of Finance 47 (2) : 552 ~ 576,',\n",
       " 'Journal of Accounting and Economics 18 (1) : 45 ~ 66,',\n",
       " 'Journal of Accounting and Economics 29 (1) : 101 ~ 123,',\n",
       " 'Journal of Finance 52 (3) : 1035 ~ 1058,',\n",
       " 'Journal of Finance 40 (3) : 793 ~ 805,']"
      ]
     },
     "execution_count": 779,
     "metadata": {},
     "output_type": "execute_result"
    }
   ],
   "source": [
    "journal_ls = [i[4] for i in tuned_len_5_df['tuned_refer']]\n",
    "journal_ls[:10]"
   ]
  },
  {
   "cell_type": "code",
   "execution_count": 780,
   "metadata": {},
   "outputs": [
    {
     "data": {
      "text/html": [
       "<div>\n",
       "<style>\n",
       "    .dataframe thead tr:only-child th {\n",
       "        text-align: right;\n",
       "    }\n",
       "\n",
       "    .dataframe thead th {\n",
       "        text-align: left;\n",
       "    }\n",
       "\n",
       "    .dataframe tbody tr th {\n",
       "        vertical-align: top;\n",
       "    }\n",
       "</style>\n",
       "<table border=\"1\" class=\"dataframe\">\n",
       "  <thead>\n",
       "    <tr style=\"text-align: right;\">\n",
       "      <th></th>\n",
       "      <th>char</th>\n",
       "      <th>name</th>\n",
       "      <th>year</th>\n",
       "      <th>paper_name</th>\n",
       "      <th>journal</th>\n",
       "    </tr>\n",
       "  </thead>\n",
       "  <tbody>\n",
       "    <tr>\n",
       "      <th>0</th>\n",
       "      <td>[학술지(정기간행물)]</td>\n",
       "      <td>고봉찬</td>\n",
       "      <td>2007</td>\n",
       "      <td>발생액 이상현상에 대한 위험평가</td>\n",
       "      <td>Asia-Pacific Journal of Financial Studies 36 (...</td>\n",
       "    </tr>\n",
       "    <tr>\n",
       "      <th>1</th>\n",
       "      <td>[학술지(정기간행물)]</td>\n",
       "      <td>손병철</td>\n",
       "      <td>2005</td>\n",
       "      <td>발생액의 효율적 평가에 영향을 미치는 요인</td>\n",
       "      <td>회계학연구 30 (1) : 59 ~ 91,</td>\n",
       "    </tr>\n",
       "    <tr>\n",
       "      <th>2</th>\n",
       "      <td>[학술지(정기간행물)]</td>\n",
       "      <td>Amihud, Yakov</td>\n",
       "      <td>2002</td>\n",
       "      <td>Illiquidity and Stock Returns: Cross-Section a...</td>\n",
       "      <td>Journal of Financial Markets 5 (1) : 31 ~ 56,</td>\n",
       "    </tr>\n",
       "    <tr>\n",
       "      <th>3</th>\n",
       "      <td>[학술지(정기간행물)]</td>\n",
       "      <td>Ball, Ray, S</td>\n",
       "      <td>1995</td>\n",
       "      <td>Problems in Measuring Portfolio Performance: A...</td>\n",
       "      <td>Journal of Financial Economics 38 (1) : 79 ~ 107,</td>\n",
       "    </tr>\n",
       "    <tr>\n",
       "      <th>4</th>\n",
       "      <td>[학술지(정기간행물)]</td>\n",
       "      <td>Basu, Sudipta</td>\n",
       "      <td>2004</td>\n",
       "      <td>What Do We Learn from Two New Accounting-Based...</td>\n",
       "      <td>Journal of Accounting and Economics 38 (1) : 3...</td>\n",
       "    </tr>\n",
       "    <tr>\n",
       "      <th>5</th>\n",
       "      <td>[학술지(정기간행물)]</td>\n",
       "      <td>Bhardwaj, Ravinder K</td>\n",
       "      <td>1992</td>\n",
       "      <td>The January Anomaly: Effects of Low Share Pric...</td>\n",
       "      <td>Journal of Finance 47 (2) : 552 ~ 576,</td>\n",
       "    </tr>\n",
       "    <tr>\n",
       "      <th>6</th>\n",
       "      <td>[학술지(정기간행물)]</td>\n",
       "      <td>Bhushan, Ravi</td>\n",
       "      <td>1994</td>\n",
       "      <td>An Informational Efficiency Perspective on the...</td>\n",
       "      <td>Journal of Accounting and Economics 18 (1) : 4...</td>\n",
       "    </tr>\n",
       "    <tr>\n",
       "      <th>7</th>\n",
       "      <td>[학술지(정기간행물)]</td>\n",
       "      <td>Collins, Daniel W</td>\n",
       "      <td>2000</td>\n",
       "      <td>Earnings-Based and Accrual-Based Market Anomal...</td>\n",
       "      <td>Journal of Accounting and Economics 29 (1) : 1...</td>\n",
       "    </tr>\n",
       "    <tr>\n",
       "      <th>8</th>\n",
       "      <td>[학술지(정기간행물)]</td>\n",
       "      <td>Daniel, Kent</td>\n",
       "      <td>1997</td>\n",
       "      <td>Measuring Mutual Fund Performance with Charact...</td>\n",
       "      <td>Journal of Finance 52 (3) : 1035 ~ 1058,</td>\n",
       "    </tr>\n",
       "    <tr>\n",
       "      <th>9</th>\n",
       "      <td>[학술지(정기간행물)]</td>\n",
       "      <td>DeBondt, Werner F. M</td>\n",
       "      <td>1995</td>\n",
       "      <td>Does the Stock Market Overreact?</td>\n",
       "      <td>Journal of Finance 40 (3) : 793 ~ 805,</td>\n",
       "    </tr>\n",
       "    <tr>\n",
       "      <th>10</th>\n",
       "      <td>[학술지(정기간행물)]</td>\n",
       "      <td>Desai, Hemang</td>\n",
       "      <td>2004</td>\n",
       "      <td>Value- Glamour and Accruals Mispricing: One An...</td>\n",
       "      <td>Accounting Review 79 (2) : 355 ~ 386,</td>\n",
       "    </tr>\n",
       "    <tr>\n",
       "      <th>11</th>\n",
       "      <td>[학술지(정기간행물)]</td>\n",
       "      <td>Fairfield, Patricia M</td>\n",
       "      <td>2003</td>\n",
       "      <td>Accrued Earnings and Growth: Implications for ...</td>\n",
       "      <td>Accounting Review 78 (1) : 353 ~ 371,</td>\n",
       "    </tr>\n",
       "    <tr>\n",
       "      <th>12</th>\n",
       "      <td>[학술지(정기간행물)]</td>\n",
       "      <td>Fama, Eugene F</td>\n",
       "      <td>1973</td>\n",
       "      <td>Risk, Return and Equilibrium: Empirical Tests</td>\n",
       "      <td>Journal of Political Economy 81 (3) : 607 ~ 636,</td>\n",
       "    </tr>\n",
       "    <tr>\n",
       "      <th>13</th>\n",
       "      <td>[학술지(정기간행물)]</td>\n",
       "      <td>Fama, Eugene F</td>\n",
       "      <td>1993</td>\n",
       "      <td>Common Risk Factors in the Returns on Stocks a...</td>\n",
       "      <td>Journal of Financial Economics 33 (1) : 3 ~ 56,</td>\n",
       "    </tr>\n",
       "    <tr>\n",
       "      <th>14</th>\n",
       "      <td>[기타자료]</td>\n",
       "      <td>Hardouvelis, Gikas</td>\n",
       "      <td>2008</td>\n",
       "      <td>Accruals, Net Stock Issues and Value-Glamour A...</td>\n",
       "      <td>EFA 2008 Athens Meetings Paper,</td>\n",
       "    </tr>\n",
       "    <tr>\n",
       "      <th>15</th>\n",
       "      <td>[학술지(정기간행물)]</td>\n",
       "      <td>Hirshleifer, David</td>\n",
       "      <td>2004</td>\n",
       "      <td>Do Investors Overvalue Firms with Bloated Bala...</td>\n",
       "      <td>Journal of Accounting and Economics 38 : 297 ~...</td>\n",
       "    </tr>\n",
       "    <tr>\n",
       "      <th>16</th>\n",
       "      <td>[기타자료]</td>\n",
       "      <td>Hirshleifer</td>\n",
       "      <td>2006</td>\n",
       "      <td>The Accrual Anomaly: Risk or Mispricing?</td>\n",
       "      <td>Working Paper, Ohio State University,</td>\n",
       "    </tr>\n",
       "    <tr>\n",
       "      <th>17</th>\n",
       "      <td>[학술지(정기간행물)]</td>\n",
       "      <td>Hribar, Paul</td>\n",
       "      <td>2002</td>\n",
       "      <td>Errors in Estimating Accruals: Implications fo...</td>\n",
       "      <td>Journal of Accounting Research 40 (1) : 105 ~ ...</td>\n",
       "    </tr>\n",
       "    <tr>\n",
       "      <th>18</th>\n",
       "      <td>[기타자료]</td>\n",
       "      <td>Khan, Mozaffar</td>\n",
       "      <td>2005</td>\n",
       "      <td>Are Accruals Really Mispriced? Evidence from T...</td>\n",
       "      <td>Working Paper, MIT,</td>\n",
       "    </tr>\n",
       "    <tr>\n",
       "      <th>19</th>\n",
       "      <td>[학술지(정기간행물)]</td>\n",
       "      <td>Mashruwala, Christina</td>\n",
       "      <td>2006</td>\n",
       "      <td>Why is the Accrual Anomaly not Arbitraged away...</td>\n",
       "      <td>Journal of Accounting and Economics 42 : 3 ~ 33,</td>\n",
       "    </tr>\n",
       "    <tr>\n",
       "      <th>20</th>\n",
       "      <td>[학술지(정기간행물)]</td>\n",
       "      <td>Newey, Whitney K</td>\n",
       "      <td>1987</td>\n",
       "      <td>A Simple, Positive Semi-Definite,Heteroskedast...</td>\n",
       "      <td>Econometrica 55 (3) : 703 ~ 708,</td>\n",
       "    </tr>\n",
       "    <tr>\n",
       "      <th>21</th>\n",
       "      <td>[기타자료]</td>\n",
       "      <td>Ng, Jeffrey</td>\n",
       "      <td>2004</td>\n",
       "      <td>Distress Risk Information in Accruals</td>\n",
       "      <td>Working Paper, Wharton School,</td>\n",
       "    </tr>\n",
       "    <tr>\n",
       "      <th>22</th>\n",
       "      <td>[학술지(정기간행물)]</td>\n",
       "      <td>Pincus, Morton</td>\n",
       "      <td>1996</td>\n",
       "      <td>The Accrual Anomaly: International Evidence, W...</td>\n",
       "      <td>The Quarterly Journal of Economics 111 (4) : 1...</td>\n",
       "    </tr>\n",
       "    <tr>\n",
       "      <th>23</th>\n",
       "      <td>[학술지(정기간행물)]</td>\n",
       "      <td>Sloan, Richard G</td>\n",
       "      <td>1996</td>\n",
       "      <td>Do Stock Prices Fully Reflect Information in A...</td>\n",
       "      <td>Accounting Review 71 (3) : 289 ~ 315,</td>\n",
       "    </tr>\n",
       "    <tr>\n",
       "      <th>24</th>\n",
       "      <td>[학술지(정기간행물)]</td>\n",
       "      <td>Thomas, Jacob K</td>\n",
       "      <td>2002</td>\n",
       "      <td>Inventory Changes and Future Returns</td>\n",
       "      <td>Review of Accounting Studies 7 (2) : 163 ~ 187,</td>\n",
       "    </tr>\n",
       "    <tr>\n",
       "      <th>25</th>\n",
       "      <td>[학술지(정기간행물)]</td>\n",
       "      <td>Wurgler, Jeffrey</td>\n",
       "      <td>2002</td>\n",
       "      <td>Does Arbitrage Flatten Demand Curves for Stocks?</td>\n",
       "      <td>Journal of Business 75 (4) : 583 ~ 608,</td>\n",
       "    </tr>\n",
       "    <tr>\n",
       "      <th>26</th>\n",
       "      <td>[학술지(정기간행물)]</td>\n",
       "      <td>Xie, Hong</td>\n",
       "      <td>2001</td>\n",
       "      <td>The Mispricing of Abnormal Accruals</td>\n",
       "      <td>Accounting Review 76 (3) : 357 ~ 373,</td>\n",
       "    </tr>\n",
       "    <tr>\n",
       "      <th>27</th>\n",
       "      <td>[기타자료]</td>\n",
       "      <td>Zach, Tzachi</td>\n",
       "      <td>2004</td>\n",
       "      <td>Evaluating the ‘Accrual-fixation’ Hypothesis a...</td>\n",
       "      <td>Working Paper, Washington University,</td>\n",
       "    </tr>\n",
       "    <tr>\n",
       "      <th>28</th>\n",
       "      <td>[기타자료]</td>\n",
       "      <td>Zhang, Frank X.</td>\n",
       "      <td>2006</td>\n",
       "      <td>Accruals, Investment, and the Accrual Anomaly</td>\n",
       "      <td>Working Paper, Yale School of Management,</td>\n",
       "    </tr>\n",
       "    <tr>\n",
       "      <th>29</th>\n",
       "      <td>[기타자료]</td>\n",
       "      <td>Zhang, Yinglei</td>\n",
       "      <td>2005</td>\n",
       "      <td>Net Operating Assets as Predictor of Future St...</td>\n",
       "      <td>Working Paper, Ohio State University</td>\n",
       "    </tr>\n",
       "    <tr>\n",
       "      <th>...</th>\n",
       "      <td>...</td>\n",
       "      <td>...</td>\n",
       "      <td>...</td>\n",
       "      <td>...</td>\n",
       "      <td>...</td>\n",
       "    </tr>\n",
       "    <tr>\n",
       "      <th>28791</th>\n",
       "      <td>[학술지(정기간행물)]</td>\n",
       "      <td>Fan, Joseph P. H</td>\n",
       "      <td>2000</td>\n",
       "      <td>The Measurement of Relatedness: An Application...</td>\n",
       "      <td>Journal of Business 73 : 629 ~ 660,</td>\n",
       "    </tr>\n",
       "    <tr>\n",
       "      <th>28792</th>\n",
       "      <td>[학술지(정기간행물)]</td>\n",
       "      <td>Fauver, Larry</td>\n",
       "      <td>2003</td>\n",
       "      <td>Capital Market Development, International Inte...</td>\n",
       "      <td>Journal of Financial and Quantitative Analysis...</td>\n",
       "    </tr>\n",
       "    <tr>\n",
       "      <th>28793</th>\n",
       "      <td>[학술지(정기간행물)]</td>\n",
       "      <td>Ferris, Steven</td>\n",
       "      <td>2003</td>\n",
       "      <td>The Costs (and Benefits) of Diversified Busine...</td>\n",
       "      <td>Journal of Banking and Finance 27 : 251 ~ 273,</td>\n",
       "    </tr>\n",
       "    <tr>\n",
       "      <th>28794</th>\n",
       "      <td>[학술지(정기간행물)]</td>\n",
       "      <td>Gomes, Joao</td>\n",
       "      <td>2004</td>\n",
       "      <td>Optimal Diversification: Reconciling Theory an...</td>\n",
       "      <td>Journal of Finance 59 : 507 ~ 535,</td>\n",
       "    </tr>\n",
       "    <tr>\n",
       "      <th>28795</th>\n",
       "      <td>[학술지(정기간행물)]</td>\n",
       "      <td>Graham, John R</td>\n",
       "      <td>2002</td>\n",
       "      <td>Does Corporate Diversification Destroy Value</td>\n",
       "      <td>Journal of Finance 62 : 695 ~ 720,</td>\n",
       "    </tr>\n",
       "    <tr>\n",
       "      <th>28796</th>\n",
       "      <td>[단행본]</td>\n",
       "      <td>Greene, William H</td>\n",
       "      <td>2000</td>\n",
       "      <td>Econometric analysis, 4th edition</td>\n",
       "      <td>Prentice-Hall,</td>\n",
       "    </tr>\n",
       "    <tr>\n",
       "      <th>28797</th>\n",
       "      <td>[학술지(정기간행물)]</td>\n",
       "      <td>Harris, Milton</td>\n",
       "      <td>1982</td>\n",
       "      <td>Asymmetric Information, Incentives and Intrafi...</td>\n",
       "      <td>Management Science 28 : 604 ~ 620,</td>\n",
       "    </tr>\n",
       "    <tr>\n",
       "      <th>28798</th>\n",
       "      <td>[학술지(정기간행물)]</td>\n",
       "      <td>Hoshi, Takeo</td>\n",
       "      <td>1991</td>\n",
       "      <td>Corporate Structure, Liquidity, and Investment...</td>\n",
       "      <td>Quarterly Journal of Economics 106 : 33 ~ 60,</td>\n",
       "    </tr>\n",
       "    <tr>\n",
       "      <th>28799</th>\n",
       "      <td>[학술지(정기간행물)]</td>\n",
       "      <td>Jensen, Michael C</td>\n",
       "      <td>1986</td>\n",
       "      <td>Agency Costs, Free Cash Flow, Corporate Financ...</td>\n",
       "      <td>American Economic Review 76 : 323 ~ 329,</td>\n",
       "    </tr>\n",
       "    <tr>\n",
       "      <th>28800</th>\n",
       "      <td>[학술지(정기간행물)]</td>\n",
       "      <td>Joh, Sung Wook</td>\n",
       "      <td>2003</td>\n",
       "      <td>Corporate Governance and Firm Profitability: E...</td>\n",
       "      <td>Journal of Financial Economics 68 : 287 ~ 322,</td>\n",
       "    </tr>\n",
       "    <tr>\n",
       "      <th>28801</th>\n",
       "      <td>[학술지(정기간행물)]</td>\n",
       "      <td>Khanna, Tarun</td>\n",
       "      <td>2000</td>\n",
       "      <td>Is Group Affiliation Profitable in Emerging Ma...</td>\n",
       "      <td>Journal of Finance 55 : 867 ~ 891,</td>\n",
       "    </tr>\n",
       "    <tr>\n",
       "      <th>28802</th>\n",
       "      <td>[학술지(정기간행물)]</td>\n",
       "      <td>Lang, Larry, H. P</td>\n",
       "      <td>1995</td>\n",
       "      <td>Tobin’s q, Corporate Diversification, and Firm...</td>\n",
       "      <td>Journal of Political Economy 102 : 1248 ~ 1280,</td>\n",
       "    </tr>\n",
       "    <tr>\n",
       "      <th>28803</th>\n",
       "      <td>[학술지(정기간행물)]</td>\n",
       "      <td>Lewellen, Wilbur G</td>\n",
       "      <td>1971</td>\n",
       "      <td>A Pure Financial Rationale for the Conglomerat...</td>\n",
       "      <td>Journal of Finance 26 : 521 ~ 537,</td>\n",
       "    </tr>\n",
       "    <tr>\n",
       "      <th>28804</th>\n",
       "      <td>[학술지(정기간행물)]</td>\n",
       "      <td>Lins, Karl V</td>\n",
       "      <td>1999</td>\n",
       "      <td>International Evidence on the Value of Corpora...</td>\n",
       "      <td>Journal of Finance 54 : 2215- ~ 2239,</td>\n",
       "    </tr>\n",
       "    <tr>\n",
       "      <th>28805</th>\n",
       "      <td>[학술지(정기간행물)]</td>\n",
       "      <td>Lins, Karl V</td>\n",
       "      <td>2002</td>\n",
       "      <td>Is Corporate Diversification Beneficial in Eme...</td>\n",
       "      <td>Financial Management 31 : 5 ~ 31,</td>\n",
       "    </tr>\n",
       "    <tr>\n",
       "      <th>28806</th>\n",
       "      <td>[학술지(정기간행물)]</td>\n",
       "      <td>Mansi, Sattar A</td>\n",
       "      <td>2002</td>\n",
       "      <td>Corporate Diversification: What Gets Discounted</td>\n",
       "      <td>Journal of Finance 59 : 2167 ~ 2183,</td>\n",
       "    </tr>\n",
       "    <tr>\n",
       "      <th>28807</th>\n",
       "      <td>[학술지(정기간행물)]</td>\n",
       "      <td>Markides, Constantinao C</td>\n",
       "      <td>1994</td>\n",
       "      <td>Related Diversification, Core Competences and ...</td>\n",
       "      <td>Strategic Management Journal 15 : 149 ~ 165,</td>\n",
       "    </tr>\n",
       "    <tr>\n",
       "      <th>28808</th>\n",
       "      <td>[학술지(정기간행물)]</td>\n",
       "      <td>Martin, John D</td>\n",
       "      <td>2003</td>\n",
       "      <td>Corporate Diversification and Shareholder Valu...</td>\n",
       "      <td>Journal of Corporate Finance 9 : 37 ~ 57,</td>\n",
       "    </tr>\n",
       "    <tr>\n",
       "      <th>28809</th>\n",
       "      <td>[학술지(정기간행물)]</td>\n",
       "      <td>Meyer, Magaret</td>\n",
       "      <td>1992</td>\n",
       "      <td>Organizational Prospects, Influence Costs, and...</td>\n",
       "      <td>Journal of Economics and Management Strategy 1...</td>\n",
       "    </tr>\n",
       "    <tr>\n",
       "      <th>28810</th>\n",
       "      <td>[학술지(정기간행물)]</td>\n",
       "      <td>Myerson, Roger B</td>\n",
       "      <td>1982</td>\n",
       "      <td>Optimal Coordination Mechanisms in Generalized...</td>\n",
       "      <td>Journal of Mathematical Economics 10 : 67 ~ 81,</td>\n",
       "    </tr>\n",
       "    <tr>\n",
       "      <th>28811</th>\n",
       "      <td>[학술지(정기간행물)]</td>\n",
       "      <td>Nayyar, Praveen R</td>\n",
       "      <td>1993</td>\n",
       "      <td>Stock Market Reactions to Related Diversificat...</td>\n",
       "      <td>Strategic Management Journal 14, : 469 ~ 509,</td>\n",
       "    </tr>\n",
       "    <tr>\n",
       "      <th>28812</th>\n",
       "      <td>[학술지(정기간행물)]</td>\n",
       "      <td>Prowse, Stephen D</td>\n",
       "      <td>1992</td>\n",
       "      <td>The Structure of Corporate Ownership in Japan</td>\n",
       "      <td>Journal of Finance 47 : 1121 ~ 1140,</td>\n",
       "    </tr>\n",
       "    <tr>\n",
       "      <th>28813</th>\n",
       "      <td>[단행본]</td>\n",
       "      <td>Rumelt, Richard P</td>\n",
       "      <td>1974</td>\n",
       "      <td>Strategy, Structure and Economic Performance</td>\n",
       "      <td>Harvard University Press,</td>\n",
       "    </tr>\n",
       "    <tr>\n",
       "      <th>28814</th>\n",
       "      <td>[학술지(정기간행물)]</td>\n",
       "      <td>Servaes, Henri</td>\n",
       "      <td>1996</td>\n",
       "      <td>The Value of Diversification during the Conglo...</td>\n",
       "      <td>Journal of Finance 51 : 1201 ~ 1225,</td>\n",
       "    </tr>\n",
       "    <tr>\n",
       "      <th>28815</th>\n",
       "      <td>[학술지(정기간행물)]</td>\n",
       "      <td>Shin, Hyun-Han</td>\n",
       "      <td>1999</td>\n",
       "      <td>Financing Constraints and International Capita...</td>\n",
       "      <td>Journal of Corporate Finance 5 : 169 ~ 191,</td>\n",
       "    </tr>\n",
       "    <tr>\n",
       "      <th>28816</th>\n",
       "      <td>[학술지(정기간행물)]</td>\n",
       "      <td>Stulz, Ren?M</td>\n",
       "      <td>1990</td>\n",
       "      <td>Managerial Direction and Optimal Financing Pol...</td>\n",
       "      <td>Journal of Financial Economics 26 : 3 ~ 27,</td>\n",
       "    </tr>\n",
       "    <tr>\n",
       "      <th>28817</th>\n",
       "      <td>[학술지(정기간행물)]</td>\n",
       "      <td>Villalonga, Belen</td>\n",
       "      <td>2004</td>\n",
       "      <td>Diversification discount or premium? New Evide...</td>\n",
       "      <td>Journal of Finance 59 : 479 ~ 506,</td>\n",
       "    </tr>\n",
       "    <tr>\n",
       "      <th>28818</th>\n",
       "      <td>[학술지(정기간행물)]</td>\n",
       "      <td>Villalonga, Belen</td>\n",
       "      <td>2004</td>\n",
       "      <td>Does Diversification Cause the Diversification...</td>\n",
       "      <td>Financial Management 33 : 5 ~ 27,</td>\n",
       "    </tr>\n",
       "    <tr>\n",
       "      <th>28819</th>\n",
       "      <td>[학술지(정기간행물)]</td>\n",
       "      <td>Weston, J. F</td>\n",
       "      <td>1970</td>\n",
       "      <td>The Nature and Significance of Conglomerate Firms</td>\n",
       "      <td>St. John’s Review 44 : 66 ~ 80,</td>\n",
       "    </tr>\n",
       "    <tr>\n",
       "      <th>28820</th>\n",
       "      <td>[학술지(정기간행물)]</td>\n",
       "      <td>Whited, Toni M</td>\n",
       "      <td>2001</td>\n",
       "      <td>Is It Inefficient Investment That Causes the D...</td>\n",
       "      <td>Journal of Finance 56 : 1667 ~ 1691</td>\n",
       "    </tr>\n",
       "  </tbody>\n",
       "</table>\n",
       "<p>28821 rows × 5 columns</p>\n",
       "</div>"
      ],
      "text/plain": [
       "               char                       name  year  \\\n",
       "0      [학술지(정기간행물)]                        고봉찬  2007   \n",
       "1      [학술지(정기간행물)]                        손병철  2005   \n",
       "2      [학술지(정기간행물)]              Amihud, Yakov  2002   \n",
       "3      [학술지(정기간행물)]               Ball, Ray, S  1995   \n",
       "4      [학술지(정기간행물)]              Basu, Sudipta  2004   \n",
       "5      [학술지(정기간행물)]       Bhardwaj, Ravinder K  1992   \n",
       "6      [학술지(정기간행물)]              Bhushan, Ravi  1994   \n",
       "7      [학술지(정기간행물)]          Collins, Daniel W  2000   \n",
       "8      [학술지(정기간행물)]               Daniel, Kent  1997   \n",
       "9      [학술지(정기간행물)]       DeBondt, Werner F. M  1995   \n",
       "10     [학술지(정기간행물)]              Desai, Hemang  2004   \n",
       "11     [학술지(정기간행물)]      Fairfield, Patricia M  2003   \n",
       "12     [학술지(정기간행물)]             Fama, Eugene F  1973   \n",
       "13     [학술지(정기간행물)]             Fama, Eugene F  1993   \n",
       "14           [기타자료]         Hardouvelis, Gikas  2008   \n",
       "15     [학술지(정기간행물)]         Hirshleifer, David  2004   \n",
       "16           [기타자료]                Hirshleifer  2006   \n",
       "17     [학술지(정기간행물)]               Hribar, Paul  2002   \n",
       "18           [기타자료]             Khan, Mozaffar  2005   \n",
       "19     [학술지(정기간행물)]      Mashruwala, Christina  2006   \n",
       "20     [학술지(정기간행물)]           Newey, Whitney K  1987   \n",
       "21           [기타자료]                Ng, Jeffrey  2004   \n",
       "22     [학술지(정기간행물)]             Pincus, Morton  1996   \n",
       "23     [학술지(정기간행물)]           Sloan, Richard G  1996   \n",
       "24     [학술지(정기간행물)]            Thomas, Jacob K  2002   \n",
       "25     [학술지(정기간행물)]           Wurgler, Jeffrey  2002   \n",
       "26     [학술지(정기간행물)]                  Xie, Hong  2001   \n",
       "27           [기타자료]               Zach, Tzachi  2004   \n",
       "28           [기타자료]            Zhang, Frank X.  2006   \n",
       "29           [기타자료]             Zhang, Yinglei  2005   \n",
       "...             ...                        ...   ...   \n",
       "28791  [학술지(정기간행물)]           Fan, Joseph P. H  2000   \n",
       "28792  [학술지(정기간행물)]              Fauver, Larry  2003   \n",
       "28793  [학술지(정기간행물)]             Ferris, Steven  2003   \n",
       "28794  [학술지(정기간행물)]                Gomes, Joao  2004   \n",
       "28795  [학술지(정기간행물)]             Graham, John R  2002   \n",
       "28796         [단행본]          Greene, William H  2000   \n",
       "28797  [학술지(정기간행물)]             Harris, Milton  1982   \n",
       "28798  [학술지(정기간행물)]               Hoshi, Takeo  1991   \n",
       "28799  [학술지(정기간행물)]          Jensen, Michael C  1986   \n",
       "28800  [학술지(정기간행물)]             Joh, Sung Wook  2003   \n",
       "28801  [학술지(정기간행물)]              Khanna, Tarun  2000   \n",
       "28802  [학술지(정기간행물)]          Lang, Larry, H. P  1995   \n",
       "28803  [학술지(정기간행물)]         Lewellen, Wilbur G  1971   \n",
       "28804  [학술지(정기간행물)]               Lins, Karl V  1999   \n",
       "28805  [학술지(정기간행물)]               Lins, Karl V  2002   \n",
       "28806  [학술지(정기간행물)]            Mansi, Sattar A  2002   \n",
       "28807  [학술지(정기간행물)]   Markides, Constantinao C  1994   \n",
       "28808  [학술지(정기간행물)]             Martin, John D  2003   \n",
       "28809  [학술지(정기간행물)]             Meyer, Magaret  1992   \n",
       "28810  [학술지(정기간행물)]           Myerson, Roger B  1982   \n",
       "28811  [학술지(정기간행물)]          Nayyar, Praveen R  1993   \n",
       "28812  [학술지(정기간행물)]          Prowse, Stephen D  1992   \n",
       "28813         [단행본]          Rumelt, Richard P  1974   \n",
       "28814  [학술지(정기간행물)]             Servaes, Henri  1996   \n",
       "28815  [학술지(정기간행물)]             Shin, Hyun-Han  1999   \n",
       "28816  [학술지(정기간행물)]               Stulz, Ren?M  1990   \n",
       "28817  [학술지(정기간행물)]          Villalonga, Belen  2004   \n",
       "28818  [학술지(정기간행물)]          Villalonga, Belen  2004   \n",
       "28819  [학술지(정기간행물)]               Weston, J. F  1970   \n",
       "28820  [학술지(정기간행물)]             Whited, Toni M  2001   \n",
       "\n",
       "                                              paper_name  \\\n",
       "0                                      발생액 이상현상에 대한 위험평가   \n",
       "1                                발생액의 효율적 평가에 영향을 미치는 요인   \n",
       "2      Illiquidity and Stock Returns: Cross-Section a...   \n",
       "3      Problems in Measuring Portfolio Performance: A...   \n",
       "4      What Do We Learn from Two New Accounting-Based...   \n",
       "5      The January Anomaly: Effects of Low Share Pric...   \n",
       "6      An Informational Efficiency Perspective on the...   \n",
       "7      Earnings-Based and Accrual-Based Market Anomal...   \n",
       "8      Measuring Mutual Fund Performance with Charact...   \n",
       "9                       Does the Stock Market Overreact?   \n",
       "10     Value- Glamour and Accruals Mispricing: One An...   \n",
       "11     Accrued Earnings and Growth: Implications for ...   \n",
       "12         Risk, Return and Equilibrium: Empirical Tests   \n",
       "13     Common Risk Factors in the Returns on Stocks a...   \n",
       "14     Accruals, Net Stock Issues and Value-Glamour A...   \n",
       "15     Do Investors Overvalue Firms with Bloated Bala...   \n",
       "16              The Accrual Anomaly: Risk or Mispricing?   \n",
       "17     Errors in Estimating Accruals: Implications fo...   \n",
       "18     Are Accruals Really Mispriced? Evidence from T...   \n",
       "19     Why is the Accrual Anomaly not Arbitraged away...   \n",
       "20     A Simple, Positive Semi-Definite,Heteroskedast...   \n",
       "21                 Distress Risk Information in Accruals   \n",
       "22     The Accrual Anomaly: International Evidence, W...   \n",
       "23     Do Stock Prices Fully Reflect Information in A...   \n",
       "24                  Inventory Changes and Future Returns   \n",
       "25      Does Arbitrage Flatten Demand Curves for Stocks?   \n",
       "26                   The Mispricing of Abnormal Accruals   \n",
       "27     Evaluating the ‘Accrual-fixation’ Hypothesis a...   \n",
       "28         Accruals, Investment, and the Accrual Anomaly   \n",
       "29     Net Operating Assets as Predictor of Future St...   \n",
       "...                                                  ...   \n",
       "28791  The Measurement of Relatedness: An Application...   \n",
       "28792  Capital Market Development, International Inte...   \n",
       "28793  The Costs (and Benefits) of Diversified Busine...   \n",
       "28794  Optimal Diversification: Reconciling Theory an...   \n",
       "28795       Does Corporate Diversification Destroy Value   \n",
       "28796                  Econometric analysis, 4th edition   \n",
       "28797  Asymmetric Information, Incentives and Intrafi...   \n",
       "28798  Corporate Structure, Liquidity, and Investment...   \n",
       "28799  Agency Costs, Free Cash Flow, Corporate Financ...   \n",
       "28800  Corporate Governance and Firm Profitability: E...   \n",
       "28801  Is Group Affiliation Profitable in Emerging Ma...   \n",
       "28802  Tobin’s q, Corporate Diversification, and Firm...   \n",
       "28803  A Pure Financial Rationale for the Conglomerat...   \n",
       "28804  International Evidence on the Value of Corpora...   \n",
       "28805  Is Corporate Diversification Beneficial in Eme...   \n",
       "28806    Corporate Diversification: What Gets Discounted   \n",
       "28807  Related Diversification, Core Competences and ...   \n",
       "28808  Corporate Diversification and Shareholder Valu...   \n",
       "28809  Organizational Prospects, Influence Costs, and...   \n",
       "28810  Optimal Coordination Mechanisms in Generalized...   \n",
       "28811  Stock Market Reactions to Related Diversificat...   \n",
       "28812      The Structure of Corporate Ownership in Japan   \n",
       "28813       Strategy, Structure and Economic Performance   \n",
       "28814  The Value of Diversification during the Conglo...   \n",
       "28815  Financing Constraints and International Capita...   \n",
       "28816  Managerial Direction and Optimal Financing Pol...   \n",
       "28817  Diversification discount or premium? New Evide...   \n",
       "28818  Does Diversification Cause the Diversification...   \n",
       "28819  The Nature and Significance of Conglomerate Firms   \n",
       "28820  Is It Inefficient Investment That Causes the D...   \n",
       "\n",
       "                                                 journal  \n",
       "0      Asia-Pacific Journal of Financial Studies 36 (...  \n",
       "1                                회계학연구 30 (1) : 59 ~ 91,  \n",
       "2          Journal of Financial Markets 5 (1) : 31 ~ 56,  \n",
       "3      Journal of Financial Economics 38 (1) : 79 ~ 107,  \n",
       "4      Journal of Accounting and Economics 38 (1) : 3...  \n",
       "5                 Journal of Finance 47 (2) : 552 ~ 576,  \n",
       "6      Journal of Accounting and Economics 18 (1) : 4...  \n",
       "7      Journal of Accounting and Economics 29 (1) : 1...  \n",
       "8               Journal of Finance 52 (3) : 1035 ~ 1058,  \n",
       "9                 Journal of Finance 40 (3) : 793 ~ 805,  \n",
       "10                 Accounting Review 79 (2) : 355 ~ 386,  \n",
       "11                 Accounting Review 78 (1) : 353 ~ 371,  \n",
       "12      Journal of Political Economy 81 (3) : 607 ~ 636,  \n",
       "13       Journal of Financial Economics 33 (1) : 3 ~ 56,  \n",
       "14                       EFA 2008 Athens Meetings Paper,  \n",
       "15     Journal of Accounting and Economics 38 : 297 ~...  \n",
       "16                 Working Paper, Ohio State University,  \n",
       "17     Journal of Accounting Research 40 (1) : 105 ~ ...  \n",
       "18                                   Working Paper, MIT,  \n",
       "19      Journal of Accounting and Economics 42 : 3 ~ 33,  \n",
       "20                      Econometrica 55 (3) : 703 ~ 708,  \n",
       "21                        Working Paper, Wharton School,  \n",
       "22     The Quarterly Journal of Economics 111 (4) : 1...  \n",
       "23                 Accounting Review 71 (3) : 289 ~ 315,  \n",
       "24       Review of Accounting Studies 7 (2) : 163 ~ 187,  \n",
       "25               Journal of Business 75 (4) : 583 ~ 608,  \n",
       "26                 Accounting Review 76 (3) : 357 ~ 373,  \n",
       "27                 Working Paper, Washington University,  \n",
       "28             Working Paper, Yale School of Management,  \n",
       "29                  Working Paper, Ohio State University  \n",
       "...                                                  ...  \n",
       "28791                Journal of Business 73 : 629 ~ 660,  \n",
       "28792  Journal of Financial and Quantitative Analysis...  \n",
       "28793     Journal of Banking and Finance 27 : 251 ~ 273,  \n",
       "28794                 Journal of Finance 59 : 507 ~ 535,  \n",
       "28795                 Journal of Finance 62 : 695 ~ 720,  \n",
       "28796                                     Prentice-Hall,  \n",
       "28797                 Management Science 28 : 604 ~ 620,  \n",
       "28798      Quarterly Journal of Economics 106 : 33 ~ 60,  \n",
       "28799           American Economic Review 76 : 323 ~ 329,  \n",
       "28800     Journal of Financial Economics 68 : 287 ~ 322,  \n",
       "28801                 Journal of Finance 55 : 867 ~ 891,  \n",
       "28802    Journal of Political Economy 102 : 1248 ~ 1280,  \n",
       "28803                 Journal of Finance 26 : 521 ~ 537,  \n",
       "28804              Journal of Finance 54 : 2215- ~ 2239,  \n",
       "28805                  Financial Management 31 : 5 ~ 31,  \n",
       "28806               Journal of Finance 59 : 2167 ~ 2183,  \n",
       "28807       Strategic Management Journal 15 : 149 ~ 165,  \n",
       "28808          Journal of Corporate Finance 9 : 37 ~ 57,  \n",
       "28809  Journal of Economics and Management Strategy 1...  \n",
       "28810    Journal of Mathematical Economics 10 : 67 ~ 81,  \n",
       "28811      Strategic Management Journal 14, : 469 ~ 509,  \n",
       "28812               Journal of Finance 47 : 1121 ~ 1140,  \n",
       "28813                          Harvard University Press,  \n",
       "28814               Journal of Finance 51 : 1201 ~ 1225,  \n",
       "28815        Journal of Corporate Finance 5 : 169 ~ 191,  \n",
       "28816        Journal of Financial Economics 26 : 3 ~ 27,  \n",
       "28817                 Journal of Finance 59 : 479 ~ 506,  \n",
       "28818                  Financial Management 33 : 5 ~ 27,  \n",
       "28819                    St. John’s Review 44 : 66 ~ 80,  \n",
       "28820                Journal of Finance 56 : 1667 ~ 1691  \n",
       "\n",
       "[28821 rows x 5 columns]"
      ]
     },
     "execution_count": 780,
     "metadata": {},
     "output_type": "execute_result"
    }
   ],
   "source": [
    "len_5_final_df = pd.DataFrame()\n",
    "len_5_final_df['char'] = char_ls\n",
    "len_5_final_df['name'] = name_ls\n",
    "len_5_final_df['year'] = year_ls\n",
    "len_5_final_df['paper_name'] = paper_name_ls\n",
    "len_5_final_df['journal'] = journal_ls\n",
    "len_5_final_df"
   ]
  },
  {
   "cell_type": "markdown",
   "metadata": {},
   "source": [
    "# 길이가 6인 데이터 프레임"
   ]
  },
  {
   "cell_type": "code",
   "execution_count": 787,
   "metadata": {},
   "outputs": [
    {
     "data": {
      "text/plain": [
       "['[학위논문]',\n",
       " '[학위논문]',\n",
       " '[학위논문]',\n",
       " '[학위논문]',\n",
       " '[학위논문]',\n",
       " '[학위논문]',\n",
       " '[학위논문]',\n",
       " '[학위논문]',\n",
       " '[학위논문]',\n",
       " '[학위논문]']"
      ]
     },
     "execution_count": 787,
     "metadata": {},
     "output_type": "execute_result"
    }
   ],
   "source": [
    "char_ls1 = [re.findall('\\[.+\\]',i[0])[0] for i in len_6_df['tuned_refer']]\n",
    "char_ls1[:10]"
   ]
  },
  {
   "cell_type": "code",
   "execution_count": 802,
   "metadata": {},
   "outputs": [
    {
     "data": {
      "text/plain": [
       "[' 張榮光',\n",
       " ' 장영광',\n",
       " ' 고유경',\n",
       " ' 김영기',\n",
       " ' 김태형',\n",
       " ' 이남구',\n",
       " ' 최선근',\n",
       " ' Marchman, B.',\n",
       " ' 노성호',\n",
       " ' 金俊植']"
      ]
     },
     "execution_count": 802,
     "metadata": {},
     "output_type": "execute_result"
    }
   ],
   "source": [
    "name_ls1 = [i[1] for i in len_6_df['tuned_refer']]\n",
    "name_ls1[:10]"
   ]
  },
  {
   "cell_type": "code",
   "execution_count": 793,
   "metadata": {},
   "outputs": [
    {
     "data": {
      "text/plain": [
       "['1985',\n",
       " '1985',\n",
       " '2007',\n",
       " '2003',\n",
       " '2005',\n",
       " '2000',\n",
       " '2001',\n",
       " '2007',\n",
       " '2007',\n",
       " '1986']"
      ]
     },
     "execution_count": 793,
     "metadata": {},
     "output_type": "execute_result"
    }
   ],
   "source": [
    "year_ls1 = [i[2] for i in len_6_df['tuned_refer']]\n",
    "year_ls1[:10]"
   ]
  },
  {
   "cell_type": "code",
   "execution_count": 797,
   "metadata": {},
   "outputs": [
    {
     "data": {
      "text/plain": [
       "['企業合倂과 株式取得이 株主의 富에 미치는 影響에 關한 實證的 硏究',\n",
       " '기업합병과 주식취득이 주주 부에 미치는 영향에 관한 실증연구',\n",
       " '분석대상 종목군에 신규 편입된 기업에 대한 예측이익의 특성',\n",
       " '상호저축은행 도산예측에 관한 연구',\n",
       " '시뮬레이션을 이용한 이산 시간 확률 변동성 모형 추정에 관한 연구 : MCMC를 이용한 베이지언 추론 방법을 중심으로',\n",
       " '기업의 IR(Investor Relations)에 관한 연구',\n",
       " '우리나라 IR 활동이 주가에 미치는 효과에 관한 연구',\n",
       " 'Reverse Stock Splits: Motivations, Effectiveness, and Stock Price Reactions',\n",
       " '코스닥 상장폐지기업의 이익조정에 관한 실증연구',\n",
       " '改正商法上의 新株引受權 附社債制度에 관한 硏究']"
      ]
     },
     "execution_count": 797,
     "metadata": {},
     "output_type": "execute_result"
    }
   ],
   "source": [
    "paper_name_ls1 = [i[3] for i in len_6_df['tuned_refer']]\n",
    "paper_name_ls1[:10]"
   ]
  },
  {
   "cell_type": "code",
   "execution_count": 798,
   "metadata": {},
   "outputs": [
    {
     "data": {
      "text/plain": [
       "['박사', '박사', '석사', '박사', '박사', '석사', '박사', '박사', '박사', '석사']"
      ]
     },
     "execution_count": 798,
     "metadata": {},
     "output_type": "execute_result"
    }
   ],
   "source": [
    "degree_ls1 = [i[4] for i in len_6_df['tuned_refer']]\n",
    "degree_ls1[:10]"
   ]
  },
  {
   "cell_type": "code",
   "execution_count": 800,
   "metadata": {
    "scrolled": true
   },
   "outputs": [
    {
     "data": {
      "text/plain": [
       "['고려대학교 대학원,',\n",
       " '고려대학교 대학원,',\n",
       " '고려대학교,',\n",
       " '성균관대학교 대학원,',\n",
       " '서울대학교 대학원,',\n",
       " '전남대학교 대학원,',\n",
       " '명지대대학원,',\n",
       " 'Florida State Univ,',\n",
       " '대구대학교,',\n",
       " '연세대학교 대학원,']"
      ]
     },
     "execution_count": 800,
     "metadata": {},
     "output_type": "execute_result"
    }
   ],
   "source": [
    "school_ls1 = [i[-1] for i in len_6_df['tuned_refer']]\n",
    "school_ls1[:10]"
   ]
  },
  {
   "cell_type": "code",
   "execution_count": 803,
   "metadata": {},
   "outputs": [
    {
     "data": {
      "text/html": [
       "<div>\n",
       "<style>\n",
       "    .dataframe thead tr:only-child th {\n",
       "        text-align: right;\n",
       "    }\n",
       "\n",
       "    .dataframe thead th {\n",
       "        text-align: left;\n",
       "    }\n",
       "\n",
       "    .dataframe tbody tr th {\n",
       "        vertical-align: top;\n",
       "    }\n",
       "</style>\n",
       "<table border=\"1\" class=\"dataframe\">\n",
       "  <thead>\n",
       "    <tr style=\"text-align: right;\">\n",
       "      <th></th>\n",
       "      <th>char</th>\n",
       "      <th>name</th>\n",
       "      <th>year</th>\n",
       "      <th>paper_name</th>\n",
       "      <th>degree</th>\n",
       "      <th>school</th>\n",
       "    </tr>\n",
       "  </thead>\n",
       "  <tbody>\n",
       "    <tr>\n",
       "      <th>0</th>\n",
       "      <td>[학위논문]</td>\n",
       "      <td>張榮光</td>\n",
       "      <td>1985</td>\n",
       "      <td>企業合倂과 株式取得이 株主의 富에 미치는 影響에 關한 實證的 硏究</td>\n",
       "      <td>박사</td>\n",
       "      <td>고려대학교 대학원,</td>\n",
       "    </tr>\n",
       "    <tr>\n",
       "      <th>1</th>\n",
       "      <td>[학위논문]</td>\n",
       "      <td>장영광</td>\n",
       "      <td>1985</td>\n",
       "      <td>기업합병과 주식취득이 주주 부에 미치는 영향에 관한 실증연구</td>\n",
       "      <td>박사</td>\n",
       "      <td>고려대학교 대학원,</td>\n",
       "    </tr>\n",
       "    <tr>\n",
       "      <th>2</th>\n",
       "      <td>[학위논문]</td>\n",
       "      <td>고유경</td>\n",
       "      <td>2007</td>\n",
       "      <td>분석대상 종목군에 신규 편입된 기업에 대한 예측이익의 특성</td>\n",
       "      <td>석사</td>\n",
       "      <td>고려대학교,</td>\n",
       "    </tr>\n",
       "    <tr>\n",
       "      <th>3</th>\n",
       "      <td>[학위논문]</td>\n",
       "      <td>김영기</td>\n",
       "      <td>2003</td>\n",
       "      <td>상호저축은행 도산예측에 관한 연구</td>\n",
       "      <td>박사</td>\n",
       "      <td>성균관대학교 대학원,</td>\n",
       "    </tr>\n",
       "    <tr>\n",
       "      <th>4</th>\n",
       "      <td>[학위논문]</td>\n",
       "      <td>김태형</td>\n",
       "      <td>2005</td>\n",
       "      <td>시뮬레이션을 이용한 이산 시간 확률 변동성 모형 추정에 관한 연구 : MCMC를 이...</td>\n",
       "      <td>박사</td>\n",
       "      <td>서울대학교 대학원,</td>\n",
       "    </tr>\n",
       "    <tr>\n",
       "      <th>5</th>\n",
       "      <td>[학위논문]</td>\n",
       "      <td>이남구</td>\n",
       "      <td>2000</td>\n",
       "      <td>기업의 IR(Investor Relations)에 관한 연구</td>\n",
       "      <td>석사</td>\n",
       "      <td>전남대학교 대학원,</td>\n",
       "    </tr>\n",
       "    <tr>\n",
       "      <th>6</th>\n",
       "      <td>[학위논문]</td>\n",
       "      <td>최선근</td>\n",
       "      <td>2001</td>\n",
       "      <td>우리나라 IR 활동이 주가에 미치는 효과에 관한 연구</td>\n",
       "      <td>박사</td>\n",
       "      <td>명지대대학원,</td>\n",
       "    </tr>\n",
       "    <tr>\n",
       "      <th>7</th>\n",
       "      <td>[학위논문]</td>\n",
       "      <td>Marchman, B.</td>\n",
       "      <td>2007</td>\n",
       "      <td>Reverse Stock Splits: Motivations, Effectivene...</td>\n",
       "      <td>박사</td>\n",
       "      <td>Florida State Univ,</td>\n",
       "    </tr>\n",
       "    <tr>\n",
       "      <th>8</th>\n",
       "      <td>[학위논문]</td>\n",
       "      <td>노성호</td>\n",
       "      <td>2007</td>\n",
       "      <td>코스닥 상장폐지기업의 이익조정에 관한 실증연구</td>\n",
       "      <td>박사</td>\n",
       "      <td>대구대학교,</td>\n",
       "    </tr>\n",
       "    <tr>\n",
       "      <th>9</th>\n",
       "      <td>[학위논문]</td>\n",
       "      <td>金俊植</td>\n",
       "      <td>1986</td>\n",
       "      <td>改正商法上의 新株引受權 附社債制度에 관한 硏究</td>\n",
       "      <td>석사</td>\n",
       "      <td>연세대학교 대학원,</td>\n",
       "    </tr>\n",
       "    <tr>\n",
       "      <th>10</th>\n",
       "      <td>[학위논문]</td>\n",
       "      <td>梁承富</td>\n",
       "      <td>1986</td>\n",
       "      <td>改正商法上 新株引受權 附社債制度에 관한 考察</td>\n",
       "      <td>석사</td>\n",
       "      <td>고려대학교 대학원,</td>\n",
       "    </tr>\n",
       "    <tr>\n",
       "      <th>11</th>\n",
       "      <td>[학위논문]</td>\n",
       "      <td>崔圭南</td>\n",
       "      <td>1984</td>\n",
       "      <td>株式會社의 社債發行에 관한 法的 考察</td>\n",
       "      <td>석사</td>\n",
       "      <td>성균관대학교 대학원,</td>\n",
       "    </tr>\n",
       "    <tr>\n",
       "      <th>12</th>\n",
       "      <td>[학위논문]</td>\n",
       "      <td>박순채</td>\n",
       "      <td>2014</td>\n",
       "      <td>추정 위험을 고려한 포트폴리오 전략 성과 비교 실증 연구</td>\n",
       "      <td>박사</td>\n",
       "      <td>연세대학교 대학원,</td>\n",
       "    </tr>\n",
       "    <tr>\n",
       "      <th>13</th>\n",
       "      <td>[학위논문]</td>\n",
       "      <td>오세정</td>\n",
       "      <td>2015</td>\n",
       "      <td>신규공모제도 변경의 정책효과에 관한 연구</td>\n",
       "      <td>박사</td>\n",
       "      <td>성균관대학교,</td>\n",
       "    </tr>\n",
       "    <tr>\n",
       "      <th>14</th>\n",
       "      <td>[학위논문]</td>\n",
       "      <td>옥선기</td>\n",
       "      <td>2013</td>\n",
       "      <td>자본시장법상 연계불공정거래의 규제에 관한 연구 : 사례 및 문제점 분석과 과징금 도...</td>\n",
       "      <td>박사</td>\n",
       "      <td>고려대학교 대학원,</td>\n",
       "    </tr>\n",
       "    <tr>\n",
       "      <th>15</th>\n",
       "      <td>[학위논문]</td>\n",
       "      <td>윤상규</td>\n",
       "      <td>2012</td>\n",
       "      <td>보험수리적 가정이 확정급여채무 산출에 미치는 영향에 관한 실증 연구</td>\n",
       "      <td>박사</td>\n",
       "      <td>고려대학교 대학원,</td>\n",
       "    </tr>\n",
       "    <tr>\n",
       "      <th>16</th>\n",
       "      <td>[학위논문]</td>\n",
       "      <td>노정희</td>\n",
       "      <td>2017</td>\n",
       "      <td>퇴직급여 과소적립 위험에 대한 한국자본시장의 평가</td>\n",
       "      <td>박사</td>\n",
       "      <td>부산대학교,</td>\n",
       "    </tr>\n",
       "    <tr>\n",
       "      <th>17</th>\n",
       "      <td>[학위논문]</td>\n",
       "      <td>윤상규</td>\n",
       "      <td>2012</td>\n",
       "      <td>보험수리적 가정이 확정급여채무 산출에 미치는 영향에 관한 실증 연구</td>\n",
       "      <td>박사</td>\n",
       "      <td>고려대학교 대학원,</td>\n",
       "    </tr>\n",
       "    <tr>\n",
       "      <th>18</th>\n",
       "      <td>[학위논문]</td>\n",
       "      <td>박지홍</td>\n",
       "      <td>2009</td>\n",
       "      <td>한국 펀드시장에서의 스마트머니 효과에 대한 실증연구</td>\n",
       "      <td>석사</td>\n",
       "      <td>한국과학 기술원,</td>\n",
       "    </tr>\n",
       "    <tr>\n",
       "      <th>19</th>\n",
       "      <td>[학위논문]</td>\n",
       "      <td>한기문</td>\n",
       "      <td>2010</td>\n",
       "      <td>국제팩토링시스템의 이용에 관한 연구 : 중소기업의 수출금융을 중심으로</td>\n",
       "      <td>박사</td>\n",
       "      <td>성균관대학교 대학원,</td>\n",
       "    </tr>\n",
       "    <tr>\n",
       "      <th>20</th>\n",
       "      <td>[학위논문]</td>\n",
       "      <td>Chen, H</td>\n",
       "      <td>2007</td>\n",
       "      <td>Macroeconomic Conditions, Corporate Finance De...</td>\n",
       "      <td>박사</td>\n",
       "      <td>The University of Chicago,</td>\n",
       "    </tr>\n",
       "    <tr>\n",
       "      <th>21</th>\n",
       "      <td>[학위논문]</td>\n",
       "      <td>김경용</td>\n",
       "      <td>2013</td>\n",
       "      <td>한달 내의 최대 일별수익률과 주식 기대수익률의 관계</td>\n",
       "      <td>석사</td>\n",
       "      <td>한국과학기술원,</td>\n",
       "    </tr>\n",
       "    <tr>\n",
       "      <th>22</th>\n",
       "      <td>[학위논문]</td>\n",
       "      <td>한형호</td>\n",
       "      <td>2003</td>\n",
       "      <td>벤처캐피탈 특성과 IPO 벤처기업의 장·단기 성과와의 관계에 관한 실증 연구</td>\n",
       "      <td>박사</td>\n",
       "      <td>건국대학교,</td>\n",
       "    </tr>\n",
       "    <tr>\n",
       "      <th>23</th>\n",
       "      <td>[학위논문]</td>\n",
       "      <td>한기문</td>\n",
       "      <td>2010</td>\n",
       "      <td>국제팩토링시스템의 이용에 관한 연구 : 중소기업의 수출금융을 중심으로</td>\n",
       "      <td>박사</td>\n",
       "      <td>성균관대학교 대학원,</td>\n",
       "    </tr>\n",
       "    <tr>\n",
       "      <th>24</th>\n",
       "      <td>[학위논문]</td>\n",
       "      <td>김석봉</td>\n",
       "      <td>2014</td>\n",
       "      <td>신주발행을 위한 유상증자시 발행가격 저평가 정도에 관한 연구 : 대주주와 투자은행의...</td>\n",
       "      <td>박사</td>\n",
       "      <td>고려대학교 대학원,</td>\n",
       "    </tr>\n",
       "    <tr>\n",
       "      <th>25</th>\n",
       "      <td>[학위논문]</td>\n",
       "      <td>Chen, H</td>\n",
       "      <td>2007</td>\n",
       "      <td>Macroeconomic Conditions, Corporate Finance De...</td>\n",
       "      <td>박사</td>\n",
       "      <td>The University of Chicago,</td>\n",
       "    </tr>\n",
       "    <tr>\n",
       "      <th>26</th>\n",
       "      <td>[학위논문]</td>\n",
       "      <td>김경용</td>\n",
       "      <td>2013</td>\n",
       "      <td>한달 내의 최대 일별수익률과 주식 기대수익률의 관계</td>\n",
       "      <td>석사</td>\n",
       "      <td>한국과학기술원,</td>\n",
       "    </tr>\n",
       "    <tr>\n",
       "      <th>27</th>\n",
       "      <td>[학위논문]</td>\n",
       "      <td>김인호</td>\n",
       "      <td>2008</td>\n",
       "      <td>비상장기업의 IPO, 기업매각, 우회상장 선택 결정요인에 대한 비교연구</td>\n",
       "      <td>박사</td>\n",
       "      <td>성균관대학교대학원,</td>\n",
       "    </tr>\n",
       "    <tr>\n",
       "      <th>28</th>\n",
       "      <td>[학위논문]</td>\n",
       "      <td>한형호</td>\n",
       "      <td>2003</td>\n",
       "      <td>벤처캐피탈 특성과 IPO 벤처기업의 장·단기 성과와의 관계에 관한 실증 연구</td>\n",
       "      <td>박사</td>\n",
       "      <td>건국대학교,</td>\n",
       "    </tr>\n",
       "    <tr>\n",
       "      <th>29</th>\n",
       "      <td>[학위논문]</td>\n",
       "      <td>김경용</td>\n",
       "      <td>2013</td>\n",
       "      <td>한달 내의 최대 일별수익률과 주식 기대수익률의 관계</td>\n",
       "      <td>석사</td>\n",
       "      <td>한국과학기술원,</td>\n",
       "    </tr>\n",
       "    <tr>\n",
       "      <th>...</th>\n",
       "      <td>...</td>\n",
       "      <td>...</td>\n",
       "      <td>...</td>\n",
       "      <td>...</td>\n",
       "      <td>...</td>\n",
       "      <td>...</td>\n",
       "    </tr>\n",
       "    <tr>\n",
       "      <th>64</th>\n",
       "      <td>[학위논문]</td>\n",
       "      <td>황인덕</td>\n",
       "      <td>2005</td>\n",
       "      <td>구조조정기업의 성과에 관한 연구</td>\n",
       "      <td>박사</td>\n",
       "      <td>숭실대학교,</td>\n",
       "    </tr>\n",
       "    <tr>\n",
       "      <th>65</th>\n",
       "      <td>[학위논문]</td>\n",
       "      <td>여환영</td>\n",
       "      <td>2010</td>\n",
       "      <td>발생액의 질과 주식수익률 프리미엄</td>\n",
       "      <td>석사</td>\n",
       "      <td>서울시립대학교,</td>\n",
       "    </tr>\n",
       "    <tr>\n",
       "      <th>66</th>\n",
       "      <td>[학위논문]</td>\n",
       "      <td>Ogneva, M</td>\n",
       "      <td>2008</td>\n",
       "      <td>Accrual quality and expected returns : The imp...</td>\n",
       "      <td>박사</td>\n",
       "      <td>University of Southern California</td>\n",
       "    </tr>\n",
       "    <tr>\n",
       "      <th>67</th>\n",
       "      <td>[학위논문]</td>\n",
       "      <td>정효윤</td>\n",
       "      <td>2010</td>\n",
       "      <td>펀드플로우가 금융시장에 미치는 영향에 관한 연구</td>\n",
       "      <td>석사</td>\n",
       "      <td>서울시립대학교,</td>\n",
       "    </tr>\n",
       "    <tr>\n",
       "      <th>68</th>\n",
       "      <td>[학위논문]</td>\n",
       "      <td>조봉환</td>\n",
       "      <td>2008</td>\n",
       "      <td>국내은행의 역기능 현상에 관한 연구-중소기업 대출비중이 금융중개비용에 미치는 영향을...</td>\n",
       "      <td>박사</td>\n",
       "      <td>숭실대학교,</td>\n",
       "    </tr>\n",
       "    <tr>\n",
       "      <th>69</th>\n",
       "      <td>[학위논문]</td>\n",
       "      <td>송재성</td>\n",
       "      <td>2011</td>\n",
       "      <td>통화파생상품의 사용이 정보비대칭에 미치는 영향</td>\n",
       "      <td>석사</td>\n",
       "      <td>서울시립대학교,</td>\n",
       "    </tr>\n",
       "    <tr>\n",
       "      <th>70</th>\n",
       "      <td>[학위논문]</td>\n",
       "      <td>정효윤</td>\n",
       "      <td>2010</td>\n",
       "      <td>펀드플로우가 금융시장에 미치는 영향에 관한 연구</td>\n",
       "      <td>석사</td>\n",
       "      <td>서울시립대학교 대학원,</td>\n",
       "    </tr>\n",
       "    <tr>\n",
       "      <th>71</th>\n",
       "      <td>[학위논문]</td>\n",
       "      <td>박선동</td>\n",
       "      <td>2003</td>\n",
       "      <td>날씨파생상품 시장현황과 잠재수요분석: 농업과 전력산업 사례분석</td>\n",
       "      <td>석사</td>\n",
       "      <td>고려대학교 대학원,</td>\n",
       "    </tr>\n",
       "    <tr>\n",
       "      <th>72</th>\n",
       "      <td>[학위논문]</td>\n",
       "      <td>장우성</td>\n",
       "      <td>2006</td>\n",
       "      <td>DLS 가치평가에 관한 연구(Gold, WTI 연계증권을 중심으로)</td>\n",
       "      <td>석사</td>\n",
       "      <td>KAIST,</td>\n",
       "    </tr>\n",
       "    <tr>\n",
       "      <th>73</th>\n",
       "      <td>[학위논문]</td>\n",
       "      <td>Harris, L.</td>\n",
       "      <td>1982</td>\n",
       "      <td>A Theoretical and Empirical Analysis of the Di...</td>\n",
       "      <td>박사</td>\n",
       "      <td>University of Chicago,</td>\n",
       "    </tr>\n",
       "    <tr>\n",
       "      <th>74</th>\n",
       "      <td>[학위논문]</td>\n",
       "      <td>권상수</td>\n",
       "      <td>2001</td>\n",
       "      <td>KOSPI 200 옵션 내재변동성의 정보유용성에 관한 연구</td>\n",
       "      <td>박사</td>\n",
       "      <td>성균관대학교,</td>\n",
       "    </tr>\n",
       "    <tr>\n",
       "      <th>75</th>\n",
       "      <td>[학위논문]</td>\n",
       "      <td>김 솔</td>\n",
       "      <td>2004</td>\n",
       "      <td>옵션가격결정모형의 실증적 비교분석에 관한 연구</td>\n",
       "      <td>박사</td>\n",
       "      <td>한국과학기술원,</td>\n",
       "    </tr>\n",
       "    <tr>\n",
       "      <th>76</th>\n",
       "      <td>[학위논문]</td>\n",
       "      <td>황상원</td>\n",
       "      <td>2007</td>\n",
       "      <td>KOSPI 200 주가지수옵션 추정변동성의 실현변동성 설명력에 관한 비교연구：모델프...</td>\n",
       "      <td>박사</td>\n",
       "      <td>부경대학교,</td>\n",
       "    </tr>\n",
       "    <tr>\n",
       "      <th>77</th>\n",
       "      <td>[학위논문]</td>\n",
       "      <td>박정민</td>\n",
       "      <td>2006</td>\n",
       "      <td>주가연계증권의 발행가격에 대한 연구-조기상환 주가연계증권을 중심으로</td>\n",
       "      <td>석사</td>\n",
       "      <td>KAIST,</td>\n",
       "    </tr>\n",
       "    <tr>\n",
       "      <th>78</th>\n",
       "      <td>[학위논문]</td>\n",
       "      <td>박준영</td>\n",
       "      <td>2007</td>\n",
       "      <td>주가연계증권의 가격 결정과 헷징에 관한 연구</td>\n",
       "      <td>석사</td>\n",
       "      <td>아주대학교,</td>\n",
       "    </tr>\n",
       "    <tr>\n",
       "      <th>79</th>\n",
       "      <td>[학위논문]</td>\n",
       "      <td>신일용</td>\n",
       "      <td>2004</td>\n",
       "      <td>주가연계증권의 가치평가와 헤징에 관한 연구-Barrier Option을 중심으로</td>\n",
       "      <td>석사</td>\n",
       "      <td>KAIST,</td>\n",
       "    </tr>\n",
       "    <tr>\n",
       "      <th>80</th>\n",
       "      <td>[학위논문]</td>\n",
       "      <td>Kang, Sung Soo</td>\n",
       "      <td>2003</td>\n",
       "      <td>Implied Finance Theory</td>\n",
       "      <td>박사</td>\n",
       "      <td>Seoul National University,</td>\n",
       "    </tr>\n",
       "    <tr>\n",
       "      <th>81</th>\n",
       "      <td>[학위논문]</td>\n",
       "      <td>Yoon, J</td>\n",
       "      <td>2007</td>\n",
       "      <td>Analysis and Pricing for the Callable Equity L...</td>\n",
       "      <td>석사</td>\n",
       "      <td>KAIST</td>\n",
       "    </tr>\n",
       "    <tr>\n",
       "      <th>82</th>\n",
       "      <td>[학위논문]</td>\n",
       "      <td>문승동</td>\n",
       "      <td>2007</td>\n",
       "      <td>한국분단 리스크프리미엄에 관한 연구 : Korea Discount를 중심으로</td>\n",
       "      <td>박사</td>\n",
       "      <td>국민대학교,</td>\n",
       "    </tr>\n",
       "    <tr>\n",
       "      <th>83</th>\n",
       "      <td>[학위논문]</td>\n",
       "      <td>김부식</td>\n",
       "      <td>2011</td>\n",
       "      <td>국가 CDS 프리미엄 변동요인에 대한 패널분석</td>\n",
       "      <td>석사</td>\n",
       "      <td>한국외국어대학교,</td>\n",
       "    </tr>\n",
       "    <tr>\n",
       "      <th>84</th>\n",
       "      <td>[학위논문]</td>\n",
       "      <td>정운</td>\n",
       "      <td>2010</td>\n",
       "      <td>국가 CDS프리미엄이 자본시장에 미치는 영향에 관한 실증 연구</td>\n",
       "      <td>석사</td>\n",
       "      <td>인하대학교,</td>\n",
       "    </tr>\n",
       "    <tr>\n",
       "      <th>85</th>\n",
       "      <td>[학위논문]</td>\n",
       "      <td>손경우</td>\n",
       "      <td>2013</td>\n",
       "      <td>옵션과 주식 및 선물 간의 가격 비일관성에 대한 연구 : KOSPI 200 인덱스 ...</td>\n",
       "      <td>박사</td>\n",
       "      <td>서울대학교,</td>\n",
       "    </tr>\n",
       "    <tr>\n",
       "      <th>86</th>\n",
       "      <td>[학위논문]</td>\n",
       "      <td>김기혁</td>\n",
       "      <td>2010</td>\n",
       "      <td>ELW 매출이 기초자산에 미치는 영향에 대한 실증분석</td>\n",
       "      <td>석사</td>\n",
       "      <td>한국과학기술원,</td>\n",
       "    </tr>\n",
       "    <tr>\n",
       "      <th>87</th>\n",
       "      <td>[학위논문]</td>\n",
       "      <td>Wei, X.</td>\n",
       "      <td>2009</td>\n",
       "      <td>The price effect and the issuance clustering a...</td>\n",
       "      <td>석사</td>\n",
       "      <td>National University of Singapore,</td>\n",
       "    </tr>\n",
       "    <tr>\n",
       "      <th>88</th>\n",
       "      <td>[학위논문]</td>\n",
       "      <td>박성환</td>\n",
       "      <td>2011</td>\n",
       "      <td>지방채발행의 추이분석과 영향구조에 관한 연구</td>\n",
       "      <td>박사</td>\n",
       "      <td>영남대학교 대학원,</td>\n",
       "    </tr>\n",
       "    <tr>\n",
       "      <th>89</th>\n",
       "      <td>[학위논문]</td>\n",
       "      <td>김동현</td>\n",
       "      <td>2008</td>\n",
       "      <td>국내 민간의료보험 시장의 역선택에 관한 실증연구</td>\n",
       "      <td>석사</td>\n",
       "      <td>경희대학교 대학원,</td>\n",
       "    </tr>\n",
       "    <tr>\n",
       "      <th>90</th>\n",
       "      <td>[학위논문]</td>\n",
       "      <td>이수진</td>\n",
       "      <td>2012</td>\n",
       "      <td>민간의료보험이 의료수요에 미치는 영향 : 도덕적 해이와 역선택 효과의 실증적 구분</td>\n",
       "      <td>석사</td>\n",
       "      <td>연세대학교 대학원,</td>\n",
       "    </tr>\n",
       "    <tr>\n",
       "      <th>91</th>\n",
       "      <td>[학위논문]</td>\n",
       "      <td>한영하</td>\n",
       "      <td>2014</td>\n",
       "      <td>한국주택금융공사 보금자리론 조기상환율 추정 및 가치산정 연구</td>\n",
       "      <td>박사</td>\n",
       "      <td>연세대학교 대학원,</td>\n",
       "    </tr>\n",
       "    <tr>\n",
       "      <th>92</th>\n",
       "      <td>[학위논문]</td>\n",
       "      <td>Low, A</td>\n",
       "      <td>1992</td>\n",
       "      <td>Essays on asymmetric information in internatio...</td>\n",
       "      <td>박사</td>\n",
       "      <td>University of California,</td>\n",
       "    </tr>\n",
       "    <tr>\n",
       "      <th>93</th>\n",
       "      <td>[학위논문]</td>\n",
       "      <td>Averbukh, V</td>\n",
       "      <td>1997</td>\n",
       "      <td>Pricing American options using Monte Carlo sim...</td>\n",
       "      <td>박사</td>\n",
       "      <td>Cornell University,</td>\n",
       "    </tr>\n",
       "  </tbody>\n",
       "</table>\n",
       "<p>94 rows × 6 columns</p>\n",
       "</div>"
      ],
      "text/plain": [
       "      char             name  year  \\\n",
       "0   [학위논문]              張榮光  1985   \n",
       "1   [학위논문]              장영광  1985   \n",
       "2   [학위논문]              고유경  2007   \n",
       "3   [학위논문]              김영기  2003   \n",
       "4   [학위논문]              김태형  2005   \n",
       "5   [학위논문]              이남구  2000   \n",
       "6   [학위논문]              최선근  2001   \n",
       "7   [학위논문]     Marchman, B.  2007   \n",
       "8   [학위논문]              노성호  2007   \n",
       "9   [학위논문]              金俊植  1986   \n",
       "10  [학위논문]              梁承富  1986   \n",
       "11  [학위논문]              崔圭南  1984   \n",
       "12  [학위논문]              박순채  2014   \n",
       "13  [학위논문]              오세정  2015   \n",
       "14  [학위논문]              옥선기  2013   \n",
       "15  [학위논문]              윤상규  2012   \n",
       "16  [학위논문]              노정희  2017   \n",
       "17  [학위논문]              윤상규  2012   \n",
       "18  [학위논문]              박지홍  2009   \n",
       "19  [학위논문]              한기문  2010   \n",
       "20  [학위논문]          Chen, H  2007   \n",
       "21  [학위논문]              김경용  2013   \n",
       "22  [학위논문]              한형호  2003   \n",
       "23  [학위논문]              한기문  2010   \n",
       "24  [학위논문]              김석봉  2014   \n",
       "25  [학위논문]          Chen, H  2007   \n",
       "26  [학위논문]              김경용  2013   \n",
       "27  [학위논문]              김인호  2008   \n",
       "28  [학위논문]              한형호  2003   \n",
       "29  [학위논문]              김경용  2013   \n",
       "..     ...              ...   ...   \n",
       "64  [학위논문]              황인덕  2005   \n",
       "65  [학위논문]              여환영  2010   \n",
       "66  [학위논문]        Ogneva, M  2008   \n",
       "67  [학위논문]              정효윤  2010   \n",
       "68  [학위논문]              조봉환  2008   \n",
       "69  [학위논문]              송재성  2011   \n",
       "70  [학위논문]              정효윤  2010   \n",
       "71  [학위논문]              박선동  2003   \n",
       "72  [학위논문]              장우성  2006   \n",
       "73  [학위논문]       Harris, L.  1982   \n",
       "74  [학위논문]              권상수  2001   \n",
       "75  [학위논문]              김 솔  2004   \n",
       "76  [학위논문]              황상원  2007   \n",
       "77  [학위논문]              박정민  2006   \n",
       "78  [학위논문]              박준영  2007   \n",
       "79  [학위논문]              신일용  2004   \n",
       "80  [학위논문]   Kang, Sung Soo  2003   \n",
       "81  [학위논문]          Yoon, J  2007   \n",
       "82  [학위논문]              문승동  2007   \n",
       "83  [학위논문]              김부식  2011   \n",
       "84  [학위논문]               정운  2010   \n",
       "85  [학위논문]              손경우  2013   \n",
       "86  [학위논문]              김기혁  2010   \n",
       "87  [학위논문]          Wei, X.  2009   \n",
       "88  [학위논문]              박성환  2011   \n",
       "89  [학위논문]              김동현  2008   \n",
       "90  [학위논문]              이수진  2012   \n",
       "91  [학위논문]              한영하  2014   \n",
       "92  [학위논문]           Low, A  1992   \n",
       "93  [학위논문]      Averbukh, V  1997   \n",
       "\n",
       "                                           paper_name degree  \\\n",
       "0                企業合倂과 株式取得이 株主의 富에 미치는 影響에 關한 實證的 硏究     박사   \n",
       "1                   기업합병과 주식취득이 주주 부에 미치는 영향에 관한 실증연구     박사   \n",
       "2                    분석대상 종목군에 신규 편입된 기업에 대한 예측이익의 특성     석사   \n",
       "3                                  상호저축은행 도산예측에 관한 연구     박사   \n",
       "4   시뮬레이션을 이용한 이산 시간 확률 변동성 모형 추정에 관한 연구 : MCMC를 이...     박사   \n",
       "5                   기업의 IR(Investor Relations)에 관한 연구     석사   \n",
       "6                       우리나라 IR 활동이 주가에 미치는 효과에 관한 연구     박사   \n",
       "7   Reverse Stock Splits: Motivations, Effectivene...     박사   \n",
       "8                           코스닥 상장폐지기업의 이익조정에 관한 실증연구     박사   \n",
       "9                           改正商法上의 新株引受權 附社債制度에 관한 硏究     석사   \n",
       "10                           改正商法上 新株引受權 附社債制度에 관한 考察     석사   \n",
       "11                               株式會社의 社債發行에 관한 法的 考察     석사   \n",
       "12                    추정 위험을 고려한 포트폴리오 전략 성과 비교 실증 연구     박사   \n",
       "13                             신규공모제도 변경의 정책효과에 관한 연구     박사   \n",
       "14  자본시장법상 연계불공정거래의 규제에 관한 연구 : 사례 및 문제점 분석과 과징금 도...     박사   \n",
       "15              보험수리적 가정이 확정급여채무 산출에 미치는 영향에 관한 실증 연구     박사   \n",
       "16                        퇴직급여 과소적립 위험에 대한 한국자본시장의 평가     박사   \n",
       "17              보험수리적 가정이 확정급여채무 산출에 미치는 영향에 관한 실증 연구     박사   \n",
       "18                       한국 펀드시장에서의 스마트머니 효과에 대한 실증연구     석사   \n",
       "19             국제팩토링시스템의 이용에 관한 연구 : 중소기업의 수출금융을 중심으로     박사   \n",
       "20  Macroeconomic Conditions, Corporate Finance De...     박사   \n",
       "21                       한달 내의 최대 일별수익률과 주식 기대수익률의 관계     석사   \n",
       "22         벤처캐피탈 특성과 IPO 벤처기업의 장·단기 성과와의 관계에 관한 실증 연구     박사   \n",
       "23             국제팩토링시스템의 이용에 관한 연구 : 중소기업의 수출금융을 중심으로     박사   \n",
       "24  신주발행을 위한 유상증자시 발행가격 저평가 정도에 관한 연구 : 대주주와 투자은행의...     박사   \n",
       "25  Macroeconomic Conditions, Corporate Finance De...     박사   \n",
       "26                       한달 내의 최대 일별수익률과 주식 기대수익률의 관계     석사   \n",
       "27            비상장기업의 IPO, 기업매각, 우회상장 선택 결정요인에 대한 비교연구     박사   \n",
       "28         벤처캐피탈 특성과 IPO 벤처기업의 장·단기 성과와의 관계에 관한 실증 연구     박사   \n",
       "29                       한달 내의 최대 일별수익률과 주식 기대수익률의 관계     석사   \n",
       "..                                                ...    ...   \n",
       "64                                  구조조정기업의 성과에 관한 연구     박사   \n",
       "65                                 발생액의 질과 주식수익률 프리미엄     석사   \n",
       "66  Accrual quality and expected returns : The imp...     박사   \n",
       "67                         펀드플로우가 금융시장에 미치는 영향에 관한 연구     석사   \n",
       "68  국내은행의 역기능 현상에 관한 연구-중소기업 대출비중이 금융중개비용에 미치는 영향을...     박사   \n",
       "69                          통화파생상품의 사용이 정보비대칭에 미치는 영향     석사   \n",
       "70                         펀드플로우가 금융시장에 미치는 영향에 관한 연구     석사   \n",
       "71                 날씨파생상품 시장현황과 잠재수요분석: 농업과 전력산업 사례분석     석사   \n",
       "72              DLS 가치평가에 관한 연구(Gold, WTI 연계증권을 중심으로)     석사   \n",
       "73  A Theoretical and Empirical Analysis of the Di...     박사   \n",
       "74                   KOSPI 200 옵션 내재변동성의 정보유용성에 관한 연구     박사   \n",
       "75                          옵션가격결정모형의 실증적 비교분석에 관한 연구     박사   \n",
       "76  KOSPI 200 주가지수옵션 추정변동성의 실현변동성 설명력에 관한 비교연구：모델프...     박사   \n",
       "77              주가연계증권의 발행가격에 대한 연구-조기상환 주가연계증권을 중심으로     석사   \n",
       "78                           주가연계증권의 가격 결정과 헷징에 관한 연구     석사   \n",
       "79       주가연계증권의 가치평가와 헤징에 관한 연구-Barrier Option을 중심으로     석사   \n",
       "80                             Implied Finance Theory     박사   \n",
       "81  Analysis and Pricing for the Callable Equity L...     석사   \n",
       "82         한국분단 리스크프리미엄에 관한 연구 : Korea Discount를 중심으로     박사   \n",
       "83                          국가 CDS 프리미엄 변동요인에 대한 패널분석     석사   \n",
       "84                 국가 CDS프리미엄이 자본시장에 미치는 영향에 관한 실증 연구     석사   \n",
       "85  옵션과 주식 및 선물 간의 가격 비일관성에 대한 연구 : KOSPI 200 인덱스 ...     박사   \n",
       "86                      ELW 매출이 기초자산에 미치는 영향에 대한 실증분석     석사   \n",
       "87  The price effect and the issuance clustering a...     석사   \n",
       "88                           지방채발행의 추이분석과 영향구조에 관한 연구     박사   \n",
       "89                         국내 민간의료보험 시장의 역선택에 관한 실증연구     석사   \n",
       "90      민간의료보험이 의료수요에 미치는 영향 : 도덕적 해이와 역선택 효과의 실증적 구분     석사   \n",
       "91                  한국주택금융공사 보금자리론 조기상환율 추정 및 가치산정 연구     박사   \n",
       "92  Essays on asymmetric information in internatio...     박사   \n",
       "93  Pricing American options using Monte Carlo sim...     박사   \n",
       "\n",
       "                               school  \n",
       "0                          고려대학교 대학원,  \n",
       "1                          고려대학교 대학원,  \n",
       "2                              고려대학교,  \n",
       "3                         성균관대학교 대학원,  \n",
       "4                          서울대학교 대학원,  \n",
       "5                          전남대학교 대학원,  \n",
       "6                             명지대대학원,  \n",
       "7                 Florida State Univ,  \n",
       "8                              대구대학교,  \n",
       "9                          연세대학교 대학원,  \n",
       "10                         고려대학교 대학원,  \n",
       "11                        성균관대학교 대학원,  \n",
       "12                         연세대학교 대학원,  \n",
       "13                            성균관대학교,  \n",
       "14                         고려대학교 대학원,  \n",
       "15                         고려대학교 대학원,  \n",
       "16                             부산대학교,  \n",
       "17                         고려대학교 대학원,  \n",
       "18                          한국과학 기술원,  \n",
       "19                        성균관대학교 대학원,  \n",
       "20         The University of Chicago,  \n",
       "21                           한국과학기술원,  \n",
       "22                             건국대학교,  \n",
       "23                        성균관대학교 대학원,  \n",
       "24                         고려대학교 대학원,  \n",
       "25         The University of Chicago,  \n",
       "26                           한국과학기술원,  \n",
       "27                         성균관대학교대학원,  \n",
       "28                             건국대학교,  \n",
       "29                           한국과학기술원,  \n",
       "..                                ...  \n",
       "64                             숭실대학교,  \n",
       "65                           서울시립대학교,  \n",
       "66  University of Southern California  \n",
       "67                           서울시립대학교,  \n",
       "68                             숭실대학교,  \n",
       "69                           서울시립대학교,  \n",
       "70                       서울시립대학교 대학원,  \n",
       "71                         고려대학교 대학원,  \n",
       "72                             KAIST,  \n",
       "73             University of Chicago,  \n",
       "74                            성균관대학교,  \n",
       "75                           한국과학기술원,  \n",
       "76                             부경대학교,  \n",
       "77                             KAIST,  \n",
       "78                             아주대학교,  \n",
       "79                             KAIST,  \n",
       "80         Seoul National University,  \n",
       "81                              KAIST  \n",
       "82                             국민대학교,  \n",
       "83                          한국외국어대학교,  \n",
       "84                             인하대학교,  \n",
       "85                             서울대학교,  \n",
       "86                           한국과학기술원,  \n",
       "87  National University of Singapore,  \n",
       "88                         영남대학교 대학원,  \n",
       "89                         경희대학교 대학원,  \n",
       "90                         연세대학교 대학원,  \n",
       "91                         연세대학교 대학원,  \n",
       "92          University of California,  \n",
       "93                Cornell University,  \n",
       "\n",
       "[94 rows x 6 columns]"
      ]
     },
     "execution_count": 803,
     "metadata": {},
     "output_type": "execute_result"
    }
   ],
   "source": [
    "len_6_final_df = pd.DataFrame()\n",
    "len_6_final_df['char'] = char_ls1\n",
    "len_6_final_df['name'] = name_ls1\n",
    "len_6_final_df['year'] = year_ls1\n",
    "len_6_final_df['paper_name'] = paper_name_ls1\n",
    "len_6_final_df['degree'] = degree_ls1\n",
    "len_6_final_df['school'] = school_ls1\n",
    "len_6_final_df"
   ]
  },
  {
   "cell_type": "code",
   "execution_count": 838,
   "metadata": {},
   "outputs": [
    {
     "data": {
      "text/html": [
       "<div>\n",
       "<style>\n",
       "    .dataframe thead tr:only-child th {\n",
       "        text-align: right;\n",
       "    }\n",
       "\n",
       "    .dataframe thead th {\n",
       "        text-align: left;\n",
       "    }\n",
       "\n",
       "    .dataframe tbody tr th {\n",
       "        vertical-align: top;\n",
       "    }\n",
       "</style>\n",
       "<table border=\"1\" class=\"dataframe\">\n",
       "  <thead>\n",
       "    <tr style=\"text-align: right;\">\n",
       "      <th></th>\n",
       "      <th>char</th>\n",
       "      <th>degree</th>\n",
       "      <th>journal</th>\n",
       "      <th>name</th>\n",
       "      <th>paper_name</th>\n",
       "      <th>school</th>\n",
       "      <th>year</th>\n",
       "    </tr>\n",
       "  </thead>\n",
       "  <tbody>\n",
       "    <tr>\n",
       "      <th>28910</th>\n",
       "      <td>[학위논문]</td>\n",
       "      <td>석사</td>\n",
       "      <td>NaN</td>\n",
       "      <td>김동현</td>\n",
       "      <td>국내 민간의료보험 시장의 역선택에 관한 실증연구</td>\n",
       "      <td>경희대학교 대학원,</td>\n",
       "      <td>2008</td>\n",
       "    </tr>\n",
       "    <tr>\n",
       "      <th>28911</th>\n",
       "      <td>[학위논문]</td>\n",
       "      <td>석사</td>\n",
       "      <td>NaN</td>\n",
       "      <td>이수진</td>\n",
       "      <td>민간의료보험이 의료수요에 미치는 영향 : 도덕적 해이와 역선택 효과의 실증적 구분</td>\n",
       "      <td>연세대학교 대학원,</td>\n",
       "      <td>2012</td>\n",
       "    </tr>\n",
       "    <tr>\n",
       "      <th>28912</th>\n",
       "      <td>[학위논문]</td>\n",
       "      <td>박사</td>\n",
       "      <td>NaN</td>\n",
       "      <td>한영하</td>\n",
       "      <td>한국주택금융공사 보금자리론 조기상환율 추정 및 가치산정 연구</td>\n",
       "      <td>연세대학교 대학원,</td>\n",
       "      <td>2014</td>\n",
       "    </tr>\n",
       "    <tr>\n",
       "      <th>28913</th>\n",
       "      <td>[학위논문]</td>\n",
       "      <td>박사</td>\n",
       "      <td>NaN</td>\n",
       "      <td>Low, A</td>\n",
       "      <td>Essays on asymmetric information in internatio...</td>\n",
       "      <td>University of California,</td>\n",
       "      <td>1992</td>\n",
       "    </tr>\n",
       "    <tr>\n",
       "      <th>28914</th>\n",
       "      <td>[학위논문]</td>\n",
       "      <td>박사</td>\n",
       "      <td>NaN</td>\n",
       "      <td>Averbukh, V</td>\n",
       "      <td>Pricing American options using Monte Carlo sim...</td>\n",
       "      <td>Cornell University,</td>\n",
       "      <td>1997</td>\n",
       "    </tr>\n",
       "  </tbody>\n",
       "</table>\n",
       "</div>"
      ],
      "text/plain": [
       "         char degree journal          name  \\\n",
       "28910  [학위논문]     석사     NaN           김동현   \n",
       "28911  [학위논문]     석사     NaN           이수진   \n",
       "28912  [학위논문]     박사     NaN           한영하   \n",
       "28913  [학위논문]     박사     NaN        Low, A   \n",
       "28914  [학위논문]     박사     NaN   Averbukh, V   \n",
       "\n",
       "                                              paper_name  \\\n",
       "28910                         국내 민간의료보험 시장의 역선택에 관한 실증연구   \n",
       "28911      민간의료보험이 의료수요에 미치는 영향 : 도덕적 해이와 역선택 효과의 실증적 구분   \n",
       "28912                  한국주택금융공사 보금자리론 조기상환율 추정 및 가치산정 연구   \n",
       "28913  Essays on asymmetric information in internatio...   \n",
       "28914  Pricing American options using Monte Carlo sim...   \n",
       "\n",
       "                          school  year  \n",
       "28910                 경희대학교 대학원,  2008  \n",
       "28911                 연세대학교 대학원,  2012  \n",
       "28912                 연세대학교 대학원,  2014  \n",
       "28913  University of California,  1992  \n",
       "28914        Cornell University,  1997  "
      ]
     },
     "execution_count": 838,
     "metadata": {},
     "output_type": "execute_result"
    }
   ],
   "source": [
    "final_df = pd.concat([len_5_final_df,len_6_final_df],axis=0)\n",
    "final_df.reset_index(drop=True,inplace=True)\n",
    "final_df.tail()"
   ]
  },
  {
   "cell_type": "code",
   "execution_count": 806,
   "metadata": {
    "collapsed": true
   },
   "outputs": [],
   "source": [
    "final_df.to_csv('well_made_dictionary.csv',index=False)"
   ]
  },
  {
   "cell_type": "code",
   "execution_count": 842,
   "metadata": {},
   "outputs": [
    {
     "data": {
      "text/plain": [
       "(28915, 17753)"
      ]
     },
     "execution_count": 842,
     "metadata": {},
     "output_type": "execute_result"
    }
   ],
   "source": [
    "len(final_df['paper_name'].tolist()) , len(set(final_df['paper_name'].tolist()))"
   ]
  },
  {
   "cell_type": "code",
   "execution_count": 848,
   "metadata": {},
   "outputs": [
    {
     "data": {
      "text/html": [
       "<div>\n",
       "<style>\n",
       "    .dataframe thead tr:only-child th {\n",
       "        text-align: right;\n",
       "    }\n",
       "\n",
       "    .dataframe thead th {\n",
       "        text-align: left;\n",
       "    }\n",
       "\n",
       "    .dataframe tbody tr th {\n",
       "        vertical-align: top;\n",
       "    }\n",
       "</style>\n",
       "<table border=\"1\" class=\"dataframe\">\n",
       "  <thead>\n",
       "    <tr style=\"text-align: right;\">\n",
       "      <th></th>\n",
       "      <th>index</th>\n",
       "      <th>0</th>\n",
       "    </tr>\n",
       "  </thead>\n",
       "  <tbody>\n",
       "    <tr>\n",
       "      <th>13</th>\n",
       "      <td>Common Risk Factors in the Returns on Stocks a...</td>\n",
       "      <td>67</td>\n",
       "    </tr>\n",
       "    <tr>\n",
       "      <th>1439</th>\n",
       "      <td>The Pricing of Options and Corporate Liabilities</td>\n",
       "      <td>44</td>\n",
       "    </tr>\n",
       "    <tr>\n",
       "      <th>958</th>\n",
       "      <td>On Persistence in Mutual Fund Performance</td>\n",
       "      <td>44</td>\n",
       "    </tr>\n",
       "    <tr>\n",
       "      <th>1132</th>\n",
       "      <td>한국 주식시장에서 유동성 요인을 포함한 3요인 모형의 설명력에 관한 연구</td>\n",
       "      <td>39</td>\n",
       "    </tr>\n",
       "    <tr>\n",
       "      <th>1006</th>\n",
       "      <td>Common risk factors in the returns on stocks a...</td>\n",
       "      <td>35</td>\n",
       "    </tr>\n",
       "    <tr>\n",
       "      <th>784</th>\n",
       "      <td>Determinants of Corporate Borrowing</td>\n",
       "      <td>30</td>\n",
       "    </tr>\n",
       "    <tr>\n",
       "      <th>978</th>\n",
       "      <td>투자 주체별 포트폴리오 특성과 성과 분석 :개인, 기관, 외국인</td>\n",
       "      <td>30</td>\n",
       "    </tr>\n",
       "    <tr>\n",
       "      <th>838</th>\n",
       "      <td>Generalized Autoregressive Conditional Heteros...</td>\n",
       "      <td>26</td>\n",
       "    </tr>\n",
       "    <tr>\n",
       "      <th>276</th>\n",
       "      <td>Risk, Return, and Equilibrium: Empirical Tests</td>\n",
       "      <td>24</td>\n",
       "    </tr>\n",
       "    <tr>\n",
       "      <th>404</th>\n",
       "      <td>한국 주식시장에서 3요인 모형을 이용한 주식수익률의 고유변동성과 기대수익률 간의 관계</td>\n",
       "      <td>24</td>\n",
       "    </tr>\n",
       "    <tr>\n",
       "      <th>489</th>\n",
       "      <td>Capital Asset Prices: A Theory of Market Equil...</td>\n",
       "      <td>22</td>\n",
       "    </tr>\n",
       "    <tr>\n",
       "      <th>1058</th>\n",
       "      <td>기업규모와 장부가/시가 비율과 주식수익률의 관계</td>\n",
       "      <td>22</td>\n",
       "    </tr>\n",
       "    <tr>\n",
       "      <th>1214</th>\n",
       "      <td>한국 주식시장의 투자주체별 거래행태에 관한 분석</td>\n",
       "      <td>22</td>\n",
       "    </tr>\n",
       "    <tr>\n",
       "      <th>666</th>\n",
       "      <td>주가와 공매도간 인과 관계에 관한 실증 연구</td>\n",
       "      <td>21</td>\n",
       "    </tr>\n",
       "    <tr>\n",
       "      <th>2018</th>\n",
       "      <td>Continuous auctions and insider trading</td>\n",
       "      <td>20</td>\n",
       "    </tr>\n",
       "    <tr>\n",
       "      <th>2393</th>\n",
       "      <td>The pricing of options and corporate liabilities</td>\n",
       "      <td>20</td>\n",
       "    </tr>\n",
       "    <tr>\n",
       "      <th>2714</th>\n",
       "      <td>외국인투자자 대 국내투자자의 정보우위</td>\n",
       "      <td>20</td>\n",
       "    </tr>\n",
       "    <tr>\n",
       "      <th>12</th>\n",
       "      <td>Risk, Return and Equilibrium: Empirical Tests</td>\n",
       "      <td>19</td>\n",
       "    </tr>\n",
       "    <tr>\n",
       "      <th>4187</th>\n",
       "      <td>Illiquidity and Stock Returns: Cross-Section a...</td>\n",
       "      <td>18</td>\n",
       "    </tr>\n",
       "    <tr>\n",
       "      <th>1067</th>\n",
       "      <td>The Cross-Section of Expected Stock Returns</td>\n",
       "      <td>18</td>\n",
       "    </tr>\n",
       "    <tr>\n",
       "      <th>2811</th>\n",
       "      <td>펀드투자자와 펀드매니저의 투자 행태에 관한 연구</td>\n",
       "      <td>18</td>\n",
       "    </tr>\n",
       "    <tr>\n",
       "      <th>487</th>\n",
       "      <td>Portfolio Selection</td>\n",
       "      <td>18</td>\n",
       "    </tr>\n",
       "    <tr>\n",
       "      <th>376</th>\n",
       "      <td>한국주식시장에서 셰속투자전략과 반대투자전략의 수익성분석</td>\n",
       "      <td>18</td>\n",
       "    </tr>\n",
       "    <tr>\n",
       "      <th>3079</th>\n",
       "      <td>국내 주식형 펀드의 스타일 분석과 활용</td>\n",
       "      <td>17</td>\n",
       "    </tr>\n",
       "    <tr>\n",
       "      <th>754</th>\n",
       "      <td>Corporate financing and investment decisions w...</td>\n",
       "      <td>17</td>\n",
       "    </tr>\n",
       "    <tr>\n",
       "      <th>2713</th>\n",
       "      <td>외국인 거래 정보와 주식시장 : 개방 10년의 경험</td>\n",
       "      <td>17</td>\n",
       "    </tr>\n",
       "    <tr>\n",
       "      <th>630</th>\n",
       "      <td>Financing Constraints and Corporate Investment</td>\n",
       "      <td>17</td>\n",
       "    </tr>\n",
       "    <tr>\n",
       "      <th>1489</th>\n",
       "      <td>Agency Costs of Free Cash Flow, Corporate Fina...</td>\n",
       "      <td>17</td>\n",
       "    </tr>\n",
       "    <tr>\n",
       "      <th>1610</th>\n",
       "      <td>Costly Search and Mutual Fund Flows</td>\n",
       "      <td>17</td>\n",
       "    </tr>\n",
       "    <tr>\n",
       "      <th>407</th>\n",
       "      <td>The Cross-Section of Volatility and Expected R...</td>\n",
       "      <td>17</td>\n",
       "    </tr>\n",
       "    <tr>\n",
       "      <th>...</th>\n",
       "      <td>...</td>\n",
       "      <td>...</td>\n",
       "    </tr>\n",
       "    <tr>\n",
       "      <th>6909</th>\n",
       "      <td>우리나라 기업 및 산업의 환노출</td>\n",
       "      <td>1</td>\n",
       "    </tr>\n",
       "    <tr>\n",
       "      <th>6911</th>\n",
       "      <td>Testing for Nonlinear Threshold Cointegration ...</td>\n",
       "      <td>1</td>\n",
       "    </tr>\n",
       "    <tr>\n",
       "      <th>6912</th>\n",
       "      <td>원/달러 역내현물환시장과 역외 NDF 시장 간의 인과관계</td>\n",
       "      <td>1</td>\n",
       "    </tr>\n",
       "    <tr>\n",
       "      <th>6882</th>\n",
       "      <td>Co-integration and Error Correction:Representa...</td>\n",
       "      <td>1</td>\n",
       "    </tr>\n",
       "    <tr>\n",
       "      <th>6880</th>\n",
       "      <td>외환거래량이 원/달러 환율변동성에 미치는 영향</td>\n",
       "      <td>1</td>\n",
       "    </tr>\n",
       "    <tr>\n",
       "      <th>6853</th>\n",
       "      <td>An Individual Level Analysisof the Mutual Fund...</td>\n",
       "      <td>1</td>\n",
       "    </tr>\n",
       "    <tr>\n",
       "      <th>6865</th>\n",
       "      <td>Performance Comparison and DynamicIncentives</td>\n",
       "      <td>1</td>\n",
       "    </tr>\n",
       "    <tr>\n",
       "      <th>6854</th>\n",
       "      <td>Risk Taking by Mutual Funds as a Responseto In...</td>\n",
       "      <td>1</td>\n",
       "    </tr>\n",
       "    <tr>\n",
       "      <th>6855</th>\n",
       "      <td>Survivorship Bias and MutualFund Performance</td>\n",
       "      <td>1</td>\n",
       "    </tr>\n",
       "    <tr>\n",
       "      <th>6856</th>\n",
       "      <td>Optimal Incentive Contracts in the Presenceof ...</td>\n",
       "      <td>1</td>\n",
       "    </tr>\n",
       "    <tr>\n",
       "      <th>6857</th>\n",
       "      <td>Hot Hands in Mutual Fund:Short-run Persistence...</td>\n",
       "      <td>1</td>\n",
       "    </tr>\n",
       "    <tr>\n",
       "      <th>6858</th>\n",
       "      <td>Managerial preferences concerning risky projects</td>\n",
       "      <td>1</td>\n",
       "    </tr>\n",
       "    <tr>\n",
       "      <th>6859</th>\n",
       "      <td>Managerial conservatism, project choice,and debt</td>\n",
       "      <td>1</td>\n",
       "    </tr>\n",
       "    <tr>\n",
       "      <th>6860</th>\n",
       "      <td>Managerial incentive problems: a dynamic persp...</td>\n",
       "      <td>1</td>\n",
       "    </tr>\n",
       "    <tr>\n",
       "      <th>6861</th>\n",
       "      <td>Managerial incentives and capital management</td>\n",
       "      <td>1</td>\n",
       "    </tr>\n",
       "    <tr>\n",
       "      <th>6862</th>\n",
       "      <td>Participation Costs and the Sensitivityof Fund...</td>\n",
       "      <td>1</td>\n",
       "    </tr>\n",
       "    <tr>\n",
       "      <th>6863</th>\n",
       "      <td>Employment risk, compensation incentives,and m...</td>\n",
       "      <td>1</td>\n",
       "    </tr>\n",
       "    <tr>\n",
       "      <th>6866</th>\n",
       "      <td>Managerial career concernsand investments in i...</td>\n",
       "      <td>1</td>\n",
       "    </tr>\n",
       "    <tr>\n",
       "      <th>6878</th>\n",
       "      <td>선물환 환율을 이용한 원/달러 환율예측 : VECM 기법을 중심으로</td>\n",
       "      <td>1</td>\n",
       "    </tr>\n",
       "    <tr>\n",
       "      <th>6867</th>\n",
       "      <td>How Investors Interpreter Past Fund Returns</td>\n",
       "      <td>1</td>\n",
       "    </tr>\n",
       "    <tr>\n",
       "      <th>6868</th>\n",
       "      <td>Family Values and the Star Phenomenon:Strategi...</td>\n",
       "      <td>1</td>\n",
       "    </tr>\n",
       "    <tr>\n",
       "      <th>6869</th>\n",
       "      <td>Costly Research and Mutual Fund Flows</td>\n",
       "      <td>1</td>\n",
       "    </tr>\n",
       "    <tr>\n",
       "      <th>6870</th>\n",
       "      <td>한국의 장기 균형실질환율: 장기 균형과 단기 균형이탈률 추정</td>\n",
       "      <td>1</td>\n",
       "    </tr>\n",
       "    <tr>\n",
       "      <th>6871</th>\n",
       "      <td>원/달러 시장에서 필터 거래규칙이 수익을 낼 수 있는가? : 사실상의 자유변동환율 ...</td>\n",
       "      <td>1</td>\n",
       "    </tr>\n",
       "    <tr>\n",
       "      <th>6872</th>\n",
       "      <td>Testing for Long-Run PurchasingPower Parity: A...</td>\n",
       "      <td>1</td>\n",
       "    </tr>\n",
       "    <tr>\n",
       "      <th>6874</th>\n",
       "      <td>불태화외환시장 개입의 동태적 효과 분석</td>\n",
       "      <td>1</td>\n",
       "    </tr>\n",
       "    <tr>\n",
       "      <th>6875</th>\n",
       "      <td>환율 변동성 예측 모형의 실증분석</td>\n",
       "      <td>1</td>\n",
       "    </tr>\n",
       "    <tr>\n",
       "      <th>6876</th>\n",
       "      <td>원/달러 환율예측 모형 개발</td>\n",
       "      <td>1</td>\n",
       "    </tr>\n",
       "    <tr>\n",
       "      <th>6877</th>\n",
       "      <td>원/달러 실질균형환율의 추정:행태균형환율 접근법</td>\n",
       "      <td>1</td>\n",
       "    </tr>\n",
       "    <tr>\n",
       "      <th>17752</th>\n",
       "      <td>Pricing American options using Monte Carlo sim...</td>\n",
       "      <td>1</td>\n",
       "    </tr>\n",
       "  </tbody>\n",
       "</table>\n",
       "<p>17753 rows × 2 columns</p>\n",
       "</div>"
      ],
      "text/plain": [
       "                                                   index   0\n",
       "13     Common Risk Factors in the Returns on Stocks a...  67\n",
       "1439    The Pricing of Options and Corporate Liabilities  44\n",
       "958            On Persistence in Mutual Fund Performance  44\n",
       "1132            한국 주식시장에서 유동성 요인을 포함한 3요인 모형의 설명력에 관한 연구  39\n",
       "1006   Common risk factors in the returns on stocks a...  35\n",
       "784                  Determinants of Corporate Borrowing  30\n",
       "978                  투자 주체별 포트폴리오 특성과 성과 분석 :개인, 기관, 외국인  30\n",
       "838    Generalized Autoregressive Conditional Heteros...  26\n",
       "276       Risk, Return, and Equilibrium: Empirical Tests  24\n",
       "404      한국 주식시장에서 3요인 모형을 이용한 주식수익률의 고유변동성과 기대수익률 간의 관계  24\n",
       "489    Capital Asset Prices: A Theory of Market Equil...  22\n",
       "1058                          기업규모와 장부가/시가 비율과 주식수익률의 관계  22\n",
       "1214                          한국 주식시장의 투자주체별 거래행태에 관한 분석  22\n",
       "666                             주가와 공매도간 인과 관계에 관한 실증 연구  21\n",
       "2018             Continuous auctions and insider trading  20\n",
       "2393    The pricing of options and corporate liabilities  20\n",
       "2714                                외국인투자자 대 국내투자자의 정보우위  20\n",
       "12         Risk, Return and Equilibrium: Empirical Tests  19\n",
       "4187   Illiquidity and Stock Returns: Cross-Section a...  18\n",
       "1067         The Cross-Section of Expected Stock Returns  18\n",
       "2811                          펀드투자자와 펀드매니저의 투자 행태에 관한 연구  18\n",
       "487                                  Portfolio Selection  18\n",
       "376                       한국주식시장에서 셰속투자전략과 반대투자전략의 수익성분석  18\n",
       "3079                               국내 주식형 펀드의 스타일 분석과 활용  17\n",
       "754    Corporate financing and investment decisions w...  17\n",
       "2713                        외국인 거래 정보와 주식시장 : 개방 10년의 경험  17\n",
       "630       Financing Constraints and Corporate Investment  17\n",
       "1489   Agency Costs of Free Cash Flow, Corporate Fina...  17\n",
       "1610                 Costly Search and Mutual Fund Flows  17\n",
       "407    The Cross-Section of Volatility and Expected R...  17\n",
       "...                                                  ...  ..\n",
       "6909                                   우리나라 기업 및 산업의 환노출   1\n",
       "6911   Testing for Nonlinear Threshold Cointegration ...   1\n",
       "6912                     원/달러 역내현물환시장과 역외 NDF 시장 간의 인과관계   1\n",
       "6882   Co-integration and Error Correction:Representa...   1\n",
       "6880                           외환거래량이 원/달러 환율변동성에 미치는 영향   1\n",
       "6853   An Individual Level Analysisof the Mutual Fund...   1\n",
       "6865        Performance Comparison and DynamicIncentives   1\n",
       "6854   Risk Taking by Mutual Funds as a Responseto In...   1\n",
       "6855        Survivorship Bias and MutualFund Performance   1\n",
       "6856   Optimal Incentive Contracts in the Presenceof ...   1\n",
       "6857   Hot Hands in Mutual Fund:Short-run Persistence...   1\n",
       "6858    Managerial preferences concerning risky projects   1\n",
       "6859    Managerial conservatism, project choice,and debt   1\n",
       "6860   Managerial incentive problems: a dynamic persp...   1\n",
       "6861        Managerial incentives and capital management   1\n",
       "6862   Participation Costs and the Sensitivityof Fund...   1\n",
       "6863   Employment risk, compensation incentives,and m...   1\n",
       "6866   Managerial career concernsand investments in i...   1\n",
       "6878               선물환 환율을 이용한 원/달러 환율예측 : VECM 기법을 중심으로   1\n",
       "6867         How Investors Interpreter Past Fund Returns   1\n",
       "6868   Family Values and the Star Phenomenon:Strategi...   1\n",
       "6869               Costly Research and Mutual Fund Flows   1\n",
       "6870                   한국의 장기 균형실질환율: 장기 균형과 단기 균형이탈률 추정   1\n",
       "6871   원/달러 시장에서 필터 거래규칙이 수익을 낼 수 있는가? : 사실상의 자유변동환율 ...   1\n",
       "6872   Testing for Long-Run PurchasingPower Parity: A...   1\n",
       "6874                               불태화외환시장 개입의 동태적 효과 분석   1\n",
       "6875                                  환율 변동성 예측 모형의 실증분석   1\n",
       "6876                                     원/달러 환율예측 모형 개발   1\n",
       "6877                          원/달러 실질균형환율의 추정:행태균형환율 접근법   1\n",
       "17752  Pricing American options using Monte Carlo sim...   1\n",
       "\n",
       "[17753 rows x 2 columns]"
      ]
     },
     "execution_count": 848,
     "metadata": {},
     "output_type": "execute_result"
    }
   ],
   "source": [
    "d = Counter(final_df['paper_name'].tolist())\n",
    "testing_df = pd.DataFrame.from_dict(d, orient='index').reset_index()\n",
    "testing_df.sort_values(0,ascending=False)"
   ]
  },
  {
   "cell_type": "code",
   "execution_count": 841,
   "metadata": {},
   "outputs": [
    {
     "data": {
      "text/html": [
       "<div>\n",
       "<style>\n",
       "    .dataframe thead tr:only-child th {\n",
       "        text-align: right;\n",
       "    }\n",
       "\n",
       "    .dataframe thead th {\n",
       "        text-align: left;\n",
       "    }\n",
       "\n",
       "    .dataframe tbody tr th {\n",
       "        vertical-align: top;\n",
       "    }\n",
       "</style>\n",
       "<table border=\"1\" class=\"dataframe\">\n",
       "  <thead>\n",
       "    <tr style=\"text-align: right;\">\n",
       "      <th></th>\n",
       "      <th>char</th>\n",
       "      <th>degree</th>\n",
       "      <th>journal</th>\n",
       "      <th>name</th>\n",
       "      <th>paper_name</th>\n",
       "      <th>school</th>\n",
       "      <th>year</th>\n",
       "    </tr>\n",
       "  </thead>\n",
       "  <tbody>\n",
       "    <tr>\n",
       "      <th>0</th>\n",
       "      <td>[학술지(정기간행물)]</td>\n",
       "      <td>NaN</td>\n",
       "      <td>Asia-Pacific Journal of Financial Studies 36 (...</td>\n",
       "      <td>고봉찬</td>\n",
       "      <td>발생액 이상현상에 대한 위험평가</td>\n",
       "      <td>NaN</td>\n",
       "      <td>2007</td>\n",
       "    </tr>\n",
       "    <tr>\n",
       "      <th>1</th>\n",
       "      <td>[학술지(정기간행물)]</td>\n",
       "      <td>NaN</td>\n",
       "      <td>회계학연구 30 (1) : 59 ~ 91,</td>\n",
       "      <td>손병철</td>\n",
       "      <td>발생액의 효율적 평가에 영향을 미치는 요인</td>\n",
       "      <td>NaN</td>\n",
       "      <td>2005</td>\n",
       "    </tr>\n",
       "    <tr>\n",
       "      <th>2</th>\n",
       "      <td>[학술지(정기간행물)]</td>\n",
       "      <td>NaN</td>\n",
       "      <td>Journal of Financial Markets 5 (1) : 31 ~ 56,</td>\n",
       "      <td>Amihud, Yakov</td>\n",
       "      <td>Illiquidity and Stock Returns: Cross-Section a...</td>\n",
       "      <td>NaN</td>\n",
       "      <td>2002</td>\n",
       "    </tr>\n",
       "    <tr>\n",
       "      <th>3</th>\n",
       "      <td>[학술지(정기간행물)]</td>\n",
       "      <td>NaN</td>\n",
       "      <td>Journal of Financial Economics 38 (1) : 79 ~ 107,</td>\n",
       "      <td>Ball, Ray, S</td>\n",
       "      <td>Problems in Measuring Portfolio Performance: A...</td>\n",
       "      <td>NaN</td>\n",
       "      <td>1995</td>\n",
       "    </tr>\n",
       "    <tr>\n",
       "      <th>4</th>\n",
       "      <td>[학술지(정기간행물)]</td>\n",
       "      <td>NaN</td>\n",
       "      <td>Journal of Accounting and Economics 38 (1) : 3...</td>\n",
       "      <td>Basu, Sudipta</td>\n",
       "      <td>What Do We Learn from Two New Accounting-Based...</td>\n",
       "      <td>NaN</td>\n",
       "      <td>2004</td>\n",
       "    </tr>\n",
       "    <tr>\n",
       "      <th>5</th>\n",
       "      <td>[학술지(정기간행물)]</td>\n",
       "      <td>NaN</td>\n",
       "      <td>Journal of Finance 47 (2) : 552 ~ 576,</td>\n",
       "      <td>Bhardwaj, Ravinder K</td>\n",
       "      <td>The January Anomaly: Effects of Low Share Pric...</td>\n",
       "      <td>NaN</td>\n",
       "      <td>1992</td>\n",
       "    </tr>\n",
       "    <tr>\n",
       "      <th>6</th>\n",
       "      <td>[학술지(정기간행물)]</td>\n",
       "      <td>NaN</td>\n",
       "      <td>Journal of Accounting and Economics 18 (1) : 4...</td>\n",
       "      <td>Bhushan, Ravi</td>\n",
       "      <td>An Informational Efficiency Perspective on the...</td>\n",
       "      <td>NaN</td>\n",
       "      <td>1994</td>\n",
       "    </tr>\n",
       "    <tr>\n",
       "      <th>7</th>\n",
       "      <td>[학술지(정기간행물)]</td>\n",
       "      <td>NaN</td>\n",
       "      <td>Journal of Accounting and Economics 29 (1) : 1...</td>\n",
       "      <td>Collins, Daniel W</td>\n",
       "      <td>Earnings-Based and Accrual-Based Market Anomal...</td>\n",
       "      <td>NaN</td>\n",
       "      <td>2000</td>\n",
       "    </tr>\n",
       "    <tr>\n",
       "      <th>8</th>\n",
       "      <td>[학술지(정기간행물)]</td>\n",
       "      <td>NaN</td>\n",
       "      <td>Journal of Finance 52 (3) : 1035 ~ 1058,</td>\n",
       "      <td>Daniel, Kent</td>\n",
       "      <td>Measuring Mutual Fund Performance with Charact...</td>\n",
       "      <td>NaN</td>\n",
       "      <td>1997</td>\n",
       "    </tr>\n",
       "    <tr>\n",
       "      <th>9</th>\n",
       "      <td>[학술지(정기간행물)]</td>\n",
       "      <td>NaN</td>\n",
       "      <td>Journal of Finance 40 (3) : 793 ~ 805,</td>\n",
       "      <td>DeBondt, Werner F. M</td>\n",
       "      <td>Does the Stock Market Overreact?</td>\n",
       "      <td>NaN</td>\n",
       "      <td>1995</td>\n",
       "    </tr>\n",
       "    <tr>\n",
       "      <th>10</th>\n",
       "      <td>[학술지(정기간행물)]</td>\n",
       "      <td>NaN</td>\n",
       "      <td>Accounting Review 79 (2) : 355 ~ 386,</td>\n",
       "      <td>Desai, Hemang</td>\n",
       "      <td>Value- Glamour and Accruals Mispricing: One An...</td>\n",
       "      <td>NaN</td>\n",
       "      <td>2004</td>\n",
       "    </tr>\n",
       "    <tr>\n",
       "      <th>11</th>\n",
       "      <td>[학술지(정기간행물)]</td>\n",
       "      <td>NaN</td>\n",
       "      <td>Accounting Review 78 (1) : 353 ~ 371,</td>\n",
       "      <td>Fairfield, Patricia M</td>\n",
       "      <td>Accrued Earnings and Growth: Implications for ...</td>\n",
       "      <td>NaN</td>\n",
       "      <td>2003</td>\n",
       "    </tr>\n",
       "    <tr>\n",
       "      <th>12</th>\n",
       "      <td>[학술지(정기간행물)]</td>\n",
       "      <td>NaN</td>\n",
       "      <td>Journal of Political Economy 81 (3) : 607 ~ 636,</td>\n",
       "      <td>Fama, Eugene F</td>\n",
       "      <td>Risk, Return and Equilibrium: Empirical Tests</td>\n",
       "      <td>NaN</td>\n",
       "      <td>1973</td>\n",
       "    </tr>\n",
       "    <tr>\n",
       "      <th>13</th>\n",
       "      <td>[학술지(정기간행물)]</td>\n",
       "      <td>NaN</td>\n",
       "      <td>Journal of Financial Economics 33 (1) : 3 ~ 56,</td>\n",
       "      <td>Fama, Eugene F</td>\n",
       "      <td>Common Risk Factors in the Returns on Stocks a...</td>\n",
       "      <td>NaN</td>\n",
       "      <td>1993</td>\n",
       "    </tr>\n",
       "    <tr>\n",
       "      <th>14</th>\n",
       "      <td>[기타자료]</td>\n",
       "      <td>NaN</td>\n",
       "      <td>EFA 2008 Athens Meetings Paper,</td>\n",
       "      <td>Hardouvelis, Gikas</td>\n",
       "      <td>Accruals, Net Stock Issues and Value-Glamour A...</td>\n",
       "      <td>NaN</td>\n",
       "      <td>2008</td>\n",
       "    </tr>\n",
       "    <tr>\n",
       "      <th>15</th>\n",
       "      <td>[학술지(정기간행물)]</td>\n",
       "      <td>NaN</td>\n",
       "      <td>Journal of Accounting and Economics 38 : 297 ~...</td>\n",
       "      <td>Hirshleifer, David</td>\n",
       "      <td>Do Investors Overvalue Firms with Bloated Bala...</td>\n",
       "      <td>NaN</td>\n",
       "      <td>2004</td>\n",
       "    </tr>\n",
       "    <tr>\n",
       "      <th>16</th>\n",
       "      <td>[기타자료]</td>\n",
       "      <td>NaN</td>\n",
       "      <td>Working Paper, Ohio State University,</td>\n",
       "      <td>Hirshleifer</td>\n",
       "      <td>The Accrual Anomaly: Risk or Mispricing?</td>\n",
       "      <td>NaN</td>\n",
       "      <td>2006</td>\n",
       "    </tr>\n",
       "    <tr>\n",
       "      <th>17</th>\n",
       "      <td>[학술지(정기간행물)]</td>\n",
       "      <td>NaN</td>\n",
       "      <td>Journal of Accounting Research 40 (1) : 105 ~ ...</td>\n",
       "      <td>Hribar, Paul</td>\n",
       "      <td>Errors in Estimating Accruals: Implications fo...</td>\n",
       "      <td>NaN</td>\n",
       "      <td>2002</td>\n",
       "    </tr>\n",
       "    <tr>\n",
       "      <th>18</th>\n",
       "      <td>[기타자료]</td>\n",
       "      <td>NaN</td>\n",
       "      <td>Working Paper, MIT,</td>\n",
       "      <td>Khan, Mozaffar</td>\n",
       "      <td>Are Accruals Really Mispriced? Evidence from T...</td>\n",
       "      <td>NaN</td>\n",
       "      <td>2005</td>\n",
       "    </tr>\n",
       "    <tr>\n",
       "      <th>19</th>\n",
       "      <td>[학술지(정기간행물)]</td>\n",
       "      <td>NaN</td>\n",
       "      <td>Journal of Accounting and Economics 42 : 3 ~ 33,</td>\n",
       "      <td>Mashruwala, Christina</td>\n",
       "      <td>Why is the Accrual Anomaly not Arbitraged away...</td>\n",
       "      <td>NaN</td>\n",
       "      <td>2006</td>\n",
       "    </tr>\n",
       "    <tr>\n",
       "      <th>20</th>\n",
       "      <td>[학술지(정기간행물)]</td>\n",
       "      <td>NaN</td>\n",
       "      <td>Econometrica 55 (3) : 703 ~ 708,</td>\n",
       "      <td>Newey, Whitney K</td>\n",
       "      <td>A Simple, Positive Semi-Definite,Heteroskedast...</td>\n",
       "      <td>NaN</td>\n",
       "      <td>1987</td>\n",
       "    </tr>\n",
       "    <tr>\n",
       "      <th>21</th>\n",
       "      <td>[기타자료]</td>\n",
       "      <td>NaN</td>\n",
       "      <td>Working Paper, Wharton School,</td>\n",
       "      <td>Ng, Jeffrey</td>\n",
       "      <td>Distress Risk Information in Accruals</td>\n",
       "      <td>NaN</td>\n",
       "      <td>2004</td>\n",
       "    </tr>\n",
       "    <tr>\n",
       "      <th>22</th>\n",
       "      <td>[학술지(정기간행물)]</td>\n",
       "      <td>NaN</td>\n",
       "      <td>The Quarterly Journal of Economics 111 (4) : 1...</td>\n",
       "      <td>Pincus, Morton</td>\n",
       "      <td>The Accrual Anomaly: International Evidence, W...</td>\n",
       "      <td>NaN</td>\n",
       "      <td>1996</td>\n",
       "    </tr>\n",
       "    <tr>\n",
       "      <th>23</th>\n",
       "      <td>[학술지(정기간행물)]</td>\n",
       "      <td>NaN</td>\n",
       "      <td>Accounting Review 71 (3) : 289 ~ 315,</td>\n",
       "      <td>Sloan, Richard G</td>\n",
       "      <td>Do Stock Prices Fully Reflect Information in A...</td>\n",
       "      <td>NaN</td>\n",
       "      <td>1996</td>\n",
       "    </tr>\n",
       "    <tr>\n",
       "      <th>24</th>\n",
       "      <td>[학술지(정기간행물)]</td>\n",
       "      <td>NaN</td>\n",
       "      <td>Review of Accounting Studies 7 (2) : 163 ~ 187,</td>\n",
       "      <td>Thomas, Jacob K</td>\n",
       "      <td>Inventory Changes and Future Returns</td>\n",
       "      <td>NaN</td>\n",
       "      <td>2002</td>\n",
       "    </tr>\n",
       "    <tr>\n",
       "      <th>25</th>\n",
       "      <td>[학술지(정기간행물)]</td>\n",
       "      <td>NaN</td>\n",
       "      <td>Journal of Business 75 (4) : 583 ~ 608,</td>\n",
       "      <td>Wurgler, Jeffrey</td>\n",
       "      <td>Does Arbitrage Flatten Demand Curves for Stocks?</td>\n",
       "      <td>NaN</td>\n",
       "      <td>2002</td>\n",
       "    </tr>\n",
       "    <tr>\n",
       "      <th>26</th>\n",
       "      <td>[학술지(정기간행물)]</td>\n",
       "      <td>NaN</td>\n",
       "      <td>Accounting Review 76 (3) : 357 ~ 373,</td>\n",
       "      <td>Xie, Hong</td>\n",
       "      <td>The Mispricing of Abnormal Accruals</td>\n",
       "      <td>NaN</td>\n",
       "      <td>2001</td>\n",
       "    </tr>\n",
       "    <tr>\n",
       "      <th>27</th>\n",
       "      <td>[기타자료]</td>\n",
       "      <td>NaN</td>\n",
       "      <td>Working Paper, Washington University,</td>\n",
       "      <td>Zach, Tzachi</td>\n",
       "      <td>Evaluating the ‘Accrual-fixation’ Hypothesis a...</td>\n",
       "      <td>NaN</td>\n",
       "      <td>2004</td>\n",
       "    </tr>\n",
       "    <tr>\n",
       "      <th>28</th>\n",
       "      <td>[기타자료]</td>\n",
       "      <td>NaN</td>\n",
       "      <td>Working Paper, Yale School of Management,</td>\n",
       "      <td>Zhang, Frank X.</td>\n",
       "      <td>Accruals, Investment, and the Accrual Anomaly</td>\n",
       "      <td>NaN</td>\n",
       "      <td>2006</td>\n",
       "    </tr>\n",
       "    <tr>\n",
       "      <th>29</th>\n",
       "      <td>[기타자료]</td>\n",
       "      <td>NaN</td>\n",
       "      <td>Working Paper, Ohio State University</td>\n",
       "      <td>Zhang, Yinglei</td>\n",
       "      <td>Net Operating Assets as Predictor of Future St...</td>\n",
       "      <td>NaN</td>\n",
       "      <td>2005</td>\n",
       "    </tr>\n",
       "    <tr>\n",
       "      <th>...</th>\n",
       "      <td>...</td>\n",
       "      <td>...</td>\n",
       "      <td>...</td>\n",
       "      <td>...</td>\n",
       "      <td>...</td>\n",
       "      <td>...</td>\n",
       "      <td>...</td>\n",
       "    </tr>\n",
       "    <tr>\n",
       "      <th>28885</th>\n",
       "      <td>[학위논문]</td>\n",
       "      <td>박사</td>\n",
       "      <td>NaN</td>\n",
       "      <td>황인덕</td>\n",
       "      <td>구조조정기업의 성과에 관한 연구</td>\n",
       "      <td>숭실대학교,</td>\n",
       "      <td>2005</td>\n",
       "    </tr>\n",
       "    <tr>\n",
       "      <th>28886</th>\n",
       "      <td>[학위논문]</td>\n",
       "      <td>석사</td>\n",
       "      <td>NaN</td>\n",
       "      <td>여환영</td>\n",
       "      <td>발생액의 질과 주식수익률 프리미엄</td>\n",
       "      <td>서울시립대학교,</td>\n",
       "      <td>2010</td>\n",
       "    </tr>\n",
       "    <tr>\n",
       "      <th>28887</th>\n",
       "      <td>[학위논문]</td>\n",
       "      <td>박사</td>\n",
       "      <td>NaN</td>\n",
       "      <td>Ogneva, M</td>\n",
       "      <td>Accrual quality and expected returns : The imp...</td>\n",
       "      <td>University of Southern California</td>\n",
       "      <td>2008</td>\n",
       "    </tr>\n",
       "    <tr>\n",
       "      <th>28888</th>\n",
       "      <td>[학위논문]</td>\n",
       "      <td>석사</td>\n",
       "      <td>NaN</td>\n",
       "      <td>정효윤</td>\n",
       "      <td>펀드플로우가 금융시장에 미치는 영향에 관한 연구</td>\n",
       "      <td>서울시립대학교,</td>\n",
       "      <td>2010</td>\n",
       "    </tr>\n",
       "    <tr>\n",
       "      <th>28889</th>\n",
       "      <td>[학위논문]</td>\n",
       "      <td>박사</td>\n",
       "      <td>NaN</td>\n",
       "      <td>조봉환</td>\n",
       "      <td>국내은행의 역기능 현상에 관한 연구-중소기업 대출비중이 금융중개비용에 미치는 영향을...</td>\n",
       "      <td>숭실대학교,</td>\n",
       "      <td>2008</td>\n",
       "    </tr>\n",
       "    <tr>\n",
       "      <th>28890</th>\n",
       "      <td>[학위논문]</td>\n",
       "      <td>석사</td>\n",
       "      <td>NaN</td>\n",
       "      <td>송재성</td>\n",
       "      <td>통화파생상품의 사용이 정보비대칭에 미치는 영향</td>\n",
       "      <td>서울시립대학교,</td>\n",
       "      <td>2011</td>\n",
       "    </tr>\n",
       "    <tr>\n",
       "      <th>28891</th>\n",
       "      <td>[학위논문]</td>\n",
       "      <td>석사</td>\n",
       "      <td>NaN</td>\n",
       "      <td>정효윤</td>\n",
       "      <td>펀드플로우가 금융시장에 미치는 영향에 관한 연구</td>\n",
       "      <td>서울시립대학교 대학원,</td>\n",
       "      <td>2010</td>\n",
       "    </tr>\n",
       "    <tr>\n",
       "      <th>28892</th>\n",
       "      <td>[학위논문]</td>\n",
       "      <td>석사</td>\n",
       "      <td>NaN</td>\n",
       "      <td>박선동</td>\n",
       "      <td>날씨파생상품 시장현황과 잠재수요분석: 농업과 전력산업 사례분석</td>\n",
       "      <td>고려대학교 대학원,</td>\n",
       "      <td>2003</td>\n",
       "    </tr>\n",
       "    <tr>\n",
       "      <th>28893</th>\n",
       "      <td>[학위논문]</td>\n",
       "      <td>석사</td>\n",
       "      <td>NaN</td>\n",
       "      <td>장우성</td>\n",
       "      <td>DLS 가치평가에 관한 연구(Gold, WTI 연계증권을 중심으로)</td>\n",
       "      <td>KAIST,</td>\n",
       "      <td>2006</td>\n",
       "    </tr>\n",
       "    <tr>\n",
       "      <th>28894</th>\n",
       "      <td>[학위논문]</td>\n",
       "      <td>박사</td>\n",
       "      <td>NaN</td>\n",
       "      <td>Harris, L.</td>\n",
       "      <td>A Theoretical and Empirical Analysis of the Di...</td>\n",
       "      <td>University of Chicago,</td>\n",
       "      <td>1982</td>\n",
       "    </tr>\n",
       "    <tr>\n",
       "      <th>28895</th>\n",
       "      <td>[학위논문]</td>\n",
       "      <td>박사</td>\n",
       "      <td>NaN</td>\n",
       "      <td>권상수</td>\n",
       "      <td>KOSPI 200 옵션 내재변동성의 정보유용성에 관한 연구</td>\n",
       "      <td>성균관대학교,</td>\n",
       "      <td>2001</td>\n",
       "    </tr>\n",
       "    <tr>\n",
       "      <th>28896</th>\n",
       "      <td>[학위논문]</td>\n",
       "      <td>박사</td>\n",
       "      <td>NaN</td>\n",
       "      <td>김 솔</td>\n",
       "      <td>옵션가격결정모형의 실증적 비교분석에 관한 연구</td>\n",
       "      <td>한국과학기술원,</td>\n",
       "      <td>2004</td>\n",
       "    </tr>\n",
       "    <tr>\n",
       "      <th>28897</th>\n",
       "      <td>[학위논문]</td>\n",
       "      <td>박사</td>\n",
       "      <td>NaN</td>\n",
       "      <td>황상원</td>\n",
       "      <td>KOSPI 200 주가지수옵션 추정변동성의 실현변동성 설명력에 관한 비교연구：모델프...</td>\n",
       "      <td>부경대학교,</td>\n",
       "      <td>2007</td>\n",
       "    </tr>\n",
       "    <tr>\n",
       "      <th>28898</th>\n",
       "      <td>[학위논문]</td>\n",
       "      <td>석사</td>\n",
       "      <td>NaN</td>\n",
       "      <td>박정민</td>\n",
       "      <td>주가연계증권의 발행가격에 대한 연구-조기상환 주가연계증권을 중심으로</td>\n",
       "      <td>KAIST,</td>\n",
       "      <td>2006</td>\n",
       "    </tr>\n",
       "    <tr>\n",
       "      <th>28899</th>\n",
       "      <td>[학위논문]</td>\n",
       "      <td>석사</td>\n",
       "      <td>NaN</td>\n",
       "      <td>박준영</td>\n",
       "      <td>주가연계증권의 가격 결정과 헷징에 관한 연구</td>\n",
       "      <td>아주대학교,</td>\n",
       "      <td>2007</td>\n",
       "    </tr>\n",
       "    <tr>\n",
       "      <th>28900</th>\n",
       "      <td>[학위논문]</td>\n",
       "      <td>석사</td>\n",
       "      <td>NaN</td>\n",
       "      <td>신일용</td>\n",
       "      <td>주가연계증권의 가치평가와 헤징에 관한 연구-Barrier Option을 중심으로</td>\n",
       "      <td>KAIST,</td>\n",
       "      <td>2004</td>\n",
       "    </tr>\n",
       "    <tr>\n",
       "      <th>28901</th>\n",
       "      <td>[학위논문]</td>\n",
       "      <td>박사</td>\n",
       "      <td>NaN</td>\n",
       "      <td>Kang, Sung Soo</td>\n",
       "      <td>Implied Finance Theory</td>\n",
       "      <td>Seoul National University,</td>\n",
       "      <td>2003</td>\n",
       "    </tr>\n",
       "    <tr>\n",
       "      <th>28902</th>\n",
       "      <td>[학위논문]</td>\n",
       "      <td>석사</td>\n",
       "      <td>NaN</td>\n",
       "      <td>Yoon, J</td>\n",
       "      <td>Analysis and Pricing for the Callable Equity L...</td>\n",
       "      <td>KAIST</td>\n",
       "      <td>2007</td>\n",
       "    </tr>\n",
       "    <tr>\n",
       "      <th>28903</th>\n",
       "      <td>[학위논문]</td>\n",
       "      <td>박사</td>\n",
       "      <td>NaN</td>\n",
       "      <td>문승동</td>\n",
       "      <td>한국분단 리스크프리미엄에 관한 연구 : Korea Discount를 중심으로</td>\n",
       "      <td>국민대학교,</td>\n",
       "      <td>2007</td>\n",
       "    </tr>\n",
       "    <tr>\n",
       "      <th>28904</th>\n",
       "      <td>[학위논문]</td>\n",
       "      <td>석사</td>\n",
       "      <td>NaN</td>\n",
       "      <td>김부식</td>\n",
       "      <td>국가 CDS 프리미엄 변동요인에 대한 패널분석</td>\n",
       "      <td>한국외국어대학교,</td>\n",
       "      <td>2011</td>\n",
       "    </tr>\n",
       "    <tr>\n",
       "      <th>28905</th>\n",
       "      <td>[학위논문]</td>\n",
       "      <td>석사</td>\n",
       "      <td>NaN</td>\n",
       "      <td>정운</td>\n",
       "      <td>국가 CDS프리미엄이 자본시장에 미치는 영향에 관한 실증 연구</td>\n",
       "      <td>인하대학교,</td>\n",
       "      <td>2010</td>\n",
       "    </tr>\n",
       "    <tr>\n",
       "      <th>28906</th>\n",
       "      <td>[학위논문]</td>\n",
       "      <td>박사</td>\n",
       "      <td>NaN</td>\n",
       "      <td>손경우</td>\n",
       "      <td>옵션과 주식 및 선물 간의 가격 비일관성에 대한 연구 : KOSPI 200 인덱스 ...</td>\n",
       "      <td>서울대학교,</td>\n",
       "      <td>2013</td>\n",
       "    </tr>\n",
       "    <tr>\n",
       "      <th>28907</th>\n",
       "      <td>[학위논문]</td>\n",
       "      <td>석사</td>\n",
       "      <td>NaN</td>\n",
       "      <td>김기혁</td>\n",
       "      <td>ELW 매출이 기초자산에 미치는 영향에 대한 실증분석</td>\n",
       "      <td>한국과학기술원,</td>\n",
       "      <td>2010</td>\n",
       "    </tr>\n",
       "    <tr>\n",
       "      <th>28908</th>\n",
       "      <td>[학위논문]</td>\n",
       "      <td>석사</td>\n",
       "      <td>NaN</td>\n",
       "      <td>Wei, X.</td>\n",
       "      <td>The price effect and the issuance clustering a...</td>\n",
       "      <td>National University of Singapore,</td>\n",
       "      <td>2009</td>\n",
       "    </tr>\n",
       "    <tr>\n",
       "      <th>28909</th>\n",
       "      <td>[학위논문]</td>\n",
       "      <td>박사</td>\n",
       "      <td>NaN</td>\n",
       "      <td>박성환</td>\n",
       "      <td>지방채발행의 추이분석과 영향구조에 관한 연구</td>\n",
       "      <td>영남대학교 대학원,</td>\n",
       "      <td>2011</td>\n",
       "    </tr>\n",
       "    <tr>\n",
       "      <th>28910</th>\n",
       "      <td>[학위논문]</td>\n",
       "      <td>석사</td>\n",
       "      <td>NaN</td>\n",
       "      <td>김동현</td>\n",
       "      <td>국내 민간의료보험 시장의 역선택에 관한 실증연구</td>\n",
       "      <td>경희대학교 대학원,</td>\n",
       "      <td>2008</td>\n",
       "    </tr>\n",
       "    <tr>\n",
       "      <th>28911</th>\n",
       "      <td>[학위논문]</td>\n",
       "      <td>석사</td>\n",
       "      <td>NaN</td>\n",
       "      <td>이수진</td>\n",
       "      <td>민간의료보험이 의료수요에 미치는 영향 : 도덕적 해이와 역선택 효과의 실증적 구분</td>\n",
       "      <td>연세대학교 대학원,</td>\n",
       "      <td>2012</td>\n",
       "    </tr>\n",
       "    <tr>\n",
       "      <th>28912</th>\n",
       "      <td>[학위논문]</td>\n",
       "      <td>박사</td>\n",
       "      <td>NaN</td>\n",
       "      <td>한영하</td>\n",
       "      <td>한국주택금융공사 보금자리론 조기상환율 추정 및 가치산정 연구</td>\n",
       "      <td>연세대학교 대학원,</td>\n",
       "      <td>2014</td>\n",
       "    </tr>\n",
       "    <tr>\n",
       "      <th>28913</th>\n",
       "      <td>[학위논문]</td>\n",
       "      <td>박사</td>\n",
       "      <td>NaN</td>\n",
       "      <td>Low, A</td>\n",
       "      <td>Essays on asymmetric information in internatio...</td>\n",
       "      <td>University of California,</td>\n",
       "      <td>1992</td>\n",
       "    </tr>\n",
       "    <tr>\n",
       "      <th>28914</th>\n",
       "      <td>[학위논문]</td>\n",
       "      <td>박사</td>\n",
       "      <td>NaN</td>\n",
       "      <td>Averbukh, V</td>\n",
       "      <td>Pricing American options using Monte Carlo sim...</td>\n",
       "      <td>Cornell University,</td>\n",
       "      <td>1997</td>\n",
       "    </tr>\n",
       "  </tbody>\n",
       "</table>\n",
       "<p>21827 rows × 7 columns</p>\n",
       "</div>"
      ],
      "text/plain": [
       "               char degree                                            journal  \\\n",
       "0      [학술지(정기간행물)]    NaN  Asia-Pacific Journal of Financial Studies 36 (...   \n",
       "1      [학술지(정기간행물)]    NaN                            회계학연구 30 (1) : 59 ~ 91,   \n",
       "2      [학술지(정기간행물)]    NaN      Journal of Financial Markets 5 (1) : 31 ~ 56,   \n",
       "3      [학술지(정기간행물)]    NaN  Journal of Financial Economics 38 (1) : 79 ~ 107,   \n",
       "4      [학술지(정기간행물)]    NaN  Journal of Accounting and Economics 38 (1) : 3...   \n",
       "5      [학술지(정기간행물)]    NaN             Journal of Finance 47 (2) : 552 ~ 576,   \n",
       "6      [학술지(정기간행물)]    NaN  Journal of Accounting and Economics 18 (1) : 4...   \n",
       "7      [학술지(정기간행물)]    NaN  Journal of Accounting and Economics 29 (1) : 1...   \n",
       "8      [학술지(정기간행물)]    NaN           Journal of Finance 52 (3) : 1035 ~ 1058,   \n",
       "9      [학술지(정기간행물)]    NaN             Journal of Finance 40 (3) : 793 ~ 805,   \n",
       "10     [학술지(정기간행물)]    NaN              Accounting Review 79 (2) : 355 ~ 386,   \n",
       "11     [학술지(정기간행물)]    NaN              Accounting Review 78 (1) : 353 ~ 371,   \n",
       "12     [학술지(정기간행물)]    NaN   Journal of Political Economy 81 (3) : 607 ~ 636,   \n",
       "13     [학술지(정기간행물)]    NaN    Journal of Financial Economics 33 (1) : 3 ~ 56,   \n",
       "14           [기타자료]    NaN                    EFA 2008 Athens Meetings Paper,   \n",
       "15     [학술지(정기간행물)]    NaN  Journal of Accounting and Economics 38 : 297 ~...   \n",
       "16           [기타자료]    NaN              Working Paper, Ohio State University,   \n",
       "17     [학술지(정기간행물)]    NaN  Journal of Accounting Research 40 (1) : 105 ~ ...   \n",
       "18           [기타자료]    NaN                                Working Paper, MIT,   \n",
       "19     [학술지(정기간행물)]    NaN   Journal of Accounting and Economics 42 : 3 ~ 33,   \n",
       "20     [학술지(정기간행물)]    NaN                   Econometrica 55 (3) : 703 ~ 708,   \n",
       "21           [기타자료]    NaN                     Working Paper, Wharton School,   \n",
       "22     [학술지(정기간행물)]    NaN  The Quarterly Journal of Economics 111 (4) : 1...   \n",
       "23     [학술지(정기간행물)]    NaN              Accounting Review 71 (3) : 289 ~ 315,   \n",
       "24     [학술지(정기간행물)]    NaN    Review of Accounting Studies 7 (2) : 163 ~ 187,   \n",
       "25     [학술지(정기간행물)]    NaN            Journal of Business 75 (4) : 583 ~ 608,   \n",
       "26     [학술지(정기간행물)]    NaN              Accounting Review 76 (3) : 357 ~ 373,   \n",
       "27           [기타자료]    NaN              Working Paper, Washington University,   \n",
       "28           [기타자료]    NaN          Working Paper, Yale School of Management,   \n",
       "29           [기타자료]    NaN               Working Paper, Ohio State University   \n",
       "...             ...    ...                                                ...   \n",
       "28885        [학위논문]     박사                                                NaN   \n",
       "28886        [학위논문]     석사                                                NaN   \n",
       "28887        [학위논문]     박사                                                NaN   \n",
       "28888        [학위논문]     석사                                                NaN   \n",
       "28889        [학위논문]     박사                                                NaN   \n",
       "28890        [학위논문]     석사                                                NaN   \n",
       "28891        [학위논문]     석사                                                NaN   \n",
       "28892        [학위논문]     석사                                                NaN   \n",
       "28893        [학위논문]     석사                                                NaN   \n",
       "28894        [학위논문]     박사                                                NaN   \n",
       "28895        [학위논문]     박사                                                NaN   \n",
       "28896        [학위논문]     박사                                                NaN   \n",
       "28897        [학위논문]     박사                                                NaN   \n",
       "28898        [학위논문]     석사                                                NaN   \n",
       "28899        [학위논문]     석사                                                NaN   \n",
       "28900        [학위논문]     석사                                                NaN   \n",
       "28901        [학위논문]     박사                                                NaN   \n",
       "28902        [학위논문]     석사                                                NaN   \n",
       "28903        [학위논문]     박사                                                NaN   \n",
       "28904        [학위논문]     석사                                                NaN   \n",
       "28905        [학위논문]     석사                                                NaN   \n",
       "28906        [학위논문]     박사                                                NaN   \n",
       "28907        [학위논문]     석사                                                NaN   \n",
       "28908        [학위논문]     석사                                                NaN   \n",
       "28909        [학위논문]     박사                                                NaN   \n",
       "28910        [학위논문]     석사                                                NaN   \n",
       "28911        [학위논문]     석사                                                NaN   \n",
       "28912        [학위논문]     박사                                                NaN   \n",
       "28913        [학위논문]     박사                                                NaN   \n",
       "28914        [학위논문]     박사                                                NaN   \n",
       "\n",
       "                         name  \\\n",
       "0                         고봉찬   \n",
       "1                         손병철   \n",
       "2               Amihud, Yakov   \n",
       "3                Ball, Ray, S   \n",
       "4               Basu, Sudipta   \n",
       "5        Bhardwaj, Ravinder K   \n",
       "6               Bhushan, Ravi   \n",
       "7           Collins, Daniel W   \n",
       "8                Daniel, Kent   \n",
       "9        DeBondt, Werner F. M   \n",
       "10              Desai, Hemang   \n",
       "11      Fairfield, Patricia M   \n",
       "12             Fama, Eugene F   \n",
       "13             Fama, Eugene F   \n",
       "14         Hardouvelis, Gikas   \n",
       "15         Hirshleifer, David   \n",
       "16                Hirshleifer   \n",
       "17               Hribar, Paul   \n",
       "18             Khan, Mozaffar   \n",
       "19      Mashruwala, Christina   \n",
       "20           Newey, Whitney K   \n",
       "21                Ng, Jeffrey   \n",
       "22             Pincus, Morton   \n",
       "23           Sloan, Richard G   \n",
       "24            Thomas, Jacob K   \n",
       "25           Wurgler, Jeffrey   \n",
       "26                  Xie, Hong   \n",
       "27               Zach, Tzachi   \n",
       "28            Zhang, Frank X.   \n",
       "29             Zhang, Yinglei   \n",
       "...                       ...   \n",
       "28885                     황인덕   \n",
       "28886                     여환영   \n",
       "28887               Ogneva, M   \n",
       "28888                     정효윤   \n",
       "28889                     조봉환   \n",
       "28890                     송재성   \n",
       "28891                     정효윤   \n",
       "28892                     박선동   \n",
       "28893                     장우성   \n",
       "28894              Harris, L.   \n",
       "28895                     권상수   \n",
       "28896                     김 솔   \n",
       "28897                     황상원   \n",
       "28898                     박정민   \n",
       "28899                     박준영   \n",
       "28900                     신일용   \n",
       "28901          Kang, Sung Soo   \n",
       "28902                 Yoon, J   \n",
       "28903                     문승동   \n",
       "28904                     김부식   \n",
       "28905                      정운   \n",
       "28906                     손경우   \n",
       "28907                     김기혁   \n",
       "28908                 Wei, X.   \n",
       "28909                     박성환   \n",
       "28910                     김동현   \n",
       "28911                     이수진   \n",
       "28912                     한영하   \n",
       "28913                  Low, A   \n",
       "28914             Averbukh, V   \n",
       "\n",
       "                                              paper_name  \\\n",
       "0                                      발생액 이상현상에 대한 위험평가   \n",
       "1                                발생액의 효율적 평가에 영향을 미치는 요인   \n",
       "2      Illiquidity and Stock Returns: Cross-Section a...   \n",
       "3      Problems in Measuring Portfolio Performance: A...   \n",
       "4      What Do We Learn from Two New Accounting-Based...   \n",
       "5      The January Anomaly: Effects of Low Share Pric...   \n",
       "6      An Informational Efficiency Perspective on the...   \n",
       "7      Earnings-Based and Accrual-Based Market Anomal...   \n",
       "8      Measuring Mutual Fund Performance with Charact...   \n",
       "9                       Does the Stock Market Overreact?   \n",
       "10     Value- Glamour and Accruals Mispricing: One An...   \n",
       "11     Accrued Earnings and Growth: Implications for ...   \n",
       "12         Risk, Return and Equilibrium: Empirical Tests   \n",
       "13     Common Risk Factors in the Returns on Stocks a...   \n",
       "14     Accruals, Net Stock Issues and Value-Glamour A...   \n",
       "15     Do Investors Overvalue Firms with Bloated Bala...   \n",
       "16              The Accrual Anomaly: Risk or Mispricing?   \n",
       "17     Errors in Estimating Accruals: Implications fo...   \n",
       "18     Are Accruals Really Mispriced? Evidence from T...   \n",
       "19     Why is the Accrual Anomaly not Arbitraged away...   \n",
       "20     A Simple, Positive Semi-Definite,Heteroskedast...   \n",
       "21                 Distress Risk Information in Accruals   \n",
       "22     The Accrual Anomaly: International Evidence, W...   \n",
       "23     Do Stock Prices Fully Reflect Information in A...   \n",
       "24                  Inventory Changes and Future Returns   \n",
       "25      Does Arbitrage Flatten Demand Curves for Stocks?   \n",
       "26                   The Mispricing of Abnormal Accruals   \n",
       "27     Evaluating the ‘Accrual-fixation’ Hypothesis a...   \n",
       "28         Accruals, Investment, and the Accrual Anomaly   \n",
       "29     Net Operating Assets as Predictor of Future St...   \n",
       "...                                                  ...   \n",
       "28885                                  구조조정기업의 성과에 관한 연구   \n",
       "28886                                 발생액의 질과 주식수익률 프리미엄   \n",
       "28887  Accrual quality and expected returns : The imp...   \n",
       "28888                         펀드플로우가 금융시장에 미치는 영향에 관한 연구   \n",
       "28889  국내은행의 역기능 현상에 관한 연구-중소기업 대출비중이 금융중개비용에 미치는 영향을...   \n",
       "28890                          통화파생상품의 사용이 정보비대칭에 미치는 영향   \n",
       "28891                         펀드플로우가 금융시장에 미치는 영향에 관한 연구   \n",
       "28892                 날씨파생상품 시장현황과 잠재수요분석: 농업과 전력산업 사례분석   \n",
       "28893              DLS 가치평가에 관한 연구(Gold, WTI 연계증권을 중심으로)   \n",
       "28894  A Theoretical and Empirical Analysis of the Di...   \n",
       "28895                   KOSPI 200 옵션 내재변동성의 정보유용성에 관한 연구   \n",
       "28896                          옵션가격결정모형의 실증적 비교분석에 관한 연구   \n",
       "28897  KOSPI 200 주가지수옵션 추정변동성의 실현변동성 설명력에 관한 비교연구：모델프...   \n",
       "28898              주가연계증권의 발행가격에 대한 연구-조기상환 주가연계증권을 중심으로   \n",
       "28899                           주가연계증권의 가격 결정과 헷징에 관한 연구   \n",
       "28900       주가연계증권의 가치평가와 헤징에 관한 연구-Barrier Option을 중심으로   \n",
       "28901                             Implied Finance Theory   \n",
       "28902  Analysis and Pricing for the Callable Equity L...   \n",
       "28903         한국분단 리스크프리미엄에 관한 연구 : Korea Discount를 중심으로   \n",
       "28904                          국가 CDS 프리미엄 변동요인에 대한 패널분석   \n",
       "28905                 국가 CDS프리미엄이 자본시장에 미치는 영향에 관한 실증 연구   \n",
       "28906  옵션과 주식 및 선물 간의 가격 비일관성에 대한 연구 : KOSPI 200 인덱스 ...   \n",
       "28907                      ELW 매출이 기초자산에 미치는 영향에 대한 실증분석   \n",
       "28908  The price effect and the issuance clustering a...   \n",
       "28909                           지방채발행의 추이분석과 영향구조에 관한 연구   \n",
       "28910                         국내 민간의료보험 시장의 역선택에 관한 실증연구   \n",
       "28911      민간의료보험이 의료수요에 미치는 영향 : 도덕적 해이와 역선택 효과의 실증적 구분   \n",
       "28912                  한국주택금융공사 보금자리론 조기상환율 추정 및 가치산정 연구   \n",
       "28913  Essays on asymmetric information in internatio...   \n",
       "28914  Pricing American options using Monte Carlo sim...   \n",
       "\n",
       "                                  school  year  \n",
       "0                                    NaN  2007  \n",
       "1                                    NaN  2005  \n",
       "2                                    NaN  2002  \n",
       "3                                    NaN  1995  \n",
       "4                                    NaN  2004  \n",
       "5                                    NaN  1992  \n",
       "6                                    NaN  1994  \n",
       "7                                    NaN  2000  \n",
       "8                                    NaN  1997  \n",
       "9                                    NaN  1995  \n",
       "10                                   NaN  2004  \n",
       "11                                   NaN  2003  \n",
       "12                                   NaN  1973  \n",
       "13                                   NaN  1993  \n",
       "14                                   NaN  2008  \n",
       "15                                   NaN  2004  \n",
       "16                                   NaN  2006  \n",
       "17                                   NaN  2002  \n",
       "18                                   NaN  2005  \n",
       "19                                   NaN  2006  \n",
       "20                                   NaN  1987  \n",
       "21                                   NaN  2004  \n",
       "22                                   NaN  1996  \n",
       "23                                   NaN  1996  \n",
       "24                                   NaN  2002  \n",
       "25                                   NaN  2002  \n",
       "26                                   NaN  2001  \n",
       "27                                   NaN  2004  \n",
       "28                                   NaN  2006  \n",
       "29                                   NaN  2005  \n",
       "...                                  ...   ...  \n",
       "28885                             숭실대학교,  2005  \n",
       "28886                           서울시립대학교,  2010  \n",
       "28887  University of Southern California  2008  \n",
       "28888                           서울시립대학교,  2010  \n",
       "28889                             숭실대학교,  2008  \n",
       "28890                           서울시립대학교,  2011  \n",
       "28891                       서울시립대학교 대학원,  2010  \n",
       "28892                         고려대학교 대학원,  2003  \n",
       "28893                             KAIST,  2006  \n",
       "28894             University of Chicago,  1982  \n",
       "28895                            성균관대학교,  2001  \n",
       "28896                           한국과학기술원,  2004  \n",
       "28897                             부경대학교,  2007  \n",
       "28898                             KAIST,  2006  \n",
       "28899                             아주대학교,  2007  \n",
       "28900                             KAIST,  2004  \n",
       "28901         Seoul National University,  2003  \n",
       "28902                              KAIST  2007  \n",
       "28903                             국민대학교,  2007  \n",
       "28904                          한국외국어대학교,  2011  \n",
       "28905                             인하대학교,  2010  \n",
       "28906                             서울대학교,  2013  \n",
       "28907                           한국과학기술원,  2010  \n",
       "28908  National University of Singapore,  2009  \n",
       "28909                         영남대학교 대학원,  2011  \n",
       "28910                         경희대학교 대학원,  2008  \n",
       "28911                         연세대학교 대학원,  2012  \n",
       "28912                         연세대학교 대학원,  2014  \n",
       "28913          University of California,  1992  \n",
       "28914                Cornell University,  1997  \n",
       "\n",
       "[21827 rows x 7 columns]"
      ]
     },
     "execution_count": 841,
     "metadata": {},
     "output_type": "execute_result"
    }
   ],
   "source": [
    "final_df.drop_duplicates()"
   ]
  }
 ],
 "metadata": {
  "kernelspec": {
   "display_name": "Python 3",
   "language": "python",
   "name": "python3"
  },
  "language_info": {
   "codemirror_mode": {
    "name": "ipython",
    "version": 3
   },
   "file_extension": ".py",
   "mimetype": "text/x-python",
   "name": "python",
   "nbconvert_exporter": "python",
   "pygments_lexer": "ipython3",
   "version": "3.6.6"
  }
 },
 "nbformat": 4,
 "nbformat_minor": 2
}
